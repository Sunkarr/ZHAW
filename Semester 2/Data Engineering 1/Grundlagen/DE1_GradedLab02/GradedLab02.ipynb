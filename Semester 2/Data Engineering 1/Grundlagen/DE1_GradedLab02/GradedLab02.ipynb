{
 "cells": [
  {
   "cell_type": "markdown",
   "metadata": {},
   "source": [
    "# Data Engineering 1: Graded Lab 02\n",
    "---------------"
   ]
  },
  {
   "cell_type": "markdown",
   "metadata": {},
   "source": [
    "# Grading\n",
    "For this graded lab you can get a total of 20 points. These 20 points count 10% of your final grade for the course.\n",
    "\n",
    "#### Start\n",
    "Start of the Graded Lab 02 is **Wednesday, May 04th at 23:55**.\n",
    "\n",
    "#### Deadline\n",
    "Deadline for the submission of the Graded Lab 02 is **Wednesday, May 19th at 23:59**.\n",
    "\n",
    "#### Note\n",
    "Check each result carefully. Use data filter, cleaning, and transformation methods wherever needed. The data can sometimes be really messy and have hidden issues.\n",
    "\n",
    "#### Submission\n",
    "You are allowed to submit the solution in groups of **two or three** students.\n",
    "Submit your GradedLab02.ipynb file renamed to FirstnameStudent01LastnameStudent01_FirstnameStudent02LastnameStudent02_FirstnameStudent03LastnameStudent03.ipynb in moodle.   \n",
    "Please submit a runnable python jupyter notebook file.\n",
    "All other submissions will be rejected and graded with 0 points."
   ]
  },
  {
   "cell_type": "markdown",
   "metadata": {},
   "source": [
    "#### Task 01: Data Engineering with MongoDB [8 points].    \n",
    "The 'restaurants_mongodb.json' file contains a dataset with a collection of restaurant information. In this task we work with this data and the MongoDB database. Run a MongoDB community server (see here https://www.mongodb.com/try/download/community) on your machine and connect to it with the python library 'pymongo'. It is also allowed to formulate and run the queries by using a MongoDB GUI. If you choose this option just copy and paste the queries into the cell (c) below."
   ]
  },
  {
   "cell_type": "markdown",
   "metadata": {},
   "source": [
    "##### __(a)  Create a database called data and a collection called restaurants in the database data.__ "
   ]
  },
  {
   "cell_type": "code",
   "execution_count": null,
   "metadata": {},
   "outputs": [],
   "source": [
    "# Type your code here or use a MongoDB GUI."
   ]
  },
  {
   "cell_type": "markdown",
   "metadata": {},
   "source": [
    "##### __(b)  Insert the documents from the file 'restaurants.json' into the collection restaurants.__ "
   ]
  },
  {
   "cell_type": "code",
   "execution_count": null,
   "metadata": {},
   "outputs": [],
   "source": [
    "# Type your code here or use a MongoDB GUI."
   ]
  },
  {
   "cell_type": "markdown",
   "metadata": {},
   "source": [
    "##### (c)  Write the queries to print the requested results.\n",
    "\n",
    "* (1) write the query to print the total number of documents in the collection 'restaurants'\n",
    "* (2) write the query to print 5 restaurant names with 'Bronx' as borough from the collection 'restaurants'\n",
    "* (3) Write the query to print the restaurant names that achieved a score, more than 80 but less than 100 from the c collection 'restaurants'\n",
    "* (4) Write the query to print the restaurant names for those restaurants which contain 'Wil' as first three letters in its name.\n",
    "* (5) Write the query to print the restaurant names which are not belonging to the borough Staten Island or Queens or Bronx or Brooklyn.\n",
    "* (6) Write the query to print each borough and the number of restaurants for each borough (hint: use the grouping function)\n",
    "* (7) Write the query to print the restaurant names which have the term 'Mexican' in the name attribute but don't have mexican as content in the cuisine attribute.\n",
    "* (8) Write the query to print all names of bakeries with 'sugar' in the name."
   ]
  },
  {
   "cell_type": "code",
   "execution_count": null,
   "metadata": {},
   "outputs": [],
   "source": [
    "# Option 1: type your code here"
   ]
  },
  {
   "cell_type": "raw",
   "metadata": {},
   "source": [
    "Option 2: type your queries here"
   ]
  },
  {
   "cell_type": "markdown",
   "metadata": {},
   "source": [
    "#### Task 02:  Data Engineering with  BaseX [8 points]. \n",
    "Install the BaseX XML database and create a database with the file 'restaurants_basex.json'. Formulate all queries from the Task 01 (1) to (8) with XPath/XQuery in BaseX. The content of both json files is the same, so you should retrieve the same results as with the MongoDB solution. You can execute the queries directly in the BaseX GUI. After succesful execution in BaseX just copy and paste the queries into the cell below. If a query is not expressible in XPath/XQuery write down not possible and the reason."
   ]
  },
  {
   "cell_type": "markdown",
   "metadata": {},
   "source": [
    "Answer...\n",
    "\n",
    "(1)\n",
    "\n",
    "(2)\n",
    "\n",
    "(3)\n",
    "\n",
    "(4)\n",
    "\n",
    "(5)\n",
    "\n",
    "(6)\n",
    "\n",
    "(7)\n",
    "\n",
    "(8)"
   ]
  },
  {
   "cell_type": "markdown",
   "metadata": {},
   "source": [
    "#### Task 03: Conclusions [4 points]. \n",
    "Write 5-10 sentences with your conclusions concerning performance, usability etc. between using MongoDB and BaseX."
   ]
  },
  {
   "cell_type": "markdown",
   "metadata": {},
   "source": [
    "Answer..."
   ]
  }
 ],
 "metadata": {
  "kernelspec": {
   "display_name": "Python 3",
   "language": "python",
   "name": "python3"
  },
  "language_info": {
   "codemirror_mode": {
    "name": "ipython",
    "version": 3
   },
   "file_extension": ".py",
   "mimetype": "text/x-python",
   "name": "python",
   "nbconvert_exporter": "python",
   "pygments_lexer": "ipython3",
   "version": "3.8.6"
  }
 },
 "nbformat": 4,
 "nbformat_minor": 4
}
