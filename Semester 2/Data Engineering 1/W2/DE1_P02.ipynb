{
 "cells": [
  {
   "cell_type": "markdown",
   "metadata": {},
   "source": [
    "# Data Engineering: Lab 02\n",
    "---------------"
   ]
  },
  {
   "cell_type": "markdown",
   "metadata": {},
   "source": [
    "### Task 01: Create data frame called df_beers containing 5 names of beers, their type, alcohol value, and the brewing company."
   ]
  },
  {
   "cell_type": "code",
   "execution_count": 2,
   "metadata": {
    "ExecuteTime": {
     "end_time": "2024-02-29T16:22:18.302698Z",
     "start_time": "2024-02-29T16:22:17.815043Z"
    }
   },
   "outputs": [
    {
     "name": "stdout",
     "output_type": "stream",
     "text": [
      "                       Name      Type  Alcohol Value Brewing Company\n",
      "0             Feldschlössli     Pilse             10   Feldschlössli\n",
      "1                 Heinecken     Pilse             20       Heinecken\n",
      "2                     Boxer  Pale Ale             30          Pfütze\n",
      "3  Feldschlössli Braufrisch     Pilse             40   Feldschlössli\n",
      "4                   Chopfab     Pilse             50           Boxer\n"
     ]
    }
   ],
   "source": [
    "import pandas as pd\n",
    "\n",
    "beers = pd.DataFrame(\n",
    "    {\"Name\" : [\"Feldschlössli\", \"Heinecken\", \"Boxer\", \"Feldschlössli Braufrisch\", \"Chopfab\"],\n",
    "     \"Type\" : [\"Pilse\", \"Pilse\", \"Pale Ale\", \"Pilse\", \"Pilse\"],\n",
    "     \"Alcohol Value\" : [10, 20, 30, 40, 50],\n",
    "     \"Brewing Company\" : [\"Feldschlössli\", \"Heinecken\", \"Pfütze\", \"Feldschlössli\", \"Boxer\"]})\n",
    "    \n",
    "print(beers)"
   ]
  },
  {
   "cell_type": "markdown",
   "metadata": {},
   "source": [
    "### Task 02: Creating a dataframe from csv"
   ]
  },
  {
   "cell_type": "markdown",
   "metadata": {},
   "source": [
    "##### a) Create a DataFrame called meteorites with the meteorite_landings.csv file."
   ]
  },
  {
   "cell_type": "code",
   "execution_count": 3,
   "metadata": {
    "ExecuteTime": {
     "end_time": "2024-02-29T16:22:18.361662Z",
     "start_time": "2024-02-29T16:22:18.303702Z"
    }
   },
   "outputs": [
    {
     "name": "stdout",
     "output_type": "stream",
     "text": [
      "           Aachen  Valid                     L5        21   Fell  \\\n",
      "0          Aarhus  Valid                     H6     720.0   Fell   \n",
      "1            Abee  Valid                    EH4  107000.0   Fell   \n",
      "2        Acapulco  Valid            Acapulcoite    1914.0   Fell   \n",
      "3         Achiras  Valid                     L6     780.0   Fell   \n",
      "4        Adhi Kot  Valid                    EH4    4239.0   Fell   \n",
      "...           ...    ...                    ...       ...    ...   \n",
      "45710  Zillah 002  Valid                Eucrite     172.0  Found   \n",
      "45711      Zinder  Valid  Pallasite & ungrouped      46.0  Found   \n",
      "45712        Zlin  Valid                     H4       3.3  Found   \n",
      "45713   Zubkovsky  Valid                     L6    2167.0  Found   \n",
      "45714  Zulu Queen  Valid                   L3.7     200.0  Found   \n",
      "\n",
      "       01/01/1880 12:00:00 AM      1    50.775    6.08333  \n",
      "0      01/01/1951 12:00:00 AM      2  56.18333   10.23333  \n",
      "1      01/01/1952 12:00:00 AM      6  54.21667 -113.00000  \n",
      "2      01/01/1976 12:00:00 AM     10  16.88333  -99.90000  \n",
      "3      01/01/1902 12:00:00 AM    370 -33.16667  -64.95000  \n",
      "4      01/01/1919 12:00:00 AM    379  32.10000   71.80000  \n",
      "...                       ...    ...       ...        ...  \n",
      "45710  01/01/1990 12:00:00 AM  31356  29.03700   17.01850  \n",
      "45711  01/01/1999 12:00:00 AM  30409  13.78333    8.96667  \n",
      "45712  01/01/1939 12:00:00 AM  30410  49.25000   17.66667  \n",
      "45713  01/01/2003 12:00:00 AM  31357  49.78917   41.50460  \n",
      "45714  01/01/1976 12:00:00 AM  30414  33.98333 -115.68333  \n",
      "\n",
      "[45715 rows x 9 columns]\n"
     ]
    }
   ],
   "source": [
    "meteorites = pd.read_csv(\"C:\\\\Users\\\\jonas\\\\OneDrive\\\\Dokumente\\\\GitHub\\\\ZHAW\\\\Semester 2\\\\Data Engineering 1\\\\Grundlagen\\\\DE_Lab02_WorkingWithData\\\\DE_Lab02_WorkingWithData_meteorite_landings.csv\")\n",
    "\n",
    "print(meteorites)\n"
   ]
  },
  {
   "cell_type": "markdown",
   "metadata": {},
   "source": [
    "##### b) Print the top5 entries of your DataFrame and check if everything is ok. What information is missing?"
   ]
  },
  {
   "cell_type": "code",
   "execution_count": 4,
   "metadata": {
    "ExecuteTime": {
     "end_time": "2024-02-29T16:22:18.368348Z",
     "start_time": "2024-02-29T16:22:18.362667Z"
    }
   },
   "outputs": [
    {
     "name": "stdout",
     "output_type": "stream",
     "text": [
      "     Aachen  Valid           L5        21  Fell  01/01/1880 12:00:00 AM    1  \\\n",
      "0    Aarhus  Valid           H6     720.0  Fell  01/01/1951 12:00:00 AM    2   \n",
      "1      Abee  Valid          EH4  107000.0  Fell  01/01/1952 12:00:00 AM    6   \n",
      "2  Acapulco  Valid  Acapulcoite    1914.0  Fell  01/01/1976 12:00:00 AM   10   \n",
      "3   Achiras  Valid           L6     780.0  Fell  01/01/1902 12:00:00 AM  370   \n",
      "4  Adhi Kot  Valid          EH4    4239.0  Fell  01/01/1919 12:00:00 AM  379   \n",
      "\n",
      "     50.775    6.08333  \n",
      "0  56.18333   10.23333  \n",
      "1  54.21667 -113.00000  \n",
      "2  16.88333  -99.90000  \n",
      "3 -33.16667  -64.95000  \n",
      "4  32.10000   71.80000  \n"
     ]
    }
   ],
   "source": [
    "print(meteorites[0:5])"
   ]
  },
  {
   "cell_type": "markdown",
   "metadata": {},
   "source": [
    "##### c) Create the DataFrame again with the missing information and print the top5 entries."
   ]
  },
  {
   "cell_type": "code",
   "execution_count": 5,
   "metadata": {
    "ExecuteTime": {
     "end_time": "2024-02-29T16:22:18.426272Z",
     "start_time": "2024-02-29T16:22:18.369352Z"
    }
   },
   "outputs": [
    {
     "name": "stdout",
     "output_type": "stream",
     "text": [
      "                0      1                      2         3      4  \\\n",
      "0          Aachen  Valid                     L5      21.0   Fell   \n",
      "1          Aarhus  Valid                     H6     720.0   Fell   \n",
      "2            Abee  Valid                    EH4  107000.0   Fell   \n",
      "3        Acapulco  Valid            Acapulcoite    1914.0   Fell   \n",
      "4         Achiras  Valid                     L6     780.0   Fell   \n",
      "...           ...    ...                    ...       ...    ...   \n",
      "45711  Zillah 002  Valid                Eucrite     172.0  Found   \n",
      "45712      Zinder  Valid  Pallasite & ungrouped      46.0  Found   \n",
      "45713        Zlin  Valid                     H4       3.3  Found   \n",
      "45714   Zubkovsky  Valid                     L6    2167.0  Found   \n",
      "45715  Zulu Queen  Valid                   L3.7     200.0  Found   \n",
      "\n",
      "                            5      6         7          8  \n",
      "0      01/01/1880 12:00:00 AM      1  50.77500    6.08333  \n",
      "1      01/01/1951 12:00:00 AM      2  56.18333   10.23333  \n",
      "2      01/01/1952 12:00:00 AM      6  54.21667 -113.00000  \n",
      "3      01/01/1976 12:00:00 AM     10  16.88333  -99.90000  \n",
      "4      01/01/1902 12:00:00 AM    370 -33.16667  -64.95000  \n",
      "...                       ...    ...       ...        ...  \n",
      "45711  01/01/1990 12:00:00 AM  31356  29.03700   17.01850  \n",
      "45712  01/01/1999 12:00:00 AM  30409  13.78333    8.96667  \n",
      "45713  01/01/1939 12:00:00 AM  30410  49.25000   17.66667  \n",
      "45714  01/01/2003 12:00:00 AM  31357  49.78917   41.50460  \n",
      "45715  01/01/1976 12:00:00 AM  30414  33.98333 -115.68333  \n",
      "\n",
      "[45716 rows x 9 columns]\n"
     ]
    }
   ],
   "source": [
    "meteorites = pd.read_csv(\"C:\\\\Users\\\\jonas\\\\OneDrive\\\\Dokumente\\\\GitHub\\\\ZHAW\\\\Semester 2\\\\Data Engineering 1\\\\Grundlagen\\\\DE_Lab02_WorkingWithData\\\\DE_Lab02_WorkingWithData_meteorite_landings.csv\", header=None)\n",
    "\n",
    "print(meteorites)\n"
   ]
  },
  {
   "cell_type": "markdown",
   "metadata": {},
   "source": [
    "### Task 03: Extracting subsets"
   ]
  },
  {
   "cell_type": "markdown",
   "metadata": {},
   "source": [
    "##### a) Use the query method to extract the meteorites with mass(g) greater then 50000."
   ]
  },
  {
   "cell_type": "code",
   "execution_count": 6,
   "metadata": {
    "ExecuteTime": {
     "end_time": "2024-02-29T16:22:18.436299Z",
     "start_time": "2024-02-29T16:22:18.427278Z"
    }
   },
   "outputs": [
    {
     "name": "stdout",
     "output_type": "stream",
     "text": [
      "                  0      1                   2          3      4  \\\n",
      "2              Abee  Valid                 EH4   107000.0   Fell   \n",
      "27       Alfianello  Valid                  L6   228000.0   Fell   \n",
      "29          Allende  Valid                 CV3  2000000.0   Fell   \n",
      "84     Bath Furnace  Valid                  L6    86000.0   Fell   \n",
      "120        Bjurböle  Valid               L/LL4   330000.0   Fell   \n",
      "...             ...    ...                 ...        ...    ...   \n",
      "45700      Zaragoza  Valid       Iron & IVA-an   162000.0  Found   \n",
      "45705      Zerhamra  Valid     Iron & IIIAB-an   630000.0  Found   \n",
      "45707      Zhaoping  Valid  Iron & IAB complex  2000000.0  Found   \n",
      "45708      Zhigansk  Valid        Iron & IIIAB   900000.0  Found   \n",
      "45709    Zhongxiang  Valid                Iron   100000.0  Found   \n",
      "\n",
      "                            5      6         7          8  \n",
      "2      01/01/1952 12:00:00 AM      6  54.21667 -113.00000  \n",
      "27     01/01/1883 12:00:00 AM    466  45.26667   10.15000  \n",
      "29     01/01/1969 12:00:00 AM   2278  26.96667 -105.31667  \n",
      "84     01/01/1902 12:00:00 AM   4975  38.25000  -83.75000  \n",
      "120    01/01/1899 12:00:00 AM   5064  60.40000   25.80000  \n",
      "...                       ...    ...       ...        ...  \n",
      "45700                     NaN  48916  41.65000   -0.86667  \n",
      "45705  01/01/1967 12:00:00 AM  30403  29.85861   -2.64500  \n",
      "45707  01/01/1983 12:00:00 AM  54609  24.23333  111.18333  \n",
      "45708  01/01/1966 12:00:00 AM  30405  68.00000  128.30000  \n",
      "45709  01/01/1981 12:00:00 AM  30406  31.20000  112.50000  \n",
      "\n",
      "[459 rows x 9 columns]\n"
     ]
    }
   ],
   "source": [
    "print(meteorites[meteorites[3] > 50000])"
   ]
  },
  {
   "cell_type": "markdown",
   "metadata": {},
   "source": [
    "##### b) Use the query method to extract the meteorites with mass(g) greater then 50000 and fall equals 'Fell' and nametype equals 'Valid'."
   ]
  },
  {
   "cell_type": "code",
   "execution_count": 7,
   "metadata": {
    "ExecuteTime": {
     "end_time": "2024-02-29T16:22:18.450448Z",
     "start_time": "2024-02-29T16:22:18.436846Z"
    }
   },
   "outputs": [
    {
     "name": "stdout",
     "output_type": "stream",
     "text": [
      "                 0      1                   2          3     4  \\\n",
      "2             Abee  Valid                 EH4   107000.0  Fell   \n",
      "27      Alfianello  Valid                  L6   228000.0  Fell   \n",
      "29         Allende  Valid                 CV3  2000000.0  Fell   \n",
      "84    Bath Furnace  Valid                  L6    86000.0  Fell   \n",
      "120       Bjurböle  Valid               L/LL4   330000.0  Fell   \n",
      "...            ...    ...                 ...        ...   ...   \n",
      "1077      Xingyang  Valid                  H6    75500.0  Fell   \n",
      "1082      Yardymly  Valid  Iron & IAB complex   150200.0  Fell   \n",
      "1091           Zag  Valid                H3-6   175000.0  Fell   \n",
      "1097         Zavid  Valid                  L6    95000.0  Fell   \n",
      "1101    Zhovtnevyi  Valid                  H6   107000.0  Fell   \n",
      "\n",
      "                           5      6         7          8  \n",
      "2     01/01/1952 12:00:00 AM      6  54.21667 -113.00000  \n",
      "27    01/01/1883 12:00:00 AM    466  45.26667   10.15000  \n",
      "29    01/01/1969 12:00:00 AM   2278  26.96667 -105.31667  \n",
      "84    01/01/1902 12:00:00 AM   4975  38.25000  -83.75000  \n",
      "120   01/01/1899 12:00:00 AM   5064  60.40000   25.80000  \n",
      "...                      ...    ...       ...        ...  \n",
      "1077  01/01/1977 12:00:00 AM  24346  32.33333  114.31667  \n",
      "1082  01/01/1959 12:00:00 AM  30352  38.93333   48.25000  \n",
      "1091  01/01/1998 12:00:00 AM  30384  27.33333   -9.33333  \n",
      "1097  01/01/1897 12:00:00 AM  30396  44.40000   19.11667  \n",
      "1101  01/01/1938 12:00:00 AM  30407  47.58333   37.25000  \n",
      "\n",
      "[89 rows x 9 columns]\n"
     ]
    }
   ],
   "source": [
    "print(meteorites[(meteorites[3] > 50000) & (meteorites[4] == \"Fell\") & (meteorites[1] == \"Valid\")])"
   ]
  },
  {
   "cell_type": "markdown",
   "metadata": {},
   "source": [
    "##### c) Use the query method to extract the meteorites with mass(g) greater then 100000 and the substring 'ur' in the name."
   ]
  },
  {
   "cell_type": "code",
   "execution_count": 11,
   "metadata": {
    "ExecuteTime": {
     "end_time": "2024-02-29T16:24:47.153584Z",
     "start_time": "2024-02-29T16:24:47.119662Z"
    }
   },
   "outputs": [
    {
     "name": "stdout",
     "output_type": "stream",
     "text": [
      "                   0      1                   2          3      4  \\\n",
      "120         Bjurböle  Valid               L/LL4   330000.0   Fell   \n",
      "149      Bur-Gheluai  Valid                  H5   120000.0   Fell   \n",
      "5089         Bitburg  Valid  Iron & IAB complex  1500000.0  Found   \n",
      "5220    Buenaventura  Valid        Iron & IIIAB   113600.0  Found   \n",
      "5224        Bur-Abor  Valid        Iron & IIIAB   290000.0  Found   \n",
      "5575      Cranbourne  Valid       Iron & IAB-MG  8600000.0  Found   \n",
      "9179         Durango  Valid        Iron & IIIAB   164000.0  Found   \n",
      "16368        Henbury  Valid        Iron & IIIAB  2000000.0  Found   \n",
      "16525     Itapuranga  Valid       Iron & IAB-MG   628000.0  Found   \n",
      "17451    Lake Murray  Valid         Iron & IIAB   270000.0  Found   \n",
      "22879         Magura  Valid       Iron & IAB-MG   150000.0  Found   \n",
      "26207  Mount Padbury  Valid     Mesosiderite-A1   272000.0  Found   \n",
      "26317     Murnpeowie  Valid           Iron & IC  1143000.0  Found   \n",
      "37418         Scurry  Valid                  H5   118000.0  Found   \n",
      "\n",
      "                            5      6         7          8  \n",
      "120    01/01/1899 12:00:00 AM   5064  60.40000   25.80000  \n",
      "149    01/01/1919 12:00:00 AM   5169   5.00000   48.00000  \n",
      "5089   01/01/1805 12:00:00 AM   5062  49.96667    6.53333  \n",
      "5220   01/01/1969 12:00:00 AM   5162  29.80000 -107.55000  \n",
      "5224   01/01/1997 12:00:00 AM   5166   3.98333   41.65000  \n",
      "5575   01/01/1854 12:00:00 AM   5463 -38.10000  145.30000  \n",
      "9179   01/01/1804 12:00:00 AM   7751       NaN        NaN  \n",
      "16368  01/01/1931 12:00:00 AM  11872 -24.56667  133.16667  \n",
      "16525                     NaN  12057 -15.58333  -50.15000  \n",
      "17451  01/01/1933 12:00:00 AM  12446  34.10000  -97.00000  \n",
      "22879  01/01/1840 12:00:00 AM  15388  49.33333   19.48333  \n",
      "26207  01/01/1964 12:00:00 AM  16785 -25.66667  118.10000  \n",
      "26317  01/01/1909 12:00:00 AM  16878 -29.58333  139.90000  \n",
      "37418  01/01/1937 12:00:00 AM  23468  32.50000 -101.00000  \n"
     ]
    }
   ],
   "source": [
    "print(meteorites[(meteorites[3] > 100000) & meteorites[0].str.contains('ur')])"
   ]
  },
  {
   "cell_type": "markdown",
   "metadata": {},
   "source": [
    "### Task 04:  Working with the dataframe"
   ]
  },
  {
   "cell_type": "markdown",
   "metadata": {},
   "source": [
    "##### a) Add a column with the name 'just_year' which contains only the year of the 'year' column."
   ]
  },
  {
   "cell_type": "code",
   "execution_count": 26,
   "metadata": {
    "ExecuteTime": {
     "end_time": "2024-02-29T16:40:14.904430Z",
     "start_time": "2024-02-29T16:40:14.835752Z"
    }
   },
   "outputs": [
    {
     "name": "stdout",
     "output_type": "stream",
     "text": [
      "                0      1                      2         3      4  \\\n",
      "0          Aachen  Valid                     L5      21.0   Fell   \n",
      "1          Aarhus  Valid                     H6     720.0   Fell   \n",
      "2            Abee  Valid                    EH4  107000.0   Fell   \n",
      "3        Acapulco  Valid            Acapulcoite    1914.0   Fell   \n",
      "4         Achiras  Valid                     L6     780.0   Fell   \n",
      "...           ...    ...                    ...       ...    ...   \n",
      "45711  Zillah 002  Valid                Eucrite     172.0  Found   \n",
      "45712      Zinder  Valid  Pallasite & ungrouped      46.0  Found   \n",
      "45713        Zlin  Valid                     H4       3.3  Found   \n",
      "45714   Zubkovsky  Valid                     L6    2167.0  Found   \n",
      "45715  Zulu Queen  Valid                   L3.7     200.0  Found   \n",
      "\n",
      "                            5      6         7          8  just_year  \n",
      "0      01/01/1880 12:00:00 AM      1  50.77500    6.08333     1880.0  \n",
      "1      01/01/1951 12:00:00 AM      2  56.18333   10.23333     1951.0  \n",
      "2      01/01/1952 12:00:00 AM      6  54.21667 -113.00000     1952.0  \n",
      "3      01/01/1976 12:00:00 AM     10  16.88333  -99.90000     1976.0  \n",
      "4      01/01/1902 12:00:00 AM    370 -33.16667  -64.95000     1902.0  \n",
      "...                       ...    ...       ...        ...        ...  \n",
      "45711  01/01/1990 12:00:00 AM  31356  29.03700   17.01850     1990.0  \n",
      "45712  01/01/1999 12:00:00 AM  30409  13.78333    8.96667     1999.0  \n",
      "45713  01/01/1939 12:00:00 AM  30410  49.25000   17.66667     1939.0  \n",
      "45714  01/01/2003 12:00:00 AM  31357  49.78917   41.50460     2003.0  \n",
      "45715  01/01/1976 12:00:00 AM  30414  33.98333 -115.68333     1976.0  \n",
      "\n",
      "[45716 rows x 10 columns]\n"
     ]
    }
   ],
   "source": [
    "meteorites[\"just_year\"] = meteorites[5].str.extract(r'(\\d{2}/\\d{2}/(\\d{4}))')[1]\n",
    "meteorites[\"just_year\"] = pd.to_numeric(meteorites[\"just_year\"])\n",
    "\n",
    "\n",
    "print(meteorites)"
   ]
  },
  {
   "cell_type": "markdown",
   "metadata": {},
   "source": [
    "##### b) Then add a column 'age', which contains the difference of the current year and the data in the 'just_year' column. For all entries with NaN in the year column set the age to 0."
   ]
  },
  {
   "cell_type": "code",
   "execution_count": 32,
   "metadata": {
    "ExecuteTime": {
     "end_time": "2024-02-29T16:49:04.731222Z",
     "start_time": "2024-02-29T16:49:04.721789Z"
    }
   },
   "outputs": [
    {
     "name": "stdout",
     "output_type": "stream",
     "text": [
      "                0      1                      2         3      4  \\\n",
      "0          Aachen  Valid                     L5      21.0   Fell   \n",
      "1          Aarhus  Valid                     H6     720.0   Fell   \n",
      "2            Abee  Valid                    EH4  107000.0   Fell   \n",
      "3        Acapulco  Valid            Acapulcoite    1914.0   Fell   \n",
      "4         Achiras  Valid                     L6     780.0   Fell   \n",
      "...           ...    ...                    ...       ...    ...   \n",
      "45711  Zillah 002  Valid                Eucrite     172.0  Found   \n",
      "45712      Zinder  Valid  Pallasite & ungrouped      46.0  Found   \n",
      "45713        Zlin  Valid                     H4       3.3  Found   \n",
      "45714   Zubkovsky  Valid                     L6    2167.0  Found   \n",
      "45715  Zulu Queen  Valid                   L3.7     200.0  Found   \n",
      "\n",
      "                            5      6         7          8  just_year    age  \n",
      "0      01/01/1880 12:00:00 AM      1  50.77500    6.08333     1880.0  144.0  \n",
      "1      01/01/1951 12:00:00 AM      2  56.18333   10.23333     1951.0   73.0  \n",
      "2      01/01/1952 12:00:00 AM      6  54.21667 -113.00000     1952.0   72.0  \n",
      "3      01/01/1976 12:00:00 AM     10  16.88333  -99.90000     1976.0   48.0  \n",
      "4      01/01/1902 12:00:00 AM    370 -33.16667  -64.95000     1902.0  122.0  \n",
      "...                       ...    ...       ...        ...        ...    ...  \n",
      "45711  01/01/1990 12:00:00 AM  31356  29.03700   17.01850     1990.0   34.0  \n",
      "45712  01/01/1999 12:00:00 AM  30409  13.78333    8.96667     1999.0   25.0  \n",
      "45713  01/01/1939 12:00:00 AM  30410  49.25000   17.66667     1939.0   85.0  \n",
      "45714  01/01/2003 12:00:00 AM  31357  49.78917   41.50460     2003.0   21.0  \n",
      "45715  01/01/1976 12:00:00 AM  30414  33.98333 -115.68333     1976.0   48.0  \n",
      "\n",
      "[45716 rows x 11 columns]\n",
      "1723.0\n"
     ]
    }
   ],
   "source": [
    "meteorites[\"age\"] = 2024 - meteorites[\"just_year\"]\n",
    "meteorites['age'].replace('Nan', '0')\n",
    "max = meteorites[\"age\"].max()\n",
    "\n",
    "print(meteorites)\n",
    "print(max)"
   ]
  },
  {
   "cell_type": "markdown",
   "metadata": {},
   "source": [
    "### Task 05: Reading\n",
    "Take your list of the top12 most important and interesting sections of the ebook \"97 Things Every Data Engineer Should Know\". Read the next top3 sections of your list and write down the most important points of the section with three bullet points each."
   ]
  }
 ],
 "metadata": {
  "kernelspec": {
   "display_name": "Python 3",
   "language": "python",
   "name": "python3"
  },
  "language_info": {
   "codemirror_mode": {
    "name": "ipython",
    "version": 3
   },
   "file_extension": ".py",
   "mimetype": "text/x-python",
   "name": "python",
   "nbconvert_exporter": "python",
   "pygments_lexer": "ipython3",
   "version": "3.8.6"
  }
 },
 "nbformat": 4,
 "nbformat_minor": 4
}
