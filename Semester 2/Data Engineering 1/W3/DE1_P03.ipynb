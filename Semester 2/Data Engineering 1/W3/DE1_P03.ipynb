{
 "cells": [
  {
   "cell_type": "markdown",
   "metadata": {},
   "source": [
    "# Data Engineering 1: Lab 03\n",
    "---------------"
   ]
  },
  {
   "cell_type": "markdown",
   "metadata": {
    "id": "6Ijg5wUCTQYG"
   },
   "source": [
    "## **The Dataset**\n",
    "\n",
    "The dataset to be used in this lab is a CSV file named `airbnb.csv`, which contains data on airbnb listings in the state of New York. It contains the following columns:\n",
    "\n",
    "- `listing_id`: The unique identifier for a listing\n",
    "- `description`: The description used on the listing\n",
    "- `host_id`: Unique identifier for a host\n",
    "- `host_name`: Name of host\n",
    "- `neighbourhood_full`: Name of boroughs and neighbourhoods\n",
    "- `coordinates`: Coordinates of listing _(latitude, longitude)_\n",
    "- `Listing added`: Date of added listing\n",
    "- `room_type`: Type of room \n",
    "- `rating`: Rating from 0 to 5.\n",
    "- `price`: Price per night for listing\n",
    "- `number_of_reviews`: Amount of reviews received \n",
    "- `last_review`: Date of last review\n",
    "- `reviews_per_month`: Number of reviews per month\n",
    "- `availability_365`: Number of days available per year\n",
    "- `Number of stays`: Total number of stays thus far\n"
   ]
  },
  {
   "cell_type": "markdown",
   "metadata": {
    "id": "BMYfcKeDY85K"
   },
   "source": [
    "## **Getting started**"
   ]
  },
  {
   "cell_type": "code",
   "execution_count": 1,
   "metadata": {
    "id": "EMQfyC7GUNhT",
    "ExecuteTime": {
     "end_time": "2024-03-07T17:47:43.944281Z",
     "start_time": "2024-03-07T17:47:43.444947Z"
    }
   },
   "outputs": [],
   "source": [
    "# Import libraries\n",
    "import pandas as pd\n",
    "import numpy as np\n",
    "import datetime as dt"
   ]
  },
  {
   "cell_type": "code",
   "outputs": [],
   "source": [
    "# Read in the dataset\n",
    "\n",
    "airbnb = pd.read_csv('../Grundlagen/DE1_Lab03/DE1_Lab03_airbnb.csv', index_col = 'Unnamed: 0')\n"
   ],
   "metadata": {
    "collapsed": false,
    "ExecuteTime": {
     "end_time": "2024-03-07T17:47:43.990290Z",
     "start_time": "2024-03-07T17:47:43.945292Z"
    }
   },
   "execution_count": 2
  },
  {
   "cell_type": "markdown",
   "metadata": {
    "id": "1ui1uvtyZwfQ"
   },
   "source": [
    "## **Diagnosing data cleaning problems using simple `pandas`** "
   ]
  },
  {
   "cell_type": "markdown",
   "metadata": {
    "id": "t3fgtos4Z6Xa"
   },
   "source": [
    "Some important and common methods needed to get a better understanding of DataFrames and diagnose potential data problems are the following: \n",
    "\n",
    "- `.head()` prints the header of a DataFrame\n",
    "- `.dtypes` prints datatypes of all columns in a DataFrame\n",
    "- `.info()` provides a bird's eye view of column data types and missing values in a DataFrame\n",
    "- `.describe()` returns a distribution of numeric columns in your DataFrame\n",
    "- `.isna().sum()` allows us to break down the number of missing values per column in our DataFrame\n",
    "- `.unique()` finds the number of unique values in a DataFrame column"
   ]
  },
  {
   "cell_type": "markdown",
   "metadata": {
    "id": "WqwmfLp9lKjU"
   },
   "source": [
    "## **Our task list:**\n",
    "\n",
    "_Data type problems:_\n",
    "\n",
    "- **Task 1:** Split `coordinates` into 2 columns (`latitude` and `longitude`) and convert them to `float`.\n",
    "- **Task 2**: Remove `$` from `price` and convert it to `float`\n",
    "- **Task 3**: Convert `listing_added` and `last_review` to `datetime`\n",
    "\n",
    "<br>\n",
    "\n",
    "_Text/categorical data problems:_\n",
    "\n",
    "- **Task 4**: We need to collapse `room_type` into correct categories\n",
    "- **Task 5**: Divide `neighbourhood_full` into 2 columns and making sure they are clean\n",
    "\n",
    "<br>\n",
    "\n",
    "_Data range problems:_\n",
    "\n",
    "- **Task 6**: Make sure we set the correct maximum for `rating` column out of range values\n",
    "\n",
    "<br>\n",
    "\n",
    "_Dealing with date problems:_\n",
    "\n",
    "- **Task 7**: Check consitent date format in the date columns.\n",
    "\n",
    "<br>\n",
    "\n",
    "\n",
    "_Dealing with duplicate data:_\n",
    "\n",
    "- **Task 8**: Check for duplicate data."
   ]
  },
  {
   "cell_type": "markdown",
   "metadata": {
    "id": "8jp5m7QmnCsM"
   },
   "source": [
    "## **Tasks** "
   ]
  },
  {
   "cell_type": "markdown",
   "metadata": {
    "id": "3Ev1mCwXniDv"
   },
   "source": [
    "##### **Task 1:** Split `coordinates` into 2 columns (`latitude` and `longitude`) and convert them to `float`."
   ]
  },
  {
   "cell_type": "markdown",
   "metadata": {
    "id": "ijAlYOgglvzt"
   },
   "source": [
    "To perform this task, we will use the following methods:\n",
    "\n",
    "- `.str.replace(\"\",\"\")` replaces one string in each row of a column with another\n",
    "- `.str.split(\"\")` takes in a string and lets you split a column into two based on that string\n",
    "- `.astype()` lets you convert a column from one type to another"
   ]
  },
  {
   "cell_type": "code",
   "execution_count": 3,
   "metadata": {
    "colab": {
     "base_uri": "https://localhost:8080/",
     "height": 119
    },
    "id": "UpIxvD_onOgt",
    "outputId": "bf3af853-768e-4358-e179-c0c334bdec5f",
    "ExecuteTime": {
     "end_time": "2024-03-07T17:47:44.017385Z",
     "start_time": "2024-03-07T17:47:43.991294Z"
    }
   },
   "outputs": [
    {
     "name": "stderr",
     "output_type": "stream",
     "text": [
      "C:\\Users\\jonas\\AppData\\Local\\Temp\\ipykernel_10812\\2927624247.py:2: FutureWarning: The default value of regex will change from True to False in a future version. In addition, single character regular expressions will *not* be treated as literal strings when regex=True.\n",
      "  airbnb['coordinates'] = airbnb['coordinates'].str.replace('(', '')\n",
      "C:\\Users\\jonas\\AppData\\Local\\Temp\\ipykernel_10812\\2927624247.py:3: FutureWarning: The default value of regex will change from True to False in a future version. In addition, single character regular expressions will *not* be treated as literal strings when regex=True.\n",
      "  airbnb['coordinates'] = airbnb['coordinates'].str.replace(')', '')\n"
     ]
    },
    {
     "data": {
      "text/plain": "   listing_id                                               name    host_id  \\\n0    13740704  Cozy,budget friendly, cable inc, private entra...   20583125   \n1    22005115              Two floor apartment near Central Park   82746113   \n2    21667615                  Beautiful 1BR in Brooklyn Heights      78251   \n3     6425850                          Spacious, charming studio   32715865   \n4    22986519              Bedroom on the lively Lower East Side  154262349   \n\n  host_name          neighbourhood_full          coordinates        room_type  \\\n0    Michel         Brooklyn, Flatlands  40.63222, -73.93398     Private room   \n1   Cecilia  Manhattan, Upper West Side  40.78761, -73.96862  Entire home/apt   \n2    Leslie  Brooklyn, Brooklyn Heights   40.7007, -73.99517  Entire home/apt   \n3    Yelena  Manhattan, Upper West Side  40.79169, -73.97498  Entire home/apt   \n4    Brooke  Manhattan, Lower East Side  40.71884, -73.98354     Private room   \n\n  price  number_of_reviews last_review  reviews_per_month  availability_365  \\\n0   45$                 10  2018-12-12               0.70                85   \n1  135$                  1  2019-06-30               1.00               145   \n2  150$                  0         NaN                NaN                65   \n3   86$                  5  2017-09-23               0.13                 0   \n4  160$                 23  2019-06-12               2.29               102   \n\n     rating  number_of_stays   5_stars listing_added  \n0  4.100954             12.0  0.609432    2018-06-08  \n1  3.367600              1.2  0.746135    2018-12-25  \n2       NaN              NaN       NaN    2018-08-15  \n3  4.763203              6.0  0.769947    2017-03-20  \n4  3.822591             27.6  0.649383    2020-10-23  ",
      "text/html": "<div>\n<style scoped>\n    .dataframe tbody tr th:only-of-type {\n        vertical-align: middle;\n    }\n\n    .dataframe tbody tr th {\n        vertical-align: top;\n    }\n\n    .dataframe thead th {\n        text-align: right;\n    }\n</style>\n<table border=\"1\" class=\"dataframe\">\n  <thead>\n    <tr style=\"text-align: right;\">\n      <th></th>\n      <th>listing_id</th>\n      <th>name</th>\n      <th>host_id</th>\n      <th>host_name</th>\n      <th>neighbourhood_full</th>\n      <th>coordinates</th>\n      <th>room_type</th>\n      <th>price</th>\n      <th>number_of_reviews</th>\n      <th>last_review</th>\n      <th>reviews_per_month</th>\n      <th>availability_365</th>\n      <th>rating</th>\n      <th>number_of_stays</th>\n      <th>5_stars</th>\n      <th>listing_added</th>\n    </tr>\n  </thead>\n  <tbody>\n    <tr>\n      <th>0</th>\n      <td>13740704</td>\n      <td>Cozy,budget friendly, cable inc, private entra...</td>\n      <td>20583125</td>\n      <td>Michel</td>\n      <td>Brooklyn, Flatlands</td>\n      <td>40.63222, -73.93398</td>\n      <td>Private room</td>\n      <td>45$</td>\n      <td>10</td>\n      <td>2018-12-12</td>\n      <td>0.70</td>\n      <td>85</td>\n      <td>4.100954</td>\n      <td>12.0</td>\n      <td>0.609432</td>\n      <td>2018-06-08</td>\n    </tr>\n    <tr>\n      <th>1</th>\n      <td>22005115</td>\n      <td>Two floor apartment near Central Park</td>\n      <td>82746113</td>\n      <td>Cecilia</td>\n      <td>Manhattan, Upper West Side</td>\n      <td>40.78761, -73.96862</td>\n      <td>Entire home/apt</td>\n      <td>135$</td>\n      <td>1</td>\n      <td>2019-06-30</td>\n      <td>1.00</td>\n      <td>145</td>\n      <td>3.367600</td>\n      <td>1.2</td>\n      <td>0.746135</td>\n      <td>2018-12-25</td>\n    </tr>\n    <tr>\n      <th>2</th>\n      <td>21667615</td>\n      <td>Beautiful 1BR in Brooklyn Heights</td>\n      <td>78251</td>\n      <td>Leslie</td>\n      <td>Brooklyn, Brooklyn Heights</td>\n      <td>40.7007, -73.99517</td>\n      <td>Entire home/apt</td>\n      <td>150$</td>\n      <td>0</td>\n      <td>NaN</td>\n      <td>NaN</td>\n      <td>65</td>\n      <td>NaN</td>\n      <td>NaN</td>\n      <td>NaN</td>\n      <td>2018-08-15</td>\n    </tr>\n    <tr>\n      <th>3</th>\n      <td>6425850</td>\n      <td>Spacious, charming studio</td>\n      <td>32715865</td>\n      <td>Yelena</td>\n      <td>Manhattan, Upper West Side</td>\n      <td>40.79169, -73.97498</td>\n      <td>Entire home/apt</td>\n      <td>86$</td>\n      <td>5</td>\n      <td>2017-09-23</td>\n      <td>0.13</td>\n      <td>0</td>\n      <td>4.763203</td>\n      <td>6.0</td>\n      <td>0.769947</td>\n      <td>2017-03-20</td>\n    </tr>\n    <tr>\n      <th>4</th>\n      <td>22986519</td>\n      <td>Bedroom on the lively Lower East Side</td>\n      <td>154262349</td>\n      <td>Brooke</td>\n      <td>Manhattan, Lower East Side</td>\n      <td>40.71884, -73.98354</td>\n      <td>Private room</td>\n      <td>160$</td>\n      <td>23</td>\n      <td>2019-06-12</td>\n      <td>2.29</td>\n      <td>102</td>\n      <td>3.822591</td>\n      <td>27.6</td>\n      <td>0.649383</td>\n      <td>2020-10-23</td>\n    </tr>\n  </tbody>\n</table>\n</div>"
     },
     "execution_count": 3,
     "metadata": {},
     "output_type": "execute_result"
    }
   ],
   "source": [
    "# Remove \"(\" and \")\" from coordinates\n",
    "airbnb['coordinates'] = airbnb['coordinates'].str.replace('(', '')\n",
    "airbnb['coordinates'] = airbnb['coordinates'].str.replace(')', '')\n",
    "\n",
    "airbnb.head()\n",
    "# Print the header of the column"
   ]
  },
  {
   "cell_type": "code",
   "execution_count": 4,
   "metadata": {
    "colab": {
     "base_uri": "https://localhost:8080/",
     "height": 204
    },
    "id": "nvEKmdRun2Md",
    "outputId": "19d527b7-17d8-42eb-e8c1-c597ae1c29b9",
    "ExecuteTime": {
     "end_time": "2024-03-07T17:47:44.043456Z",
     "start_time": "2024-03-07T17:47:44.018389Z"
    }
   },
   "outputs": [
    {
     "data": {
      "text/plain": "   listing_id                                               name    host_id  \\\n0    13740704  Cozy,budget friendly, cable inc, private entra...   20583125   \n1    22005115              Two floor apartment near Central Park   82746113   \n2    21667615                  Beautiful 1BR in Brooklyn Heights      78251   \n3     6425850                          Spacious, charming studio   32715865   \n4    22986519              Bedroom on the lively Lower East Side  154262349   \n\n  host_name          neighbourhood_full          coordinates        room_type  \\\n0    Michel         Brooklyn, Flatlands  40.63222, -73.93398     Private room   \n1   Cecilia  Manhattan, Upper West Side  40.78761, -73.96862  Entire home/apt   \n2    Leslie  Brooklyn, Brooklyn Heights   40.7007, -73.99517  Entire home/apt   \n3    Yelena  Manhattan, Upper West Side  40.79169, -73.97498  Entire home/apt   \n4    Brooke  Manhattan, Lower East Side  40.71884, -73.98354     Private room   \n\n  price  number_of_reviews last_review  reviews_per_month  availability_365  \\\n0   45$                 10  2018-12-12               0.70                85   \n1  135$                  1  2019-06-30               1.00               145   \n2  150$                  0         NaN                NaN                65   \n3   86$                  5  2017-09-23               0.13                 0   \n4  160$                 23  2019-06-12               2.29               102   \n\n     rating  number_of_stays   5_stars listing_added  latitude   longitude  \n0  4.100954             12.0  0.609432    2018-06-08  40.63222   -73.93398  \n1  3.367600              1.2  0.746135    2018-12-25  40.78761   -73.96862  \n2       NaN              NaN       NaN    2018-08-15   40.7007   -73.99517  \n3  4.763203              6.0  0.769947    2017-03-20  40.79169   -73.97498  \n4  3.822591             27.6  0.649383    2020-10-23  40.71884   -73.98354  ",
      "text/html": "<div>\n<style scoped>\n    .dataframe tbody tr th:only-of-type {\n        vertical-align: middle;\n    }\n\n    .dataframe tbody tr th {\n        vertical-align: top;\n    }\n\n    .dataframe thead th {\n        text-align: right;\n    }\n</style>\n<table border=\"1\" class=\"dataframe\">\n  <thead>\n    <tr style=\"text-align: right;\">\n      <th></th>\n      <th>listing_id</th>\n      <th>name</th>\n      <th>host_id</th>\n      <th>host_name</th>\n      <th>neighbourhood_full</th>\n      <th>coordinates</th>\n      <th>room_type</th>\n      <th>price</th>\n      <th>number_of_reviews</th>\n      <th>last_review</th>\n      <th>reviews_per_month</th>\n      <th>availability_365</th>\n      <th>rating</th>\n      <th>number_of_stays</th>\n      <th>5_stars</th>\n      <th>listing_added</th>\n      <th>latitude</th>\n      <th>longitude</th>\n    </tr>\n  </thead>\n  <tbody>\n    <tr>\n      <th>0</th>\n      <td>13740704</td>\n      <td>Cozy,budget friendly, cable inc, private entra...</td>\n      <td>20583125</td>\n      <td>Michel</td>\n      <td>Brooklyn, Flatlands</td>\n      <td>40.63222, -73.93398</td>\n      <td>Private room</td>\n      <td>45$</td>\n      <td>10</td>\n      <td>2018-12-12</td>\n      <td>0.70</td>\n      <td>85</td>\n      <td>4.100954</td>\n      <td>12.0</td>\n      <td>0.609432</td>\n      <td>2018-06-08</td>\n      <td>40.63222</td>\n      <td>-73.93398</td>\n    </tr>\n    <tr>\n      <th>1</th>\n      <td>22005115</td>\n      <td>Two floor apartment near Central Park</td>\n      <td>82746113</td>\n      <td>Cecilia</td>\n      <td>Manhattan, Upper West Side</td>\n      <td>40.78761, -73.96862</td>\n      <td>Entire home/apt</td>\n      <td>135$</td>\n      <td>1</td>\n      <td>2019-06-30</td>\n      <td>1.00</td>\n      <td>145</td>\n      <td>3.367600</td>\n      <td>1.2</td>\n      <td>0.746135</td>\n      <td>2018-12-25</td>\n      <td>40.78761</td>\n      <td>-73.96862</td>\n    </tr>\n    <tr>\n      <th>2</th>\n      <td>21667615</td>\n      <td>Beautiful 1BR in Brooklyn Heights</td>\n      <td>78251</td>\n      <td>Leslie</td>\n      <td>Brooklyn, Brooklyn Heights</td>\n      <td>40.7007, -73.99517</td>\n      <td>Entire home/apt</td>\n      <td>150$</td>\n      <td>0</td>\n      <td>NaN</td>\n      <td>NaN</td>\n      <td>65</td>\n      <td>NaN</td>\n      <td>NaN</td>\n      <td>NaN</td>\n      <td>2018-08-15</td>\n      <td>40.7007</td>\n      <td>-73.99517</td>\n    </tr>\n    <tr>\n      <th>3</th>\n      <td>6425850</td>\n      <td>Spacious, charming studio</td>\n      <td>32715865</td>\n      <td>Yelena</td>\n      <td>Manhattan, Upper West Side</td>\n      <td>40.79169, -73.97498</td>\n      <td>Entire home/apt</td>\n      <td>86$</td>\n      <td>5</td>\n      <td>2017-09-23</td>\n      <td>0.13</td>\n      <td>0</td>\n      <td>4.763203</td>\n      <td>6.0</td>\n      <td>0.769947</td>\n      <td>2017-03-20</td>\n      <td>40.79169</td>\n      <td>-73.97498</td>\n    </tr>\n    <tr>\n      <th>4</th>\n      <td>22986519</td>\n      <td>Bedroom on the lively Lower East Side</td>\n      <td>154262349</td>\n      <td>Brooke</td>\n      <td>Manhattan, Lower East Side</td>\n      <td>40.71884, -73.98354</td>\n      <td>Private room</td>\n      <td>160$</td>\n      <td>23</td>\n      <td>2019-06-12</td>\n      <td>2.29</td>\n      <td>102</td>\n      <td>3.822591</td>\n      <td>27.6</td>\n      <td>0.649383</td>\n      <td>2020-10-23</td>\n      <td>40.71884</td>\n      <td>-73.98354</td>\n    </tr>\n  </tbody>\n</table>\n</div>"
     },
     "execution_count": 4,
     "metadata": {},
     "output_type": "execute_result"
    }
   ],
   "source": [
    "# Split column into two\n",
    "\n",
    "airbnb['latitude'] = airbnb.coordinates.str.split(',').str[0]\n",
    "airbnb['longitude'] = airbnb.coordinates.str.split(',').str[1]\n",
    "airbnb.head()"
   ]
  },
  {
   "cell_type": "code",
   "execution_count": 5,
   "metadata": {
    "colab": {
     "base_uri": "https://localhost:8080/",
     "height": 479
    },
    "id": "LezCKPzfn4yf",
    "outputId": "06eff294-308d-4aa7-a7e1-9be62ffaae73",
    "ExecuteTime": {
     "end_time": "2024-03-07T17:47:44.059781Z",
     "start_time": "2024-03-07T17:47:44.044461Z"
    }
   },
   "outputs": [
    {
     "data": {
      "text/plain": "   listing_id                                               name    host_id  \\\n0    13740704  Cozy,budget friendly, cable inc, private entra...   20583125   \n1    22005115              Two floor apartment near Central Park   82746113   \n2    21667615                  Beautiful 1BR in Brooklyn Heights      78251   \n3     6425850                          Spacious, charming studio   32715865   \n4    22986519              Bedroom on the lively Lower East Side  154262349   \n\n  host_name          neighbourhood_full        room_type price  \\\n0    Michel         Brooklyn, Flatlands     Private room   45$   \n1   Cecilia  Manhattan, Upper West Side  Entire home/apt  135$   \n2    Leslie  Brooklyn, Brooklyn Heights  Entire home/apt  150$   \n3    Yelena  Manhattan, Upper West Side  Entire home/apt   86$   \n4    Brooke  Manhattan, Lower East Side     Private room  160$   \n\n   number_of_reviews last_review  reviews_per_month  availability_365  \\\n0                 10  2018-12-12               0.70                85   \n1                  1  2019-06-30               1.00               145   \n2                  0         NaN                NaN                65   \n3                  5  2017-09-23               0.13                 0   \n4                 23  2019-06-12               2.29               102   \n\n     rating  number_of_stays   5_stars listing_added  latitude   longitude  \n0  4.100954             12.0  0.609432    2018-06-08  40.63222   -73.93398  \n1  3.367600              1.2  0.746135    2018-12-25  40.78761   -73.96862  \n2       NaN              NaN       NaN    2018-08-15   40.7007   -73.99517  \n3  4.763203              6.0  0.769947    2017-03-20  40.79169   -73.97498  \n4  3.822591             27.6  0.649383    2020-10-23  40.71884   -73.98354  ",
      "text/html": "<div>\n<style scoped>\n    .dataframe tbody tr th:only-of-type {\n        vertical-align: middle;\n    }\n\n    .dataframe tbody tr th {\n        vertical-align: top;\n    }\n\n    .dataframe thead th {\n        text-align: right;\n    }\n</style>\n<table border=\"1\" class=\"dataframe\">\n  <thead>\n    <tr style=\"text-align: right;\">\n      <th></th>\n      <th>listing_id</th>\n      <th>name</th>\n      <th>host_id</th>\n      <th>host_name</th>\n      <th>neighbourhood_full</th>\n      <th>room_type</th>\n      <th>price</th>\n      <th>number_of_reviews</th>\n      <th>last_review</th>\n      <th>reviews_per_month</th>\n      <th>availability_365</th>\n      <th>rating</th>\n      <th>number_of_stays</th>\n      <th>5_stars</th>\n      <th>listing_added</th>\n      <th>latitude</th>\n      <th>longitude</th>\n    </tr>\n  </thead>\n  <tbody>\n    <tr>\n      <th>0</th>\n      <td>13740704</td>\n      <td>Cozy,budget friendly, cable inc, private entra...</td>\n      <td>20583125</td>\n      <td>Michel</td>\n      <td>Brooklyn, Flatlands</td>\n      <td>Private room</td>\n      <td>45$</td>\n      <td>10</td>\n      <td>2018-12-12</td>\n      <td>0.70</td>\n      <td>85</td>\n      <td>4.100954</td>\n      <td>12.0</td>\n      <td>0.609432</td>\n      <td>2018-06-08</td>\n      <td>40.63222</td>\n      <td>-73.93398</td>\n    </tr>\n    <tr>\n      <th>1</th>\n      <td>22005115</td>\n      <td>Two floor apartment near Central Park</td>\n      <td>82746113</td>\n      <td>Cecilia</td>\n      <td>Manhattan, Upper West Side</td>\n      <td>Entire home/apt</td>\n      <td>135$</td>\n      <td>1</td>\n      <td>2019-06-30</td>\n      <td>1.00</td>\n      <td>145</td>\n      <td>3.367600</td>\n      <td>1.2</td>\n      <td>0.746135</td>\n      <td>2018-12-25</td>\n      <td>40.78761</td>\n      <td>-73.96862</td>\n    </tr>\n    <tr>\n      <th>2</th>\n      <td>21667615</td>\n      <td>Beautiful 1BR in Brooklyn Heights</td>\n      <td>78251</td>\n      <td>Leslie</td>\n      <td>Brooklyn, Brooklyn Heights</td>\n      <td>Entire home/apt</td>\n      <td>150$</td>\n      <td>0</td>\n      <td>NaN</td>\n      <td>NaN</td>\n      <td>65</td>\n      <td>NaN</td>\n      <td>NaN</td>\n      <td>NaN</td>\n      <td>2018-08-15</td>\n      <td>40.7007</td>\n      <td>-73.99517</td>\n    </tr>\n    <tr>\n      <th>3</th>\n      <td>6425850</td>\n      <td>Spacious, charming studio</td>\n      <td>32715865</td>\n      <td>Yelena</td>\n      <td>Manhattan, Upper West Side</td>\n      <td>Entire home/apt</td>\n      <td>86$</td>\n      <td>5</td>\n      <td>2017-09-23</td>\n      <td>0.13</td>\n      <td>0</td>\n      <td>4.763203</td>\n      <td>6.0</td>\n      <td>0.769947</td>\n      <td>2017-03-20</td>\n      <td>40.79169</td>\n      <td>-73.97498</td>\n    </tr>\n    <tr>\n      <th>4</th>\n      <td>22986519</td>\n      <td>Bedroom on the lively Lower East Side</td>\n      <td>154262349</td>\n      <td>Brooke</td>\n      <td>Manhattan, Lower East Side</td>\n      <td>Private room</td>\n      <td>160$</td>\n      <td>23</td>\n      <td>2019-06-12</td>\n      <td>2.29</td>\n      <td>102</td>\n      <td>3.822591</td>\n      <td>27.6</td>\n      <td>0.649383</td>\n      <td>2020-10-23</td>\n      <td>40.71884</td>\n      <td>-73.98354</td>\n    </tr>\n  </tbody>\n</table>\n</div>"
     },
     "execution_count": 5,
     "metadata": {},
     "output_type": "execute_result"
    }
   ],
   "source": [
    "# Assign correct columns to latitude and longitude columns in airbnb\n",
    "\n",
    "airbnb.drop(['coordinates'], axis=1, inplace=True)\n",
    "\n",
    "# Print the header and confirm new column creation\n",
    "\n",
    "airbnb.head()"
   ]
  },
  {
   "cell_type": "code",
   "execution_count": 6,
   "metadata": {
    "colab": {
     "base_uri": "https://localhost:8080/",
     "height": 340
    },
    "id": "toTHDWjFosXs",
    "outputId": "22273a70-dda1-4134-e5e7-1f2a8ed724ac",
    "ExecuteTime": {
     "end_time": "2024-03-07T17:47:44.066313Z",
     "start_time": "2024-03-07T17:47:44.060786Z"
    }
   },
   "outputs": [
    {
     "data": {
      "text/plain": "listing_id              int64\nname                   object\nhost_id                 int64\nhost_name              object\nneighbourhood_full     object\nroom_type              object\nprice                  object\nnumber_of_reviews       int64\nlast_review            object\nreviews_per_month     float64\navailability_365        int64\nrating                float64\nnumber_of_stays       float64\n5_stars               float64\nlisting_added          object\nlatitude               object\nlongitude              object\ndtype: object"
     },
     "execution_count": 6,
     "metadata": {},
     "output_type": "execute_result"
    }
   ],
   "source": [
    "# Print out dtypes again\n",
    "\n",
    "airbnb.dtypes"
   ]
  },
  {
   "cell_type": "code",
   "execution_count": 7,
   "metadata": {
    "colab": {
     "base_uri": "https://localhost:8080/",
     "height": 340
    },
    "id": "8zDpaIqDoeNl",
    "outputId": "ead1ab19-04c5-4722-c181-eedddc64f057",
    "ExecuteTime": {
     "end_time": "2024-03-07T17:47:44.078296Z",
     "start_time": "2024-03-07T17:47:44.068318Z"
    }
   },
   "outputs": [
    {
     "data": {
      "text/plain": "listing_id              int64\nname                   object\nhost_id                 int64\nhost_name              object\nneighbourhood_full     object\nroom_type              object\nprice                  object\nnumber_of_reviews       int64\nlast_review            object\nreviews_per_month     float64\navailability_365        int64\nrating                float64\nnumber_of_stays       float64\n5_stars               float64\nlisting_added          object\nlatitude              float64\nlongitude             float64\ndtype: object"
     },
     "execution_count": 7,
     "metadata": {},
     "output_type": "execute_result"
    }
   ],
   "source": [
    "# Convert latitude and longitude to float\n",
    "\n",
    "airbnb['latitude'] = airbnb['latitude'].astype(float)\n",
    "airbnb['longitude'] = airbnb['longitude'].astype(float)\n",
    "\n",
    "# Print dtypes again\n",
    "airbnb.dtypes"
   ]
  },
  {
   "cell_type": "code",
   "execution_count": 8,
   "metadata": {
    "id": "aKZGhJQRo8mp",
    "ExecuteTime": {
     "end_time": "2024-03-07T17:47:44.084326Z",
     "start_time": "2024-03-07T17:47:44.078296Z"
    }
   },
   "outputs": [],
   "source": [
    "# Drop coordinates column"
   ]
  },
  {
   "cell_type": "markdown",
   "metadata": {
    "id": "bkgGPHpdpMEW"
   },
   "source": [
    "##### **Task 2:** Remove `$` from `price` and convert it to `float`"
   ]
  },
  {
   "cell_type": "markdown",
   "metadata": {
    "id": "9jkKFojOmJy5"
   },
   "source": [
    "To perform this task, we will be using the following methods:\n",
    "\n",
    "- `.str.strip()` which removes a specified string from each row in a column\n",
    "- `.astype()`"
   ]
  },
  {
   "cell_type": "code",
   "execution_count": 9,
   "metadata": {
    "colab": {
     "base_uri": "https://localhost:8080/",
     "height": 119
    },
    "id": "gHIB5d-1pdIO",
    "outputId": "8b332216-20e5-42a9-a070-b705d2ae84ae",
    "ExecuteTime": {
     "end_time": "2024-03-07T17:47:44.103109Z",
     "start_time": "2024-03-07T17:47:44.085837Z"
    }
   },
   "outputs": [
    {
     "name": "stderr",
     "output_type": "stream",
     "text": [
      "C:\\Users\\jonas\\AppData\\Local\\Temp\\ipykernel_10812\\1974607207.py:3: FutureWarning: The default value of regex will change from True to False in a future version. In addition, single character regular expressions will *not* be treated as literal strings when regex=True.\n",
      "  airbnb['price'] = airbnb.price.str.replace('$', '')\n"
     ]
    },
    {
     "data": {
      "text/plain": "   listing_id                                               name    host_id  \\\n0    13740704  Cozy,budget friendly, cable inc, private entra...   20583125   \n1    22005115              Two floor apartment near Central Park   82746113   \n2    21667615                  Beautiful 1BR in Brooklyn Heights      78251   \n3     6425850                          Spacious, charming studio   32715865   \n4    22986519              Bedroom on the lively Lower East Side  154262349   \n\n  host_name          neighbourhood_full        room_type price  \\\n0    Michel         Brooklyn, Flatlands     Private room    45   \n1   Cecilia  Manhattan, Upper West Side  Entire home/apt   135   \n2    Leslie  Brooklyn, Brooklyn Heights  Entire home/apt   150   \n3    Yelena  Manhattan, Upper West Side  Entire home/apt    86   \n4    Brooke  Manhattan, Lower East Side     Private room   160   \n\n   number_of_reviews last_review  reviews_per_month  availability_365  \\\n0                 10  2018-12-12               0.70                85   \n1                  1  2019-06-30               1.00               145   \n2                  0         NaN                NaN                65   \n3                  5  2017-09-23               0.13                 0   \n4                 23  2019-06-12               2.29               102   \n\n     rating  number_of_stays   5_stars listing_added  latitude  longitude  \n0  4.100954             12.0  0.609432    2018-06-08  40.63222  -73.93398  \n1  3.367600              1.2  0.746135    2018-12-25  40.78761  -73.96862  \n2       NaN              NaN       NaN    2018-08-15  40.70070  -73.99517  \n3  4.763203              6.0  0.769947    2017-03-20  40.79169  -73.97498  \n4  3.822591             27.6  0.649383    2020-10-23  40.71884  -73.98354  ",
      "text/html": "<div>\n<style scoped>\n    .dataframe tbody tr th:only-of-type {\n        vertical-align: middle;\n    }\n\n    .dataframe tbody tr th {\n        vertical-align: top;\n    }\n\n    .dataframe thead th {\n        text-align: right;\n    }\n</style>\n<table border=\"1\" class=\"dataframe\">\n  <thead>\n    <tr style=\"text-align: right;\">\n      <th></th>\n      <th>listing_id</th>\n      <th>name</th>\n      <th>host_id</th>\n      <th>host_name</th>\n      <th>neighbourhood_full</th>\n      <th>room_type</th>\n      <th>price</th>\n      <th>number_of_reviews</th>\n      <th>last_review</th>\n      <th>reviews_per_month</th>\n      <th>availability_365</th>\n      <th>rating</th>\n      <th>number_of_stays</th>\n      <th>5_stars</th>\n      <th>listing_added</th>\n      <th>latitude</th>\n      <th>longitude</th>\n    </tr>\n  </thead>\n  <tbody>\n    <tr>\n      <th>0</th>\n      <td>13740704</td>\n      <td>Cozy,budget friendly, cable inc, private entra...</td>\n      <td>20583125</td>\n      <td>Michel</td>\n      <td>Brooklyn, Flatlands</td>\n      <td>Private room</td>\n      <td>45</td>\n      <td>10</td>\n      <td>2018-12-12</td>\n      <td>0.70</td>\n      <td>85</td>\n      <td>4.100954</td>\n      <td>12.0</td>\n      <td>0.609432</td>\n      <td>2018-06-08</td>\n      <td>40.63222</td>\n      <td>-73.93398</td>\n    </tr>\n    <tr>\n      <th>1</th>\n      <td>22005115</td>\n      <td>Two floor apartment near Central Park</td>\n      <td>82746113</td>\n      <td>Cecilia</td>\n      <td>Manhattan, Upper West Side</td>\n      <td>Entire home/apt</td>\n      <td>135</td>\n      <td>1</td>\n      <td>2019-06-30</td>\n      <td>1.00</td>\n      <td>145</td>\n      <td>3.367600</td>\n      <td>1.2</td>\n      <td>0.746135</td>\n      <td>2018-12-25</td>\n      <td>40.78761</td>\n      <td>-73.96862</td>\n    </tr>\n    <tr>\n      <th>2</th>\n      <td>21667615</td>\n      <td>Beautiful 1BR in Brooklyn Heights</td>\n      <td>78251</td>\n      <td>Leslie</td>\n      <td>Brooklyn, Brooklyn Heights</td>\n      <td>Entire home/apt</td>\n      <td>150</td>\n      <td>0</td>\n      <td>NaN</td>\n      <td>NaN</td>\n      <td>65</td>\n      <td>NaN</td>\n      <td>NaN</td>\n      <td>NaN</td>\n      <td>2018-08-15</td>\n      <td>40.70070</td>\n      <td>-73.99517</td>\n    </tr>\n    <tr>\n      <th>3</th>\n      <td>6425850</td>\n      <td>Spacious, charming studio</td>\n      <td>32715865</td>\n      <td>Yelena</td>\n      <td>Manhattan, Upper West Side</td>\n      <td>Entire home/apt</td>\n      <td>86</td>\n      <td>5</td>\n      <td>2017-09-23</td>\n      <td>0.13</td>\n      <td>0</td>\n      <td>4.763203</td>\n      <td>6.0</td>\n      <td>0.769947</td>\n      <td>2017-03-20</td>\n      <td>40.79169</td>\n      <td>-73.97498</td>\n    </tr>\n    <tr>\n      <th>4</th>\n      <td>22986519</td>\n      <td>Bedroom on the lively Lower East Side</td>\n      <td>154262349</td>\n      <td>Brooke</td>\n      <td>Manhattan, Lower East Side</td>\n      <td>Private room</td>\n      <td>160</td>\n      <td>23</td>\n      <td>2019-06-12</td>\n      <td>2.29</td>\n      <td>102</td>\n      <td>3.822591</td>\n      <td>27.6</td>\n      <td>0.649383</td>\n      <td>2020-10-23</td>\n      <td>40.71884</td>\n      <td>-73.98354</td>\n    </tr>\n  </tbody>\n</table>\n</div>"
     },
     "execution_count": 9,
     "metadata": {},
     "output_type": "execute_result"
    }
   ],
   "source": [
    "# Remove $ from price before conversion to float\n",
    "\n",
    "airbnb['price'] = airbnb.price.str.replace('$', '')\n",
    "\n",
    "# Print header to make sure change was done\n",
    "\n",
    "airbnb.head()\n"
   ]
  },
  {
   "cell_type": "code",
   "execution_count": 10,
   "metadata": {
    "colab": {
     "base_uri": "https://localhost:8080/",
     "height": 34
    },
    "id": "Gz4Q2xoGp4AJ",
    "outputId": "2d453984-04ff-4b0e-d646-5890304044db",
    "ExecuteTime": {
     "end_time": "2024-03-07T17:47:44.111936Z",
     "start_time": "2024-03-07T17:47:44.105136Z"
    }
   },
   "outputs": [
    {
     "data": {
      "text/plain": "150.90512217564665"
     },
     "execution_count": 10,
     "metadata": {},
     "output_type": "execute_result"
    }
   ],
   "source": [
    "# Convert price to float\n",
    "\n",
    "airbnb['price'] = airbnb['price'].astype(float)\n",
    "\n",
    "# Calculate mean of price after conversion\n",
    "\n",
    "airbnb['price'].mean()"
   ]
  },
  {
   "cell_type": "markdown",
   "metadata": {
    "id": "HZKW5mWvqg2Z"
   },
   "source": [
    "##### **Task 3:** Convert `listing_added` and `last_review` columns to `datetime`"
   ]
  },
  {
   "cell_type": "markdown",
   "metadata": {
    "id": "9ijLZ4zwmWNS"
   },
   "source": [
    "To perform this task, we will use the following functions:\n",
    "\n",
    "- `pd.to_datetime(format = \"\")`\n",
    "  - `format` takes in the desired date format `\"%Y-%m-%d\"`"
   ]
  },
  {
   "cell_type": "code",
   "execution_count": 11,
   "metadata": {
    "colab": {
     "base_uri": "https://localhost:8080/",
     "height": 204
    },
    "id": "cggG5Bucqc6T",
    "outputId": "9f5aed2d-0542-4959-8694-958801d8acdf",
    "ExecuteTime": {
     "end_time": "2024-03-07T17:47:44.124592Z",
     "start_time": "2024-03-07T17:47:44.111936Z"
    }
   },
   "outputs": [
    {
     "data": {
      "text/plain": "   listing_id                                               name   host_id  \\\n0    13740704  Cozy,budget friendly, cable inc, private entra...  20583125   \n1    22005115              Two floor apartment near Central Park  82746113   \n\n  host_name          neighbourhood_full        room_type  price  \\\n0    Michel         Brooklyn, Flatlands     Private room   45.0   \n1   Cecilia  Manhattan, Upper West Side  Entire home/apt  135.0   \n\n   number_of_reviews last_review  reviews_per_month  availability_365  \\\n0                 10  2018-12-12                0.7                85   \n1                  1  2019-06-30                1.0               145   \n\n     rating  number_of_stays   5_stars listing_added  latitude  longitude  \n0  4.100954             12.0  0.609432    2018-06-08  40.63222  -73.93398  \n1  3.367600              1.2  0.746135    2018-12-25  40.78761  -73.96862  ",
      "text/html": "<div>\n<style scoped>\n    .dataframe tbody tr th:only-of-type {\n        vertical-align: middle;\n    }\n\n    .dataframe tbody tr th {\n        vertical-align: top;\n    }\n\n    .dataframe thead th {\n        text-align: right;\n    }\n</style>\n<table border=\"1\" class=\"dataframe\">\n  <thead>\n    <tr style=\"text-align: right;\">\n      <th></th>\n      <th>listing_id</th>\n      <th>name</th>\n      <th>host_id</th>\n      <th>host_name</th>\n      <th>neighbourhood_full</th>\n      <th>room_type</th>\n      <th>price</th>\n      <th>number_of_reviews</th>\n      <th>last_review</th>\n      <th>reviews_per_month</th>\n      <th>availability_365</th>\n      <th>rating</th>\n      <th>number_of_stays</th>\n      <th>5_stars</th>\n      <th>listing_added</th>\n      <th>latitude</th>\n      <th>longitude</th>\n    </tr>\n  </thead>\n  <tbody>\n    <tr>\n      <th>0</th>\n      <td>13740704</td>\n      <td>Cozy,budget friendly, cable inc, private entra...</td>\n      <td>20583125</td>\n      <td>Michel</td>\n      <td>Brooklyn, Flatlands</td>\n      <td>Private room</td>\n      <td>45.0</td>\n      <td>10</td>\n      <td>2018-12-12</td>\n      <td>0.7</td>\n      <td>85</td>\n      <td>4.100954</td>\n      <td>12.0</td>\n      <td>0.609432</td>\n      <td>2018-06-08</td>\n      <td>40.63222</td>\n      <td>-73.93398</td>\n    </tr>\n    <tr>\n      <th>1</th>\n      <td>22005115</td>\n      <td>Two floor apartment near Central Park</td>\n      <td>82746113</td>\n      <td>Cecilia</td>\n      <td>Manhattan, Upper West Side</td>\n      <td>Entire home/apt</td>\n      <td>135.0</td>\n      <td>1</td>\n      <td>2019-06-30</td>\n      <td>1.0</td>\n      <td>145</td>\n      <td>3.367600</td>\n      <td>1.2</td>\n      <td>0.746135</td>\n      <td>2018-12-25</td>\n      <td>40.78761</td>\n      <td>-73.96862</td>\n    </tr>\n  </tbody>\n</table>\n</div>"
     },
     "execution_count": 11,
     "metadata": {},
     "output_type": "execute_result"
    }
   ],
   "source": [
    "# Print header of two columns\n",
    "\n",
    "airbnb.head(2)"
   ]
  },
  {
   "cell_type": "code",
   "execution_count": 12,
   "metadata": {
    "id": "9lVyr6-Gs19z",
    "ExecuteTime": {
     "end_time": "2024-03-07T17:47:44.138218Z",
     "start_time": "2024-03-07T17:47:44.125097Z"
    }
   },
   "outputs": [],
   "source": [
    "# Convert both columns to datetime\n",
    "\n",
    "airbnb['listing_added'] = pd.to_datetime(airbnb['listing_added'])\n",
    "airbnb['last_review'] = pd.to_datetime(airbnb['last_review'])"
   ]
  },
  {
   "cell_type": "code",
   "execution_count": 13,
   "metadata": {
    "colab": {
     "base_uri": "https://localhost:8080/",
     "height": 170
    },
    "id": "jlVDTYUvtG1f",
    "outputId": "dc7b3850-48ad-45e8-9641-7ba05c7fc6b2",
    "ExecuteTime": {
     "end_time": "2024-03-07T17:47:44.144248Z",
     "start_time": "2024-03-07T17:47:44.139223Z"
    }
   },
   "outputs": [
    {
     "data": {
      "text/plain": "listing_id                     int64\nname                          object\nhost_id                        int64\nhost_name                     object\nneighbourhood_full            object\nroom_type                     object\nprice                        float64\nnumber_of_reviews              int64\nlast_review           datetime64[ns]\nreviews_per_month            float64\navailability_365               int64\nrating                       float64\nnumber_of_stays              float64\n5_stars                      float64\nlisting_added         datetime64[ns]\nlatitude                     float64\nlongitude                    float64\ndtype: object"
     },
     "execution_count": 13,
     "metadata": {},
     "output_type": "execute_result"
    }
   ],
   "source": [
    "# Print header and datatypes of both columns again\n",
    "\n",
    "airbnb.head(2)\n",
    "airbnb.dtypes"
   ]
  },
  {
   "cell_type": "markdown",
   "metadata": {
    "id": "SvMs1y6gucs6"
   },
   "source": [
    "### Text and categorical data problems"
   ]
  },
  {
   "cell_type": "markdown",
   "metadata": {
    "id": "Z19JboeNukIS"
   },
   "source": [
    "##### **Task 4:** We need to collapse `room_type` into correct categories"
   ]
  },
  {
   "cell_type": "markdown",
   "metadata": {
    "id": "85lW-8k_msaY"
   },
   "source": [
    "To perform this task, we will be using the following methods:\n",
    "\n",
    "- `.str.lower()` to lowercase all rows in a string column\n",
    "- `.str.strip()` to remove all white spaces of each row in a string column\n",
    "- `.replace()` to replace values in a column with another"
   ]
  },
  {
   "cell_type": "code",
   "execution_count": 14,
   "metadata": {
    "colab": {
     "base_uri": "https://localhost:8080/",
     "height": 51
    },
    "id": "hPJHPWB4tOlP",
    "outputId": "ad30c92a-b7ed-49a6-c592-e70f82f2a94d",
    "ExecuteTime": {
     "end_time": "2024-03-07T17:47:44.153763Z",
     "start_time": "2024-03-07T17:47:44.145012Z"
    }
   },
   "outputs": [
    {
     "data": {
      "text/plain": "array(['Private room', 'Entire home/apt', 'Private', 'Shared room',\n       'PRIVATE ROOM', 'home', '   Shared room      '], dtype=object)"
     },
     "execution_count": 14,
     "metadata": {},
     "output_type": "execute_result"
    }
   ],
   "source": [
    "# Print unique values of `room_type`\n",
    "\n",
    "airbnb['room_type'].unique()"
   ]
  },
  {
   "cell_type": "code",
   "execution_count": 15,
   "metadata": {
    "colab": {
     "base_uri": "https://localhost:8080/",
     "height": 51
    },
    "id": "HwnSnaPEvncy",
    "outputId": "66d9e493-e5c0-471e-8f5b-632f8b0f326d",
    "ExecuteTime": {
     "end_time": "2024-03-07T17:47:44.163168Z",
     "start_time": "2024-03-07T17:47:44.154277Z"
    }
   },
   "outputs": [
    {
     "data": {
      "text/plain": "array(['private room', 'entire home/apt', 'private', 'shared room',\n       'home', '   shared room      '], dtype=object)"
     },
     "execution_count": 15,
     "metadata": {},
     "output_type": "execute_result"
    }
   ],
   "source": [
    "# Deal with capitalized values\n",
    "\n",
    "airbnb['room_type'] = airbnb['room_type'].str.lower()\n",
    "\n",
    "airbnb['room_type'].unique()\n",
    "\n"
   ]
  },
  {
   "cell_type": "code",
   "execution_count": 16,
   "metadata": {
    "colab": {
     "base_uri": "https://localhost:8080/",
     "height": 51
    },
    "id": "u47Ws-GtvvrC",
    "outputId": "3df8ba6a-9c50-4b1f-83c9-d99e855eca11",
    "ExecuteTime": {
     "end_time": "2024-03-07T17:47:44.174386Z",
     "start_time": "2024-03-07T17:47:44.163168Z"
    }
   },
   "outputs": [
    {
     "data": {
      "text/plain": "array(['private room', 'entire home/apt', 'private', 'shared room',\n       'home'], dtype=object)"
     },
     "execution_count": 16,
     "metadata": {},
     "output_type": "execute_result"
    }
   ],
   "source": [
    "# Deal with trailing spaces\n",
    "\n",
    "airbnb['room_type'] = airbnb['room_type'].str.strip()\n",
    "\n",
    "airbnb['room_type'].unique()\n"
   ]
  },
  {
   "cell_type": "code",
   "execution_count": 17,
   "metadata": {
    "colab": {
     "base_uri": "https://localhost:8080/",
     "height": 34
    },
    "id": "tYyyzZ2pwMtx",
    "outputId": "104a9671-5899-4e62-edcb-ca6be7cd29cb",
    "ExecuteTime": {
     "end_time": "2024-03-07T17:47:44.204511Z",
     "start_time": "2024-03-07T17:47:44.175393Z"
    }
   },
   "outputs": [
    {
     "data": {
      "text/plain": "array(['Private room', 'Entire Home/apt', 'Private', 'Shared room',\n       'Home'], dtype=object)"
     },
     "execution_count": 17,
     "metadata": {},
     "output_type": "execute_result"
    }
   ],
   "source": [
    "# Replace values to 'Shared room', 'Entire place', 'Private room' and 'Hotel room' (if applicable).\n",
    "\n",
    "airbnb.room_type = airbnb['room_type'].str.replace('shared', 'Shared')\n",
    "airbnb.room_type = airbnb['room_type'].str.replace('entire', 'Entire')\n",
    "airbnb.room_type = airbnb['room_type'].str.replace('private', 'Private')\n",
    "airbnb.room_type = airbnb['room_type'].str.replace('hotel', 'Hotel')\n",
    "airbnb.room_type = airbnb['room_type'].str.replace('home', 'Home')\n",
    "\n",
    "airbnb.room_type.unique()"
   ]
  },
  {
   "cell_type": "markdown",
   "metadata": {
    "id": "VA_2KMIkxjhL"
   },
   "source": [
    "##### **Task 5:** Divide `neighbourhood_full` into 2 columns and making sure they are clean"
   ]
  },
  {
   "cell_type": "code",
   "execution_count": 18,
   "metadata": {
    "colab": {
     "base_uri": "https://localhost:8080/",
     "height": 119
    },
    "id": "Nc3u9b57xKOu",
    "outputId": "9e815839-48cf-4a48-fda3-0735ddfec707",
    "ExecuteTime": {
     "end_time": "2024-03-07T17:47:44.211440Z",
     "start_time": "2024-03-07T17:47:44.205030Z"
    }
   },
   "outputs": [
    {
     "data": {
      "text/plain": "Empty DataFrame\nColumns: [listing_id, name, host_id, host_name, neighbourhood_full, room_type, price, number_of_reviews, last_review, reviews_per_month, availability_365, rating, number_of_stays, 5_stars, listing_added, latitude, longitude]\nIndex: []",
      "text/html": "<div>\n<style scoped>\n    .dataframe tbody tr th:only-of-type {\n        vertical-align: middle;\n    }\n\n    .dataframe tbody tr th {\n        vertical-align: top;\n    }\n\n    .dataframe thead th {\n        text-align: right;\n    }\n</style>\n<table border=\"1\" class=\"dataframe\">\n  <thead>\n    <tr style=\"text-align: right;\">\n      <th></th>\n      <th>listing_id</th>\n      <th>name</th>\n      <th>host_id</th>\n      <th>host_name</th>\n      <th>neighbourhood_full</th>\n      <th>room_type</th>\n      <th>price</th>\n      <th>number_of_reviews</th>\n      <th>last_review</th>\n      <th>reviews_per_month</th>\n      <th>availability_365</th>\n      <th>rating</th>\n      <th>number_of_stays</th>\n      <th>5_stars</th>\n      <th>listing_added</th>\n      <th>latitude</th>\n      <th>longitude</th>\n    </tr>\n  </thead>\n  <tbody>\n  </tbody>\n</table>\n</div>"
     },
     "execution_count": 18,
     "metadata": {},
     "output_type": "execute_result"
    }
   ],
   "source": [
    "# Print header of column\n",
    "\n",
    "airbnb.head(0)"
   ]
  },
  {
   "cell_type": "code",
   "execution_count": 19,
   "metadata": {
    "colab": {
     "base_uri": "https://localhost:8080/",
     "height": 204
    },
    "id": "88O9T3WYxreo",
    "outputId": "69009b8a-6957-407c-a9ac-2e6434c10169",
    "ExecuteTime": {
     "end_time": "2024-03-07T17:47:44.241015Z",
     "start_time": "2024-03-07T17:47:44.212444Z"
    }
   },
   "outputs": [
    {
     "data": {
      "text/plain": "   listing_id                                               name    host_id  \\\n0    13740704  Cozy,budget friendly, cable inc, private entra...   20583125   \n1    22005115              Two floor apartment near Central Park   82746113   \n2    21667615                  Beautiful 1BR in Brooklyn Heights      78251   \n3     6425850                          Spacious, charming studio   32715865   \n4    22986519              Bedroom on the lively Lower East Side  154262349   \n\n  host_name          neighbourhood_full        room_type  price  \\\n0    Michel         Brooklyn, Flatlands     Private room   45.0   \n1   Cecilia  Manhattan, Upper West Side  Entire Home/apt  135.0   \n2    Leslie  Brooklyn, Brooklyn Heights  Entire Home/apt  150.0   \n3    Yelena  Manhattan, Upper West Side  Entire Home/apt   86.0   \n4    Brooke  Manhattan, Lower East Side     Private room  160.0   \n\n   number_of_reviews last_review  reviews_per_month  availability_365  \\\n0                 10  2018-12-12               0.70                85   \n1                  1  2019-06-30               1.00               145   \n2                  0         NaT                NaN                65   \n3                  5  2017-09-23               0.13                 0   \n4                 23  2019-06-12               2.29               102   \n\n     rating  number_of_stays   5_stars listing_added  latitude  longitude  \\\n0  4.100954             12.0  0.609432    2018-06-08  40.63222  -73.93398   \n1  3.367600              1.2  0.746135    2018-12-25  40.78761  -73.96862   \n2       NaN              NaN       NaN    2018-08-15  40.70070  -73.99517   \n3  4.763203              6.0  0.769947    2017-03-20  40.79169  -73.97498   \n4  3.822591             27.6  0.649383    2020-10-23  40.71884  -73.98354   \n\n     borough      neighbourhood  \n0   Brooklyn          Flatlands  \n1  Manhattan    Upper West Side  \n2   Brooklyn   Brooklyn Heights  \n3  Manhattan    Upper West Side  \n4  Manhattan    Lower East Side  ",
      "text/html": "<div>\n<style scoped>\n    .dataframe tbody tr th:only-of-type {\n        vertical-align: middle;\n    }\n\n    .dataframe tbody tr th {\n        vertical-align: top;\n    }\n\n    .dataframe thead th {\n        text-align: right;\n    }\n</style>\n<table border=\"1\" class=\"dataframe\">\n  <thead>\n    <tr style=\"text-align: right;\">\n      <th></th>\n      <th>listing_id</th>\n      <th>name</th>\n      <th>host_id</th>\n      <th>host_name</th>\n      <th>neighbourhood_full</th>\n      <th>room_type</th>\n      <th>price</th>\n      <th>number_of_reviews</th>\n      <th>last_review</th>\n      <th>reviews_per_month</th>\n      <th>availability_365</th>\n      <th>rating</th>\n      <th>number_of_stays</th>\n      <th>5_stars</th>\n      <th>listing_added</th>\n      <th>latitude</th>\n      <th>longitude</th>\n      <th>borough</th>\n      <th>neighbourhood</th>\n    </tr>\n  </thead>\n  <tbody>\n    <tr>\n      <th>0</th>\n      <td>13740704</td>\n      <td>Cozy,budget friendly, cable inc, private entra...</td>\n      <td>20583125</td>\n      <td>Michel</td>\n      <td>Brooklyn, Flatlands</td>\n      <td>Private room</td>\n      <td>45.0</td>\n      <td>10</td>\n      <td>2018-12-12</td>\n      <td>0.70</td>\n      <td>85</td>\n      <td>4.100954</td>\n      <td>12.0</td>\n      <td>0.609432</td>\n      <td>2018-06-08</td>\n      <td>40.63222</td>\n      <td>-73.93398</td>\n      <td>Brooklyn</td>\n      <td>Flatlands</td>\n    </tr>\n    <tr>\n      <th>1</th>\n      <td>22005115</td>\n      <td>Two floor apartment near Central Park</td>\n      <td>82746113</td>\n      <td>Cecilia</td>\n      <td>Manhattan, Upper West Side</td>\n      <td>Entire Home/apt</td>\n      <td>135.0</td>\n      <td>1</td>\n      <td>2019-06-30</td>\n      <td>1.00</td>\n      <td>145</td>\n      <td>3.367600</td>\n      <td>1.2</td>\n      <td>0.746135</td>\n      <td>2018-12-25</td>\n      <td>40.78761</td>\n      <td>-73.96862</td>\n      <td>Manhattan</td>\n      <td>Upper West Side</td>\n    </tr>\n    <tr>\n      <th>2</th>\n      <td>21667615</td>\n      <td>Beautiful 1BR in Brooklyn Heights</td>\n      <td>78251</td>\n      <td>Leslie</td>\n      <td>Brooklyn, Brooklyn Heights</td>\n      <td>Entire Home/apt</td>\n      <td>150.0</td>\n      <td>0</td>\n      <td>NaT</td>\n      <td>NaN</td>\n      <td>65</td>\n      <td>NaN</td>\n      <td>NaN</td>\n      <td>NaN</td>\n      <td>2018-08-15</td>\n      <td>40.70070</td>\n      <td>-73.99517</td>\n      <td>Brooklyn</td>\n      <td>Brooklyn Heights</td>\n    </tr>\n    <tr>\n      <th>3</th>\n      <td>6425850</td>\n      <td>Spacious, charming studio</td>\n      <td>32715865</td>\n      <td>Yelena</td>\n      <td>Manhattan, Upper West Side</td>\n      <td>Entire Home/apt</td>\n      <td>86.0</td>\n      <td>5</td>\n      <td>2017-09-23</td>\n      <td>0.13</td>\n      <td>0</td>\n      <td>4.763203</td>\n      <td>6.0</td>\n      <td>0.769947</td>\n      <td>2017-03-20</td>\n      <td>40.79169</td>\n      <td>-73.97498</td>\n      <td>Manhattan</td>\n      <td>Upper West Side</td>\n    </tr>\n    <tr>\n      <th>4</th>\n      <td>22986519</td>\n      <td>Bedroom on the lively Lower East Side</td>\n      <td>154262349</td>\n      <td>Brooke</td>\n      <td>Manhattan, Lower East Side</td>\n      <td>Private room</td>\n      <td>160.0</td>\n      <td>23</td>\n      <td>2019-06-12</td>\n      <td>2.29</td>\n      <td>102</td>\n      <td>3.822591</td>\n      <td>27.6</td>\n      <td>0.649383</td>\n      <td>2020-10-23</td>\n      <td>40.71884</td>\n      <td>-73.98354</td>\n      <td>Manhattan</td>\n      <td>Lower East Side</td>\n    </tr>\n  </tbody>\n</table>\n</div>"
     },
     "execution_count": 19,
     "metadata": {},
     "output_type": "execute_result"
    }
   ],
   "source": [
    "# Split neighbourhood_full\n",
    "\n",
    "airbnb.neighbourhood_full = airbnb.neighbourhood_full.astype(str)\n",
    "airbnb['borough'] = airbnb.neighbourhood_full.str.split(',').str[0]\n",
    "airbnb['neighbourhood'] = airbnb.neighbourhood_full.str.split(',').str[1]\n",
    "\n",
    "airbnb.head()"
   ]
  },
  {
   "cell_type": "code",
   "execution_count": 20,
   "metadata": {
    "colab": {
     "base_uri": "https://localhost:8080/",
     "height": 204
    },
    "id": "mmKhwDxkypDJ",
    "outputId": "4fe03746-000b-4281-dfd9-890184f799f5",
    "ExecuteTime": {
     "end_time": "2024-03-07T17:47:44.244523Z",
     "start_time": "2024-03-07T17:47:44.242019Z"
    }
   },
   "outputs": [],
   "source": [
    "# Create borough and neighbourhood columns\n",
    "\n",
    "# Print header of columns"
   ]
  },
  {
   "cell_type": "code",
   "execution_count": 21,
   "metadata": {
    "id": "SnflzqkwzCnt",
    "ExecuteTime": {
     "end_time": "2024-03-07T17:47:44.265927Z",
     "start_time": "2024-03-07T17:47:44.245041Z"
    }
   },
   "outputs": [
    {
     "data": {
      "text/plain": "       listing_id                                               name  \\\n0        13740704  Cozy,budget friendly, cable inc, private entra...   \n1        22005115              Two floor apartment near Central Park   \n2        21667615                  Beautiful 1BR in Brooklyn Heights   \n3         6425850                          Spacious, charming studio   \n4        22986519              Bedroom on the lively Lower East Side   \n...           ...                                                ...   \n10014    22307861                        Lovely 1BR Harlem apartment   \n10015      953275                Apartment For Your Holidays in NYC!   \n10016     3452835          Artsy, Garden Getaway in Central Brooklyn   \n10017    23540194     Immaculate townhouse in Clinton Hill, Brooklyn   \n10018    32876011     Private room in a perfect location in the city   \n\n         host_id host_name        room_type  price  number_of_reviews  \\\n0       20583125    Michel     Private room   45.0                 10   \n1       82746113   Cecilia  Entire Home/apt  135.0                  1   \n2          78251    Leslie  Entire Home/apt  150.0                  0   \n3       32715865    Yelena  Entire Home/apt   86.0                  5   \n4      154262349    Brooke     Private room  160.0                 23   \n...          ...       ...              ...    ...                ...   \n10014   16004068    Rachel  Entire Home/apt  105.0                  4   \n10015    4460034     Alain  Entire Home/apt  125.0                 50   \n10016     666862       Amy  Entire Home/apt  100.0                 45   \n10017   67176930    Sophie  Entire Home/apt  450.0                  2   \n10018   59583716      Shai     Private room   90.0                  1   \n\n      last_review  reviews_per_month  availability_365    rating  \\\n0      2018-12-12               0.70                85  4.100954   \n1      2019-06-30               1.00               145  3.367600   \n2             NaT                NaN                65       NaN   \n3      2017-09-23               0.13                 0  4.763203   \n4      2019-06-12               2.29               102  3.822591   \n...           ...                ...               ...       ...   \n10014  2018-05-28               0.21                 0  4.757555   \n10015  2018-05-06               0.66               188  4.344704   \n10016  2016-11-27               0.98                 0  3.966214   \n10017  2019-05-31               0.17                99  4.078581   \n10018  2019-03-12               0.25                 8  4.069096   \n\n       number_of_stays   5_stars listing_added  latitude  longitude  \\\n0                 12.0  0.609432    2018-06-08  40.63222  -73.93398   \n1                  1.2  0.746135    2018-12-25  40.78761  -73.96862   \n2                  NaN       NaN    2018-08-15  40.70070  -73.99517   \n3                  6.0  0.769947    2017-03-20  40.79169  -73.97498   \n4                 27.6  0.649383    2020-10-23  40.71884  -73.98354   \n...                ...       ...           ...       ...        ...   \n10014              4.8  0.639223    2017-11-22  40.80379  -73.95257   \n10015             60.0  0.648778    2017-10-31  40.79531  -73.93330   \n10016             54.0  0.631713    2016-05-24  40.68266  -73.96743   \n10017              2.4  0.703360    2018-11-25  40.68832  -73.96366   \n10018              1.2  0.720249    2018-09-06  40.76174  -73.96625   \n\n         borough      neighbourhood  \n0       Brooklyn          Flatlands  \n1      Manhattan    Upper West Side  \n2       Brooklyn   Brooklyn Heights  \n3      Manhattan    Upper West Side  \n4      Manhattan    Lower East Side  \n...          ...                ...  \n10014  Manhattan             Harlem  \n10015  Manhattan        East Harlem  \n10016   Brooklyn       Clinton Hill  \n10017   Brooklyn       Clinton Hill  \n10018  Manhattan    Upper East Side  \n\n[10019 rows x 18 columns]",
      "text/html": "<div>\n<style scoped>\n    .dataframe tbody tr th:only-of-type {\n        vertical-align: middle;\n    }\n\n    .dataframe tbody tr th {\n        vertical-align: top;\n    }\n\n    .dataframe thead th {\n        text-align: right;\n    }\n</style>\n<table border=\"1\" class=\"dataframe\">\n  <thead>\n    <tr style=\"text-align: right;\">\n      <th></th>\n      <th>listing_id</th>\n      <th>name</th>\n      <th>host_id</th>\n      <th>host_name</th>\n      <th>room_type</th>\n      <th>price</th>\n      <th>number_of_reviews</th>\n      <th>last_review</th>\n      <th>reviews_per_month</th>\n      <th>availability_365</th>\n      <th>rating</th>\n      <th>number_of_stays</th>\n      <th>5_stars</th>\n      <th>listing_added</th>\n      <th>latitude</th>\n      <th>longitude</th>\n      <th>borough</th>\n      <th>neighbourhood</th>\n    </tr>\n  </thead>\n  <tbody>\n    <tr>\n      <th>0</th>\n      <td>13740704</td>\n      <td>Cozy,budget friendly, cable inc, private entra...</td>\n      <td>20583125</td>\n      <td>Michel</td>\n      <td>Private room</td>\n      <td>45.0</td>\n      <td>10</td>\n      <td>2018-12-12</td>\n      <td>0.70</td>\n      <td>85</td>\n      <td>4.100954</td>\n      <td>12.0</td>\n      <td>0.609432</td>\n      <td>2018-06-08</td>\n      <td>40.63222</td>\n      <td>-73.93398</td>\n      <td>Brooklyn</td>\n      <td>Flatlands</td>\n    </tr>\n    <tr>\n      <th>1</th>\n      <td>22005115</td>\n      <td>Two floor apartment near Central Park</td>\n      <td>82746113</td>\n      <td>Cecilia</td>\n      <td>Entire Home/apt</td>\n      <td>135.0</td>\n      <td>1</td>\n      <td>2019-06-30</td>\n      <td>1.00</td>\n      <td>145</td>\n      <td>3.367600</td>\n      <td>1.2</td>\n      <td>0.746135</td>\n      <td>2018-12-25</td>\n      <td>40.78761</td>\n      <td>-73.96862</td>\n      <td>Manhattan</td>\n      <td>Upper West Side</td>\n    </tr>\n    <tr>\n      <th>2</th>\n      <td>21667615</td>\n      <td>Beautiful 1BR in Brooklyn Heights</td>\n      <td>78251</td>\n      <td>Leslie</td>\n      <td>Entire Home/apt</td>\n      <td>150.0</td>\n      <td>0</td>\n      <td>NaT</td>\n      <td>NaN</td>\n      <td>65</td>\n      <td>NaN</td>\n      <td>NaN</td>\n      <td>NaN</td>\n      <td>2018-08-15</td>\n      <td>40.70070</td>\n      <td>-73.99517</td>\n      <td>Brooklyn</td>\n      <td>Brooklyn Heights</td>\n    </tr>\n    <tr>\n      <th>3</th>\n      <td>6425850</td>\n      <td>Spacious, charming studio</td>\n      <td>32715865</td>\n      <td>Yelena</td>\n      <td>Entire Home/apt</td>\n      <td>86.0</td>\n      <td>5</td>\n      <td>2017-09-23</td>\n      <td>0.13</td>\n      <td>0</td>\n      <td>4.763203</td>\n      <td>6.0</td>\n      <td>0.769947</td>\n      <td>2017-03-20</td>\n      <td>40.79169</td>\n      <td>-73.97498</td>\n      <td>Manhattan</td>\n      <td>Upper West Side</td>\n    </tr>\n    <tr>\n      <th>4</th>\n      <td>22986519</td>\n      <td>Bedroom on the lively Lower East Side</td>\n      <td>154262349</td>\n      <td>Brooke</td>\n      <td>Private room</td>\n      <td>160.0</td>\n      <td>23</td>\n      <td>2019-06-12</td>\n      <td>2.29</td>\n      <td>102</td>\n      <td>3.822591</td>\n      <td>27.6</td>\n      <td>0.649383</td>\n      <td>2020-10-23</td>\n      <td>40.71884</td>\n      <td>-73.98354</td>\n      <td>Manhattan</td>\n      <td>Lower East Side</td>\n    </tr>\n    <tr>\n      <th>...</th>\n      <td>...</td>\n      <td>...</td>\n      <td>...</td>\n      <td>...</td>\n      <td>...</td>\n      <td>...</td>\n      <td>...</td>\n      <td>...</td>\n      <td>...</td>\n      <td>...</td>\n      <td>...</td>\n      <td>...</td>\n      <td>...</td>\n      <td>...</td>\n      <td>...</td>\n      <td>...</td>\n      <td>...</td>\n      <td>...</td>\n    </tr>\n    <tr>\n      <th>10014</th>\n      <td>22307861</td>\n      <td>Lovely 1BR Harlem apartment</td>\n      <td>16004068</td>\n      <td>Rachel</td>\n      <td>Entire Home/apt</td>\n      <td>105.0</td>\n      <td>4</td>\n      <td>2018-05-28</td>\n      <td>0.21</td>\n      <td>0</td>\n      <td>4.757555</td>\n      <td>4.8</td>\n      <td>0.639223</td>\n      <td>2017-11-22</td>\n      <td>40.80379</td>\n      <td>-73.95257</td>\n      <td>Manhattan</td>\n      <td>Harlem</td>\n    </tr>\n    <tr>\n      <th>10015</th>\n      <td>953275</td>\n      <td>Apartment For Your Holidays in NYC!</td>\n      <td>4460034</td>\n      <td>Alain</td>\n      <td>Entire Home/apt</td>\n      <td>125.0</td>\n      <td>50</td>\n      <td>2018-05-06</td>\n      <td>0.66</td>\n      <td>188</td>\n      <td>4.344704</td>\n      <td>60.0</td>\n      <td>0.648778</td>\n      <td>2017-10-31</td>\n      <td>40.79531</td>\n      <td>-73.93330</td>\n      <td>Manhattan</td>\n      <td>East Harlem</td>\n    </tr>\n    <tr>\n      <th>10016</th>\n      <td>3452835</td>\n      <td>Artsy, Garden Getaway in Central Brooklyn</td>\n      <td>666862</td>\n      <td>Amy</td>\n      <td>Entire Home/apt</td>\n      <td>100.0</td>\n      <td>45</td>\n      <td>2016-11-27</td>\n      <td>0.98</td>\n      <td>0</td>\n      <td>3.966214</td>\n      <td>54.0</td>\n      <td>0.631713</td>\n      <td>2016-05-24</td>\n      <td>40.68266</td>\n      <td>-73.96743</td>\n      <td>Brooklyn</td>\n      <td>Clinton Hill</td>\n    </tr>\n    <tr>\n      <th>10017</th>\n      <td>23540194</td>\n      <td>Immaculate townhouse in Clinton Hill, Brooklyn</td>\n      <td>67176930</td>\n      <td>Sophie</td>\n      <td>Entire Home/apt</td>\n      <td>450.0</td>\n      <td>2</td>\n      <td>2019-05-31</td>\n      <td>0.17</td>\n      <td>99</td>\n      <td>4.078581</td>\n      <td>2.4</td>\n      <td>0.703360</td>\n      <td>2018-11-25</td>\n      <td>40.68832</td>\n      <td>-73.96366</td>\n      <td>Brooklyn</td>\n      <td>Clinton Hill</td>\n    </tr>\n    <tr>\n      <th>10018</th>\n      <td>32876011</td>\n      <td>Private room in a perfect location in the city</td>\n      <td>59583716</td>\n      <td>Shai</td>\n      <td>Private room</td>\n      <td>90.0</td>\n      <td>1</td>\n      <td>2019-03-12</td>\n      <td>0.25</td>\n      <td>8</td>\n      <td>4.069096</td>\n      <td>1.2</td>\n      <td>0.720249</td>\n      <td>2018-09-06</td>\n      <td>40.76174</td>\n      <td>-73.96625</td>\n      <td>Manhattan</td>\n      <td>Upper East Side</td>\n    </tr>\n  </tbody>\n</table>\n<p>10019 rows × 18 columns</p>\n</div>"
     },
     "execution_count": 21,
     "metadata": {},
     "output_type": "execute_result"
    }
   ],
   "source": [
    "# Drop neighbourhood_full column\n",
    "\n",
    "airbnb.drop('neighbourhood_full', axis=1)"
   ]
  },
  {
   "cell_type": "code",
   "execution_count": 22,
   "metadata": {
    "colab": {
     "base_uri": "https://localhost:8080/",
     "height": 816
    },
    "id": "NJqrhMlNzNxk",
    "outputId": "fb53c48b-df6e-4622-921c-82e8fd715a56",
    "ExecuteTime": {
     "end_time": "2024-03-07T17:47:44.272776Z",
     "start_time": "2024-03-07T17:47:44.266933Z"
    }
   },
   "outputs": [
    {
     "data": {
      "text/plain": "array([' Flatlands', ' Upper West Side', ' Brooklyn Heights',\n       ' Lower East Side', ' Greenwich Village', ' Harlem',\n       ' Sheepshead Bay', ' Theater District', ' Bushwick', ' Laurelton',\n       ' Mott Haven', ' Flushing', ' Crown Heights', ' Midtown',\n       ' Financial District', ' East Village', ' Park Slope',\n       ' Washington Heights', ' Williamsburg', ' Chelsea',\n       ' Bedford-Stuyvesant', ' Gowanus', ' Upper East Side',\n       ' Ditmars Steinway', ' Cypress Hills', \" Hell's Kitchen\",\n       ' Ridgewood', ' Marble Hill', ' Kips Bay', ' Prospect Heights',\n       ' East New York', ' Concord', ' Stapleton', ' Astoria',\n       ' East Harlem', ' Sunnyside', ' Gramercy',\n       ' Prospect-Lefferts Gardens', ' Sunset Park', ' Forest Hills',\n       ' Windsor Terrace', ' Clinton Hill', ' Murray Hill',\n       ' Flatiron District', ' Greenpoint', ' East Flatbush', ' Tribeca',\n       ' Woodhaven', ' Fort Greene', ' Inwood', ' Chinatown',\n       ' Rockaway Beach', ' Woodside', ' Bayside', ' Bensonhurst',\n       ' SoHo', ' Red Hook', ' West Village', ' South Slope',\n       ' Richmond Hill', ' Jamaica', ' Boerum Hill', ' St. George',\n       ' Clason Point', ' College Point', ' Vinegar Hill', ' Rego Park',\n       ' East Elmhurst', ' Kensington', ' Roosevelt Island',\n       ' Ozone Park', ' Arverne', ' Fordham', ' Wakefield',\n       ' Port Morris', ' Flatbush', ' Elmhurst', ' Bay Ridge',\n       ' Canarsie', ' Little Italy', ' Civic Center', ' St. Albans',\n       ' Morningside Heights', ' Morrisania', ' Two Bridges',\n       ' Concourse', ' Downtown Brooklyn', ' Queens Village',\n       ' Fieldston', ' Allerton', ' Grymes Hill', ' Carroll Gardens',\n       ' Kingsbridge', ' Belle Harbor', ' NoHo', ' Maspeth',\n       ' Borough Park', ' Midwood', ' Fresh Meadows',\n       ' Battery Park City', ' Pelham Bay', ' Van Nest',\n       ' Long Island City', ' Williamsbridge', ' Nolita', ' Kew Gardens',\n       ' Corona', ' Middle Village', ' Jackson Heights', ' Gravesend',\n       ' New Dorp Beach', ' Brighton Beach', ' Belmont', ' Eltingville',\n       ' South Ozone Park', ' Stuyvesant Town', ' Far Rockaway',\n       ' Longwood', ' Glendale', ' Dongan Hills', ' Hollis',\n       ' Columbia St', ' Tompkinsville', ' Springfield Gardens',\n       ' Concourse Village', ' Throgs Neck', ' Cobble Hill',\n       ' South Beach', ' North Riverdale', ' Rosedale', ' Mount Hope',\n       ' Edenwald', ' Parkchester', ' Mill Basin', ' Brownsville',\n       ' Fort Hamilton', ' Howard Beach', ' Claremont Village',\n       ' Pelham Gardens', ' Westchester Square', ' Kew Gardens Hills',\n       ' Arrochar', ' Edgemere', ' Shore Acres', ' Dyker Heights',\n       ' Mount Eden', ' Randall Manor', ' Jamaica Hills', ' Norwood',\n       ' Tottenville', ' Cambria Heights', ' East Morrisania',\n       ' Soundview', ' Morris Park', ' Bronxdale', ' Bellerose',\n       ' Navy Yard', ' Unionport', ' DUMBO', ' Bayswater', ' Tremont',\n       ' Highbridge', ' Graniteville', ' Baychester', ' Morris Heights',\n       ' Coney Island', ' Briarwood', ' West Farms', \" Prince's Bay\",\n       ' University Heights', ' Clifton', ' Bay Terrace', ' City Island',\n       ' West Brighton', ' Douglaston', ' Schuylerville',\n       ' Port Richmond', ' Oakwood', ' Westerleigh', ' Little Neck',\n       ' Holliswood', ' Bergen Beach', ' Castle Hill', ' Olinville',\n       ' Rosebank', ' Melrose', ' Whitestone', ' Grant City',\n       ' Riverdale', ' Neponsit', ' Bath Beach', ' Mariners Harbor',\n       ' Hunts Point', ' Great Kills', ' Midland Beach', ' Eastchester',\n       ' Jamaica Estates', ' New Springville'], dtype=object)"
     },
     "execution_count": 22,
     "metadata": {},
     "output_type": "execute_result"
    }
   ],
   "source": [
    "# Print out unique values of borough and neighbourhood\n",
    "\n",
    "airbnb.borough.unique()\n",
    "airbnb.neighbourhood.unique()"
   ]
  },
  {
   "cell_type": "code",
   "execution_count": 23,
   "metadata": {
    "colab": {
     "base_uri": "https://localhost:8080/",
     "height": 731
    },
    "id": "sIC_fuLRz-en",
    "outputId": "76d43de4-1409-44c7-e813-a182b858282e",
    "ExecuteTime": {
     "end_time": "2024-03-07T17:47:44.282375Z",
     "start_time": "2024-03-07T17:47:44.272776Z"
    }
   },
   "outputs": [
    {
     "data": {
      "text/plain": "array([' Flatlands', ' Upper West Side', ' Brooklyn Heights',\n       ' Lower East Side', ' Greenwich Village', ' Harlem',\n       ' Sheepshead Bay', ' Theater District', ' Bushwick', ' Laurelton',\n       ' Mott Haven', ' Flushing', ' Crown Heights', ' Midtown',\n       ' Financial District', ' East Village', ' Park Slope',\n       ' Washington Heights', ' Williamsburg', ' Chelsea',\n       ' Bedford-Stuyvesant', ' Gowanus', ' Upper East Side',\n       ' Ditmars Steinway', ' Cypress Hills', \" Hell's Kitchen\",\n       ' Ridgewood', ' Marble Hill', ' Kips Bay', ' Prospect Heights',\n       ' East New York', ' Concord', ' Stapleton', ' Astoria',\n       ' East Harlem', ' Sunnyside', ' Gramercy',\n       ' Prospect-Lefferts Gardens', ' Sunset Park', ' Forest Hills',\n       ' Windsor Terrace', ' Clinton Hill', ' Murray Hill',\n       ' Flatiron District', ' Greenpoint', ' East Flatbush', ' Tribeca',\n       ' Woodhaven', ' Fort Greene', ' Inwood', ' Chinatown',\n       ' Rockaway Beach', ' Woodside', ' Bayside', ' Bensonhurst',\n       ' SoHo', ' Red Hook', ' West Village', ' South Slope',\n       ' Richmond Hill', ' Jamaica', ' Boerum Hill', ' St. George',\n       ' Clason Point', ' College Point', ' Vinegar Hill', ' Rego Park',\n       ' East Elmhurst', ' Kensington', ' Roosevelt Island',\n       ' Ozone Park', ' Arverne', ' Fordham', ' Wakefield',\n       ' Port Morris', ' Flatbush', ' Elmhurst', ' Bay Ridge',\n       ' Canarsie', ' Little Italy', ' Civic Center', ' St. Albans',\n       ' Morningside Heights', ' Morrisania', ' Two Bridges',\n       ' Concourse', ' Downtown Brooklyn', ' Queens Village',\n       ' Fieldston', ' Allerton', ' Grymes Hill', ' Carroll Gardens',\n       ' Kingsbridge', ' Belle Harbor', ' NoHo', ' Maspeth',\n       ' Borough Park', ' Midwood', ' Fresh Meadows',\n       ' Battery Park City', ' Pelham Bay', ' Van Nest',\n       ' Long Island City', ' Williamsbridge', ' Nolita', ' Kew Gardens',\n       ' Corona', ' Middle Village', ' Jackson Heights', ' Gravesend',\n       ' New Dorp Beach', ' Brighton Beach', ' Belmont', ' Eltingville',\n       ' South Ozone Park', ' Stuyvesant Town', ' Far Rockaway',\n       ' Longwood', ' Glendale', ' Dongan Hills', ' Hollis',\n       ' Columbia St', ' Tompkinsville', ' Springfield Gardens',\n       ' Concourse Village', ' Throgs Neck', ' Cobble Hill',\n       ' South Beach', ' North Riverdale', ' Rosedale', ' Mount Hope',\n       ' Edenwald', ' Parkchester', ' Mill Basin', ' Brownsville',\n       ' Fort Hamilton', ' Howard Beach', ' Claremont Village',\n       ' Pelham Gardens', ' Westchester Square', ' Kew Gardens Hills',\n       ' Arrochar', ' Edgemere', ' Shore Acres', ' Dyker Heights',\n       ' Mount Eden', ' Randall Manor', ' Jamaica Hills', ' Norwood',\n       ' Tottenville', ' Cambria Heights', ' East Morrisania',\n       ' Soundview', ' Morris Park', ' Bronxdale', ' Bellerose',\n       ' Navy Yard', ' Unionport', ' DUMBO', ' Bayswater', ' Tremont',\n       ' Highbridge', ' Graniteville', ' Baychester', ' Morris Heights',\n       ' Coney Island', ' Briarwood', ' West Farms', \" Prince's Bay\",\n       ' University Heights', ' Clifton', ' Bay Terrace', ' City Island',\n       ' West Brighton', ' Douglaston', ' Schuylerville',\n       ' Port Richmond', ' Oakwood', ' Westerleigh', ' Little Neck',\n       ' Holliswood', ' Bergen Beach', ' Castle Hill', ' Olinville',\n       ' Rosebank', ' Melrose', ' Whitestone', ' Grant City',\n       ' Riverdale', ' Neponsit', ' Bath Beach', ' Mariners Harbor',\n       ' Hunts Point', ' Great Kills', ' Midland Beach', ' Eastchester',\n       ' Jamaica Estates', ' New Springville'], dtype=object)"
     },
     "execution_count": 23,
     "metadata": {},
     "output_type": "execute_result"
    }
   ],
   "source": [
    "# Strip white space from neighbourhood column\n",
    "\n",
    "airbnb.neighbourhood.str.strip()\n",
    "airbnb.neighbourhood.unique()\n",
    "\n",
    "# Print unique values again"
   ]
  },
  {
   "cell_type": "markdown",
   "metadata": {
    "id": "iFUQqbRp1lil"
   },
   "source": [
    "##### **Task 6:** Make sure we set the correct maximum for `rating` column out of range values"
   ]
  },
  {
   "cell_type": "code",
   "execution_count": 24,
   "metadata": {
    "colab": {
     "base_uri": "https://localhost:8080/",
     "height": 349
    },
    "id": "toWXIeUx2C0o",
    "outputId": "544d5863-c5ff-4b01-c299-fe5a17cd04a1",
    "ExecuteTime": {
     "end_time": "2024-03-07T17:47:44.297715Z",
     "start_time": "2024-03-07T17:47:44.283380Z"
    }
   },
   "outputs": [
    {
     "data": {
      "text/plain": "      listing_id                                        name    host_id  \\\n1925    36411407        Brand new 1 bedroom steps from Soho!   33917435   \n6732    36390226      Comfortable clean Bedstuy private room  267932490   \n8821    36413632  Spacious 2BR in Beautiful Brooklyn Heights    6608220   \n\n     host_name            neighbourhood_full        room_type  price  \\\n1925      Mike    Manhattan, Lower East Side  Entire Home/apt  150.0   \n6732    Angela  Brooklyn, Bedford-Stuyvesant     Private room   45.0   \n8821      Matt    Brooklyn, Brooklyn Heights  Entire Home/apt  550.0   \n\n      number_of_reviews last_review  reviews_per_month  availability_365  \\\n1925                  1  2019-07-06                1.0                13   \n6732                  2  2019-07-08                2.0                14   \n8821                  1  2019-07-07                1.0               230   \n\n        rating  number_of_stays   5_stars listing_added  latitude  longitude  \\\n1925  5.017040              1.2  0.870161    2018-12-31  40.71825  -73.99019   \n6732  5.087091              2.4  0.950339    2019-01-02  40.69551  -73.93951   \n8821  5.181114              1.2  0.805418    2019-01-01  40.69827  -73.99649   \n\n        borough        neighbourhood  \n1925  Manhattan      Lower East Side  \n6732   Brooklyn   Bedford-Stuyvesant  \n8821   Brooklyn     Brooklyn Heights  ",
      "text/html": "<div>\n<style scoped>\n    .dataframe tbody tr th:only-of-type {\n        vertical-align: middle;\n    }\n\n    .dataframe tbody tr th {\n        vertical-align: top;\n    }\n\n    .dataframe thead th {\n        text-align: right;\n    }\n</style>\n<table border=\"1\" class=\"dataframe\">\n  <thead>\n    <tr style=\"text-align: right;\">\n      <th></th>\n      <th>listing_id</th>\n      <th>name</th>\n      <th>host_id</th>\n      <th>host_name</th>\n      <th>neighbourhood_full</th>\n      <th>room_type</th>\n      <th>price</th>\n      <th>number_of_reviews</th>\n      <th>last_review</th>\n      <th>reviews_per_month</th>\n      <th>availability_365</th>\n      <th>rating</th>\n      <th>number_of_stays</th>\n      <th>5_stars</th>\n      <th>listing_added</th>\n      <th>latitude</th>\n      <th>longitude</th>\n      <th>borough</th>\n      <th>neighbourhood</th>\n    </tr>\n  </thead>\n  <tbody>\n    <tr>\n      <th>1925</th>\n      <td>36411407</td>\n      <td>Brand new 1 bedroom steps from Soho!</td>\n      <td>33917435</td>\n      <td>Mike</td>\n      <td>Manhattan, Lower East Side</td>\n      <td>Entire Home/apt</td>\n      <td>150.0</td>\n      <td>1</td>\n      <td>2019-07-06</td>\n      <td>1.0</td>\n      <td>13</td>\n      <td>5.017040</td>\n      <td>1.2</td>\n      <td>0.870161</td>\n      <td>2018-12-31</td>\n      <td>40.71825</td>\n      <td>-73.99019</td>\n      <td>Manhattan</td>\n      <td>Lower East Side</td>\n    </tr>\n    <tr>\n      <th>6732</th>\n      <td>36390226</td>\n      <td>Comfortable clean Bedstuy private room</td>\n      <td>267932490</td>\n      <td>Angela</td>\n      <td>Brooklyn, Bedford-Stuyvesant</td>\n      <td>Private room</td>\n      <td>45.0</td>\n      <td>2</td>\n      <td>2019-07-08</td>\n      <td>2.0</td>\n      <td>14</td>\n      <td>5.087091</td>\n      <td>2.4</td>\n      <td>0.950339</td>\n      <td>2019-01-02</td>\n      <td>40.69551</td>\n      <td>-73.93951</td>\n      <td>Brooklyn</td>\n      <td>Bedford-Stuyvesant</td>\n    </tr>\n    <tr>\n      <th>8821</th>\n      <td>36413632</td>\n      <td>Spacious 2BR in Beautiful Brooklyn Heights</td>\n      <td>6608220</td>\n      <td>Matt</td>\n      <td>Brooklyn, Brooklyn Heights</td>\n      <td>Entire Home/apt</td>\n      <td>550.0</td>\n      <td>1</td>\n      <td>2019-07-07</td>\n      <td>1.0</td>\n      <td>230</td>\n      <td>5.181114</td>\n      <td>1.2</td>\n      <td>0.805418</td>\n      <td>2019-01-01</td>\n      <td>40.69827</td>\n      <td>-73.99649</td>\n      <td>Brooklyn</td>\n      <td>Brooklyn Heights</td>\n    </tr>\n  </tbody>\n</table>\n</div>"
     },
     "execution_count": 24,
     "metadata": {},
     "output_type": "execute_result"
    }
   ],
   "source": [
    "# Isolate rows of rating > 5.0\n",
    "\n",
    "airbnb.query('rating > 5.0')\n"
   ]
  },
  {
   "cell_type": "code",
   "execution_count": 52,
   "metadata": {
    "id": "O6GzdjlP2JZN",
    "ExecuteTime": {
     "end_time": "2024-03-07T17:57:38.980006Z",
     "start_time": "2024-03-07T17:57:38.960692Z"
    }
   },
   "outputs": [
    {
     "data": {
      "text/plain": "       listing_id                                               name  \\\n0        13740704  Cozy,budget friendly, cable inc, private entra...   \n1        22005115              Two floor apartment near Central Park   \n2        21667615                  Beautiful 1BR in Brooklyn Heights   \n3         6425850                          Spacious, charming studio   \n4        22986519              Bedroom on the lively Lower East Side   \n...           ...                                                ...   \n10014    22307861                        Lovely 1BR Harlem apartment   \n10015      953275                Apartment For Your Holidays in NYC!   \n10016     3452835          Artsy, Garden Getaway in Central Brooklyn   \n10017    23540194     Immaculate townhouse in Clinton Hill, Brooklyn   \n10018    32876011     Private room in a perfect location in the city   \n\n         host_id host_name          neighbourhood_full        room_type  \\\n0       20583125    Michel         Brooklyn, Flatlands     Private room   \n1       82746113   Cecilia  Manhattan, Upper West Side  Entire Home/apt   \n2          78251    Leslie  Brooklyn, Brooklyn Heights  Entire Home/apt   \n3       32715865    Yelena  Manhattan, Upper West Side  Entire Home/apt   \n4      154262349    Brooke  Manhattan, Lower East Side     Private room   \n...          ...       ...                         ...              ...   \n10014   16004068    Rachel           Manhattan, Harlem  Entire Home/apt   \n10015    4460034     Alain      Manhattan, East Harlem  Entire Home/apt   \n10016     666862       Amy      Brooklyn, Clinton Hill  Entire Home/apt   \n10017   67176930    Sophie      Brooklyn, Clinton Hill  Entire Home/apt   \n10018   59583716      Shai  Manhattan, Upper East Side     Private room   \n\n       price  number_of_reviews last_review  reviews_per_month  \\\n0       45.0                 10  2018-12-12               0.70   \n1      135.0                  1  2019-06-30               1.00   \n2      150.0                  0         NaT                NaN   \n3       86.0                  5  2017-09-23               0.13   \n4      160.0                 23  2019-06-12               2.29   \n...      ...                ...         ...                ...   \n10014  105.0                  4  2018-05-28               0.21   \n10015  125.0                 50  2018-05-06               0.66   \n10016  100.0                 45  2016-11-27               0.98   \n10017  450.0                  2  2019-05-31               0.17   \n10018   90.0                  1  2019-03-12               0.25   \n\n       availability_365    rating  number_of_stays   5_stars listing_added  \\\n0                    85  4.100954             12.0  0.609432    2018-06-08   \n1                   145  3.367600              1.2  0.746135    2018-12-25   \n2                    65       NaN              NaN       NaN    2018-08-15   \n3                     0  4.763203              6.0  0.769947    2017-03-20   \n4                   102  3.822591             27.6  0.649383    2020-10-23   \n...                 ...       ...              ...       ...           ...   \n10014                 0  4.757555              4.8  0.639223    2017-11-22   \n10015               188  4.344704             60.0  0.648778    2017-10-31   \n10016                 0  3.966214             54.0  0.631713    2016-05-24   \n10017                99  4.078581              2.4  0.703360    2018-11-25   \n10018                 8  4.069096              1.2  0.720249    2018-09-06   \n\n       latitude  longitude    borough      neighbourhood  \n0      40.63222  -73.93398   Brooklyn          Flatlands  \n1      40.78761  -73.96862  Manhattan    Upper West Side  \n2      40.70070  -73.99517   Brooklyn   Brooklyn Heights  \n3      40.79169  -73.97498  Manhattan    Upper West Side  \n4      40.71884  -73.98354  Manhattan    Lower East Side  \n...         ...        ...        ...                ...  \n10014  40.80379  -73.95257  Manhattan             Harlem  \n10015  40.79531  -73.93330  Manhattan        East Harlem  \n10016  40.68266  -73.96743   Brooklyn       Clinton Hill  \n10017  40.68832  -73.96366   Brooklyn       Clinton Hill  \n10018  40.76174  -73.96625  Manhattan    Upper East Side  \n\n[10016 rows x 19 columns]",
      "text/html": "<div>\n<style scoped>\n    .dataframe tbody tr th:only-of-type {\n        vertical-align: middle;\n    }\n\n    .dataframe tbody tr th {\n        vertical-align: top;\n    }\n\n    .dataframe thead th {\n        text-align: right;\n    }\n</style>\n<table border=\"1\" class=\"dataframe\">\n  <thead>\n    <tr style=\"text-align: right;\">\n      <th></th>\n      <th>listing_id</th>\n      <th>name</th>\n      <th>host_id</th>\n      <th>host_name</th>\n      <th>neighbourhood_full</th>\n      <th>room_type</th>\n      <th>price</th>\n      <th>number_of_reviews</th>\n      <th>last_review</th>\n      <th>reviews_per_month</th>\n      <th>availability_365</th>\n      <th>rating</th>\n      <th>number_of_stays</th>\n      <th>5_stars</th>\n      <th>listing_added</th>\n      <th>latitude</th>\n      <th>longitude</th>\n      <th>borough</th>\n      <th>neighbourhood</th>\n    </tr>\n  </thead>\n  <tbody>\n    <tr>\n      <th>0</th>\n      <td>13740704</td>\n      <td>Cozy,budget friendly, cable inc, private entra...</td>\n      <td>20583125</td>\n      <td>Michel</td>\n      <td>Brooklyn, Flatlands</td>\n      <td>Private room</td>\n      <td>45.0</td>\n      <td>10</td>\n      <td>2018-12-12</td>\n      <td>0.70</td>\n      <td>85</td>\n      <td>4.100954</td>\n      <td>12.0</td>\n      <td>0.609432</td>\n      <td>2018-06-08</td>\n      <td>40.63222</td>\n      <td>-73.93398</td>\n      <td>Brooklyn</td>\n      <td>Flatlands</td>\n    </tr>\n    <tr>\n      <th>1</th>\n      <td>22005115</td>\n      <td>Two floor apartment near Central Park</td>\n      <td>82746113</td>\n      <td>Cecilia</td>\n      <td>Manhattan, Upper West Side</td>\n      <td>Entire Home/apt</td>\n      <td>135.0</td>\n      <td>1</td>\n      <td>2019-06-30</td>\n      <td>1.00</td>\n      <td>145</td>\n      <td>3.367600</td>\n      <td>1.2</td>\n      <td>0.746135</td>\n      <td>2018-12-25</td>\n      <td>40.78761</td>\n      <td>-73.96862</td>\n      <td>Manhattan</td>\n      <td>Upper West Side</td>\n    </tr>\n    <tr>\n      <th>2</th>\n      <td>21667615</td>\n      <td>Beautiful 1BR in Brooklyn Heights</td>\n      <td>78251</td>\n      <td>Leslie</td>\n      <td>Brooklyn, Brooklyn Heights</td>\n      <td>Entire Home/apt</td>\n      <td>150.0</td>\n      <td>0</td>\n      <td>NaT</td>\n      <td>NaN</td>\n      <td>65</td>\n      <td>NaN</td>\n      <td>NaN</td>\n      <td>NaN</td>\n      <td>2018-08-15</td>\n      <td>40.70070</td>\n      <td>-73.99517</td>\n      <td>Brooklyn</td>\n      <td>Brooklyn Heights</td>\n    </tr>\n    <tr>\n      <th>3</th>\n      <td>6425850</td>\n      <td>Spacious, charming studio</td>\n      <td>32715865</td>\n      <td>Yelena</td>\n      <td>Manhattan, Upper West Side</td>\n      <td>Entire Home/apt</td>\n      <td>86.0</td>\n      <td>5</td>\n      <td>2017-09-23</td>\n      <td>0.13</td>\n      <td>0</td>\n      <td>4.763203</td>\n      <td>6.0</td>\n      <td>0.769947</td>\n      <td>2017-03-20</td>\n      <td>40.79169</td>\n      <td>-73.97498</td>\n      <td>Manhattan</td>\n      <td>Upper West Side</td>\n    </tr>\n    <tr>\n      <th>4</th>\n      <td>22986519</td>\n      <td>Bedroom on the lively Lower East Side</td>\n      <td>154262349</td>\n      <td>Brooke</td>\n      <td>Manhattan, Lower East Side</td>\n      <td>Private room</td>\n      <td>160.0</td>\n      <td>23</td>\n      <td>2019-06-12</td>\n      <td>2.29</td>\n      <td>102</td>\n      <td>3.822591</td>\n      <td>27.6</td>\n      <td>0.649383</td>\n      <td>2020-10-23</td>\n      <td>40.71884</td>\n      <td>-73.98354</td>\n      <td>Manhattan</td>\n      <td>Lower East Side</td>\n    </tr>\n    <tr>\n      <th>...</th>\n      <td>...</td>\n      <td>...</td>\n      <td>...</td>\n      <td>...</td>\n      <td>...</td>\n      <td>...</td>\n      <td>...</td>\n      <td>...</td>\n      <td>...</td>\n      <td>...</td>\n      <td>...</td>\n      <td>...</td>\n      <td>...</td>\n      <td>...</td>\n      <td>...</td>\n      <td>...</td>\n      <td>...</td>\n      <td>...</td>\n      <td>...</td>\n    </tr>\n    <tr>\n      <th>10014</th>\n      <td>22307861</td>\n      <td>Lovely 1BR Harlem apartment</td>\n      <td>16004068</td>\n      <td>Rachel</td>\n      <td>Manhattan, Harlem</td>\n      <td>Entire Home/apt</td>\n      <td>105.0</td>\n      <td>4</td>\n      <td>2018-05-28</td>\n      <td>0.21</td>\n      <td>0</td>\n      <td>4.757555</td>\n      <td>4.8</td>\n      <td>0.639223</td>\n      <td>2017-11-22</td>\n      <td>40.80379</td>\n      <td>-73.95257</td>\n      <td>Manhattan</td>\n      <td>Harlem</td>\n    </tr>\n    <tr>\n      <th>10015</th>\n      <td>953275</td>\n      <td>Apartment For Your Holidays in NYC!</td>\n      <td>4460034</td>\n      <td>Alain</td>\n      <td>Manhattan, East Harlem</td>\n      <td>Entire Home/apt</td>\n      <td>125.0</td>\n      <td>50</td>\n      <td>2018-05-06</td>\n      <td>0.66</td>\n      <td>188</td>\n      <td>4.344704</td>\n      <td>60.0</td>\n      <td>0.648778</td>\n      <td>2017-10-31</td>\n      <td>40.79531</td>\n      <td>-73.93330</td>\n      <td>Manhattan</td>\n      <td>East Harlem</td>\n    </tr>\n    <tr>\n      <th>10016</th>\n      <td>3452835</td>\n      <td>Artsy, Garden Getaway in Central Brooklyn</td>\n      <td>666862</td>\n      <td>Amy</td>\n      <td>Brooklyn, Clinton Hill</td>\n      <td>Entire Home/apt</td>\n      <td>100.0</td>\n      <td>45</td>\n      <td>2016-11-27</td>\n      <td>0.98</td>\n      <td>0</td>\n      <td>3.966214</td>\n      <td>54.0</td>\n      <td>0.631713</td>\n      <td>2016-05-24</td>\n      <td>40.68266</td>\n      <td>-73.96743</td>\n      <td>Brooklyn</td>\n      <td>Clinton Hill</td>\n    </tr>\n    <tr>\n      <th>10017</th>\n      <td>23540194</td>\n      <td>Immaculate townhouse in Clinton Hill, Brooklyn</td>\n      <td>67176930</td>\n      <td>Sophie</td>\n      <td>Brooklyn, Clinton Hill</td>\n      <td>Entire Home/apt</td>\n      <td>450.0</td>\n      <td>2</td>\n      <td>2019-05-31</td>\n      <td>0.17</td>\n      <td>99</td>\n      <td>4.078581</td>\n      <td>2.4</td>\n      <td>0.703360</td>\n      <td>2018-11-25</td>\n      <td>40.68832</td>\n      <td>-73.96366</td>\n      <td>Brooklyn</td>\n      <td>Clinton Hill</td>\n    </tr>\n    <tr>\n      <th>10018</th>\n      <td>32876011</td>\n      <td>Private room in a perfect location in the city</td>\n      <td>59583716</td>\n      <td>Shai</td>\n      <td>Manhattan, Upper East Side</td>\n      <td>Private room</td>\n      <td>90.0</td>\n      <td>1</td>\n      <td>2019-03-12</td>\n      <td>0.25</td>\n      <td>8</td>\n      <td>4.069096</td>\n      <td>1.2</td>\n      <td>0.720249</td>\n      <td>2018-09-06</td>\n      <td>40.76174</td>\n      <td>-73.96625</td>\n      <td>Manhattan</td>\n      <td>Upper East Side</td>\n    </tr>\n  </tbody>\n</table>\n<p>10016 rows × 19 columns</p>\n</div>"
     },
     "execution_count": 52,
     "metadata": {},
     "output_type": "execute_result"
    }
   ],
   "source": [
    "# Drop these rows and make sure we have effected changes\n",
    "\n",
    "airbnb = airbnb.drop(airbnb.query('rating > 5.0').index)\n",
    "airbnb\n"
   ]
  },
  {
   "cell_type": "code",
   "execution_count": 53,
   "metadata": {
    "colab": {
     "base_uri": "https://localhost:8080/",
     "height": 34
    },
    "id": "ll1KvVJX4Pd3",
    "outputId": "5e1a6b80-1ba8-47f0-88ea-6b53e3cdcd3d",
    "ExecuteTime": {
     "end_time": "2024-03-07T17:59:33.623050Z",
     "start_time": "2024-03-07T17:59:33.618885Z"
    }
   },
   "outputs": [
    {
     "data": {
      "text/plain": "4.999561104773598"
     },
     "execution_count": 53,
     "metadata": {},
     "output_type": "execute_result"
    }
   ],
   "source": [
    "# Get the maximum\n",
    "\n",
    "airbnb.rating.max()"
   ]
  },
  {
   "cell_type": "markdown",
   "metadata": {
    "id": "KGpasg3L6Je4"
   },
   "source": [
    "##### **Task 7:** Check consitent date format in the date columns."
   ]
  },
  {
   "cell_type": "code",
   "execution_count": 58,
   "metadata": {
    "id": "jT_hz8Dj0EhB",
    "ExecuteTime": {
     "end_time": "2024-03-07T18:03:21.221327Z",
     "start_time": "2024-03-07T18:03:21.214876Z"
    }
   },
   "outputs": [
    {
     "data": {
      "text/plain": "Timestamp('2019-07-08 00:00:00')"
     },
     "execution_count": 58,
     "metadata": {},
     "output_type": "execute_result"
    }
   ],
   "source": [
    "# Doing some sanity checks on date data\n",
    "\n",
    "airbnb.listing_added.max()\n",
    "airbnb.last_review.max()\n"
   ]
  },
  {
   "cell_type": "code",
   "execution_count": 59,
   "metadata": {
    "colab": {
     "base_uri": "https://localhost:8080/",
     "height": 69
    },
    "id": "pUKi4Dbi27Zb",
    "outputId": "a34f2e24-1ae0-42ce-f779-437549f1dce8",
    "ExecuteTime": {
     "end_time": "2024-03-07T18:03:44.422790Z",
     "start_time": "2024-03-07T18:03:44.417770Z"
    }
   },
   "outputs": [
    {
     "data": {
      "text/plain": "Timestamp('2020-10-23 00:00:00')"
     },
     "execution_count": 59,
     "metadata": {},
     "output_type": "execute_result"
    }
   ],
   "source": [
    "# Are there reviews in the future?\n",
    "\n",
    "airbnb.listing_added.max()\n"
   ]
  },
  {
   "cell_type": "code",
   "execution_count": 60,
   "metadata": {
    "colab": {
     "base_uri": "https://localhost:8080/",
     "height": 499
    },
    "id": "dZO_yoOZ2-jf",
    "outputId": "44ea0a3e-dbec-49fd-c004-27fe8d14ada4",
    "ExecuteTime": {
     "end_time": "2024-03-07T18:03:52.265901Z",
     "start_time": "2024-03-07T18:03:52.259790Z"
    }
   },
   "outputs": [
    {
     "data": {
      "text/plain": "Timestamp('2019-07-08 00:00:00')"
     },
     "execution_count": 60,
     "metadata": {},
     "output_type": "execute_result"
    }
   ],
   "source": [
    "# Are there listings in the future?\n",
    "\n",
    "airbnb.last_review.max()\n"
   ]
  },
  {
   "cell_type": "code",
   "execution_count": 30,
   "metadata": {
    "id": "3xJUlJFm3cmc",
    "ExecuteTime": {
     "end_time": "2024-03-07T17:47:44.339332Z",
     "start_time": "2024-03-07T17:47:44.333060Z"
    }
   },
   "outputs": [],
   "source": [
    "# Drop these rows since they are only 4 rows\n",
    "\n",
    "# Nothing to drop here\n"
   ]
  },
  {
   "cell_type": "code",
   "execution_count": 61,
   "metadata": {
    "colab": {
     "base_uri": "https://localhost:8080/",
     "height": 250
    },
    "id": "BvqMxmux4e_Q",
    "outputId": "acda368c-0aaf-4ea2-fce3-583502a1a4d1",
    "ExecuteTime": {
     "end_time": "2024-03-07T18:04:41.651381Z",
     "start_time": "2024-03-07T18:04:41.636458Z"
    }
   },
   "outputs": [
    {
     "data": {
      "text/plain": "     listing_id                                               name    host_id  \\\n4      22986519              Bedroom on the lively Lower East Side  154262349   \n50     20783900     Marvelous Manhattan Marble Hill Private Suites  148960265   \n60      1908852                Oversized Studio By Columbus Circle     684629   \n124    28659894  Private bedroom in prime Bushwick! Near Trains!!!  216235179   \n511    33619855          Modern & Spacious in trendy Crown Heights  253354074   \n521    25317793       Awesome Cozy Room in The Heart of Sunnyside!  136406167   \n\n    host_name          neighbourhood_full        room_type  price  \\\n4      Brooke  Manhattan, Lower East Side     Private room  160.0   \n50      Randy      Manhattan, Marble Hill     Private room   93.0   \n60      Alana  Manhattan, Upper West Side  Entire Home/apt  189.0   \n124      Nina          Brooklyn, Bushwick     Private room   55.0   \n511   Yehudis     Brooklyn, Crown Heights             Home  150.0   \n521      Kara           Queens, Sunnyside     Private room   65.0   \n\n     number_of_reviews last_review  reviews_per_month  availability_365  \\\n4                   23  2019-06-12               2.29               102   \n50                   7  2018-10-06               0.32                 0   \n60                   7  2016-05-06               0.13                 0   \n124                  4  2019-04-12               0.58               358   \n511                  6  2019-05-27               2.50               148   \n521                 22  2019-06-11               1.63               131   \n\n       rating  number_of_stays   5_stars listing_added  latitude  longitude  \\\n4    3.822591             27.6  0.649383    2020-10-23  40.71884  -73.98354   \n50   4.868036              8.4  0.609263    2020-02-17  40.87618  -73.91266   \n60   4.841204              8.4  0.725995    2017-09-17  40.77060  -73.98919   \n124  4.916252              4.8  0.703117    2020-08-23  40.69988  -73.92072   \n511  3.462432              7.2  0.610929    2020-10-07  40.66387  -73.93840   \n521  4.442485             26.4  0.722388    2020-10-22  40.74090  -73.92696   \n\n       borough     neighbourhood  \n4    Manhattan   Lower East Side  \n50   Manhattan       Marble Hill  \n60   Manhattan   Upper West Side  \n124   Brooklyn          Bushwick  \n511   Brooklyn     Crown Heights  \n521     Queens         Sunnyside  ",
      "text/html": "<div>\n<style scoped>\n    .dataframe tbody tr th:only-of-type {\n        vertical-align: middle;\n    }\n\n    .dataframe tbody tr th {\n        vertical-align: top;\n    }\n\n    .dataframe thead th {\n        text-align: right;\n    }\n</style>\n<table border=\"1\" class=\"dataframe\">\n  <thead>\n    <tr style=\"text-align: right;\">\n      <th></th>\n      <th>listing_id</th>\n      <th>name</th>\n      <th>host_id</th>\n      <th>host_name</th>\n      <th>neighbourhood_full</th>\n      <th>room_type</th>\n      <th>price</th>\n      <th>number_of_reviews</th>\n      <th>last_review</th>\n      <th>reviews_per_month</th>\n      <th>availability_365</th>\n      <th>rating</th>\n      <th>number_of_stays</th>\n      <th>5_stars</th>\n      <th>listing_added</th>\n      <th>latitude</th>\n      <th>longitude</th>\n      <th>borough</th>\n      <th>neighbourhood</th>\n    </tr>\n  </thead>\n  <tbody>\n    <tr>\n      <th>4</th>\n      <td>22986519</td>\n      <td>Bedroom on the lively Lower East Side</td>\n      <td>154262349</td>\n      <td>Brooke</td>\n      <td>Manhattan, Lower East Side</td>\n      <td>Private room</td>\n      <td>160.0</td>\n      <td>23</td>\n      <td>2019-06-12</td>\n      <td>2.29</td>\n      <td>102</td>\n      <td>3.822591</td>\n      <td>27.6</td>\n      <td>0.649383</td>\n      <td>2020-10-23</td>\n      <td>40.71884</td>\n      <td>-73.98354</td>\n      <td>Manhattan</td>\n      <td>Lower East Side</td>\n    </tr>\n    <tr>\n      <th>50</th>\n      <td>20783900</td>\n      <td>Marvelous Manhattan Marble Hill Private Suites</td>\n      <td>148960265</td>\n      <td>Randy</td>\n      <td>Manhattan, Marble Hill</td>\n      <td>Private room</td>\n      <td>93.0</td>\n      <td>7</td>\n      <td>2018-10-06</td>\n      <td>0.32</td>\n      <td>0</td>\n      <td>4.868036</td>\n      <td>8.4</td>\n      <td>0.609263</td>\n      <td>2020-02-17</td>\n      <td>40.87618</td>\n      <td>-73.91266</td>\n      <td>Manhattan</td>\n      <td>Marble Hill</td>\n    </tr>\n    <tr>\n      <th>60</th>\n      <td>1908852</td>\n      <td>Oversized Studio By Columbus Circle</td>\n      <td>684629</td>\n      <td>Alana</td>\n      <td>Manhattan, Upper West Side</td>\n      <td>Entire Home/apt</td>\n      <td>189.0</td>\n      <td>7</td>\n      <td>2016-05-06</td>\n      <td>0.13</td>\n      <td>0</td>\n      <td>4.841204</td>\n      <td>8.4</td>\n      <td>0.725995</td>\n      <td>2017-09-17</td>\n      <td>40.77060</td>\n      <td>-73.98919</td>\n      <td>Manhattan</td>\n      <td>Upper West Side</td>\n    </tr>\n    <tr>\n      <th>124</th>\n      <td>28659894</td>\n      <td>Private bedroom in prime Bushwick! Near Trains!!!</td>\n      <td>216235179</td>\n      <td>Nina</td>\n      <td>Brooklyn, Bushwick</td>\n      <td>Private room</td>\n      <td>55.0</td>\n      <td>4</td>\n      <td>2019-04-12</td>\n      <td>0.58</td>\n      <td>358</td>\n      <td>4.916252</td>\n      <td>4.8</td>\n      <td>0.703117</td>\n      <td>2020-08-23</td>\n      <td>40.69988</td>\n      <td>-73.92072</td>\n      <td>Brooklyn</td>\n      <td>Bushwick</td>\n    </tr>\n    <tr>\n      <th>511</th>\n      <td>33619855</td>\n      <td>Modern &amp; Spacious in trendy Crown Heights</td>\n      <td>253354074</td>\n      <td>Yehudis</td>\n      <td>Brooklyn, Crown Heights</td>\n      <td>Home</td>\n      <td>150.0</td>\n      <td>6</td>\n      <td>2019-05-27</td>\n      <td>2.50</td>\n      <td>148</td>\n      <td>3.462432</td>\n      <td>7.2</td>\n      <td>0.610929</td>\n      <td>2020-10-07</td>\n      <td>40.66387</td>\n      <td>-73.93840</td>\n      <td>Brooklyn</td>\n      <td>Crown Heights</td>\n    </tr>\n    <tr>\n      <th>521</th>\n      <td>25317793</td>\n      <td>Awesome Cozy Room in The Heart of Sunnyside!</td>\n      <td>136406167</td>\n      <td>Kara</td>\n      <td>Queens, Sunnyside</td>\n      <td>Private room</td>\n      <td>65.0</td>\n      <td>22</td>\n      <td>2019-06-11</td>\n      <td>1.63</td>\n      <td>131</td>\n      <td>4.442485</td>\n      <td>26.4</td>\n      <td>0.722388</td>\n      <td>2020-10-22</td>\n      <td>40.74090</td>\n      <td>-73.92696</td>\n      <td>Queens</td>\n      <td>Sunnyside</td>\n    </tr>\n  </tbody>\n</table>\n</div>"
     },
     "execution_count": 61,
     "metadata": {},
     "output_type": "execute_result"
    }
   ],
   "source": [
    "# Are there any listings with listing_added > last_review\n",
    "\n",
    "airbnb.query('listing_added > last_review')\n"
   ]
  },
  {
   "cell_type": "code",
   "execution_count": 65,
   "metadata": {
    "id": "cCziTT7T4xbT",
    "ExecuteTime": {
     "end_time": "2024-03-07T18:06:19.869789Z",
     "start_time": "2024-03-07T18:06:19.842532Z"
    }
   },
   "outputs": [
    {
     "data": {
      "text/plain": "Empty DataFrame\nColumns: [listing_id, name, host_id, host_name, neighbourhood_full, room_type, price, number_of_reviews, last_review, reviews_per_month, availability_365, rating, number_of_stays, 5_stars, listing_added, latitude, longitude, borough, neighbourhood]\nIndex: []",
      "text/html": "<div>\n<style scoped>\n    .dataframe tbody tr th:only-of-type {\n        vertical-align: middle;\n    }\n\n    .dataframe tbody tr th {\n        vertical-align: top;\n    }\n\n    .dataframe thead th {\n        text-align: right;\n    }\n</style>\n<table border=\"1\" class=\"dataframe\">\n  <thead>\n    <tr style=\"text-align: right;\">\n      <th></th>\n      <th>listing_id</th>\n      <th>name</th>\n      <th>host_id</th>\n      <th>host_name</th>\n      <th>neighbourhood_full</th>\n      <th>room_type</th>\n      <th>price</th>\n      <th>number_of_reviews</th>\n      <th>last_review</th>\n      <th>reviews_per_month</th>\n      <th>availability_365</th>\n      <th>rating</th>\n      <th>number_of_stays</th>\n      <th>5_stars</th>\n      <th>listing_added</th>\n      <th>latitude</th>\n      <th>longitude</th>\n      <th>borough</th>\n      <th>neighbourhood</th>\n    </tr>\n  </thead>\n  <tbody>\n  </tbody>\n</table>\n</div>"
     },
     "execution_count": 65,
     "metadata": {},
     "output_type": "execute_result"
    }
   ],
   "source": [
    "# Drop these rows since they are only 2 rows\n",
    "\n",
    "airbnb = airbnb.drop(airbnb.query('listing_added > last_review').index)\n",
    "airbnb.query('listing_added > last_review')\n",
    "\n"
   ]
  },
  {
   "cell_type": "markdown",
   "metadata": {
    "id": "JD1ChXPF6BR7"
   },
   "source": [
    "##### **Task 8:** Let's deal with duplicate data"
   ]
  },
  {
   "cell_type": "markdown",
   "metadata": {
    "id": "hz9oQHyt8KmO"
   },
   "source": [
    "\n",
    "There are two notable types of duplicate data:\n",
    "\n",
    "- Identical duplicate data across all columns\n",
    "- Identical duplicate data cross most or some columns\n",
    "\n",
    "To diagnose, and deal with duplicate data, we will be using the following methods and functions:\n",
    "\n",
    "- `.duplicated(subset = , keep = )`\n",
    "  - `subset` lets us pick one or more columns with duplicate values.\n",
    "  - `keep` returns lets us return all instances of duplicate values.\n",
    "- `.drop_duplicates(subset = , keep = )`\n",
    "  "
   ]
  },
  {
   "cell_type": "code",
   "execution_count": 68,
   "metadata": {
    "colab": {
     "base_uri": "https://localhost:8080/",
     "height": 462
    },
    "id": "_m3Gdg7x6ATJ",
    "outputId": "d66e76c5-0d10-4b8b-ded5-f0299630652e",
    "ExecuteTime": {
     "end_time": "2024-03-07T18:08:32.922582Z",
     "start_time": "2024-03-07T18:08:32.907991Z"
    }
   },
   "outputs": [
    {
     "data": {
      "text/plain": "   listing_id                                               name   host_id  \\\n0    13740704  Cozy,budget friendly, cable inc, private entra...  20583125   \n1    22005115              Two floor apartment near Central Park  82746113   \n2    21667615                  Beautiful 1BR in Brooklyn Heights     78251   \n3     6425850                          Spacious, charming studio  32715865   \n5      271954                     Beautiful brownstone apartment   1423798   \n\n  host_name            neighbourhood_full        room_type  price  \\\n0    Michel           Brooklyn, Flatlands     Private room   45.0   \n1   Cecilia    Manhattan, Upper West Side  Entire Home/apt  135.0   \n2    Leslie    Brooklyn, Brooklyn Heights  Entire Home/apt  150.0   \n3    Yelena    Manhattan, Upper West Side  Entire Home/apt   86.0   \n5        Aj  Manhattan, Greenwich Village  Entire Home/apt  150.0   \n\n   number_of_reviews last_review  reviews_per_month  availability_365  \\\n0                 10  2018-12-12               0.70                85   \n1                  1  2019-06-30               1.00               145   \n2                  0         NaT                NaN                65   \n3                  5  2017-09-23               0.13                 0   \n5                203  2019-06-20               2.22               300   \n\n     rating  number_of_stays   5_stars listing_added  latitude  longitude  \\\n0  4.100954             12.0  0.609432    2018-06-08  40.63222  -73.93398   \n1  3.367600              1.2  0.746135    2018-12-25  40.78761  -73.96862   \n2       NaN              NaN       NaN    2018-08-15  40.70070  -73.99517   \n3  4.763203              6.0  0.769947    2017-03-20  40.79169  -73.97498   \n5  4.478396            243.6  0.743500    2018-12-15  40.73388  -73.99452   \n\n     borough       neighbourhood  \n0   Brooklyn           Flatlands  \n1  Manhattan     Upper West Side  \n2   Brooklyn    Brooklyn Heights  \n3  Manhattan     Upper West Side  \n5  Manhattan   Greenwich Village  ",
      "text/html": "<div>\n<style scoped>\n    .dataframe tbody tr th:only-of-type {\n        vertical-align: middle;\n    }\n\n    .dataframe tbody tr th {\n        vertical-align: top;\n    }\n\n    .dataframe thead th {\n        text-align: right;\n    }\n</style>\n<table border=\"1\" class=\"dataframe\">\n  <thead>\n    <tr style=\"text-align: right;\">\n      <th></th>\n      <th>listing_id</th>\n      <th>name</th>\n      <th>host_id</th>\n      <th>host_name</th>\n      <th>neighbourhood_full</th>\n      <th>room_type</th>\n      <th>price</th>\n      <th>number_of_reviews</th>\n      <th>last_review</th>\n      <th>reviews_per_month</th>\n      <th>availability_365</th>\n      <th>rating</th>\n      <th>number_of_stays</th>\n      <th>5_stars</th>\n      <th>listing_added</th>\n      <th>latitude</th>\n      <th>longitude</th>\n      <th>borough</th>\n      <th>neighbourhood</th>\n    </tr>\n  </thead>\n  <tbody>\n    <tr>\n      <th>0</th>\n      <td>13740704</td>\n      <td>Cozy,budget friendly, cable inc, private entra...</td>\n      <td>20583125</td>\n      <td>Michel</td>\n      <td>Brooklyn, Flatlands</td>\n      <td>Private room</td>\n      <td>45.0</td>\n      <td>10</td>\n      <td>2018-12-12</td>\n      <td>0.70</td>\n      <td>85</td>\n      <td>4.100954</td>\n      <td>12.0</td>\n      <td>0.609432</td>\n      <td>2018-06-08</td>\n      <td>40.63222</td>\n      <td>-73.93398</td>\n      <td>Brooklyn</td>\n      <td>Flatlands</td>\n    </tr>\n    <tr>\n      <th>1</th>\n      <td>22005115</td>\n      <td>Two floor apartment near Central Park</td>\n      <td>82746113</td>\n      <td>Cecilia</td>\n      <td>Manhattan, Upper West Side</td>\n      <td>Entire Home/apt</td>\n      <td>135.0</td>\n      <td>1</td>\n      <td>2019-06-30</td>\n      <td>1.00</td>\n      <td>145</td>\n      <td>3.367600</td>\n      <td>1.2</td>\n      <td>0.746135</td>\n      <td>2018-12-25</td>\n      <td>40.78761</td>\n      <td>-73.96862</td>\n      <td>Manhattan</td>\n      <td>Upper West Side</td>\n    </tr>\n    <tr>\n      <th>2</th>\n      <td>21667615</td>\n      <td>Beautiful 1BR in Brooklyn Heights</td>\n      <td>78251</td>\n      <td>Leslie</td>\n      <td>Brooklyn, Brooklyn Heights</td>\n      <td>Entire Home/apt</td>\n      <td>150.0</td>\n      <td>0</td>\n      <td>NaT</td>\n      <td>NaN</td>\n      <td>65</td>\n      <td>NaN</td>\n      <td>NaN</td>\n      <td>NaN</td>\n      <td>2018-08-15</td>\n      <td>40.70070</td>\n      <td>-73.99517</td>\n      <td>Brooklyn</td>\n      <td>Brooklyn Heights</td>\n    </tr>\n    <tr>\n      <th>3</th>\n      <td>6425850</td>\n      <td>Spacious, charming studio</td>\n      <td>32715865</td>\n      <td>Yelena</td>\n      <td>Manhattan, Upper West Side</td>\n      <td>Entire Home/apt</td>\n      <td>86.0</td>\n      <td>5</td>\n      <td>2017-09-23</td>\n      <td>0.13</td>\n      <td>0</td>\n      <td>4.763203</td>\n      <td>6.0</td>\n      <td>0.769947</td>\n      <td>2017-03-20</td>\n      <td>40.79169</td>\n      <td>-73.97498</td>\n      <td>Manhattan</td>\n      <td>Upper West Side</td>\n    </tr>\n    <tr>\n      <th>5</th>\n      <td>271954</td>\n      <td>Beautiful brownstone apartment</td>\n      <td>1423798</td>\n      <td>Aj</td>\n      <td>Manhattan, Greenwich Village</td>\n      <td>Entire Home/apt</td>\n      <td>150.0</td>\n      <td>203</td>\n      <td>2019-06-20</td>\n      <td>2.22</td>\n      <td>300</td>\n      <td>4.478396</td>\n      <td>243.6</td>\n      <td>0.743500</td>\n      <td>2018-12-15</td>\n      <td>40.73388</td>\n      <td>-73.99452</td>\n      <td>Manhattan</td>\n      <td>Greenwich Village</td>\n    </tr>\n  </tbody>\n</table>\n</div>"
     },
     "execution_count": 68,
     "metadata": {},
     "output_type": "execute_result"
    }
   ],
   "source": [
    "# Print the header of the DataFrame again\n",
    "\n",
    "airbnb.head(5)\n"
   ]
  },
  {
   "cell_type": "code",
   "execution_count": 85,
   "metadata": {
    "colab": {
     "base_uri": "https://localhost:8080/",
     "height": 221
    },
    "id": "EzT8q3SCIW7w",
    "outputId": "72825341-2a6b-4db3-b32a-ab1a806be314",
    "ExecuteTime": {
     "end_time": "2024-03-07T18:41:16.741326Z",
     "start_time": "2024-03-07T18:41:16.720171Z"
    }
   },
   "outputs": [
    {
     "data": {
      "text/plain": "      listing_id                                               name  \\\n77       7319856                 450ft Square Studio in Gramercy NY   \n368     17861841                             THE CREATIVE COZY ROOM   \n555      9078222                Prospect Park 3 bdrm, Sleeps 8 (#2)   \n1145      253806                   Loft Suite @ The Box House Hotel   \n1338    32610834                            Manhattan by the water!   \n1481    15027024  Newly renovated 1bd on lively & historic St Marks   \n1658    35646737                Private Cabins @ Chelsea, Manhattan   \n2118    33346762              2BR Apartment in Brownstone Brooklyn!   \n2255     7319856                 450ft Square Studio in Gramercy NY   \n2871     4244242  Best Bedroom in Bedstuy/Bushwick. Ensuite bath...   \n3007    17861841                             THE CREATIVE COZY ROOM   \n3065    16518377        East Village 1BR Apt with all the amenities   \n3340    35646737                Private Cabins @ Chelsea, Manhattan   \n3430    15027024  Newly renovated 1bd on lively & historic St Marks   \n4187     4244242  Best Bedroom in Bedstuy/Bushwick. Ensuite bath...   \n5025    33831116  Sonder | Stock Exchange | Collected 1BR + Laundry   \n5077    33831116  Sonder | Stock Exchange | Collected 1BR + Laundry   \n5236    29844951                                Cozy Home In Queens   \n5246    22014840       Sunny Bedroom Only 1 Metro Stop to Manhattan   \n5251    19477677                    Huge sunny room next to subway!   \n5397    16518377        East Village 1BR Apt with all the amenities   \n5454    21106251        Private Bedroom in Great Brooklyn Apartment   \n5761     2044392                The heart of Williamsburg 2 bedroom   \n5861    23990868                       1 Bedroom in Luxury Building   \n6068    22014840       Sunny Bedroom Only 1 Metro Stop to Manhattan   \n6085    33346762              2BR Apartment in Brownstone Brooklyn!   \n6132    23990868                       1 Bedroom in Luxury Building   \n6313    32610834                            Manhattan by the water!   \n6438    19477677                    Huge sunny room next to subway!   \n6562      253806                   Loft Suite @ The Box House Hotel   \n6832    21106251        Private Bedroom in Great Brooklyn Apartment   \n7116    26554879                     East Village/Union Square Flat   \n7155    35801208                 Comfy 2 bedroom Close To Manhattan   \n7316    31470004  Private bedroom/Bathroom in a 2 bedroom apartment   \n7769    26554879                     East Village/Union Square Flat   \n7933     9078222                Prospect Park 3 bdrm, Sleeps 8 (#2)   \n8699     2044392                The heart of Williamsburg 2 bedroom   \n9265    35801208                 Comfy 2 bedroom Close To Manhattan   \n9322    31470004  Private bedroom/Bathroom in a 2 bedroom apartment   \n9425    29844951                                Cozy Home In Queens   \n\n        host_id            host_name                   neighbourhood_full  \\\n77     11773680                 Adam                  Manhattan, Kips Bay   \n368    47591528              Janessa             Brooklyn, Sheepshead Bay   \n555    47219962             Babajide  Brooklyn, Prospect-Lefferts Gardens   \n1145     417504  The Box House Hotel                 Brooklyn, Greenpoint   \n1338   12132369                 Omar                  Manhattan, Kips Bay   \n1481    8344620                Ethan              Manhattan, East Village   \n1658  117365574                Maria                   Manhattan, Chelsea   \n2118   50321289                Avery         Brooklyn, Bedford-Stuyvesant   \n2255   11773680                 Adam                  Manhattan, Kips Bay   \n2871   22023014       BrooklynSleeps         Brooklyn, Bedford-Stuyvesant   \n3007   47591528              Janessa             Brooklyn, Sheepshead Bay   \n3065    3012457                 Cody              Manhattan, East Village   \n3340  117365574                Maria                   Manhattan, Chelsea   \n3430    8344620                Ethan              Manhattan, East Village   \n4187   22023014       BrooklynSleeps         Brooklyn, Bedford-Stuyvesant   \n5025  219517861         Sonder (NYC)        Manhattan, Financial District   \n5077  219517861         Sonder (NYC)        Manhattan, Financial District   \n5236   49946447                  Rah                      Queens, Jamaica   \n5246   32093643             Scarlett          Manhattan, Roosevelt Island   \n5251   25038748               Justin                    Manhattan, Harlem   \n5397    3012457                 Cody              Manhattan, East Village   \n5454   25354313                Tommy              Brooklyn, Crown Heights   \n5761     620218                Sarah               Brooklyn, Williamsburg   \n5861    4447548                Grace         Brooklyn, Bedford-Stuyvesant   \n6068   32093643             Scarlett          Manhattan, Roosevelt Island   \n6085   50321289                Avery         Brooklyn, Bedford-Stuyvesant   \n6132    4447548                Grace         Brooklyn, Bedford-Stuyvesant   \n6313   12132369                 Omar                  Manhattan, Kips Bay   \n6438   25038748               Justin                    Manhattan, Harlem   \n6562     417504  The Box House Hotel                 Brooklyn, Greenpoint   \n6832   25354313                Tommy              Brooklyn, Crown Heights   \n7116   17400431                  Bob              Manhattan, East Village   \n7155  256911412               Taylor               Brooklyn, Williamsburg   \n7316   71241932                  Max              Manhattan, East Village   \n7769   17400431                  Bob              Manhattan, East Village   \n7933   47219962             Babajide  Brooklyn, Prospect-Lefferts Gardens   \n8699     620218                Sarah               Brooklyn, Williamsburg   \n9265  256911412               Taylor               Brooklyn, Williamsburg   \n9322   71241932                  Max              Manhattan, East Village   \n9425   49946447                  Rah                      Queens, Jamaica   \n\n            room_type   price  number_of_reviews last_review  \\\n77    Entire Home/apt   289.0                  4  2016-05-22   \n368      Private room    99.0                 13  2019-05-23   \n555   Entire Home/apt   154.0                123  2019-07-01   \n1145  Entire Home/apt   199.0                 43  2019-07-02   \n1338  Entire Home/apt   150.0                  0         NaT   \n1481  Entire Home/apt   180.0                 10  2018-12-31   \n1658     Private room    85.0                  1  2019-06-22   \n2118  Entire Home/apt   140.0                  4  2019-06-14   \n2255  Entire Home/apt   280.0                  4  2016-05-22   \n2871     Private room    70.0                110  2019-06-23   \n3007     Private room    99.0                 13  2019-05-23   \n3065  Entire Home/apt   200.0                  3  2018-07-10   \n3340     Private room    85.0                  1  2019-06-22   \n3430  Entire Home/apt   180.0                 10  2018-12-31   \n4187     Private room    73.0                110  2019-06-23   \n5025  Entire Home/apt   229.0                  5  2019-06-15   \n5077  Entire Home/apt   229.0                  5  2019-06-15   \n5236     Private room    50.0                  1  2019-03-19   \n5246     Private room    70.0                  2  2018-01-07   \n5251     Private room    70.0                 11  2019-05-11   \n5397  Entire Home/apt   200.0                  3  2018-07-10   \n5454     Private room    45.0                  9  2019-06-22   \n5761  Entire Home/apt   250.0                  0         NaT   \n5861  Entire Home/apt    88.0                  8  2019-06-16   \n6068     Private room    70.0                  2  2018-01-07   \n6085  Entire Home/apt   140.0                  4  2019-06-14   \n6132  Entire Home/apt    88.0                  8  2019-06-16   \n6313  Entire Home/apt   150.0                  0         NaT   \n6438     Private room    70.0                 11  2019-05-11   \n6562  Entire Home/apt   199.0                 43  2019-07-02   \n6832     Private room    45.0                  9  2019-06-22   \n7116  Entire Home/apt   179.0                 32  2019-06-26   \n7155  Entire Home/apt   101.0                  0         NaT   \n7316     Private room  2500.0                  0         NaT   \n7769  Entire Home/apt   179.0                 32  2019-06-26   \n7933  Entire Home/apt   150.0                123  2019-07-01   \n8699  Entire Home/apt   245.0                  0         NaT   \n9265  Entire Home/apt   101.0                  0         NaT   \n9322     Private room  2500.0                  0         NaT   \n9425     Private room    50.0                  1  2019-03-19   \n\n      reviews_per_month  availability_365    rating  number_of_stays  \\\n77                 0.09               225  3.903764              4.8   \n368                0.52                82  4.806590             15.6   \n555                2.74               263  3.466881            147.6   \n1145               0.47                60  4.620238             51.6   \n1338                NaN                 9       NaN              NaN   \n1481               0.30                 0  3.969729             12.0   \n1658               1.00               261  4.951714              1.2   \n2118               1.58                 4  4.013393              4.8   \n2255               0.09               225  3.903764              4.8   \n2871               1.96               323  4.962314            132.0   \n3007               0.52                82  4.806590             15.6   \n3065               0.16                 0  4.676670              3.6   \n3340               1.00               261  4.951714              1.2   \n3430               0.30                 0  3.869729             12.0   \n4187               1.96               323  4.962314            132.0   \n5025               1.92               350  4.026379              6.0   \n5077               1.92               350  4.026379              6.0   \n5236               0.27               311  4.792923              1.2   \n5246               0.11                 0  4.024336              2.4   \n5251               0.45                 0  3.074890             13.2   \n5397               0.16                 0  4.676670              3.6   \n5454               0.43                 0  3.779114             10.8   \n5761                NaN                 0       NaN              NaN   \n5861               0.56                18  4.164548              9.6   \n6068               0.11                 0  4.024336              2.4   \n6085               1.58                 4  4.013393              4.8   \n6132               0.56                18  4.164548              9.6   \n6313                NaN                 9       NaN              NaN   \n6438               0.45                 0  3.074890             13.2   \n6562               0.47                60  4.620238             51.6   \n6832               0.43                 0  3.779114             10.8   \n7116               2.92                12  3.125513             38.4   \n7155                NaN                27       NaN              NaN   \n7316                NaN                90       NaN              NaN   \n7769               2.92                12  3.125513             38.4   \n7933               2.74               263  3.466881            147.6   \n8699                NaN                 0       NaN              NaN   \n9265                NaN                27       NaN              NaN   \n9322                NaN                90       NaN              NaN   \n9425               0.27               311  4.792923              1.2   \n\n       5_stars listing_added  latitude  longitude    borough  \\\n77    0.756381    2015-11-17  40.73813  -73.98098  Manhattan   \n368   0.937422    2018-11-17  40.59211  -73.94127   Brooklyn   \n555   0.738191    2018-12-26  40.66086  -73.96159   Brooklyn   \n1145  0.861086    2018-12-27  40.73652  -73.95236   Brooklyn   \n1338       NaN    2018-06-28  40.73767  -73.97384  Manhattan   \n1481  0.772513    2018-06-27  40.72693  -73.98385  Manhattan   \n1658  0.671388    2018-12-17  40.74946  -73.99627  Manhattan   \n2118  0.719591    2018-12-09  40.68200  -73.95681   Brooklyn   \n2255  0.756381    2015-11-17  40.73813  -73.98098  Manhattan   \n2871  0.809882    2018-12-18  40.69496  -73.93949   Brooklyn   \n3007  0.937422    2018-11-17  40.59211  -73.94127   Brooklyn   \n3065  0.694443    2018-01-04  40.72350  -73.97963  Manhattan   \n3340  0.671388    2018-12-17  40.74946  -73.99627  Manhattan   \n3430  0.772513    2018-06-27  40.72693  -73.98385  Manhattan   \n4187  0.809882    2018-12-18  40.69496  -73.93949   Brooklyn   \n5025  0.601737    2018-12-10  40.70621  -74.01199  Manhattan   \n5077  0.601737    2018-12-10  40.70621  -74.01199  Manhattan   \n5236  0.701232    2018-09-13  40.68842  -73.77677     Queens   \n5246  0.719426    2017-07-04  40.76211  -73.94887  Manhattan   \n5251  0.631619    2018-11-05  40.82119  -73.95583  Manhattan   \n5397  0.694443    2018-01-04  40.72350  -73.97963  Manhattan   \n5454  0.738191    2018-12-17  40.67359  -73.95812   Brooklyn   \n5761       NaN    2018-05-24  40.71257  -73.96149   Brooklyn   \n5861  0.640106    2018-12-11  40.69336  -73.94453   Brooklyn   \n6068  0.719426    2017-07-04  40.76211  -73.94887  Manhattan   \n6085  0.719591    2018-12-09  40.68200  -73.95681   Brooklyn   \n6132  0.640106    2018-12-11  40.69336  -73.94453   Brooklyn   \n6313       NaN    2018-06-28  40.73767  -73.97384  Manhattan   \n6438  0.631619    2018-11-05  40.82119  -73.95583  Manhattan   \n6562  0.861086    2018-12-27  40.73652  -73.95236   Brooklyn   \n6832  0.738191    2018-12-17  40.67359  -73.95812   Brooklyn   \n7116  0.631764    2018-12-21  40.73177  -73.98691  Manhattan   \n7155       NaN    2018-10-17  40.70469  -73.93690   Brooklyn   \n7316       NaN    2018-04-09  40.72544  -73.97818  Manhattan   \n7769  0.631764    2018-12-21  40.73177  -73.98691  Manhattan   \n7933  0.738191    2018-12-26  40.66086  -73.96159   Brooklyn   \n8699       NaN    2018-08-09  40.71257  -73.96149   Brooklyn   \n9265       NaN    2018-05-03  40.70469  -73.93690   Brooklyn   \n9322       NaN    2018-03-12  40.72544  -73.97818  Manhattan   \n9425  0.701232    2018-09-13  40.68842  -73.77677     Queens   \n\n                   neighbourhood  \n77                      Kips Bay  \n368               Sheepshead Bay  \n555    Prospect-Lefferts Gardens  \n1145                  Greenpoint  \n1338                    Kips Bay  \n1481                East Village  \n1658                     Chelsea  \n2118          Bedford-Stuyvesant  \n2255                    Kips Bay  \n2871          Bedford-Stuyvesant  \n3007              Sheepshead Bay  \n3065                East Village  \n3340                     Chelsea  \n3430                East Village  \n4187          Bedford-Stuyvesant  \n5025          Financial District  \n5077          Financial District  \n5236                     Jamaica  \n5246            Roosevelt Island  \n5251                      Harlem  \n5397                East Village  \n5454               Crown Heights  \n5761                Williamsburg  \n5861          Bedford-Stuyvesant  \n6068            Roosevelt Island  \n6085          Bedford-Stuyvesant  \n6132          Bedford-Stuyvesant  \n6313                    Kips Bay  \n6438                      Harlem  \n6562                  Greenpoint  \n6832               Crown Heights  \n7116                East Village  \n7155                Williamsburg  \n7316                East Village  \n7769                East Village  \n7933   Prospect-Lefferts Gardens  \n8699                Williamsburg  \n9265                Williamsburg  \n9322                East Village  \n9425                     Jamaica  ",
      "text/html": "<div>\n<style scoped>\n    .dataframe tbody tr th:only-of-type {\n        vertical-align: middle;\n    }\n\n    .dataframe tbody tr th {\n        vertical-align: top;\n    }\n\n    .dataframe thead th {\n        text-align: right;\n    }\n</style>\n<table border=\"1\" class=\"dataframe\">\n  <thead>\n    <tr style=\"text-align: right;\">\n      <th></th>\n      <th>listing_id</th>\n      <th>name</th>\n      <th>host_id</th>\n      <th>host_name</th>\n      <th>neighbourhood_full</th>\n      <th>room_type</th>\n      <th>price</th>\n      <th>number_of_reviews</th>\n      <th>last_review</th>\n      <th>reviews_per_month</th>\n      <th>availability_365</th>\n      <th>rating</th>\n      <th>number_of_stays</th>\n      <th>5_stars</th>\n      <th>listing_added</th>\n      <th>latitude</th>\n      <th>longitude</th>\n      <th>borough</th>\n      <th>neighbourhood</th>\n    </tr>\n  </thead>\n  <tbody>\n    <tr>\n      <th>77</th>\n      <td>7319856</td>\n      <td>450ft Square Studio in Gramercy NY</td>\n      <td>11773680</td>\n      <td>Adam</td>\n      <td>Manhattan, Kips Bay</td>\n      <td>Entire Home/apt</td>\n      <td>289.0</td>\n      <td>4</td>\n      <td>2016-05-22</td>\n      <td>0.09</td>\n      <td>225</td>\n      <td>3.903764</td>\n      <td>4.8</td>\n      <td>0.756381</td>\n      <td>2015-11-17</td>\n      <td>40.73813</td>\n      <td>-73.98098</td>\n      <td>Manhattan</td>\n      <td>Kips Bay</td>\n    </tr>\n    <tr>\n      <th>368</th>\n      <td>17861841</td>\n      <td>THE CREATIVE COZY ROOM</td>\n      <td>47591528</td>\n      <td>Janessa</td>\n      <td>Brooklyn, Sheepshead Bay</td>\n      <td>Private room</td>\n      <td>99.0</td>\n      <td>13</td>\n      <td>2019-05-23</td>\n      <td>0.52</td>\n      <td>82</td>\n      <td>4.806590</td>\n      <td>15.6</td>\n      <td>0.937422</td>\n      <td>2018-11-17</td>\n      <td>40.59211</td>\n      <td>-73.94127</td>\n      <td>Brooklyn</td>\n      <td>Sheepshead Bay</td>\n    </tr>\n    <tr>\n      <th>555</th>\n      <td>9078222</td>\n      <td>Prospect Park 3 bdrm, Sleeps 8 (#2)</td>\n      <td>47219962</td>\n      <td>Babajide</td>\n      <td>Brooklyn, Prospect-Lefferts Gardens</td>\n      <td>Entire Home/apt</td>\n      <td>154.0</td>\n      <td>123</td>\n      <td>2019-07-01</td>\n      <td>2.74</td>\n      <td>263</td>\n      <td>3.466881</td>\n      <td>147.6</td>\n      <td>0.738191</td>\n      <td>2018-12-26</td>\n      <td>40.66086</td>\n      <td>-73.96159</td>\n      <td>Brooklyn</td>\n      <td>Prospect-Lefferts Gardens</td>\n    </tr>\n    <tr>\n      <th>1145</th>\n      <td>253806</td>\n      <td>Loft Suite @ The Box House Hotel</td>\n      <td>417504</td>\n      <td>The Box House Hotel</td>\n      <td>Brooklyn, Greenpoint</td>\n      <td>Entire Home/apt</td>\n      <td>199.0</td>\n      <td>43</td>\n      <td>2019-07-02</td>\n      <td>0.47</td>\n      <td>60</td>\n      <td>4.620238</td>\n      <td>51.6</td>\n      <td>0.861086</td>\n      <td>2018-12-27</td>\n      <td>40.73652</td>\n      <td>-73.95236</td>\n      <td>Brooklyn</td>\n      <td>Greenpoint</td>\n    </tr>\n    <tr>\n      <th>1338</th>\n      <td>32610834</td>\n      <td>Manhattan by the water!</td>\n      <td>12132369</td>\n      <td>Omar</td>\n      <td>Manhattan, Kips Bay</td>\n      <td>Entire Home/apt</td>\n      <td>150.0</td>\n      <td>0</td>\n      <td>NaT</td>\n      <td>NaN</td>\n      <td>9</td>\n      <td>NaN</td>\n      <td>NaN</td>\n      <td>NaN</td>\n      <td>2018-06-28</td>\n      <td>40.73767</td>\n      <td>-73.97384</td>\n      <td>Manhattan</td>\n      <td>Kips Bay</td>\n    </tr>\n    <tr>\n      <th>1481</th>\n      <td>15027024</td>\n      <td>Newly renovated 1bd on lively &amp; historic St Marks</td>\n      <td>8344620</td>\n      <td>Ethan</td>\n      <td>Manhattan, East Village</td>\n      <td>Entire Home/apt</td>\n      <td>180.0</td>\n      <td>10</td>\n      <td>2018-12-31</td>\n      <td>0.30</td>\n      <td>0</td>\n      <td>3.969729</td>\n      <td>12.0</td>\n      <td>0.772513</td>\n      <td>2018-06-27</td>\n      <td>40.72693</td>\n      <td>-73.98385</td>\n      <td>Manhattan</td>\n      <td>East Village</td>\n    </tr>\n    <tr>\n      <th>1658</th>\n      <td>35646737</td>\n      <td>Private Cabins @ Chelsea, Manhattan</td>\n      <td>117365574</td>\n      <td>Maria</td>\n      <td>Manhattan, Chelsea</td>\n      <td>Private room</td>\n      <td>85.0</td>\n      <td>1</td>\n      <td>2019-06-22</td>\n      <td>1.00</td>\n      <td>261</td>\n      <td>4.951714</td>\n      <td>1.2</td>\n      <td>0.671388</td>\n      <td>2018-12-17</td>\n      <td>40.74946</td>\n      <td>-73.99627</td>\n      <td>Manhattan</td>\n      <td>Chelsea</td>\n    </tr>\n    <tr>\n      <th>2118</th>\n      <td>33346762</td>\n      <td>2BR Apartment in Brownstone Brooklyn!</td>\n      <td>50321289</td>\n      <td>Avery</td>\n      <td>Brooklyn, Bedford-Stuyvesant</td>\n      <td>Entire Home/apt</td>\n      <td>140.0</td>\n      <td>4</td>\n      <td>2019-06-14</td>\n      <td>1.58</td>\n      <td>4</td>\n      <td>4.013393</td>\n      <td>4.8</td>\n      <td>0.719591</td>\n      <td>2018-12-09</td>\n      <td>40.68200</td>\n      <td>-73.95681</td>\n      <td>Brooklyn</td>\n      <td>Bedford-Stuyvesant</td>\n    </tr>\n    <tr>\n      <th>2255</th>\n      <td>7319856</td>\n      <td>450ft Square Studio in Gramercy NY</td>\n      <td>11773680</td>\n      <td>Adam</td>\n      <td>Manhattan, Kips Bay</td>\n      <td>Entire Home/apt</td>\n      <td>280.0</td>\n      <td>4</td>\n      <td>2016-05-22</td>\n      <td>0.09</td>\n      <td>225</td>\n      <td>3.903764</td>\n      <td>4.8</td>\n      <td>0.756381</td>\n      <td>2015-11-17</td>\n      <td>40.73813</td>\n      <td>-73.98098</td>\n      <td>Manhattan</td>\n      <td>Kips Bay</td>\n    </tr>\n    <tr>\n      <th>2871</th>\n      <td>4244242</td>\n      <td>Best Bedroom in Bedstuy/Bushwick. Ensuite bath...</td>\n      <td>22023014</td>\n      <td>BrooklynSleeps</td>\n      <td>Brooklyn, Bedford-Stuyvesant</td>\n      <td>Private room</td>\n      <td>70.0</td>\n      <td>110</td>\n      <td>2019-06-23</td>\n      <td>1.96</td>\n      <td>323</td>\n      <td>4.962314</td>\n      <td>132.0</td>\n      <td>0.809882</td>\n      <td>2018-12-18</td>\n      <td>40.69496</td>\n      <td>-73.93949</td>\n      <td>Brooklyn</td>\n      <td>Bedford-Stuyvesant</td>\n    </tr>\n    <tr>\n      <th>3007</th>\n      <td>17861841</td>\n      <td>THE CREATIVE COZY ROOM</td>\n      <td>47591528</td>\n      <td>Janessa</td>\n      <td>Brooklyn, Sheepshead Bay</td>\n      <td>Private room</td>\n      <td>99.0</td>\n      <td>13</td>\n      <td>2019-05-23</td>\n      <td>0.52</td>\n      <td>82</td>\n      <td>4.806590</td>\n      <td>15.6</td>\n      <td>0.937422</td>\n      <td>2018-11-17</td>\n      <td>40.59211</td>\n      <td>-73.94127</td>\n      <td>Brooklyn</td>\n      <td>Sheepshead Bay</td>\n    </tr>\n    <tr>\n      <th>3065</th>\n      <td>16518377</td>\n      <td>East Village 1BR Apt with all the amenities</td>\n      <td>3012457</td>\n      <td>Cody</td>\n      <td>Manhattan, East Village</td>\n      <td>Entire Home/apt</td>\n      <td>200.0</td>\n      <td>3</td>\n      <td>2018-07-10</td>\n      <td>0.16</td>\n      <td>0</td>\n      <td>4.676670</td>\n      <td>3.6</td>\n      <td>0.694443</td>\n      <td>2018-01-04</td>\n      <td>40.72350</td>\n      <td>-73.97963</td>\n      <td>Manhattan</td>\n      <td>East Village</td>\n    </tr>\n    <tr>\n      <th>3340</th>\n      <td>35646737</td>\n      <td>Private Cabins @ Chelsea, Manhattan</td>\n      <td>117365574</td>\n      <td>Maria</td>\n      <td>Manhattan, Chelsea</td>\n      <td>Private room</td>\n      <td>85.0</td>\n      <td>1</td>\n      <td>2019-06-22</td>\n      <td>1.00</td>\n      <td>261</td>\n      <td>4.951714</td>\n      <td>1.2</td>\n      <td>0.671388</td>\n      <td>2018-12-17</td>\n      <td>40.74946</td>\n      <td>-73.99627</td>\n      <td>Manhattan</td>\n      <td>Chelsea</td>\n    </tr>\n    <tr>\n      <th>3430</th>\n      <td>15027024</td>\n      <td>Newly renovated 1bd on lively &amp; historic St Marks</td>\n      <td>8344620</td>\n      <td>Ethan</td>\n      <td>Manhattan, East Village</td>\n      <td>Entire Home/apt</td>\n      <td>180.0</td>\n      <td>10</td>\n      <td>2018-12-31</td>\n      <td>0.30</td>\n      <td>0</td>\n      <td>3.869729</td>\n      <td>12.0</td>\n      <td>0.772513</td>\n      <td>2018-06-27</td>\n      <td>40.72693</td>\n      <td>-73.98385</td>\n      <td>Manhattan</td>\n      <td>East Village</td>\n    </tr>\n    <tr>\n      <th>4187</th>\n      <td>4244242</td>\n      <td>Best Bedroom in Bedstuy/Bushwick. Ensuite bath...</td>\n      <td>22023014</td>\n      <td>BrooklynSleeps</td>\n      <td>Brooklyn, Bedford-Stuyvesant</td>\n      <td>Private room</td>\n      <td>73.0</td>\n      <td>110</td>\n      <td>2019-06-23</td>\n      <td>1.96</td>\n      <td>323</td>\n      <td>4.962314</td>\n      <td>132.0</td>\n      <td>0.809882</td>\n      <td>2018-12-18</td>\n      <td>40.69496</td>\n      <td>-73.93949</td>\n      <td>Brooklyn</td>\n      <td>Bedford-Stuyvesant</td>\n    </tr>\n    <tr>\n      <th>5025</th>\n      <td>33831116</td>\n      <td>Sonder | Stock Exchange | Collected 1BR + Laundry</td>\n      <td>219517861</td>\n      <td>Sonder (NYC)</td>\n      <td>Manhattan, Financial District</td>\n      <td>Entire Home/apt</td>\n      <td>229.0</td>\n      <td>5</td>\n      <td>2019-06-15</td>\n      <td>1.92</td>\n      <td>350</td>\n      <td>4.026379</td>\n      <td>6.0</td>\n      <td>0.601737</td>\n      <td>2018-12-10</td>\n      <td>40.70621</td>\n      <td>-74.01199</td>\n      <td>Manhattan</td>\n      <td>Financial District</td>\n    </tr>\n    <tr>\n      <th>5077</th>\n      <td>33831116</td>\n      <td>Sonder | Stock Exchange | Collected 1BR + Laundry</td>\n      <td>219517861</td>\n      <td>Sonder (NYC)</td>\n      <td>Manhattan, Financial District</td>\n      <td>Entire Home/apt</td>\n      <td>229.0</td>\n      <td>5</td>\n      <td>2019-06-15</td>\n      <td>1.92</td>\n      <td>350</td>\n      <td>4.026379</td>\n      <td>6.0</td>\n      <td>0.601737</td>\n      <td>2018-12-10</td>\n      <td>40.70621</td>\n      <td>-74.01199</td>\n      <td>Manhattan</td>\n      <td>Financial District</td>\n    </tr>\n    <tr>\n      <th>5236</th>\n      <td>29844951</td>\n      <td>Cozy Home In Queens</td>\n      <td>49946447</td>\n      <td>Rah</td>\n      <td>Queens, Jamaica</td>\n      <td>Private room</td>\n      <td>50.0</td>\n      <td>1</td>\n      <td>2019-03-19</td>\n      <td>0.27</td>\n      <td>311</td>\n      <td>4.792923</td>\n      <td>1.2</td>\n      <td>0.701232</td>\n      <td>2018-09-13</td>\n      <td>40.68842</td>\n      <td>-73.77677</td>\n      <td>Queens</td>\n      <td>Jamaica</td>\n    </tr>\n    <tr>\n      <th>5246</th>\n      <td>22014840</td>\n      <td>Sunny Bedroom Only 1 Metro Stop to Manhattan</td>\n      <td>32093643</td>\n      <td>Scarlett</td>\n      <td>Manhattan, Roosevelt Island</td>\n      <td>Private room</td>\n      <td>70.0</td>\n      <td>2</td>\n      <td>2018-01-07</td>\n      <td>0.11</td>\n      <td>0</td>\n      <td>4.024336</td>\n      <td>2.4</td>\n      <td>0.719426</td>\n      <td>2017-07-04</td>\n      <td>40.76211</td>\n      <td>-73.94887</td>\n      <td>Manhattan</td>\n      <td>Roosevelt Island</td>\n    </tr>\n    <tr>\n      <th>5251</th>\n      <td>19477677</td>\n      <td>Huge sunny room next to subway!</td>\n      <td>25038748</td>\n      <td>Justin</td>\n      <td>Manhattan, Harlem</td>\n      <td>Private room</td>\n      <td>70.0</td>\n      <td>11</td>\n      <td>2019-05-11</td>\n      <td>0.45</td>\n      <td>0</td>\n      <td>3.074890</td>\n      <td>13.2</td>\n      <td>0.631619</td>\n      <td>2018-11-05</td>\n      <td>40.82119</td>\n      <td>-73.95583</td>\n      <td>Manhattan</td>\n      <td>Harlem</td>\n    </tr>\n    <tr>\n      <th>5397</th>\n      <td>16518377</td>\n      <td>East Village 1BR Apt with all the amenities</td>\n      <td>3012457</td>\n      <td>Cody</td>\n      <td>Manhattan, East Village</td>\n      <td>Entire Home/apt</td>\n      <td>200.0</td>\n      <td>3</td>\n      <td>2018-07-10</td>\n      <td>0.16</td>\n      <td>0</td>\n      <td>4.676670</td>\n      <td>3.6</td>\n      <td>0.694443</td>\n      <td>2018-01-04</td>\n      <td>40.72350</td>\n      <td>-73.97963</td>\n      <td>Manhattan</td>\n      <td>East Village</td>\n    </tr>\n    <tr>\n      <th>5454</th>\n      <td>21106251</td>\n      <td>Private Bedroom in Great Brooklyn Apartment</td>\n      <td>25354313</td>\n      <td>Tommy</td>\n      <td>Brooklyn, Crown Heights</td>\n      <td>Private room</td>\n      <td>45.0</td>\n      <td>9</td>\n      <td>2019-06-22</td>\n      <td>0.43</td>\n      <td>0</td>\n      <td>3.779114</td>\n      <td>10.8</td>\n      <td>0.738191</td>\n      <td>2018-12-17</td>\n      <td>40.67359</td>\n      <td>-73.95812</td>\n      <td>Brooklyn</td>\n      <td>Crown Heights</td>\n    </tr>\n    <tr>\n      <th>5761</th>\n      <td>2044392</td>\n      <td>The heart of Williamsburg 2 bedroom</td>\n      <td>620218</td>\n      <td>Sarah</td>\n      <td>Brooklyn, Williamsburg</td>\n      <td>Entire Home/apt</td>\n      <td>250.0</td>\n      <td>0</td>\n      <td>NaT</td>\n      <td>NaN</td>\n      <td>0</td>\n      <td>NaN</td>\n      <td>NaN</td>\n      <td>NaN</td>\n      <td>2018-05-24</td>\n      <td>40.71257</td>\n      <td>-73.96149</td>\n      <td>Brooklyn</td>\n      <td>Williamsburg</td>\n    </tr>\n    <tr>\n      <th>5861</th>\n      <td>23990868</td>\n      <td>1 Bedroom in Luxury Building</td>\n      <td>4447548</td>\n      <td>Grace</td>\n      <td>Brooklyn, Bedford-Stuyvesant</td>\n      <td>Entire Home/apt</td>\n      <td>88.0</td>\n      <td>8</td>\n      <td>2019-06-16</td>\n      <td>0.56</td>\n      <td>18</td>\n      <td>4.164548</td>\n      <td>9.6</td>\n      <td>0.640106</td>\n      <td>2018-12-11</td>\n      <td>40.69336</td>\n      <td>-73.94453</td>\n      <td>Brooklyn</td>\n      <td>Bedford-Stuyvesant</td>\n    </tr>\n    <tr>\n      <th>6068</th>\n      <td>22014840</td>\n      <td>Sunny Bedroom Only 1 Metro Stop to Manhattan</td>\n      <td>32093643</td>\n      <td>Scarlett</td>\n      <td>Manhattan, Roosevelt Island</td>\n      <td>Private room</td>\n      <td>70.0</td>\n      <td>2</td>\n      <td>2018-01-07</td>\n      <td>0.11</td>\n      <td>0</td>\n      <td>4.024336</td>\n      <td>2.4</td>\n      <td>0.719426</td>\n      <td>2017-07-04</td>\n      <td>40.76211</td>\n      <td>-73.94887</td>\n      <td>Manhattan</td>\n      <td>Roosevelt Island</td>\n    </tr>\n    <tr>\n      <th>6085</th>\n      <td>33346762</td>\n      <td>2BR Apartment in Brownstone Brooklyn!</td>\n      <td>50321289</td>\n      <td>Avery</td>\n      <td>Brooklyn, Bedford-Stuyvesant</td>\n      <td>Entire Home/apt</td>\n      <td>140.0</td>\n      <td>4</td>\n      <td>2019-06-14</td>\n      <td>1.58</td>\n      <td>4</td>\n      <td>4.013393</td>\n      <td>4.8</td>\n      <td>0.719591</td>\n      <td>2018-12-09</td>\n      <td>40.68200</td>\n      <td>-73.95681</td>\n      <td>Brooklyn</td>\n      <td>Bedford-Stuyvesant</td>\n    </tr>\n    <tr>\n      <th>6132</th>\n      <td>23990868</td>\n      <td>1 Bedroom in Luxury Building</td>\n      <td>4447548</td>\n      <td>Grace</td>\n      <td>Brooklyn, Bedford-Stuyvesant</td>\n      <td>Entire Home/apt</td>\n      <td>88.0</td>\n      <td>8</td>\n      <td>2019-06-16</td>\n      <td>0.56</td>\n      <td>18</td>\n      <td>4.164548</td>\n      <td>9.6</td>\n      <td>0.640106</td>\n      <td>2018-12-11</td>\n      <td>40.69336</td>\n      <td>-73.94453</td>\n      <td>Brooklyn</td>\n      <td>Bedford-Stuyvesant</td>\n    </tr>\n    <tr>\n      <th>6313</th>\n      <td>32610834</td>\n      <td>Manhattan by the water!</td>\n      <td>12132369</td>\n      <td>Omar</td>\n      <td>Manhattan, Kips Bay</td>\n      <td>Entire Home/apt</td>\n      <td>150.0</td>\n      <td>0</td>\n      <td>NaT</td>\n      <td>NaN</td>\n      <td>9</td>\n      <td>NaN</td>\n      <td>NaN</td>\n      <td>NaN</td>\n      <td>2018-06-28</td>\n      <td>40.73767</td>\n      <td>-73.97384</td>\n      <td>Manhattan</td>\n      <td>Kips Bay</td>\n    </tr>\n    <tr>\n      <th>6438</th>\n      <td>19477677</td>\n      <td>Huge sunny room next to subway!</td>\n      <td>25038748</td>\n      <td>Justin</td>\n      <td>Manhattan, Harlem</td>\n      <td>Private room</td>\n      <td>70.0</td>\n      <td>11</td>\n      <td>2019-05-11</td>\n      <td>0.45</td>\n      <td>0</td>\n      <td>3.074890</td>\n      <td>13.2</td>\n      <td>0.631619</td>\n      <td>2018-11-05</td>\n      <td>40.82119</td>\n      <td>-73.95583</td>\n      <td>Manhattan</td>\n      <td>Harlem</td>\n    </tr>\n    <tr>\n      <th>6562</th>\n      <td>253806</td>\n      <td>Loft Suite @ The Box House Hotel</td>\n      <td>417504</td>\n      <td>The Box House Hotel</td>\n      <td>Brooklyn, Greenpoint</td>\n      <td>Entire Home/apt</td>\n      <td>199.0</td>\n      <td>43</td>\n      <td>2019-07-02</td>\n      <td>0.47</td>\n      <td>60</td>\n      <td>4.620238</td>\n      <td>51.6</td>\n      <td>0.861086</td>\n      <td>2018-12-27</td>\n      <td>40.73652</td>\n      <td>-73.95236</td>\n      <td>Brooklyn</td>\n      <td>Greenpoint</td>\n    </tr>\n    <tr>\n      <th>6832</th>\n      <td>21106251</td>\n      <td>Private Bedroom in Great Brooklyn Apartment</td>\n      <td>25354313</td>\n      <td>Tommy</td>\n      <td>Brooklyn, Crown Heights</td>\n      <td>Private room</td>\n      <td>45.0</td>\n      <td>9</td>\n      <td>2019-06-22</td>\n      <td>0.43</td>\n      <td>0</td>\n      <td>3.779114</td>\n      <td>10.8</td>\n      <td>0.738191</td>\n      <td>2018-12-17</td>\n      <td>40.67359</td>\n      <td>-73.95812</td>\n      <td>Brooklyn</td>\n      <td>Crown Heights</td>\n    </tr>\n    <tr>\n      <th>7116</th>\n      <td>26554879</td>\n      <td>East Village/Union Square Flat</td>\n      <td>17400431</td>\n      <td>Bob</td>\n      <td>Manhattan, East Village</td>\n      <td>Entire Home/apt</td>\n      <td>179.0</td>\n      <td>32</td>\n      <td>2019-06-26</td>\n      <td>2.92</td>\n      <td>12</td>\n      <td>3.125513</td>\n      <td>38.4</td>\n      <td>0.631764</td>\n      <td>2018-12-21</td>\n      <td>40.73177</td>\n      <td>-73.98691</td>\n      <td>Manhattan</td>\n      <td>East Village</td>\n    </tr>\n    <tr>\n      <th>7155</th>\n      <td>35801208</td>\n      <td>Comfy 2 bedroom Close To Manhattan</td>\n      <td>256911412</td>\n      <td>Taylor</td>\n      <td>Brooklyn, Williamsburg</td>\n      <td>Entire Home/apt</td>\n      <td>101.0</td>\n      <td>0</td>\n      <td>NaT</td>\n      <td>NaN</td>\n      <td>27</td>\n      <td>NaN</td>\n      <td>NaN</td>\n      <td>NaN</td>\n      <td>2018-10-17</td>\n      <td>40.70469</td>\n      <td>-73.93690</td>\n      <td>Brooklyn</td>\n      <td>Williamsburg</td>\n    </tr>\n    <tr>\n      <th>7316</th>\n      <td>31470004</td>\n      <td>Private bedroom/Bathroom in a 2 bedroom apartment</td>\n      <td>71241932</td>\n      <td>Max</td>\n      <td>Manhattan, East Village</td>\n      <td>Private room</td>\n      <td>2500.0</td>\n      <td>0</td>\n      <td>NaT</td>\n      <td>NaN</td>\n      <td>90</td>\n      <td>NaN</td>\n      <td>NaN</td>\n      <td>NaN</td>\n      <td>2018-04-09</td>\n      <td>40.72544</td>\n      <td>-73.97818</td>\n      <td>Manhattan</td>\n      <td>East Village</td>\n    </tr>\n    <tr>\n      <th>7769</th>\n      <td>26554879</td>\n      <td>East Village/Union Square Flat</td>\n      <td>17400431</td>\n      <td>Bob</td>\n      <td>Manhattan, East Village</td>\n      <td>Entire Home/apt</td>\n      <td>179.0</td>\n      <td>32</td>\n      <td>2019-06-26</td>\n      <td>2.92</td>\n      <td>12</td>\n      <td>3.125513</td>\n      <td>38.4</td>\n      <td>0.631764</td>\n      <td>2018-12-21</td>\n      <td>40.73177</td>\n      <td>-73.98691</td>\n      <td>Manhattan</td>\n      <td>East Village</td>\n    </tr>\n    <tr>\n      <th>7933</th>\n      <td>9078222</td>\n      <td>Prospect Park 3 bdrm, Sleeps 8 (#2)</td>\n      <td>47219962</td>\n      <td>Babajide</td>\n      <td>Brooklyn, Prospect-Lefferts Gardens</td>\n      <td>Entire Home/apt</td>\n      <td>150.0</td>\n      <td>123</td>\n      <td>2019-07-01</td>\n      <td>2.74</td>\n      <td>263</td>\n      <td>3.466881</td>\n      <td>147.6</td>\n      <td>0.738191</td>\n      <td>2018-12-26</td>\n      <td>40.66086</td>\n      <td>-73.96159</td>\n      <td>Brooklyn</td>\n      <td>Prospect-Lefferts Gardens</td>\n    </tr>\n    <tr>\n      <th>8699</th>\n      <td>2044392</td>\n      <td>The heart of Williamsburg 2 bedroom</td>\n      <td>620218</td>\n      <td>Sarah</td>\n      <td>Brooklyn, Williamsburg</td>\n      <td>Entire Home/apt</td>\n      <td>245.0</td>\n      <td>0</td>\n      <td>NaT</td>\n      <td>NaN</td>\n      <td>0</td>\n      <td>NaN</td>\n      <td>NaN</td>\n      <td>NaN</td>\n      <td>2018-08-09</td>\n      <td>40.71257</td>\n      <td>-73.96149</td>\n      <td>Brooklyn</td>\n      <td>Williamsburg</td>\n    </tr>\n    <tr>\n      <th>9265</th>\n      <td>35801208</td>\n      <td>Comfy 2 bedroom Close To Manhattan</td>\n      <td>256911412</td>\n      <td>Taylor</td>\n      <td>Brooklyn, Williamsburg</td>\n      <td>Entire Home/apt</td>\n      <td>101.0</td>\n      <td>0</td>\n      <td>NaT</td>\n      <td>NaN</td>\n      <td>27</td>\n      <td>NaN</td>\n      <td>NaN</td>\n      <td>NaN</td>\n      <td>2018-05-03</td>\n      <td>40.70469</td>\n      <td>-73.93690</td>\n      <td>Brooklyn</td>\n      <td>Williamsburg</td>\n    </tr>\n    <tr>\n      <th>9322</th>\n      <td>31470004</td>\n      <td>Private bedroom/Bathroom in a 2 bedroom apartment</td>\n      <td>71241932</td>\n      <td>Max</td>\n      <td>Manhattan, East Village</td>\n      <td>Private room</td>\n      <td>2500.0</td>\n      <td>0</td>\n      <td>NaT</td>\n      <td>NaN</td>\n      <td>90</td>\n      <td>NaN</td>\n      <td>NaN</td>\n      <td>NaN</td>\n      <td>2018-03-12</td>\n      <td>40.72544</td>\n      <td>-73.97818</td>\n      <td>Manhattan</td>\n      <td>East Village</td>\n    </tr>\n    <tr>\n      <th>9425</th>\n      <td>29844951</td>\n      <td>Cozy Home In Queens</td>\n      <td>49946447</td>\n      <td>Rah</td>\n      <td>Queens, Jamaica</td>\n      <td>Private room</td>\n      <td>50.0</td>\n      <td>1</td>\n      <td>2019-03-19</td>\n      <td>0.27</td>\n      <td>311</td>\n      <td>4.792923</td>\n      <td>1.2</td>\n      <td>0.701232</td>\n      <td>2018-09-13</td>\n      <td>40.68842</td>\n      <td>-73.77677</td>\n      <td>Queens</td>\n      <td>Jamaica</td>\n    </tr>\n  </tbody>\n</table>\n</div>"
     },
     "execution_count": 85,
     "metadata": {},
     "output_type": "execute_result"
    }
   ],
   "source": [
    "# Find duplicates\n",
    "\n",
    "duplicates = airbnb[airbnb.duplicated(subset = 'listing_id', keep =  False)]\n",
    "duplicates"
   ]
  },
  {
   "cell_type": "code",
   "execution_count": 35,
   "metadata": {
    "colab": {
     "base_uri": "https://localhost:8080/",
     "height": 1000
    },
    "id": "pqVxdea4Ik5g",
    "outputId": "c7b21e06-1fc6-4466-9bdf-64509d3c5a6a",
    "ExecuteTime": {
     "end_time": "2024-03-07T17:47:44.376937Z",
     "start_time": "2024-03-07T17:47:44.370594Z"
    }
   },
   "outputs": [],
   "source": [
    "# Find duplicates"
   ]
  },
  {
   "cell_type": "code",
   "execution_count": 91,
   "metadata": {
    "id": "uSXEpMFlJCJc",
    "ExecuteTime": {
     "end_time": "2024-03-07T18:43:40.956139Z",
     "start_time": "2024-03-07T18:43:40.943231Z"
    }
   },
   "outputs": [
    {
     "data": {
      "text/plain": "      listing_id                              name  host_id  \\\n1145      253806  Loft Suite @ The Box House Hotel   417504   \n\n                host_name    neighbourhood_full        room_type  price  \\\n1145  The Box House Hotel  Brooklyn, Greenpoint  Entire Home/apt  199.0   \n\n      number_of_reviews last_review  reviews_per_month  availability_365  \\\n1145                 43  2019-07-02               0.47                60   \n\n        rating  number_of_stays   5_stars listing_added  latitude  longitude  \\\n1145  4.620238             51.6  0.861086    2018-12-27  40.73652  -73.95236   \n\n       borough neighbourhood  \n1145  Brooklyn    Greenpoint  ",
      "text/html": "<div>\n<style scoped>\n    .dataframe tbody tr th:only-of-type {\n        vertical-align: middle;\n    }\n\n    .dataframe tbody tr th {\n        vertical-align: top;\n    }\n\n    .dataframe thead th {\n        text-align: right;\n    }\n</style>\n<table border=\"1\" class=\"dataframe\">\n  <thead>\n    <tr style=\"text-align: right;\">\n      <th></th>\n      <th>listing_id</th>\n      <th>name</th>\n      <th>host_id</th>\n      <th>host_name</th>\n      <th>neighbourhood_full</th>\n      <th>room_type</th>\n      <th>price</th>\n      <th>number_of_reviews</th>\n      <th>last_review</th>\n      <th>reviews_per_month</th>\n      <th>availability_365</th>\n      <th>rating</th>\n      <th>number_of_stays</th>\n      <th>5_stars</th>\n      <th>listing_added</th>\n      <th>latitude</th>\n      <th>longitude</th>\n      <th>borough</th>\n      <th>neighbourhood</th>\n    </tr>\n  </thead>\n  <tbody>\n    <tr>\n      <th>1145</th>\n      <td>253806</td>\n      <td>Loft Suite @ The Box House Hotel</td>\n      <td>417504</td>\n      <td>The Box House Hotel</td>\n      <td>Brooklyn, Greenpoint</td>\n      <td>Entire Home/apt</td>\n      <td>199.0</td>\n      <td>43</td>\n      <td>2019-07-02</td>\n      <td>0.47</td>\n      <td>60</td>\n      <td>4.620238</td>\n      <td>51.6</td>\n      <td>0.861086</td>\n      <td>2018-12-27</td>\n      <td>40.73652</td>\n      <td>-73.95236</td>\n      <td>Brooklyn</td>\n      <td>Greenpoint</td>\n    </tr>\n  </tbody>\n</table>\n</div>"
     },
     "execution_count": 91,
     "metadata": {},
     "output_type": "execute_result"
    }
   ],
   "source": [
    "# Remove identical duplicates\n",
    "\n",
    "airbnb = airbnb.drop_duplicates(subset = 'listing_id', keep =  \"first\")\n",
    "airbnb.query('listing_id == 253806')"
   ]
  },
  {
   "cell_type": "code",
   "execution_count": 94,
   "metadata": {
    "id": "nYf1M1cNKIIN",
    "ExecuteTime": {
     "end_time": "2024-03-07T18:44:20.540861Z",
     "start_time": "2024-03-07T18:44:20.530046Z"
    }
   },
   "outputs": [
    {
     "data": {
      "text/plain": "Empty DataFrame\nColumns: [listing_id, name, host_id, host_name, neighbourhood_full, room_type, price, number_of_reviews, last_review, reviews_per_month, availability_365, rating, number_of_stays, 5_stars, listing_added, latitude, longitude, borough, neighbourhood]\nIndex: []",
      "text/html": "<div>\n<style scoped>\n    .dataframe tbody tr th:only-of-type {\n        vertical-align: middle;\n    }\n\n    .dataframe tbody tr th {\n        vertical-align: top;\n    }\n\n    .dataframe thead th {\n        text-align: right;\n    }\n</style>\n<table border=\"1\" class=\"dataframe\">\n  <thead>\n    <tr style=\"text-align: right;\">\n      <th></th>\n      <th>listing_id</th>\n      <th>name</th>\n      <th>host_id</th>\n      <th>host_name</th>\n      <th>neighbourhood_full</th>\n      <th>room_type</th>\n      <th>price</th>\n      <th>number_of_reviews</th>\n      <th>last_review</th>\n      <th>reviews_per_month</th>\n      <th>availability_365</th>\n      <th>rating</th>\n      <th>number_of_stays</th>\n      <th>5_stars</th>\n      <th>listing_added</th>\n      <th>latitude</th>\n      <th>longitude</th>\n      <th>borough</th>\n      <th>neighbourhood</th>\n    </tr>\n  </thead>\n  <tbody>\n  </tbody>\n</table>\n</div>"
     },
     "execution_count": 94,
     "metadata": {},
     "output_type": "execute_result"
    }
   ],
   "source": [
    "# Find non-identical duplicates\n",
    "\n",
    "duplicates = airbnb[airbnb.duplicated(subset = 'listing_id', keep = False)]\n",
    "duplicates\n"
   ]
  },
  {
   "cell_type": "code",
   "execution_count": 95,
   "metadata": {
    "colab": {
     "base_uri": "https://localhost:8080/",
     "height": 1000
    },
    "id": "wiN1SBw8Kizr",
    "outputId": "2cdb3279-a0e0-4806-9bbe-2506539332c4",
    "ExecuteTime": {
     "end_time": "2024-03-07T18:44:30.844606Z",
     "start_time": "2024-03-07T18:44:30.836041Z"
    }
   },
   "outputs": [
    {
     "data": {
      "text/plain": "Empty DataFrame\nColumns: [listing_id, name, host_id, host_name, neighbourhood_full, room_type, price, number_of_reviews, last_review, reviews_per_month, availability_365, rating, number_of_stays, 5_stars, listing_added, latitude, longitude, borough, neighbourhood]\nIndex: []",
      "text/html": "<div>\n<style scoped>\n    .dataframe tbody tr th:only-of-type {\n        vertical-align: middle;\n    }\n\n    .dataframe tbody tr th {\n        vertical-align: top;\n    }\n\n    .dataframe thead th {\n        text-align: right;\n    }\n</style>\n<table border=\"1\" class=\"dataframe\">\n  <thead>\n    <tr style=\"text-align: right;\">\n      <th></th>\n      <th>listing_id</th>\n      <th>name</th>\n      <th>host_id</th>\n      <th>host_name</th>\n      <th>neighbourhood_full</th>\n      <th>room_type</th>\n      <th>price</th>\n      <th>number_of_reviews</th>\n      <th>last_review</th>\n      <th>reviews_per_month</th>\n      <th>availability_365</th>\n      <th>rating</th>\n      <th>number_of_stays</th>\n      <th>5_stars</th>\n      <th>listing_added</th>\n      <th>latitude</th>\n      <th>longitude</th>\n      <th>borough</th>\n      <th>neighbourhood</th>\n    </tr>\n  </thead>\n  <tbody>\n  </tbody>\n</table>\n</div>"
     },
     "execution_count": 95,
     "metadata": {},
     "output_type": "execute_result"
    }
   ],
   "source": [
    "# Show all duplicates\n",
    "\n",
    "duplicates = airbnb[airbnb.duplicated(subset = 'listing_id', keep = False)]\n",
    "duplicates\n",
    "\n"
   ]
  },
  {
   "cell_type": "markdown",
   "metadata": {
    "id": "E6_O2EYkcGoF"
   },
   "source": [
    "To treat identical duplicates across some columns, we will chain the `.groupby()` and `.agg()` methods where we group by the column used to find duplicates (`listing_id`) and aggregate across statistical measures for `price`, `rating` and `list_added`. The `.agg()` method takes in a dictionary with each column's aggregation method - we will use the following aggregations:\n",
    "\n",
    "- `mean` for `price` and `rating` columns\n",
    "- `max` for `listing_added` column\n",
    "- `first` for all remaining column\n",
    "\n",
    "*A note on dictionary comprehensions:*\n",
    "\n",
    "Dictionaries are useful data structures in Python with the following format\n",
    "`my_dictionary = {key: value}` where a `key` is mapped to a `value` and whose `value` can be returned with `my_dictionary[key]` - dictionary comprehensions allow us to programmatically create dicitonaries using the structure:\n",
    "\n",
    "```\n",
    "{x: x*2 for x in [1,2,3,4,5]} \n",
    "{1:2, 2:4, 3:6, 4:8, 5:10}\n",
    "```"
   ]
  },
  {
   "cell_type": "code",
   "execution_count": 99,
   "metadata": {
    "colab": {
     "base_uri": "https://localhost:8080/",
     "height": 102
    },
    "id": "lYhIclpMqa_i",
    "outputId": "a9fb963d-8b7b-4db8-e8f1-a1ffc13835be",
    "ExecuteTime": {
     "end_time": "2024-03-07T18:55:05.491443Z",
     "start_time": "2024-03-07T18:55:05.486318Z"
    }
   },
   "outputs": [
    {
     "data": {
      "text/plain": "Index(['listing_id', 'name', 'host_id', 'host_name', 'neighbourhood_full',\n       'room_type', 'price', 'number_of_reviews', 'last_review',\n       'reviews_per_month', 'availability_365', 'rating', 'number_of_stays',\n       '5_stars', 'listing_added', 'latitude', 'longitude', 'borough',\n       'neighbourhood'],\n      dtype='object')"
     },
     "execution_count": 99,
     "metadata": {},
     "output_type": "execute_result"
    }
   ],
   "source": [
    "# Get column names from airbnb\n",
    "\n",
    "column_names = airbnb.columns\n",
    "column_names\n"
   ]
  },
  {
   "cell_type": "code",
   "execution_count": 100,
   "metadata": {
    "colab": {
     "base_uri": "https://localhost:8080/",
     "height": 323
    },
    "id": "CxCJ3xPbKmJg",
    "outputId": "41b354f9-6a4f-4ccc-d6ac-57b8030400ef",
    "ExecuteTime": {
     "end_time": "2024-03-07T18:55:07.923299Z",
     "start_time": "2024-03-07T18:55:07.911751Z"
    }
   },
   "outputs": [
    {
     "data": {
      "text/plain": "{'5_stars': 'first',\n 'availability_365': 'first',\n 'borough': 'first',\n 'host_id': 'first',\n 'host_name': 'first',\n 'last_review': 'first',\n 'latitude': 'first',\n 'longitude': 'first',\n 'name': 'first',\n 'neighbourhood': 'first',\n 'neighbourhood_full': 'first',\n 'number_of_reviews': 'first',\n 'number_of_stays': 'first',\n 'reviews_per_month': 'first',\n 'room_type': 'first',\n 'price': 'mean',\n 'rating': 'mean',\n 'listing_added': 'max'}"
     },
     "execution_count": 100,
     "metadata": {},
     "output_type": "execute_result"
    }
   ],
   "source": [
    "# Create dictionary comprehension with 'first' as value for all columns not being aggregated\n",
    "\n",
    "aggregations = {column_name:'first' for column_name in column_names.difference(['listing_id', 'listing_added', 'rating', 'price'])}\n",
    "aggregations['price'] = 'mean'\n",
    "aggregations['rating'] = 'mean'\n",
    "aggregations['listing_added'] = 'max'\n",
    "aggregations\n"
   ]
  },
  {
   "cell_type": "code",
   "execution_count": 101,
   "metadata": {
    "id": "jaS5j-KsRUD-",
    "ExecuteTime": {
     "end_time": "2024-03-07T18:55:39.609141Z",
     "start_time": "2024-03-07T18:55:39.587815Z"
    }
   },
   "outputs": [],
   "source": [
    "# Remove non-identical duplicates\n",
    "\n",
    "airbnb = airbnb.groupby('listing_id').agg(aggregations).reset_index()\n"
   ]
  },
  {
   "cell_type": "code",
   "execution_count": 102,
   "metadata": {
    "colab": {
     "base_uri": "https://localhost:8080/",
     "height": 69
    },
    "id": "q93L6waFWpTq",
    "outputId": "fc9621eb-236e-40c3-e087-f23393ec4e23",
    "ExecuteTime": {
     "end_time": "2024-03-07T18:55:50.667392Z",
     "start_time": "2024-03-07T18:55:50.656825Z"
    }
   },
   "outputs": [
    {
     "data": {
      "text/plain": "Empty DataFrame\nColumns: [listing_id, 5_stars, availability_365, borough, host_id, host_name, last_review, latitude, longitude, name, neighbourhood, neighbourhood_full, number_of_reviews, number_of_stays, reviews_per_month, room_type, price, rating, listing_added]\nIndex: []",
      "text/html": "<div>\n<style scoped>\n    .dataframe tbody tr th:only-of-type {\n        vertical-align: middle;\n    }\n\n    .dataframe tbody tr th {\n        vertical-align: top;\n    }\n\n    .dataframe thead th {\n        text-align: right;\n    }\n</style>\n<table border=\"1\" class=\"dataframe\">\n  <thead>\n    <tr style=\"text-align: right;\">\n      <th></th>\n      <th>listing_id</th>\n      <th>5_stars</th>\n      <th>availability_365</th>\n      <th>borough</th>\n      <th>host_id</th>\n      <th>host_name</th>\n      <th>last_review</th>\n      <th>latitude</th>\n      <th>longitude</th>\n      <th>name</th>\n      <th>neighbourhood</th>\n      <th>neighbourhood_full</th>\n      <th>number_of_reviews</th>\n      <th>number_of_stays</th>\n      <th>reviews_per_month</th>\n      <th>room_type</th>\n      <th>price</th>\n      <th>rating</th>\n      <th>listing_added</th>\n    </tr>\n  </thead>\n  <tbody>\n  </tbody>\n</table>\n</div>"
     },
     "execution_count": 102,
     "metadata": {},
     "output_type": "execute_result"
    }
   ],
   "source": [
    "# Make sure no duplication happened\n",
    "\n",
    "airbnb[airbnb.duplicated('listing_id', keep = False)]\n"
   ]
  },
  {
   "cell_type": "code",
   "execution_count": 103,
   "metadata": {
    "colab": {
     "base_uri": "https://localhost:8080/",
     "height": 445
    },
    "id": "ZmIRBaZgW4q2",
    "outputId": "86fdbcff-636a-4b20-c310-a070c3857b3a",
    "ExecuteTime": {
     "end_time": "2024-03-07T18:56:02.585864Z",
     "start_time": "2024-03-07T18:56:02.575231Z"
    }
   },
   "outputs": [
    {
     "data": {
      "text/plain": "   listing_id   5_stars  availability_365    borough  host_id  \\\n0        3831  0.757366               194   Brooklyn     4869   \n1        6848  0.789743                46   Brooklyn    15991   \n2        7322  0.669873                12  Manhattan    18946   \n3        7726  0.640251                21   Brooklyn    20950   \n4       12303  0.918593               311   Brooklyn    47618   \n\n          host_name last_review  latitude  longitude  \\\n0       LisaRoxanne  2019-07-05  40.68514  -73.95976   \n1     Allen & Irina  2019-06-29  40.70837  -73.95352   \n2              Doti  2019-07-01  40.74192  -73.99501   \n3  Adam And Charity  2019-06-22  40.67592  -73.94694   \n4           Yolande  2018-09-30  40.69673  -73.97584   \n\n                                              name   neighbourhood  \\\n0                  Cozy Entire Floor of Brownstone    Clinton Hill   \n1                 Only 2 stops to Manhattan studio    Williamsburg   \n2                                  Chelsea Perfect         Chelsea   \n3  Hip Historic Brownstone Apartment with Backyard   Crown Heights   \n4                1bdr w private bath. in lofty apt     Fort Greene   \n\n        neighbourhood_full  number_of_reviews  number_of_stays  \\\n0   Brooklyn, Clinton Hill                270            324.0   \n1   Brooklyn, Williamsburg                148            177.6   \n2       Manhattan, Chelsea                260            312.0   \n3  Brooklyn, Crown Heights                 53             63.6   \n4    Brooklyn, Fort Greene                 25             30.0   \n\n   reviews_per_month        room_type  price    rating listing_added  \n0               4.64  Entire Home/apt   89.0  3.273935    2018-12-30  \n1               1.20  Entire Home/apt  140.0  3.495760    2018-12-24  \n2               2.12     Private room  140.0  4.389051    2018-12-26  \n3               4.44  Entire Home/apt   99.0  3.305382    2018-12-17  \n4               0.23     Private room  120.0  4.568745    2018-03-27  ",
      "text/html": "<div>\n<style scoped>\n    .dataframe tbody tr th:only-of-type {\n        vertical-align: middle;\n    }\n\n    .dataframe tbody tr th {\n        vertical-align: top;\n    }\n\n    .dataframe thead th {\n        text-align: right;\n    }\n</style>\n<table border=\"1\" class=\"dataframe\">\n  <thead>\n    <tr style=\"text-align: right;\">\n      <th></th>\n      <th>listing_id</th>\n      <th>5_stars</th>\n      <th>availability_365</th>\n      <th>borough</th>\n      <th>host_id</th>\n      <th>host_name</th>\n      <th>last_review</th>\n      <th>latitude</th>\n      <th>longitude</th>\n      <th>name</th>\n      <th>neighbourhood</th>\n      <th>neighbourhood_full</th>\n      <th>number_of_reviews</th>\n      <th>number_of_stays</th>\n      <th>reviews_per_month</th>\n      <th>room_type</th>\n      <th>price</th>\n      <th>rating</th>\n      <th>listing_added</th>\n    </tr>\n  </thead>\n  <tbody>\n    <tr>\n      <th>0</th>\n      <td>3831</td>\n      <td>0.757366</td>\n      <td>194</td>\n      <td>Brooklyn</td>\n      <td>4869</td>\n      <td>LisaRoxanne</td>\n      <td>2019-07-05</td>\n      <td>40.68514</td>\n      <td>-73.95976</td>\n      <td>Cozy Entire Floor of Brownstone</td>\n      <td>Clinton Hill</td>\n      <td>Brooklyn, Clinton Hill</td>\n      <td>270</td>\n      <td>324.0</td>\n      <td>4.64</td>\n      <td>Entire Home/apt</td>\n      <td>89.0</td>\n      <td>3.273935</td>\n      <td>2018-12-30</td>\n    </tr>\n    <tr>\n      <th>1</th>\n      <td>6848</td>\n      <td>0.789743</td>\n      <td>46</td>\n      <td>Brooklyn</td>\n      <td>15991</td>\n      <td>Allen &amp; Irina</td>\n      <td>2019-06-29</td>\n      <td>40.70837</td>\n      <td>-73.95352</td>\n      <td>Only 2 stops to Manhattan studio</td>\n      <td>Williamsburg</td>\n      <td>Brooklyn, Williamsburg</td>\n      <td>148</td>\n      <td>177.6</td>\n      <td>1.20</td>\n      <td>Entire Home/apt</td>\n      <td>140.0</td>\n      <td>3.495760</td>\n      <td>2018-12-24</td>\n    </tr>\n    <tr>\n      <th>2</th>\n      <td>7322</td>\n      <td>0.669873</td>\n      <td>12</td>\n      <td>Manhattan</td>\n      <td>18946</td>\n      <td>Doti</td>\n      <td>2019-07-01</td>\n      <td>40.74192</td>\n      <td>-73.99501</td>\n      <td>Chelsea Perfect</td>\n      <td>Chelsea</td>\n      <td>Manhattan, Chelsea</td>\n      <td>260</td>\n      <td>312.0</td>\n      <td>2.12</td>\n      <td>Private room</td>\n      <td>140.0</td>\n      <td>4.389051</td>\n      <td>2018-12-26</td>\n    </tr>\n    <tr>\n      <th>3</th>\n      <td>7726</td>\n      <td>0.640251</td>\n      <td>21</td>\n      <td>Brooklyn</td>\n      <td>20950</td>\n      <td>Adam And Charity</td>\n      <td>2019-06-22</td>\n      <td>40.67592</td>\n      <td>-73.94694</td>\n      <td>Hip Historic Brownstone Apartment with Backyard</td>\n      <td>Crown Heights</td>\n      <td>Brooklyn, Crown Heights</td>\n      <td>53</td>\n      <td>63.6</td>\n      <td>4.44</td>\n      <td>Entire Home/apt</td>\n      <td>99.0</td>\n      <td>3.305382</td>\n      <td>2018-12-17</td>\n    </tr>\n    <tr>\n      <th>4</th>\n      <td>12303</td>\n      <td>0.918593</td>\n      <td>311</td>\n      <td>Brooklyn</td>\n      <td>47618</td>\n      <td>Yolande</td>\n      <td>2018-09-30</td>\n      <td>40.69673</td>\n      <td>-73.97584</td>\n      <td>1bdr w private bath. in lofty apt</td>\n      <td>Fort Greene</td>\n      <td>Brooklyn, Fort Greene</td>\n      <td>25</td>\n      <td>30.0</td>\n      <td>0.23</td>\n      <td>Private room</td>\n      <td>120.0</td>\n      <td>4.568745</td>\n      <td>2018-03-27</td>\n    </tr>\n  </tbody>\n</table>\n</div>"
     },
     "execution_count": 103,
     "metadata": {},
     "output_type": "execute_result"
    }
   ],
   "source": [
    "# Print header of DataFrame\n",
    "\n",
    "airbnb.head()\n"
   ]
  },
  {
   "cell_type": "markdown",
   "metadata": {},
   "source": [
    "## **Record Linkage**\n",
    "\n",
    "Some selected examples will be presented in the on-site meeting."
   ]
  },
  {
   "cell_type": "code",
   "execution_count": 44,
   "metadata": {
    "ExecuteTime": {
     "end_time": "2024-03-07T17:47:44.917529Z",
     "start_time": "2024-03-07T17:47:44.914632Z"
    }
   },
   "outputs": [],
   "source": [
    "# Task 1: Choose 3 different examples of word pairs, draw a matrix for each example, and calculate the levensthein distance manually without any digital support."
   ]
  },
  {
   "cell_type": "code",
   "execution_count": 113,
   "metadata": {
    "ExecuteTime": {
     "end_time": "2024-03-07T19:14:38.388100Z",
     "start_time": "2024-03-07T19:14:38.383554Z"
    }
   },
   "outputs": [
    {
     "data": {
      "text/plain": "31"
     },
     "execution_count": 113,
     "metadata": {},
     "output_type": "execute_result"
    }
   ],
   "source": [
    "# Task 2: Calculate the levensthein distance for the three examples by using a python levensthein distance library of your choice.\n",
    "\n",
    "import Levenshtein\n",
    "\n",
    "Levenshtein.distance('Pseudopseudohypoparathyroidism', 'Hippopotomonstrosesquippedaliophobia')\n",
    "\n"
   ]
  }
 ],
 "metadata": {
  "colab": {
   "name": "Cleaning Data in Python live session.ipynb",
   "provenance": []
  },
  "kernelspec": {
   "display_name": "Python 3",
   "language": "python",
   "name": "python3"
  },
  "language_info": {
   "codemirror_mode": {
    "name": "ipython",
    "version": 3
   },
   "file_extension": ".py",
   "mimetype": "text/x-python",
   "name": "python",
   "nbconvert_exporter": "python",
   "pygments_lexer": "ipython3",
   "version": "3.8.6"
  }
 },
 "nbformat": 4,
 "nbformat_minor": 1
}
