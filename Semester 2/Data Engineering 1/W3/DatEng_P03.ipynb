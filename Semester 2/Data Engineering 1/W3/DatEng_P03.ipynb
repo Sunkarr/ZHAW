{
 "cells": [
  {
   "cell_type": "markdown",
   "metadata": {},
   "source": [
    "# Data Engineering 1: Lab 03\n",
    "---------------"
   ]
  },
  {
   "cell_type": "markdown",
   "metadata": {
    "id": "6Ijg5wUCTQYG"
   },
   "source": [
    "## **The Dataset**\n",
    "\n",
    "The dataset to be used in this lab is a CSV file named `airbnb.csv`, which contains data on airbnb listings in the state of New York. It contains the following columns:\n",
    "\n",
    "- `listing_id`: The unique identifier for a listing\n",
    "- `description`: The description used on the listing\n",
    "- `host_id`: Unique identifier for a host\n",
    "- `host_name`: Name of host\n",
    "- `neighbourhood_full`: Name of boroughs and neighbourhoods\n",
    "- `coordinates`: Coordinates of listing _(latitude, longitude)_\n",
    "- `Listing added`: Date of added listing\n",
    "- `room_type`: Type of room \n",
    "- `rating`: Rating from 0 to 5.\n",
    "- `price`: Price per night for listing\n",
    "- `number_of_reviews`: Amount of reviews received \n",
    "- `last_review`: Date of last review\n",
    "- `reviews_per_month`: Number of reviews per month\n",
    "- `availability_365`: Number of days available per year\n",
    "- `Number of stays`: Total number of stays thus far\n"
   ]
  },
  {
   "cell_type": "markdown",
   "metadata": {
    "id": "BMYfcKeDY85K"
   },
   "source": [
    "## **Getting started**"
   ]
  },
  {
   "cell_type": "code",
   "execution_count": 199,
   "metadata": {
    "id": "EMQfyC7GUNhT",
    "ExecuteTime": {
     "end_time": "2024-03-07T14:39:18.261855Z",
     "start_time": "2024-03-07T14:39:18.258981Z"
    }
   },
   "outputs": [],
   "source": [
    "# Import libraries\n",
    "import pandas as pd\n",
    "import numpy as np\n",
    "import datetime as dt"
   ]
  },
  {
   "cell_type": "code",
   "outputs": [],
   "source": [
    "# Read in the dataset\n",
    "\n",
    "airbnb = pd.read_csv('../Grundlagen/DE1_Lab03/DE1_Lab03_airbnb.csv', index_col = 'Unnamed: 0')\n"
   ],
   "metadata": {
    "collapsed": false,
    "ExecuteTime": {
     "end_time": "2024-03-07T14:39:18.626576Z",
     "start_time": "2024-03-07T14:39:18.594486Z"
    }
   },
   "execution_count": 200
  },
  {
   "cell_type": "markdown",
   "metadata": {
    "id": "1ui1uvtyZwfQ"
   },
   "source": [
    "## **Diagnosing data cleaning problems using simple `pandas`** "
   ]
  },
  {
   "cell_type": "markdown",
   "metadata": {
    "id": "t3fgtos4Z6Xa"
   },
   "source": [
    "Some important and common methods needed to get a better understanding of DataFrames and diagnose potential data problems are the following: \n",
    "\n",
    "- `.head()` prints the header of a DataFrame\n",
    "- `.dtypes` prints datatypes of all columns in a DataFrame\n",
    "- `.info()` provides a bird's eye view of column data types and missing values in a DataFrame\n",
    "- `.describe()` returns a distribution of numeric columns in your DataFrame\n",
    "- `.isna().sum()` allows us to break down the number of missing values per column in our DataFrame\n",
    "- `.unique()` finds the number of unique values in a DataFrame column"
   ]
  },
  {
   "cell_type": "markdown",
   "metadata": {
    "id": "WqwmfLp9lKjU"
   },
   "source": [
    "## **Our task list:**\n",
    "\n",
    "_Data type problems:_\n",
    "\n",
    "- **Task 1:** Split `coordinates` into 2 columns (`latitude` and `longitude`) and convert them to `float`.\n",
    "- **Task 2**: Remove `$` from `price` and convert it to `float`\n",
    "- **Task 3**: Convert `listing_added` and `last_review` to `datetime`\n",
    "\n",
    "<br>\n",
    "\n",
    "_Text/categorical data problems:_\n",
    "\n",
    "- **Task 4**: We need to collapse `room_type` into correct categories\n",
    "- **Task 5**: Divide `neighbourhood_full` into 2 columns and making sure they are clean\n",
    "\n",
    "<br>\n",
    "\n",
    "_Data range problems:_\n",
    "\n",
    "- **Task 6**: Make sure we set the correct maximum for `rating` column out of range values\n",
    "\n",
    "<br>\n",
    "\n",
    "_Dealing with date problems:_\n",
    "\n",
    "- **Task 7**: Check consitent date format in the date columns.\n",
    "\n",
    "<br>\n",
    "\n",
    "\n",
    "_Dealing with duplicate data:_\n",
    "\n",
    "- **Task 8**: Check for duplicate data."
   ]
  },
  {
   "cell_type": "markdown",
   "metadata": {
    "id": "8jp5m7QmnCsM"
   },
   "source": [
    "## **Tasks** "
   ]
  },
  {
   "cell_type": "markdown",
   "metadata": {
    "id": "3Ev1mCwXniDv"
   },
   "source": [
    "##### **Task 1:** Split `coordinates` into 2 columns (`latitude` and `longitude`) and convert them to `float`."
   ]
  },
  {
   "cell_type": "markdown",
   "metadata": {
    "id": "ijAlYOgglvzt"
   },
   "source": [
    "To perform this task, we will use the following methods:\n",
    "\n",
    "- `.str.replace(\"\",\"\")` replaces one string in each row of a column with another\n",
    "- `.str.split(\"\")` takes in a string and lets you split a column into two based on that string\n",
    "- `.astype()` lets you convert a column from one type to another"
   ]
  },
  {
   "cell_type": "code",
   "execution_count": 201,
   "metadata": {
    "colab": {
     "base_uri": "https://localhost:8080/",
     "height": 119
    },
    "id": "UpIxvD_onOgt",
    "outputId": "bf3af853-768e-4358-e179-c0c334bdec5f",
    "ExecuteTime": {
     "end_time": "2024-03-07T14:39:18.643595Z",
     "start_time": "2024-03-07T14:39:18.627590Z"
    }
   },
   "outputs": [
    {
     "name": "stderr",
     "output_type": "stream",
     "text": [
      "C:\\Users\\jonas\\AppData\\Local\\Temp\\ipykernel_21900\\2927624247.py:2: FutureWarning: The default value of regex will change from True to False in a future version. In addition, single character regular expressions will *not* be treated as literal strings when regex=True.\n",
      "  airbnb['coordinates'] = airbnb['coordinates'].str.replace('(', '')\n",
      "C:\\Users\\jonas\\AppData\\Local\\Temp\\ipykernel_21900\\2927624247.py:3: FutureWarning: The default value of regex will change from True to False in a future version. In addition, single character regular expressions will *not* be treated as literal strings when regex=True.\n",
      "  airbnb['coordinates'] = airbnb['coordinates'].str.replace(')', '')\n"
     ]
    },
    {
     "data": {
      "text/plain": "   listing_id                                               name    host_id  \\\n0    13740704  Cozy,budget friendly, cable inc, private entra...   20583125   \n1    22005115              Two floor apartment near Central Park   82746113   \n2    21667615                  Beautiful 1BR in Brooklyn Heights      78251   \n3     6425850                          Spacious, charming studio   32715865   \n4    22986519              Bedroom on the lively Lower East Side  154262349   \n\n  host_name          neighbourhood_full          coordinates        room_type  \\\n0    Michel         Brooklyn, Flatlands  40.63222, -73.93398     Private room   \n1   Cecilia  Manhattan, Upper West Side  40.78761, -73.96862  Entire home/apt   \n2    Leslie  Brooklyn, Brooklyn Heights   40.7007, -73.99517  Entire home/apt   \n3    Yelena  Manhattan, Upper West Side  40.79169, -73.97498  Entire home/apt   \n4    Brooke  Manhattan, Lower East Side  40.71884, -73.98354     Private room   \n\n  price  number_of_reviews last_review  reviews_per_month  availability_365  \\\n0   45$                 10  2018-12-12               0.70                85   \n1  135$                  1  2019-06-30               1.00               145   \n2  150$                  0         NaN                NaN                65   \n3   86$                  5  2017-09-23               0.13                 0   \n4  160$                 23  2019-06-12               2.29               102   \n\n     rating  number_of_stays   5_stars listing_added  \n0  4.100954             12.0  0.609432    2018-06-08  \n1  3.367600              1.2  0.746135    2018-12-25  \n2       NaN              NaN       NaN    2018-08-15  \n3  4.763203              6.0  0.769947    2017-03-20  \n4  3.822591             27.6  0.649383    2020-10-23  ",
      "text/html": "<div>\n<style scoped>\n    .dataframe tbody tr th:only-of-type {\n        vertical-align: middle;\n    }\n\n    .dataframe tbody tr th {\n        vertical-align: top;\n    }\n\n    .dataframe thead th {\n        text-align: right;\n    }\n</style>\n<table border=\"1\" class=\"dataframe\">\n  <thead>\n    <tr style=\"text-align: right;\">\n      <th></th>\n      <th>listing_id</th>\n      <th>name</th>\n      <th>host_id</th>\n      <th>host_name</th>\n      <th>neighbourhood_full</th>\n      <th>coordinates</th>\n      <th>room_type</th>\n      <th>price</th>\n      <th>number_of_reviews</th>\n      <th>last_review</th>\n      <th>reviews_per_month</th>\n      <th>availability_365</th>\n      <th>rating</th>\n      <th>number_of_stays</th>\n      <th>5_stars</th>\n      <th>listing_added</th>\n    </tr>\n  </thead>\n  <tbody>\n    <tr>\n      <th>0</th>\n      <td>13740704</td>\n      <td>Cozy,budget friendly, cable inc, private entra...</td>\n      <td>20583125</td>\n      <td>Michel</td>\n      <td>Brooklyn, Flatlands</td>\n      <td>40.63222, -73.93398</td>\n      <td>Private room</td>\n      <td>45$</td>\n      <td>10</td>\n      <td>2018-12-12</td>\n      <td>0.70</td>\n      <td>85</td>\n      <td>4.100954</td>\n      <td>12.0</td>\n      <td>0.609432</td>\n      <td>2018-06-08</td>\n    </tr>\n    <tr>\n      <th>1</th>\n      <td>22005115</td>\n      <td>Two floor apartment near Central Park</td>\n      <td>82746113</td>\n      <td>Cecilia</td>\n      <td>Manhattan, Upper West Side</td>\n      <td>40.78761, -73.96862</td>\n      <td>Entire home/apt</td>\n      <td>135$</td>\n      <td>1</td>\n      <td>2019-06-30</td>\n      <td>1.00</td>\n      <td>145</td>\n      <td>3.367600</td>\n      <td>1.2</td>\n      <td>0.746135</td>\n      <td>2018-12-25</td>\n    </tr>\n    <tr>\n      <th>2</th>\n      <td>21667615</td>\n      <td>Beautiful 1BR in Brooklyn Heights</td>\n      <td>78251</td>\n      <td>Leslie</td>\n      <td>Brooklyn, Brooklyn Heights</td>\n      <td>40.7007, -73.99517</td>\n      <td>Entire home/apt</td>\n      <td>150$</td>\n      <td>0</td>\n      <td>NaN</td>\n      <td>NaN</td>\n      <td>65</td>\n      <td>NaN</td>\n      <td>NaN</td>\n      <td>NaN</td>\n      <td>2018-08-15</td>\n    </tr>\n    <tr>\n      <th>3</th>\n      <td>6425850</td>\n      <td>Spacious, charming studio</td>\n      <td>32715865</td>\n      <td>Yelena</td>\n      <td>Manhattan, Upper West Side</td>\n      <td>40.79169, -73.97498</td>\n      <td>Entire home/apt</td>\n      <td>86$</td>\n      <td>5</td>\n      <td>2017-09-23</td>\n      <td>0.13</td>\n      <td>0</td>\n      <td>4.763203</td>\n      <td>6.0</td>\n      <td>0.769947</td>\n      <td>2017-03-20</td>\n    </tr>\n    <tr>\n      <th>4</th>\n      <td>22986519</td>\n      <td>Bedroom on the lively Lower East Side</td>\n      <td>154262349</td>\n      <td>Brooke</td>\n      <td>Manhattan, Lower East Side</td>\n      <td>40.71884, -73.98354</td>\n      <td>Private room</td>\n      <td>160$</td>\n      <td>23</td>\n      <td>2019-06-12</td>\n      <td>2.29</td>\n      <td>102</td>\n      <td>3.822591</td>\n      <td>27.6</td>\n      <td>0.649383</td>\n      <td>2020-10-23</td>\n    </tr>\n  </tbody>\n</table>\n</div>"
     },
     "execution_count": 201,
     "metadata": {},
     "output_type": "execute_result"
    }
   ],
   "source": [
    "# Remove \"(\" and \")\" from coordinates\n",
    "airbnb['coordinates'] = airbnb['coordinates'].str.replace('(', '')\n",
    "airbnb['coordinates'] = airbnb['coordinates'].str.replace(')', '')\n",
    "\n",
    "airbnb.head()\n",
    "# Print the header of the column"
   ]
  },
  {
   "cell_type": "code",
   "execution_count": 202,
   "metadata": {
    "colab": {
     "base_uri": "https://localhost:8080/",
     "height": 204
    },
    "id": "nvEKmdRun2Md",
    "outputId": "19d527b7-17d8-42eb-e8c1-c597ae1c29b9",
    "ExecuteTime": {
     "end_time": "2024-03-07T14:39:18.709502Z",
     "start_time": "2024-03-07T14:39:18.684642Z"
    }
   },
   "outputs": [
    {
     "data": {
      "text/plain": "   listing_id                                               name    host_id  \\\n0    13740704  Cozy,budget friendly, cable inc, private entra...   20583125   \n1    22005115              Two floor apartment near Central Park   82746113   \n2    21667615                  Beautiful 1BR in Brooklyn Heights      78251   \n3     6425850                          Spacious, charming studio   32715865   \n4    22986519              Bedroom on the lively Lower East Side  154262349   \n\n  host_name          neighbourhood_full          coordinates        room_type  \\\n0    Michel         Brooklyn, Flatlands  40.63222, -73.93398     Private room   \n1   Cecilia  Manhattan, Upper West Side  40.78761, -73.96862  Entire home/apt   \n2    Leslie  Brooklyn, Brooklyn Heights   40.7007, -73.99517  Entire home/apt   \n3    Yelena  Manhattan, Upper West Side  40.79169, -73.97498  Entire home/apt   \n4    Brooke  Manhattan, Lower East Side  40.71884, -73.98354     Private room   \n\n  price  number_of_reviews last_review  reviews_per_month  availability_365  \\\n0   45$                 10  2018-12-12               0.70                85   \n1  135$                  1  2019-06-30               1.00               145   \n2  150$                  0         NaN                NaN                65   \n3   86$                  5  2017-09-23               0.13                 0   \n4  160$                 23  2019-06-12               2.29               102   \n\n     rating  number_of_stays   5_stars listing_added  latitude   longitude  \n0  4.100954             12.0  0.609432    2018-06-08  40.63222   -73.93398  \n1  3.367600              1.2  0.746135    2018-12-25  40.78761   -73.96862  \n2       NaN              NaN       NaN    2018-08-15   40.7007   -73.99517  \n3  4.763203              6.0  0.769947    2017-03-20  40.79169   -73.97498  \n4  3.822591             27.6  0.649383    2020-10-23  40.71884   -73.98354  ",
      "text/html": "<div>\n<style scoped>\n    .dataframe tbody tr th:only-of-type {\n        vertical-align: middle;\n    }\n\n    .dataframe tbody tr th {\n        vertical-align: top;\n    }\n\n    .dataframe thead th {\n        text-align: right;\n    }\n</style>\n<table border=\"1\" class=\"dataframe\">\n  <thead>\n    <tr style=\"text-align: right;\">\n      <th></th>\n      <th>listing_id</th>\n      <th>name</th>\n      <th>host_id</th>\n      <th>host_name</th>\n      <th>neighbourhood_full</th>\n      <th>coordinates</th>\n      <th>room_type</th>\n      <th>price</th>\n      <th>number_of_reviews</th>\n      <th>last_review</th>\n      <th>reviews_per_month</th>\n      <th>availability_365</th>\n      <th>rating</th>\n      <th>number_of_stays</th>\n      <th>5_stars</th>\n      <th>listing_added</th>\n      <th>latitude</th>\n      <th>longitude</th>\n    </tr>\n  </thead>\n  <tbody>\n    <tr>\n      <th>0</th>\n      <td>13740704</td>\n      <td>Cozy,budget friendly, cable inc, private entra...</td>\n      <td>20583125</td>\n      <td>Michel</td>\n      <td>Brooklyn, Flatlands</td>\n      <td>40.63222, -73.93398</td>\n      <td>Private room</td>\n      <td>45$</td>\n      <td>10</td>\n      <td>2018-12-12</td>\n      <td>0.70</td>\n      <td>85</td>\n      <td>4.100954</td>\n      <td>12.0</td>\n      <td>0.609432</td>\n      <td>2018-06-08</td>\n      <td>40.63222</td>\n      <td>-73.93398</td>\n    </tr>\n    <tr>\n      <th>1</th>\n      <td>22005115</td>\n      <td>Two floor apartment near Central Park</td>\n      <td>82746113</td>\n      <td>Cecilia</td>\n      <td>Manhattan, Upper West Side</td>\n      <td>40.78761, -73.96862</td>\n      <td>Entire home/apt</td>\n      <td>135$</td>\n      <td>1</td>\n      <td>2019-06-30</td>\n      <td>1.00</td>\n      <td>145</td>\n      <td>3.367600</td>\n      <td>1.2</td>\n      <td>0.746135</td>\n      <td>2018-12-25</td>\n      <td>40.78761</td>\n      <td>-73.96862</td>\n    </tr>\n    <tr>\n      <th>2</th>\n      <td>21667615</td>\n      <td>Beautiful 1BR in Brooklyn Heights</td>\n      <td>78251</td>\n      <td>Leslie</td>\n      <td>Brooklyn, Brooklyn Heights</td>\n      <td>40.7007, -73.99517</td>\n      <td>Entire home/apt</td>\n      <td>150$</td>\n      <td>0</td>\n      <td>NaN</td>\n      <td>NaN</td>\n      <td>65</td>\n      <td>NaN</td>\n      <td>NaN</td>\n      <td>NaN</td>\n      <td>2018-08-15</td>\n      <td>40.7007</td>\n      <td>-73.99517</td>\n    </tr>\n    <tr>\n      <th>3</th>\n      <td>6425850</td>\n      <td>Spacious, charming studio</td>\n      <td>32715865</td>\n      <td>Yelena</td>\n      <td>Manhattan, Upper West Side</td>\n      <td>40.79169, -73.97498</td>\n      <td>Entire home/apt</td>\n      <td>86$</td>\n      <td>5</td>\n      <td>2017-09-23</td>\n      <td>0.13</td>\n      <td>0</td>\n      <td>4.763203</td>\n      <td>6.0</td>\n      <td>0.769947</td>\n      <td>2017-03-20</td>\n      <td>40.79169</td>\n      <td>-73.97498</td>\n    </tr>\n    <tr>\n      <th>4</th>\n      <td>22986519</td>\n      <td>Bedroom on the lively Lower East Side</td>\n      <td>154262349</td>\n      <td>Brooke</td>\n      <td>Manhattan, Lower East Side</td>\n      <td>40.71884, -73.98354</td>\n      <td>Private room</td>\n      <td>160$</td>\n      <td>23</td>\n      <td>2019-06-12</td>\n      <td>2.29</td>\n      <td>102</td>\n      <td>3.822591</td>\n      <td>27.6</td>\n      <td>0.649383</td>\n      <td>2020-10-23</td>\n      <td>40.71884</td>\n      <td>-73.98354</td>\n    </tr>\n  </tbody>\n</table>\n</div>"
     },
     "execution_count": 202,
     "metadata": {},
     "output_type": "execute_result"
    }
   ],
   "source": [
    "# Split column into two\n",
    "\n",
    "airbnb['latitude'] = airbnb.coordinates.str.split(',').str[0]\n",
    "airbnb['longitude'] = airbnb.coordinates.str.split(',').str[1]\n",
    "airbnb.head()"
   ]
  },
  {
   "cell_type": "code",
   "execution_count": 203,
   "metadata": {
    "colab": {
     "base_uri": "https://localhost:8080/",
     "height": 479
    },
    "id": "LezCKPzfn4yf",
    "outputId": "06eff294-308d-4aa7-a7e1-9be62ffaae73",
    "ExecuteTime": {
     "end_time": "2024-03-07T14:39:18.722040Z",
     "start_time": "2024-03-07T14:39:18.710510Z"
    }
   },
   "outputs": [
    {
     "data": {
      "text/plain": "   listing_id                                               name    host_id  \\\n0    13740704  Cozy,budget friendly, cable inc, private entra...   20583125   \n1    22005115              Two floor apartment near Central Park   82746113   \n2    21667615                  Beautiful 1BR in Brooklyn Heights      78251   \n3     6425850                          Spacious, charming studio   32715865   \n4    22986519              Bedroom on the lively Lower East Side  154262349   \n\n  host_name          neighbourhood_full        room_type price  \\\n0    Michel         Brooklyn, Flatlands     Private room   45$   \n1   Cecilia  Manhattan, Upper West Side  Entire home/apt  135$   \n2    Leslie  Brooklyn, Brooklyn Heights  Entire home/apt  150$   \n3    Yelena  Manhattan, Upper West Side  Entire home/apt   86$   \n4    Brooke  Manhattan, Lower East Side     Private room  160$   \n\n   number_of_reviews last_review  reviews_per_month  availability_365  \\\n0                 10  2018-12-12               0.70                85   \n1                  1  2019-06-30               1.00               145   \n2                  0         NaN                NaN                65   \n3                  5  2017-09-23               0.13                 0   \n4                 23  2019-06-12               2.29               102   \n\n     rating  number_of_stays   5_stars listing_added  latitude   longitude  \n0  4.100954             12.0  0.609432    2018-06-08  40.63222   -73.93398  \n1  3.367600              1.2  0.746135    2018-12-25  40.78761   -73.96862  \n2       NaN              NaN       NaN    2018-08-15   40.7007   -73.99517  \n3  4.763203              6.0  0.769947    2017-03-20  40.79169   -73.97498  \n4  3.822591             27.6  0.649383    2020-10-23  40.71884   -73.98354  ",
      "text/html": "<div>\n<style scoped>\n    .dataframe tbody tr th:only-of-type {\n        vertical-align: middle;\n    }\n\n    .dataframe tbody tr th {\n        vertical-align: top;\n    }\n\n    .dataframe thead th {\n        text-align: right;\n    }\n</style>\n<table border=\"1\" class=\"dataframe\">\n  <thead>\n    <tr style=\"text-align: right;\">\n      <th></th>\n      <th>listing_id</th>\n      <th>name</th>\n      <th>host_id</th>\n      <th>host_name</th>\n      <th>neighbourhood_full</th>\n      <th>room_type</th>\n      <th>price</th>\n      <th>number_of_reviews</th>\n      <th>last_review</th>\n      <th>reviews_per_month</th>\n      <th>availability_365</th>\n      <th>rating</th>\n      <th>number_of_stays</th>\n      <th>5_stars</th>\n      <th>listing_added</th>\n      <th>latitude</th>\n      <th>longitude</th>\n    </tr>\n  </thead>\n  <tbody>\n    <tr>\n      <th>0</th>\n      <td>13740704</td>\n      <td>Cozy,budget friendly, cable inc, private entra...</td>\n      <td>20583125</td>\n      <td>Michel</td>\n      <td>Brooklyn, Flatlands</td>\n      <td>Private room</td>\n      <td>45$</td>\n      <td>10</td>\n      <td>2018-12-12</td>\n      <td>0.70</td>\n      <td>85</td>\n      <td>4.100954</td>\n      <td>12.0</td>\n      <td>0.609432</td>\n      <td>2018-06-08</td>\n      <td>40.63222</td>\n      <td>-73.93398</td>\n    </tr>\n    <tr>\n      <th>1</th>\n      <td>22005115</td>\n      <td>Two floor apartment near Central Park</td>\n      <td>82746113</td>\n      <td>Cecilia</td>\n      <td>Manhattan, Upper West Side</td>\n      <td>Entire home/apt</td>\n      <td>135$</td>\n      <td>1</td>\n      <td>2019-06-30</td>\n      <td>1.00</td>\n      <td>145</td>\n      <td>3.367600</td>\n      <td>1.2</td>\n      <td>0.746135</td>\n      <td>2018-12-25</td>\n      <td>40.78761</td>\n      <td>-73.96862</td>\n    </tr>\n    <tr>\n      <th>2</th>\n      <td>21667615</td>\n      <td>Beautiful 1BR in Brooklyn Heights</td>\n      <td>78251</td>\n      <td>Leslie</td>\n      <td>Brooklyn, Brooklyn Heights</td>\n      <td>Entire home/apt</td>\n      <td>150$</td>\n      <td>0</td>\n      <td>NaN</td>\n      <td>NaN</td>\n      <td>65</td>\n      <td>NaN</td>\n      <td>NaN</td>\n      <td>NaN</td>\n      <td>2018-08-15</td>\n      <td>40.7007</td>\n      <td>-73.99517</td>\n    </tr>\n    <tr>\n      <th>3</th>\n      <td>6425850</td>\n      <td>Spacious, charming studio</td>\n      <td>32715865</td>\n      <td>Yelena</td>\n      <td>Manhattan, Upper West Side</td>\n      <td>Entire home/apt</td>\n      <td>86$</td>\n      <td>5</td>\n      <td>2017-09-23</td>\n      <td>0.13</td>\n      <td>0</td>\n      <td>4.763203</td>\n      <td>6.0</td>\n      <td>0.769947</td>\n      <td>2017-03-20</td>\n      <td>40.79169</td>\n      <td>-73.97498</td>\n    </tr>\n    <tr>\n      <th>4</th>\n      <td>22986519</td>\n      <td>Bedroom on the lively Lower East Side</td>\n      <td>154262349</td>\n      <td>Brooke</td>\n      <td>Manhattan, Lower East Side</td>\n      <td>Private room</td>\n      <td>160$</td>\n      <td>23</td>\n      <td>2019-06-12</td>\n      <td>2.29</td>\n      <td>102</td>\n      <td>3.822591</td>\n      <td>27.6</td>\n      <td>0.649383</td>\n      <td>2020-10-23</td>\n      <td>40.71884</td>\n      <td>-73.98354</td>\n    </tr>\n  </tbody>\n</table>\n</div>"
     },
     "execution_count": 203,
     "metadata": {},
     "output_type": "execute_result"
    }
   ],
   "source": [
    "# Assign correct columns to latitude and longitude columns in airbnb\n",
    "\n",
    "airbnb.drop(['coordinates'], axis=1, inplace=True)\n",
    "\n",
    "# Print the header and confirm new column creation\n",
    "\n",
    "airbnb.head()"
   ]
  },
  {
   "cell_type": "code",
   "execution_count": 204,
   "metadata": {
    "colab": {
     "base_uri": "https://localhost:8080/",
     "height": 340
    },
    "id": "toTHDWjFosXs",
    "outputId": "22273a70-dda1-4134-e5e7-1f2a8ed724ac",
    "ExecuteTime": {
     "end_time": "2024-03-07T14:39:18.788686Z",
     "start_time": "2024-03-07T14:39:18.782964Z"
    }
   },
   "outputs": [
    {
     "data": {
      "text/plain": "listing_id              int64\nname                   object\nhost_id                 int64\nhost_name              object\nneighbourhood_full     object\nroom_type              object\nprice                  object\nnumber_of_reviews       int64\nlast_review            object\nreviews_per_month     float64\navailability_365        int64\nrating                float64\nnumber_of_stays       float64\n5_stars               float64\nlisting_added          object\nlatitude               object\nlongitude              object\ndtype: object"
     },
     "execution_count": 204,
     "metadata": {},
     "output_type": "execute_result"
    }
   ],
   "source": [
    "# Print out dtypes again\n",
    "\n",
    "airbnb.dtypes"
   ]
  },
  {
   "cell_type": "code",
   "execution_count": 205,
   "metadata": {
    "colab": {
     "base_uri": "https://localhost:8080/",
     "height": 340
    },
    "id": "8zDpaIqDoeNl",
    "outputId": "ead1ab19-04c5-4722-c181-eedddc64f057",
    "ExecuteTime": {
     "end_time": "2024-03-07T14:39:18.842356Z",
     "start_time": "2024-03-07T14:39:18.834256Z"
    }
   },
   "outputs": [
    {
     "data": {
      "text/plain": "listing_id              int64\nname                   object\nhost_id                 int64\nhost_name              object\nneighbourhood_full     object\nroom_type              object\nprice                  object\nnumber_of_reviews       int64\nlast_review            object\nreviews_per_month     float64\navailability_365        int64\nrating                float64\nnumber_of_stays       float64\n5_stars               float64\nlisting_added          object\nlatitude              float64\nlongitude             float64\ndtype: object"
     },
     "execution_count": 205,
     "metadata": {},
     "output_type": "execute_result"
    }
   ],
   "source": [
    "# Convert latitude and longitude to float\n",
    "\n",
    "airbnb['latitude'] = airbnb['latitude'].astype(float)\n",
    "airbnb['longitude'] = airbnb['longitude'].astype(float)\n",
    "\n",
    "# Print dtypes again\n",
    "airbnb.dtypes"
   ]
  },
  {
   "cell_type": "code",
   "execution_count": 206,
   "metadata": {
    "id": "aKZGhJQRo8mp",
    "ExecuteTime": {
     "end_time": "2024-03-07T14:39:18.985804Z",
     "start_time": "2024-03-07T14:39:18.982519Z"
    }
   },
   "outputs": [],
   "source": [
    "# Drop coordinates column"
   ]
  },
  {
   "cell_type": "markdown",
   "metadata": {
    "id": "bkgGPHpdpMEW"
   },
   "source": [
    "##### **Task 2:** Remove `$` from `price` and convert it to `float`"
   ]
  },
  {
   "cell_type": "markdown",
   "metadata": {
    "id": "9jkKFojOmJy5"
   },
   "source": [
    "To perform this task, we will be using the following methods:\n",
    "\n",
    "- `.str.strip()` which removes a specified string from each row in a column\n",
    "- `.astype()`"
   ]
  },
  {
   "cell_type": "code",
   "execution_count": 207,
   "metadata": {
    "colab": {
     "base_uri": "https://localhost:8080/",
     "height": 119
    },
    "id": "gHIB5d-1pdIO",
    "outputId": "8b332216-20e5-42a9-a070-b705d2ae84ae",
    "ExecuteTime": {
     "end_time": "2024-03-07T14:39:19.073577Z",
     "start_time": "2024-03-07T14:39:19.060896Z"
    }
   },
   "outputs": [
    {
     "name": "stderr",
     "output_type": "stream",
     "text": [
      "C:\\Users\\jonas\\AppData\\Local\\Temp\\ipykernel_21900\\1974607207.py:3: FutureWarning: The default value of regex will change from True to False in a future version. In addition, single character regular expressions will *not* be treated as literal strings when regex=True.\n",
      "  airbnb['price'] = airbnb.price.str.replace('$', '')\n"
     ]
    },
    {
     "data": {
      "text/plain": "   listing_id                                               name    host_id  \\\n0    13740704  Cozy,budget friendly, cable inc, private entra...   20583125   \n1    22005115              Two floor apartment near Central Park   82746113   \n2    21667615                  Beautiful 1BR in Brooklyn Heights      78251   \n3     6425850                          Spacious, charming studio   32715865   \n4    22986519              Bedroom on the lively Lower East Side  154262349   \n\n  host_name          neighbourhood_full        room_type price  \\\n0    Michel         Brooklyn, Flatlands     Private room    45   \n1   Cecilia  Manhattan, Upper West Side  Entire home/apt   135   \n2    Leslie  Brooklyn, Brooklyn Heights  Entire home/apt   150   \n3    Yelena  Manhattan, Upper West Side  Entire home/apt    86   \n4    Brooke  Manhattan, Lower East Side     Private room   160   \n\n   number_of_reviews last_review  reviews_per_month  availability_365  \\\n0                 10  2018-12-12               0.70                85   \n1                  1  2019-06-30               1.00               145   \n2                  0         NaN                NaN                65   \n3                  5  2017-09-23               0.13                 0   \n4                 23  2019-06-12               2.29               102   \n\n     rating  number_of_stays   5_stars listing_added  latitude  longitude  \n0  4.100954             12.0  0.609432    2018-06-08  40.63222  -73.93398  \n1  3.367600              1.2  0.746135    2018-12-25  40.78761  -73.96862  \n2       NaN              NaN       NaN    2018-08-15  40.70070  -73.99517  \n3  4.763203              6.0  0.769947    2017-03-20  40.79169  -73.97498  \n4  3.822591             27.6  0.649383    2020-10-23  40.71884  -73.98354  ",
      "text/html": "<div>\n<style scoped>\n    .dataframe tbody tr th:only-of-type {\n        vertical-align: middle;\n    }\n\n    .dataframe tbody tr th {\n        vertical-align: top;\n    }\n\n    .dataframe thead th {\n        text-align: right;\n    }\n</style>\n<table border=\"1\" class=\"dataframe\">\n  <thead>\n    <tr style=\"text-align: right;\">\n      <th></th>\n      <th>listing_id</th>\n      <th>name</th>\n      <th>host_id</th>\n      <th>host_name</th>\n      <th>neighbourhood_full</th>\n      <th>room_type</th>\n      <th>price</th>\n      <th>number_of_reviews</th>\n      <th>last_review</th>\n      <th>reviews_per_month</th>\n      <th>availability_365</th>\n      <th>rating</th>\n      <th>number_of_stays</th>\n      <th>5_stars</th>\n      <th>listing_added</th>\n      <th>latitude</th>\n      <th>longitude</th>\n    </tr>\n  </thead>\n  <tbody>\n    <tr>\n      <th>0</th>\n      <td>13740704</td>\n      <td>Cozy,budget friendly, cable inc, private entra...</td>\n      <td>20583125</td>\n      <td>Michel</td>\n      <td>Brooklyn, Flatlands</td>\n      <td>Private room</td>\n      <td>45</td>\n      <td>10</td>\n      <td>2018-12-12</td>\n      <td>0.70</td>\n      <td>85</td>\n      <td>4.100954</td>\n      <td>12.0</td>\n      <td>0.609432</td>\n      <td>2018-06-08</td>\n      <td>40.63222</td>\n      <td>-73.93398</td>\n    </tr>\n    <tr>\n      <th>1</th>\n      <td>22005115</td>\n      <td>Two floor apartment near Central Park</td>\n      <td>82746113</td>\n      <td>Cecilia</td>\n      <td>Manhattan, Upper West Side</td>\n      <td>Entire home/apt</td>\n      <td>135</td>\n      <td>1</td>\n      <td>2019-06-30</td>\n      <td>1.00</td>\n      <td>145</td>\n      <td>3.367600</td>\n      <td>1.2</td>\n      <td>0.746135</td>\n      <td>2018-12-25</td>\n      <td>40.78761</td>\n      <td>-73.96862</td>\n    </tr>\n    <tr>\n      <th>2</th>\n      <td>21667615</td>\n      <td>Beautiful 1BR in Brooklyn Heights</td>\n      <td>78251</td>\n      <td>Leslie</td>\n      <td>Brooklyn, Brooklyn Heights</td>\n      <td>Entire home/apt</td>\n      <td>150</td>\n      <td>0</td>\n      <td>NaN</td>\n      <td>NaN</td>\n      <td>65</td>\n      <td>NaN</td>\n      <td>NaN</td>\n      <td>NaN</td>\n      <td>2018-08-15</td>\n      <td>40.70070</td>\n      <td>-73.99517</td>\n    </tr>\n    <tr>\n      <th>3</th>\n      <td>6425850</td>\n      <td>Spacious, charming studio</td>\n      <td>32715865</td>\n      <td>Yelena</td>\n      <td>Manhattan, Upper West Side</td>\n      <td>Entire home/apt</td>\n      <td>86</td>\n      <td>5</td>\n      <td>2017-09-23</td>\n      <td>0.13</td>\n      <td>0</td>\n      <td>4.763203</td>\n      <td>6.0</td>\n      <td>0.769947</td>\n      <td>2017-03-20</td>\n      <td>40.79169</td>\n      <td>-73.97498</td>\n    </tr>\n    <tr>\n      <th>4</th>\n      <td>22986519</td>\n      <td>Bedroom on the lively Lower East Side</td>\n      <td>154262349</td>\n      <td>Brooke</td>\n      <td>Manhattan, Lower East Side</td>\n      <td>Private room</td>\n      <td>160</td>\n      <td>23</td>\n      <td>2019-06-12</td>\n      <td>2.29</td>\n      <td>102</td>\n      <td>3.822591</td>\n      <td>27.6</td>\n      <td>0.649383</td>\n      <td>2020-10-23</td>\n      <td>40.71884</td>\n      <td>-73.98354</td>\n    </tr>\n  </tbody>\n</table>\n</div>"
     },
     "execution_count": 207,
     "metadata": {},
     "output_type": "execute_result"
    }
   ],
   "source": [
    "# Remove $ from price before conversion to float\n",
    "\n",
    "airbnb['price'] = airbnb.price.str.replace('$', '')\n",
    "\n",
    "# Print header to make sure change was done\n",
    "\n",
    "airbnb.head()\n"
   ]
  },
  {
   "cell_type": "code",
   "execution_count": 208,
   "metadata": {
    "colab": {
     "base_uri": "https://localhost:8080/",
     "height": 34
    },
    "id": "Gz4Q2xoGp4AJ",
    "outputId": "2d453984-04ff-4b0e-d646-5890304044db",
    "ExecuteTime": {
     "end_time": "2024-03-07T14:39:19.207641Z",
     "start_time": "2024-03-07T14:39:19.201741Z"
    }
   },
   "outputs": [
    {
     "data": {
      "text/plain": "150.90512217564665"
     },
     "execution_count": 208,
     "metadata": {},
     "output_type": "execute_result"
    }
   ],
   "source": [
    "# Convert price to float\n",
    "\n",
    "airbnb['price'] = airbnb['price'].astype(float)\n",
    "\n",
    "# Calculate mean of price after conversion\n",
    "\n",
    "airbnb['price'].mean()"
   ]
  },
  {
   "cell_type": "markdown",
   "metadata": {
    "id": "HZKW5mWvqg2Z"
   },
   "source": [
    "##### **Task 3:** Convert `listing_added` and `last_review` columns to `datetime`"
   ]
  },
  {
   "cell_type": "markdown",
   "metadata": {
    "id": "9ijLZ4zwmWNS"
   },
   "source": [
    "To perform this task, we will use the following functions:\n",
    "\n",
    "- `pd.to_datetime(format = \"\")`\n",
    "  - `format` takes in the desired date format `\"%Y-%m-%d\"`"
   ]
  },
  {
   "cell_type": "code",
   "execution_count": 209,
   "metadata": {
    "colab": {
     "base_uri": "https://localhost:8080/",
     "height": 204
    },
    "id": "cggG5Bucqc6T",
    "outputId": "9f5aed2d-0542-4959-8694-958801d8acdf",
    "ExecuteTime": {
     "end_time": "2024-03-07T14:39:19.246610Z",
     "start_time": "2024-03-07T14:39:19.237159Z"
    }
   },
   "outputs": [
    {
     "data": {
      "text/plain": "   listing_id                                               name   host_id  \\\n0    13740704  Cozy,budget friendly, cable inc, private entra...  20583125   \n1    22005115              Two floor apartment near Central Park  82746113   \n\n  host_name          neighbourhood_full        room_type  price  \\\n0    Michel         Brooklyn, Flatlands     Private room   45.0   \n1   Cecilia  Manhattan, Upper West Side  Entire home/apt  135.0   \n\n   number_of_reviews last_review  reviews_per_month  availability_365  \\\n0                 10  2018-12-12                0.7                85   \n1                  1  2019-06-30                1.0               145   \n\n     rating  number_of_stays   5_stars listing_added  latitude  longitude  \n0  4.100954             12.0  0.609432    2018-06-08  40.63222  -73.93398  \n1  3.367600              1.2  0.746135    2018-12-25  40.78761  -73.96862  ",
      "text/html": "<div>\n<style scoped>\n    .dataframe tbody tr th:only-of-type {\n        vertical-align: middle;\n    }\n\n    .dataframe tbody tr th {\n        vertical-align: top;\n    }\n\n    .dataframe thead th {\n        text-align: right;\n    }\n</style>\n<table border=\"1\" class=\"dataframe\">\n  <thead>\n    <tr style=\"text-align: right;\">\n      <th></th>\n      <th>listing_id</th>\n      <th>name</th>\n      <th>host_id</th>\n      <th>host_name</th>\n      <th>neighbourhood_full</th>\n      <th>room_type</th>\n      <th>price</th>\n      <th>number_of_reviews</th>\n      <th>last_review</th>\n      <th>reviews_per_month</th>\n      <th>availability_365</th>\n      <th>rating</th>\n      <th>number_of_stays</th>\n      <th>5_stars</th>\n      <th>listing_added</th>\n      <th>latitude</th>\n      <th>longitude</th>\n    </tr>\n  </thead>\n  <tbody>\n    <tr>\n      <th>0</th>\n      <td>13740704</td>\n      <td>Cozy,budget friendly, cable inc, private entra...</td>\n      <td>20583125</td>\n      <td>Michel</td>\n      <td>Brooklyn, Flatlands</td>\n      <td>Private room</td>\n      <td>45.0</td>\n      <td>10</td>\n      <td>2018-12-12</td>\n      <td>0.7</td>\n      <td>85</td>\n      <td>4.100954</td>\n      <td>12.0</td>\n      <td>0.609432</td>\n      <td>2018-06-08</td>\n      <td>40.63222</td>\n      <td>-73.93398</td>\n    </tr>\n    <tr>\n      <th>1</th>\n      <td>22005115</td>\n      <td>Two floor apartment near Central Park</td>\n      <td>82746113</td>\n      <td>Cecilia</td>\n      <td>Manhattan, Upper West Side</td>\n      <td>Entire home/apt</td>\n      <td>135.0</td>\n      <td>1</td>\n      <td>2019-06-30</td>\n      <td>1.0</td>\n      <td>145</td>\n      <td>3.367600</td>\n      <td>1.2</td>\n      <td>0.746135</td>\n      <td>2018-12-25</td>\n      <td>40.78761</td>\n      <td>-73.96862</td>\n    </tr>\n  </tbody>\n</table>\n</div>"
     },
     "execution_count": 209,
     "metadata": {},
     "output_type": "execute_result"
    }
   ],
   "source": [
    "# Print header of two columns\n",
    "\n",
    "airbnb.head(2)"
   ]
  },
  {
   "cell_type": "code",
   "execution_count": 210,
   "metadata": {
    "id": "9lVyr6-Gs19z",
    "ExecuteTime": {
     "end_time": "2024-03-07T14:39:19.332005Z",
     "start_time": "2024-03-07T14:39:19.322620Z"
    }
   },
   "outputs": [],
   "source": [
    "# Convert both columns to datetime\n",
    "\n",
    "airbnb['listing_added'] = pd.to_datetime(airbnb['listing_added'])\n",
    "airbnb['last_review'] = pd.to_datetime(airbnb['last_review'])"
   ]
  },
  {
   "cell_type": "code",
   "execution_count": 211,
   "metadata": {
    "colab": {
     "base_uri": "https://localhost:8080/",
     "height": 170
    },
    "id": "jlVDTYUvtG1f",
    "outputId": "dc7b3850-48ad-45e8-9641-7ba05c7fc6b2",
    "ExecuteTime": {
     "end_time": "2024-03-07T14:39:19.418313Z",
     "start_time": "2024-03-07T14:39:19.411564Z"
    }
   },
   "outputs": [
    {
     "data": {
      "text/plain": "listing_id                     int64\nname                          object\nhost_id                        int64\nhost_name                     object\nneighbourhood_full            object\nroom_type                     object\nprice                        float64\nnumber_of_reviews              int64\nlast_review           datetime64[ns]\nreviews_per_month            float64\navailability_365               int64\nrating                       float64\nnumber_of_stays              float64\n5_stars                      float64\nlisting_added         datetime64[ns]\nlatitude                     float64\nlongitude                    float64\ndtype: object"
     },
     "execution_count": 211,
     "metadata": {},
     "output_type": "execute_result"
    }
   ],
   "source": [
    "# Print header and datatypes of both columns again\n",
    "\n",
    "airbnb.head(2)\n",
    "airbnb.dtypes"
   ]
  },
  {
   "cell_type": "markdown",
   "metadata": {
    "id": "SvMs1y6gucs6"
   },
   "source": [
    "### Text and categorical data problems"
   ]
  },
  {
   "cell_type": "markdown",
   "metadata": {
    "id": "Z19JboeNukIS"
   },
   "source": [
    "##### **Task 4:** We need to collapse `room_type` into correct categories"
   ]
  },
  {
   "cell_type": "markdown",
   "metadata": {
    "id": "85lW-8k_msaY"
   },
   "source": [
    "To perform this task, we will be using the following methods:\n",
    "\n",
    "- `.str.lower()` to lowercase all rows in a string column\n",
    "- `.str.strip()` to remove all white spaces of each row in a string column\n",
    "- `.replace()` to replace values in a column with another"
   ]
  },
  {
   "cell_type": "code",
   "execution_count": 212,
   "metadata": {
    "colab": {
     "base_uri": "https://localhost:8080/",
     "height": 51
    },
    "id": "hPJHPWB4tOlP",
    "outputId": "ad30c92a-b7ed-49a6-c592-e70f82f2a94d",
    "ExecuteTime": {
     "end_time": "2024-03-07T14:39:19.495614Z",
     "start_time": "2024-03-07T14:39:19.489269Z"
    }
   },
   "outputs": [
    {
     "data": {
      "text/plain": "array(['Private room', 'Entire home/apt', 'Private', 'Shared room',\n       'PRIVATE ROOM', 'home', '   Shared room      '], dtype=object)"
     },
     "execution_count": 212,
     "metadata": {},
     "output_type": "execute_result"
    }
   ],
   "source": [
    "# Print unique values of `room_type`\n",
    "\n",
    "airbnb['room_type'].unique()"
   ]
  },
  {
   "cell_type": "code",
   "execution_count": 213,
   "metadata": {
    "colab": {
     "base_uri": "https://localhost:8080/",
     "height": 51
    },
    "id": "HwnSnaPEvncy",
    "outputId": "66d9e493-e5c0-471e-8f5b-632f8b0f326d",
    "ExecuteTime": {
     "end_time": "2024-03-07T14:39:19.555255Z",
     "start_time": "2024-03-07T14:39:19.548166Z"
    }
   },
   "outputs": [
    {
     "data": {
      "text/plain": "array(['private room', 'entire home/apt', 'private', 'shared room',\n       'home', '   shared room      '], dtype=object)"
     },
     "execution_count": 213,
     "metadata": {},
     "output_type": "execute_result"
    }
   ],
   "source": [
    "# Deal with capitalized values\n",
    "\n",
    "airbnb['room_type'] = airbnb['room_type'].str.lower()\n",
    "\n",
    "airbnb['room_type'].unique()\n",
    "\n"
   ]
  },
  {
   "cell_type": "code",
   "execution_count": 214,
   "metadata": {
    "colab": {
     "base_uri": "https://localhost:8080/",
     "height": 51
    },
    "id": "u47Ws-GtvvrC",
    "outputId": "3df8ba6a-9c50-4b1f-83c9-d99e855eca11",
    "ExecuteTime": {
     "end_time": "2024-03-07T14:39:19.692662Z",
     "start_time": "2024-03-07T14:39:19.684060Z"
    }
   },
   "outputs": [
    {
     "data": {
      "text/plain": "array(['private room', 'entire home/apt', 'private', 'shared room',\n       'home'], dtype=object)"
     },
     "execution_count": 214,
     "metadata": {},
     "output_type": "execute_result"
    }
   ],
   "source": [
    "# Deal with trailing spaces\n",
    "\n",
    "airbnb['room_type'] = airbnb['room_type'].str.strip()\n",
    "\n",
    "airbnb['room_type'].unique()\n"
   ]
  },
  {
   "cell_type": "code",
   "execution_count": 215,
   "metadata": {
    "colab": {
     "base_uri": "https://localhost:8080/",
     "height": 34
    },
    "id": "tYyyzZ2pwMtx",
    "outputId": "104a9671-5899-4e62-edcb-ca6be7cd29cb",
    "ExecuteTime": {
     "end_time": "2024-03-07T14:39:19.752990Z",
     "start_time": "2024-03-07T14:39:19.726032Z"
    }
   },
   "outputs": [
    {
     "data": {
      "text/plain": "array(['Private room', 'Entire Home/apt', 'Private', 'Shared room',\n       'Home'], dtype=object)"
     },
     "execution_count": 215,
     "metadata": {},
     "output_type": "execute_result"
    }
   ],
   "source": [
    "# Replace values to 'Shared room', 'Entire place', 'Private room' and 'Hotel room' (if applicable).\n",
    "\n",
    "airbnb.room_type = airbnb['room_type'].str.replace('shared', 'Shared')\n",
    "airbnb.room_type = airbnb['room_type'].str.replace('entire', 'Entire')\n",
    "airbnb.room_type = airbnb['room_type'].str.replace('private', 'Private')\n",
    "airbnb.room_type = airbnb['room_type'].str.replace('hotel', 'Hotel')\n",
    "airbnb.room_type = airbnb['room_type'].str.replace('home', 'Home')\n",
    "\n",
    "airbnb.room_type.unique()"
   ]
  },
  {
   "cell_type": "markdown",
   "metadata": {
    "id": "VA_2KMIkxjhL"
   },
   "source": [
    "##### **Task 5:** Divide `neighbourhood_full` into 2 columns and making sure they are clean"
   ]
  },
  {
   "cell_type": "code",
   "execution_count": 216,
   "metadata": {
    "colab": {
     "base_uri": "https://localhost:8080/",
     "height": 119
    },
    "id": "Nc3u9b57xKOu",
    "outputId": "9e815839-48cf-4a48-fda3-0735ddfec707",
    "ExecuteTime": {
     "end_time": "2024-03-07T14:39:19.768570Z",
     "start_time": "2024-03-07T14:39:19.761632Z"
    }
   },
   "outputs": [
    {
     "data": {
      "text/plain": "Empty DataFrame\nColumns: [listing_id, name, host_id, host_name, neighbourhood_full, room_type, price, number_of_reviews, last_review, reviews_per_month, availability_365, rating, number_of_stays, 5_stars, listing_added, latitude, longitude]\nIndex: []",
      "text/html": "<div>\n<style scoped>\n    .dataframe tbody tr th:only-of-type {\n        vertical-align: middle;\n    }\n\n    .dataframe tbody tr th {\n        vertical-align: top;\n    }\n\n    .dataframe thead th {\n        text-align: right;\n    }\n</style>\n<table border=\"1\" class=\"dataframe\">\n  <thead>\n    <tr style=\"text-align: right;\">\n      <th></th>\n      <th>listing_id</th>\n      <th>name</th>\n      <th>host_id</th>\n      <th>host_name</th>\n      <th>neighbourhood_full</th>\n      <th>room_type</th>\n      <th>price</th>\n      <th>number_of_reviews</th>\n      <th>last_review</th>\n      <th>reviews_per_month</th>\n      <th>availability_365</th>\n      <th>rating</th>\n      <th>number_of_stays</th>\n      <th>5_stars</th>\n      <th>listing_added</th>\n      <th>latitude</th>\n      <th>longitude</th>\n    </tr>\n  </thead>\n  <tbody>\n  </tbody>\n</table>\n</div>"
     },
     "execution_count": 216,
     "metadata": {},
     "output_type": "execute_result"
    }
   ],
   "source": [
    "# Print header of column\n",
    "\n",
    "airbnb.head(0)"
   ]
  },
  {
   "cell_type": "code",
   "execution_count": 217,
   "metadata": {
    "colab": {
     "base_uri": "https://localhost:8080/",
     "height": 204
    },
    "id": "88O9T3WYxreo",
    "outputId": "69009b8a-6957-407c-a9ac-2e6434c10169",
    "ExecuteTime": {
     "end_time": "2024-03-07T14:39:19.843844Z",
     "start_time": "2024-03-07T14:39:19.810627Z"
    }
   },
   "outputs": [
    {
     "data": {
      "text/plain": "   listing_id                                               name    host_id  \\\n0    13740704  Cozy,budget friendly, cable inc, private entra...   20583125   \n1    22005115              Two floor apartment near Central Park   82746113   \n2    21667615                  Beautiful 1BR in Brooklyn Heights      78251   \n3     6425850                          Spacious, charming studio   32715865   \n4    22986519              Bedroom on the lively Lower East Side  154262349   \n\n  host_name          neighbourhood_full        room_type  price  \\\n0    Michel         Brooklyn, Flatlands     Private room   45.0   \n1   Cecilia  Manhattan, Upper West Side  Entire Home/apt  135.0   \n2    Leslie  Brooklyn, Brooklyn Heights  Entire Home/apt  150.0   \n3    Yelena  Manhattan, Upper West Side  Entire Home/apt   86.0   \n4    Brooke  Manhattan, Lower East Side     Private room  160.0   \n\n   number_of_reviews last_review  reviews_per_month  availability_365  \\\n0                 10  2018-12-12               0.70                85   \n1                  1  2019-06-30               1.00               145   \n2                  0         NaT                NaN                65   \n3                  5  2017-09-23               0.13                 0   \n4                 23  2019-06-12               2.29               102   \n\n     rating  number_of_stays   5_stars listing_added  latitude  longitude  \\\n0  4.100954             12.0  0.609432    2018-06-08  40.63222  -73.93398   \n1  3.367600              1.2  0.746135    2018-12-25  40.78761  -73.96862   \n2       NaN              NaN       NaN    2018-08-15  40.70070  -73.99517   \n3  4.763203              6.0  0.769947    2017-03-20  40.79169  -73.97498   \n4  3.822591             27.6  0.649383    2020-10-23  40.71884  -73.98354   \n\n     borough      neighbourhood  \n0   Brooklyn          Flatlands  \n1  Manhattan    Upper West Side  \n2   Brooklyn   Brooklyn Heights  \n3  Manhattan    Upper West Side  \n4  Manhattan    Lower East Side  ",
      "text/html": "<div>\n<style scoped>\n    .dataframe tbody tr th:only-of-type {\n        vertical-align: middle;\n    }\n\n    .dataframe tbody tr th {\n        vertical-align: top;\n    }\n\n    .dataframe thead th {\n        text-align: right;\n    }\n</style>\n<table border=\"1\" class=\"dataframe\">\n  <thead>\n    <tr style=\"text-align: right;\">\n      <th></th>\n      <th>listing_id</th>\n      <th>name</th>\n      <th>host_id</th>\n      <th>host_name</th>\n      <th>neighbourhood_full</th>\n      <th>room_type</th>\n      <th>price</th>\n      <th>number_of_reviews</th>\n      <th>last_review</th>\n      <th>reviews_per_month</th>\n      <th>availability_365</th>\n      <th>rating</th>\n      <th>number_of_stays</th>\n      <th>5_stars</th>\n      <th>listing_added</th>\n      <th>latitude</th>\n      <th>longitude</th>\n      <th>borough</th>\n      <th>neighbourhood</th>\n    </tr>\n  </thead>\n  <tbody>\n    <tr>\n      <th>0</th>\n      <td>13740704</td>\n      <td>Cozy,budget friendly, cable inc, private entra...</td>\n      <td>20583125</td>\n      <td>Michel</td>\n      <td>Brooklyn, Flatlands</td>\n      <td>Private room</td>\n      <td>45.0</td>\n      <td>10</td>\n      <td>2018-12-12</td>\n      <td>0.70</td>\n      <td>85</td>\n      <td>4.100954</td>\n      <td>12.0</td>\n      <td>0.609432</td>\n      <td>2018-06-08</td>\n      <td>40.63222</td>\n      <td>-73.93398</td>\n      <td>Brooklyn</td>\n      <td>Flatlands</td>\n    </tr>\n    <tr>\n      <th>1</th>\n      <td>22005115</td>\n      <td>Two floor apartment near Central Park</td>\n      <td>82746113</td>\n      <td>Cecilia</td>\n      <td>Manhattan, Upper West Side</td>\n      <td>Entire Home/apt</td>\n      <td>135.0</td>\n      <td>1</td>\n      <td>2019-06-30</td>\n      <td>1.00</td>\n      <td>145</td>\n      <td>3.367600</td>\n      <td>1.2</td>\n      <td>0.746135</td>\n      <td>2018-12-25</td>\n      <td>40.78761</td>\n      <td>-73.96862</td>\n      <td>Manhattan</td>\n      <td>Upper West Side</td>\n    </tr>\n    <tr>\n      <th>2</th>\n      <td>21667615</td>\n      <td>Beautiful 1BR in Brooklyn Heights</td>\n      <td>78251</td>\n      <td>Leslie</td>\n      <td>Brooklyn, Brooklyn Heights</td>\n      <td>Entire Home/apt</td>\n      <td>150.0</td>\n      <td>0</td>\n      <td>NaT</td>\n      <td>NaN</td>\n      <td>65</td>\n      <td>NaN</td>\n      <td>NaN</td>\n      <td>NaN</td>\n      <td>2018-08-15</td>\n      <td>40.70070</td>\n      <td>-73.99517</td>\n      <td>Brooklyn</td>\n      <td>Brooklyn Heights</td>\n    </tr>\n    <tr>\n      <th>3</th>\n      <td>6425850</td>\n      <td>Spacious, charming studio</td>\n      <td>32715865</td>\n      <td>Yelena</td>\n      <td>Manhattan, Upper West Side</td>\n      <td>Entire Home/apt</td>\n      <td>86.0</td>\n      <td>5</td>\n      <td>2017-09-23</td>\n      <td>0.13</td>\n      <td>0</td>\n      <td>4.763203</td>\n      <td>6.0</td>\n      <td>0.769947</td>\n      <td>2017-03-20</td>\n      <td>40.79169</td>\n      <td>-73.97498</td>\n      <td>Manhattan</td>\n      <td>Upper West Side</td>\n    </tr>\n    <tr>\n      <th>4</th>\n      <td>22986519</td>\n      <td>Bedroom on the lively Lower East Side</td>\n      <td>154262349</td>\n      <td>Brooke</td>\n      <td>Manhattan, Lower East Side</td>\n      <td>Private room</td>\n      <td>160.0</td>\n      <td>23</td>\n      <td>2019-06-12</td>\n      <td>2.29</td>\n      <td>102</td>\n      <td>3.822591</td>\n      <td>27.6</td>\n      <td>0.649383</td>\n      <td>2020-10-23</td>\n      <td>40.71884</td>\n      <td>-73.98354</td>\n      <td>Manhattan</td>\n      <td>Lower East Side</td>\n    </tr>\n  </tbody>\n</table>\n</div>"
     },
     "execution_count": 217,
     "metadata": {},
     "output_type": "execute_result"
    }
   ],
   "source": [
    "# Split neighbourhood_full\n",
    "\n",
    "airbnb.neighbourhood_full = airbnb.neighbourhood_full.astype(str)\n",
    "airbnb['borough'] = airbnb.neighbourhood_full.str.split(',').str[0]\n",
    "airbnb['neighbourhood'] = airbnb.neighbourhood_full.str.split(',').str[1]\n",
    "\n",
    "airbnb.head()"
   ]
  },
  {
   "cell_type": "code",
   "execution_count": 218,
   "metadata": {
    "colab": {
     "base_uri": "https://localhost:8080/",
     "height": 204
    },
    "id": "mmKhwDxkypDJ",
    "outputId": "4fe03746-000b-4281-dfd9-890184f799f5",
    "ExecuteTime": {
     "end_time": "2024-03-07T14:39:19.911735Z",
     "start_time": "2024-03-07T14:39:19.908328Z"
    }
   },
   "outputs": [],
   "source": [
    "# Create borough and neighbourhood columns\n",
    "\n",
    "# Print header of columns"
   ]
  },
  {
   "cell_type": "code",
   "execution_count": 219,
   "metadata": {
    "id": "SnflzqkwzCnt",
    "ExecuteTime": {
     "end_time": "2024-03-07T14:39:19.971384Z",
     "start_time": "2024-03-07T14:39:19.953114Z"
    }
   },
   "outputs": [
    {
     "data": {
      "text/plain": "       listing_id                                               name  \\\n0        13740704  Cozy,budget friendly, cable inc, private entra...   \n1        22005115              Two floor apartment near Central Park   \n2        21667615                  Beautiful 1BR in Brooklyn Heights   \n3         6425850                          Spacious, charming studio   \n4        22986519              Bedroom on the lively Lower East Side   \n...           ...                                                ...   \n10014    22307861                        Lovely 1BR Harlem apartment   \n10015      953275                Apartment For Your Holidays in NYC!   \n10016     3452835          Artsy, Garden Getaway in Central Brooklyn   \n10017    23540194     Immaculate townhouse in Clinton Hill, Brooklyn   \n10018    32876011     Private room in a perfect location in the city   \n\n         host_id host_name        room_type  price  number_of_reviews  \\\n0       20583125    Michel     Private room   45.0                 10   \n1       82746113   Cecilia  Entire Home/apt  135.0                  1   \n2          78251    Leslie  Entire Home/apt  150.0                  0   \n3       32715865    Yelena  Entire Home/apt   86.0                  5   \n4      154262349    Brooke     Private room  160.0                 23   \n...          ...       ...              ...    ...                ...   \n10014   16004068    Rachel  Entire Home/apt  105.0                  4   \n10015    4460034     Alain  Entire Home/apt  125.0                 50   \n10016     666862       Amy  Entire Home/apt  100.0                 45   \n10017   67176930    Sophie  Entire Home/apt  450.0                  2   \n10018   59583716      Shai     Private room   90.0                  1   \n\n      last_review  reviews_per_month  availability_365    rating  \\\n0      2018-12-12               0.70                85  4.100954   \n1      2019-06-30               1.00               145  3.367600   \n2             NaT                NaN                65       NaN   \n3      2017-09-23               0.13                 0  4.763203   \n4      2019-06-12               2.29               102  3.822591   \n...           ...                ...               ...       ...   \n10014  2018-05-28               0.21                 0  4.757555   \n10015  2018-05-06               0.66               188  4.344704   \n10016  2016-11-27               0.98                 0  3.966214   \n10017  2019-05-31               0.17                99  4.078581   \n10018  2019-03-12               0.25                 8  4.069096   \n\n       number_of_stays   5_stars listing_added  latitude  longitude  \\\n0                 12.0  0.609432    2018-06-08  40.63222  -73.93398   \n1                  1.2  0.746135    2018-12-25  40.78761  -73.96862   \n2                  NaN       NaN    2018-08-15  40.70070  -73.99517   \n3                  6.0  0.769947    2017-03-20  40.79169  -73.97498   \n4                 27.6  0.649383    2020-10-23  40.71884  -73.98354   \n...                ...       ...           ...       ...        ...   \n10014              4.8  0.639223    2017-11-22  40.80379  -73.95257   \n10015             60.0  0.648778    2017-10-31  40.79531  -73.93330   \n10016             54.0  0.631713    2016-05-24  40.68266  -73.96743   \n10017              2.4  0.703360    2018-11-25  40.68832  -73.96366   \n10018              1.2  0.720249    2018-09-06  40.76174  -73.96625   \n\n         borough      neighbourhood  \n0       Brooklyn          Flatlands  \n1      Manhattan    Upper West Side  \n2       Brooklyn   Brooklyn Heights  \n3      Manhattan    Upper West Side  \n4      Manhattan    Lower East Side  \n...          ...                ...  \n10014  Manhattan             Harlem  \n10015  Manhattan        East Harlem  \n10016   Brooklyn       Clinton Hill  \n10017   Brooklyn       Clinton Hill  \n10018  Manhattan    Upper East Side  \n\n[10019 rows x 18 columns]",
      "text/html": "<div>\n<style scoped>\n    .dataframe tbody tr th:only-of-type {\n        vertical-align: middle;\n    }\n\n    .dataframe tbody tr th {\n        vertical-align: top;\n    }\n\n    .dataframe thead th {\n        text-align: right;\n    }\n</style>\n<table border=\"1\" class=\"dataframe\">\n  <thead>\n    <tr style=\"text-align: right;\">\n      <th></th>\n      <th>listing_id</th>\n      <th>name</th>\n      <th>host_id</th>\n      <th>host_name</th>\n      <th>room_type</th>\n      <th>price</th>\n      <th>number_of_reviews</th>\n      <th>last_review</th>\n      <th>reviews_per_month</th>\n      <th>availability_365</th>\n      <th>rating</th>\n      <th>number_of_stays</th>\n      <th>5_stars</th>\n      <th>listing_added</th>\n      <th>latitude</th>\n      <th>longitude</th>\n      <th>borough</th>\n      <th>neighbourhood</th>\n    </tr>\n  </thead>\n  <tbody>\n    <tr>\n      <th>0</th>\n      <td>13740704</td>\n      <td>Cozy,budget friendly, cable inc, private entra...</td>\n      <td>20583125</td>\n      <td>Michel</td>\n      <td>Private room</td>\n      <td>45.0</td>\n      <td>10</td>\n      <td>2018-12-12</td>\n      <td>0.70</td>\n      <td>85</td>\n      <td>4.100954</td>\n      <td>12.0</td>\n      <td>0.609432</td>\n      <td>2018-06-08</td>\n      <td>40.63222</td>\n      <td>-73.93398</td>\n      <td>Brooklyn</td>\n      <td>Flatlands</td>\n    </tr>\n    <tr>\n      <th>1</th>\n      <td>22005115</td>\n      <td>Two floor apartment near Central Park</td>\n      <td>82746113</td>\n      <td>Cecilia</td>\n      <td>Entire Home/apt</td>\n      <td>135.0</td>\n      <td>1</td>\n      <td>2019-06-30</td>\n      <td>1.00</td>\n      <td>145</td>\n      <td>3.367600</td>\n      <td>1.2</td>\n      <td>0.746135</td>\n      <td>2018-12-25</td>\n      <td>40.78761</td>\n      <td>-73.96862</td>\n      <td>Manhattan</td>\n      <td>Upper West Side</td>\n    </tr>\n    <tr>\n      <th>2</th>\n      <td>21667615</td>\n      <td>Beautiful 1BR in Brooklyn Heights</td>\n      <td>78251</td>\n      <td>Leslie</td>\n      <td>Entire Home/apt</td>\n      <td>150.0</td>\n      <td>0</td>\n      <td>NaT</td>\n      <td>NaN</td>\n      <td>65</td>\n      <td>NaN</td>\n      <td>NaN</td>\n      <td>NaN</td>\n      <td>2018-08-15</td>\n      <td>40.70070</td>\n      <td>-73.99517</td>\n      <td>Brooklyn</td>\n      <td>Brooklyn Heights</td>\n    </tr>\n    <tr>\n      <th>3</th>\n      <td>6425850</td>\n      <td>Spacious, charming studio</td>\n      <td>32715865</td>\n      <td>Yelena</td>\n      <td>Entire Home/apt</td>\n      <td>86.0</td>\n      <td>5</td>\n      <td>2017-09-23</td>\n      <td>0.13</td>\n      <td>0</td>\n      <td>4.763203</td>\n      <td>6.0</td>\n      <td>0.769947</td>\n      <td>2017-03-20</td>\n      <td>40.79169</td>\n      <td>-73.97498</td>\n      <td>Manhattan</td>\n      <td>Upper West Side</td>\n    </tr>\n    <tr>\n      <th>4</th>\n      <td>22986519</td>\n      <td>Bedroom on the lively Lower East Side</td>\n      <td>154262349</td>\n      <td>Brooke</td>\n      <td>Private room</td>\n      <td>160.0</td>\n      <td>23</td>\n      <td>2019-06-12</td>\n      <td>2.29</td>\n      <td>102</td>\n      <td>3.822591</td>\n      <td>27.6</td>\n      <td>0.649383</td>\n      <td>2020-10-23</td>\n      <td>40.71884</td>\n      <td>-73.98354</td>\n      <td>Manhattan</td>\n      <td>Lower East Side</td>\n    </tr>\n    <tr>\n      <th>...</th>\n      <td>...</td>\n      <td>...</td>\n      <td>...</td>\n      <td>...</td>\n      <td>...</td>\n      <td>...</td>\n      <td>...</td>\n      <td>...</td>\n      <td>...</td>\n      <td>...</td>\n      <td>...</td>\n      <td>...</td>\n      <td>...</td>\n      <td>...</td>\n      <td>...</td>\n      <td>...</td>\n      <td>...</td>\n      <td>...</td>\n    </tr>\n    <tr>\n      <th>10014</th>\n      <td>22307861</td>\n      <td>Lovely 1BR Harlem apartment</td>\n      <td>16004068</td>\n      <td>Rachel</td>\n      <td>Entire Home/apt</td>\n      <td>105.0</td>\n      <td>4</td>\n      <td>2018-05-28</td>\n      <td>0.21</td>\n      <td>0</td>\n      <td>4.757555</td>\n      <td>4.8</td>\n      <td>0.639223</td>\n      <td>2017-11-22</td>\n      <td>40.80379</td>\n      <td>-73.95257</td>\n      <td>Manhattan</td>\n      <td>Harlem</td>\n    </tr>\n    <tr>\n      <th>10015</th>\n      <td>953275</td>\n      <td>Apartment For Your Holidays in NYC!</td>\n      <td>4460034</td>\n      <td>Alain</td>\n      <td>Entire Home/apt</td>\n      <td>125.0</td>\n      <td>50</td>\n      <td>2018-05-06</td>\n      <td>0.66</td>\n      <td>188</td>\n      <td>4.344704</td>\n      <td>60.0</td>\n      <td>0.648778</td>\n      <td>2017-10-31</td>\n      <td>40.79531</td>\n      <td>-73.93330</td>\n      <td>Manhattan</td>\n      <td>East Harlem</td>\n    </tr>\n    <tr>\n      <th>10016</th>\n      <td>3452835</td>\n      <td>Artsy, Garden Getaway in Central Brooklyn</td>\n      <td>666862</td>\n      <td>Amy</td>\n      <td>Entire Home/apt</td>\n      <td>100.0</td>\n      <td>45</td>\n      <td>2016-11-27</td>\n      <td>0.98</td>\n      <td>0</td>\n      <td>3.966214</td>\n      <td>54.0</td>\n      <td>0.631713</td>\n      <td>2016-05-24</td>\n      <td>40.68266</td>\n      <td>-73.96743</td>\n      <td>Brooklyn</td>\n      <td>Clinton Hill</td>\n    </tr>\n    <tr>\n      <th>10017</th>\n      <td>23540194</td>\n      <td>Immaculate townhouse in Clinton Hill, Brooklyn</td>\n      <td>67176930</td>\n      <td>Sophie</td>\n      <td>Entire Home/apt</td>\n      <td>450.0</td>\n      <td>2</td>\n      <td>2019-05-31</td>\n      <td>0.17</td>\n      <td>99</td>\n      <td>4.078581</td>\n      <td>2.4</td>\n      <td>0.703360</td>\n      <td>2018-11-25</td>\n      <td>40.68832</td>\n      <td>-73.96366</td>\n      <td>Brooklyn</td>\n      <td>Clinton Hill</td>\n    </tr>\n    <tr>\n      <th>10018</th>\n      <td>32876011</td>\n      <td>Private room in a perfect location in the city</td>\n      <td>59583716</td>\n      <td>Shai</td>\n      <td>Private room</td>\n      <td>90.0</td>\n      <td>1</td>\n      <td>2019-03-12</td>\n      <td>0.25</td>\n      <td>8</td>\n      <td>4.069096</td>\n      <td>1.2</td>\n      <td>0.720249</td>\n      <td>2018-09-06</td>\n      <td>40.76174</td>\n      <td>-73.96625</td>\n      <td>Manhattan</td>\n      <td>Upper East Side</td>\n    </tr>\n  </tbody>\n</table>\n<p>10019 rows × 18 columns</p>\n</div>"
     },
     "execution_count": 219,
     "metadata": {},
     "output_type": "execute_result"
    }
   ],
   "source": [
    "# Drop neighbourhood_full column\n",
    "\n",
    "airbnb.drop('neighbourhood_full', axis=1)"
   ]
  },
  {
   "cell_type": "code",
   "execution_count": 220,
   "metadata": {
    "colab": {
     "base_uri": "https://localhost:8080/",
     "height": 816
    },
    "id": "NJqrhMlNzNxk",
    "outputId": "fb53c48b-df6e-4622-921c-82e8fd715a56",
    "ExecuteTime": {
     "end_time": "2024-03-07T14:39:20.066249Z",
     "start_time": "2024-03-07T14:39:20.059721Z"
    }
   },
   "outputs": [
    {
     "data": {
      "text/plain": "array([' Flatlands', ' Upper West Side', ' Brooklyn Heights',\n       ' Lower East Side', ' Greenwich Village', ' Harlem',\n       ' Sheepshead Bay', ' Theater District', ' Bushwick', ' Laurelton',\n       ' Mott Haven', ' Flushing', ' Crown Heights', ' Midtown',\n       ' Financial District', ' East Village', ' Park Slope',\n       ' Washington Heights', ' Williamsburg', ' Chelsea',\n       ' Bedford-Stuyvesant', ' Gowanus', ' Upper East Side',\n       ' Ditmars Steinway', ' Cypress Hills', \" Hell's Kitchen\",\n       ' Ridgewood', ' Marble Hill', ' Kips Bay', ' Prospect Heights',\n       ' East New York', ' Concord', ' Stapleton', ' Astoria',\n       ' East Harlem', ' Sunnyside', ' Gramercy',\n       ' Prospect-Lefferts Gardens', ' Sunset Park', ' Forest Hills',\n       ' Windsor Terrace', ' Clinton Hill', ' Murray Hill',\n       ' Flatiron District', ' Greenpoint', ' East Flatbush', ' Tribeca',\n       ' Woodhaven', ' Fort Greene', ' Inwood', ' Chinatown',\n       ' Rockaway Beach', ' Woodside', ' Bayside', ' Bensonhurst',\n       ' SoHo', ' Red Hook', ' West Village', ' South Slope',\n       ' Richmond Hill', ' Jamaica', ' Boerum Hill', ' St. George',\n       ' Clason Point', ' College Point', ' Vinegar Hill', ' Rego Park',\n       ' East Elmhurst', ' Kensington', ' Roosevelt Island',\n       ' Ozone Park', ' Arverne', ' Fordham', ' Wakefield',\n       ' Port Morris', ' Flatbush', ' Elmhurst', ' Bay Ridge',\n       ' Canarsie', ' Little Italy', ' Civic Center', ' St. Albans',\n       ' Morningside Heights', ' Morrisania', ' Two Bridges',\n       ' Concourse', ' Downtown Brooklyn', ' Queens Village',\n       ' Fieldston', ' Allerton', ' Grymes Hill', ' Carroll Gardens',\n       ' Kingsbridge', ' Belle Harbor', ' NoHo', ' Maspeth',\n       ' Borough Park', ' Midwood', ' Fresh Meadows',\n       ' Battery Park City', ' Pelham Bay', ' Van Nest',\n       ' Long Island City', ' Williamsbridge', ' Nolita', ' Kew Gardens',\n       ' Corona', ' Middle Village', ' Jackson Heights', ' Gravesend',\n       ' New Dorp Beach', ' Brighton Beach', ' Belmont', ' Eltingville',\n       ' South Ozone Park', ' Stuyvesant Town', ' Far Rockaway',\n       ' Longwood', ' Glendale', ' Dongan Hills', ' Hollis',\n       ' Columbia St', ' Tompkinsville', ' Springfield Gardens',\n       ' Concourse Village', ' Throgs Neck', ' Cobble Hill',\n       ' South Beach', ' North Riverdale', ' Rosedale', ' Mount Hope',\n       ' Edenwald', ' Parkchester', ' Mill Basin', ' Brownsville',\n       ' Fort Hamilton', ' Howard Beach', ' Claremont Village',\n       ' Pelham Gardens', ' Westchester Square', ' Kew Gardens Hills',\n       ' Arrochar', ' Edgemere', ' Shore Acres', ' Dyker Heights',\n       ' Mount Eden', ' Randall Manor', ' Jamaica Hills', ' Norwood',\n       ' Tottenville', ' Cambria Heights', ' East Morrisania',\n       ' Soundview', ' Morris Park', ' Bronxdale', ' Bellerose',\n       ' Navy Yard', ' Unionport', ' DUMBO', ' Bayswater', ' Tremont',\n       ' Highbridge', ' Graniteville', ' Baychester', ' Morris Heights',\n       ' Coney Island', ' Briarwood', ' West Farms', \" Prince's Bay\",\n       ' University Heights', ' Clifton', ' Bay Terrace', ' City Island',\n       ' West Brighton', ' Douglaston', ' Schuylerville',\n       ' Port Richmond', ' Oakwood', ' Westerleigh', ' Little Neck',\n       ' Holliswood', ' Bergen Beach', ' Castle Hill', ' Olinville',\n       ' Rosebank', ' Melrose', ' Whitestone', ' Grant City',\n       ' Riverdale', ' Neponsit', ' Bath Beach', ' Mariners Harbor',\n       ' Hunts Point', ' Great Kills', ' Midland Beach', ' Eastchester',\n       ' Jamaica Estates', ' New Springville'], dtype=object)"
     },
     "execution_count": 220,
     "metadata": {},
     "output_type": "execute_result"
    }
   ],
   "source": [
    "# Print out unique values of borough and neighbourhood\n",
    "\n",
    "airbnb.borough.unique()\n",
    "airbnb.neighbourhood.unique()"
   ]
  },
  {
   "cell_type": "code",
   "execution_count": 221,
   "metadata": {
    "colab": {
     "base_uri": "https://localhost:8080/",
     "height": 731
    },
    "id": "sIC_fuLRz-en",
    "outputId": "76d43de4-1409-44c7-e813-a182b858282e",
    "ExecuteTime": {
     "end_time": "2024-03-07T14:39:20.107826Z",
     "start_time": "2024-03-07T14:39:20.100870Z"
    }
   },
   "outputs": [
    {
     "data": {
      "text/plain": "array([' Flatlands', ' Upper West Side', ' Brooklyn Heights',\n       ' Lower East Side', ' Greenwich Village', ' Harlem',\n       ' Sheepshead Bay', ' Theater District', ' Bushwick', ' Laurelton',\n       ' Mott Haven', ' Flushing', ' Crown Heights', ' Midtown',\n       ' Financial District', ' East Village', ' Park Slope',\n       ' Washington Heights', ' Williamsburg', ' Chelsea',\n       ' Bedford-Stuyvesant', ' Gowanus', ' Upper East Side',\n       ' Ditmars Steinway', ' Cypress Hills', \" Hell's Kitchen\",\n       ' Ridgewood', ' Marble Hill', ' Kips Bay', ' Prospect Heights',\n       ' East New York', ' Concord', ' Stapleton', ' Astoria',\n       ' East Harlem', ' Sunnyside', ' Gramercy',\n       ' Prospect-Lefferts Gardens', ' Sunset Park', ' Forest Hills',\n       ' Windsor Terrace', ' Clinton Hill', ' Murray Hill',\n       ' Flatiron District', ' Greenpoint', ' East Flatbush', ' Tribeca',\n       ' Woodhaven', ' Fort Greene', ' Inwood', ' Chinatown',\n       ' Rockaway Beach', ' Woodside', ' Bayside', ' Bensonhurst',\n       ' SoHo', ' Red Hook', ' West Village', ' South Slope',\n       ' Richmond Hill', ' Jamaica', ' Boerum Hill', ' St. George',\n       ' Clason Point', ' College Point', ' Vinegar Hill', ' Rego Park',\n       ' East Elmhurst', ' Kensington', ' Roosevelt Island',\n       ' Ozone Park', ' Arverne', ' Fordham', ' Wakefield',\n       ' Port Morris', ' Flatbush', ' Elmhurst', ' Bay Ridge',\n       ' Canarsie', ' Little Italy', ' Civic Center', ' St. Albans',\n       ' Morningside Heights', ' Morrisania', ' Two Bridges',\n       ' Concourse', ' Downtown Brooklyn', ' Queens Village',\n       ' Fieldston', ' Allerton', ' Grymes Hill', ' Carroll Gardens',\n       ' Kingsbridge', ' Belle Harbor', ' NoHo', ' Maspeth',\n       ' Borough Park', ' Midwood', ' Fresh Meadows',\n       ' Battery Park City', ' Pelham Bay', ' Van Nest',\n       ' Long Island City', ' Williamsbridge', ' Nolita', ' Kew Gardens',\n       ' Corona', ' Middle Village', ' Jackson Heights', ' Gravesend',\n       ' New Dorp Beach', ' Brighton Beach', ' Belmont', ' Eltingville',\n       ' South Ozone Park', ' Stuyvesant Town', ' Far Rockaway',\n       ' Longwood', ' Glendale', ' Dongan Hills', ' Hollis',\n       ' Columbia St', ' Tompkinsville', ' Springfield Gardens',\n       ' Concourse Village', ' Throgs Neck', ' Cobble Hill',\n       ' South Beach', ' North Riverdale', ' Rosedale', ' Mount Hope',\n       ' Edenwald', ' Parkchester', ' Mill Basin', ' Brownsville',\n       ' Fort Hamilton', ' Howard Beach', ' Claremont Village',\n       ' Pelham Gardens', ' Westchester Square', ' Kew Gardens Hills',\n       ' Arrochar', ' Edgemere', ' Shore Acres', ' Dyker Heights',\n       ' Mount Eden', ' Randall Manor', ' Jamaica Hills', ' Norwood',\n       ' Tottenville', ' Cambria Heights', ' East Morrisania',\n       ' Soundview', ' Morris Park', ' Bronxdale', ' Bellerose',\n       ' Navy Yard', ' Unionport', ' DUMBO', ' Bayswater', ' Tremont',\n       ' Highbridge', ' Graniteville', ' Baychester', ' Morris Heights',\n       ' Coney Island', ' Briarwood', ' West Farms', \" Prince's Bay\",\n       ' University Heights', ' Clifton', ' Bay Terrace', ' City Island',\n       ' West Brighton', ' Douglaston', ' Schuylerville',\n       ' Port Richmond', ' Oakwood', ' Westerleigh', ' Little Neck',\n       ' Holliswood', ' Bergen Beach', ' Castle Hill', ' Olinville',\n       ' Rosebank', ' Melrose', ' Whitestone', ' Grant City',\n       ' Riverdale', ' Neponsit', ' Bath Beach', ' Mariners Harbor',\n       ' Hunts Point', ' Great Kills', ' Midland Beach', ' Eastchester',\n       ' Jamaica Estates', ' New Springville'], dtype=object)"
     },
     "execution_count": 221,
     "metadata": {},
     "output_type": "execute_result"
    }
   ],
   "source": [
    "# Strip white space from neighbourhood column\n",
    "\n",
    "airbnb.neighbourhood.str.strip()\n",
    "airbnb.neighbourhood.unique()\n",
    "\n",
    "# Print unique values again"
   ]
  },
  {
   "cell_type": "markdown",
   "metadata": {
    "id": "iFUQqbRp1lil"
   },
   "source": [
    "##### **Task 6:** Make sure we set the correct maximum for `rating` column out of range values"
   ]
  },
  {
   "cell_type": "code",
   "execution_count": 245,
   "metadata": {
    "colab": {
     "base_uri": "https://localhost:8080/",
     "height": 349
    },
    "id": "toWXIeUx2C0o",
    "outputId": "544d5863-c5ff-4b01-c299-fe5a17cd04a1",
    "ExecuteTime": {
     "end_time": "2024-03-07T14:39:49.738503Z",
     "start_time": "2024-03-07T14:39:49.723486Z"
    }
   },
   "outputs": [
    {
     "data": {
      "text/plain": "      listing_id                                        name    host_id  \\\n1925    36411407        Brand new 1 bedroom steps from Soho!   33917435   \n6732    36390226      Comfortable clean Bedstuy private room  267932490   \n8821    36413632  Spacious 2BR in Beautiful Brooklyn Heights    6608220   \n\n     host_name            neighbourhood_full        room_type  price  \\\n1925      Mike    Manhattan, Lower East Side  Entire Home/apt  150.0   \n6732    Angela  Brooklyn, Bedford-Stuyvesant     Private room   45.0   \n8821      Matt    Brooklyn, Brooklyn Heights  Entire Home/apt  550.0   \n\n      number_of_reviews last_review  reviews_per_month  availability_365  \\\n1925                  1  2019-07-06                1.0                13   \n6732                  2  2019-07-08                2.0                14   \n8821                  1  2019-07-07                1.0               230   \n\n        rating  number_of_stays   5_stars listing_added  latitude  longitude  \\\n1925  5.017040              1.2  0.870161    2018-12-31  40.71825  -73.99019   \n6732  5.087091              2.4  0.950339    2019-01-02  40.69551  -73.93951   \n8821  5.181114              1.2  0.805418    2019-01-01  40.69827  -73.99649   \n\n        borough        neighbourhood  \n1925  Manhattan      Lower East Side  \n6732   Brooklyn   Bedford-Stuyvesant  \n8821   Brooklyn     Brooklyn Heights  ",
      "text/html": "<div>\n<style scoped>\n    .dataframe tbody tr th:only-of-type {\n        vertical-align: middle;\n    }\n\n    .dataframe tbody tr th {\n        vertical-align: top;\n    }\n\n    .dataframe thead th {\n        text-align: right;\n    }\n</style>\n<table border=\"1\" class=\"dataframe\">\n  <thead>\n    <tr style=\"text-align: right;\">\n      <th></th>\n      <th>listing_id</th>\n      <th>name</th>\n      <th>host_id</th>\n      <th>host_name</th>\n      <th>neighbourhood_full</th>\n      <th>room_type</th>\n      <th>price</th>\n      <th>number_of_reviews</th>\n      <th>last_review</th>\n      <th>reviews_per_month</th>\n      <th>availability_365</th>\n      <th>rating</th>\n      <th>number_of_stays</th>\n      <th>5_stars</th>\n      <th>listing_added</th>\n      <th>latitude</th>\n      <th>longitude</th>\n      <th>borough</th>\n      <th>neighbourhood</th>\n    </tr>\n  </thead>\n  <tbody>\n    <tr>\n      <th>1925</th>\n      <td>36411407</td>\n      <td>Brand new 1 bedroom steps from Soho!</td>\n      <td>33917435</td>\n      <td>Mike</td>\n      <td>Manhattan, Lower East Side</td>\n      <td>Entire Home/apt</td>\n      <td>150.0</td>\n      <td>1</td>\n      <td>2019-07-06</td>\n      <td>1.0</td>\n      <td>13</td>\n      <td>5.017040</td>\n      <td>1.2</td>\n      <td>0.870161</td>\n      <td>2018-12-31</td>\n      <td>40.71825</td>\n      <td>-73.99019</td>\n      <td>Manhattan</td>\n      <td>Lower East Side</td>\n    </tr>\n    <tr>\n      <th>6732</th>\n      <td>36390226</td>\n      <td>Comfortable clean Bedstuy private room</td>\n      <td>267932490</td>\n      <td>Angela</td>\n      <td>Brooklyn, Bedford-Stuyvesant</td>\n      <td>Private room</td>\n      <td>45.0</td>\n      <td>2</td>\n      <td>2019-07-08</td>\n      <td>2.0</td>\n      <td>14</td>\n      <td>5.087091</td>\n      <td>2.4</td>\n      <td>0.950339</td>\n      <td>2019-01-02</td>\n      <td>40.69551</td>\n      <td>-73.93951</td>\n      <td>Brooklyn</td>\n      <td>Bedford-Stuyvesant</td>\n    </tr>\n    <tr>\n      <th>8821</th>\n      <td>36413632</td>\n      <td>Spacious 2BR in Beautiful Brooklyn Heights</td>\n      <td>6608220</td>\n      <td>Matt</td>\n      <td>Brooklyn, Brooklyn Heights</td>\n      <td>Entire Home/apt</td>\n      <td>550.0</td>\n      <td>1</td>\n      <td>2019-07-07</td>\n      <td>1.0</td>\n      <td>230</td>\n      <td>5.181114</td>\n      <td>1.2</td>\n      <td>0.805418</td>\n      <td>2019-01-01</td>\n      <td>40.69827</td>\n      <td>-73.99649</td>\n      <td>Brooklyn</td>\n      <td>Brooklyn Heights</td>\n    </tr>\n  </tbody>\n</table>\n</div>"
     },
     "execution_count": 245,
     "metadata": {},
     "output_type": "execute_result"
    }
   ],
   "source": [
    "# Isolate rows of rating > 5.0\n",
    "\n",
    "airbnb.query('rating > 5.0')\n"
   ]
  },
  {
   "cell_type": "code",
   "execution_count": 223,
   "metadata": {
    "id": "O6GzdjlP2JZN",
    "ExecuteTime": {
     "end_time": "2024-03-07T14:39:20.246099Z",
     "start_time": "2024-03-07T14:39:20.243205Z"
    }
   },
   "outputs": [],
   "source": [
    "# Drop these rows and make sure we have effected changes\n",
    "\n",
    "\n"
   ]
  },
  {
   "cell_type": "code",
   "execution_count": 224,
   "metadata": {
    "colab": {
     "base_uri": "https://localhost:8080/",
     "height": 34
    },
    "id": "ll1KvVJX4Pd3",
    "outputId": "5e1a6b80-1ba8-47f0-88ea-6b53e3cdcd3d",
    "ExecuteTime": {
     "end_time": "2024-03-07T14:39:20.360629Z",
     "start_time": "2024-03-07T14:39:20.358Z"
    }
   },
   "outputs": [],
   "source": [
    "# Get the maximum"
   ]
  },
  {
   "cell_type": "markdown",
   "metadata": {
    "id": "KGpasg3L6Je4"
   },
   "source": [
    "##### **Task 7:** Check consitent date format in the date columns."
   ]
  },
  {
   "cell_type": "code",
   "execution_count": 225,
   "metadata": {
    "id": "jT_hz8Dj0EhB",
    "ExecuteTime": {
     "end_time": "2024-03-07T14:39:20.372534Z",
     "start_time": "2024-03-07T14:39:20.368936Z"
    }
   },
   "outputs": [],
   "source": [
    "# Doing some sanity checks on date data"
   ]
  },
  {
   "cell_type": "code",
   "execution_count": 226,
   "metadata": {
    "colab": {
     "base_uri": "https://localhost:8080/",
     "height": 69
    },
    "id": "pUKi4Dbi27Zb",
    "outputId": "a34f2e24-1ae0-42ce-f779-437549f1dce8",
    "ExecuteTime": {
     "end_time": "2024-03-07T14:39:20.420381Z",
     "start_time": "2024-03-07T14:39:20.417577Z"
    }
   },
   "outputs": [],
   "source": [
    "# Are there reviews in the future?"
   ]
  },
  {
   "cell_type": "code",
   "execution_count": 227,
   "metadata": {
    "colab": {
     "base_uri": "https://localhost:8080/",
     "height": 499
    },
    "id": "dZO_yoOZ2-jf",
    "outputId": "44ea0a3e-dbec-49fd-c004-27fe8d14ada4",
    "ExecuteTime": {
     "end_time": "2024-03-07T14:39:20.461509Z",
     "start_time": "2024-03-07T14:39:20.458389Z"
    }
   },
   "outputs": [],
   "source": [
    "# Are there listings in the future?"
   ]
  },
  {
   "cell_type": "code",
   "execution_count": 228,
   "metadata": {
    "id": "3xJUlJFm3cmc",
    "ExecuteTime": {
     "end_time": "2024-03-07T14:39:20.472491Z",
     "start_time": "2024-03-07T14:39:20.465627Z"
    }
   },
   "outputs": [],
   "source": [
    "# Drop these rows since they are only 4 rows"
   ]
  },
  {
   "cell_type": "code",
   "execution_count": 229,
   "metadata": {
    "colab": {
     "base_uri": "https://localhost:8080/",
     "height": 250
    },
    "id": "BvqMxmux4e_Q",
    "outputId": "acda368c-0aaf-4ea2-fce3-583502a1a4d1",
    "ExecuteTime": {
     "end_time": "2024-03-07T14:39:20.482638Z",
     "start_time": "2024-03-07T14:39:20.480499Z"
    }
   },
   "outputs": [],
   "source": [
    "# Are there any listings with listing_added > last_review"
   ]
  },
  {
   "cell_type": "code",
   "execution_count": 230,
   "metadata": {
    "id": "cCziTT7T4xbT",
    "ExecuteTime": {
     "end_time": "2024-03-07T14:39:20.506170Z",
     "start_time": "2024-03-07T14:39:20.503710Z"
    }
   },
   "outputs": [],
   "source": [
    "# Drop these rows since they are only 2 rows"
   ]
  },
  {
   "cell_type": "markdown",
   "metadata": {
    "id": "JD1ChXPF6BR7"
   },
   "source": [
    "##### **Task 8:** Let's deal with duplicate data"
   ]
  },
  {
   "cell_type": "markdown",
   "metadata": {
    "id": "hz9oQHyt8KmO"
   },
   "source": [
    "\n",
    "There are two notable types of duplicate data:\n",
    "\n",
    "- Identical duplicate data across all columns\n",
    "- Identical duplicate data cross most or some columns\n",
    "\n",
    "To diagnose, and deal with duplicate data, we will be using the following methods and functions:\n",
    "\n",
    "- `.duplicated(subset = , keep = )`\n",
    "  - `subset` lets us pick one or more columns with duplicate values.\n",
    "  - `keep` returns lets us return all instances of duplicate values.\n",
    "- `.drop_duplicates(subset = , keep = )`\n",
    "  "
   ]
  },
  {
   "cell_type": "code",
   "execution_count": 231,
   "metadata": {
    "colab": {
     "base_uri": "https://localhost:8080/",
     "height": 462
    },
    "id": "_m3Gdg7x6ATJ",
    "outputId": "d66e76c5-0d10-4b8b-ded5-f0299630652e",
    "ExecuteTime": {
     "end_time": "2024-03-07T14:39:20.520866Z",
     "start_time": "2024-03-07T14:39:20.517765Z"
    }
   },
   "outputs": [],
   "source": [
    "# Print the header of the DataFrame again"
   ]
  },
  {
   "cell_type": "code",
   "execution_count": 232,
   "metadata": {
    "colab": {
     "base_uri": "https://localhost:8080/",
     "height": 221
    },
    "id": "EzT8q3SCIW7w",
    "outputId": "72825341-2a6b-4db3-b32a-ab1a806be314",
    "ExecuteTime": {
     "end_time": "2024-03-07T14:39:20.533525Z",
     "start_time": "2024-03-07T14:39:20.530871Z"
    }
   },
   "outputs": [],
   "source": [
    "# Find duplicates"
   ]
  },
  {
   "cell_type": "code",
   "execution_count": 233,
   "metadata": {
    "colab": {
     "base_uri": "https://localhost:8080/",
     "height": 1000
    },
    "id": "pqVxdea4Ik5g",
    "outputId": "c7b21e06-1fc6-4466-9bdf-64509d3c5a6a",
    "ExecuteTime": {
     "end_time": "2024-03-07T14:39:20.554783Z",
     "start_time": "2024-03-07T14:39:20.550627Z"
    }
   },
   "outputs": [],
   "source": [
    "# Find duplicates"
   ]
  },
  {
   "cell_type": "code",
   "execution_count": 234,
   "metadata": {
    "id": "uSXEpMFlJCJc",
    "ExecuteTime": {
     "end_time": "2024-03-07T14:39:20.571778Z",
     "start_time": "2024-03-07T14:39:20.568902Z"
    }
   },
   "outputs": [],
   "source": [
    "# Remove identical duplicates"
   ]
  },
  {
   "cell_type": "code",
   "execution_count": 235,
   "metadata": {
    "id": "nYf1M1cNKIIN",
    "ExecuteTime": {
     "end_time": "2024-03-07T14:39:20.587824Z",
     "start_time": "2024-03-07T14:39:20.584822Z"
    }
   },
   "outputs": [],
   "source": [
    "# Find non-identical duplicates"
   ]
  },
  {
   "cell_type": "code",
   "execution_count": 236,
   "metadata": {
    "colab": {
     "base_uri": "https://localhost:8080/",
     "height": 1000
    },
    "id": "wiN1SBw8Kizr",
    "outputId": "2cdb3279-a0e0-4806-9bbe-2506539332c4",
    "ExecuteTime": {
     "end_time": "2024-03-07T14:39:20.607343Z",
     "start_time": "2024-03-07T14:39:20.604078Z"
    }
   },
   "outputs": [],
   "source": [
    "# Show all duplicates"
   ]
  },
  {
   "cell_type": "markdown",
   "metadata": {
    "id": "E6_O2EYkcGoF"
   },
   "source": [
    "To treat identical duplicates across some columns, we will chain the `.groupby()` and `.agg()` methods where we group by the column used to find duplicates (`listing_id`) and aggregate across statistical measures for `price`, `rating` and `list_added`. The `.agg()` method takes in a dictionary with each column's aggregation method - we will use the following aggregations:\n",
    "\n",
    "- `mean` for `price` and `rating` columns\n",
    "- `max` for `listing_added` column\n",
    "- `first` for all remaining column\n",
    "\n",
    "*A note on dictionary comprehensions:*\n",
    "\n",
    "Dictionaries are useful data structures in Python with the following format\n",
    "`my_dictionary = {key: value}` where a `key` is mapped to a `value` and whose `value` can be returned with `my_dictionary[key]` - dictionary comprehensions allow us to programmatically create dicitonaries using the structure:\n",
    "\n",
    "```\n",
    "{x: x*2 for x in [1,2,3,4,5]} \n",
    "{1:2, 2:4, 3:6, 4:8, 5:10}\n",
    "```"
   ]
  },
  {
   "cell_type": "code",
   "execution_count": 237,
   "metadata": {
    "colab": {
     "base_uri": "https://localhost:8080/",
     "height": 102
    },
    "id": "lYhIclpMqa_i",
    "outputId": "a9fb963d-8b7b-4db8-e8f1-a1ffc13835be",
    "ExecuteTime": {
     "end_time": "2024-03-07T14:39:20.652832Z",
     "start_time": "2024-03-07T14:39:20.650171Z"
    }
   },
   "outputs": [],
   "source": [
    "# Get column names from airbnb"
   ]
  },
  {
   "cell_type": "code",
   "execution_count": 238,
   "metadata": {
    "colab": {
     "base_uri": "https://localhost:8080/",
     "height": 323
    },
    "id": "CxCJ3xPbKmJg",
    "outputId": "41b354f9-6a4f-4ccc-d6ac-57b8030400ef",
    "ExecuteTime": {
     "end_time": "2024-03-07T14:39:20.711549Z",
     "start_time": "2024-03-07T14:39:20.708410Z"
    }
   },
   "outputs": [],
   "source": [
    "# Create dictionary comprehension with 'first' as value for all columns not being aggregated"
   ]
  },
  {
   "cell_type": "code",
   "execution_count": 239,
   "metadata": {
    "id": "jaS5j-KsRUD-",
    "ExecuteTime": {
     "end_time": "2024-03-07T14:39:20.732843Z",
     "start_time": "2024-03-07T14:39:20.730186Z"
    }
   },
   "outputs": [],
   "source": [
    "# Remove non-identical duplicates"
   ]
  },
  {
   "cell_type": "code",
   "execution_count": 240,
   "metadata": {
    "colab": {
     "base_uri": "https://localhost:8080/",
     "height": 69
    },
    "id": "q93L6waFWpTq",
    "outputId": "fc9621eb-236e-40c3-e087-f23393ec4e23",
    "ExecuteTime": {
     "end_time": "2024-03-07T14:39:20.769717Z",
     "start_time": "2024-03-07T14:39:20.766355Z"
    }
   },
   "outputs": [],
   "source": [
    "# Make sure no duplication happened"
   ]
  },
  {
   "cell_type": "code",
   "execution_count": 241,
   "metadata": {
    "colab": {
     "base_uri": "https://localhost:8080/",
     "height": 445
    },
    "id": "ZmIRBaZgW4q2",
    "outputId": "86fdbcff-636a-4b20-c310-a070c3857b3a",
    "ExecuteTime": {
     "end_time": "2024-03-07T14:39:20.785455Z",
     "start_time": "2024-03-07T14:39:20.782833Z"
    }
   },
   "outputs": [],
   "source": [
    "# Print header of DataFrame"
   ]
  },
  {
   "cell_type": "markdown",
   "metadata": {},
   "source": [
    "## **Record Linkage**\n",
    "\n",
    "Some selected examples will be presented in the on-site meeting."
   ]
  },
  {
   "cell_type": "code",
   "execution_count": 242,
   "metadata": {
    "ExecuteTime": {
     "end_time": "2024-03-07T14:39:20.793850Z",
     "start_time": "2024-03-07T14:39:20.788475Z"
    }
   },
   "outputs": [],
   "source": [
    "# Task 1: Choose 3 different examples of word pairs, draw a matrix for each example, and calculate the levensthein distance manually without any digital support."
   ]
  },
  {
   "cell_type": "code",
   "execution_count": 243,
   "metadata": {
    "ExecuteTime": {
     "end_time": "2024-03-07T14:39:20.818022Z",
     "start_time": "2024-03-07T14:39:20.813982Z"
    }
   },
   "outputs": [],
   "source": [
    "# Task 2: Calculate the levensthein distance for the three examples by using a python levensthein distance library of your choice."
   ]
  },
  {
   "cell_type": "code",
   "execution_count": 243,
   "metadata": {
    "ExecuteTime": {
     "end_time": "2024-03-07T14:39:20.846373Z",
     "start_time": "2024-03-07T14:39:20.844026Z"
    }
   },
   "outputs": [],
   "source": []
  }
 ],
 "metadata": {
  "colab": {
   "name": "Cleaning Data in Python live session.ipynb",
   "provenance": []
  },
  "kernelspec": {
   "display_name": "Python 3",
   "language": "python",
   "name": "python3"
  },
  "language_info": {
   "codemirror_mode": {
    "name": "ipython",
    "version": 3
   },
   "file_extension": ".py",
   "mimetype": "text/x-python",
   "name": "python",
   "nbconvert_exporter": "python",
   "pygments_lexer": "ipython3",
   "version": "3.8.6"
  }
 },
 "nbformat": 4,
 "nbformat_minor": 1
}
