{
 "cells": [
  {
   "cell_type": "markdown",
   "metadata": {},
   "source": [
    "# Data Engineering 1: Lab 04\n",
    "---------------"
   ]
  },
  {
   "cell_type": "markdown",
   "metadata": {},
   "source": [
    "### Task 01: Read the customers."
   ]
  },
  {
   "cell_type": "markdown",
   "metadata": {},
   "source": [
    "##### a) Create a DataFrame called customers with the customers.csv file. Print the count of customers and 5 entries to have a look at the data."
   ]
  },
  {
   "cell_type": "code",
   "execution_count": 123,
   "metadata": {
    "ExecuteTime": {
     "end_time": "2024-03-14T15:15:28.647911Z",
     "start_time": "2024-03-14T15:15:28.639720Z"
    }
   },
   "outputs": [
    {
     "data": {
      "text/plain": "999"
     },
     "execution_count": 123,
     "metadata": {},
     "output_type": "execute_result"
    }
   ],
   "source": [
    "import pandas as pd\n",
    "\n",
    "cust = pd.read_csv('../Grundlagen/DE1_Lab04/DE1_Lab04_customers.csv')\n",
    "cust.name.count()"
   ]
  },
  {
   "cell_type": "markdown",
   "metadata": {},
   "source": [
    "##### b) Get the count of customers per each status."
   ]
  },
  {
   "cell_type": "code",
   "execution_count": 124,
   "metadata": {
    "ExecuteTime": {
     "end_time": "2024-03-14T15:15:28.739847Z",
     "start_time": "2024-03-14T15:15:28.732261Z"
    }
   },
   "outputs": [
    {
     "data": {
      "text/plain": "         id  name  bdate  city  canton\nstatus                                \nbronze  326   326    326   326     326\ngold    331   331    331   331     331\nsilver  342   342    342   342     342",
      "text/html": "<div>\n<style scoped>\n    .dataframe tbody tr th:only-of-type {\n        vertical-align: middle;\n    }\n\n    .dataframe tbody tr th {\n        vertical-align: top;\n    }\n\n    .dataframe thead th {\n        text-align: right;\n    }\n</style>\n<table border=\"1\" class=\"dataframe\">\n  <thead>\n    <tr style=\"text-align: right;\">\n      <th></th>\n      <th>id</th>\n      <th>name</th>\n      <th>bdate</th>\n      <th>city</th>\n      <th>canton</th>\n    </tr>\n    <tr>\n      <th>status</th>\n      <th></th>\n      <th></th>\n      <th></th>\n      <th></th>\n      <th></th>\n    </tr>\n  </thead>\n  <tbody>\n    <tr>\n      <th>bronze</th>\n      <td>326</td>\n      <td>326</td>\n      <td>326</td>\n      <td>326</td>\n      <td>326</td>\n    </tr>\n    <tr>\n      <th>gold</th>\n      <td>331</td>\n      <td>331</td>\n      <td>331</td>\n      <td>331</td>\n      <td>331</td>\n    </tr>\n    <tr>\n      <th>silver</th>\n      <td>342</td>\n      <td>342</td>\n      <td>342</td>\n      <td>342</td>\n      <td>342</td>\n    </tr>\n  </tbody>\n</table>\n</div>"
     },
     "execution_count": 124,
     "metadata": {},
     "output_type": "execute_result"
    }
   ],
   "source": [
    "cust.groupby(by='status').count()"
   ]
  },
  {
   "cell_type": "markdown",
   "metadata": {},
   "source": [
    "##### c) Get the count of customers per each city and check the result. Clean the messy entries and print the result again."
   ]
  },
  {
   "cell_type": "code",
   "execution_count": 125,
   "metadata": {
    "ExecuteTime": {
     "end_time": "2024-03-14T15:15:28.751303Z",
     "start_time": "2024-03-14T15:15:28.740851Z"
    }
   },
   "outputs": [
    {
     "data": {
      "text/plain": "              id  name  status  bdate  canton\ncity                                         \nBuelach       66    66      66     66      66\nBülach        61    61      61     61      61\nFrauenfeld    59    59      59     59      59\nGossau        98    98      98     98      98\nKreuzlingen   74    74      74     74      74\nRomanshorn    65    65      65     65      65\nSankt Gallen  86    86      86     86      86\nSt Gallen     74    74      74     74      74\nSt. Gallen    79    79      79     79      79\nUster         65    65      65     65      65\nWil           69    69      69     69      69\nWinterthur    77    77      77     77      77\nZuerich       62    62      62     62      62\nZürich        64    64      64     64      64",
      "text/html": "<div>\n<style scoped>\n    .dataframe tbody tr th:only-of-type {\n        vertical-align: middle;\n    }\n\n    .dataframe tbody tr th {\n        vertical-align: top;\n    }\n\n    .dataframe thead th {\n        text-align: right;\n    }\n</style>\n<table border=\"1\" class=\"dataframe\">\n  <thead>\n    <tr style=\"text-align: right;\">\n      <th></th>\n      <th>id</th>\n      <th>name</th>\n      <th>status</th>\n      <th>bdate</th>\n      <th>canton</th>\n    </tr>\n    <tr>\n      <th>city</th>\n      <th></th>\n      <th></th>\n      <th></th>\n      <th></th>\n      <th></th>\n    </tr>\n  </thead>\n  <tbody>\n    <tr>\n      <th>Buelach</th>\n      <td>66</td>\n      <td>66</td>\n      <td>66</td>\n      <td>66</td>\n      <td>66</td>\n    </tr>\n    <tr>\n      <th>Bülach</th>\n      <td>61</td>\n      <td>61</td>\n      <td>61</td>\n      <td>61</td>\n      <td>61</td>\n    </tr>\n    <tr>\n      <th>Frauenfeld</th>\n      <td>59</td>\n      <td>59</td>\n      <td>59</td>\n      <td>59</td>\n      <td>59</td>\n    </tr>\n    <tr>\n      <th>Gossau</th>\n      <td>98</td>\n      <td>98</td>\n      <td>98</td>\n      <td>98</td>\n      <td>98</td>\n    </tr>\n    <tr>\n      <th>Kreuzlingen</th>\n      <td>74</td>\n      <td>74</td>\n      <td>74</td>\n      <td>74</td>\n      <td>74</td>\n    </tr>\n    <tr>\n      <th>Romanshorn</th>\n      <td>65</td>\n      <td>65</td>\n      <td>65</td>\n      <td>65</td>\n      <td>65</td>\n    </tr>\n    <tr>\n      <th>Sankt Gallen</th>\n      <td>86</td>\n      <td>86</td>\n      <td>86</td>\n      <td>86</td>\n      <td>86</td>\n    </tr>\n    <tr>\n      <th>St Gallen</th>\n      <td>74</td>\n      <td>74</td>\n      <td>74</td>\n      <td>74</td>\n      <td>74</td>\n    </tr>\n    <tr>\n      <th>St. Gallen</th>\n      <td>79</td>\n      <td>79</td>\n      <td>79</td>\n      <td>79</td>\n      <td>79</td>\n    </tr>\n    <tr>\n      <th>Uster</th>\n      <td>65</td>\n      <td>65</td>\n      <td>65</td>\n      <td>65</td>\n      <td>65</td>\n    </tr>\n    <tr>\n      <th>Wil</th>\n      <td>69</td>\n      <td>69</td>\n      <td>69</td>\n      <td>69</td>\n      <td>69</td>\n    </tr>\n    <tr>\n      <th>Winterthur</th>\n      <td>77</td>\n      <td>77</td>\n      <td>77</td>\n      <td>77</td>\n      <td>77</td>\n    </tr>\n    <tr>\n      <th>Zuerich</th>\n      <td>62</td>\n      <td>62</td>\n      <td>62</td>\n      <td>62</td>\n      <td>62</td>\n    </tr>\n    <tr>\n      <th>Zürich</th>\n      <td>64</td>\n      <td>64</td>\n      <td>64</td>\n      <td>64</td>\n      <td>64</td>\n    </tr>\n  </tbody>\n</table>\n</div>"
     },
     "execution_count": 125,
     "metadata": {},
     "output_type": "execute_result"
    }
   ],
   "source": [
    "cust.groupby(by='city').count()"
   ]
  },
  {
   "cell_type": "code",
   "execution_count": 126,
   "metadata": {
    "ExecuteTime": {
     "end_time": "2024-03-14T15:15:28.764353Z",
     "start_time": "2024-03-14T15:15:28.759344Z"
    }
   },
   "outputs": [],
   "source": [
    "cust['city'] = cust['city'].replace('Bülach', 'Buelach')\n",
    "cust['city'] = cust['city'].replace('Sankt Gallen', 'St Gallen')\n",
    "cust['city'] = cust['city'].replace('St. Gallen', 'St Gallen')\n",
    "cust['city'] = cust['city'].replace('Zürich', 'Zuerich')\n"
   ]
  },
  {
   "cell_type": "code",
   "execution_count": 127,
   "metadata": {
    "ExecuteTime": {
     "end_time": "2024-03-14T15:15:28.816068Z",
     "start_time": "2024-03-14T15:15:28.808300Z"
    }
   },
   "outputs": [
    {
     "data": {
      "text/plain": "              id  name  status  bdate  canton\ncity                                         \nBuelach      127   127     127    127     127\nFrauenfeld    59    59      59     59      59\nGossau        98    98      98     98      98\nKreuzlingen   74    74      74     74      74\nRomanshorn    65    65      65     65      65\nSt Gallen    239   239     239    239     239\nUster         65    65      65     65      65\nWil           69    69      69     69      69\nWinterthur    77    77      77     77      77\nZuerich      126   126     126    126     126",
      "text/html": "<div>\n<style scoped>\n    .dataframe tbody tr th:only-of-type {\n        vertical-align: middle;\n    }\n\n    .dataframe tbody tr th {\n        vertical-align: top;\n    }\n\n    .dataframe thead th {\n        text-align: right;\n    }\n</style>\n<table border=\"1\" class=\"dataframe\">\n  <thead>\n    <tr style=\"text-align: right;\">\n      <th></th>\n      <th>id</th>\n      <th>name</th>\n      <th>status</th>\n      <th>bdate</th>\n      <th>canton</th>\n    </tr>\n    <tr>\n      <th>city</th>\n      <th></th>\n      <th></th>\n      <th></th>\n      <th></th>\n      <th></th>\n    </tr>\n  </thead>\n  <tbody>\n    <tr>\n      <th>Buelach</th>\n      <td>127</td>\n      <td>127</td>\n      <td>127</td>\n      <td>127</td>\n      <td>127</td>\n    </tr>\n    <tr>\n      <th>Frauenfeld</th>\n      <td>59</td>\n      <td>59</td>\n      <td>59</td>\n      <td>59</td>\n      <td>59</td>\n    </tr>\n    <tr>\n      <th>Gossau</th>\n      <td>98</td>\n      <td>98</td>\n      <td>98</td>\n      <td>98</td>\n      <td>98</td>\n    </tr>\n    <tr>\n      <th>Kreuzlingen</th>\n      <td>74</td>\n      <td>74</td>\n      <td>74</td>\n      <td>74</td>\n      <td>74</td>\n    </tr>\n    <tr>\n      <th>Romanshorn</th>\n      <td>65</td>\n      <td>65</td>\n      <td>65</td>\n      <td>65</td>\n      <td>65</td>\n    </tr>\n    <tr>\n      <th>St Gallen</th>\n      <td>239</td>\n      <td>239</td>\n      <td>239</td>\n      <td>239</td>\n      <td>239</td>\n    </tr>\n    <tr>\n      <th>Uster</th>\n      <td>65</td>\n      <td>65</td>\n      <td>65</td>\n      <td>65</td>\n      <td>65</td>\n    </tr>\n    <tr>\n      <th>Wil</th>\n      <td>69</td>\n      <td>69</td>\n      <td>69</td>\n      <td>69</td>\n      <td>69</td>\n    </tr>\n    <tr>\n      <th>Winterthur</th>\n      <td>77</td>\n      <td>77</td>\n      <td>77</td>\n      <td>77</td>\n      <td>77</td>\n    </tr>\n    <tr>\n      <th>Zuerich</th>\n      <td>126</td>\n      <td>126</td>\n      <td>126</td>\n      <td>126</td>\n      <td>126</td>\n    </tr>\n  </tbody>\n</table>\n</div>"
     },
     "execution_count": 127,
     "metadata": {},
     "output_type": "execute_result"
    }
   ],
   "source": [
    "cust.groupby(by='city').count()"
   ]
  },
  {
   "cell_type": "markdown",
   "metadata": {},
   "source": [
    "##### d) Add the canton information to the entries and get the count of customers per each status and canton."
   ]
  },
  {
   "cell_type": "code",
   "execution_count": 128,
   "metadata": {
    "ExecuteTime": {
     "end_time": "2024-03-14T15:15:28.871398Z",
     "start_time": "2024-03-14T15:15:28.862322Z"
    }
   },
   "outputs": [],
   "source": [
    "cust.loc[cust['city'] == 'Buelach', 'canton'] = 'ZH'\n",
    "cust.loc[cust['city'] == 'Frauenfeld', 'canton'] = 'TG'\n",
    "cust.loc[cust['city'] == 'Gossau', 'canton'] = 'ZH'\n",
    "cust.loc[cust['city'] == 'Kreuzlingen', 'canton'] = 'TG'\n",
    "cust.loc[cust['city'] == 'Romanshorn', 'canton'] = 'TG'\n",
    "cust.loc[cust['city'] == 'St Gallen', 'canton'] = 'SG'\n",
    "cust.loc[cust['city'] == 'Uster', 'canton'] = 'ZH'\n",
    "cust.loc[cust['city'] == 'Wil', 'canton'] = 'TG'\n",
    "cust.loc[cust['city'] == 'Winterthur', 'canton'] = 'ZH'\n",
    "cust.loc[cust['city'] == 'Zuerich', 'canton'] = 'ZH'"
   ]
  },
  {
   "cell_type": "code",
   "execution_count": 129,
   "metadata": {
    "ExecuteTime": {
     "end_time": "2024-03-14T15:15:29.025557Z",
     "start_time": "2024-03-14T15:15:29.018392Z"
    }
   },
   "outputs": [
    {
     "data": {
      "text/plain": "         id  name  status  bdate  city\ncanton                                \nSG      239   239     239    239   239\nTG      267   267     267    267   267\nZH      493   493     493    493   493",
      "text/html": "<div>\n<style scoped>\n    .dataframe tbody tr th:only-of-type {\n        vertical-align: middle;\n    }\n\n    .dataframe tbody tr th {\n        vertical-align: top;\n    }\n\n    .dataframe thead th {\n        text-align: right;\n    }\n</style>\n<table border=\"1\" class=\"dataframe\">\n  <thead>\n    <tr style=\"text-align: right;\">\n      <th></th>\n      <th>id</th>\n      <th>name</th>\n      <th>status</th>\n      <th>bdate</th>\n      <th>city</th>\n    </tr>\n    <tr>\n      <th>canton</th>\n      <th></th>\n      <th></th>\n      <th></th>\n      <th></th>\n      <th></th>\n    </tr>\n  </thead>\n  <tbody>\n    <tr>\n      <th>SG</th>\n      <td>239</td>\n      <td>239</td>\n      <td>239</td>\n      <td>239</td>\n      <td>239</td>\n    </tr>\n    <tr>\n      <th>TG</th>\n      <td>267</td>\n      <td>267</td>\n      <td>267</td>\n      <td>267</td>\n      <td>267</td>\n    </tr>\n    <tr>\n      <th>ZH</th>\n      <td>493</td>\n      <td>493</td>\n      <td>493</td>\n      <td>493</td>\n      <td>493</td>\n    </tr>\n  </tbody>\n</table>\n</div>"
     },
     "execution_count": 129,
     "metadata": {},
     "output_type": "execute_result"
    }
   ],
   "source": [
    "cust.groupby(by='canton').count()"
   ]
  },
  {
   "cell_type": "markdown",
   "metadata": {},
   "source": [
    "### Task 02: Read the transactions."
   ]
  },
  {
   "cell_type": "markdown",
   "metadata": {},
   "source": [
    "##### a) Create a DataFrame called transactions with the transactions.csv file. Print the count of transactions and 5 entries to have a look at the data"
   ]
  },
  {
   "cell_type": "code",
   "execution_count": 130,
   "metadata": {
    "ExecuteTime": {
     "end_time": "2024-03-14T15:15:29.056814Z",
     "start_time": "2024-03-14T15:15:29.041936Z"
    }
   },
   "outputs": [
    {
     "data": {
      "text/plain": "        id  customer  article                 date  price\n0        1       628  Whiskey  2021-01-14 23:00:02   4.03\n1        2       298     Coke  2021-12-29 03:51:24   2.14\n2        3       908  Whiskey  2021-11-06 01:40:58   3.67\n3        4       325      Gin  2021-05-24 05:51:52   4.46\n4        5       242    Tonic  2021-05-17 04:21:13   4.58\n...    ...       ...      ...                  ...    ...\n9994  9995       864    Fries  2021-03-19 22:27:50   3.31\n9995  9996       749     Coke  2021-06-11 15:43:28   2.89\n9996  9997       478    Tonic  2021-07-29 01:41:24   0.97\n9997  9998       807   Nachos  2021-06-03 23:36:52   1.89\n9998  9999       246    Pizza  2021-10-30 17:44:13   2.93\n\n[9999 rows x 5 columns]",
      "text/html": "<div>\n<style scoped>\n    .dataframe tbody tr th:only-of-type {\n        vertical-align: middle;\n    }\n\n    .dataframe tbody tr th {\n        vertical-align: top;\n    }\n\n    .dataframe thead th {\n        text-align: right;\n    }\n</style>\n<table border=\"1\" class=\"dataframe\">\n  <thead>\n    <tr style=\"text-align: right;\">\n      <th></th>\n      <th>id</th>\n      <th>customer</th>\n      <th>article</th>\n      <th>date</th>\n      <th>price</th>\n    </tr>\n  </thead>\n  <tbody>\n    <tr>\n      <th>0</th>\n      <td>1</td>\n      <td>628</td>\n      <td>Whiskey</td>\n      <td>2021-01-14 23:00:02</td>\n      <td>4.03</td>\n    </tr>\n    <tr>\n      <th>1</th>\n      <td>2</td>\n      <td>298</td>\n      <td>Coke</td>\n      <td>2021-12-29 03:51:24</td>\n      <td>2.14</td>\n    </tr>\n    <tr>\n      <th>2</th>\n      <td>3</td>\n      <td>908</td>\n      <td>Whiskey</td>\n      <td>2021-11-06 01:40:58</td>\n      <td>3.67</td>\n    </tr>\n    <tr>\n      <th>3</th>\n      <td>4</td>\n      <td>325</td>\n      <td>Gin</td>\n      <td>2021-05-24 05:51:52</td>\n      <td>4.46</td>\n    </tr>\n    <tr>\n      <th>4</th>\n      <td>5</td>\n      <td>242</td>\n      <td>Tonic</td>\n      <td>2021-05-17 04:21:13</td>\n      <td>4.58</td>\n    </tr>\n    <tr>\n      <th>...</th>\n      <td>...</td>\n      <td>...</td>\n      <td>...</td>\n      <td>...</td>\n      <td>...</td>\n    </tr>\n    <tr>\n      <th>9994</th>\n      <td>9995</td>\n      <td>864</td>\n      <td>Fries</td>\n      <td>2021-03-19 22:27:50</td>\n      <td>3.31</td>\n    </tr>\n    <tr>\n      <th>9995</th>\n      <td>9996</td>\n      <td>749</td>\n      <td>Coke</td>\n      <td>2021-06-11 15:43:28</td>\n      <td>2.89</td>\n    </tr>\n    <tr>\n      <th>9996</th>\n      <td>9997</td>\n      <td>478</td>\n      <td>Tonic</td>\n      <td>2021-07-29 01:41:24</td>\n      <td>0.97</td>\n    </tr>\n    <tr>\n      <th>9997</th>\n      <td>9998</td>\n      <td>807</td>\n      <td>Nachos</td>\n      <td>2021-06-03 23:36:52</td>\n      <td>1.89</td>\n    </tr>\n    <tr>\n      <th>9998</th>\n      <td>9999</td>\n      <td>246</td>\n      <td>Pizza</td>\n      <td>2021-10-30 17:44:13</td>\n      <td>2.93</td>\n    </tr>\n  </tbody>\n</table>\n<p>9999 rows × 5 columns</p>\n</div>"
     },
     "execution_count": 130,
     "metadata": {},
     "output_type": "execute_result"
    }
   ],
   "source": [
    "transactions = pd.read_csv('../Grundlagen/DE1_Lab04/DE1_Lab04_transactions.csv')\n",
    "transactions"
   ]
  },
  {
   "cell_type": "markdown",
   "metadata": {},
   "source": [
    "##### b) Get the count of all transactions for the article whiskey."
   ]
  },
  {
   "cell_type": "code",
   "execution_count": 131,
   "metadata": {
    "ExecuteTime": {
     "end_time": "2024-03-14T15:15:29.155846Z",
     "start_time": "2024-03-14T15:15:29.151089Z"
    }
   },
   "outputs": [
    {
     "data": {
      "text/plain": "819"
     },
     "execution_count": 131,
     "metadata": {},
     "output_type": "execute_result"
    }
   ],
   "source": [
    "transactions[transactions['article'] == 'Whiskey']['id'].count()"
   ]
  },
  {
   "cell_type": "markdown",
   "metadata": {},
   "source": [
    "##### c) Get the count of articles per each article."
   ]
  },
  {
   "cell_type": "code",
   "execution_count": 132,
   "metadata": {
    "ExecuteTime": {
     "end_time": "2024-03-14T15:15:29.192674Z",
     "start_time": "2024-03-14T15:15:29.185406Z"
    }
   },
   "outputs": [
    {
     "data": {
      "text/plain": "            id  customer  date  price\narticle                              \nBeer       846       846   846    846\nBurger     830       830   830    830\nChips      865       865   865    865\nCoke       805       805   805    805\nFries      790       790   790    790\nGin        859       859   859    859\nGuacamole  818       818   818    818\nNachos     850       850   850    850\nPizza      843       843   843    843\nPopcorn    840       840   840    840\nTonic      834       834   834    834\nWhiskey    819       819   819    819",
      "text/html": "<div>\n<style scoped>\n    .dataframe tbody tr th:only-of-type {\n        vertical-align: middle;\n    }\n\n    .dataframe tbody tr th {\n        vertical-align: top;\n    }\n\n    .dataframe thead th {\n        text-align: right;\n    }\n</style>\n<table border=\"1\" class=\"dataframe\">\n  <thead>\n    <tr style=\"text-align: right;\">\n      <th></th>\n      <th>id</th>\n      <th>customer</th>\n      <th>date</th>\n      <th>price</th>\n    </tr>\n    <tr>\n      <th>article</th>\n      <th></th>\n      <th></th>\n      <th></th>\n      <th></th>\n    </tr>\n  </thead>\n  <tbody>\n    <tr>\n      <th>Beer</th>\n      <td>846</td>\n      <td>846</td>\n      <td>846</td>\n      <td>846</td>\n    </tr>\n    <tr>\n      <th>Burger</th>\n      <td>830</td>\n      <td>830</td>\n      <td>830</td>\n      <td>830</td>\n    </tr>\n    <tr>\n      <th>Chips</th>\n      <td>865</td>\n      <td>865</td>\n      <td>865</td>\n      <td>865</td>\n    </tr>\n    <tr>\n      <th>Coke</th>\n      <td>805</td>\n      <td>805</td>\n      <td>805</td>\n      <td>805</td>\n    </tr>\n    <tr>\n      <th>Fries</th>\n      <td>790</td>\n      <td>790</td>\n      <td>790</td>\n      <td>790</td>\n    </tr>\n    <tr>\n      <th>Gin</th>\n      <td>859</td>\n      <td>859</td>\n      <td>859</td>\n      <td>859</td>\n    </tr>\n    <tr>\n      <th>Guacamole</th>\n      <td>818</td>\n      <td>818</td>\n      <td>818</td>\n      <td>818</td>\n    </tr>\n    <tr>\n      <th>Nachos</th>\n      <td>850</td>\n      <td>850</td>\n      <td>850</td>\n      <td>850</td>\n    </tr>\n    <tr>\n      <th>Pizza</th>\n      <td>843</td>\n      <td>843</td>\n      <td>843</td>\n      <td>843</td>\n    </tr>\n    <tr>\n      <th>Popcorn</th>\n      <td>840</td>\n      <td>840</td>\n      <td>840</td>\n      <td>840</td>\n    </tr>\n    <tr>\n      <th>Tonic</th>\n      <td>834</td>\n      <td>834</td>\n      <td>834</td>\n      <td>834</td>\n    </tr>\n    <tr>\n      <th>Whiskey</th>\n      <td>819</td>\n      <td>819</td>\n      <td>819</td>\n      <td>819</td>\n    </tr>\n  </tbody>\n</table>\n</div>"
     },
     "execution_count": 132,
     "metadata": {},
     "output_type": "execute_result"
    }
   ],
   "source": [
    "transactions.groupby('article').count()"
   ]
  },
  {
   "cell_type": "markdown",
   "metadata": {},
   "source": [
    "### Task 03: Doing Analytics."
   ]
  },
  {
   "cell_type": "markdown",
   "metadata": {},
   "source": [
    "##### a) Calculate the sum of all sold articles to the customer with the name 'Beverly Heifner'."
   ]
  },
  {
   "cell_type": "code",
   "execution_count": 139,
   "metadata": {
    "ExecuteTime": {
     "end_time": "2024-03-14T15:20:22.561158Z",
     "start_time": "2024-03-14T15:20:22.543705Z"
    }
   },
   "outputs": [
    {
     "data": {
      "text/plain": "        id  customer_id  article                 date  price             name  \\\n0        1          628  Whiskey  2021-01-14 23:00:02   4.03  Carlos Balderas   \n1     2768          628   Burger  2021-10-20 06:57:47   2.88  Carlos Balderas   \n2     4960          628    Tonic  2021-06-28 17:53:10   4.64  Carlos Balderas   \n3     7778          628    Chips  2021-11-26 08:38:47   4.18  Carlos Balderas   \n4     8818          628    Pizza  2021-03-10 07:34:58   0.59  Carlos Balderas   \n...    ...          ...      ...                  ...    ...              ...   \n9994  7417          789    Pizza  2021-11-25 12:46:52   3.76         Lori Moy   \n9995  7640          789     Beer  2021-11-20 10:34:03   4.58         Lori Moy   \n9996  9629          789   Burger  2021-08-19 07:02:36   3.31         Lori Moy   \n9997  8337          728    Tonic  2021-03-16 21:48:18   1.05    Clinton Scott   \n9998  9649          728    Pizza  2021-10-09 15:10:17   1.95    Clinton Scott   \n\n      status                bdate         city canton  \n0     silver  1995-03-27 10:44:04      Zuerich     ZH  \n1     silver  1995-03-27 10:44:04      Zuerich     ZH  \n2     silver  1995-03-27 10:44:04      Zuerich     ZH  \n3     silver  1995-03-27 10:44:04      Zuerich     ZH  \n4     silver  1995-03-27 10:44:04      Zuerich     ZH  \n...      ...                  ...          ...    ...  \n9994  silver  1994-10-04 06:38:53      Zuerich     ZH  \n9995  silver  1994-10-04 06:38:53      Zuerich     ZH  \n9996  silver  1994-10-04 06:38:53      Zuerich     ZH  \n9997  bronze  1965-10-11 05:31:20  Kreuzlingen     TG  \n9998  bronze  1965-10-11 05:31:20  Kreuzlingen     TG  \n\n[9999 rows x 10 columns]",
      "text/html": "<div>\n<style scoped>\n    .dataframe tbody tr th:only-of-type {\n        vertical-align: middle;\n    }\n\n    .dataframe tbody tr th {\n        vertical-align: top;\n    }\n\n    .dataframe thead th {\n        text-align: right;\n    }\n</style>\n<table border=\"1\" class=\"dataframe\">\n  <thead>\n    <tr style=\"text-align: right;\">\n      <th></th>\n      <th>id</th>\n      <th>customer_id</th>\n      <th>article</th>\n      <th>date</th>\n      <th>price</th>\n      <th>name</th>\n      <th>status</th>\n      <th>bdate</th>\n      <th>city</th>\n      <th>canton</th>\n    </tr>\n  </thead>\n  <tbody>\n    <tr>\n      <th>0</th>\n      <td>1</td>\n      <td>628</td>\n      <td>Whiskey</td>\n      <td>2021-01-14 23:00:02</td>\n      <td>4.03</td>\n      <td>Carlos Balderas</td>\n      <td>silver</td>\n      <td>1995-03-27 10:44:04</td>\n      <td>Zuerich</td>\n      <td>ZH</td>\n    </tr>\n    <tr>\n      <th>1</th>\n      <td>2768</td>\n      <td>628</td>\n      <td>Burger</td>\n      <td>2021-10-20 06:57:47</td>\n      <td>2.88</td>\n      <td>Carlos Balderas</td>\n      <td>silver</td>\n      <td>1995-03-27 10:44:04</td>\n      <td>Zuerich</td>\n      <td>ZH</td>\n    </tr>\n    <tr>\n      <th>2</th>\n      <td>4960</td>\n      <td>628</td>\n      <td>Tonic</td>\n      <td>2021-06-28 17:53:10</td>\n      <td>4.64</td>\n      <td>Carlos Balderas</td>\n      <td>silver</td>\n      <td>1995-03-27 10:44:04</td>\n      <td>Zuerich</td>\n      <td>ZH</td>\n    </tr>\n    <tr>\n      <th>3</th>\n      <td>7778</td>\n      <td>628</td>\n      <td>Chips</td>\n      <td>2021-11-26 08:38:47</td>\n      <td>4.18</td>\n      <td>Carlos Balderas</td>\n      <td>silver</td>\n      <td>1995-03-27 10:44:04</td>\n      <td>Zuerich</td>\n      <td>ZH</td>\n    </tr>\n    <tr>\n      <th>4</th>\n      <td>8818</td>\n      <td>628</td>\n      <td>Pizza</td>\n      <td>2021-03-10 07:34:58</td>\n      <td>0.59</td>\n      <td>Carlos Balderas</td>\n      <td>silver</td>\n      <td>1995-03-27 10:44:04</td>\n      <td>Zuerich</td>\n      <td>ZH</td>\n    </tr>\n    <tr>\n      <th>...</th>\n      <td>...</td>\n      <td>...</td>\n      <td>...</td>\n      <td>...</td>\n      <td>...</td>\n      <td>...</td>\n      <td>...</td>\n      <td>...</td>\n      <td>...</td>\n      <td>...</td>\n    </tr>\n    <tr>\n      <th>9994</th>\n      <td>7417</td>\n      <td>789</td>\n      <td>Pizza</td>\n      <td>2021-11-25 12:46:52</td>\n      <td>3.76</td>\n      <td>Lori Moy</td>\n      <td>silver</td>\n      <td>1994-10-04 06:38:53</td>\n      <td>Zuerich</td>\n      <td>ZH</td>\n    </tr>\n    <tr>\n      <th>9995</th>\n      <td>7640</td>\n      <td>789</td>\n      <td>Beer</td>\n      <td>2021-11-20 10:34:03</td>\n      <td>4.58</td>\n      <td>Lori Moy</td>\n      <td>silver</td>\n      <td>1994-10-04 06:38:53</td>\n      <td>Zuerich</td>\n      <td>ZH</td>\n    </tr>\n    <tr>\n      <th>9996</th>\n      <td>9629</td>\n      <td>789</td>\n      <td>Burger</td>\n      <td>2021-08-19 07:02:36</td>\n      <td>3.31</td>\n      <td>Lori Moy</td>\n      <td>silver</td>\n      <td>1994-10-04 06:38:53</td>\n      <td>Zuerich</td>\n      <td>ZH</td>\n    </tr>\n    <tr>\n      <th>9997</th>\n      <td>8337</td>\n      <td>728</td>\n      <td>Tonic</td>\n      <td>2021-03-16 21:48:18</td>\n      <td>1.05</td>\n      <td>Clinton Scott</td>\n      <td>bronze</td>\n      <td>1965-10-11 05:31:20</td>\n      <td>Kreuzlingen</td>\n      <td>TG</td>\n    </tr>\n    <tr>\n      <th>9998</th>\n      <td>9649</td>\n      <td>728</td>\n      <td>Pizza</td>\n      <td>2021-10-09 15:10:17</td>\n      <td>1.95</td>\n      <td>Clinton Scott</td>\n      <td>bronze</td>\n      <td>1965-10-11 05:31:20</td>\n      <td>Kreuzlingen</td>\n      <td>TG</td>\n    </tr>\n  </tbody>\n</table>\n<p>9999 rows × 10 columns</p>\n</div>"
     },
     "execution_count": 139,
     "metadata": {},
     "output_type": "execute_result"
    }
   ],
   "source": [
    "cust.rename(columns={'id': 'customer_id'}, inplace=True)\n",
    "transactions.rename(columns={'customer': 'customer_id'}, inplace=True)\n",
    "exp_transactions = pd.merge(transactions, cust, on='customer_id')\n",
    "exp_transactions"
   ]
  },
  {
   "cell_type": "code",
   "outputs": [
    {
     "data": {
      "text/plain": "52.94"
     },
     "execution_count": 147,
     "metadata": {},
     "output_type": "execute_result"
    }
   ],
   "source": [
    "exp_transactions['price'][exp_transactions['name'] == 'Beverly Heifner'].sum()"
   ],
   "metadata": {
    "collapsed": false,
    "ExecuteTime": {
     "end_time": "2024-03-14T15:27:05.177659Z",
     "start_time": "2024-03-14T15:27:05.170701Z"
    }
   },
   "execution_count": 147
  },
  {
   "cell_type": "markdown",
   "metadata": {},
   "source": [
    "##### b) Calculate the sum of all sold articles to customers from the city Uster."
   ]
  },
  {
   "cell_type": "code",
   "execution_count": 148,
   "metadata": {
    "ExecuteTime": {
     "end_time": "2024-03-14T15:27:36.477841Z",
     "start_time": "2024-03-14T15:27:36.471628Z"
    }
   },
   "outputs": [
    {
     "data": {
      "text/plain": "1931.04"
     },
     "execution_count": 148,
     "metadata": {},
     "output_type": "execute_result"
    }
   ],
   "source": [
    "exp_transactions['price'][exp_transactions['city'] == 'Uster'].sum()"
   ]
  },
  {
   "cell_type": "markdown",
   "metadata": {},
   "source": [
    "##### c) Calculate the average price of all sold articles to customers from the canton Thurgau."
   ]
  },
  {
   "cell_type": "code",
   "execution_count": 149,
   "metadata": {
    "ExecuteTime": {
     "end_time": "2024-03-14T15:29:23.219287Z",
     "start_time": "2024-03-14T15:29:23.212378Z"
    }
   },
   "outputs": [
    {
     "data": {
      "text/plain": "2.9831782657238555"
     },
     "execution_count": 149,
     "metadata": {},
     "output_type": "execute_result"
    }
   ],
   "source": [
    "exp_transactions['price'][exp_transactions['canton'] == 'TG'].mean()"
   ]
  },
  {
   "cell_type": "markdown",
   "metadata": {},
   "source": [
    "##### d) Calculate the sum of all sold articles in the month March."
   ]
  },
  {
   "cell_type": "code",
   "execution_count": 157,
   "metadata": {
    "ExecuteTime": {
     "end_time": "2024-03-14T15:39:51.120654Z",
     "start_time": "2024-03-14T15:39:51.110201Z"
    }
   },
   "outputs": [
    {
     "data": {
      "text/plain": "2407.7400000000002"
     },
     "execution_count": 157,
     "metadata": {},
     "output_type": "execute_result"
    }
   ],
   "source": [
    "exp_transactions[exp_transactions['date'].str.slice(5, 7) == '03']['price'].sum()"
   ]
  },
  {
   "cell_type": "markdown",
   "metadata": {},
   "source": [
    "##### e) Calculate the sum of all sold articles in the month October from customers with the status gold."
   ]
  },
  {
   "cell_type": "code",
   "execution_count": 202,
   "metadata": {
    "ExecuteTime": {
     "end_time": "2024-03-14T16:32:05.451272Z",
     "start_time": "2024-03-14T16:32:05.441324Z"
    }
   },
   "outputs": [
    {
     "data": {
      "text/plain": "759.4300000000001"
     },
     "execution_count": 202,
     "metadata": {},
     "output_type": "execute_result"
    }
   ],
   "source": [
    "exp_transactions[(exp_transactions.date.str.slice(5, 7) == '03') & (exp_transactions.status == 'gold')]['price'].sum()"
   ]
  },
  {
   "cell_type": "markdown",
   "metadata": {},
   "source": [
    "##### f) Calculate the sum of all sold articles between the hours 21 to 23."
   ]
  },
  {
   "cell_type": "code",
   "outputs": [
    {
     "data": {
      "text/plain": "        id  customer_id  article                 date  price             name  \\\n0        1          628  Whiskey  2021-01-14 23:00:02   4.03  Carlos Balderas   \n1     2768          628   Burger  2021-10-20 06:57:47   2.88  Carlos Balderas   \n2     4960          628    Tonic  2021-06-28 17:53:10   4.64  Carlos Balderas   \n3     7778          628    Chips  2021-11-26 08:38:47   4.18  Carlos Balderas   \n4     8818          628    Pizza  2021-03-10 07:34:58   0.59  Carlos Balderas   \n...    ...          ...      ...                  ...    ...              ...   \n9994  7417          789    Pizza  2021-11-25 12:46:52   3.76         Lori Moy   \n9995  7640          789     Beer  2021-11-20 10:34:03   4.58         Lori Moy   \n9996  9629          789   Burger  2021-08-19 07:02:36   3.31         Lori Moy   \n9997  8337          728    Tonic  2021-03-16 21:48:18   1.05    Clinton Scott   \n9998  9649          728    Pizza  2021-10-09 15:10:17   1.95    Clinton Scott   \n\n      status                bdate         city canton  \n0     silver  1995-03-27 10:44:04      Zuerich     ZH  \n1     silver  1995-03-27 10:44:04      Zuerich     ZH  \n2     silver  1995-03-27 10:44:04      Zuerich     ZH  \n3     silver  1995-03-27 10:44:04      Zuerich     ZH  \n4     silver  1995-03-27 10:44:04      Zuerich     ZH  \n...      ...                  ...          ...    ...  \n9994  silver  1994-10-04 06:38:53      Zuerich     ZH  \n9995  silver  1994-10-04 06:38:53      Zuerich     ZH  \n9996  silver  1994-10-04 06:38:53      Zuerich     ZH  \n9997  bronze  1965-10-11 05:31:20  Kreuzlingen     TG  \n9998  bronze  1965-10-11 05:31:20  Kreuzlingen     TG  \n\n[9999 rows x 10 columns]",
      "text/html": "<div>\n<style scoped>\n    .dataframe tbody tr th:only-of-type {\n        vertical-align: middle;\n    }\n\n    .dataframe tbody tr th {\n        vertical-align: top;\n    }\n\n    .dataframe thead th {\n        text-align: right;\n    }\n</style>\n<table border=\"1\" class=\"dataframe\">\n  <thead>\n    <tr style=\"text-align: right;\">\n      <th></th>\n      <th>id</th>\n      <th>customer_id</th>\n      <th>article</th>\n      <th>date</th>\n      <th>price</th>\n      <th>name</th>\n      <th>status</th>\n      <th>bdate</th>\n      <th>city</th>\n      <th>canton</th>\n    </tr>\n  </thead>\n  <tbody>\n    <tr>\n      <th>0</th>\n      <td>1</td>\n      <td>628</td>\n      <td>Whiskey</td>\n      <td>2021-01-14 23:00:02</td>\n      <td>4.03</td>\n      <td>Carlos Balderas</td>\n      <td>silver</td>\n      <td>1995-03-27 10:44:04</td>\n      <td>Zuerich</td>\n      <td>ZH</td>\n    </tr>\n    <tr>\n      <th>1</th>\n      <td>2768</td>\n      <td>628</td>\n      <td>Burger</td>\n      <td>2021-10-20 06:57:47</td>\n      <td>2.88</td>\n      <td>Carlos Balderas</td>\n      <td>silver</td>\n      <td>1995-03-27 10:44:04</td>\n      <td>Zuerich</td>\n      <td>ZH</td>\n    </tr>\n    <tr>\n      <th>2</th>\n      <td>4960</td>\n      <td>628</td>\n      <td>Tonic</td>\n      <td>2021-06-28 17:53:10</td>\n      <td>4.64</td>\n      <td>Carlos Balderas</td>\n      <td>silver</td>\n      <td>1995-03-27 10:44:04</td>\n      <td>Zuerich</td>\n      <td>ZH</td>\n    </tr>\n    <tr>\n      <th>3</th>\n      <td>7778</td>\n      <td>628</td>\n      <td>Chips</td>\n      <td>2021-11-26 08:38:47</td>\n      <td>4.18</td>\n      <td>Carlos Balderas</td>\n      <td>silver</td>\n      <td>1995-03-27 10:44:04</td>\n      <td>Zuerich</td>\n      <td>ZH</td>\n    </tr>\n    <tr>\n      <th>4</th>\n      <td>8818</td>\n      <td>628</td>\n      <td>Pizza</td>\n      <td>2021-03-10 07:34:58</td>\n      <td>0.59</td>\n      <td>Carlos Balderas</td>\n      <td>silver</td>\n      <td>1995-03-27 10:44:04</td>\n      <td>Zuerich</td>\n      <td>ZH</td>\n    </tr>\n    <tr>\n      <th>...</th>\n      <td>...</td>\n      <td>...</td>\n      <td>...</td>\n      <td>...</td>\n      <td>...</td>\n      <td>...</td>\n      <td>...</td>\n      <td>...</td>\n      <td>...</td>\n      <td>...</td>\n    </tr>\n    <tr>\n      <th>9994</th>\n      <td>7417</td>\n      <td>789</td>\n      <td>Pizza</td>\n      <td>2021-11-25 12:46:52</td>\n      <td>3.76</td>\n      <td>Lori Moy</td>\n      <td>silver</td>\n      <td>1994-10-04 06:38:53</td>\n      <td>Zuerich</td>\n      <td>ZH</td>\n    </tr>\n    <tr>\n      <th>9995</th>\n      <td>7640</td>\n      <td>789</td>\n      <td>Beer</td>\n      <td>2021-11-20 10:34:03</td>\n      <td>4.58</td>\n      <td>Lori Moy</td>\n      <td>silver</td>\n      <td>1994-10-04 06:38:53</td>\n      <td>Zuerich</td>\n      <td>ZH</td>\n    </tr>\n    <tr>\n      <th>9996</th>\n      <td>9629</td>\n      <td>789</td>\n      <td>Burger</td>\n      <td>2021-08-19 07:02:36</td>\n      <td>3.31</td>\n      <td>Lori Moy</td>\n      <td>silver</td>\n      <td>1994-10-04 06:38:53</td>\n      <td>Zuerich</td>\n      <td>ZH</td>\n    </tr>\n    <tr>\n      <th>9997</th>\n      <td>8337</td>\n      <td>728</td>\n      <td>Tonic</td>\n      <td>2021-03-16 21:48:18</td>\n      <td>1.05</td>\n      <td>Clinton Scott</td>\n      <td>bronze</td>\n      <td>1965-10-11 05:31:20</td>\n      <td>Kreuzlingen</td>\n      <td>TG</td>\n    </tr>\n    <tr>\n      <th>9998</th>\n      <td>9649</td>\n      <td>728</td>\n      <td>Pizza</td>\n      <td>2021-10-09 15:10:17</td>\n      <td>1.95</td>\n      <td>Clinton Scott</td>\n      <td>bronze</td>\n      <td>1965-10-11 05:31:20</td>\n      <td>Kreuzlingen</td>\n      <td>TG</td>\n    </tr>\n  </tbody>\n</table>\n<p>9999 rows × 10 columns</p>\n</div>"
     },
     "execution_count": 211,
     "metadata": {},
     "output_type": "execute_result"
    }
   ],
   "source": [
    "restrans = transactions.query(\"date.str.slice(11, 13) == '21' | date.str.slice(11, 13) == '22'\")\n",
    "restrans['price'].sum()\n",
    "exp_transactions"
   ],
   "metadata": {
    "collapsed": false,
    "ExecuteTime": {
     "end_time": "2024-03-14T16:37:30.318426Z",
     "start_time": "2024-03-14T16:37:30.297371Z"
    }
   },
   "execution_count": 211
  },
  {
   "cell_type": "markdown",
   "metadata": {},
   "source": [
    "##### g) Calculate the average price of all sold whiskeys to customers born after or in 1980."
   ]
  },
  {
   "cell_type": "code",
   "execution_count": 213,
   "metadata": {
    "ExecuteTime": {
     "end_time": "2024-03-14T16:37:48.012394Z",
     "start_time": "2024-03-14T16:37:48.000382Z"
    }
   },
   "outputs": [
    {
     "data": {
      "text/plain": "3.053409669211196"
     },
     "execution_count": 213,
     "metadata": {},
     "output_type": "execute_result"
    }
   ],
   "source": [
    "transactions_whiskey = transactions.query(\"article == 'Whiskey'\")\n",
    "customers_1980 = exp_transactions[exp_transactions['bdate'].str.slice(0,4).astype(int) >= 1980]['id'].to_list()\n",
    "\n",
    "result = transactions_whiskey[transactions_whiskey['customer_id'].isin(customers_1980)]\n",
    "result['price'].mean()"
   ]
  },
  {
   "cell_type": "markdown",
   "metadata": {},
   "source": [
    "##### h) Which month has the highest count of sold whiskeys?"
   ]
  },
  {
   "cell_type": "code",
   "execution_count": 214,
   "metadata": {
    "ExecuteTime": {
     "end_time": "2024-03-14T16:38:08.835244Z",
     "start_time": "2024-03-14T16:38:08.827974Z"
    }
   },
   "outputs": [
    {
     "data": {
      "text/plain": "month\n05    79\n04    76\n01    73\n08    73\n12    70\n11    67\n06    66\n07    66\n10    65\n03    64\n09    64\n02    56\nName: price, dtype: int64"
     },
     "execution_count": 214,
     "metadata": {},
     "output_type": "execute_result"
    }
   ],
   "source": [
    "df_new = transactions_whiskey.assign(month = transactions_whiskey.date.str.slice(5,7).to_list())\n",
    "df_new.groupby(['month']).count().price.sort_values(ascending=False)"
   ]
  },
  {
   "cell_type": "markdown",
   "metadata": {},
   "source": [
    "##### i) Which month has the highest amount of sold gins?"
   ]
  },
  {
   "cell_type": "code",
   "execution_count": 220,
   "metadata": {
    "ExecuteTime": {
     "end_time": "2024-03-14T16:39:24.804890Z",
     "start_time": "2024-03-14T16:39:24.794139Z"
    }
   },
   "outputs": [
    {
     "name": "stderr",
     "output_type": "stream",
     "text": [
      "C:\\Users\\jonas\\AppData\\Local\\Temp\\ipykernel_540\\616461915.py:3: FutureWarning: The default value of numeric_only in DataFrameGroupBy.sum is deprecated. In a future version, numeric_only will default to False. Either specify numeric_only or select only columns which should be valid for the function.\n",
      "  df_month.groupby(['month']).sum().price.sort_values(ascending=False)\n"
     ]
    },
    {
     "data": {
      "text/plain": "month\n12    247.50\n09    238.77\n03    229.93\n07    228.42\n01    216.88\n10    216.70\n11    210.44\n05    208.55\n06    205.55\n02    189.92\n04    185.28\n08    178.64\nName: price, dtype: float64"
     },
     "execution_count": 220,
     "metadata": {},
     "output_type": "execute_result"
    }
   ],
   "source": [
    "df_gin = exp_transactions.query('article == \"Gin\"')\n",
    "df_month = df_gin.assign(month = df_gin.date.str.slice(5,7).to_list())\n",
    "df_month.groupby(['month']).sum().price.sort_values(ascending=False)"
   ]
  },
  {
   "cell_type": "markdown",
   "metadata": {},
   "source": [
    "##### j) Which is the customer with the highest revenue?"
   ]
  },
  {
   "cell_type": "code",
   "execution_count": 195,
   "metadata": {
    "ExecuteTime": {
     "end_time": "2024-03-14T16:22:31.400075Z",
     "start_time": "2024-03-14T16:22:31.393929Z"
    }
   },
   "outputs": [
    {
     "data": {
      "text/plain": "customer_id\n958    68.48\nName: price, dtype: float64"
     },
     "execution_count": 195,
     "metadata": {},
     "output_type": "execute_result"
    }
   ],
   "source": [
    "exp_transactions.groupby('customer_id')['price'].sum().sort_values(ascending=False).head(1)"
   ]
  },
  {
   "cell_type": "markdown",
   "metadata": {},
   "source": [
    "##### k) Which canton has the highest revenue?"
   ]
  },
  {
   "cell_type": "code",
   "execution_count": 196,
   "metadata": {
    "ExecuteTime": {
     "end_time": "2024-03-14T16:22:40.040990Z",
     "start_time": "2024-03-14T16:22:40.034519Z"
    }
   },
   "outputs": [
    {
     "data": {
      "text/plain": "canton\nZH    14740.43\nName: price, dtype: float64"
     },
     "execution_count": 196,
     "metadata": {},
     "output_type": "execute_result"
    }
   ],
   "source": [
    "exp_transactions.groupby('canton')['price'].sum().sort_values(ascending=False).head(1)\n"
   ]
  }
 ],
 "metadata": {
  "kernelspec": {
   "display_name": "Python 3",
   "language": "python",
   "name": "python3"
  },
  "language_info": {
   "codemirror_mode": {
    "name": "ipython",
    "version": 3
   },
   "file_extension": ".py",
   "mimetype": "text/x-python",
   "name": "python",
   "nbconvert_exporter": "python",
   "pygments_lexer": "ipython3",
   "version": "3.8.6"
  }
 },
 "nbformat": 4,
 "nbformat_minor": 4
}
