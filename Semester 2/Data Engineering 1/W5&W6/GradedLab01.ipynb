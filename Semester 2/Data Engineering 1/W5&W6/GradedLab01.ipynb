{
 "cells": [
  {
   "cell_type": "markdown",
   "metadata": {},
   "source": [
    "# Data Engineering 1: Graded Lab 01\n",
    "---------------"
   ]
  },
  {
   "cell_type": "markdown",
   "metadata": {},
   "source": [
    "#### Grading\n",
    "For this graded lab you can get a total of 10 points. These 10 points count 10% of your final grade for the course.\n",
    "\n",
    "#### Start\n",
    "Start of the Graded Lab 01 is **Thursday, March 21st at 23:55**.\n",
    "\n",
    "#### Deadline\n",
    "Deadline for the submission of the Graded Lab 01 is **Thursday, April 11th at 23:59**.\n",
    "\n",
    "#### Note\n",
    "Check each result carefully. Use data filter, cleaning, and transformation methods wherever needed. The data can sometimes be really messy and have hidden issues.\n",
    "\n",
    "#### Submission\n",
    "You are allowed to submit the solution in groups of **two or three** students.\n",
    "Submit your GradedLab01.ipynb file renamed to FirstnameStudent01LastnameStudent01_FirstnameStudent02LastnameStudent02_FirstnameStudent03LastnameStudent03.ipynb in moodle.   \n",
    "Please submit a runnable python jupyter notebook file.\n",
    "All other submissions will be rejected and graded with 0 points."
   ]
  },
  {
   "cell_type": "markdown",
   "metadata": {},
   "source": [
    "##### Task 01: Structured Data [4 points].    \n",
    "The imdb.csv file contains a dataset extracted from IMDB with several attributes. For example, the title, plot, and the language of the movies. Read the imdb.csv file in a pandas dataframe and try to answer the following questions."
   ]
  },
  {
   "cell_type": "markdown",
   "metadata": {},
   "source": [
    "##### __(a)  What is the min, max, and the average value of the attribute 'rating' for all movies? [0.5 points].__ "
   ]
  },
  {
   "cell_type": "code",
   "execution_count": 1,
   "metadata": {
    "ExecuteTime": {
     "end_time": "2024-04-10T19:21:25.242263Z",
     "start_time": "2024-04-10T19:21:24.737676Z"
    }
   },
   "outputs": [
    {
     "name": "stdout",
     "output_type": "stream",
     "text": [
      "Lowest rating: 8.1\n",
      "Highest rating: 9.3\n",
      "Average rating: 8.35\n"
     ]
    }
   ],
   "source": [
    "import pandas as pd\n",
    "\n",
    "imdb = pd.read_csv('imdb.csv')\n",
    "\n",
    "print(f\"Lowest rating: {imdb['rating'][imdb['kind'] == 'movie'].min()}\")\n",
    "print(f\"Highest rating: {imdb['rating'][imdb['kind'] == 'movie'].max()}\")\n",
    "print(f\"Average rating: {imdb['rating'][imdb['kind'] == 'movie'].mean():.2f}\")"
   ]
  },
  {
   "cell_type": "markdown",
   "metadata": {},
   "source": [
    "##### __(b) What is the min, max, and the average value of the attribute 'cumulative worldwide gross' for all movies? [0.5 points].__ "
   ]
  },
  {
   "cell_type": "code",
   "execution_count": 2,
   "metadata": {
    "ExecuteTime": {
     "end_time": "2024-04-10T19:21:25.249374Z",
     "start_time": "2024-04-10T19:21:25.243267Z"
    }
   },
   "outputs": [],
   "source": [
    "# Data cleansing\n",
    "imdb['cumulative worldwide gross'] = imdb['cumulative worldwide gross'].str.replace(r'[\\$,]', '', regex=True)\n",
    "imdb['cumulative worldwide gross'] = imdb['cumulative worldwide gross'].str.split().str[0]\n",
    "imdb['cumulative worldwide gross'] = imdb['cumulative worldwide gross'].str.replace('000000000', '0', regex=True)\n",
    "imdb['cumulative worldwide gross'] = pd.to_numeric(imdb['cumulative worldwide gross'], errors='coerce')"
   ]
  },
  {
   "cell_type": "code",
   "outputs": [
    {
     "name": "stdout",
     "output_type": "stream",
     "text": [
      "Lowest cumulative worldwide gross: 6540000\n",
      "Highest cumulative worldwide gross: 2797800564\n",
      "Average cumulative worldwide gross: 390489624.68\n"
     ]
    }
   ],
   "source": [
    "\n",
    "# Queries\n",
    "print(f\"Lowest cumulative worldwide gross: {imdb['cumulative worldwide gross'][imdb['kind'] == 'movie'].min()}\")\n",
    "print(f\"Highest cumulative worldwide gross: {imdb['cumulative worldwide gross'][imdb['kind'] == 'movie'].max()}\")\n",
    "print(f\"Average cumulative worldwide gross: {imdb['cumulative worldwide gross'][imdb['kind'] == 'movie'].mean():.2f}\")"
   ],
   "metadata": {
    "collapsed": false,
    "ExecuteTime": {
     "end_time": "2024-04-10T19:21:25.258196Z",
     "start_time": "2024-04-10T19:21:25.250379Z"
    }
   },
   "execution_count": 3
  },
  {
   "cell_type": "markdown",
   "metadata": {},
   "source": [
    "##### __(c) What is the min, max, and the average value of the attribute 'cumulative worldwide gross' grouped by genre of the movies? [1 point].__ "
   ]
  },
  {
   "cell_type": "code",
   "execution_count": 4,
   "metadata": {
    "ExecuteTime": {
     "end_time": "2024-04-10T19:21:25.266221Z",
     "start_time": "2024-04-10T19:21:25.259212Z"
    }
   },
   "outputs": [],
   "source": [
    "# Convert values of this column to lists\n",
    "imdb['genres'] = imdb['genres'].apply(eval)"
   ]
  },
  {
   "cell_type": "code",
   "outputs": [
    {
     "name": "stderr",
     "output_type": "stream",
     "text": [
      "C:\\Users\\jonas\\AppData\\Local\\Temp\\ipykernel_22124\\2181792769.py:19: FutureWarning: The behavior of DataFrame concatenation with empty or all-NA entries is deprecated. In a future version, this will no longer exclude empty or all-NA columns when determining the result dtypes. To retain the old behavior, exclude the relevant entries before the concat operation.\n",
      "  df_worldwide = pd.concat([df_worldwide, new_row], ignore_index=True, axis=0)\n"
     ]
    },
    {
     "data": {
      "text/plain": "        genre        min         max          mean\n0      Action   24215385  2797800564  6.331150e+08\n1   Adventure   56255142  2797800564  6.941635e+08\n2   Animation  373554033  1068879522  6.597255e+08\n3   Biography   56255142   392000694  2.393391e+08\n4      Comedy   46189568  1068879522  5.031645e+08\n5       Crime    6540000  1084939099  2.846189e+08\n6       Drama    7390108  2797800564  3.398912e+08\n7      Family  373554033  1068879522  6.597255e+08\n8     Fantasy  165800000  1068879522  5.482189e+08\n9     History  187733202   400176459  2.548299e+08\n10     Horror    7821228   441306145  2.245637e+08\n11      Music   48982041   807082196  3.929283e+08\n12    Musical  424967620   968483777  6.325005e+08\n13    Mystery    7821228   807082196  2.488491e+08\n14    Romance   15992615   677945399  2.931044e+08\n15     Sci-Fi    7821228  2797800564  6.745759e+08\n16      Sport   24215385   225000000  1.553263e+08\n17   Thriller    6540000  1074251311  3.360929e+08\n18        War  210409945   481840909  3.641424e+08\n19    Western  159157447   425368238  3.362419e+08",
      "text/html": "<div>\n<style scoped>\n    .dataframe tbody tr th:only-of-type {\n        vertical-align: middle;\n    }\n\n    .dataframe tbody tr th {\n        vertical-align: top;\n    }\n\n    .dataframe thead th {\n        text-align: right;\n    }\n</style>\n<table border=\"1\" class=\"dataframe\">\n  <thead>\n    <tr style=\"text-align: right;\">\n      <th></th>\n      <th>genre</th>\n      <th>min</th>\n      <th>max</th>\n      <th>mean</th>\n    </tr>\n  </thead>\n  <tbody>\n    <tr>\n      <th>0</th>\n      <td>Action</td>\n      <td>24215385</td>\n      <td>2797800564</td>\n      <td>6.331150e+08</td>\n    </tr>\n    <tr>\n      <th>1</th>\n      <td>Adventure</td>\n      <td>56255142</td>\n      <td>2797800564</td>\n      <td>6.941635e+08</td>\n    </tr>\n    <tr>\n      <th>2</th>\n      <td>Animation</td>\n      <td>373554033</td>\n      <td>1068879522</td>\n      <td>6.597255e+08</td>\n    </tr>\n    <tr>\n      <th>3</th>\n      <td>Biography</td>\n      <td>56255142</td>\n      <td>392000694</td>\n      <td>2.393391e+08</td>\n    </tr>\n    <tr>\n      <th>4</th>\n      <td>Comedy</td>\n      <td>46189568</td>\n      <td>1068879522</td>\n      <td>5.031645e+08</td>\n    </tr>\n    <tr>\n      <th>5</th>\n      <td>Crime</td>\n      <td>6540000</td>\n      <td>1084939099</td>\n      <td>2.846189e+08</td>\n    </tr>\n    <tr>\n      <th>6</th>\n      <td>Drama</td>\n      <td>7390108</td>\n      <td>2797800564</td>\n      <td>3.398912e+08</td>\n    </tr>\n    <tr>\n      <th>7</th>\n      <td>Family</td>\n      <td>373554033</td>\n      <td>1068879522</td>\n      <td>6.597255e+08</td>\n    </tr>\n    <tr>\n      <th>8</th>\n      <td>Fantasy</td>\n      <td>165800000</td>\n      <td>1068879522</td>\n      <td>5.482189e+08</td>\n    </tr>\n    <tr>\n      <th>9</th>\n      <td>History</td>\n      <td>187733202</td>\n      <td>400176459</td>\n      <td>2.548299e+08</td>\n    </tr>\n    <tr>\n      <th>10</th>\n      <td>Horror</td>\n      <td>7821228</td>\n      <td>441306145</td>\n      <td>2.245637e+08</td>\n    </tr>\n    <tr>\n      <th>11</th>\n      <td>Music</td>\n      <td>48982041</td>\n      <td>807082196</td>\n      <td>3.929283e+08</td>\n    </tr>\n    <tr>\n      <th>12</th>\n      <td>Musical</td>\n      <td>424967620</td>\n      <td>968483777</td>\n      <td>6.325005e+08</td>\n    </tr>\n    <tr>\n      <th>13</th>\n      <td>Mystery</td>\n      <td>7821228</td>\n      <td>807082196</td>\n      <td>2.488491e+08</td>\n    </tr>\n    <tr>\n      <th>14</th>\n      <td>Romance</td>\n      <td>15992615</td>\n      <td>677945399</td>\n      <td>2.931044e+08</td>\n    </tr>\n    <tr>\n      <th>15</th>\n      <td>Sci-Fi</td>\n      <td>7821228</td>\n      <td>2797800564</td>\n      <td>6.745759e+08</td>\n    </tr>\n    <tr>\n      <th>16</th>\n      <td>Sport</td>\n      <td>24215385</td>\n      <td>225000000</td>\n      <td>1.553263e+08</td>\n    </tr>\n    <tr>\n      <th>17</th>\n      <td>Thriller</td>\n      <td>6540000</td>\n      <td>1074251311</td>\n      <td>3.360929e+08</td>\n    </tr>\n    <tr>\n      <th>18</th>\n      <td>War</td>\n      <td>210409945</td>\n      <td>481840909</td>\n      <td>3.641424e+08</td>\n    </tr>\n    <tr>\n      <th>19</th>\n      <td>Western</td>\n      <td>159157447</td>\n      <td>425368238</td>\n      <td>3.362419e+08</td>\n    </tr>\n  </tbody>\n</table>\n</div>"
     },
     "execution_count": 5,
     "metadata": {},
     "output_type": "execute_result"
    }
   ],
   "source": [
    "# Dataframe with only movies\n",
    "df_movies = imdb[imdb['kind'] == 'movie']\n",
    "\n",
    "# Get all unique genres\n",
    "genres = []\n",
    "for cell in df_movies['genres']:\n",
    "    for element in cell:\n",
    "        genres.append(element)\n",
    "\n",
    "genres = list(set(genres))\n",
    "genres.sort()\n",
    "df_worldwide = pd.DataFrame(columns=['genre', 'min', 'max', 'mean'])\n",
    "\n",
    "for genre in genres:\n",
    "    minima = df_movies[df_movies['genres'].apply(lambda x: genre in x)][\"cumulative worldwide gross\"].min()\n",
    "    maxima = df_movies[df_movies['genres'].apply(lambda x: genre in x)][\"cumulative worldwide gross\"].max()\n",
    "    avg = df_movies[df_movies['genres'].apply(lambda x: genre in x)][\"cumulative worldwide gross\"].mean()\n",
    "    new_row = pd.DataFrame({'genre': [genre], 'min': [minima], 'max': [maxima], 'mean': [avg]})\n",
    "    df_worldwide = pd.concat([df_worldwide, new_row], ignore_index=True, axis=0)\n",
    "    \n",
    "df_worldwide\n"
   ],
   "metadata": {
    "collapsed": false,
    "ExecuteTime": {
     "end_time": "2024-04-10T19:21:25.302005Z",
     "start_time": "2024-04-10T19:21:25.266764Z"
    }
   },
   "execution_count": 5
  },
  {
   "cell_type": "markdown",
   "metadata": {},
   "source": [
    "##### __(d) What is the profit (defined as cumulative worldwide gross - budget) of each movie? [1 point].__ "
   ]
  },
  {
   "cell_type": "code",
   "execution_count": 6,
   "metadata": {
    "ExecuteTime": {
     "end_time": "2024-04-10T19:21:25.309051Z",
     "start_time": "2024-04-10T19:21:25.304513Z"
    }
   },
   "outputs": [],
   "source": [
    "# Data cleansing\n",
    "imdb['budget'] = imdb['budget'].str.replace(r'[\\$,]', '', regex=True)\n",
    "imdb['budget'] = imdb['budget'].str.split().str[0]\n",
    "imdb['budget'] = imdb['budget'].str.replace('000000000', '0', regex=True)\n",
    "imdb['budget'] = pd.to_numeric(imdb['budget'], errors='coerce')"
   ]
  },
  {
   "cell_type": "code",
   "outputs": [
    {
     "data": {
      "text/plain": "                                                title  net profit\n0                            The Shawshank Redemption    33500000\n1                                       The Godfather   239066411\n2                                     The Dark Knight   819558444\n3                                    Schindler's List   199000000\n4                                        Pulp Fiction   205928762\n..                                                ...         ...\n92  Pirates of the Caribbean: The Curse of the Bla...   514264015\n93                                            Aladdin   476050219\n94                               Beauty and the Beast   399967620\n95                                           The Help   191639112\n96                                 Dances with Wolves   402200000\n\n[97 rows x 2 columns]",
      "text/html": "<div>\n<style scoped>\n    .dataframe tbody tr th:only-of-type {\n        vertical-align: middle;\n    }\n\n    .dataframe tbody tr th {\n        vertical-align: top;\n    }\n\n    .dataframe thead th {\n        text-align: right;\n    }\n</style>\n<table border=\"1\" class=\"dataframe\">\n  <thead>\n    <tr style=\"text-align: right;\">\n      <th></th>\n      <th>title</th>\n      <th>net profit</th>\n    </tr>\n  </thead>\n  <tbody>\n    <tr>\n      <th>0</th>\n      <td>The Shawshank Redemption</td>\n      <td>33500000</td>\n    </tr>\n    <tr>\n      <th>1</th>\n      <td>The Godfather</td>\n      <td>239066411</td>\n    </tr>\n    <tr>\n      <th>2</th>\n      <td>The Dark Knight</td>\n      <td>819558444</td>\n    </tr>\n    <tr>\n      <th>3</th>\n      <td>Schindler's List</td>\n      <td>199000000</td>\n    </tr>\n    <tr>\n      <th>4</th>\n      <td>Pulp Fiction</td>\n      <td>205928762</td>\n    </tr>\n    <tr>\n      <th>...</th>\n      <td>...</td>\n      <td>...</td>\n    </tr>\n    <tr>\n      <th>92</th>\n      <td>Pirates of the Caribbean: The Curse of the Bla...</td>\n      <td>514264015</td>\n    </tr>\n    <tr>\n      <th>93</th>\n      <td>Aladdin</td>\n      <td>476050219</td>\n    </tr>\n    <tr>\n      <th>94</th>\n      <td>Beauty and the Beast</td>\n      <td>399967620</td>\n    </tr>\n    <tr>\n      <th>95</th>\n      <td>The Help</td>\n      <td>191639112</td>\n    </tr>\n    <tr>\n      <th>96</th>\n      <td>Dances with Wolves</td>\n      <td>402200000</td>\n    </tr>\n  </tbody>\n</table>\n<p>97 rows × 2 columns</p>\n</div>"
     },
     "execution_count": 7,
     "metadata": {},
     "output_type": "execute_result"
    }
   ],
   "source": [
    "# Queries\n",
    "imdb['net profit'] = imdb['cumulative worldwide gross'] - imdb['budget']\n",
    "imdb[['title', 'net profit']][imdb['kind'] == 'movie']"
   ],
   "metadata": {
    "collapsed": false,
    "ExecuteTime": {
     "end_time": "2024-04-10T19:21:25.319660Z",
     "start_time": "2024-04-10T19:21:25.310056Z"
    }
   },
   "execution_count": 7
  },
  {
   "cell_type": "markdown",
   "metadata": {},
   "source": [
    "##### __(e)  What is the min, max, and the average value of the atttribute 'opening weekend united states' per month? [1 point].__ "
   ]
  },
  {
   "cell_type": "code",
   "outputs": [
    {
     "data": {
      "text/plain": "        value_min    value_max   revenue_avg\nmonth                                       \nApr       12562.0  357115007.0  1.102430e+08\nAug      645363.0   26681262.0  1.709731e+07\nDec      179953.0   35363376.0  1.287903e+07\nFeb    13766814.0   41062440.0  3.024530e+07\nJan       15172.0   17754905.0  7.363771e+06\nJul      137301.0  160887295.0  4.199736e+07\nJun      340456.0  110307189.0  3.929574e+07\nMar      235488.0   88411916.0  2.360451e+07\nMay    34819017.0   68108790.0  5.146390e+07\nNov       99761.0   70467623.0  1.830448e+07\nOct       64770.0   96202337.0  1.930041e+07\nSep      212440.0   20817053.0  7.305613e+06",
      "text/html": "<div>\n<style scoped>\n    .dataframe tbody tr th:only-of-type {\n        vertical-align: middle;\n    }\n\n    .dataframe tbody tr th {\n        vertical-align: top;\n    }\n\n    .dataframe thead th {\n        text-align: right;\n    }\n</style>\n<table border=\"1\" class=\"dataframe\">\n  <thead>\n    <tr style=\"text-align: right;\">\n      <th></th>\n      <th>value_min</th>\n      <th>value_max</th>\n      <th>revenue_avg</th>\n    </tr>\n    <tr>\n      <th>month</th>\n      <th></th>\n      <th></th>\n      <th></th>\n    </tr>\n  </thead>\n  <tbody>\n    <tr>\n      <th>Apr</th>\n      <td>12562.0</td>\n      <td>357115007.0</td>\n      <td>1.102430e+08</td>\n    </tr>\n    <tr>\n      <th>Aug</th>\n      <td>645363.0</td>\n      <td>26681262.0</td>\n      <td>1.709731e+07</td>\n    </tr>\n    <tr>\n      <th>Dec</th>\n      <td>179953.0</td>\n      <td>35363376.0</td>\n      <td>1.287903e+07</td>\n    </tr>\n    <tr>\n      <th>Feb</th>\n      <td>13766814.0</td>\n      <td>41062440.0</td>\n      <td>3.024530e+07</td>\n    </tr>\n    <tr>\n      <th>Jan</th>\n      <td>15172.0</td>\n      <td>17754905.0</td>\n      <td>7.363771e+06</td>\n    </tr>\n    <tr>\n      <th>Jul</th>\n      <td>137301.0</td>\n      <td>160887295.0</td>\n      <td>4.199736e+07</td>\n    </tr>\n    <tr>\n      <th>Jun</th>\n      <td>340456.0</td>\n      <td>110307189.0</td>\n      <td>3.929574e+07</td>\n    </tr>\n    <tr>\n      <th>Mar</th>\n      <td>235488.0</td>\n      <td>88411916.0</td>\n      <td>2.360451e+07</td>\n    </tr>\n    <tr>\n      <th>May</th>\n      <td>34819017.0</td>\n      <td>68108790.0</td>\n      <td>5.146390e+07</td>\n    </tr>\n    <tr>\n      <th>Nov</th>\n      <td>99761.0</td>\n      <td>70467623.0</td>\n      <td>1.830448e+07</td>\n    </tr>\n    <tr>\n      <th>Oct</th>\n      <td>64770.0</td>\n      <td>96202337.0</td>\n      <td>1.930041e+07</td>\n    </tr>\n    <tr>\n      <th>Sep</th>\n      <td>212440.0</td>\n      <td>20817053.0</td>\n      <td>7.305613e+06</td>\n    </tr>\n  </tbody>\n</table>\n</div>"
     },
     "execution_count": 8,
     "metadata": {},
     "output_type": "execute_result"
    }
   ],
   "source": [
    "#  Assumption: the year does not matter\n",
    "#  Split 'opening weekend united states' into two columns\n",
    "import re\n",
    "split_data = imdb['opening weekend united states'].str.split(' ', expand=True)\n",
    "\n",
    "# Create a new DataFrame with 'value' and 'date' columns\n",
    "# Create a new DataFrame with 'value' and 'date' columns\n",
    "new_data = pd.DataFrame()\n",
    "new_data['value'] = split_data[0]\n",
    "new_data['value']= [int(re.sub(r'[^\\d]', '', gross)) for gross in new_data['value']]\n",
    "new_data['value'] = new_data[new_data['value'] != 0]\n",
    "new_data['dateday'] = split_data[1]\n",
    "new_data['datemonth'] = split_data[2]\n",
    "new_data = new_data[new_data['datemonth'] != 'NaN']\n",
    "new_data['dateyear'] = split_data[3]\n",
    "new_data.head(97)\n",
    "\n",
    "data2 = {'value': new_data['value'], 'month': new_data['datemonth']}\n",
    "\n",
    "min = pd.DataFrame(data2).groupby('month').min()\n",
    "max = pd.DataFrame(data2).groupby('month').max()\n",
    "avg = pd.DataFrame(data2).groupby('month').mean()\n",
    "\n",
    "\n",
    "\n",
    "\n",
    "# Merge and name the columns after the previous DataFrame\n",
    "revenue_month = pd.merge(min, max, on='month', how='outer', suffixes=('_min', '_max'))\n",
    "revenue_month = pd.merge(revenue_month, avg, on='month', how='outer')\n",
    "revenue_month = revenue_month.rename(columns={'value': 'revenue_avg'})\n",
    "revenue_month"
   ],
   "metadata": {
    "collapsed": false,
    "ExecuteTime": {
     "end_time": "2024-04-10T19:21:25.340435Z",
     "start_time": "2024-04-10T19:21:25.320665Z"
    }
   },
   "execution_count": 8
  },
  {
   "cell_type": "markdown",
   "metadata": {},
   "source": [
    "#### Task 02: Unstructured Data [6 points]. \n",
    "This time use the files imdb.csv from Task 01 and the imdb2.csv file. In this task we mainly use the content of the attribute 'plot' for the implementation of a retrieval system."
   ]
  },
  {
   "cell_type": "markdown",
   "metadata": {},
   "source": [
    "##### __(a)  Read the files imdb.csv and imdb2.csv in a dataframe called imdb. Add a column which is called 'plotterms' to each item. The new column should contain all terms (lower-case and cleaned from special characters) from the plot attribute which are not contained in the stopwords_english.txt file. [0.5 points]__ "
   ]
  },
  {
   "cell_type": "code",
   "execution_count": 9,
   "metadata": {
    "ExecuteTime": {
     "end_time": "2024-04-10T19:21:25.451133Z",
     "start_time": "2024-04-10T19:21:25.341440Z"
    }
   },
   "outputs": [
    {
     "data": {
      "text/plain": "           id       kind                           title  \\\n0      120669      movie  Fear and Loathing in Las Vegas   \n1     1343092      movie                The Great Gatsby   \n2     2069861      movie               My Favorite Movie   \n3     2267368      movie                     Joshua Tree   \n4    13560124      movie                   After America   \n..        ...        ...                             ...   \n162   2085059  tv series                    Black Mirror   \n163   2707408  tv series                          Narcos   \n164     98936  tv series                      Twin Peaks   \n165   4934214  tv series                      Taskmaster   \n166    200276  tv series                   The West Wing   \n\n                                             languages  \\\n0                                          ['English']   \n1                                          ['English']   \n2                                          ['English']   \n3                                          ['English']   \n4                                ['English', 'Somali']   \n..                                                 ...   \n162                                        ['English']   \n163                             ['English', 'Spanish']   \n164  ['English', 'Icelandic', 'Afrikaans', 'Norwegi...   \n165                                        ['English']   \n166                                        ['English']   \n\n                                          genres  rating       director  \\\n0               ['Adventure', 'Comedy', 'Drama']     7.5  Terry Gilliam   \n1                           ['Drama', 'Romance']     7.2   Baz Luhrmann   \n2                           ['Comedy', 'Family']     8.4  Martin Rogers   \n3                                      ['Drama']     6.6       Li Cheng   \n4                ['Drama', 'Fantasy', 'Mystery']     4.5     Jake Yuzna   \n..                                           ...     ...            ...   \n162   ['Drama', 'Mystery', 'Sci-Fi', 'Thriller']     8.8            NaN   \n163  ['Biography', 'Crime', 'Drama', 'Thriller']     8.8            NaN   \n164    ['Crime', 'Drama', 'Mystery', 'Thriller']     8.8            NaN   \n165                      ['Comedy', 'Game-Show']     9.0            NaN   \n166                                    ['Drama']     8.9            NaN   \n\n    cumulative worldwide gross opening weekend united states     budget  \\\n0                            0                             0          0   \n1                            0                             0          0   \n2                            0                             0          0   \n3                            0                             0          0   \n4                            0                             0          0   \n..                         ...                           ...        ...   \n162                  000000000                     000000000  000000000   \n163                  000000000                     000000000  000000000   \n164                  000000000                     000000000  000000000   \n165                  000000000                     000000000  000000000   \n166                  000000000                     000000000  000000000   \n\n                                                  plot  \\\n0    ['An oddball journalist and his psychopathic l...   \n1    ['A writer and wall street trader, Nick, finds...   \n2    ['Dave has the American Dream and hates it. Hi...   \n3    ['Set in the U.S. heartland following the 2008...   \n4    ['A group of criminal justice de-escalation wo...   \n..                                                 ...   \n162  [\"An anthology series exploring a twisted, hig...   \n163  ['A chronicled look at the criminal exploits o...   \n164  ['An idiosyncratic FBI agent investigates the ...   \n165  ['Five comedians are set tasks challenging the...   \n166  ['Inside the lives of staffers in the West Win...   \n\n                                             plotterms  \n0     oddball journalist psychopathic lawyer travel...  \n1     writer wall street trader nick finds drawn li...  \n2    dave american dream hates eccentric friends ha...  \n3    set heartland 2008 economic collapse divorced ...  \n4     group criminal justice deescalation workers m...  \n..                                                 ...  \n162   anthology series exploring twisted hightech m...  \n163   chronicled criminal exploits colombian drug l...  \n164   idiosyncratic fbi agent investigates murder y...  \n165   comedians set tasks challenging creativity wi...  \n166   lives staffers west wing white house presiden...  \n\n[167 rows x 12 columns]",
      "text/html": "<div>\n<style scoped>\n    .dataframe tbody tr th:only-of-type {\n        vertical-align: middle;\n    }\n\n    .dataframe tbody tr th {\n        vertical-align: top;\n    }\n\n    .dataframe thead th {\n        text-align: right;\n    }\n</style>\n<table border=\"1\" class=\"dataframe\">\n  <thead>\n    <tr style=\"text-align: right;\">\n      <th></th>\n      <th>id</th>\n      <th>kind</th>\n      <th>title</th>\n      <th>languages</th>\n      <th>genres</th>\n      <th>rating</th>\n      <th>director</th>\n      <th>cumulative worldwide gross</th>\n      <th>opening weekend united states</th>\n      <th>budget</th>\n      <th>plot</th>\n      <th>plotterms</th>\n    </tr>\n  </thead>\n  <tbody>\n    <tr>\n      <th>0</th>\n      <td>120669</td>\n      <td>movie</td>\n      <td>Fear and Loathing in Las Vegas</td>\n      <td>['English']</td>\n      <td>['Adventure', 'Comedy', 'Drama']</td>\n      <td>7.5</td>\n      <td>Terry Gilliam</td>\n      <td>0</td>\n      <td>0</td>\n      <td>0</td>\n      <td>['An oddball journalist and his psychopathic l...</td>\n      <td>oddball journalist psychopathic lawyer travel...</td>\n    </tr>\n    <tr>\n      <th>1</th>\n      <td>1343092</td>\n      <td>movie</td>\n      <td>The Great Gatsby</td>\n      <td>['English']</td>\n      <td>['Drama', 'Romance']</td>\n      <td>7.2</td>\n      <td>Baz Luhrmann</td>\n      <td>0</td>\n      <td>0</td>\n      <td>0</td>\n      <td>['A writer and wall street trader, Nick, finds...</td>\n      <td>writer wall street trader nick finds drawn li...</td>\n    </tr>\n    <tr>\n      <th>2</th>\n      <td>2069861</td>\n      <td>movie</td>\n      <td>My Favorite Movie</td>\n      <td>['English']</td>\n      <td>['Comedy', 'Family']</td>\n      <td>8.4</td>\n      <td>Martin Rogers</td>\n      <td>0</td>\n      <td>0</td>\n      <td>0</td>\n      <td>['Dave has the American Dream and hates it. Hi...</td>\n      <td>dave american dream hates eccentric friends ha...</td>\n    </tr>\n    <tr>\n      <th>3</th>\n      <td>2267368</td>\n      <td>movie</td>\n      <td>Joshua Tree</td>\n      <td>['English']</td>\n      <td>['Drama']</td>\n      <td>6.6</td>\n      <td>Li Cheng</td>\n      <td>0</td>\n      <td>0</td>\n      <td>0</td>\n      <td>['Set in the U.S. heartland following the 2008...</td>\n      <td>set heartland 2008 economic collapse divorced ...</td>\n    </tr>\n    <tr>\n      <th>4</th>\n      <td>13560124</td>\n      <td>movie</td>\n      <td>After America</td>\n      <td>['English', 'Somali']</td>\n      <td>['Drama', 'Fantasy', 'Mystery']</td>\n      <td>4.5</td>\n      <td>Jake Yuzna</td>\n      <td>0</td>\n      <td>0</td>\n      <td>0</td>\n      <td>['A group of criminal justice de-escalation wo...</td>\n      <td>group criminal justice deescalation workers m...</td>\n    </tr>\n    <tr>\n      <th>...</th>\n      <td>...</td>\n      <td>...</td>\n      <td>...</td>\n      <td>...</td>\n      <td>...</td>\n      <td>...</td>\n      <td>...</td>\n      <td>...</td>\n      <td>...</td>\n      <td>...</td>\n      <td>...</td>\n      <td>...</td>\n    </tr>\n    <tr>\n      <th>162</th>\n      <td>2085059</td>\n      <td>tv series</td>\n      <td>Black Mirror</td>\n      <td>['English']</td>\n      <td>['Drama', 'Mystery', 'Sci-Fi', 'Thriller']</td>\n      <td>8.8</td>\n      <td>NaN</td>\n      <td>000000000</td>\n      <td>000000000</td>\n      <td>000000000</td>\n      <td>[\"An anthology series exploring a twisted, hig...</td>\n      <td>anthology series exploring twisted hightech m...</td>\n    </tr>\n    <tr>\n      <th>163</th>\n      <td>2707408</td>\n      <td>tv series</td>\n      <td>Narcos</td>\n      <td>['English', 'Spanish']</td>\n      <td>['Biography', 'Crime', 'Drama', 'Thriller']</td>\n      <td>8.8</td>\n      <td>NaN</td>\n      <td>000000000</td>\n      <td>000000000</td>\n      <td>000000000</td>\n      <td>['A chronicled look at the criminal exploits o...</td>\n      <td>chronicled criminal exploits colombian drug l...</td>\n    </tr>\n    <tr>\n      <th>164</th>\n      <td>98936</td>\n      <td>tv series</td>\n      <td>Twin Peaks</td>\n      <td>['English', 'Icelandic', 'Afrikaans', 'Norwegi...</td>\n      <td>['Crime', 'Drama', 'Mystery', 'Thriller']</td>\n      <td>8.8</td>\n      <td>NaN</td>\n      <td>000000000</td>\n      <td>000000000</td>\n      <td>000000000</td>\n      <td>['An idiosyncratic FBI agent investigates the ...</td>\n      <td>idiosyncratic fbi agent investigates murder y...</td>\n    </tr>\n    <tr>\n      <th>165</th>\n      <td>4934214</td>\n      <td>tv series</td>\n      <td>Taskmaster</td>\n      <td>['English']</td>\n      <td>['Comedy', 'Game-Show']</td>\n      <td>9.0</td>\n      <td>NaN</td>\n      <td>000000000</td>\n      <td>000000000</td>\n      <td>000000000</td>\n      <td>['Five comedians are set tasks challenging the...</td>\n      <td>comedians set tasks challenging creativity wi...</td>\n    </tr>\n    <tr>\n      <th>166</th>\n      <td>200276</td>\n      <td>tv series</td>\n      <td>The West Wing</td>\n      <td>['English']</td>\n      <td>['Drama']</td>\n      <td>8.9</td>\n      <td>NaN</td>\n      <td>000000000</td>\n      <td>000000000</td>\n      <td>000000000</td>\n      <td>['Inside the lives of staffers in the West Win...</td>\n      <td>lives staffers west wing white house presiden...</td>\n    </tr>\n  </tbody>\n</table>\n<p>167 rows × 12 columns</p>\n</div>"
     },
     "execution_count": 9,
     "metadata": {},
     "output_type": "execute_result"
    }
   ],
   "source": [
    "import pandas as pd\n",
    "\n",
    "\n",
    "imdb2 = pd.read_csv('imdb2.csv')\n",
    "imdb = pd.read_csv('imdb.csv')\n",
    "imdb = pd.concat([imdb2, imdb], ignore_index=True)\n",
    "\n",
    "#Creating Stopword Pattern for later replacement/ delete of said words\n",
    "stopwords = pd.read_csv('stopwords_english.txt',header=None,names=['stopwords'])\n",
    "stopwords = stopwords[\"stopwords\"].tolist()\n",
    "stopwords_pattern = r'\\b(?:{})\\b'.format('|'.join(stopwords))\n",
    "\n",
    "\n",
    "# Pattern for replacement of special chars\n",
    "pattern = r'[^\\w\\s]'\n",
    "#Replace special chars with \"\"\n",
    "imdb['plotterms'] = imdb['plot'].str.replace(pattern,\"\",regex=True).str.lower()\n",
    "#replace stopwords with \"\"\n",
    "imdb['plotterms'] = imdb['plotterms'].str.replace(stopwords_pattern,\"\",regex=True)\n",
    "#clear out excessive whitespaces\n",
    "pattern_whitespaces = r\"\\s+\"\n",
    "imdb['plotterms'] = imdb['plotterms'].str.replace(pattern_whitespaces,\" \",regex=True)\n",
    "imdb\n",
    "\n"
   ]
  },
  {
   "cell_type": "markdown",
   "metadata": {},
   "source": [
    "##### __(b)  Create an inverted index for the terms in the 'plotterms' column. Use a datastructure of your choice for the implementation [0.5 points]__ "
   ]
  },
  {
   "cell_type": "code",
   "execution_count": 10,
   "metadata": {
    "ExecuteTime": {
     "end_time": "2024-04-10T19:21:32.912812Z",
     "start_time": "2024-04-10T19:21:25.452138Z"
    }
   },
   "outputs": [
    {
     "data": {
      "text/plain": "              Term                                          Movie_IDs\n0          oddball                                           [120669]\n1       journalist                                 [120669, 12392504]\n2     psychopathic                                   [120669, 477348]\n3           lawyer                         [120669, 2802850, 3032476]\n4           travel  [120669, 816692, 6966692, 266543, 2395695, 286...\n...            ...                                                ...\n5552    principles                                           [200276]\n5553      tactical                                           [200276]\n5554      insights                                           [200276]\n5555       aspects                                           [200276]\n5556   politicskgf                                           [200276]\n\n[5557 rows x 2 columns]",
      "text/html": "<div>\n<style scoped>\n    .dataframe tbody tr th:only-of-type {\n        vertical-align: middle;\n    }\n\n    .dataframe tbody tr th {\n        vertical-align: top;\n    }\n\n    .dataframe thead th {\n        text-align: right;\n    }\n</style>\n<table border=\"1\" class=\"dataframe\">\n  <thead>\n    <tr style=\"text-align: right;\">\n      <th></th>\n      <th>Term</th>\n      <th>Movie_IDs</th>\n    </tr>\n  </thead>\n  <tbody>\n    <tr>\n      <th>0</th>\n      <td>oddball</td>\n      <td>[120669]</td>\n    </tr>\n    <tr>\n      <th>1</th>\n      <td>journalist</td>\n      <td>[120669, 12392504]</td>\n    </tr>\n    <tr>\n      <th>2</th>\n      <td>psychopathic</td>\n      <td>[120669, 477348]</td>\n    </tr>\n    <tr>\n      <th>3</th>\n      <td>lawyer</td>\n      <td>[120669, 2802850, 3032476]</td>\n    </tr>\n    <tr>\n      <th>4</th>\n      <td>travel</td>\n      <td>[120669, 816692, 6966692, 266543, 2395695, 286...</td>\n    </tr>\n    <tr>\n      <th>...</th>\n      <td>...</td>\n      <td>...</td>\n    </tr>\n    <tr>\n      <th>5552</th>\n      <td>principles</td>\n      <td>[200276]</td>\n    </tr>\n    <tr>\n      <th>5553</th>\n      <td>tactical</td>\n      <td>[200276]</td>\n    </tr>\n    <tr>\n      <th>5554</th>\n      <td>insights</td>\n      <td>[200276]</td>\n    </tr>\n    <tr>\n      <th>5555</th>\n      <td>aspects</td>\n      <td>[200276]</td>\n    </tr>\n    <tr>\n      <th>5556</th>\n      <td>politicskgf</td>\n      <td>[200276]</td>\n    </tr>\n  </tbody>\n</table>\n<p>5557 rows × 2 columns</p>\n</div>"
     },
     "execution_count": 10,
     "metadata": {},
     "output_type": "execute_result"
    }
   ],
   "source": [
    "#Creating Inverted Index Dataframe\n",
    "inverted_index = pd.DataFrame({\n",
    "    \"Term\": [],\n",
    "    \"Movie_IDs\": []\n",
    "})\n",
    "\n",
    "for index, row in imdb.iterrows(): # Itterate through each row of the dataframe \n",
    "    movie_id = row[\"id\"] # Get Movie ID from Every Movie\n",
    "    for term in imdb.loc[index][\"plotterms\"].split(): # Itterate through every word in plotterms of said row\n",
    "        if (inverted_index[\"Term\"] != term).all(): # If plot word not already indexed\n",
    "            new_row = pd.DataFrame({\"Term\": [term], \"Movie_IDs\": [[movie_id]]}) # generate new row for inverted index\n",
    "            inverted_index = pd.concat([inverted_index, new_row], ignore_index=True) # add plotterm and movieid to inverted index\n",
    "        elif movie_id not in inverted_index.loc[inverted_index[\"Term\"] == term, \"Movie_IDs\"].iloc[0]: # if plotterm already indexed but not indexed to this movie\n",
    "            inverted_index.loc[inverted_index[\"Term\"] == term, \"Movie_IDs\"].iloc[0].append(movie_id) # add movieid to plotterm index\n",
    "\n",
    "\n",
    "\n",
    "inverted_index\n",
    "\n"
   ]
  },
  {
   "cell_type": "markdown",
   "metadata": {},
   "source": [
    "##### __(c) Take the inverted index and create the posting list for the query 'american'. Return the posting list as well as the top5 items scored by the rating attribute. [0.5 points]__ "
   ]
  },
  {
   "cell_type": "code",
   "execution_count": 11,
   "metadata": {
    "ExecuteTime": {
     "end_time": "2024-04-10T19:21:32.925163Z",
     "start_time": "2024-04-10T19:21:32.912812Z"
    }
   },
   "outputs": [
    {
     "name": "stdout",
     "output_type": "stream",
     "text": [
      "Posting list dream & american : [120669, 1343092, 2069861, 2267368, 13560124, 5092484, 2365001, 373862, 88763, 46912, 112471, 381681, 306414, 1877514, 98769]\n"
     ]
    },
    {
     "data": {
      "text/plain": "          id            kind               title  \\\n110   306414       tv series            The Wire   \n124  1877514  tv mini series     The Vietnam War   \n143    98769  tv mini series       The Civil War   \n26     88763           movie  Back to the Future   \n2    2069861           movie   My Favorite Movie   \n\n                                       languages  \\\n110  ['English', 'Greek', 'Mandarin', 'Spanish']   \n124                                  ['English']   \n143                                  ['English']   \n26                                   ['English']   \n2                                    ['English']   \n\n                                genres  rating         director  \\\n110     ['Crime', 'Drama', 'Thriller']     9.3              NaN   \n124  ['Documentary', 'History', 'War']     9.1              NaN   \n143  ['Documentary', 'History', 'War']     9.0              NaN   \n26   ['Adventure', 'Comedy', 'Sci-Fi']     8.6  Robert Zemeckis   \n2                 ['Comedy', 'Family']     8.4    Martin Rogers   \n\n    cumulative worldwide gross opening weekend united states  \\\n110                  000000000                     000000000   \n124                  000000000                     000000000   \n143                  000000000                     000000000   \n26                $381,109,762      $11,332,134, 07 Jul 1985   \n2                            0                             0   \n\n                      budget  \\\n110                000000000   \n124                000000000   \n143                000000000   \n26   $19,000,000 (estimated)   \n2                          0   \n\n                                                  plot  \\\n110  ['The Baltimore drug scene, as seen through th...   \n124  [\"A comprehensive history of the United States...   \n143  ['A comprehensive survey of the American Civil...   \n26   Marty McFly, a typical American teenager of th...   \n2    ['Dave has the American Dream and hates it. Hi...   \n\n                                             plotterms  \n110   baltimore drug scene eyes drug dealers law en...  \n124   comprehensive history united involvement bitt...  \n143   comprehensive survey american civil war highl...  \n26   marty mcfly typical american teenager eighties...  \n2    dave american dream hates eccentric friends ha...  ",
      "text/html": "<div>\n<style scoped>\n    .dataframe tbody tr th:only-of-type {\n        vertical-align: middle;\n    }\n\n    .dataframe tbody tr th {\n        vertical-align: top;\n    }\n\n    .dataframe thead th {\n        text-align: right;\n    }\n</style>\n<table border=\"1\" class=\"dataframe\">\n  <thead>\n    <tr style=\"text-align: right;\">\n      <th></th>\n      <th>id</th>\n      <th>kind</th>\n      <th>title</th>\n      <th>languages</th>\n      <th>genres</th>\n      <th>rating</th>\n      <th>director</th>\n      <th>cumulative worldwide gross</th>\n      <th>opening weekend united states</th>\n      <th>budget</th>\n      <th>plot</th>\n      <th>plotterms</th>\n    </tr>\n  </thead>\n  <tbody>\n    <tr>\n      <th>110</th>\n      <td>306414</td>\n      <td>tv series</td>\n      <td>The Wire</td>\n      <td>['English', 'Greek', 'Mandarin', 'Spanish']</td>\n      <td>['Crime', 'Drama', 'Thriller']</td>\n      <td>9.3</td>\n      <td>NaN</td>\n      <td>000000000</td>\n      <td>000000000</td>\n      <td>000000000</td>\n      <td>['The Baltimore drug scene, as seen through th...</td>\n      <td>baltimore drug scene eyes drug dealers law en...</td>\n    </tr>\n    <tr>\n      <th>124</th>\n      <td>1877514</td>\n      <td>tv mini series</td>\n      <td>The Vietnam War</td>\n      <td>['English']</td>\n      <td>['Documentary', 'History', 'War']</td>\n      <td>9.1</td>\n      <td>NaN</td>\n      <td>000000000</td>\n      <td>000000000</td>\n      <td>000000000</td>\n      <td>[\"A comprehensive history of the United States...</td>\n      <td>comprehensive history united involvement bitt...</td>\n    </tr>\n    <tr>\n      <th>143</th>\n      <td>98769</td>\n      <td>tv mini series</td>\n      <td>The Civil War</td>\n      <td>['English']</td>\n      <td>['Documentary', 'History', 'War']</td>\n      <td>9.0</td>\n      <td>NaN</td>\n      <td>000000000</td>\n      <td>000000000</td>\n      <td>000000000</td>\n      <td>['A comprehensive survey of the American Civil...</td>\n      <td>comprehensive survey american civil war highl...</td>\n    </tr>\n    <tr>\n      <th>26</th>\n      <td>88763</td>\n      <td>movie</td>\n      <td>Back to the Future</td>\n      <td>['English']</td>\n      <td>['Adventure', 'Comedy', 'Sci-Fi']</td>\n      <td>8.6</td>\n      <td>Robert Zemeckis</td>\n      <td>$381,109,762</td>\n      <td>$11,332,134, 07 Jul 1985</td>\n      <td>$19,000,000 (estimated)</td>\n      <td>Marty McFly, a typical American teenager of th...</td>\n      <td>marty mcfly typical american teenager eighties...</td>\n    </tr>\n    <tr>\n      <th>2</th>\n      <td>2069861</td>\n      <td>movie</td>\n      <td>My Favorite Movie</td>\n      <td>['English']</td>\n      <td>['Comedy', 'Family']</td>\n      <td>8.4</td>\n      <td>Martin Rogers</td>\n      <td>0</td>\n      <td>0</td>\n      <td>0</td>\n      <td>['Dave has the American Dream and hates it. Hi...</td>\n      <td>dave american dream hates eccentric friends ha...</td>\n    </tr>\n  </tbody>\n</table>\n</div>"
     },
     "execution_count": 11,
     "metadata": {},
     "output_type": "execute_result"
    }
   ],
   "source": [
    "# get Movie_IDs for the word american\n",
    "term_american = inverted_index[inverted_index[\"Term\"]== \"american\"]\n",
    "movie_id_american = term_american[\"Movie_IDs\"].iloc[0]\n",
    "\n",
    "#Print postinglist for Movies with the plotterms \"american\" \n",
    "print(f\"Posting list dream & american : {movie_id_american}\")\n",
    "\n",
    "# Query for all films with american in plotterms and sort it by best rating\n",
    "query_american = imdb[imdb[\"id\"].isin(movie_id_american)].sort_values(by=\"rating\",ascending=False)\n",
    "query_american.head(5) # Show only top 5 results\n"
   ]
  },
  {
   "cell_type": "markdown",
   "metadata": {},
   "source": [
    "##### __(d) Take the inverted index and create the posting lists for the query terms 'american' and 'dream' (the term 'american' as well as the term 'dream' should be contained in the plot). Your merging algorithm should be efficient and reduce the number of comparison to a minimum. Don't use existing python methods (like intersect or in) for the merge algorithm. Return the merged posting list as well as the top5 items scored by the rating attribute. [1 point]__ "
   ]
  },
  {
   "cell_type": "code",
   "execution_count": 12,
   "metadata": {
    "ExecuteTime": {
     "end_time": "2024-04-10T19:21:32.942717Z",
     "start_time": "2024-04-10T19:21:32.926273Z"
    }
   },
   "outputs": [
    {
     "name": "stdout",
     "output_type": "stream",
     "text": [
      "Posting list dream & american : [120669, 1343092, 2069861, 2267368, 13560124, 5092484, 2365001, 373862]\n"
     ]
    },
    {
     "data": {
      "text/plain": "        id   kind                           title    languages  \\\n2  2069861  movie               My Favorite Movie  ['English']   \n0   120669  movie  Fear and Loathing in Las Vegas  ['English']   \n1  1343092  movie                The Great Gatsby  ['English']   \n3  2267368  movie                     Joshua Tree  ['English']   \n6  2365001  movie                       Immigrant  ['English']   \n\n                             genres  rating        director  \\\n2              ['Comedy', 'Family']     8.4   Martin Rogers   \n0  ['Adventure', 'Comedy', 'Drama']     7.5   Terry Gilliam   \n1              ['Drama', 'Romance']     7.2    Baz Luhrmann   \n3                         ['Drama']     6.6        Li Cheng   \n6                         ['Drama']     5.8  Barry Shurchin   \n\n  cumulative worldwide gross opening weekend united states budget  \\\n2                          0                             0      0   \n0                          0                             0      0   \n1                          0                             0      0   \n3                          0                             0      0   \n6                          0                             0      0   \n\n                                                plot  \\\n2  ['Dave has the American Dream and hates it. Hi...   \n0  ['An oddball journalist and his psychopathic l...   \n1  ['A writer and wall street trader, Nick, finds...   \n3  ['Set in the U.S. heartland following the 2008...   \n6  ['The coming of age story of a young Russian i...   \n\n                                           plotterms  \n2  dave american dream hates eccentric friends ha...  \n0   oddball journalist psychopathic lawyer travel...  \n1   writer wall street trader nick finds drawn li...  \n3  set heartland 2008 economic collapse divorced ...  \n6   coming age story young russian immigrant sear...  ",
      "text/html": "<div>\n<style scoped>\n    .dataframe tbody tr th:only-of-type {\n        vertical-align: middle;\n    }\n\n    .dataframe tbody tr th {\n        vertical-align: top;\n    }\n\n    .dataframe thead th {\n        text-align: right;\n    }\n</style>\n<table border=\"1\" class=\"dataframe\">\n  <thead>\n    <tr style=\"text-align: right;\">\n      <th></th>\n      <th>id</th>\n      <th>kind</th>\n      <th>title</th>\n      <th>languages</th>\n      <th>genres</th>\n      <th>rating</th>\n      <th>director</th>\n      <th>cumulative worldwide gross</th>\n      <th>opening weekend united states</th>\n      <th>budget</th>\n      <th>plot</th>\n      <th>plotterms</th>\n    </tr>\n  </thead>\n  <tbody>\n    <tr>\n      <th>2</th>\n      <td>2069861</td>\n      <td>movie</td>\n      <td>My Favorite Movie</td>\n      <td>['English']</td>\n      <td>['Comedy', 'Family']</td>\n      <td>8.4</td>\n      <td>Martin Rogers</td>\n      <td>0</td>\n      <td>0</td>\n      <td>0</td>\n      <td>['Dave has the American Dream and hates it. Hi...</td>\n      <td>dave american dream hates eccentric friends ha...</td>\n    </tr>\n    <tr>\n      <th>0</th>\n      <td>120669</td>\n      <td>movie</td>\n      <td>Fear and Loathing in Las Vegas</td>\n      <td>['English']</td>\n      <td>['Adventure', 'Comedy', 'Drama']</td>\n      <td>7.5</td>\n      <td>Terry Gilliam</td>\n      <td>0</td>\n      <td>0</td>\n      <td>0</td>\n      <td>['An oddball journalist and his psychopathic l...</td>\n      <td>oddball journalist psychopathic lawyer travel...</td>\n    </tr>\n    <tr>\n      <th>1</th>\n      <td>1343092</td>\n      <td>movie</td>\n      <td>The Great Gatsby</td>\n      <td>['English']</td>\n      <td>['Drama', 'Romance']</td>\n      <td>7.2</td>\n      <td>Baz Luhrmann</td>\n      <td>0</td>\n      <td>0</td>\n      <td>0</td>\n      <td>['A writer and wall street trader, Nick, finds...</td>\n      <td>writer wall street trader nick finds drawn li...</td>\n    </tr>\n    <tr>\n      <th>3</th>\n      <td>2267368</td>\n      <td>movie</td>\n      <td>Joshua Tree</td>\n      <td>['English']</td>\n      <td>['Drama']</td>\n      <td>6.6</td>\n      <td>Li Cheng</td>\n      <td>0</td>\n      <td>0</td>\n      <td>0</td>\n      <td>['Set in the U.S. heartland following the 2008...</td>\n      <td>set heartland 2008 economic collapse divorced ...</td>\n    </tr>\n    <tr>\n      <th>6</th>\n      <td>2365001</td>\n      <td>movie</td>\n      <td>Immigrant</td>\n      <td>['English']</td>\n      <td>['Drama']</td>\n      <td>5.8</td>\n      <td>Barry Shurchin</td>\n      <td>0</td>\n      <td>0</td>\n      <td>0</td>\n      <td>['The coming of age story of a young Russian i...</td>\n      <td>coming age story young russian immigrant sear...</td>\n    </tr>\n  </tbody>\n</table>\n</div>"
     },
     "execution_count": 12,
     "metadata": {},
     "output_type": "execute_result"
    }
   ],
   "source": [
    "# American Movie_IDs\n",
    "movie_id_american\n",
    "# get Movie_IDs for term dream \n",
    "term_dream = inverted_index[inverted_index[\"Term\"]== \"dream\"]\n",
    "movie_id_dream= term_dream[\"Movie_IDs\"].iloc[0]\n",
    "\n",
    "def intersection(list1, list2):\n",
    "    if len(list1) < len(list2):\n",
    "        smaller_list = list1\n",
    "        bigger_list = list2\n",
    "    else:\n",
    "        smaller_list = list2\n",
    "        bigger_list = list1\n",
    "    intersected = []\n",
    "    for item in smaller_list:\n",
    "        for other_item in bigger_list:\n",
    "            if item == other_item:\n",
    "                intersected.append(item)\n",
    "                break\n",
    "    return intersected\n",
    "\n",
    "movie_id_american_dream = intersection(movie_id_dream,movie_id_american)\n",
    "\n",
    "#Print postinglist for Movies with the plotterms \"dream\" and \"american\" \n",
    "print(f\"Posting list dream & american : {movie_id_american_dream}\")\n",
    "# Query for all films with american in plotterms and sort it by best rating\n",
    "query_american = imdb[imdb[\"id\"].isin(movie_id_american_dream)].sort_values(by=\"rating\",ascending=False)\n",
    "query_american.head(5) # Show only top 5 results\n"
   ]
  },
  {
   "cell_type": "markdown",
   "metadata": {},
   "source": [
    "##### __(e) Extend your index to be able to rank the resulting items from Task 2d by the occurrence of search terms in the plotterms. Execute the query 'american' and 'dream' (the term 'american' as well as the term 'dream' should be contained in the plot) again and print the resulting items.  [1 point]__"
   ]
  },
  {
   "cell_type": "code",
   "execution_count": 13,
   "metadata": {
    "ExecuteTime": {
     "end_time": "2024-04-10T19:21:40.903603Z",
     "start_time": "2024-04-10T19:21:32.942717Z"
    }
   },
   "outputs": [
    {
     "data": {
      "text/plain": "              Term                                          Movie_IDs\n0          oddball                                      [[120669, 1]]\n1       journalist                       [[120669, 2], [12392504, 1]]\n2     psychopathic                         [[120669, 1], [477348, 1]]\n3           lawyer          [[120669, 3], [2802850, 1], [3032476, 6]]\n4           travel  [[120669, 1], [816692, 1], [6966692, 2], [2665...\n...            ...                                                ...\n5552    principles                                      [[200276, 1]]\n5553      tactical                                      [[200276, 1]]\n5554      insights                                      [[200276, 1]]\n5555       aspects                                      [[200276, 1]]\n5556   politicskgf                                      [[200276, 1]]\n\n[5557 rows x 2 columns]",
      "text/html": "<div>\n<style scoped>\n    .dataframe tbody tr th:only-of-type {\n        vertical-align: middle;\n    }\n\n    .dataframe tbody tr th {\n        vertical-align: top;\n    }\n\n    .dataframe thead th {\n        text-align: right;\n    }\n</style>\n<table border=\"1\" class=\"dataframe\">\n  <thead>\n    <tr style=\"text-align: right;\">\n      <th></th>\n      <th>Term</th>\n      <th>Movie_IDs</th>\n    </tr>\n  </thead>\n  <tbody>\n    <tr>\n      <th>0</th>\n      <td>oddball</td>\n      <td>[[120669, 1]]</td>\n    </tr>\n    <tr>\n      <th>1</th>\n      <td>journalist</td>\n      <td>[[120669, 2], [12392504, 1]]</td>\n    </tr>\n    <tr>\n      <th>2</th>\n      <td>psychopathic</td>\n      <td>[[120669, 1], [477348, 1]]</td>\n    </tr>\n    <tr>\n      <th>3</th>\n      <td>lawyer</td>\n      <td>[[120669, 3], [2802850, 1], [3032476, 6]]</td>\n    </tr>\n    <tr>\n      <th>4</th>\n      <td>travel</td>\n      <td>[[120669, 1], [816692, 1], [6966692, 2], [2665...</td>\n    </tr>\n    <tr>\n      <th>...</th>\n      <td>...</td>\n      <td>...</td>\n    </tr>\n    <tr>\n      <th>5552</th>\n      <td>principles</td>\n      <td>[[200276, 1]]</td>\n    </tr>\n    <tr>\n      <th>5553</th>\n      <td>tactical</td>\n      <td>[[200276, 1]]</td>\n    </tr>\n    <tr>\n      <th>5554</th>\n      <td>insights</td>\n      <td>[[200276, 1]]</td>\n    </tr>\n    <tr>\n      <th>5555</th>\n      <td>aspects</td>\n      <td>[[200276, 1]]</td>\n    </tr>\n    <tr>\n      <th>5556</th>\n      <td>politicskgf</td>\n      <td>[[200276, 1]]</td>\n    </tr>\n  </tbody>\n</table>\n<p>5557 rows × 2 columns</p>\n</div>"
     },
     "execution_count": 13,
     "metadata": {},
     "output_type": "execute_result"
    }
   ],
   "source": [
    "\"\"\"\n",
    "Generating a dataframe with all plotterms and movie IDs associated with.\n",
    "\"\"\"\n",
    "\n",
    "\n",
    "#Creating Inverted Index Dataframe\n",
    "inverted_index = pd.DataFrame({\n",
    "    \"Term\": [],\n",
    "    \"Movie_IDs\": []\n",
    "})\n",
    "\n",
    "for index, row in imdb.iterrows(): # Itterate through each row of the dataframe \n",
    "    movie_id = row[\"id\"] # Get Movie ID from Every Movie\n",
    "    for term in imdb.loc[index][\"plotterms\"].split(): # Itterate through every word in plotterms of said row\n",
    "        if (inverted_index[\"Term\"] != term).all(): # If plot word not already indexed\n",
    "            occurrence = imdb.loc[index][\"plotterms\"].count(term)\n",
    "            new_row = pd.DataFrame({\"Term\": [term], \"Movie_IDs\": [[[movie_id,occurrence]]]}) # generate new row for inverted index\n",
    "            inverted_index = pd.concat([inverted_index, new_row], ignore_index=True) # add plotterm and movieid to inverted index\n",
    "        elif not any(movie_id in x for x in inverted_index.loc[inverted_index[\"Term\"] == term, \"Movie_IDs\"].iloc[0]): # search nested list for potentially already existing movieid\n",
    "            occurrence = imdb.loc[index][\"plotterms\"].count(term)\n",
    "            inverted_index.loc[inverted_index[\"Term\"] == term, \"Movie_IDs\"].iloc[0].append([movie_id,occurrence]) # add movieid to plotterm index\n",
    "\n",
    "\n",
    "\n",
    "inverted_index\n"
   ]
  },
  {
   "cell_type": "code",
   "outputs": [
    {
     "data": {
      "text/plain": "     Movie_IDs  Count\n0     120669.0    5.0\n1    1343092.0    3.0\n2    2069861.0    3.0\n3    2267368.0    2.0\n4   13560124.0    2.0\n5    5092484.0    2.0\n6    2365001.0    2.0\n7     373862.0    2.0\n8      88763.0    1.0\n9      46912.0    1.0\n10    112471.0    1.0\n11    381681.0    1.0\n12    306414.0    1.0\n13   1877514.0    3.0\n14     98769.0    3.0",
      "text/html": "<div>\n<style scoped>\n    .dataframe tbody tr th:only-of-type {\n        vertical-align: middle;\n    }\n\n    .dataframe tbody tr th {\n        vertical-align: top;\n    }\n\n    .dataframe thead th {\n        text-align: right;\n    }\n</style>\n<table border=\"1\" class=\"dataframe\">\n  <thead>\n    <tr style=\"text-align: right;\">\n      <th></th>\n      <th>Movie_IDs</th>\n      <th>Count</th>\n    </tr>\n  </thead>\n  <tbody>\n    <tr>\n      <th>0</th>\n      <td>120669.0</td>\n      <td>5.0</td>\n    </tr>\n    <tr>\n      <th>1</th>\n      <td>1343092.0</td>\n      <td>3.0</td>\n    </tr>\n    <tr>\n      <th>2</th>\n      <td>2069861.0</td>\n      <td>3.0</td>\n    </tr>\n    <tr>\n      <th>3</th>\n      <td>2267368.0</td>\n      <td>2.0</td>\n    </tr>\n    <tr>\n      <th>4</th>\n      <td>13560124.0</td>\n      <td>2.0</td>\n    </tr>\n    <tr>\n      <th>5</th>\n      <td>5092484.0</td>\n      <td>2.0</td>\n    </tr>\n    <tr>\n      <th>6</th>\n      <td>2365001.0</td>\n      <td>2.0</td>\n    </tr>\n    <tr>\n      <th>7</th>\n      <td>373862.0</td>\n      <td>2.0</td>\n    </tr>\n    <tr>\n      <th>8</th>\n      <td>88763.0</td>\n      <td>1.0</td>\n    </tr>\n    <tr>\n      <th>9</th>\n      <td>46912.0</td>\n      <td>1.0</td>\n    </tr>\n    <tr>\n      <th>10</th>\n      <td>112471.0</td>\n      <td>1.0</td>\n    </tr>\n    <tr>\n      <th>11</th>\n      <td>381681.0</td>\n      <td>1.0</td>\n    </tr>\n    <tr>\n      <th>12</th>\n      <td>306414.0</td>\n      <td>1.0</td>\n    </tr>\n    <tr>\n      <th>13</th>\n      <td>1877514.0</td>\n      <td>3.0</td>\n    </tr>\n    <tr>\n      <th>14</th>\n      <td>98769.0</td>\n      <td>3.0</td>\n    </tr>\n  </tbody>\n</table>\n</div>"
     },
     "execution_count": 14,
     "metadata": {},
     "output_type": "execute_result"
    }
   ],
   "source": [
    "\"\"\"\n",
    "Creation of the Posting df for the terms american\n",
    "\"\"\"\n",
    "# get Movie_IDs for the word american\n",
    "term_american = inverted_index[inverted_index[\"Term\"]== \"american\"]\n",
    "movie_id_american = term_american[\"Movie_IDs\"].iloc[0]\n",
    "\n",
    "df_american = pd.DataFrame({\n",
    "    \"Movie_IDs\": [],\n",
    "    \"Count\": []\n",
    "})\n",
    "for element in movie_id_american:\n",
    "    new_row = pd.DataFrame({\"Movie_IDs\": [element[0]], \"Count\": [element[1]]}) # generate new row for inverted index\n",
    "    df_american = pd.concat([df_american, new_row], ignore_index=True) # add plotterm and movieid to inverted index\n",
    "\n",
    "df_american\n",
    "\n"
   ],
   "metadata": {
    "collapsed": false,
    "ExecuteTime": {
     "end_time": "2024-04-10T19:21:40.918556Z",
     "start_time": "2024-04-10T19:21:40.904743Z"
    }
   },
   "execution_count": 14
  },
  {
   "cell_type": "code",
   "outputs": [
    {
     "data": {
      "text/plain": "    Movie_IDs  Count\n0    120669.0    4.0\n1   1343092.0    4.0\n2   2069861.0    3.0\n3   2267368.0    2.0\n4  13560124.0    2.0\n5   5092484.0    2.0\n6   2365001.0    2.0\n7    373862.0    2.0\n8   1375666.0    1.0\n9    108778.0    3.0",
      "text/html": "<div>\n<style scoped>\n    .dataframe tbody tr th:only-of-type {\n        vertical-align: middle;\n    }\n\n    .dataframe tbody tr th {\n        vertical-align: top;\n    }\n\n    .dataframe thead th {\n        text-align: right;\n    }\n</style>\n<table border=\"1\" class=\"dataframe\">\n  <thead>\n    <tr style=\"text-align: right;\">\n      <th></th>\n      <th>Movie_IDs</th>\n      <th>Count</th>\n    </tr>\n  </thead>\n  <tbody>\n    <tr>\n      <th>0</th>\n      <td>120669.0</td>\n      <td>4.0</td>\n    </tr>\n    <tr>\n      <th>1</th>\n      <td>1343092.0</td>\n      <td>4.0</td>\n    </tr>\n    <tr>\n      <th>2</th>\n      <td>2069861.0</td>\n      <td>3.0</td>\n    </tr>\n    <tr>\n      <th>3</th>\n      <td>2267368.0</td>\n      <td>2.0</td>\n    </tr>\n    <tr>\n      <th>4</th>\n      <td>13560124.0</td>\n      <td>2.0</td>\n    </tr>\n    <tr>\n      <th>5</th>\n      <td>5092484.0</td>\n      <td>2.0</td>\n    </tr>\n    <tr>\n      <th>6</th>\n      <td>2365001.0</td>\n      <td>2.0</td>\n    </tr>\n    <tr>\n      <th>7</th>\n      <td>373862.0</td>\n      <td>2.0</td>\n    </tr>\n    <tr>\n      <th>8</th>\n      <td>1375666.0</td>\n      <td>1.0</td>\n    </tr>\n    <tr>\n      <th>9</th>\n      <td>108778.0</td>\n      <td>3.0</td>\n    </tr>\n  </tbody>\n</table>\n</div>"
     },
     "execution_count": 15,
     "metadata": {},
     "output_type": "execute_result"
    }
   ],
   "source": [
    "\"\"\"\n",
    "Creation of the Posting df for the terms dream\n",
    "\"\"\"\n",
    "# get Movie_IDs for the word american\n",
    "term_dream = inverted_index[inverted_index[\"Term\"]== \"dream\"]\n",
    "movie_id_dream = term_dream[\"Movie_IDs\"].iloc[0]\n",
    "\n",
    "df_dream = pd.DataFrame({\n",
    "    \"Movie_IDs\": [],\n",
    "    \"Count\": []\n",
    "})\n",
    "for element in movie_id_dream:\n",
    "    new_row = pd.DataFrame({\"Movie_IDs\": [element[0]], \"Count\": [element[1]]}) # generate new row for inverted index\n",
    "    df_dream = pd.concat([df_dream, new_row], ignore_index=True) # add plotterm and movieid to inverted index\n",
    "\n",
    "df_dream"
   ],
   "metadata": {
    "collapsed": false,
    "ExecuteTime": {
     "end_time": "2024-04-10T19:21:40.935697Z",
     "start_time": "2024-04-10T19:21:40.919661Z"
    }
   },
   "execution_count": 15
  },
  {
   "cell_type": "code",
   "outputs": [
    {
     "data": {
      "text/plain": "    Movie_IDs  Count dream  Count american  Total Count\n0    120669.0          4.0             5.0          9.0\n1   1343092.0          4.0             3.0          7.0\n2   2069861.0          3.0             3.0          6.0\n3   2267368.0          2.0             2.0          4.0\n4  13560124.0          2.0             2.0          4.0\n5   5092484.0          2.0             2.0          4.0\n6   2365001.0          2.0             2.0          4.0\n7    373862.0          2.0             2.0          4.0",
      "text/html": "<div>\n<style scoped>\n    .dataframe tbody tr th:only-of-type {\n        vertical-align: middle;\n    }\n\n    .dataframe tbody tr th {\n        vertical-align: top;\n    }\n\n    .dataframe thead th {\n        text-align: right;\n    }\n</style>\n<table border=\"1\" class=\"dataframe\">\n  <thead>\n    <tr style=\"text-align: right;\">\n      <th></th>\n      <th>Movie_IDs</th>\n      <th>Count dream</th>\n      <th>Count american</th>\n      <th>Total Count</th>\n    </tr>\n  </thead>\n  <tbody>\n    <tr>\n      <th>0</th>\n      <td>120669.0</td>\n      <td>4.0</td>\n      <td>5.0</td>\n      <td>9.0</td>\n    </tr>\n    <tr>\n      <th>1</th>\n      <td>1343092.0</td>\n      <td>4.0</td>\n      <td>3.0</td>\n      <td>7.0</td>\n    </tr>\n    <tr>\n      <th>2</th>\n      <td>2069861.0</td>\n      <td>3.0</td>\n      <td>3.0</td>\n      <td>6.0</td>\n    </tr>\n    <tr>\n      <th>3</th>\n      <td>2267368.0</td>\n      <td>2.0</td>\n      <td>2.0</td>\n      <td>4.0</td>\n    </tr>\n    <tr>\n      <th>4</th>\n      <td>13560124.0</td>\n      <td>2.0</td>\n      <td>2.0</td>\n      <td>4.0</td>\n    </tr>\n    <tr>\n      <th>5</th>\n      <td>5092484.0</td>\n      <td>2.0</td>\n      <td>2.0</td>\n      <td>4.0</td>\n    </tr>\n    <tr>\n      <th>6</th>\n      <td>2365001.0</td>\n      <td>2.0</td>\n      <td>2.0</td>\n      <td>4.0</td>\n    </tr>\n    <tr>\n      <th>7</th>\n      <td>373862.0</td>\n      <td>2.0</td>\n      <td>2.0</td>\n      <td>4.0</td>\n    </tr>\n  </tbody>\n</table>\n</div>"
     },
     "execution_count": 16,
     "metadata": {},
     "output_type": "execute_result"
    }
   ],
   "source": [
    "\"\"\"\n",
    "Merging the dream and american posting df and sorting it by occurence \n",
    "\"\"\"\n",
    "df_dream_american = pd.merge(df_dream,df_american, how=\"inner\", on=\"Movie_IDs\")\n",
    "df_dream_american.sort_values(by=\"Count_x\" and \"Count_y\", ascending=False, inplace=True)\n",
    "df_dream_american = df_dream_american.rename(columns={\"Count_x\": \"Count dream\", \"Count_y\": \"Count american\"})\n",
    "df_dream_american['Total Count'] = df_dream_american['Count dream'] + df_dream_american['Count american']\n",
    "df_dream_american"
   ],
   "metadata": {
    "collapsed": false,
    "ExecuteTime": {
     "end_time": "2024-04-10T19:21:40.950033Z",
     "start_time": "2024-04-10T19:21:40.936835Z"
    }
   },
   "execution_count": 16
  },
  {
   "cell_type": "code",
   "outputs": [
    {
     "data": {
      "text/plain": "         id   kind                           title              languages  \\\n0    120669  movie  Fear and Loathing in Las Vegas            ['English']   \n1   1343092  movie                The Great Gatsby            ['English']   \n2   2069861  movie               My Favorite Movie            ['English']   \n3   2267368  movie                     Joshua Tree            ['English']   \n4  13560124  movie                   After America  ['English', 'Somali']   \n\n                             genres  rating       director  \\\n0  ['Adventure', 'Comedy', 'Drama']     7.5  Terry Gilliam   \n1              ['Drama', 'Romance']     7.2   Baz Luhrmann   \n2              ['Comedy', 'Family']     8.4  Martin Rogers   \n3                         ['Drama']     6.6       Li Cheng   \n4   ['Drama', 'Fantasy', 'Mystery']     4.5     Jake Yuzna   \n\n  cumulative worldwide gross opening weekend united states budget  \\\n0                          0                             0      0   \n1                          0                             0      0   \n2                          0                             0      0   \n3                          0                             0      0   \n4                          0                             0      0   \n\n                                                plot  \\\n0  ['An oddball journalist and his psychopathic l...   \n1  ['A writer and wall street trader, Nick, finds...   \n2  ['Dave has the American Dream and hates it. Hi...   \n3  ['Set in the U.S. heartland following the 2008...   \n4  ['A group of criminal justice de-escalation wo...   \n\n                                           plotterms  \n0   oddball journalist psychopathic lawyer travel...  \n1   writer wall street trader nick finds drawn li...  \n2  dave american dream hates eccentric friends ha...  \n3  set heartland 2008 economic collapse divorced ...  \n4   group criminal justice deescalation workers m...  ",
      "text/html": "<div>\n<style scoped>\n    .dataframe tbody tr th:only-of-type {\n        vertical-align: middle;\n    }\n\n    .dataframe tbody tr th {\n        vertical-align: top;\n    }\n\n    .dataframe thead th {\n        text-align: right;\n    }\n</style>\n<table border=\"1\" class=\"dataframe\">\n  <thead>\n    <tr style=\"text-align: right;\">\n      <th></th>\n      <th>id</th>\n      <th>kind</th>\n      <th>title</th>\n      <th>languages</th>\n      <th>genres</th>\n      <th>rating</th>\n      <th>director</th>\n      <th>cumulative worldwide gross</th>\n      <th>opening weekend united states</th>\n      <th>budget</th>\n      <th>plot</th>\n      <th>plotterms</th>\n    </tr>\n  </thead>\n  <tbody>\n    <tr>\n      <th>0</th>\n      <td>120669</td>\n      <td>movie</td>\n      <td>Fear and Loathing in Las Vegas</td>\n      <td>['English']</td>\n      <td>['Adventure', 'Comedy', 'Drama']</td>\n      <td>7.5</td>\n      <td>Terry Gilliam</td>\n      <td>0</td>\n      <td>0</td>\n      <td>0</td>\n      <td>['An oddball journalist and his psychopathic l...</td>\n      <td>oddball journalist psychopathic lawyer travel...</td>\n    </tr>\n    <tr>\n      <th>1</th>\n      <td>1343092</td>\n      <td>movie</td>\n      <td>The Great Gatsby</td>\n      <td>['English']</td>\n      <td>['Drama', 'Romance']</td>\n      <td>7.2</td>\n      <td>Baz Luhrmann</td>\n      <td>0</td>\n      <td>0</td>\n      <td>0</td>\n      <td>['A writer and wall street trader, Nick, finds...</td>\n      <td>writer wall street trader nick finds drawn li...</td>\n    </tr>\n    <tr>\n      <th>2</th>\n      <td>2069861</td>\n      <td>movie</td>\n      <td>My Favorite Movie</td>\n      <td>['English']</td>\n      <td>['Comedy', 'Family']</td>\n      <td>8.4</td>\n      <td>Martin Rogers</td>\n      <td>0</td>\n      <td>0</td>\n      <td>0</td>\n      <td>['Dave has the American Dream and hates it. Hi...</td>\n      <td>dave american dream hates eccentric friends ha...</td>\n    </tr>\n    <tr>\n      <th>3</th>\n      <td>2267368</td>\n      <td>movie</td>\n      <td>Joshua Tree</td>\n      <td>['English']</td>\n      <td>['Drama']</td>\n      <td>6.6</td>\n      <td>Li Cheng</td>\n      <td>0</td>\n      <td>0</td>\n      <td>0</td>\n      <td>['Set in the U.S. heartland following the 2008...</td>\n      <td>set heartland 2008 economic collapse divorced ...</td>\n    </tr>\n    <tr>\n      <th>4</th>\n      <td>13560124</td>\n      <td>movie</td>\n      <td>After America</td>\n      <td>['English', 'Somali']</td>\n      <td>['Drama', 'Fantasy', 'Mystery']</td>\n      <td>4.5</td>\n      <td>Jake Yuzna</td>\n      <td>0</td>\n      <td>0</td>\n      <td>0</td>\n      <td>['A group of criminal justice de-escalation wo...</td>\n      <td>group criminal justice deescalation workers m...</td>\n    </tr>\n  </tbody>\n</table>\n</div>"
     },
     "execution_count": 17,
     "metadata": {},
     "output_type": "execute_result"
    }
   ],
   "source": [
    "\"\"\"\n",
    "Creating a Posting list and query the query\n",
    "\"\"\"\n",
    "# Creating a cummultative score \n",
    "top_five_dream_american = df_dream_american.head(5)\n",
    "postinglist = list(top_five_dream_american[\"Movie_IDs\"])\n",
    "imdb[imdb[\"id\"].isin(postinglist)]"
   ],
   "metadata": {
    "collapsed": false,
    "ExecuteTime": {
     "end_time": "2024-04-10T19:21:40.962253Z",
     "start_time": "2024-04-10T19:21:40.951108Z"
    }
   },
   "execution_count": 17
  },
  {
   "cell_type": "markdown",
   "metadata": {},
   "source": [
    "##### __(f) Use the TF-IDF score and the cosine similarity to execute the query 'american' and 'dream' (the term 'american' as well as the term 'dream' should be contained in the plot) against all plots in the collection. Print the results with the corresponding ranking score. Also execute the query 'american' or 'dream' (the term 'american' or the term 'dream' should be contained in the plot).  [1.5 points]__"
   ]
  },
  {
   "cell_type": "code",
   "execution_count": 26,
   "metadata": {
    "collapsed": false,
    "ExecuteTime": {
     "end_time": "2024-04-10T19:32:59.655990Z",
     "start_time": "2024-04-10T19:32:59.636013Z"
    }
   },
   "outputs": [
    {
     "data": {
      "text/plain": "         id   kind                           title                 languages  \\\n0    120669  movie  Fear and Loathing in Las Vegas               ['English']   \n5   5092484  movie                      Beneath Us    ['English', 'Spanish']   \n3   2267368  movie                     Joshua Tree               ['English']   \n2   2069861  movie               My Favorite Movie               ['English']   \n4  13560124  movie                   After America     ['English', 'Somali']   \n7    373862  movie                           Getno  ['Hungarian', 'English']   \n6   2365001  movie                       Immigrant               ['English']   \n1   1343092  movie                The Great Gatsby               ['English']   \n\n                             genres  rating        director  \\\n0  ['Adventure', 'Comedy', 'Drama']     7.5   Terry Gilliam   \n5            ['Horror', 'Thriller']     5.3     Max Pachman   \n3                         ['Drama']     6.6        Li Cheng   \n2              ['Comedy', 'Family']     8.4   Martin Rogers   \n4   ['Drama', 'Fantasy', 'Mystery']     4.5      Jake Yuzna   \n7                        ['Comedy']     4.0  András Salamon   \n6                         ['Drama']     5.8  Barry Shurchin   \n1              ['Drama', 'Romance']     7.2    Baz Luhrmann   \n\n  cumulative worldwide gross opening weekend united states budget  \\\n0                          0                             0      0   \n5                          0                             0      0   \n3                          0                             0      0   \n2                          0                             0      0   \n4                          0                             0      0   \n7                          0                             0      0   \n6                          0                             0      0   \n1                          0                             0      0   \n\n                                                plot  \\\n0  ['An oddball journalist and his psychopathic l...   \n5  ['The American Dream becomes a nightmare for a...   \n3  ['Set in the U.S. heartland following the 2008...   \n2  ['Dave has the American Dream and hates it. Hi...   \n4  ['A group of criminal justice de-escalation wo...   \n7  ['Following the promise of the American Dream,...   \n6  ['The coming of age story of a young Russian i...   \n1  ['A writer and wall street trader, Nick, finds...   \n\n                                           plotterms   Movie_IDs  Count dream  \\\n0   oddball journalist psychopathic lawyer travel...    120669.0          4.0   \n5   american dream nightmare group undocumented d...   5092484.0          2.0   \n3  set heartland 2008 economic collapse divorced ...   2267368.0          2.0   \n2  dave american dream hates eccentric friends ha...   2069861.0          3.0   \n4   group criminal justice deescalation workers m...  13560124.0          2.0   \n7   promise american dream jancsi major family wh...    373862.0          2.0   \n6   coming age story young russian immigrant sear...   2365001.0          2.0   \n1   writer wall street trader nick finds drawn li...   1343092.0          4.0   \n\n   Count american  Total Count  tfidf_dream  tfidf_american  tfidf_Total  \n0             5.0          9.0     0.105249        0.112614     0.217863  \n5             2.0          4.0     0.117309        0.100414     0.217723  \n3             2.0          4.0     0.114915        0.098365     0.213280  \n2             3.0          6.0     0.112616        0.096398     0.209014  \n4             2.0          4.0     0.106242        0.090941     0.197183  \n7             2.0          4.0     0.092308        0.079015     0.171323  \n6             2.0          4.0     0.061205        0.052390     0.113595  \n1             3.0          7.0     0.036095        0.023173     0.059268  ",
      "text/html": "<div>\n<style scoped>\n    .dataframe tbody tr th:only-of-type {\n        vertical-align: middle;\n    }\n\n    .dataframe tbody tr th {\n        vertical-align: top;\n    }\n\n    .dataframe thead th {\n        text-align: right;\n    }\n</style>\n<table border=\"1\" class=\"dataframe\">\n  <thead>\n    <tr style=\"text-align: right;\">\n      <th></th>\n      <th>id</th>\n      <th>kind</th>\n      <th>title</th>\n      <th>languages</th>\n      <th>genres</th>\n      <th>rating</th>\n      <th>director</th>\n      <th>cumulative worldwide gross</th>\n      <th>opening weekend united states</th>\n      <th>budget</th>\n      <th>plot</th>\n      <th>plotterms</th>\n      <th>Movie_IDs</th>\n      <th>Count dream</th>\n      <th>Count american</th>\n      <th>Total Count</th>\n      <th>tfidf_dream</th>\n      <th>tfidf_american</th>\n      <th>tfidf_Total</th>\n    </tr>\n  </thead>\n  <tbody>\n    <tr>\n      <th>0</th>\n      <td>120669</td>\n      <td>movie</td>\n      <td>Fear and Loathing in Las Vegas</td>\n      <td>['English']</td>\n      <td>['Adventure', 'Comedy', 'Drama']</td>\n      <td>7.5</td>\n      <td>Terry Gilliam</td>\n      <td>0</td>\n      <td>0</td>\n      <td>0</td>\n      <td>['An oddball journalist and his psychopathic l...</td>\n      <td>oddball journalist psychopathic lawyer travel...</td>\n      <td>120669.0</td>\n      <td>4.0</td>\n      <td>5.0</td>\n      <td>9.0</td>\n      <td>0.105249</td>\n      <td>0.112614</td>\n      <td>0.217863</td>\n    </tr>\n    <tr>\n      <th>5</th>\n      <td>5092484</td>\n      <td>movie</td>\n      <td>Beneath Us</td>\n      <td>['English', 'Spanish']</td>\n      <td>['Horror', 'Thriller']</td>\n      <td>5.3</td>\n      <td>Max Pachman</td>\n      <td>0</td>\n      <td>0</td>\n      <td>0</td>\n      <td>['The American Dream becomes a nightmare for a...</td>\n      <td>american dream nightmare group undocumented d...</td>\n      <td>5092484.0</td>\n      <td>2.0</td>\n      <td>2.0</td>\n      <td>4.0</td>\n      <td>0.117309</td>\n      <td>0.100414</td>\n      <td>0.217723</td>\n    </tr>\n    <tr>\n      <th>3</th>\n      <td>2267368</td>\n      <td>movie</td>\n      <td>Joshua Tree</td>\n      <td>['English']</td>\n      <td>['Drama']</td>\n      <td>6.6</td>\n      <td>Li Cheng</td>\n      <td>0</td>\n      <td>0</td>\n      <td>0</td>\n      <td>['Set in the U.S. heartland following the 2008...</td>\n      <td>set heartland 2008 economic collapse divorced ...</td>\n      <td>2267368.0</td>\n      <td>2.0</td>\n      <td>2.0</td>\n      <td>4.0</td>\n      <td>0.114915</td>\n      <td>0.098365</td>\n      <td>0.213280</td>\n    </tr>\n    <tr>\n      <th>2</th>\n      <td>2069861</td>\n      <td>movie</td>\n      <td>My Favorite Movie</td>\n      <td>['English']</td>\n      <td>['Comedy', 'Family']</td>\n      <td>8.4</td>\n      <td>Martin Rogers</td>\n      <td>0</td>\n      <td>0</td>\n      <td>0</td>\n      <td>['Dave has the American Dream and hates it. Hi...</td>\n      <td>dave american dream hates eccentric friends ha...</td>\n      <td>2069861.0</td>\n      <td>3.0</td>\n      <td>3.0</td>\n      <td>6.0</td>\n      <td>0.112616</td>\n      <td>0.096398</td>\n      <td>0.209014</td>\n    </tr>\n    <tr>\n      <th>4</th>\n      <td>13560124</td>\n      <td>movie</td>\n      <td>After America</td>\n      <td>['English', 'Somali']</td>\n      <td>['Drama', 'Fantasy', 'Mystery']</td>\n      <td>4.5</td>\n      <td>Jake Yuzna</td>\n      <td>0</td>\n      <td>0</td>\n      <td>0</td>\n      <td>['A group of criminal justice de-escalation wo...</td>\n      <td>group criminal justice deescalation workers m...</td>\n      <td>13560124.0</td>\n      <td>2.0</td>\n      <td>2.0</td>\n      <td>4.0</td>\n      <td>0.106242</td>\n      <td>0.090941</td>\n      <td>0.197183</td>\n    </tr>\n    <tr>\n      <th>7</th>\n      <td>373862</td>\n      <td>movie</td>\n      <td>Getno</td>\n      <td>['Hungarian', 'English']</td>\n      <td>['Comedy']</td>\n      <td>4.0</td>\n      <td>András Salamon</td>\n      <td>0</td>\n      <td>0</td>\n      <td>0</td>\n      <td>['Following the promise of the American Dream,...</td>\n      <td>promise american dream jancsi major family wh...</td>\n      <td>373862.0</td>\n      <td>2.0</td>\n      <td>2.0</td>\n      <td>4.0</td>\n      <td>0.092308</td>\n      <td>0.079015</td>\n      <td>0.171323</td>\n    </tr>\n    <tr>\n      <th>6</th>\n      <td>2365001</td>\n      <td>movie</td>\n      <td>Immigrant</td>\n      <td>['English']</td>\n      <td>['Drama']</td>\n      <td>5.8</td>\n      <td>Barry Shurchin</td>\n      <td>0</td>\n      <td>0</td>\n      <td>0</td>\n      <td>['The coming of age story of a young Russian i...</td>\n      <td>coming age story young russian immigrant sear...</td>\n      <td>2365001.0</td>\n      <td>2.0</td>\n      <td>2.0</td>\n      <td>4.0</td>\n      <td>0.061205</td>\n      <td>0.052390</td>\n      <td>0.113595</td>\n    </tr>\n    <tr>\n      <th>1</th>\n      <td>1343092</td>\n      <td>movie</td>\n      <td>The Great Gatsby</td>\n      <td>['English']</td>\n      <td>['Drama', 'Romance']</td>\n      <td>7.2</td>\n      <td>Baz Luhrmann</td>\n      <td>0</td>\n      <td>0</td>\n      <td>0</td>\n      <td>['A writer and wall street trader, Nick, finds...</td>\n      <td>writer wall street trader nick finds drawn li...</td>\n      <td>1343092.0</td>\n      <td>4.0</td>\n      <td>3.0</td>\n      <td>7.0</td>\n      <td>0.036095</td>\n      <td>0.023173</td>\n      <td>0.059268</td>\n    </tr>\n  </tbody>\n</table>\n</div>"
     },
     "execution_count": 26,
     "metadata": {},
     "output_type": "execute_result"
    }
   ],
   "source": [
    "\"\"\"\n",
    "TF-IDF\n",
    "\"\"\"\n",
    "import math\n",
    "# Function used for counting words (plotterms, without stop words)\n",
    "def count_words(text):\n",
    "    return len(text.split())\n",
    "# Calculate idf\n",
    "count_of_documents = len(imdb)\n",
    "count_of_documents_with_term_dream = len(df_dream)\n",
    "count_of_documents_with_term_american = len(df_american)\n",
    "idf_dream = math.log(count_of_documents/ count_of_documents_with_term_dream)\n",
    "idf_american = math.log(count_of_documents/ count_of_documents_with_term_american)\n",
    "# Calculate tf and tf idf\n",
    "df_dream_american['tfidf_dream'] = (df_dream_american['Count dream']) / (imdb['plotterms'].apply(count_words)) * idf_dream\n",
    "df_dream_american['tfidf_american'] = (df_dream_american['Count american']) / (imdb['plotterms'].apply(count_words)) * idf_american\n",
    "df_dream_american['tfidf_Total'] = df_dream_american['tfidf_dream'] + df_dream_american['tfidf_american']\n",
    "df_output = pd.merge(imdb, df_dream_american, left_on='id', right_on='Movie_IDs', how='inner')\n",
    "df_output.sort_values(by='tfidf_Total', ascending=False)"
   ]
  },
  {
   "cell_type": "code",
   "outputs": [
    {
     "data": {
      "text/plain": "       Movie_ID                                              Terms\n0      120669.0  [1, 2, 1, 3, 1, 2, 2, 1, 2, 1, 1, 1, 2, 2, 1, ...\n1     1343092.0  [0, 0, 0, 0, 0, 0, 0, 0, 0, 0, 0, 0, 0, 0, 0, ...\n2     2069861.0  [0, 0, 0, 0, 0, 0, 0, 0, 0, 0, 0, 0, 0, 0, 0, ...\n3     2267368.0  [0, 0, 0, 0, 0, 0, 0, 0, 0, 0, 0, 0, 0, 0, 0, ...\n4    13560124.0  [0, 0, 0, 0, 0, 0, 0, 0, 0, 0, 0, 0, 0, 0, 0, ...\n..          ...                                                ...\n162   2085059.0  [0, 0, 0, 0, 0, 1, 0, 4, 0, 0, 0, 0, 0, 0, 0, ...\n163   2707408.0  [0, 0, 0, 0, 0, 0, 0, 0, 0, 0, 0, 0, 0, 0, 0, ...\n164     98936.0  [0, 0, 0, 0, 0, 1, 0, 0, 0, 0, 0, 0, 0, 0, 0, ...\n165   4934214.0  [0, 0, 0, 0, 0, 0, 0, 2, 0, 0, 0, 0, 0, 0, 0, ...\n166    200276.0  [0, 0, 0, 0, 0, 0, 0, 1, 0, 0, 0, 0, 0, 0, 0, ...\n\n[167 rows x 2 columns]",
      "text/html": "<div>\n<style scoped>\n    .dataframe tbody tr th:only-of-type {\n        vertical-align: middle;\n    }\n\n    .dataframe tbody tr th {\n        vertical-align: top;\n    }\n\n    .dataframe thead th {\n        text-align: right;\n    }\n</style>\n<table border=\"1\" class=\"dataframe\">\n  <thead>\n    <tr style=\"text-align: right;\">\n      <th></th>\n      <th>Movie_ID</th>\n      <th>Terms</th>\n    </tr>\n  </thead>\n  <tbody>\n    <tr>\n      <th>0</th>\n      <td>120669.0</td>\n      <td>[1, 2, 1, 3, 1, 2, 2, 1, 2, 1, 1, 1, 2, 2, 1, ...</td>\n    </tr>\n    <tr>\n      <th>1</th>\n      <td>1343092.0</td>\n      <td>[0, 0, 0, 0, 0, 0, 0, 0, 0, 0, 0, 0, 0, 0, 0, ...</td>\n    </tr>\n    <tr>\n      <th>2</th>\n      <td>2069861.0</td>\n      <td>[0, 0, 0, 0, 0, 0, 0, 0, 0, 0, 0, 0, 0, 0, 0, ...</td>\n    </tr>\n    <tr>\n      <th>3</th>\n      <td>2267368.0</td>\n      <td>[0, 0, 0, 0, 0, 0, 0, 0, 0, 0, 0, 0, 0, 0, 0, ...</td>\n    </tr>\n    <tr>\n      <th>4</th>\n      <td>13560124.0</td>\n      <td>[0, 0, 0, 0, 0, 0, 0, 0, 0, 0, 0, 0, 0, 0, 0, ...</td>\n    </tr>\n    <tr>\n      <th>...</th>\n      <td>...</td>\n      <td>...</td>\n    </tr>\n    <tr>\n      <th>162</th>\n      <td>2085059.0</td>\n      <td>[0, 0, 0, 0, 0, 1, 0, 4, 0, 0, 0, 0, 0, 0, 0, ...</td>\n    </tr>\n    <tr>\n      <th>163</th>\n      <td>2707408.0</td>\n      <td>[0, 0, 0, 0, 0, 0, 0, 0, 0, 0, 0, 0, 0, 0, 0, ...</td>\n    </tr>\n    <tr>\n      <th>164</th>\n      <td>98936.0</td>\n      <td>[0, 0, 0, 0, 0, 1, 0, 0, 0, 0, 0, 0, 0, 0, 0, ...</td>\n    </tr>\n    <tr>\n      <th>165</th>\n      <td>4934214.0</td>\n      <td>[0, 0, 0, 0, 0, 0, 0, 2, 0, 0, 0, 0, 0, 0, 0, ...</td>\n    </tr>\n    <tr>\n      <th>166</th>\n      <td>200276.0</td>\n      <td>[0, 0, 0, 0, 0, 0, 0, 1, 0, 0, 0, 0, 0, 0, 0, ...</td>\n    </tr>\n  </tbody>\n</table>\n<p>167 rows × 2 columns</p>\n</div>"
     },
     "execution_count": 19,
     "metadata": {},
     "output_type": "execute_result"
    }
   ],
   "source": [
    "\"\"\"\n",
    "Cosine Similarity :\n",
    "creating vectors for cosine similarity comparison \n",
    "\"\"\"\n",
    "\n",
    "#Creating Inverted Index Dataframe\n",
    "plot_vectors = pd.DataFrame({\n",
    "    \"Movie_ID\": [],\n",
    "    \"Terms\": []\n",
    "})\n",
    "\n",
    "for index, row in imdb.iterrows(): # Itterate through each row of the dataframe \n",
    "    movie_id = row[\"id\"] # Get Movie ID from Every Movie\n",
    "    vector = []\n",
    "    for term in inverted_index[\"Term\"]: # Itterate through every unique plotterm\n",
    "        occurrence = imdb.loc[index][\"plotterms\"].count(term)\n",
    "        vector.append(occurrence)\n",
    "    new_row = pd.DataFrame({\"Movie_ID\": [movie_id], \"Terms\": [vector]}) # generate new row for inverted index\n",
    "    plot_vectors = pd.concat([plot_vectors, new_row], ignore_index=True) # add plotterm and movieid to inverted index\n",
    "\n",
    "\n",
    "plot_vectors"
   ],
   "metadata": {
    "collapsed": false,
    "ExecuteTime": {
     "end_time": "2024-04-10T19:22:20.742577Z",
     "start_time": "2024-04-10T19:21:56.565147Z"
    }
   },
   "execution_count": 19
  },
  {
   "cell_type": "code",
   "outputs": [
    {
     "data": {
      "text/plain": "                      American&Dream containing Vector ID: 120669.0  \\\nVector_ID: 111161.0                                        0.135698   \nVector_ID: 68646.0                                         0.216673   \nVector_ID: 468569.0                                        0.255284   \nVector_ID: 108052.0                                        0.134401   \nVector_ID: 110912.0                                        0.320574   \n...                                                             ...   \nVector_ID: 2085059.0                                       0.280883   \nVector_ID: 2707408.0                                       0.368689   \nVector_ID: 98936.0                                         0.328875   \nVector_ID: 4934214.0                                       0.267425   \nVector_ID: 200276.0                                        0.362635   \n\n                      American&Dream containing Vector ID: 1343092.0  \\\nVector_ID: 111161.0                                         0.153428   \nVector_ID: 68646.0                                          0.259119   \nVector_ID: 468569.0                                         0.299995   \nVector_ID: 108052.0                                         0.215816   \nVector_ID: 110912.0                                         0.408532   \n...                                                              ...   \nVector_ID: 2085059.0                                        0.417381   \nVector_ID: 2707408.0                                        0.339638   \nVector_ID: 98936.0                                          0.428386   \nVector_ID: 4934214.0                                        0.352013   \nVector_ID: 200276.0                                         0.372649   \n\n                      American&Dream containing Vector ID: 2069861.0  \\\nVector_ID: 111161.0                                         0.163556   \nVector_ID: 68646.0                                          0.196910   \nVector_ID: 468569.0                                         0.182612   \nVector_ID: 108052.0                                         0.164423   \nVector_ID: 110912.0                                         0.257112   \n...                                                              ...   \nVector_ID: 2085059.0                                        0.256889   \nVector_ID: 2707408.0                                        0.195691   \nVector_ID: 98936.0                                          0.258859   \nVector_ID: 4934214.0                                        0.241476   \nVector_ID: 200276.0                                         0.212134   \n\n                      American&Dream containing Vector ID: 2267368.0  \\\nVector_ID: 111161.0                                         0.076447   \nVector_ID: 68646.0                                          0.167161   \nVector_ID: 468569.0                                         0.150878   \nVector_ID: 108052.0                                         0.048795   \nVector_ID: 110912.0                                         0.243599   \n...                                                              ...   \nVector_ID: 2085059.0                                        0.276026   \nVector_ID: 2707408.0                                        0.263371   \nVector_ID: 98936.0                                          0.271967   \nVector_ID: 4934214.0                                        0.165188   \nVector_ID: 200276.0                                         0.212917   \n\n                      American&Dream containing Vector ID: 13560124.0  \\\nVector_ID: 111161.0                                          0.130536   \nVector_ID: 68646.0                                           0.167018   \nVector_ID: 468569.0                                          0.265861   \nVector_ID: 108052.0                                          0.098667   \nVector_ID: 110912.0                                          0.353925   \n...                                                               ...   \nVector_ID: 2085059.0                                         0.300778   \nVector_ID: 2707408.0                                         0.275676   \nVector_ID: 98936.0                                           0.371990   \nVector_ID: 4934214.0                                         0.321753   \nVector_ID: 200276.0                                          0.477141   \n\n                      American&Dream containing Vector ID: 5092484.0  \\\nVector_ID: 111161.0                                         0.139195   \nVector_ID: 68646.0                                          0.222746   \nVector_ID: 468569.0                                         0.233742   \nVector_ID: 108052.0                                         0.170506   \nVector_ID: 110912.0                                         0.339182   \n...                                                              ...   \nVector_ID: 2085059.0                                        0.277163   \nVector_ID: 2707408.0                                        0.224009   \nVector_ID: 98936.0                                          0.323974   \nVector_ID: 4934214.0                                        0.311968   \nVector_ID: 200276.0                                         0.327633   \n\n                      American&Dream containing Vector ID: 2365001.0  \\\nVector_ID: 111161.0                                         0.090738   \nVector_ID: 68646.0                                          0.262603   \nVector_ID: 468569.0                                         0.261246   \nVector_ID: 108052.0                                         0.205494   \nVector_ID: 110912.0                                         0.270604   \n...                                                              ...   \nVector_ID: 2085059.0                                        0.305576   \nVector_ID: 2707408.0                                        0.267343   \nVector_ID: 98936.0                                          0.352486   \nVector_ID: 4934214.0                                        0.235468   \nVector_ID: 200276.0                                         0.261638   \n\n                      American&Dream containing Vector ID: 373862.0  \nVector_ID: 111161.0                                        0.109562  \nVector_ID: 68646.0                                         0.287486  \nVector_ID: 468569.0                                        0.310451  \nVector_ID: 108052.0                                        0.173081  \nVector_ID: 110912.0                                        0.306450  \n...                                                             ...  \nVector_ID: 2085059.0                                       0.382407  \nVector_ID: 2707408.0                                       0.261112  \nVector_ID: 98936.0                                         0.387875  \nVector_ID: 4934214.0                                       0.336273  \nVector_ID: 200276.0                                        0.376254  \n\n[159 rows x 8 columns]",
      "text/html": "<div>\n<style scoped>\n    .dataframe tbody tr th:only-of-type {\n        vertical-align: middle;\n    }\n\n    .dataframe tbody tr th {\n        vertical-align: top;\n    }\n\n    .dataframe thead th {\n        text-align: right;\n    }\n</style>\n<table border=\"1\" class=\"dataframe\">\n  <thead>\n    <tr style=\"text-align: right;\">\n      <th></th>\n      <th>American&amp;Dream containing Vector ID: 120669.0</th>\n      <th>American&amp;Dream containing Vector ID: 1343092.0</th>\n      <th>American&amp;Dream containing Vector ID: 2069861.0</th>\n      <th>American&amp;Dream containing Vector ID: 2267368.0</th>\n      <th>American&amp;Dream containing Vector ID: 13560124.0</th>\n      <th>American&amp;Dream containing Vector ID: 5092484.0</th>\n      <th>American&amp;Dream containing Vector ID: 2365001.0</th>\n      <th>American&amp;Dream containing Vector ID: 373862.0</th>\n    </tr>\n  </thead>\n  <tbody>\n    <tr>\n      <th>Vector_ID: 111161.0</th>\n      <td>0.135698</td>\n      <td>0.153428</td>\n      <td>0.163556</td>\n      <td>0.076447</td>\n      <td>0.130536</td>\n      <td>0.139195</td>\n      <td>0.090738</td>\n      <td>0.109562</td>\n    </tr>\n    <tr>\n      <th>Vector_ID: 68646.0</th>\n      <td>0.216673</td>\n      <td>0.259119</td>\n      <td>0.196910</td>\n      <td>0.167161</td>\n      <td>0.167018</td>\n      <td>0.222746</td>\n      <td>0.262603</td>\n      <td>0.287486</td>\n    </tr>\n    <tr>\n      <th>Vector_ID: 468569.0</th>\n      <td>0.255284</td>\n      <td>0.299995</td>\n      <td>0.182612</td>\n      <td>0.150878</td>\n      <td>0.265861</td>\n      <td>0.233742</td>\n      <td>0.261246</td>\n      <td>0.310451</td>\n    </tr>\n    <tr>\n      <th>Vector_ID: 108052.0</th>\n      <td>0.134401</td>\n      <td>0.215816</td>\n      <td>0.164423</td>\n      <td>0.048795</td>\n      <td>0.098667</td>\n      <td>0.170506</td>\n      <td>0.205494</td>\n      <td>0.173081</td>\n    </tr>\n    <tr>\n      <th>Vector_ID: 110912.0</th>\n      <td>0.320574</td>\n      <td>0.408532</td>\n      <td>0.257112</td>\n      <td>0.243599</td>\n      <td>0.353925</td>\n      <td>0.339182</td>\n      <td>0.270604</td>\n      <td>0.306450</td>\n    </tr>\n    <tr>\n      <th>...</th>\n      <td>...</td>\n      <td>...</td>\n      <td>...</td>\n      <td>...</td>\n      <td>...</td>\n      <td>...</td>\n      <td>...</td>\n      <td>...</td>\n    </tr>\n    <tr>\n      <th>Vector_ID: 2085059.0</th>\n      <td>0.280883</td>\n      <td>0.417381</td>\n      <td>0.256889</td>\n      <td>0.276026</td>\n      <td>0.300778</td>\n      <td>0.277163</td>\n      <td>0.305576</td>\n      <td>0.382407</td>\n    </tr>\n    <tr>\n      <th>Vector_ID: 2707408.0</th>\n      <td>0.368689</td>\n      <td>0.339638</td>\n      <td>0.195691</td>\n      <td>0.263371</td>\n      <td>0.275676</td>\n      <td>0.224009</td>\n      <td>0.267343</td>\n      <td>0.261112</td>\n    </tr>\n    <tr>\n      <th>Vector_ID: 98936.0</th>\n      <td>0.328875</td>\n      <td>0.428386</td>\n      <td>0.258859</td>\n      <td>0.271967</td>\n      <td>0.371990</td>\n      <td>0.323974</td>\n      <td>0.352486</td>\n      <td>0.387875</td>\n    </tr>\n    <tr>\n      <th>Vector_ID: 4934214.0</th>\n      <td>0.267425</td>\n      <td>0.352013</td>\n      <td>0.241476</td>\n      <td>0.165188</td>\n      <td>0.321753</td>\n      <td>0.311968</td>\n      <td>0.235468</td>\n      <td>0.336273</td>\n    </tr>\n    <tr>\n      <th>Vector_ID: 200276.0</th>\n      <td>0.362635</td>\n      <td>0.372649</td>\n      <td>0.212134</td>\n      <td>0.212917</td>\n      <td>0.477141</td>\n      <td>0.327633</td>\n      <td>0.261638</td>\n      <td>0.376254</td>\n    </tr>\n  </tbody>\n</table>\n<p>159 rows × 8 columns</p>\n</div>"
     },
     "execution_count": 20,
     "metadata": {},
     "output_type": "execute_result"
    }
   ],
   "source": [
    "\"\"\"\n",
    "Cosine Similarity :\n",
    "calculation and output\n",
    "\"\"\"\n",
    "from scipy import spatial\n",
    "american_dream_vectors = plot_vectors[plot_vectors[\"Movie_ID\"].isin(df_dream_american[\"Movie_IDs\"])]\n",
    "non_american_dream_vectors = plot_vectors[~plot_vectors[\"Movie_ID\"].isin(df_dream_american[\"Movie_IDs\"])]\n",
    "\n",
    "data = []  # Initialize an empty list to store the similarity data\n",
    "for vector_american_dream in american_dream_vectors[\"Terms\"]:\n",
    "    inner_data = []  # Initialize an empty list to store inner similarity data\n",
    "\n",
    "    # Iterate over the vectors in \"Terms\" from non_american_dream_vectors\n",
    "    for vector_selection in non_american_dream_vectors[\"Terms\"]:\n",
    "        # Calculate the cosine similarity between the current pair of vectors\n",
    "        sim = 1 - spatial.distance.cosine(vector_american_dream, vector_selection)\n",
    "        inner_data.append(sim)  # Append the similarity score to the inner_data list\n",
    "\n",
    "    data.append(inner_data)  # Append the inner_data list to the final data list\n",
    "\n",
    "# Create a DataFrame from the similarity data\n",
    "df_cosine_sim = pd.DataFrame(data, index=[f'American&Dream containing Vector ID: {i}' for i in american_dream_vectors[\"Movie_ID\"]], columns=[f'Vector_ID: {i}' for i in non_american_dream_vectors[\"Movie_ID\"]])\n",
    "\n",
    "# Transpose the DataFrame\n",
    "df_cosine_sim = df_cosine_sim.T\n",
    "\n",
    "# Display the resulting DataFrame\n",
    "df_cosine_sim"
   ],
   "metadata": {
    "collapsed": false,
    "ExecuteTime": {
     "end_time": "2024-04-10T19:22:30.843815Z",
     "start_time": "2024-04-10T19:22:30.109269Z"
    }
   },
   "execution_count": 20
  }
 ],
 "metadata": {
  "kernelspec": {
   "display_name": "Python 3",
   "language": "python",
   "name": "python3"
  },
  "language_info": {
   "codemirror_mode": {
    "name": "ipython",
    "version": 3
   },
   "file_extension": ".py",
   "mimetype": "text/x-python",
   "name": "python",
   "nbconvert_exporter": "python",
   "pygments_lexer": "ipython3",
   "version": "3.8.6"
  }
 },
 "nbformat": 4,
 "nbformat_minor": 4
}
