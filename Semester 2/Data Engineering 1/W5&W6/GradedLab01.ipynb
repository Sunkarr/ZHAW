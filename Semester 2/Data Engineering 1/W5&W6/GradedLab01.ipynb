{
 "cells": [
  {
   "cell_type": "markdown",
   "metadata": {},
   "source": [
    "# Data Engineering 1: Graded Lab 01\n",
    "---------------"
   ]
  },
  {
   "cell_type": "markdown",
   "metadata": {},
   "source": [
    "#### Grading\n",
    "For this graded lab you can get a total of 10 points. These 10 points count 10% of your final grade for the course.\n",
    "\n",
    "#### Start\n",
    "Start of the Graded Lab 01 is **Thursday, March 21st at 23:55**.\n",
    "\n",
    "#### Deadline\n",
    "Deadline for the submission of the Graded Lab 01 is **Thursday, April 11th at 23:59**.\n",
    "\n",
    "#### Note\n",
    "Check each result carefully. Use data filter, cleaning, and transformation methods wherever needed. The data can sometimes be really messy and have hidden issues.\n",
    "\n",
    "#### Submission\n",
    "You are allowed to submit the solution in groups of **two or three** students.\n",
    "Submit your GradedLab01.ipynb file renamed to FirstnameStudent01LastnameStudent01_FirstnameStudent02LastnameStudent02_FirstnameStudent03LastnameStudent03.ipynb in moodle.   \n",
    "Please submit a runnable python jupyter notebook file.\n",
    "All other submissions will be rejected and graded with 0 points."
   ]
  },
  {
   "cell_type": "markdown",
   "metadata": {},
   "source": [
    "##### Task 01: Structured Data [4 points].    \n",
    "The imdb.csv file contains a dataset extracted from IMDB with several attributes. For example, the title, plot, and the language of the movies. Read the imdb.csv file in a pandas dataframe and try to answer the following questions."
   ]
  },
  {
   "cell_type": "markdown",
   "metadata": {},
   "source": [
    "##### __(a)  What is the min, max, and the average value of the attribute 'rating' for all movies? [0.5 points].__ "
   ]
  },
  {
   "cell_type": "code",
   "execution_count": 343,
   "metadata": {
    "ExecuteTime": {
     "end_time": "2024-03-28T16:48:32.658200Z",
     "start_time": "2024-03-28T16:48:32.648691Z"
    }
   },
   "outputs": [
    {
     "name": "stdout",
     "output_type": "stream",
     "text": [
      "Lowest rating: 8.1\n",
      "Highest rating: 9.3\n",
      "Average rating: 8.35\n"
     ]
    }
   ],
   "source": [
    "import pandas as pd\n",
    "\n",
    "imdb = pd.read_csv('../Grundlagen/DE1_GradedLab01/imdb.csv')\n",
    "\n",
    "print(f\"Lowest rating: {imdb['rating'][imdb['kind'] == 'movie'].min()}\")\n",
    "print(f\"Highest rating: {imdb['rating'][imdb['kind'] == 'movie'].max()}\")\n",
    "print(f\"Average rating: {imdb['rating'][imdb['kind'] == 'movie'].mean():.2f}\")"
   ]
  },
  {
   "cell_type": "markdown",
   "metadata": {},
   "source": [
    "##### __(b) What is the min, max, and the average value of the attribute 'cumulative worldwide gross' for all movies? [0.5 points].__ "
   ]
  },
  {
   "cell_type": "code",
   "execution_count": 344,
   "metadata": {
    "collapsed": false,
    "ExecuteTime": {
     "end_time": "2024-03-28T16:48:32.710456Z",
     "start_time": "2024-03-28T16:48:32.705326Z"
    }
   },
   "outputs": [],
   "source": [
    "# Data cleansing\n",
    "imdb['cumulative worldwide gross'] = imdb['cumulative worldwide gross'].str.replace(r'[\\$,]', '', regex=True)\n",
    "imdb['cumulative worldwide gross'] = imdb['cumulative worldwide gross'].str.split().str[0]\n",
    "imdb['cumulative worldwide gross'] = imdb['cumulative worldwide gross'].str.replace('000000000', '0', regex=True)\n",
    "imdb['cumulative worldwide gross'] = pd.to_numeric(imdb['cumulative worldwide gross'], errors='coerce')"
   ]
  },
  {
   "cell_type": "code",
   "outputs": [
    {
     "name": "stdout",
     "output_type": "stream",
     "text": [
      "Lowest cumulative worldwide gross: 6540000\n",
      "Highest cumulative worldwide gross: 2797800564\n",
      "Average cumulative worldwide gross: 390489624.68\n"
     ]
    }
   ],
   "source": [
    "# Queries\n",
    "print(f\"Lowest cumulative worldwide gross: {imdb['cumulative worldwide gross'][imdb['kind'] == 'movie'].min()}\")\n",
    "print(f\"Highest cumulative worldwide gross: {imdb['cumulative worldwide gross'][imdb['kind'] == 'movie'].max()}\")\n",
    "print(f\"Average cumulative worldwide gross: {imdb['cumulative worldwide gross'][imdb['kind'] == 'movie'].mean():.2f}\")"
   ],
   "metadata": {
    "ExecuteTime": {
     "end_time": "2024-03-28T16:48:32.719428Z",
     "start_time": "2024-03-28T16:48:32.711461Z"
    }
   },
   "execution_count": 345
  },
  {
   "cell_type": "markdown",
   "metadata": {},
   "source": [
    "##### __(c) What is the min, max, and the average value of the attribute 'cumulative worldwide gross' grouped by genre of the movies? [1 point].__ "
   ]
  },
  {
   "cell_type": "code",
   "execution_count": 346,
   "metadata": {
    "collapsed": false,
    "ExecuteTime": {
     "end_time": "2024-03-28T16:48:32.728641Z",
     "start_time": "2024-03-28T16:48:32.720435Z"
    }
   },
   "outputs": [],
   "source": [
    "# Convert values of this column to lists\n",
    "imdb['genres'] = imdb['genres'].apply(eval)"
   ]
  },
  {
   "cell_type": "code",
   "outputs": [
    {
     "name": "stdout",
     "output_type": "stream",
     "text": [
      "['Action', 'Adventure', 'Animation', 'Biography', 'Comedy', 'Crime', 'Documentary', 'Drama', 'Family', 'Fantasy', 'Game-Show', 'History', 'Horror', 'Music', 'Musical', 'Mystery', 'News', 'Reality-TV', 'Romance', 'Sci-Fi', 'Sport', 'Talk-Show', 'Thriller', 'War', 'Western']\n"
     ]
    }
   ],
   "source": [
    "# Get all unique genres\n",
    "genres = []\n",
    "for cell in imdb['genres']:\n",
    "    for element in cell:\n",
    "        genres.append(element)\n",
    "\n",
    "genres = list(set(genres))\n",
    "genres.sort()\n",
    "print(genres)\n",
    "\n"
   ],
   "metadata": {
    "ExecuteTime": {
     "end_time": "2024-03-28T16:48:32.736689Z",
     "start_time": "2024-03-28T16:48:32.729754Z"
    }
   },
   "execution_count": 347
  },
  {
   "cell_type": "markdown",
   "metadata": {},
   "source": [
    "##### __(d) What is the profit (defined as cumulative worldwide gross - budget) of each movie? [1 point].__ "
   ]
  },
  {
   "cell_type": "code",
   "execution_count": 348,
   "metadata": {
    "collapsed": false,
    "ExecuteTime": {
     "end_time": "2024-03-28T16:48:32.745921Z",
     "start_time": "2024-03-28T16:48:32.737694Z"
    }
   },
   "outputs": [],
   "source": [
    "# Data cleansing\n",
    "imdb['budget'] = imdb['budget'].str.replace(r'[\\$,]', '', regex=True)\n",
    "imdb['budget'] = imdb['budget'].str.split().str[0]\n",
    "imdb['budget'] = imdb['budget'].str.replace('000000000', '0', regex=True)\n",
    "imdb['budget'] = pd.to_numeric(imdb['budget'], errors='coerce')"
   ]
  },
  {
   "cell_type": "code",
   "outputs": [
    {
     "data": {
      "text/plain": "                                                title  net profit\n0                            The Shawshank Redemption    33500000\n1                                       The Godfather   239066411\n2                                     The Dark Knight   819558444\n3                                    Schindler's List   199000000\n4                                        Pulp Fiction   205928762\n..                                                ...         ...\n92  Pirates of the Caribbean: The Curse of the Bla...   514264015\n93                                            Aladdin   476050219\n94                               Beauty and the Beast   399967620\n95                                           The Help   191639112\n96                                 Dances with Wolves   402200000\n\n[97 rows x 2 columns]",
      "text/html": "<div>\n<style scoped>\n    .dataframe tbody tr th:only-of-type {\n        vertical-align: middle;\n    }\n\n    .dataframe tbody tr th {\n        vertical-align: top;\n    }\n\n    .dataframe thead th {\n        text-align: right;\n    }\n</style>\n<table border=\"1\" class=\"dataframe\">\n  <thead>\n    <tr style=\"text-align: right;\">\n      <th></th>\n      <th>title</th>\n      <th>net profit</th>\n    </tr>\n  </thead>\n  <tbody>\n    <tr>\n      <th>0</th>\n      <td>The Shawshank Redemption</td>\n      <td>33500000</td>\n    </tr>\n    <tr>\n      <th>1</th>\n      <td>The Godfather</td>\n      <td>239066411</td>\n    </tr>\n    <tr>\n      <th>2</th>\n      <td>The Dark Knight</td>\n      <td>819558444</td>\n    </tr>\n    <tr>\n      <th>3</th>\n      <td>Schindler's List</td>\n      <td>199000000</td>\n    </tr>\n    <tr>\n      <th>4</th>\n      <td>Pulp Fiction</td>\n      <td>205928762</td>\n    </tr>\n    <tr>\n      <th>...</th>\n      <td>...</td>\n      <td>...</td>\n    </tr>\n    <tr>\n      <th>92</th>\n      <td>Pirates of the Caribbean: The Curse of the Bla...</td>\n      <td>514264015</td>\n    </tr>\n    <tr>\n      <th>93</th>\n      <td>Aladdin</td>\n      <td>476050219</td>\n    </tr>\n    <tr>\n      <th>94</th>\n      <td>Beauty and the Beast</td>\n      <td>399967620</td>\n    </tr>\n    <tr>\n      <th>95</th>\n      <td>The Help</td>\n      <td>191639112</td>\n    </tr>\n    <tr>\n      <th>96</th>\n      <td>Dances with Wolves</td>\n      <td>402200000</td>\n    </tr>\n  </tbody>\n</table>\n<p>97 rows × 2 columns</p>\n</div>"
     },
     "execution_count": 349,
     "metadata": {},
     "output_type": "execute_result"
    }
   ],
   "source": [
    "# Queries\n",
    "imdb['net profit'] = imdb['cumulative worldwide gross'] - imdb['budget']\n",
    "imdb[['title', 'net profit']][imdb['kind'] == 'movie']"
   ],
   "metadata": {
    "ExecuteTime": {
     "end_time": "2024-03-28T16:48:32.757682Z",
     "start_time": "2024-03-28T16:48:32.745921Z"
    }
   },
   "execution_count": 349
  },
  {
   "cell_type": "markdown",
   "metadata": {},
   "source": [
    "##### __(e)  What is the min, max, and the average value of the atttribute 'opening weekend united states' per month? [1 point].__ "
   ]
  },
  {
   "cell_type": "code",
   "execution_count": 350,
   "metadata": {
    "collapsed": false,
    "ExecuteTime": {
     "end_time": "2024-03-28T16:48:32.765594Z",
     "start_time": "2024-03-28T16:48:32.758387Z"
    }
   },
   "outputs": [],
   "source": [
    "# Data cleansing\n",
    "imdb['opening weekend united states'] = imdb['opening weekend united states'].str.replace(r'[\\$,]', '', regex=True)\n",
    "imdb['opening weekend date united states'] = imdb['opening weekend united states']\n",
    "imdb['opening weekend united states gross'] = imdb['opening weekend united states'].str.split().str[0]\n",
    "imdb['opening weekend date united states'] = imdb['opening weekend date united states'].str.split().str[1:4]"
   ]
  },
  {
   "cell_type": "code",
   "outputs": [],
   "source": [
    "# Cleanup date\n",
    "def parse_date(date):\n",
    "    monats_dict = {\n",
    "        \"Jan\": \"01\", \"Feb\": \"02\", \"Mar\": \"03\", \"Apr\": \"04\",\n",
    "        \"May\": \"05\", \"Jun\": \"06\", \"Jul\": \"07\", \"Aug\": \"08\",\n",
    "        \"Sep\": \"09\", \"Oct\": \"10\", \"Nov\": \"11\", \"Dec\": \"12\"\n",
    "    }\n",
    "    result = f\"{date[0]}.{monats_dict[date[1]]}.{date[2]}\"\n",
    "    return result\n",
    "\n",
    "imdb['opening weekend date united states'] = imdb['opening weekend date united states'][imdb['kind'] == 'movie'].apply(parse_date)"
   ],
   "metadata": {
    "collapsed": false,
    "ExecuteTime": {
     "end_time": "2024-03-28T16:48:32.773572Z",
     "start_time": "2024-03-28T16:48:32.766599Z"
    }
   },
   "execution_count": 351
  },
  {
   "cell_type": "code",
   "outputs": [
    {
     "data": {
      "text/plain": "          id       kind                     title  \\\n0     111161      movie  The Shawshank Redemption   \n1      68646      movie             The Godfather   \n2     468569      movie           The Dark Knight   \n3     108052      movie          Schindler's List   \n4     110912      movie              Pulp Fiction   \n..       ...        ...                       ...   \n154  2085059  tv series              Black Mirror   \n155  2707408  tv series                    Narcos   \n156    98936  tv series                Twin Peaks   \n157  4934214  tv series                Taskmaster   \n158   200276  tv series             The West Wing   \n\n                                             languages  \\\n0                                          ['English']   \n1                      ['English', 'Italian', 'Latin']   \n2                              ['English', 'Mandarin']   \n3    ['English', 'Hebrew', 'German', 'Polish', 'Lat...   \n4                     ['English', 'Spanish', 'French']   \n..                                                 ...   \n154                                        ['English']   \n155                             ['English', 'Spanish']   \n156  ['English', 'Icelandic', 'Afrikaans', 'Norwegi...   \n157                                        ['English']   \n158                                        ['English']   \n\n                                  genres  rating              director  \\\n0                                [Drama]     9.3        Frank Darabont   \n1                         [Crime, Drama]     9.2  Francis Ford Coppola   \n2       [Action, Crime, Drama, Thriller]     9.1     Christopher Nolan   \n3            [Biography, Drama, History]     9.0      Steven Spielberg   \n4                         [Crime, Drama]     8.9     Quentin Tarantino   \n..                                   ...     ...                   ...   \n154   [Drama, Mystery, Sci-Fi, Thriller]     8.8                   NaN   \n155  [Biography, Crime, Drama, Thriller]     8.8                   NaN   \n156    [Crime, Drama, Mystery, Thriller]     8.8                   NaN   \n157                  [Comedy, Game-Show]     9.0                   NaN   \n158                              [Drama]     8.9                   NaN   \n\n     cumulative worldwide gross     budget  \\\n0                      58500000   25000000   \n1                     245066411    6000000   \n2                    1004558444  185000000   \n3                     221000000   22000000   \n4                     213928762    8000000   \n..                          ...        ...   \n154                           0          0   \n155                           0          0   \n156                           0          0   \n157                           0          0   \n158                           0          0   \n\n                                                  plot  net profit  \\\n0    Chronicles the experiences of a formerly succe...    33500000   \n1    The Godfather \"Don\" Vito Corleone is the head ...   239066411   \n2    Set within a year after the events of Batman B...   819558444   \n3    Oskar Schindler is a vain and greedy German bu...   199000000   \n4    Jules Winnfield (Samuel L. Jackson) and Vincen...   205928762   \n..                                                 ...         ...   \n154  [\"An anthology series exploring a twisted, hig...           0   \n155  ['A chronicled look at the criminal exploits o...           0   \n156  ['An idiosyncratic FBI agent investigates the ...           0   \n157  ['Five comedians are set tasks challenging the...           0   \n158  ['Inside the lives of staffers in the West Win...           0   \n\n    opening weekend date united states opening weekend united states gross  \n0                           20.11.1994                              727326  \n1                           04.04.1997                              223758  \n2                           20.07.2008                           158411483  \n3                           09.12.2018                              566760  \n4                           14.10.1994                             9311882  \n..                                 ...                                 ...  \n154                                NaN                           000000000  \n155                                NaN                           000000000  \n156                                NaN                           000000000  \n157                                NaN                           000000000  \n158                                NaN                           000000000  \n\n[159 rows x 13 columns]",
      "text/html": "<div>\n<style scoped>\n    .dataframe tbody tr th:only-of-type {\n        vertical-align: middle;\n    }\n\n    .dataframe tbody tr th {\n        vertical-align: top;\n    }\n\n    .dataframe thead th {\n        text-align: right;\n    }\n</style>\n<table border=\"1\" class=\"dataframe\">\n  <thead>\n    <tr style=\"text-align: right;\">\n      <th></th>\n      <th>id</th>\n      <th>kind</th>\n      <th>title</th>\n      <th>languages</th>\n      <th>genres</th>\n      <th>rating</th>\n      <th>director</th>\n      <th>cumulative worldwide gross</th>\n      <th>budget</th>\n      <th>plot</th>\n      <th>net profit</th>\n      <th>opening weekend date united states</th>\n      <th>opening weekend united states gross</th>\n    </tr>\n  </thead>\n  <tbody>\n    <tr>\n      <th>0</th>\n      <td>111161</td>\n      <td>movie</td>\n      <td>The Shawshank Redemption</td>\n      <td>['English']</td>\n      <td>[Drama]</td>\n      <td>9.3</td>\n      <td>Frank Darabont</td>\n      <td>58500000</td>\n      <td>25000000</td>\n      <td>Chronicles the experiences of a formerly succe...</td>\n      <td>33500000</td>\n      <td>20.11.1994</td>\n      <td>727326</td>\n    </tr>\n    <tr>\n      <th>1</th>\n      <td>68646</td>\n      <td>movie</td>\n      <td>The Godfather</td>\n      <td>['English', 'Italian', 'Latin']</td>\n      <td>[Crime, Drama]</td>\n      <td>9.2</td>\n      <td>Francis Ford Coppola</td>\n      <td>245066411</td>\n      <td>6000000</td>\n      <td>The Godfather \"Don\" Vito Corleone is the head ...</td>\n      <td>239066411</td>\n      <td>04.04.1997</td>\n      <td>223758</td>\n    </tr>\n    <tr>\n      <th>2</th>\n      <td>468569</td>\n      <td>movie</td>\n      <td>The Dark Knight</td>\n      <td>['English', 'Mandarin']</td>\n      <td>[Action, Crime, Drama, Thriller]</td>\n      <td>9.1</td>\n      <td>Christopher Nolan</td>\n      <td>1004558444</td>\n      <td>185000000</td>\n      <td>Set within a year after the events of Batman B...</td>\n      <td>819558444</td>\n      <td>20.07.2008</td>\n      <td>158411483</td>\n    </tr>\n    <tr>\n      <th>3</th>\n      <td>108052</td>\n      <td>movie</td>\n      <td>Schindler's List</td>\n      <td>['English', 'Hebrew', 'German', 'Polish', 'Lat...</td>\n      <td>[Biography, Drama, History]</td>\n      <td>9.0</td>\n      <td>Steven Spielberg</td>\n      <td>221000000</td>\n      <td>22000000</td>\n      <td>Oskar Schindler is a vain and greedy German bu...</td>\n      <td>199000000</td>\n      <td>09.12.2018</td>\n      <td>566760</td>\n    </tr>\n    <tr>\n      <th>4</th>\n      <td>110912</td>\n      <td>movie</td>\n      <td>Pulp Fiction</td>\n      <td>['English', 'Spanish', 'French']</td>\n      <td>[Crime, Drama]</td>\n      <td>8.9</td>\n      <td>Quentin Tarantino</td>\n      <td>213928762</td>\n      <td>8000000</td>\n      <td>Jules Winnfield (Samuel L. Jackson) and Vincen...</td>\n      <td>205928762</td>\n      <td>14.10.1994</td>\n      <td>9311882</td>\n    </tr>\n    <tr>\n      <th>...</th>\n      <td>...</td>\n      <td>...</td>\n      <td>...</td>\n      <td>...</td>\n      <td>...</td>\n      <td>...</td>\n      <td>...</td>\n      <td>...</td>\n      <td>...</td>\n      <td>...</td>\n      <td>...</td>\n      <td>...</td>\n      <td>...</td>\n    </tr>\n    <tr>\n      <th>154</th>\n      <td>2085059</td>\n      <td>tv series</td>\n      <td>Black Mirror</td>\n      <td>['English']</td>\n      <td>[Drama, Mystery, Sci-Fi, Thriller]</td>\n      <td>8.8</td>\n      <td>NaN</td>\n      <td>0</td>\n      <td>0</td>\n      <td>[\"An anthology series exploring a twisted, hig...</td>\n      <td>0</td>\n      <td>NaN</td>\n      <td>000000000</td>\n    </tr>\n    <tr>\n      <th>155</th>\n      <td>2707408</td>\n      <td>tv series</td>\n      <td>Narcos</td>\n      <td>['English', 'Spanish']</td>\n      <td>[Biography, Crime, Drama, Thriller]</td>\n      <td>8.8</td>\n      <td>NaN</td>\n      <td>0</td>\n      <td>0</td>\n      <td>['A chronicled look at the criminal exploits o...</td>\n      <td>0</td>\n      <td>NaN</td>\n      <td>000000000</td>\n    </tr>\n    <tr>\n      <th>156</th>\n      <td>98936</td>\n      <td>tv series</td>\n      <td>Twin Peaks</td>\n      <td>['English', 'Icelandic', 'Afrikaans', 'Norwegi...</td>\n      <td>[Crime, Drama, Mystery, Thriller]</td>\n      <td>8.8</td>\n      <td>NaN</td>\n      <td>0</td>\n      <td>0</td>\n      <td>['An idiosyncratic FBI agent investigates the ...</td>\n      <td>0</td>\n      <td>NaN</td>\n      <td>000000000</td>\n    </tr>\n    <tr>\n      <th>157</th>\n      <td>4934214</td>\n      <td>tv series</td>\n      <td>Taskmaster</td>\n      <td>['English']</td>\n      <td>[Comedy, Game-Show]</td>\n      <td>9.0</td>\n      <td>NaN</td>\n      <td>0</td>\n      <td>0</td>\n      <td>['Five comedians are set tasks challenging the...</td>\n      <td>0</td>\n      <td>NaN</td>\n      <td>000000000</td>\n    </tr>\n    <tr>\n      <th>158</th>\n      <td>200276</td>\n      <td>tv series</td>\n      <td>The West Wing</td>\n      <td>['English']</td>\n      <td>[Drama]</td>\n      <td>8.9</td>\n      <td>NaN</td>\n      <td>0</td>\n      <td>0</td>\n      <td>['Inside the lives of staffers in the West Win...</td>\n      <td>0</td>\n      <td>NaN</td>\n      <td>000000000</td>\n    </tr>\n  </tbody>\n</table>\n<p>159 rows × 13 columns</p>\n</div>"
     },
     "execution_count": 352,
     "metadata": {},
     "output_type": "execute_result"
    }
   ],
   "source": [
    "# Drop no more needed columns\n",
    "imdb.drop(columns=['opening weekend united states'], inplace=True)"
   ],
   "metadata": {
    "collapsed": false,
    "ExecuteTime": {
     "end_time": "2024-03-28T16:48:32.789812Z",
     "start_time": "2024-03-28T16:48:32.774587Z"
    }
   },
   "execution_count": 352
  },
  {
   "cell_type": "code",
   "outputs": [
    {
     "name": "stderr",
     "output_type": "stream",
     "text": [
      "C:\\Users\\jonas\\AppData\\Local\\Temp\\ipykernel_13964\\2922821719.py:3: FutureWarning: The default value of numeric_only in DataFrameGroupBy.sum is deprecated. In a future version, numeric_only will default to False. Either specify numeric_only or select only columns which should be valid for the function.\n",
      "  df_month.groupby(['month']).sum().price.sort_values(ascending=False)\n"
     ]
    },
    {
     "ename": "AttributeError",
     "evalue": "'DataFrame' object has no attribute 'price'",
     "output_type": "error",
     "traceback": [
      "\u001B[1;31m---------------------------------------------------------------------------\u001B[0m",
      "\u001B[1;31mAttributeError\u001B[0m                            Traceback (most recent call last)",
      "Cell \u001B[1;32mIn[354], line 3\u001B[0m\n\u001B[0;32m      1\u001B[0m \u001B[38;5;66;03m# Queries\u001B[39;00m\n\u001B[0;32m      2\u001B[0m df_month \u001B[38;5;241m=\u001B[39m imdb\u001B[38;5;241m.\u001B[39massign(month \u001B[38;5;241m=\u001B[39m imdb[\u001B[38;5;124m'\u001B[39m\u001B[38;5;124mopening weekend date united states\u001B[39m\u001B[38;5;124m'\u001B[39m]\u001B[38;5;241m.\u001B[39mstr\u001B[38;5;241m.\u001B[39mslice(\u001B[38;5;241m3\u001B[39m,\u001B[38;5;241m4\u001B[39m)\u001B[38;5;241m.\u001B[39mto_list())\n\u001B[1;32m----> 3\u001B[0m df_month\u001B[38;5;241m.\u001B[39mgroupby([\u001B[38;5;124m'\u001B[39m\u001B[38;5;124mmonth\u001B[39m\u001B[38;5;124m'\u001B[39m])\u001B[38;5;241m.\u001B[39msum()\u001B[38;5;241m.\u001B[39mprice\u001B[38;5;241m.\u001B[39msort_values(ascending\u001B[38;5;241m=\u001B[39m\u001B[38;5;28;01mFalse\u001B[39;00m)\n",
      "File \u001B[1;32mC:\\ProgramData\\anaconda3\\Lib\\site-packages\\pandas\\core\\generic.py:5902\u001B[0m, in \u001B[0;36mNDFrame.__getattr__\u001B[1;34m(self, name)\u001B[0m\n\u001B[0;32m   5895\u001B[0m \u001B[38;5;28;01mif\u001B[39;00m (\n\u001B[0;32m   5896\u001B[0m     name \u001B[38;5;129;01mnot\u001B[39;00m \u001B[38;5;129;01min\u001B[39;00m \u001B[38;5;28mself\u001B[39m\u001B[38;5;241m.\u001B[39m_internal_names_set\n\u001B[0;32m   5897\u001B[0m     \u001B[38;5;129;01mand\u001B[39;00m name \u001B[38;5;129;01mnot\u001B[39;00m \u001B[38;5;129;01min\u001B[39;00m \u001B[38;5;28mself\u001B[39m\u001B[38;5;241m.\u001B[39m_metadata\n\u001B[0;32m   5898\u001B[0m     \u001B[38;5;129;01mand\u001B[39;00m name \u001B[38;5;129;01mnot\u001B[39;00m \u001B[38;5;129;01min\u001B[39;00m \u001B[38;5;28mself\u001B[39m\u001B[38;5;241m.\u001B[39m_accessors\n\u001B[0;32m   5899\u001B[0m     \u001B[38;5;129;01mand\u001B[39;00m \u001B[38;5;28mself\u001B[39m\u001B[38;5;241m.\u001B[39m_info_axis\u001B[38;5;241m.\u001B[39m_can_hold_identifiers_and_holds_name(name)\n\u001B[0;32m   5900\u001B[0m ):\n\u001B[0;32m   5901\u001B[0m     \u001B[38;5;28;01mreturn\u001B[39;00m \u001B[38;5;28mself\u001B[39m[name]\n\u001B[1;32m-> 5902\u001B[0m \u001B[38;5;28;01mreturn\u001B[39;00m \u001B[38;5;28mobject\u001B[39m\u001B[38;5;241m.\u001B[39m\u001B[38;5;21m__getattribute__\u001B[39m(\u001B[38;5;28mself\u001B[39m, name)\n",
      "\u001B[1;31mAttributeError\u001B[0m: 'DataFrame' object has no attribute 'price'"
     ]
    }
   ],
   "source": [
    "# Queries\n"
   ],
   "metadata": {
    "collapsed": false,
    "ExecuteTime": {
     "end_time": "2024-03-28T16:48:52.641129Z",
     "start_time": "2024-03-28T16:48:52.609554Z"
    }
   },
   "execution_count": 354
  },
  {
   "cell_type": "markdown",
   "metadata": {},
   "source": [
    "#### Task 02: Unstructured Data [6 points]. \n",
    "This time use the files imdb.csv from Task 01 and the imdb2.csv file. In this task we mainly use the content of the attribute 'plot' for the implementation of a retrieval system."
   ]
  },
  {
   "cell_type": "markdown",
   "metadata": {},
   "source": [
    "##### __(a)  Read the files imdb.csv and imdb2.csv in a dataframe called imdb. Add a column which is called 'plotterms' to each item. The new column should contain all terms (lower-case and cleaned from special characters) from the plot attribute which are not contained in the stopwords_english.txt file. [0.5 points]__ "
   ]
  },
  {
   "cell_type": "code",
   "execution_count": null,
   "metadata": {
    "ExecuteTime": {
     "start_time": "2024-03-28T16:48:32.812134Z"
    }
   },
   "outputs": [],
   "source": [
    "import pandas as pd\n",
    "\n",
    "data = pd.read_csv('imdb2.csv')\n",
    "\n",
    "data.head()"
   ]
  },
  {
   "cell_type": "markdown",
   "metadata": {},
   "source": [
    "##### __(b)  Create an inverted index for the terms in the 'plotterms' column. Use a datastructure of your choice for the implementation [0.5 points]__ "
   ]
  },
  {
   "cell_type": "code",
   "execution_count": null,
   "metadata": {
    "ExecuteTime": {
     "start_time": "2024-03-28T16:48:32.812134Z"
    }
   },
   "outputs": [],
   "source": []
  },
  {
   "cell_type": "markdown",
   "metadata": {},
   "source": [
    "##### __(c) Take the inverted index and create the posting list for the query 'american'. Return the posting list as well as the top5 items scored by the rating attribute. [0.5 points]__ "
   ]
  },
  {
   "cell_type": "code",
   "execution_count": null,
   "metadata": {
    "ExecuteTime": {
     "start_time": "2024-03-28T16:48:32.813133Z"
    }
   },
   "outputs": [],
   "source": []
  },
  {
   "cell_type": "markdown",
   "metadata": {},
   "source": [
    "##### __(d) Take the inverted index and create the posting lists for the query terms 'american' and 'dream' (the term 'american' as well as the term 'dream' should be contained in the plot). Your merging algorithm should be efficient and reduce the number of comparison to a minimum. Don't use existing python methods (like intersect or in) for the merge algorithm. Return the merged posting list as well as the top5 items scored by the rating attribute. [1 point]__ "
   ]
  },
  {
   "cell_type": "code",
   "execution_count": null,
   "metadata": {
    "ExecuteTime": {
     "start_time": "2024-03-28T16:48:32.814132Z"
    }
   },
   "outputs": [],
   "source": []
  },
  {
   "cell_type": "markdown",
   "metadata": {},
   "source": [
    "##### __(e) Extend your index to be able to rank the resulting items from Task 2d by the occurrence of search terms in the plotterms. Execute the query 'american' and 'dream' (the term 'american' as well as the term 'dream' should be contained in the plot) again and print the resulting items.  [1 point]__"
   ]
  },
  {
   "cell_type": "code",
   "execution_count": null,
   "metadata": {
    "ExecuteTime": {
     "start_time": "2024-03-28T16:48:32.815132Z"
    }
   },
   "outputs": [],
   "source": []
  },
  {
   "cell_type": "markdown",
   "metadata": {},
   "source": [
    "##### __(f) Use the TF-IDF score and the cosine similarity to execute the query 'american' and 'dream' (the term 'american' as well as the term 'dream' should be contained in the plot) against all plots in the collection. Print the results with the corresponding ranking score. Also execute the query 'american' or 'dream' (the term 'american' or the term 'dream' should be contained in the plot).  [1.5 points]__"
   ]
  },
  {
   "cell_type": "code",
   "execution_count": null,
   "metadata": {},
   "outputs": [],
   "source": []
  }
 ],
 "metadata": {
  "kernelspec": {
   "display_name": "Python 3",
   "language": "python",
   "name": "python3"
  },
  "language_info": {
   "codemirror_mode": {
    "name": "ipython",
    "version": 3
   },
   "file_extension": ".py",
   "mimetype": "text/x-python",
   "name": "python",
   "nbconvert_exporter": "python",
   "pygments_lexer": "ipython3",
   "version": "3.8.6"
  }
 },
 "nbformat": 4,
 "nbformat_minor": 4
}
