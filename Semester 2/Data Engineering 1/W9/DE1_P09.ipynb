{
 "cells": [
  {
   "cell_type": "markdown",
   "metadata": {},
   "source": [
    "# Data Engineering 1: Lab 06\n",
    "---------------"
   ]
  },
  {
   "cell_type": "markdown",
   "metadata": {},
   "source": [
    "### Task 01: Consistent Hashing\n",
    "#### Fill the parts marked with Todo for a complete implementation of Consistent Hashing"
   ]
  },
  {
   "cell_type": "code",
   "outputs": [
    {
     "data": {
      "text/plain": "              name    type      hash       angle\n105          Velma     key   1246335    4.486806\n104          Velma     key   1246335    4.486806\n89          Sharon     key   1364440    4.911984\n90          Sharon     key   1364440    4.911984\n12          Brenda     key   2749186    9.897070\n..             ...     ...       ...         ...\n22          Debera     key  95261585  342.941706\n21            Dean     key  95932462  345.356863\n84   Server_Norman  server  97261689  350.142080\n3           Alicia     key  99208525  357.150690\n87   Server_Shayna  server  99716880  358.980768\n\n[110 rows x 4 columns]",
      "text/html": "<div>\n<style scoped>\n    .dataframe tbody tr th:only-of-type {\n        vertical-align: middle;\n    }\n\n    .dataframe tbody tr th {\n        vertical-align: top;\n    }\n\n    .dataframe thead th {\n        text-align: right;\n    }\n</style>\n<table border=\"1\" class=\"dataframe\">\n  <thead>\n    <tr style=\"text-align: right;\">\n      <th></th>\n      <th>name</th>\n      <th>type</th>\n      <th>hash</th>\n      <th>angle</th>\n    </tr>\n  </thead>\n  <tbody>\n    <tr>\n      <th>105</th>\n      <td>Velma</td>\n      <td>key</td>\n      <td>1246335</td>\n      <td>4.486806</td>\n    </tr>\n    <tr>\n      <th>104</th>\n      <td>Velma</td>\n      <td>key</td>\n      <td>1246335</td>\n      <td>4.486806</td>\n    </tr>\n    <tr>\n      <th>89</th>\n      <td>Sharon</td>\n      <td>key</td>\n      <td>1364440</td>\n      <td>4.911984</td>\n    </tr>\n    <tr>\n      <th>90</th>\n      <td>Sharon</td>\n      <td>key</td>\n      <td>1364440</td>\n      <td>4.911984</td>\n    </tr>\n    <tr>\n      <th>12</th>\n      <td>Brenda</td>\n      <td>key</td>\n      <td>2749186</td>\n      <td>9.897070</td>\n    </tr>\n    <tr>\n      <th>...</th>\n      <td>...</td>\n      <td>...</td>\n      <td>...</td>\n      <td>...</td>\n    </tr>\n    <tr>\n      <th>22</th>\n      <td>Debera</td>\n      <td>key</td>\n      <td>95261585</td>\n      <td>342.941706</td>\n    </tr>\n    <tr>\n      <th>21</th>\n      <td>Dean</td>\n      <td>key</td>\n      <td>95932462</td>\n      <td>345.356863</td>\n    </tr>\n    <tr>\n      <th>84</th>\n      <td>Server_Norman</td>\n      <td>server</td>\n      <td>97261689</td>\n      <td>350.142080</td>\n    </tr>\n    <tr>\n      <th>3</th>\n      <td>Alicia</td>\n      <td>key</td>\n      <td>99208525</td>\n      <td>357.150690</td>\n    </tr>\n    <tr>\n      <th>87</th>\n      <td>Server_Shayna</td>\n      <td>server</td>\n      <td>99716880</td>\n      <td>358.980768</td>\n    </tr>\n  </tbody>\n</table>\n<p>110 rows × 4 columns</p>\n</div>"
     },
     "execution_count": 152,
     "metadata": {},
     "output_type": "execute_result"
    }
   ],
   "source": [
    "import names\n",
    "import pandas as pd\n",
    "\n",
    "\n",
    "#returns list of size n with random names\n",
    "def getData(n):\n",
    "    data = []\n",
    "    i = 0\n",
    "    while i < n:\n",
    "        data.append(names.get_first_name())\n",
    "        i += 1\n",
    "    return data\n",
    "\n",
    "#returns list of hash values for list of data\n",
    "def getHashs(data):\n",
    "    hashs = []\n",
    "    for word in data:\n",
    "        hashs.append(abs(hash(word)) % (10 ** 8))\n",
    "    return hashs\n",
    "\n",
    "#returns list of size m with random server names\n",
    "def getServers(m):\n",
    "    data = []\n",
    "    i = 0\n",
    "    while i < m:\n",
    "        data.append('Server_' + names.get_first_name())\n",
    "        i += 1\n",
    "    return data\n",
    "\n",
    "def getAngles(data):\n",
    "    angle = []\n",
    "    for hash_data in data:\n",
    "        angle.append((360 / (10 ** 8)) * hash_data)\n",
    "    return angle\n",
    "\n",
    "\n",
    "#TodO: create a DataFrame with the list created with the function getdata(100) \n",
    "# and a type column filled with the type key\n",
    "\n",
    "df_names = pd.DataFrame(getData(100))\n",
    "df_names.rename(columns={0:'name'}, inplace=True)\n",
    "df_names['type'] = 'key'\n",
    "    \n",
    "#Todo: add a column to the DataFrame with the hashs created with the getHashs() method\n",
    "\n",
    "hashs = getHashs(df_names['name'])\n",
    "df_names['hash'] = hashs\n",
    "\n",
    "#Todo: create m servers with the getServers function and add them to the DataFrame with the type server\n",
    "#Todo: add a column to the DataFrame with the angle on the circle\n",
    "\n",
    "df_servers = pd.DataFrame(getServers(10))\n",
    "df_servers.rename(columns={0:'name'}, inplace=True)\n",
    "df_servers['type'] = 'server'\n",
    "hashs = getHashs(df_servers['name'])\n",
    "df_servers['hash'] = hashs\n",
    "\n",
    "df_servers['angle'] = getAngles(df_servers['hash'])\n",
    "df_names['angle'] = getAngles(df_names['hash'])\n",
    "\n",
    "#Todo: add a column to the DataFrame with the corresponding server\n",
    "\n",
    "df_names = df_names.sort_values('hash')\n",
    "df_servers = df_servers.sort_values('hash')\n",
    "\n",
    "def AssignNamesToServers():\n",
    "    for index_server, row_server in df_servers.iterrows():\n",
    "        for index_names, row_names in df_names.iterrows():\n",
    "            if row_names['type'] == 'key':\n",
    "                if df_names.at[index_names, 'angle'] > df_servers.at[index_server, 'angle']:\n",
    "                    df_names.at[index_names, 'assigned_server'] = df_servers.at[index_server, 'name']\n",
    "    \n",
    "    last_server = df_servers.iloc[-1]['name']\n",
    "    for index_names, row_names in df_names.iterrows():\n",
    "        if pd.isna(row_names['assigned_server']):\n",
    "            df_names.at[index_names, 'assigned_server'] = last_server\n",
    "\n",
    "df = pd.merge(df_names, df_servers, how='outer')\n",
    "df = df.sort_values('angle')\n",
    "\n",
    "AssignNamesToServers()\n",
    "\n",
    "#Todo: print the final DataFrame\n",
    "\n",
    "df"
   ],
   "metadata": {
    "ExecuteTime": {
     "end_time": "2024-04-22T19:55:09.971372Z",
     "start_time": "2024-04-22T19:55:09.904795Z"
    }
   },
   "execution_count": 152
  },
  {
   "cell_type": "markdown",
   "metadata": {},
   "source": [
    "### Task 02: Balanced Consistent Hashing\n",
    "#### Extend the code from Task 01 to ensure object keys are evenly distributed among servers"
   ]
  },
  {
   "cell_type": "code",
   "execution_count": 164,
   "metadata": {
    "ExecuteTime": {
     "end_time": "2024-04-22T20:03:27.405734Z",
     "start_time": "2024-04-22T20:03:27.345908Z"
    }
   },
   "outputs": [
    {
     "data": {
      "text/plain": "       name type      hash       angle assigned_server\n105   Velma  key   1246335    4.486806   Server_Shayna\n104   Velma  key   1246335    4.486806   Server_Shayna\n90   Sharon  key   1364440    4.911984   Server_Shayna\n89   Sharon  key   1364440    4.911984   Server_Shayna\n12   Brenda  key   2749186    9.897070   Server_Shayna\n..      ...  ...       ...         ...             ...\n60    Maria  key  93139009  335.300432   Server_Shayna\n5    Andrew  key  93887258  337.994129   Server_Shayna\n22   Debera  key  95261585  342.941706   Server_Shayna\n21     Dean  key  95932462  345.356863   Server_Shayna\n3    Alicia  key  99208525  357.150690   Server_Shayna\n\n[110 rows x 5 columns]",
      "text/html": "<div>\n<style scoped>\n    .dataframe tbody tr th:only-of-type {\n        vertical-align: middle;\n    }\n\n    .dataframe tbody tr th {\n        vertical-align: top;\n    }\n\n    .dataframe thead th {\n        text-align: right;\n    }\n</style>\n<table border=\"1\" class=\"dataframe\">\n  <thead>\n    <tr style=\"text-align: right;\">\n      <th></th>\n      <th>name</th>\n      <th>type</th>\n      <th>hash</th>\n      <th>angle</th>\n      <th>assigned_server</th>\n    </tr>\n  </thead>\n  <tbody>\n    <tr>\n      <th>105</th>\n      <td>Velma</td>\n      <td>key</td>\n      <td>1246335</td>\n      <td>4.486806</td>\n      <td>Server_Shayna</td>\n    </tr>\n    <tr>\n      <th>104</th>\n      <td>Velma</td>\n      <td>key</td>\n      <td>1246335</td>\n      <td>4.486806</td>\n      <td>Server_Shayna</td>\n    </tr>\n    <tr>\n      <th>90</th>\n      <td>Sharon</td>\n      <td>key</td>\n      <td>1364440</td>\n      <td>4.911984</td>\n      <td>Server_Shayna</td>\n    </tr>\n    <tr>\n      <th>89</th>\n      <td>Sharon</td>\n      <td>key</td>\n      <td>1364440</td>\n      <td>4.911984</td>\n      <td>Server_Shayna</td>\n    </tr>\n    <tr>\n      <th>12</th>\n      <td>Brenda</td>\n      <td>key</td>\n      <td>2749186</td>\n      <td>9.897070</td>\n      <td>Server_Shayna</td>\n    </tr>\n    <tr>\n      <th>...</th>\n      <td>...</td>\n      <td>...</td>\n      <td>...</td>\n      <td>...</td>\n      <td>...</td>\n    </tr>\n    <tr>\n      <th>60</th>\n      <td>Maria</td>\n      <td>key</td>\n      <td>93139009</td>\n      <td>335.300432</td>\n      <td>Server_Shayna</td>\n    </tr>\n    <tr>\n      <th>5</th>\n      <td>Andrew</td>\n      <td>key</td>\n      <td>93887258</td>\n      <td>337.994129</td>\n      <td>Server_Shayna</td>\n    </tr>\n    <tr>\n      <th>22</th>\n      <td>Debera</td>\n      <td>key</td>\n      <td>95261585</td>\n      <td>342.941706</td>\n      <td>Server_Shayna</td>\n    </tr>\n    <tr>\n      <th>21</th>\n      <td>Dean</td>\n      <td>key</td>\n      <td>95932462</td>\n      <td>345.356863</td>\n      <td>Server_Shayna</td>\n    </tr>\n    <tr>\n      <th>3</th>\n      <td>Alicia</td>\n      <td>key</td>\n      <td>99208525</td>\n      <td>357.150690</td>\n      <td>Server_Shayna</td>\n    </tr>\n  </tbody>\n</table>\n<p>110 rows × 5 columns</p>\n</div>"
     },
     "execution_count": 164,
     "metadata": {},
     "output_type": "execute_result"
    }
   ],
   "source": [
    "count_names = len(df_names.index)\n",
    "count_servers = len(df_servers.index)\n",
    "\n",
    "for index_names, row_names in df_names.iterrows():\n",
    "    if index_names % 10 == 0:\n",
    "        server_index = (index_names // 10) % count_servers\n",
    "        df_servers.at[server_index, 'hash'] = df_names.at[index_names, 'hash'] + 1\n",
    "\n",
    "df_servers['angle'] = getAngles(df_servers['hash'])\n",
    "\n",
    "df = pd.merge(df_names, df_servers, how='outer')\n",
    "df = df.sort_values('angle')\n",
    "\n",
    "AssignNamesToServers()\n",
    "df\n",
    "\n",
    "# Pure chaos Fuck it!!\n",
    "# Completely useless task"
   ]
  },
  {
   "cell_type": "markdown",
   "metadata": {},
   "source": [
    "### Task 03: Weighted Balanced Consistent Hashing\n",
    "#### Extend the code from Task 01 to ensure object keys are evenly distributed among servers but also with a weighting of the single servers."
   ]
  },
  {
   "cell_type": "code",
   "execution_count": 156,
   "metadata": {
    "ExecuteTime": {
     "end_time": "2024-04-22T20:00:49.591293Z",
     "start_time": "2024-04-22T20:00:49.577449Z"
    }
   },
   "outputs": [
    {
     "data": {
      "text/plain": "             name    type      hash       angle\n0    Server_Helen  server  16298579   11.815081\n4   Server_Robert  server  10177827  153.222520\n5  Server_Richard  server  11871956  161.402317\n9      Server_Eva  server  91829435  177.449609\n6    Server_Dedra  server   4527453  242.846590\n1    Server_Susan  server  49661912  255.511130\n2    Server_Brent  server  63005364  285.438769\n3    Server_Nancy  server  32199610  323.689946\n8   Server_Norman  server  44134372  350.142080\n7   Server_Shayna  server  55141115  358.980768",
      "text/html": "<div>\n<style scoped>\n    .dataframe tbody tr th:only-of-type {\n        vertical-align: middle;\n    }\n\n    .dataframe tbody tr th {\n        vertical-align: top;\n    }\n\n    .dataframe thead th {\n        text-align: right;\n    }\n</style>\n<table border=\"1\" class=\"dataframe\">\n  <thead>\n    <tr style=\"text-align: right;\">\n      <th></th>\n      <th>name</th>\n      <th>type</th>\n      <th>hash</th>\n      <th>angle</th>\n    </tr>\n  </thead>\n  <tbody>\n    <tr>\n      <th>0</th>\n      <td>Server_Helen</td>\n      <td>server</td>\n      <td>16298579</td>\n      <td>11.815081</td>\n    </tr>\n    <tr>\n      <th>4</th>\n      <td>Server_Robert</td>\n      <td>server</td>\n      <td>10177827</td>\n      <td>153.222520</td>\n    </tr>\n    <tr>\n      <th>5</th>\n      <td>Server_Richard</td>\n      <td>server</td>\n      <td>11871956</td>\n      <td>161.402317</td>\n    </tr>\n    <tr>\n      <th>9</th>\n      <td>Server_Eva</td>\n      <td>server</td>\n      <td>91829435</td>\n      <td>177.449609</td>\n    </tr>\n    <tr>\n      <th>6</th>\n      <td>Server_Dedra</td>\n      <td>server</td>\n      <td>4527453</td>\n      <td>242.846590</td>\n    </tr>\n    <tr>\n      <th>1</th>\n      <td>Server_Susan</td>\n      <td>server</td>\n      <td>49661912</td>\n      <td>255.511130</td>\n    </tr>\n    <tr>\n      <th>2</th>\n      <td>Server_Brent</td>\n      <td>server</td>\n      <td>63005364</td>\n      <td>285.438769</td>\n    </tr>\n    <tr>\n      <th>3</th>\n      <td>Server_Nancy</td>\n      <td>server</td>\n      <td>32199610</td>\n      <td>323.689946</td>\n    </tr>\n    <tr>\n      <th>8</th>\n      <td>Server_Norman</td>\n      <td>server</td>\n      <td>44134372</td>\n      <td>350.142080</td>\n    </tr>\n    <tr>\n      <th>7</th>\n      <td>Server_Shayna</td>\n      <td>server</td>\n      <td>55141115</td>\n      <td>358.980768</td>\n    </tr>\n  </tbody>\n</table>\n</div>"
     },
     "execution_count": 156,
     "metadata": {},
     "output_type": "execute_result"
    }
   ],
   "source": []
  }
 ],
 "metadata": {
  "kernelspec": {
   "display_name": "Python 3",
   "language": "python",
   "name": "python3"
  },
  "language_info": {
   "codemirror_mode": {
    "name": "ipython",
    "version": 3
   },
   "file_extension": ".py",
   "mimetype": "text/x-python",
   "name": "python",
   "nbconvert_exporter": "python",
   "pygments_lexer": "ipython3",
   "version": "3.8.6"
  }
 },
 "nbformat": 4,
 "nbformat_minor": 4
}
