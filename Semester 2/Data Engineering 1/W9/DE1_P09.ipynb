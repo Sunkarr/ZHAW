{
 "cells": [
  {
   "cell_type": "markdown",
   "metadata": {},
   "source": [
    "# Data Engineering 1: Lab 06\n",
    "---------------"
   ]
  },
  {
   "cell_type": "markdown",
   "metadata": {},
   "source": [
    "### Task 01: Consistent Hashing\n",
    "#### Fill the parts marked with Todo for a complete implementation of Consistent Hashing"
   ]
  },
  {
   "cell_type": "code",
   "execution_count": 209,
   "metadata": {
    "ExecuteTime": {
     "end_time": "2024-04-18T16:37:00.418407Z",
     "start_time": "2024-04-18T16:37:00.358127Z"
    }
   },
   "outputs": [
    {
     "ename": "ValueError",
     "evalue": "Length of values (10) does not match length of index (100)",
     "output_type": "error",
     "traceback": [
      "\u001B[1;31m---------------------------------------------------------------------------\u001B[0m",
      "\u001B[1;31mValueError\u001B[0m                                Traceback (most recent call last)",
      "Cell \u001B[1;32mIn[209], line 59\u001B[0m\n\u001B[0;32m     53\u001B[0m df_servers[\u001B[38;5;124m'\u001B[39m\u001B[38;5;124mhash\u001B[39m\u001B[38;5;124m'\u001B[39m] \u001B[38;5;241m=\u001B[39m hashs\n\u001B[0;32m     57\u001B[0m \u001B[38;5;66;03m#Todo: add a column to the DataFrame with the angle on the circle\u001B[39;00m\n\u001B[1;32m---> 59\u001B[0m df_names[\u001B[38;5;124m'\u001B[39m\u001B[38;5;124mangle\u001B[39m\u001B[38;5;124m'\u001B[39m] \u001B[38;5;241m=\u001B[39m getAngles(hashs)\n\u001B[0;32m     60\u001B[0m df_servers[\u001B[38;5;124m'\u001B[39m\u001B[38;5;124mangle\u001B[39m\u001B[38;5;124m'\u001B[39m] \u001B[38;5;241m=\u001B[39m getAngles(hashs)\n\u001B[0;32m     62\u001B[0m df \u001B[38;5;241m=\u001B[39m pd\u001B[38;5;241m.\u001B[39mmerge(df_names, df_servers, how\u001B[38;5;241m=\u001B[39m\u001B[38;5;124m'\u001B[39m\u001B[38;5;124mouter\u001B[39m\u001B[38;5;124m'\u001B[39m)\n",
      "File \u001B[1;32m~\\.conda\\envs\\ZHAW\\Lib\\site-packages\\pandas\\core\\frame.py:4299\u001B[0m, in \u001B[0;36mDataFrame.__setitem__\u001B[1;34m(self, key, value)\u001B[0m\n\u001B[0;32m   4296\u001B[0m     \u001B[38;5;28mself\u001B[39m\u001B[38;5;241m.\u001B[39m_setitem_array([key], value)\n\u001B[0;32m   4297\u001B[0m \u001B[38;5;28;01melse\u001B[39;00m:\n\u001B[0;32m   4298\u001B[0m     \u001B[38;5;66;03m# set column\u001B[39;00m\n\u001B[1;32m-> 4299\u001B[0m     \u001B[38;5;28mself\u001B[39m\u001B[38;5;241m.\u001B[39m_set_item(key, value)\n",
      "File \u001B[1;32m~\\.conda\\envs\\ZHAW\\Lib\\site-packages\\pandas\\core\\frame.py:4512\u001B[0m, in \u001B[0;36mDataFrame._set_item\u001B[1;34m(self, key, value)\u001B[0m\n\u001B[0;32m   4502\u001B[0m \u001B[38;5;28;01mdef\u001B[39;00m \u001B[38;5;21m_set_item\u001B[39m(\u001B[38;5;28mself\u001B[39m, key, value) \u001B[38;5;241m-\u001B[39m\u001B[38;5;241m>\u001B[39m \u001B[38;5;28;01mNone\u001B[39;00m:\n\u001B[0;32m   4503\u001B[0m \u001B[38;5;250m    \u001B[39m\u001B[38;5;124;03m\"\"\"\u001B[39;00m\n\u001B[0;32m   4504\u001B[0m \u001B[38;5;124;03m    Add series to DataFrame in specified column.\u001B[39;00m\n\u001B[0;32m   4505\u001B[0m \n\u001B[1;32m   (...)\u001B[0m\n\u001B[0;32m   4510\u001B[0m \u001B[38;5;124;03m    ensure homogeneity.\u001B[39;00m\n\u001B[0;32m   4511\u001B[0m \u001B[38;5;124;03m    \"\"\"\u001B[39;00m\n\u001B[1;32m-> 4512\u001B[0m     value, refs \u001B[38;5;241m=\u001B[39m \u001B[38;5;28mself\u001B[39m\u001B[38;5;241m.\u001B[39m_sanitize_column(value)\n\u001B[0;32m   4514\u001B[0m     \u001B[38;5;28;01mif\u001B[39;00m (\n\u001B[0;32m   4515\u001B[0m         key \u001B[38;5;129;01min\u001B[39;00m \u001B[38;5;28mself\u001B[39m\u001B[38;5;241m.\u001B[39mcolumns\n\u001B[0;32m   4516\u001B[0m         \u001B[38;5;129;01mand\u001B[39;00m value\u001B[38;5;241m.\u001B[39mndim \u001B[38;5;241m==\u001B[39m \u001B[38;5;241m1\u001B[39m\n\u001B[0;32m   4517\u001B[0m         \u001B[38;5;129;01mand\u001B[39;00m \u001B[38;5;129;01mnot\u001B[39;00m \u001B[38;5;28misinstance\u001B[39m(value\u001B[38;5;241m.\u001B[39mdtype, ExtensionDtype)\n\u001B[0;32m   4518\u001B[0m     ):\n\u001B[0;32m   4519\u001B[0m         \u001B[38;5;66;03m# broadcast across multiple columns if necessary\u001B[39;00m\n\u001B[0;32m   4520\u001B[0m         \u001B[38;5;28;01mif\u001B[39;00m \u001B[38;5;129;01mnot\u001B[39;00m \u001B[38;5;28mself\u001B[39m\u001B[38;5;241m.\u001B[39mcolumns\u001B[38;5;241m.\u001B[39mis_unique \u001B[38;5;129;01mor\u001B[39;00m \u001B[38;5;28misinstance\u001B[39m(\u001B[38;5;28mself\u001B[39m\u001B[38;5;241m.\u001B[39mcolumns, MultiIndex):\n",
      "File \u001B[1;32m~\\.conda\\envs\\ZHAW\\Lib\\site-packages\\pandas\\core\\frame.py:5253\u001B[0m, in \u001B[0;36mDataFrame._sanitize_column\u001B[1;34m(self, value)\u001B[0m\n\u001B[0;32m   5250\u001B[0m     \u001B[38;5;28;01mreturn\u001B[39;00m _reindex_for_setitem(value, \u001B[38;5;28mself\u001B[39m\u001B[38;5;241m.\u001B[39mindex)\n\u001B[0;32m   5252\u001B[0m \u001B[38;5;28;01mif\u001B[39;00m is_list_like(value):\n\u001B[1;32m-> 5253\u001B[0m     com\u001B[38;5;241m.\u001B[39mrequire_length_match(value, \u001B[38;5;28mself\u001B[39m\u001B[38;5;241m.\u001B[39mindex)\n\u001B[0;32m   5254\u001B[0m arr \u001B[38;5;241m=\u001B[39m sanitize_array(value, \u001B[38;5;28mself\u001B[39m\u001B[38;5;241m.\u001B[39mindex, copy\u001B[38;5;241m=\u001B[39m\u001B[38;5;28;01mTrue\u001B[39;00m, allow_2d\u001B[38;5;241m=\u001B[39m\u001B[38;5;28;01mTrue\u001B[39;00m)\n\u001B[0;32m   5255\u001B[0m \u001B[38;5;28;01mif\u001B[39;00m (\n\u001B[0;32m   5256\u001B[0m     \u001B[38;5;28misinstance\u001B[39m(value, Index)\n\u001B[0;32m   5257\u001B[0m     \u001B[38;5;129;01mand\u001B[39;00m value\u001B[38;5;241m.\u001B[39mdtype \u001B[38;5;241m==\u001B[39m \u001B[38;5;124m\"\u001B[39m\u001B[38;5;124mobject\u001B[39m\u001B[38;5;124m\"\u001B[39m\n\u001B[1;32m   (...)\u001B[0m\n\u001B[0;32m   5260\u001B[0m     \u001B[38;5;66;03m# TODO: Remove kludge in sanitize_array for string mode when enforcing\u001B[39;00m\n\u001B[0;32m   5261\u001B[0m     \u001B[38;5;66;03m# this deprecation\u001B[39;00m\n",
      "File \u001B[1;32m~\\.conda\\envs\\ZHAW\\Lib\\site-packages\\pandas\\core\\common.py:573\u001B[0m, in \u001B[0;36mrequire_length_match\u001B[1;34m(data, index)\u001B[0m\n\u001B[0;32m    569\u001B[0m \u001B[38;5;250m\u001B[39m\u001B[38;5;124;03m\"\"\"\u001B[39;00m\n\u001B[0;32m    570\u001B[0m \u001B[38;5;124;03mCheck the length of data matches the length of the index.\u001B[39;00m\n\u001B[0;32m    571\u001B[0m \u001B[38;5;124;03m\"\"\"\u001B[39;00m\n\u001B[0;32m    572\u001B[0m \u001B[38;5;28;01mif\u001B[39;00m \u001B[38;5;28mlen\u001B[39m(data) \u001B[38;5;241m!=\u001B[39m \u001B[38;5;28mlen\u001B[39m(index):\n\u001B[1;32m--> 573\u001B[0m     \u001B[38;5;28;01mraise\u001B[39;00m \u001B[38;5;167;01mValueError\u001B[39;00m(\n\u001B[0;32m    574\u001B[0m         \u001B[38;5;124m\"\u001B[39m\u001B[38;5;124mLength of values \u001B[39m\u001B[38;5;124m\"\u001B[39m\n\u001B[0;32m    575\u001B[0m         \u001B[38;5;124mf\u001B[39m\u001B[38;5;124m\"\u001B[39m\u001B[38;5;124m(\u001B[39m\u001B[38;5;132;01m{\u001B[39;00m\u001B[38;5;28mlen\u001B[39m(data)\u001B[38;5;132;01m}\u001B[39;00m\u001B[38;5;124m) \u001B[39m\u001B[38;5;124m\"\u001B[39m\n\u001B[0;32m    576\u001B[0m         \u001B[38;5;124m\"\u001B[39m\u001B[38;5;124mdoes not match length of index \u001B[39m\u001B[38;5;124m\"\u001B[39m\n\u001B[0;32m    577\u001B[0m         \u001B[38;5;124mf\u001B[39m\u001B[38;5;124m\"\u001B[39m\u001B[38;5;124m(\u001B[39m\u001B[38;5;132;01m{\u001B[39;00m\u001B[38;5;28mlen\u001B[39m(index)\u001B[38;5;132;01m}\u001B[39;00m\u001B[38;5;124m)\u001B[39m\u001B[38;5;124m\"\u001B[39m\n\u001B[0;32m    578\u001B[0m     )\n",
      "\u001B[1;31mValueError\u001B[0m: Length of values (10) does not match length of index (100)"
     ]
    }
   ],
   "source": [
    "import names\n",
    "import pandas as pd\n",
    "\n",
    "\n",
    "#returns list of size n with random names\n",
    "def getData(n):\n",
    "    data = []\n",
    "    i = 0\n",
    "    while i < n:\n",
    "        data.append(names.get_first_name())\n",
    "        i += 1\n",
    "    return data\n",
    "\n",
    "#returns list of hash values for list of data\n",
    "def getHashs(data):\n",
    "    hashs = []\n",
    "    for word in data:\n",
    "        hashs.append(abs(hash(word)) % (10 ** 8))\n",
    "    return hashs\n",
    "\n",
    "#returns list of size m with random server names\n",
    "def getServers(m):\n",
    "    data = []\n",
    "    i = 0\n",
    "    while i < m:\n",
    "        data.append('Server_' + names.get_first_name())\n",
    "        i += 1\n",
    "    return data\n",
    "\n",
    "def getAngles(hashs):\n",
    "    angle = [(360 / (10 ** 8)) * hash_value for hash_value in hashs]\n",
    "    return angle\n",
    "\n",
    "\n",
    "#TodO: create a DataFrame with the list created with the function getdata(100) \n",
    "# and a type column filled with the type key\n",
    "\n",
    "df_names = pd.DataFrame(getData(100))\n",
    "df_names.rename(columns={0:'name'}, inplace=True)\n",
    "df_names['type'] = 'key'\n",
    "    \n",
    "#Todo: add a column to the DataFrame with the hashs created with the getHashs() method\n",
    "\n",
    "hashs = getHashs(df_names['name'])\n",
    "df_names['hash'] = hashs\n",
    "\n",
    "#Todo: create m servers with the getServers function and add them to the DataFrame with the type server\n",
    "\n",
    "df_servers = pd.DataFrame(getServers(10))\n",
    "df_servers.rename(columns={0:'name'}, inplace=True)\n",
    "df_servers['type'] = 'server'\n",
    "hashs = getHashs(df_servers['name'])\n",
    "df_servers['hash'] = hashs\n",
    "\n",
    "df = pd.merge(df_names, df_servers, how='outer')\n",
    "\n",
    "\n",
    "#Todo: add a column to the DataFrame with the angle on the circle\n",
    "\n",
    "df['angle'] = getAngles(hashs)\n",
    "df\n",
    "\n",
    "#Todo: add a column to the DataFrame with the corresponding server\n",
    "\n",
    "#Todo: print the final DataFrame"
   ]
  },
  {
   "cell_type": "markdown",
   "metadata": {},
   "source": [
    "### Task 02: Balanced Consistent Hashing\n",
    "#### Extend the code from Task 01 to ensure object keys are evenly distributed among servers"
   ]
  },
  {
   "cell_type": "code",
   "execution_count": 192,
   "metadata": {
    "ExecuteTime": {
     "end_time": "2024-04-18T16:32:36.379960Z",
     "start_time": "2024-04-18T16:32:36.376589Z"
    }
   },
   "outputs": [],
   "source": []
  },
  {
   "cell_type": "markdown",
   "metadata": {},
   "source": [
    "### Task 03: Weighted Balanced Consistent Hashing\n",
    "#### Extend the code from Task 01 to ensure object keys are evenly distributed among servers but also with a weighting of the single servers."
   ]
  },
  {
   "cell_type": "code",
   "execution_count": 192,
   "metadata": {
    "ExecuteTime": {
     "end_time": "2024-04-18T16:32:36.384541Z",
     "start_time": "2024-04-18T16:32:36.381974Z"
    }
   },
   "outputs": [],
   "source": []
  }
 ],
 "metadata": {
  "kernelspec": {
   "display_name": "Python 3",
   "language": "python",
   "name": "python3"
  },
  "language_info": {
   "codemirror_mode": {
    "name": "ipython",
    "version": 3
   },
   "file_extension": ".py",
   "mimetype": "text/x-python",
   "name": "python",
   "nbconvert_exporter": "python",
   "pygments_lexer": "ipython3",
   "version": "3.8.6"
  }
 },
 "nbformat": 4,
 "nbformat_minor": 4
}
