{
 "cells": [
  {
   "cell_type": "markdown",
   "id": "e667056a",
   "metadata": {},
   "source": [
    "# Price Optimization with 2 Segments"
   ]
  },
  {
   "cell_type": "code",
   "execution_count": 1,
   "id": "5e222f02",
   "metadata": {},
   "outputs": [],
   "source": [
    "# package: scipy.optimize\n",
    "# https://docs.scipy.org/doc/scipy/reference/optimize.html\n",
    "# https://docs.scipy.org/doc/scipy/tutorial/optimize.html\n",
    "# https://stackoverflow.com/questions/13670333/multiple-variables-in-scipys-optimize-minimize"
   ]
  },
  {
   "cell_type": "code",
   "execution_count": 2,
   "id": "f6aa55c9",
   "metadata": {},
   "outputs": [],
   "source": [
    "import numpy as np\n",
    "import scipy.optimize as optimize"
   ]
  },
  {
   "cell_type": "code",
   "execution_count": 3,
   "id": "0847d643",
   "metadata": {},
   "outputs": [],
   "source": [
    "# case with 2 classes"
   ]
  },
  {
   "cell_type": "code",
   "execution_count": 4,
   "id": "4924a8ab",
   "metadata": {},
   "outputs": [],
   "source": [
    "# demand function and variable cost\n",
    "a=100\n",
    "b=0.1\n",
    "c=200"
   ]
  },
  {
   "cell_type": "code",
   "execution_count": 5,
   "id": "9ddbdcc1",
   "metadata": {},
   "outputs": [],
   "source": [
    "# revenue function with two segments\n",
    "def f1(params):   \n",
    "    r1, r2 = params\n",
    "    # helper function demand to read out the demand for a set price\n",
    "    def demand(x):\n",
    "        return a-b*x\n",
    "    return -((r1-c)*demand(r1) + (r2-c)*(demand(r2)-demand(r1))) # negative value because we need to minimize"
   ]
  },
  {
   "cell_type": "code",
   "execution_count": 7,
   "id": "f777006b",
   "metadata": {},
   "outputs": [
    {
     "name": "stdout",
     "output_type": "stream",
     "text": [
      "Optimal prices: [733.30258827 466.76624223]\n",
      "Maximized revenue: 21333.33194113239\n"
     ]
    }
   ],
   "source": [
    "initial_guess = [2, 1]\n",
    "result = optimize.minimize(f1, initial_guess,method=\"Powell\")\n",
    "if result.success:\n",
    "    fitted_params = result.x\n",
    "    print(\"Optimal prices: {}\".format(fitted_params))\n",
    "    print(\"Maximized revenue: {}\".format(-1*result.fun))\n",
    "else:\n",
    "    raise ValueError(result.message)"
   ]
  }
 ],
 "metadata": {
  "kernelspec": {
   "display_name": "Python 3 (ipykernel)",
   "language": "python",
   "name": "python3"
  },
  "language_info": {
   "codemirror_mode": {
    "name": "ipython",
    "version": 3
   },
   "file_extension": ".py",
   "mimetype": "text/x-python",
   "name": "python",
   "nbconvert_exporter": "python",
   "pygments_lexer": "ipython3",
   "version": "3.7.3"
  }
 },
 "nbformat": 4,
 "nbformat_minor": 5
}
