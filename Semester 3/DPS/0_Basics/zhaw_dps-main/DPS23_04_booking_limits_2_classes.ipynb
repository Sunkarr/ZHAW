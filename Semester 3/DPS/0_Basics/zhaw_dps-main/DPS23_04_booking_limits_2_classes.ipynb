{
 "cells": [
  {
   "cell_type": "code",
   "execution_count": 1,
   "id": "1a911cfc",
   "metadata": {},
   "outputs": [],
   "source": [
    "# documentation scipy.stats.norm: https://docs.scipy.org/doc/scipy/reference/generated/scipy.stats.norm.html"
   ]
  },
  {
   "cell_type": "code",
   "execution_count": 2,
   "id": "483cde22",
   "metadata": {},
   "outputs": [],
   "source": [
    "from scipy.stats import norm\n",
    "import numpy as np"
   ]
  },
  {
   "cell_type": "code",
   "execution_count": 3,
   "id": "0593117c",
   "metadata": {},
   "outputs": [],
   "source": [
    "# Variables\n",
    "r1 = 300\n",
    "r2 = 100\n",
    "C = 160\n",
    "mu1 = 35\n",
    "sigma1 = 10"
   ]
  },
  {
   "cell_type": "code",
   "execution_count": 4,
   "id": "1d84e277",
   "metadata": {},
   "outputs": [
    {
     "name": "stdout",
     "output_type": "stream",
     "text": [
      "protection limit class 1 : 39.0\n",
      "booking limit class 2: 121.0\n"
     ]
    }
   ],
   "source": [
    "#protection limit class 1 (Littlewood) and booking limit class 2\n",
    "G1 = np.round(norm(mu1, sigma1).ppf(1-r2/r1),0)  #ppf=percent point function (inverse of cumulative distribution function)\n",
    "B2 = C-G1\n",
    "print(\"protection limit class 1 : {}\".format(G1))\n",
    "print(\"booking limit class 2: {}\".format(B2))"
   ]
  },
  {
   "cell_type": "code",
   "execution_count": 5,
   "id": "f9cd90e1",
   "metadata": {},
   "outputs": [
    {
     "name": "stdout",
     "output_type": "stream",
     "text": [
      "revenue if all class 1 tickets are sold: 23800.0\n"
     ]
    }
   ],
   "source": [
    "# revenue\n",
    "revenue = r1*G1 + r2*B2\n",
    "print(\"revenue if all class 1 tickets are sold: {}\".format(revenue))"
   ]
  }
 ],
 "metadata": {
  "kernelspec": {
   "display_name": "Python 3 (ipykernel)",
   "language": "python",
   "name": "python3"
  },
  "language_info": {
   "codemirror_mode": {
    "name": "ipython",
    "version": 3
   },
   "file_extension": ".py",
   "mimetype": "text/x-python",
   "name": "python",
   "nbconvert_exporter": "python",
   "pygments_lexer": "ipython3",
   "version": "3.7.3"
  }
 },
 "nbformat": 4,
 "nbformat_minor": 5
}
