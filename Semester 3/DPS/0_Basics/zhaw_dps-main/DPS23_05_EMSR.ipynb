{
 "cells": [
  {
   "cell_type": "code",
   "execution_count": 10,
   "id": "1a911cfc",
   "metadata": {},
   "outputs": [],
   "source": [
    "# documentation scipy.stats.norm: https://docs.scipy.org/doc/scipy/reference/generated/scipy.stats.norm.html"
   ]
  },
  {
   "cell_type": "code",
   "id": "483cde22",
   "metadata": {
    "ExecuteTime": {
     "end_time": "2024-10-17T17:03:30.986723Z",
     "start_time": "2024-10-17T17:03:30.524872Z"
    }
   },
   "source": [
    "from scipy.stats import norm\n",
    "import numpy as np"
   ],
   "outputs": [],
   "execution_count": 3
  },
  {
   "cell_type": "code",
   "id": "49f0f823",
   "metadata": {
    "ExecuteTime": {
     "end_time": "2024-10-17T17:03:32.096083Z",
     "start_time": "2024-10-17T17:03:32.091730Z"
    }
   },
   "source": [
    "# EMSR a with 3 classes\n",
    "r = [300, 100, 50]  # prices\n",
    "mu = [35, 25, 500]  # means\n",
    "sigma = [2, 2, 2]  # sds\n",
    "C = 160  # capacity"
   ],
   "outputs": [],
   "execution_count": 4
  },
  {
   "cell_type": "code",
   "id": "ef7f7b57",
   "metadata": {
    "ExecuteTime": {
     "end_time": "2024-10-17T17:03:33.571379Z",
     "start_time": "2024-10-17T17:03:33.562448Z"
    }
   },
   "source": [
    "# Values for G2\n",
    "G_3_1 = np.round(norm(mu[0], sigma[0]).ppf(1-r[2]/r[0]),0)\n",
    "G_3_2 = np.round(norm(mu[1], sigma[1]).ppf(1-r[2]/r[1]),0)\n",
    "G2 = G_3_1 + G_3_2\n",
    "B3 = C - G2\n",
    "\n",
    "G1 = np.round(norm(mu[0], sigma[0]).ppf(1-r[1]/r[0]),0)  #ppf=percent point function (inverse of cumulative distribution function)\n",
    "B2 = C-G1\n",
    "B1 = C\n",
    "G3 = C\n"
   ],
   "outputs": [],
   "execution_count": 5
  },
  {
   "cell_type": "code",
   "id": "d42fd4cd",
   "metadata": {
    "ExecuteTime": {
     "end_time": "2024-10-17T17:03:35.355062Z",
     "start_time": "2024-10-17T17:03:35.350808Z"
    }
   },
   "source": [
    "print(\"G1: {}\".format(G1))\n",
    "print(\"G2: {}\".format(G2))\n",
    "print(\"G3: {}\".format(G3))\n",
    "print(\"B1: {}\".format(B1))\n",
    "print(\"B2: {}\".format(B2))\n",
    "print(\"B3: {}\".format(B3))\n"
   ],
   "outputs": [
    {
     "name": "stdout",
     "output_type": "stream",
     "text": [
      "G1: 36.0\n",
      "G2: 62.0\n",
      "G3: 160\n",
      "B1: 160\n",
      "B2: 124.0\n",
      "B3: 98.0\n"
     ]
    }
   ],
   "execution_count": 6
  },
  {
   "cell_type": "code",
   "execution_count": 15,
   "id": "fc7b77d2",
   "metadata": {},
   "outputs": [],
   "source": [
    "# EMSR b with 3 classes\n",
    "r = [300, 100, 50]  # prices\n",
    "mu = [35, 25, 500]  # mean values\n",
    "sigma = [2, 2, 2]  # SDs\n",
    "C = 160  # capacity"
   ]
  },
  {
   "cell_type": "code",
   "execution_count": 16,
   "id": "3a707935",
   "metadata": {},
   "outputs": [],
   "source": [
    "# G2\n",
    "mu_2_est = mu[0] + mu[1] # estimated mu\n",
    "sigma_2_est = np.sqrt(sigma[0]**2 + sigma[1]**2)  # estimated sigma\n",
    "r_2_est = (mu[0]*r[0] + mu[1]*r[1])/(mu[0]+mu[1]) # weighted mean   \n",
    "G2 = np.round(norm(mu_2_est, sigma_2_est).ppf(1-r[2]/r_2_est),0)\n",
    "B3 = C-G2\n",
    "G1 = np.round(norm(mu[0], sigma[0]).ppf(1-r[1]/r[0]),0)  #ppf=percent point function (inverse of cumulative distribution function)\n",
    "B2 = C-G1\n",
    "B1= C\n",
    "G3 = C"
   ]
  },
  {
   "cell_type": "code",
   "execution_count": 17,
   "id": "1e1ebcdf",
   "metadata": {},
   "outputs": [
    {
     "name": "stdout",
     "output_type": "stream",
     "text": [
      "G1: 36.0\n",
      "G2: 62.0\n",
      "G3: 160\n",
      "B1: 160\n",
      "B2: 124.0\n",
      "B3: 98.0\n"
     ]
    }
   ],
   "source": [
    "print(\"G1: {}\".format(G1))\n",
    "print(\"G2: {}\".format(G2))\n",
    "print(\"G3: {}\".format(G3))\n",
    "print(\"B1: {}\".format(B1))\n",
    "print(\"B2: {}\".format(B2))\n",
    "print(\"B3: {}\".format(B3))"
   ]
  }
 ],
 "metadata": {
  "kernelspec": {
   "display_name": "Python 3 (ipykernel)",
   "language": "python",
   "name": "python3"
  },
  "language_info": {
   "codemirror_mode": {
    "name": "ipython",
    "version": 3
   },
   "file_extension": ".py",
   "mimetype": "text/x-python",
   "name": "python",
   "nbconvert_exporter": "python",
   "pygments_lexer": "ipython3",
   "version": "3.7.3"
  }
 },
 "nbformat": 4,
 "nbformat_minor": 5
}
