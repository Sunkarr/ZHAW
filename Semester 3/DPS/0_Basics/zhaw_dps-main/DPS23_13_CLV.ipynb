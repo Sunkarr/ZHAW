{
 "cells": [
  {
   "attachments": {},
   "cell_type": "markdown",
   "id": "9d038843",
   "metadata": {},
   "source": [
    "# Customer Lifetime Modeling"
   ]
  },
  {
   "cell_type": "code",
   "execution_count": 1,
   "id": "afa37017",
   "metadata": {},
   "outputs": [],
   "source": [
    "import numpy as np"
   ]
  },
  {
   "attachments": {},
   "cell_type": "markdown",
   "id": "102b53c6",
   "metadata": {},
   "source": [
    "### clv base model infinite time horizon"
   ]
  },
  {
   "cell_type": "code",
   "execution_count": 2,
   "id": "03fb8888",
   "metadata": {},
   "outputs": [],
   "source": [
    "# variables\n",
    "p_clv = 5\n",
    "c_clv = 3\n",
    "i_clv = .05\n",
    "r_clv = .65"
   ]
  },
  {
   "cell_type": "code",
   "execution_count": 3,
   "id": "4b1aa955",
   "metadata": {},
   "outputs": [
    {
     "name": "stdout",
     "output_type": "stream",
     "text": [
      "3.25\n"
     ]
    }
   ],
   "source": [
    "# AC threshold\n",
    "ac_max = (p_clv-c_clv)*r_clv/(1+i_clv-r_clv)\n",
    "print(ac_max)"
   ]
  },
  {
   "attachments": {},
   "cell_type": "markdown",
   "id": "509db472",
   "metadata": {},
   "source": [
    "### clv with activity probability (ap)"
   ]
  },
  {
   "cell_type": "code",
   "execution_count": 4,
   "id": "18fc4fd8",
   "metadata": {},
   "outputs": [],
   "source": [
    "#variables\n",
    "Tac_ap = -9\n",
    "Tp_ap = -3\n",
    "n_ap = 4\n",
    "i_ap = 0.1\n",
    "gc_ap = 10"
   ]
  },
  {
   "cell_type": "code",
   "execution_count": 5,
   "id": "56aec499",
   "metadata": {},
   "outputs": [
    {
     "name": "stdout",
     "output_type": "stream",
     "text": [
      "2.379311782094999\n"
     ]
    }
   ],
   "source": [
    "npgc_ap=0\n",
    "for count in range(1,4):\n",
    "    npgc_ap = npgc_ap+(((Tp_ap - Tac_ap)/(count-Tac_ap))**n_ap)*gc_ap/((1+i_ap)**count)\n",
    "print(npgc_ap)"
   ]
  },
  {
   "attachments": {},
   "cell_type": "markdown",
   "id": "dabef2ee",
   "metadata": {},
   "source": [
    "### clv with markov"
   ]
  },
  {
   "cell_type": "code",
   "execution_count": 6,
   "id": "477b4104",
   "metadata": {},
   "outputs": [],
   "source": [
    "#revenue vector\n",
    "r = np.array([[-.3],[3.25],[0]])"
   ]
  },
  {
   "cell_type": "code",
   "execution_count": 7,
   "id": "dacaefd2",
   "metadata": {},
   "outputs": [],
   "source": [
    "#transition matrix\n",
    "p = np.array([[0,.02,.98],[0,.5,.5],[0,0,1]])"
   ]
  },
  {
   "cell_type": "code",
   "execution_count": 8,
   "id": "11206790",
   "metadata": {},
   "outputs": [
    {
     "data": {
      "text/plain": [
       "array([[-0.235],\n",
       "       [ 4.875],\n",
       "       [ 0.   ]])"
      ]
     },
     "execution_count": 8,
     "metadata": {},
     "output_type": "execute_result"
    }
   ],
   "source": [
    "#expected value after first period\n",
    "np.dot(p,r)+r"
   ]
  },
  {
   "cell_type": "code",
   "execution_count": 9,
   "id": "5f11cc43",
   "metadata": {},
   "outputs": [
    {
     "data": {
      "text/plain": [
       "array([[0.  , 0.01, 0.99],\n",
       "       [0.  , 0.25, 0.75],\n",
       "       [0.  , 0.  , 1.  ]])"
      ]
     },
     "execution_count": 9,
     "metadata": {},
     "output_type": "execute_result"
    }
   ],
   "source": [
    "# p^2\n",
    "np.dot(p,p)"
   ]
  },
  {
   "cell_type": "code",
   "execution_count": 10,
   "id": "89dc04ae",
   "metadata": {
    "scrolled": true
   },
   "outputs": [
    {
     "data": {
      "text/plain": [
       "array([[-0.2025],\n",
       "       [ 5.6875],\n",
       "       [ 0.    ]])"
      ]
     },
     "execution_count": 10,
     "metadata": {},
     "output_type": "execute_result"
    }
   ],
   "source": [
    "#expected value after second period\n",
    "np.dot(np.linalg.matrix_power(p,0),r)+np.dot(np.linalg.matrix_power(p,1),r)+np.dot(np.linalg.matrix_power(p,2),r)"
   ]
  },
  {
   "attachments": {},
   "cell_type": "markdown",
   "id": "b505f734",
   "metadata": {},
   "source": [
    "### expected values after infinite periods\n"
   ]
  },
  {
   "cell_type": "code",
   "execution_count": 11,
   "id": "b3da6271",
   "metadata": {},
   "outputs": [
    {
     "ename": "LinAlgError",
     "evalue": "Singular matrix",
     "output_type": "error",
     "traceback": [
      "\u001b[1;31m---------------------------------------------------------------------------\u001b[0m",
      "\u001b[1;31mLinAlgError\u001b[0m                               Traceback (most recent call last)",
      "\u001b[1;32m~\\AppData\\Local\\Temp\\ipykernel_12856\\1813792219.py\u001b[0m in \u001b[0;36m<module>\u001b[1;34m\u001b[0m\n\u001b[0;32m      1\u001b[0m \u001b[1;31m# infinite periods with inversion not possible in this case\u001b[0m\u001b[1;33m\u001b[0m\u001b[1;33m\u001b[0m\u001b[1;33m\u001b[0m\u001b[0m\n\u001b[0;32m      2\u001b[0m \u001b[1;31m# THIS WiLl THROW ERROR BECAUSE MATRIX IS NOT INVERTIBLE\u001b[0m\u001b[1;33m\u001b[0m\u001b[1;33m\u001b[0m\u001b[1;33m\u001b[0m\u001b[0m\n\u001b[1;32m----> 3\u001b[1;33m \u001b[0mnp\u001b[0m\u001b[1;33m.\u001b[0m\u001b[0mlinalg\u001b[0m\u001b[1;33m.\u001b[0m\u001b[0minv\u001b[0m\u001b[1;33m(\u001b[0m\u001b[0mnp\u001b[0m\u001b[1;33m.\u001b[0m\u001b[0mlinalg\u001b[0m\u001b[1;33m.\u001b[0m\u001b[0mmatrix_power\u001b[0m\u001b[1;33m(\u001b[0m\u001b[0mp\u001b[0m\u001b[1;33m,\u001b[0m\u001b[1;36m0\u001b[0m\u001b[1;33m)\u001b[0m\u001b[1;33m-\u001b[0m\u001b[0mp\u001b[0m\u001b[1;33m)\u001b[0m\u001b[1;33m*\u001b[0m\u001b[0mr\u001b[0m\u001b[1;33m\u001b[0m\u001b[1;33m\u001b[0m\u001b[0m\n\u001b[0m",
      "\u001b[1;32m<__array_function__ internals>\u001b[0m in \u001b[0;36minv\u001b[1;34m(*args, **kwargs)\u001b[0m\n",
      "\u001b[1;32mc:\\Program Files\\Anaconda3\\lib\\site-packages\\numpy\\linalg\\linalg.py\u001b[0m in \u001b[0;36minv\u001b[1;34m(a)\u001b[0m\n\u001b[0;32m    543\u001b[0m     \u001b[0msignature\u001b[0m \u001b[1;33m=\u001b[0m \u001b[1;34m'D->D'\u001b[0m \u001b[1;32mif\u001b[0m \u001b[0misComplexType\u001b[0m\u001b[1;33m(\u001b[0m\u001b[0mt\u001b[0m\u001b[1;33m)\u001b[0m \u001b[1;32melse\u001b[0m \u001b[1;34m'd->d'\u001b[0m\u001b[1;33m\u001b[0m\u001b[1;33m\u001b[0m\u001b[0m\n\u001b[0;32m    544\u001b[0m     \u001b[0mextobj\u001b[0m \u001b[1;33m=\u001b[0m \u001b[0mget_linalg_error_extobj\u001b[0m\u001b[1;33m(\u001b[0m\u001b[0m_raise_linalgerror_singular\u001b[0m\u001b[1;33m)\u001b[0m\u001b[1;33m\u001b[0m\u001b[1;33m\u001b[0m\u001b[0m\n\u001b[1;32m--> 545\u001b[1;33m     \u001b[0mainv\u001b[0m \u001b[1;33m=\u001b[0m \u001b[0m_umath_linalg\u001b[0m\u001b[1;33m.\u001b[0m\u001b[0minv\u001b[0m\u001b[1;33m(\u001b[0m\u001b[0ma\u001b[0m\u001b[1;33m,\u001b[0m \u001b[0msignature\u001b[0m\u001b[1;33m=\u001b[0m\u001b[0msignature\u001b[0m\u001b[1;33m,\u001b[0m \u001b[0mextobj\u001b[0m\u001b[1;33m=\u001b[0m\u001b[0mextobj\u001b[0m\u001b[1;33m)\u001b[0m\u001b[1;33m\u001b[0m\u001b[1;33m\u001b[0m\u001b[0m\n\u001b[0m\u001b[0;32m    546\u001b[0m     \u001b[1;32mreturn\u001b[0m \u001b[0mwrap\u001b[0m\u001b[1;33m(\u001b[0m\u001b[0mainv\u001b[0m\u001b[1;33m.\u001b[0m\u001b[0mastype\u001b[0m\u001b[1;33m(\u001b[0m\u001b[0mresult_t\u001b[0m\u001b[1;33m,\u001b[0m \u001b[0mcopy\u001b[0m\u001b[1;33m=\u001b[0m\u001b[1;32mFalse\u001b[0m\u001b[1;33m)\u001b[0m\u001b[1;33m)\u001b[0m\u001b[1;33m\u001b[0m\u001b[1;33m\u001b[0m\u001b[0m\n\u001b[0;32m    547\u001b[0m \u001b[1;33m\u001b[0m\u001b[0m\n",
      "\u001b[1;32mc:\\Program Files\\Anaconda3\\lib\\site-packages\\numpy\\linalg\\linalg.py\u001b[0m in \u001b[0;36m_raise_linalgerror_singular\u001b[1;34m(err, flag)\u001b[0m\n\u001b[0;32m     86\u001b[0m \u001b[1;33m\u001b[0m\u001b[0m\n\u001b[0;32m     87\u001b[0m \u001b[1;32mdef\u001b[0m \u001b[0m_raise_linalgerror_singular\u001b[0m\u001b[1;33m(\u001b[0m\u001b[0merr\u001b[0m\u001b[1;33m,\u001b[0m \u001b[0mflag\u001b[0m\u001b[1;33m)\u001b[0m\u001b[1;33m:\u001b[0m\u001b[1;33m\u001b[0m\u001b[1;33m\u001b[0m\u001b[0m\n\u001b[1;32m---> 88\u001b[1;33m     \u001b[1;32mraise\u001b[0m \u001b[0mLinAlgError\u001b[0m\u001b[1;33m(\u001b[0m\u001b[1;34m\"Singular matrix\"\u001b[0m\u001b[1;33m)\u001b[0m\u001b[1;33m\u001b[0m\u001b[1;33m\u001b[0m\u001b[0m\n\u001b[0m\u001b[0;32m     89\u001b[0m \u001b[1;33m\u001b[0m\u001b[0m\n\u001b[0;32m     90\u001b[0m \u001b[1;32mdef\u001b[0m \u001b[0m_raise_linalgerror_nonposdef\u001b[0m\u001b[1;33m(\u001b[0m\u001b[0merr\u001b[0m\u001b[1;33m,\u001b[0m \u001b[0mflag\u001b[0m\u001b[1;33m)\u001b[0m\u001b[1;33m:\u001b[0m\u001b[1;33m\u001b[0m\u001b[1;33m\u001b[0m\u001b[0m\n",
      "\u001b[1;31mLinAlgError\u001b[0m: Singular matrix"
     ]
    }
   ],
   "source": [
    "# infinite periods with inversion not possible in this case\n",
    "# THIS WiLl THROW ERROR BECAUSE MATRIX IS NOT INVERTIBLE\n",
    "np.linalg.inv(np.linalg.matrix_power(p,0)-p)*r\n"
   ]
  },
  {
   "cell_type": "code",
   "execution_count": null,
   "id": "311a10fa",
   "metadata": {},
   "outputs": [
    {
     "name": "stdout",
     "output_type": "stream",
     "text": [
      "[[-0.17]\n",
      " [ 6.5 ]\n",
      " [ 0.  ]]\n"
     ]
    }
   ],
   "source": [
    "# proxy with 100000 iterations since inversion is not possibel\n",
    "exp_val=np.array([[0],[0],[0]])\n",
    "for i in range(0,100000):\n",
    "    exp_val=exp_val+np.dot(np.linalg.matrix_power(p,i),r)\n",
    "print(exp_val)"
   ]
  },
  {
   "cell_type": "code",
   "execution_count": null,
   "id": "1768d5a7",
   "metadata": {},
   "outputs": [
    {
     "name": "stdout",
     "output_type": "stream",
     "text": [
      "[[-0.15714286]\n",
      " [ 7.14285714]\n",
      " [ 0.        ]]\n"
     ]
    }
   ],
   "source": [
    "# should you stop discounts if return probability without is 30%\n",
    "r_new = np.array([[-.3],[5],[0]])\n",
    "p_new = np.array([[0,.02,.98],[0,.3,.7],[0,0,1]])\n",
    "exp_val_new = np.array([[0],[0],[0]])\n",
    "for i in range(0,100000):\n",
    "    exp_val_new=exp_val_new+np.dot(np.linalg.matrix_power(p_new,i),r_new)\n",
    "print(exp_val_new)"
   ]
  }
 ],
 "metadata": {
  "kernelspec": {
   "display_name": "Python 3 (ipykernel)",
   "language": "python",
   "name": "python3"
  },
  "language_info": {
   "codemirror_mode": {
    "name": "ipython",
    "version": 3
   },
   "file_extension": ".py",
   "mimetype": "text/x-python",
   "name": "python",
   "nbconvert_exporter": "python",
   "pygments_lexer": "ipython3",
   "version": "3.7.3"
  }
 },
 "nbformat": 4,
 "nbformat_minor": 5
}
