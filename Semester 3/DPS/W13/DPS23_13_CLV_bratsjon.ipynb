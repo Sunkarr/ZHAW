{
 "cells": [
  {
   "attachments": {},
   "cell_type": "markdown",
   "id": "9d038843",
   "metadata": {},
   "source": "# Customer Lifetime Modeling"
  },
  {
   "cell_type": "code",
   "id": "afa37017",
   "metadata": {
    "ExecuteTime": {
     "end_time": "2024-12-17T07:53:08.026320Z",
     "start_time": "2024-12-17T07:53:07.982461Z"
    }
   },
   "source": [
    "import numpy as np"
   ],
   "outputs": [],
   "execution_count": 1
  },
  {
   "attachments": {},
   "cell_type": "markdown",
   "id": "dabef2ee",
   "metadata": {},
   "source": [
    "### clv with markov"
   ]
  },
  {
   "metadata": {
    "ExecuteTime": {
     "end_time": "2024-12-14T13:22:13.190647Z",
     "start_time": "2024-12-14T13:22:13.178624Z"
    }
   },
   "cell_type": "code",
   "source": [
    "# Define the number of iterations\n",
    "num_iterations = 400\n",
    "\n",
    "# Define the initial values\n",
    "r = np.array([[0],[30],[0]])\n",
    "p = np.array([[0.999,.001,0],[0,.8,.2],[0,0,1]])\n",
    "clv = np.array([[0],[0],[0]])\n",
    "\n",
    "# Perform the iterations\n",
    "for i in range(num_iterations):\n",
    "    p_it = np.linalg.matrix_power(p, i)\n",
    "    clv_it = np.dot(p_it, r)\n",
    "    clv = clv + clv_it\n",
    "\n",
    "print(clv)"
   ],
   "id": "5be6a7302f7fca9f",
   "outputs": [
    {
     "name": "stdout",
     "output_type": "stream",
     "text": [
      "[[ 48.96694884]\n",
      " [150.        ]\n",
      " [  0.        ]]\n"
     ]
    }
   ],
   "execution_count": 42
  },
  {
   "attachments": {},
   "cell_type": "markdown",
   "id": "19392b09babf830b",
   "metadata": {},
   "source": "### clv with markov and aquisition cost"
  },
  {
   "metadata": {
    "ExecuteTime": {
     "end_time": "2024-12-17T07:53:18.245805Z",
     "start_time": "2024-12-17T07:53:18.237373Z"
    }
   },
   "cell_type": "code",
   "source": [
    "# Define the number of iterations\n",
    "num_iterations = 400\n",
    "\n",
    "# Define the initial values\n",
    "r = np.array([[-0.2],[30],[0]])\n",
    "p = np.array([[0.99,0.01,0],[0,.8,.2],[0,0,1]])\n",
    "clv = np.array([[0],[0],[0]])\n",
    "\n",
    "# Perform the iterations\n",
    "for i in range(num_iterations):\n",
    "    p_it = np.linalg.matrix_power(p, i)\n",
    "    clv_it = np.dot(p_it, r)\n",
    "    clv = clv + clv_it\n",
    "\n",
    "print(clv)"
   ],
   "id": "d887d30ee26d9659",
   "outputs": [
    {
     "name": "stdout",
     "output_type": "stream",
     "text": [
      "[[127.52471318]\n",
      " [150.        ]\n",
      " [  0.        ]]\n"
     ]
    }
   ],
   "execution_count": 3
  }
 ],
 "metadata": {
  "kernelspec": {
   "display_name": "Python 3 (ipykernel)",
   "language": "python",
   "name": "python3"
  },
  "language_info": {
   "codemirror_mode": {
    "name": "ipython",
    "version": 3
   },
   "file_extension": ".py",
   "mimetype": "text/x-python",
   "name": "python",
   "nbconvert_exporter": "python",
   "pygments_lexer": "ipython3",
   "version": "3.7.3"
  }
 },
 "nbformat": 4,
 "nbformat_minor": 5
}
