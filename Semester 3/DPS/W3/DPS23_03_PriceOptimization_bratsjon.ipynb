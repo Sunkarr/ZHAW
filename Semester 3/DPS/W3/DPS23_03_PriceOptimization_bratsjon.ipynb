{
 "cells": [
  {
   "cell_type": "markdown",
   "id": "e667056a",
   "metadata": {},
   "source": [
    "# Price Optimization with 2 Segments"
   ]
  },
  {
   "cell_type": "code",
   "execution_count": 1,
   "id": "5e222f02",
   "metadata": {},
   "outputs": [],
   "source": [
    "# package: scipy.optimize\n",
    "# https://docs.scipy.org/doc/scipy/reference/optimize.html\n",
    "# https://docs.scipy.org/doc/scipy/tutorial/optimize.html\n",
    "# https://stackoverflow.com/questions/13670333/multiple-variables-in-scipys-optimize-minimize"
   ]
  },
  {
   "cell_type": "code",
   "id": "f6aa55c9",
   "metadata": {
    "ExecuteTime": {
     "end_time": "2024-10-05T11:07:32.913437Z",
     "start_time": "2024-10-05T11:07:32.910908Z"
    }
   },
   "source": [
    "import numpy as np\n",
    "import matplotlib.pyplot as plt\n",
    "from scipy.optimize import minimize"
   ],
   "outputs": [],
   "execution_count": 14
  },
  {
   "cell_type": "code",
   "id": "0847d643",
   "metadata": {
    "ExecuteTime": {
     "end_time": "2024-10-05T10:58:20.596970Z",
     "start_time": "2024-10-05T10:58:20.593998Z"
    }
   },
   "source": "# case with 3 classes",
   "outputs": [],
   "execution_count": 3
  },
  {
   "cell_type": "code",
   "id": "4924a8ab",
   "metadata": {
    "ExecuteTime": {
     "end_time": "2024-10-05T11:07:41.423673Z",
     "start_time": "2024-10-05T11:07:41.420085Z"
    }
   },
   "source": [
    "# demand function and variable cost\n",
    "a=40000\n",
    "b=500\n",
    "c=10\n",
    "fixed_cost_per_segment = 50000"
   ],
   "outputs": [],
   "execution_count": 15
  },
  {
   "cell_type": "code",
   "id": "9ddbdcc1",
   "metadata": {
    "ExecuteTime": {
     "end_time": "2024-10-05T11:07:43.319258Z",
     "start_time": "2024-10-05T11:07:43.314543Z"
    }
   },
   "source": [
    "# Demand function\n",
    "def demand(x):\n",
    "    return a - b * x\n",
    "\n",
    "# Profit function for three segments\n",
    "def profit_3_segments(params):\n",
    "    r1, r2, r3 = params\n",
    "    revenue = (r1 - c) * demand(r1) + (r2 - c) * (demand(r2) - demand(r1)) + (r3 - c) * (demand(r3) - demand(r2))\n",
    "    fixed_costs = 3 * fixed_cost_per_segment\n",
    "    return -(revenue - fixed_costs)  # Negative because we need to minimize"
   ],
   "outputs": [],
   "execution_count": 16
  },
  {
   "cell_type": "code",
   "id": "1ed7d61e289ce66a",
   "metadata": {
    "ExecuteTime": {
     "end_time": "2024-10-05T11:20:05.334669Z",
     "start_time": "2024-10-05T11:20:05.327970Z"
    }
   },
   "source": [
    "# Initial guess for prices\n",
    "initial_guess = [2, 1, 0.5]\n",
    "\n",
    "# Optimize\n",
    "result = minimize(profit_3_segments, initial_guess, method=\"Powell\")\n",
    "if result.success:\n",
    "    optimal_prices = result.x\n",
    "    max_profit = -result.fun\n",
    "    print(f\"Optimal prices: {optimal_prices}\")\n",
    "    print(f\"Maximized profit: {max_profit}\")\n",
    "else:\n",
    "    raise ValueError(result.message)"
   ],
   "outputs": [
    {
     "name": "stdout",
     "output_type": "stream",
     "text": [
      "Optimal prices: [62.57119212 45.05308286 27.52406989]\n",
      "Maximized profit: 768748.2956562116\n"
     ]
    }
   ],
   "execution_count": 20
  },
  {
   "metadata": {
    "jupyter": {
     "is_executing": true
    },
    "ExecuteTime": {
     "start_time": "2024-10-05T11:21:54.999634Z"
    }
   },
   "cell_type": "code",
   "source": [
    "def profit_n_segments(params, n):\n",
    "    prices = params[:n]\n",
    "    fixed_costs = n * fixed_cost_per_segment\n",
    "    revenue = 0\n",
    "    for i in range(n):\n",
    "        if i == 0:\n",
    "            revenue += (prices[i] - c) * demand(prices[i])\n",
    "        else:\n",
    "            revenue += (prices[i] - c) * (demand(prices[i]) - demand(prices[i-1]))\n",
    "    return -(revenue - fixed_costs)\n",
    "\n",
    "# Iterate over different segment counts\n",
    "max_segments = 10\n",
    "optimal_profit = -np.inf\n",
    "optimal_segment_count = 0\n",
    "optimal_prices = []\n",
    "\n",
    "for n in range(1, max_segments + 1):\n",
    "    initial_guess = np.linspace(2, 0.5, n)\n",
    "    result = minimize(profit_n_segments, initial_guess, args=(n,), method=\"Powell\")\n",
    "    if result.success:\n",
    "        current_profit = -result.fun\n",
    "        if current_profit > optimal_profit:\n",
    "            optimal_profit = current_profit\n",
    "            optimal_segment_count = n\n",
    "            optimal_prices = result.x\n",
    "\n",
    "print(f\"Optimal number of segments: {optimal_segment_count}\")\n",
    "print(f\"Optimal prices: {optimal_prices}\")\n",
    "print(f\"Maximized profit: {optimal_profit}\")"
   ],
   "id": "f777006b",
   "outputs": [],
   "execution_count": null
  }
 ],
 "metadata": {
  "kernelspec": {
   "display_name": "Python 3 (ipykernel)",
   "language": "python",
   "name": "python3"
  },
  "language_info": {
   "codemirror_mode": {
    "name": "ipython",
    "version": 3
   },
   "file_extension": ".py",
   "mimetype": "text/x-python",
   "name": "python",
   "nbconvert_exporter": "python",
   "pygments_lexer": "ipython3",
   "version": "3.7.3"
  }
 },
 "nbformat": 4,
 "nbformat_minor": 5
}
