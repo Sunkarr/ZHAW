{
 "cells": [
  {
   "cell_type": "code",
   "execution_count": 10,
   "id": "1a911cfc",
   "metadata": {},
   "outputs": [],
   "source": [
    "# documentation scipy.stats.norm: https://docs.scipy.org/doc/scipy/reference/generated/scipy.stats.norm.html"
   ]
  },
  {
   "cell_type": "code",
   "id": "483cde22",
   "metadata": {
    "ExecuteTime": {
     "end_time": "2024-10-22T08:02:35.869288Z",
     "start_time": "2024-10-22T08:02:32.106982Z"
    }
   },
   "source": [
    "from scipy.stats import norm\n",
    "import numpy as np"
   ],
   "outputs": [],
   "execution_count": 1
  },
  {
   "metadata": {
    "ExecuteTime": {
     "end_time": "2024-10-22T08:02:35.888149Z",
     "start_time": "2024-10-22T08:02:35.883341Z"
    }
   },
   "cell_type": "code",
   "source": [
    "# EMSR sample inputs\n",
    "r1 = [300, 200, 100, 50, 25]  # prices\n",
    "mu1 = [10, 15, 25, 50, 500]  # means\n",
    "sigma1 = [2, 2, 3, 3, 5]  # sds\n",
    "C1 = 160  # capacity\n",
    "\n",
    "r2 = [500, 400, 200, 100, 50, 25]  # ordered prices per class  \n",
    "mu2 = [4, 8, 15, 25, 50, 500]  # ordered class demand means \n",
    "sigma2 = [2, 2, 4, 10, 20, 50]  # ordered class standard deviations\n",
    "C2 = 200  # capacity"
   ],
   "id": "7b08a182619033f5",
   "outputs": [],
   "execution_count": 2
  },
  {
   "metadata": {
    "ExecuteTime": {
     "end_time": "2024-10-22T08:02:41.428909Z",
     "start_time": "2024-10-22T08:02:41.419946Z"
    }
   },
   "cell_type": "code",
   "source": [
    "def generate_indexes_k_l(array):\n",
    "    length = len(array)\n",
    "    # Initialize an empty array to hold all sub-arrays\n",
    "    nested_array = []\n",
    "\n",
    "    # Iterate from 1 to the specified length\n",
    "    for n in range(1, length):\n",
    "        sub_array = []\n",
    "        # Create sub-array with elements [n, i] where i ranges from 0 to n-1\n",
    "        for i in range(n):\n",
    "            sub_array.append([n, i])\n",
    "        # Append each sub-array to the main array\n",
    "        nested_array.append(sub_array)\n",
    "\n",
    "    return nested_array\n",
    "\n",
    "def calculate_emrs_a(r, mu, sigma, C):\n",
    "    indexes = generate_indexes_k_l(r)\n",
    "    protection_limits = []\n",
    "    G_k = 0\n",
    "    group_size = 1\n",
    "    count = 0\n",
    "\n",
    "    # Calculate protection limits\n",
    "    for sub_array in indexes:\n",
    "        for element in sub_array:\n",
    "            k = element[0]\n",
    "            l = element[1]\n",
    "            if l == 0:\n",
    "                G_k_l = np.round(norm(mu[0], sigma[0]).ppf(1 - r[k] / r[0]), 0)\n",
    "            else:\n",
    "                G_k_l = np.round(norm(mu[l], sigma[l]).ppf(1 - r[k] / r[l]), 0)\n",
    "\n",
    "            # Add the current value to the running sum\n",
    "            G_k += G_k_l\n",
    "            count += 1\n",
    "\n",
    "            # Check if we've reached the group size\n",
    "            if count == group_size:\n",
    "                protection_limits.append(G_k)\n",
    "                G_k = 0\n",
    "                group_size += 1\n",
    "                count = 0\n",
    "\n",
    "    # Add the constant C to the final group\n",
    "    G_k += C\n",
    "    protection_limits.append(G_k)\n",
    "    \n",
    "    # Calculate booking limits\n",
    "    booking_limits = [C]\n",
    "    for i in range(len(protection_limits)-1):\n",
    "        booking_limits.append(C - protection_limits[i]) \n",
    "\n",
    "\n",
    "    return protection_limits, booking_limits\n",
    "\n",
    "# Example usage\n",
    "indexes = generate_indexes_k_l(r2)\n",
    "print(indexes)"
   ],
   "id": "c117199a0ee9bae8",
   "outputs": [
    {
     "name": "stdout",
     "output_type": "stream",
     "text": [
      "[[[1, 0]], [[2, 0], [2, 1]], [[3, 0], [3, 1], [3, 2]], [[4, 0], [4, 1], [4, 2], [4, 3]], [[5, 0], [5, 1], [5, 2], [5, 3], [5, 4]]]\n"
     ]
    }
   ],
   "execution_count": 3
  },
  {
   "metadata": {
    "ExecuteTime": {
     "end_time": "2024-10-22T08:06:04.061192Z",
     "start_time": "2024-10-22T08:06:04.044864Z"
    }
   },
   "cell_type": "code",
   "source": [
    "# Task 5\n",
    "protection_limits, booking_limits = calculate_emrs_a(r1, mu1, sigma1, C1)\n",
    "print(f\"Protection Limits: {protection_limits}\")\n",
    "print(f\"Booking Limits: {booking_limits}\")"
   ],
   "id": "49f0f823",
   "outputs": [
    {
     "name": "stdout",
     "output_type": "stream",
     "text": [
      "Protection Limits: [9.0, 26.0, 53.0, 107.0, 160]\n",
      "Booking Limits: [160, 151.0, 134.0, 107.0, 53.0]\n"
     ]
    }
   ],
   "execution_count": 4
  },
  {
   "metadata": {
    "ExecuteTime": {
     "end_time": "2024-10-22T08:39:48.357721Z",
     "start_time": "2024-10-22T08:39:48.346979Z"
    }
   },
   "cell_type": "code",
   "source": [
    "def generate_indexes_k(array):\n",
    "    n = len(array)  # Get the length of the input array\n",
    "    result = []  # Initialize an empty list to hold the result\n",
    "    for i in range(n):\n",
    "        # Create a list from 0 to i\n",
    "        current_list = list(range(i + 1))\n",
    "        result.append(current_list)  # Append the current list to the result\n",
    "    return result  # Return the final result as an array\n",
    "\n",
    "def calculate_emrs_b(r, mu, sigma, C):\n",
    "    # Generate indexes using the provided price array (r)\n",
    "    indexes = generate_indexes_k(r)\n",
    "\n",
    "    G = []  # Initialize list for protection limits\n",
    "    B = [C]  # Initialize B with capacity C\n",
    "\n",
    "    for index in indexes[:-1]:        \n",
    "        mu_i = sum(mu[j] for j in index)  # Cumulative demand mean\n",
    "        sigma_i = np.sqrt(sum(sigma[j]**2 for j in index))  # Cumulative standard deviation\n",
    "\n",
    "        # Calculate r_i\n",
    "        Zähler = sum(r[j] * mu[j] for j in index)\n",
    "        Nenner = sum(mu[j] for j in index)\n",
    "        r_i = Zähler / Nenner\n",
    "\n",
    "        # Calculate G_i using the percent point function (PPF)\n",
    "        probability_i = 1 - (r[index[-1]+1] / r_i)\n",
    "        G_i = np.round(norm(mu_i, sigma_i).ppf(probability_i), 0)\n",
    "        G.append(G_i)\n",
    "    G.append(C)  # Add the capacity to the protection limits\n",
    "\n",
    "    # Calculate booking limits\n",
    "    for i in range(len(G)-1):\n",
    "        B.append(C - G[i])\n",
    "\n",
    "    return G, B\n",
    "\n",
    "    \n",
    "# Example usage\n",
    "output = generate_indexes_k(r2)\n",
    "print(output)"
   ],
   "id": "8c68dbd90cb2b4c2",
   "outputs": [
    {
     "name": "stdout",
     "output_type": "stream",
     "text": [
      "[[0], [0, 1], [0, 1, 2], [0, 1, 2, 3], [0, 1, 2, 3, 4], [0, 1, 2, 3, 4, 5]]\n"
     ]
    }
   ],
   "execution_count": 5
  },
  {
   "metadata": {
    "ExecuteTime": {
     "end_time": "2024-10-22T08:42:20.097891Z",
     "start_time": "2024-10-22T08:42:20.086751Z"
    }
   },
   "cell_type": "code",
   "source": [
    "# Task 6\n",
    "protection_limits, booking_limits = calculate_emrs_b(r2, mu2, sigma2, C2)\n",
    "print(f\"Protection Limits: {protection_limits}\")\n",
    "print(f\"Booking Limits: {booking_limits}\")"
   ],
   "id": "a43e0b0edf7ea21b",
   "outputs": [
    {
     "name": "stdout",
     "output_type": "stream",
     "text": [
      "Protection Limits: [2.0, 12.0, 29.0, 60.0, 122.0, 200]\n",
      "Booking Limits: [200, 198.0, 188.0, 171.0, 140.0, 78.0]\n"
     ]
    }
   ],
   "execution_count": 6
  }
 ],
 "metadata": {
  "kernelspec": {
   "display_name": "Python 3 (ipykernel)",
   "language": "python",
   "name": "python3"
  },
  "language_info": {
   "codemirror_mode": {
    "name": "ipython",
    "version": 3
   },
   "file_extension": ".py",
   "mimetype": "text/x-python",
   "name": "python",
   "nbconvert_exporter": "python",
   "pygments_lexer": "ipython3",
   "version": "3.7.3"
  }
 },
 "nbformat": 4,
 "nbformat_minor": 5
}
