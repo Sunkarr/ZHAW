{
 "cells": [
  {
   "cell_type": "code",
   "execution_count": 10,
   "id": "1a911cfc",
   "metadata": {},
   "outputs": [],
   "source": [
    "# documentation scipy.stats.norm: https://docs.scipy.org/doc/scipy/reference/generated/scipy.stats.norm.html"
   ]
  },
  {
   "cell_type": "code",
   "id": "483cde22",
   "metadata": {
    "ExecuteTime": {
     "end_time": "2024-10-15T19:12:13.579292Z",
     "start_time": "2024-10-15T19:12:13.576292Z"
    }
   },
   "source": [
    "from scipy.stats import norm\n",
    "import numpy as np"
   ],
   "outputs": [],
   "execution_count": 20
  },
  {
   "metadata": {
    "ExecuteTime": {
     "end_time": "2024-10-15T19:52:22.169247Z",
     "start_time": "2024-10-15T19:52:22.165350Z"
    }
   },
   "cell_type": "code",
   "outputs": [
    {
     "name": "stdout",
     "output_type": "stream",
     "text": [
      "range(0, 5)\n"
     ]
    }
   ],
   "execution_count": 64,
   "source": [
    "# EMSR a with 3 classes\n",
    "r = [300, 200, 100, 50, 25]  # prices\n",
    "mu = [10, 15, 25, 50, 500]  # means\n",
    "sigma = [2, 2, 3, 3, 5]  # sds\n",
    "C = 160  # capacity"
   ],
   "id": "c117199a0ee9bae8"
  },
  {
   "metadata": {
    "ExecuteTime": {
     "end_time": "2024-10-15T19:52:54.350787Z",
     "start_time": "2024-10-15T19:52:54.336032Z"
    }
   },
   "cell_type": "code",
   "source": [
    "def calculate_emrs_a(prices, means, sds, capacity):\n",
    "    n = len(prices)\n",
    "    G = []\n",
    "    \n",
    "    for i in range(n):\n",
    "        G_i = 0\n",
    "        for j in range(i + 1):\n",
    "            if j == 0:\n",
    "                ppf_value = 1 - (prices[i] / prices[0])\n",
    "                if ppf_value < 0:\n",
    "                    G_j = 0\n",
    "                else:\n",
    "                    G_j = np.round(norm(means[j], sds[j]).ppf(ppf_value), 0)\n",
    "            else:\n",
    "                ppf_value = 1 - (prices[i] / prices[j - 1])\n",
    "                if ppf_value < 0:\n",
    "                    G_j = 0\n",
    "                else:\n",
    "                    G_j = np.round(norm(means[j], sds[j]).ppf(ppf_value), 0)\n",
    "\n",
    "            G_i += G_j\n",
    "\n",
    "        G.append(G_i)\n",
    "\n",
    "    G.append(capacity)\n",
    "\n",
    "    return G\n",
    "\n",
    "# Beispiel für die Verwendung der Funktion\n",
    "prices = [300, 200, 100, 50, 25]  # Preise\n",
    "means = [10, 15, 25, 50, 500]  # Mittelwerte\n",
    "sds = [2, 2, 3, 3, 5]  # Standardabweichungen\n",
    "capacity = 160  # Kapazität\n",
    "\n",
    "results = calculate_emrs_a(prices, means, sds, capacity)\n",
    "for index, value in enumerate(results):\n",
    "    print(f\"G_{index + 1}: {value}\")\n"
   ],
   "id": "49f0f823",
   "outputs": [
    {
     "name": "stdout",
     "output_type": "stream",
     "text": [
      "G_1: -inf\n",
      "G_2: 23.0\n",
      "G_3: 52.0\n",
      "G_4: 106.0\n",
      "G_5: 611.0\n",
      "G_6: 160\n"
     ]
    }
   ],
   "execution_count": 65
  },
  {
   "cell_type": "code",
   "id": "ef7f7b57",
   "metadata": {
    "ExecuteTime": {
     "end_time": "2024-10-15T19:47:30.271792Z",
     "start_time": "2024-10-15T19:47:30.256905Z"
    }
   },
   "source": [
    "G_2_1 = np.round(norm(mu[0], sigma[0]).ppf(1-r[1]/r[0]),0)\n",
    "G_1 = G_2_1\n",
    "print(G_1)\n",
    "\n",
    "G_3_1 = np.round(norm(mu[0], sigma[0]).ppf(1-r[2]/r[0]),0)\n",
    "G_3_2 = np.round(norm(mu[1], sigma[1]).ppf(1-r[2]/r[1]),0)\n",
    "G2 = G_3_1 + G_3_2\n",
    "print(G2)\n",
    "\n",
    "G_4_1 = np.round(norm(mu[0], sigma[0]).ppf(1-r[3]/r[0]),0)\n",
    "G_4_2 = np.round(norm(mu[1], sigma[1]).ppf(1-r[3]/r[1]),0)\n",
    "G_4_3 = np.round(norm(mu[2], sigma[2]).ppf(1-r[3]/r[2]),0)\n",
    "G3 = G_4_1 + G_4_2 + G_4_3\n",
    "print(G3)\n",
    "\n",
    "G_5_1 = np.round(norm(mu[0], sigma[0]).ppf(1-r[4]/r[0]),0)\n",
    "G_5_2 = np.round(norm(mu[1], sigma[1]).ppf(1-r[4]/r[1]),0)\n",
    "G_5_3 = np.round(norm(mu[2], sigma[2]).ppf(1-r[4]/r[2]),0)\n",
    "G_5_4 = np.round(norm(mu[3], sigma[3]).ppf(1-r[4]/r[3]),0)\n",
    "G4 = G_5_1 + G_5_2 + G_5_3 + G_5_4\n",
    "print(G4)\n",
    "\n",
    "G_5 = C\n",
    "print(G_5)\n",
    "\n",
    "\n",
    "\n",
    "# Values for G2\n",
    "G_3_1 = np.round(norm(mu[0], sigma[0]).ppf(1-r[2]/r[0]),0)\n",
    "G_3_2 = np.round(norm(mu[1], sigma[1]).ppf(1-r[2]/r[1]),0)\n",
    "G2 = G_3_1 + G_3_2\n",
    "B3 = C - G2\n",
    "\n",
    "G1 = np.round(norm(mu[0], sigma[0]).ppf(1-r[1]/r[0]),0)  #ppf=percent point function (inverse of cumulative distribution function)\n",
    "B2 = C-G1\n",
    "B1 = C\n",
    "G3 = C\n"
   ],
   "outputs": [
    {
     "name": "stdout",
     "output_type": "stream",
     "text": [
      "9.0\n",
      "26.0\n",
      "53.0\n",
      "107.0\n",
      "160\n"
     ]
    }
   ],
   "execution_count": 54
  },
  {
   "cell_type": "code",
   "id": "d42fd4cd",
   "metadata": {
    "ExecuteTime": {
     "end_time": "2024-10-15T18:56:19.850921Z",
     "start_time": "2024-10-15T18:56:19.846337Z"
    }
   },
   "source": [
    "print(\"G1: {}\".format(G1))\n",
    "print(\"G2: {}\".format(G2))\n",
    "print(\"G3: {}\".format(G3))\n",
    "print(\"B1: {}\".format(B1))\n",
    "print(\"B2: {}\".format(B2))\n",
    "print(\"B3: {}\".format(B3))\n"
   ],
   "outputs": [
    {
     "name": "stdout",
     "output_type": "stream",
     "text": [
      "G1: 36.0\n",
      "G2: 62.0\n",
      "G3: 160\n",
      "B1: 160\n",
      "B2: 124.0\n",
      "B3: 98.0\n"
     ]
    }
   ],
   "execution_count": 4
  },
  {
   "cell_type": "code",
   "execution_count": 15,
   "id": "fc7b77d2",
   "metadata": {},
   "outputs": [],
   "source": [
    "# EMSR b with 3 classes\n",
    "r = [300, 100, 50]  # prices\n",
    "mu = [35, 25, 500]  # mean values\n",
    "sigma = [2, 2, 2]  # SDs\n",
    "C = 160  # capacity"
   ]
  },
  {
   "cell_type": "code",
   "execution_count": 16,
   "id": "3a707935",
   "metadata": {},
   "outputs": [],
   "source": [
    "# G2\n",
    "mu_2_est = mu[0] + mu[1] # estimated mu\n",
    "sigma_2_est = np.sqrt(sigma[0]**2 + sigma[1]**2)  # estimated sigma\n",
    "r_2_est = (mu[0]*r[0] + mu[1]*r[1])/(mu[0]+mu[1]) # weighted mean   \n",
    "G2 = np.round(norm(mu_2_est, sigma_2_est).ppf(1-r[2]/r_2_est),0)\n",
    "B3 = C-G2\n",
    "G1 = np.round(norm(mu[0], sigma[0]).ppf(1-r[1]/r[0]),0)  #ppf=percent point function (inverse of cumulative distribution function)\n",
    "B2 = C-G1\n",
    "B1= C\n",
    "G3 = C"
   ]
  },
  {
   "cell_type": "code",
   "execution_count": 17,
   "id": "1e1ebcdf",
   "metadata": {},
   "outputs": [
    {
     "name": "stdout",
     "output_type": "stream",
     "text": [
      "G1: 36.0\n",
      "G2: 62.0\n",
      "G3: 160\n",
      "B1: 160\n",
      "B2: 124.0\n",
      "B3: 98.0\n"
     ]
    }
   ],
   "source": [
    "print(\"G1: {}\".format(G1))\n",
    "print(\"G2: {}\".format(G2))\n",
    "print(\"G3: {}\".format(G3))\n",
    "print(\"B1: {}\".format(B1))\n",
    "print(\"B2: {}\".format(B2))\n",
    "print(\"B3: {}\".format(B3))"
   ]
  }
 ],
 "metadata": {
  "kernelspec": {
   "display_name": "Python 3 (ipykernel)",
   "language": "python",
   "name": "python3"
  },
  "language_info": {
   "codemirror_mode": {
    "name": "ipython",
    "version": 3
   },
   "file_extension": ".py",
   "mimetype": "text/x-python",
   "name": "python",
   "nbconvert_exporter": "python",
   "pygments_lexer": "ipython3",
   "version": "3.7.3"
  }
 },
 "nbformat": 4,
 "nbformat_minor": 5
}
