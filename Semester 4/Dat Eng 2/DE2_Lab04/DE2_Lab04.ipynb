{
 "cells": [
  {
   "cell_type": "markdown",
   "metadata": {},
   "source": [
    "# Data Engineering 2: Lab 04\n",
    "---------------"
   ]
  },
  {
   "cell_type": "markdown",
   "metadata": {},
   "source": [
    "### Task 01: Read the headlines of 20min."
   ]
  },
  {
   "cell_type": "markdown",
   "metadata": {},
   "source": [
    "##### Use the libraries urllib.request and  BeautifulSoup to print all headlines of the website http://20min.ch."
   ]
  },
  {
   "cell_type": "code",
   "metadata": {
    "ExecuteTime": {
     "end_time": "2025-03-17T16:51:11.677247Z",
     "start_time": "2025-03-17T16:51:11.188246Z"
    }
   },
   "source": [
    "import urllib.request\n",
    "from bs4 import BeautifulSoup\n",
    "\n",
    "url = 'http://20min.ch'\n",
    "data = urllib.request.urlopen(url).read()\n",
    "soup = BeautifulSoup(data, \"html.parser\")\n",
    "\n",
    "# Find all article elements\n",
    "articles = soup.find_all('article')\n",
    "\n",
    "# Extract and print headlines from articles\n",
    "for article in articles:\n",
    "    headline = article.find('h2') or article.find('h3') or article.find('h4')\n",
    "    if headline:\n",
    "        print(headline.get_text().strip())"
   ],
   "outputs": [
    {
     "name": "stdout",
     "output_type": "stream",
     "text": [
      "Club-InfernoDemonstration eskaliert: Café von Clubbesitzer wird zerstört\n",
      "Club-InfernoAnastasia (28): «Mein Onkel trat im Club auf – jetzt ist er tot»\n",
      "US-Familie«Jeden Tag verlieben wir uns mehr in die Schweiz»\n",
      "USATrump kippt Bidens Begnadigungen\n",
      "Huthi-AngriffeTrump droht dem Iran mit «schwerwiegenden Konsequenzen»\n",
      "A2 Richtung ChiassoWildes Hindernis sorgt für Chaos auf der Gotthard-Route\n",
      "Könizbergwald BEStaatsanwältin: Tochter war ein «Hindernis für Partyleben» von M.\n",
      "Fooby - Tagesrezept (do not move!)\n",
      "Live auf Sendung«Sie sind ein böser Mensch»: Legende knöpft sich TV-Experten vor\n",
      "Phänomenal: Der See klingt wie eine «Star Wars»-Laserwaffe\n",
      "Herzzerreissend – Elefantin trauert um ihre Freundin\n",
      "Sturm frisst Strand: Küste vor Gold Coast kaum wiederzuerkennen\n",
      "Wegen Elon Musk: US-Senator tauscht Tesla gegen Chevy\n",
      "Heftiger Sturz mit viel Blut: Weltmeister prallt mit Kopf in Tor\n",
      "«Aromat-Krise! Und was jetzt, Frau Badran?»\n",
      "Ex-Kampfsportler bietet sich als Geisel an – und stoppt Täter\n",
      "Diese Funken setzten die Decke in Brand\n",
      "«Ich bin seit 13 Jahren single»: Dating-Dschungel nervt Junge\n",
      "Taucher sichtet Hai – dann tauchen plötzlich Pottwale auf\n",
      "Alkohol-Grosshändler reagiert radikal auf Trumps Zölle\n",
      "Nostalgie pur«Wir wurden emotional»: 35 Jahre später stellen sie ihr Foto nach\n",
      "Mit 55 JahrenRosenstolz-Frontfrau AnNa R. ist unerwartet gestorben\n",
      "Diebe verwirrenLifehack: Immer einen PIN auf die Bankkarte schreiben\n",
      "MillionenstrafenExtra-Gebühr fürs Handgepäck: EU geht gegen Billig-Airlines vor\n",
      "Er wurde 89 Jahre alt: Peter Bichsel ist tot\n",
      "Pannenstreifen als Zusatzspur – weitere A1-Abschnitte folgen\n",
      "Das sind die Favoriten für die Nachfolge von Gerhard Pfister\n",
      "Bei Hypotheken zeichnet sich eine Trendwende ab\n",
      "Sergio Ermotti verdiente 2024 14,9 Millionen Franken\n",
      "Kreml bestätigt Telefonat zwischen Trump und Putin am Dienstag\n",
      "«Überall lagen verbrannte Körper»: Zahl der Toten steigt auf 59\n",
      "Nächster Sieg! Fabel-Meillard schlägt schon wieder zu\n",
      "Milliarden-Angebot abgelehnt: Hätte die CS doch überleben können?\n",
      "«Eure Zeit ist abgelaufen»: 20 Tote bei US-Angriff auf Huthis\n",
      "Trump aktiviert 227 Jahre altes Gesetz – Richter stoppt ihn\n",
      "Grossdemo: «Ich glaube, das ist das Ende des Regimes»\n",
      "Eure MeinungAutoprüfung mit Assistenzsystemen: «Lernt erst richtig fahren!»\n",
      "Camp in FaroBei Hudelwetter: Nati-Stars lächeln ihre Krise in Portugal weg\n",
      "Radio Widget\n",
      "USASchwarzer Kriegsheld wird vom Pentagon gelöscht\n",
      "Hasserfüllte Kindergesichter: Der IS-Nachwuchs aus Sektor 6\n",
      "Laura geht mit Baby zum Job-Interview – dann hagelt es Kritik\n",
      "«Ich bin seit 13 Jahren single»: Dating-Dschungel nervt Junge\n",
      "«Das war so nicht geplant» – 20 Minuten released Rapsong\n",
      "Radikaler Umbau: Darf Trump das überhaupt?\n",
      "Jana und Anika: «Der geringe Frauenanteil im Bundesrat nervt»\n",
      "Steigt Hansjörg Wyss in den Kampf gegen Trump ein?\n",
      "So sähen die Läden ohne US-amerikanische Produkte aus\n",
      "Onlineshop droht Kundin nach negativer Bewertung mit Strafanzeige\n",
      "«Büchse der Pandora geöffnet» – Uber sorgt für Ärger bei Taxis\n",
      "284 Haushalte erhalten aufs Mal die Kündigung\n",
      "«Bin hier zu Hause»: Kevin (21) wird abgeschoben\n",
      "MenschenleerDas sind die einsamsten Orte der Welt\n",
      "Weinfelden TGMeldet sich der Räuber nicht, werden Fotos unverpixelt gezeigt\n",
      "Santa FeMysteriöser Anruf: War Betsy Arakawa wirklich am 11. Februar tot?\n",
      "AufrufWer betreut dein Kind?\n",
      "«Aromat-Krise! Und was jetzt, Frau Badran?»\n",
      "«Das war so nicht geplant» – 20 Minuten released Rapsong\n",
      "«Hätt ich doch»: Das ist der Rapsong von 20 Minuten und Skip\n",
      "Was hat Will Smith mit Doechii zu tun?\n",
      "Heidi Klum kann akzentfreies Türkisch\n",
      "Das ist die «echte» Lilo\n",
      "Lenny (9) jammt mit Lenny (60)\n",
      "Rihanna übt Französisch\n",
      "Besser aussehen dank Farbanalyse: Wie funktioniert das?\n",
      "Wettingen AGDie Flucht im geklauten Porsche endete im Zaun\n",
      "Obermumpf AGFrau (55) tot im Badezimmer gefunden – Ehemann (60) festgenommen\n",
      "Dein tägliches Horoskop\n",
      "Beromünster LU204 km/h in 80er-Zone: Raser festgenommen\n",
      "Schädliche Impfungen: Kennedy wedelte mit wertloser Studie\n",
      "Virales Trump-Jr.-Audio ist ziemlich sicher eine KI-Fälschung\n",
      "Diese «Gene-Hackman-Ankündigung» zur Epstein-Kundenliste ist fake\n",
      "Trump wirft Selenski «Undankbarkeit» vor – hat er recht?\n",
      "HIV in Covid-Impfstoff? Schnipsel aus BBC-Doku missbraucht\n",
      "Hat Musk junior Präsident Trump wirklich angeblafft?\n"
     ]
    }
   ],
   "execution_count": 17
  },
  {
   "cell_type": "markdown",
   "metadata": {},
   "source": [
    "### Task 02: Read a Wikipedia Page."
   ]
  },
  {
   "cell_type": "markdown",
   "metadata": {},
   "source": [
    "##### Use the libraries urllib.request and  BeautifulSoup to create csv data of the table from the website https://en.wikipedia.org/wiki/List_of_FIFA_World_Cup_finals."
   ]
  },
  {
   "cell_type": "code",
   "metadata": {
    "ExecuteTime": {
     "end_time": "2025-03-17T16:57:31.956168Z",
     "start_time": "2025-03-17T16:57:31.663401Z"
    }
   },
   "source": [
    "# https://en.wikipedia.org/wiki/List_of_FIFA_World_Cup_finals\n",
    "# This Wikipedia page has a table with data on all of the Fifa World Cup Finals. \n",
    "# Our goal is to use Beautiful Soup to scrape some of this data into a CSV file. \n",
    "# The columns of the CSV should be: \n",
    "# year, \n",
    "# winners,\n",
    "# score,\n",
    "# runners-up, \n",
    "# venue,\n",
    "# location,\n",
    "# and attendance.\n",
    "# Use commas as the delimiter.\n",
    "\n",
    "import urllib.request\n",
    "from bs4 import BeautifulSoup\n",
    "\n",
    "url = 'https://en.wikipedia.org/wiki/List_of_FIFA_World_Cup_finals'\n",
    "data = urllib.request.urlopen(url).read()\n",
    "soup = BeautifulSoup(data, \"html.parser\")\n",
    "\n",
    "table_rows = soup.select(\".wikitable\")[1].select(\"tr\")\n",
    "\n",
    "csv_data = [['year', 'winners', 'score', 'runners-up', 'venue', 'location', 'attendance']]\n",
    "\n",
    "for row in table_rows[1:]:\n",
    "    correct = False\n",
    "    tds = row.select('td')\n",
    "    year = row.select('th')[0].text.strip()\n",
    "    if year.isdigit() and len(year) == 4 and int(year) < 2024:\n",
    "        correct = True\n",
    "    if correct:\n",
    "        winners = tds[0].text.strip()\n",
    "        score = tds[1].text.strip()\n",
    "        runners_up = tds[2].text.strip()\n",
    "        venue = tds[3].text.strip()\n",
    "        location = tds[4].text.strip()\n",
    "        attendance = tds[5].text.strip()\n",
    "        csv_data.append([year, winners, score, runners_up, venue, location, attendance])\n",
    "\n",
    "print(csv_data)"
   ],
   "outputs": [
    {
     "name": "stdout",
     "output_type": "stream",
     "text": [
      "[['year', 'winners', 'score', 'runners-up', 'venue', 'location', 'attendance'], ['1930', 'Uruguay', '4–2', 'Argentina', 'Estadio Centenario', 'Montevideo, Uruguay', '68,346'], ['1934', 'Italy', '2–1 (a.e.t.)', 'Czechoslovakia', 'Stadio Nazionale PNF', 'Rome, Italy', '55,000'], ['1938', 'Italy', '4–2', 'Hungary', 'Stade Olympique de Colombes', 'Paris, France', '45,000'], ['1950', 'Uruguay', '2–1[n 3]', 'Brazil', 'Maracanã Stadium', 'Rio de Janeiro, Brazil', '173,850'], ['1954', 'West Germany', '3–2', 'Hungary', 'Wankdorf Stadium', 'Bern, Switzerland', '62,500'], ['1958', 'Brazil', '5–2', 'Sweden', 'Råsunda Stadium', 'Solna, Sweden', '49,737'], ['1962', 'Brazil', '3–1', 'Czechoslovakia', 'Estadio Nacional', 'Santiago, Chile', '68,679'], ['1966', 'England', '4–2 (a.e.t.)', 'West Germany', 'Wembley Stadium', 'London, England', '96,924'], ['1970', 'Brazil', '4–1', 'Italy', 'Estadio Azteca', 'Mexico City, Mexico', '107,412'], ['1974', 'West Germany', '2–1', 'Netherlands', 'Olympiastadion', 'Munich, West Germany', '78,200'], ['1978', 'Argentina', '3–1 (a.e.t.)', 'Netherlands', 'Estadio Monumental', 'Buenos Aires, Argentina', '71,483'], ['1982', 'Italy', '3–1', 'West Germany', 'Santiago Bernabéu', 'Madrid, Spain', '90,000'], ['1986', 'Argentina', '3–2', 'West Germany', 'Estadio Azteca', 'Mexico City, Mexico', '114,600'], ['1990', 'West Germany', '1–0', 'Argentina', 'Stadio Olimpico', 'Rome, Italy', '73,603'], ['1994', 'Brazil', '0–0 (a.e.t.)(3–2 pen.)', 'Italy', 'Rose Bowl', 'Pasadena, United States', '94,194'], ['1998', 'France', '3–0', 'Brazil', 'Stade de France', 'Saint-Denis, France', '80,000'], ['2002', 'Brazil', '2–0', 'Germany', 'International Stadium', 'Yokohama, Japan', '69,029'], ['2006', 'Italy', '1–1 (a.e.t.)(5–3 pen.)', 'France', 'Olympiastadion', 'Berlin, Germany', '69,000'], ['2010', 'Spain', '1–0 (a.e.t.)', 'Netherlands', 'Soccer City', 'Johannesburg, South Africa', '84,490'], ['2014', 'Germany', '1–0 (a.e.t.)', 'Argentina', 'Maracanã Stadium', 'Rio de Janeiro, Brazil', '74,738'], ['2018', 'France', '4–2', 'Croatia', 'Luzhniki Stadium', 'Moscow, Russia', '78,011'], ['2022', 'Argentina', '3–3 (a.e.t.)(4–2 pen.)', 'France', 'Lusail Stadium', 'Lusail, Qatar', '88,966']]\n"
     ]
    }
   ],
   "execution_count": 27
  }
 ],
 "metadata": {
  "kernelspec": {
   "display_name": "Python 3",
   "language": "python",
   "name": "python3"
  },
  "language_info": {
   "codemirror_mode": {
    "name": "ipython",
    "version": 3
   },
   "file_extension": ".py",
   "mimetype": "text/x-python",
   "name": "python",
   "nbconvert_exporter": "python",
   "pygments_lexer": "ipython3",
   "version": "3.8.6"
  }
 },
 "nbformat": 4,
 "nbformat_minor": 4
}
