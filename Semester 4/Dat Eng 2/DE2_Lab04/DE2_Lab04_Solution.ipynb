{
 "cells": [
  {
   "cell_type": "markdown",
   "metadata": {},
   "source": [
    "# Data Engineering 2: Lab 04 - Solution\n",
    "---------------"
   ]
  },
  {
   "cell_type": "markdown",
   "metadata": {},
   "source": [
    "### Task 01: Read the headlines of 20min."
   ]
  },
  {
   "cell_type": "markdown",
   "metadata": {},
   "source": [
    "##### Use the libraries urllib.request and  BeautifulSoup to print all headlines of the website http://20min.ch."
   ]
  },
  {
   "cell_type": "code",
   "metadata": {
    "ExecuteTime": {
     "end_time": "2025-03-17T16:52:14.494073Z",
     "start_time": "2025-03-17T16:52:13.858781Z"
    }
   },
   "source": [
    "import urllib.request\n",
    "from bs4 import BeautifulSoup\n",
    "\n",
    "url = 'http://20min.ch'\n",
    "data = urllib.request.urlopen(url).read()\n",
    "soup = BeautifulSoup(data, \"html.parser\")\n",
    "\n",
    "\n",
    "articles = soup.select(\"article\")\n",
    "\n",
    "mydivs = soup.find_all(\"span\", {\"class\": \"sc-rnw73m-7 ljalBg\"})\n",
    "\n",
    "for div in mydivs:\n",
    "    print(div.text)"
   ],
   "outputs": [],
   "execution_count": 1
  },
  {
   "cell_type": "markdown",
   "metadata": {},
   "source": [
    "### Task 02: Read a Wikipedia Page."
   ]
  },
  {
   "cell_type": "markdown",
   "metadata": {},
   "source": [
    "##### Use the libraries urllib.request and  BeautifulSoup to create csv data of the table from the website https://en.wikipedia.org/wiki/List_of_FIFA_World_Cup_finals."
   ]
  },
  {
   "cell_type": "code",
   "metadata": {
    "ExecuteTime": {
     "end_time": "2025-03-17T16:56:29.211811Z",
     "start_time": "2025-03-17T16:56:28.847631Z"
    }
   },
   "source": [
    "# https://en.wikipedia.org/wiki/List_of_FIFA_World_Cup_finals\n",
    "# This Wikipedia page has a table with data on all of the Fifa World Cup Finals. \n",
    "# Our goal is to use Beautiful Soup to scrape some of this data into a CSV file. \n",
    "# The columns of the CSV should be: \n",
    "# year, \n",
    "# winners,\n",
    "# score,\n",
    "# runners-up, \n",
    "# venue,\n",
    "# location,\n",
    "# and attendance.\n",
    "# Use commas as the delimiter.\n",
    "\n",
    "import urllib.request\n",
    "from bs4 import BeautifulSoup\n",
    "\n",
    "url = 'https://en.wikipedia.org/wiki/List_of_FIFA_World_Cup_finals'\n",
    "data = urllib.request.urlopen(url).read()\n",
    "soup = BeautifulSoup(data, \"html.parser\")\n",
    "\n",
    "table_rows = soup.select(\".wikitable\")[1].select(\"tr\")\n",
    "\n",
    "csv_data = [['year', 'winners', 'score', 'runners-up', 'venue', 'location', 'attendance']]\n",
    "for row in table_rows[1:]:\n",
    "    correct = False\n",
    "    tds = row.select('td')\n",
    "    year = row.select('th')[0].text.strip()\n",
    "    if year.isdigit() and len(year) == 4 and int(year) < 2024:\n",
    "        correct = True\n",
    "    if correct:\n",
    "        winners = tds[0].text.strip()\n",
    "        score = tds[1].text.strip()\n",
    "        runners_up = tds[2].text.strip()\n",
    "        venue = tds[3].text.strip()\n",
    "        location = tds[4].text.strip()\n",
    "        attendance = tds[5].text.strip()\n",
    "    if correct:\n",
    "        csv_data.append([year, winners, runners_up, venue, location, attendance])\n",
    "\n",
    "print(csv_data)"
   ],
   "outputs": [
    {
     "name": "stdout",
     "output_type": "stream",
     "text": [
      "[['year', 'winners', 'score', 'runners-up', 'venue', 'location', 'attendance'], ['1930', 'Uruguay', 'Argentina', 'Estadio Centenario', 'Montevideo, Uruguay', '68,346'], ['1934', 'Italy', 'Czechoslovakia', 'Stadio Nazionale PNF', 'Rome, Italy', '55,000'], ['1938', 'Italy', 'Hungary', 'Stade Olympique de Colombes', 'Paris, France', '45,000'], ['1950', 'Uruguay', 'Brazil', 'Maracanã Stadium', 'Rio de Janeiro, Brazil', '173,850'], ['1954', 'West Germany', 'Hungary', 'Wankdorf Stadium', 'Bern, Switzerland', '62,500'], ['1958', 'Brazil', 'Sweden', 'Råsunda Stadium', 'Solna, Sweden', '49,737'], ['1962', 'Brazil', 'Czechoslovakia', 'Estadio Nacional', 'Santiago, Chile', '68,679'], ['1966', 'England', 'West Germany', 'Wembley Stadium', 'London, England', '96,924'], ['1970', 'Brazil', 'Italy', 'Estadio Azteca', 'Mexico City, Mexico', '107,412'], ['1974', 'West Germany', 'Netherlands', 'Olympiastadion', 'Munich, West Germany', '78,200'], ['1978', 'Argentina', 'Netherlands', 'Estadio Monumental', 'Buenos Aires, Argentina', '71,483'], ['1982', 'Italy', 'West Germany', 'Santiago Bernabéu', 'Madrid, Spain', '90,000'], ['1986', 'Argentina', 'West Germany', 'Estadio Azteca', 'Mexico City, Mexico', '114,600'], ['1990', 'West Germany', 'Argentina', 'Stadio Olimpico', 'Rome, Italy', '73,603'], ['1994', 'Brazil', 'Italy', 'Rose Bowl', 'Pasadena, United States', '94,194'], ['1998', 'France', 'Brazil', 'Stade de France', 'Saint-Denis, France', '80,000'], ['2002', 'Brazil', 'Germany', 'International Stadium', 'Yokohama, Japan', '69,029'], ['2006', 'Italy', 'France', 'Olympiastadion', 'Berlin, Germany', '69,000'], ['2010', 'Spain', 'Netherlands', 'Soccer City', 'Johannesburg, South Africa', '84,490'], ['2014', 'Germany', 'Argentina', 'Maracanã Stadium', 'Rio de Janeiro, Brazil', '74,738'], ['2018', 'France', 'Croatia', 'Luzhniki Stadium', 'Moscow, Russia', '78,011'], ['2022', 'Argentina', 'France', 'Lusail Stadium', 'Lusail, Qatar', '88,966']]\n"
     ]
    }
   ],
   "execution_count": 2
  }
 ],
 "metadata": {
  "kernelspec": {
   "display_name": "Python 3",
   "language": "python",
   "name": "python3"
  },
  "language_info": {
   "codemirror_mode": {
    "name": "ipython",
    "version": 3
   },
   "file_extension": ".py",
   "mimetype": "text/x-python",
   "name": "python",
   "nbconvert_exporter": "python",
   "pygments_lexer": "ipython3",
   "version": "3.8.6"
  }
 },
 "nbformat": 4,
 "nbformat_minor": 4
}
