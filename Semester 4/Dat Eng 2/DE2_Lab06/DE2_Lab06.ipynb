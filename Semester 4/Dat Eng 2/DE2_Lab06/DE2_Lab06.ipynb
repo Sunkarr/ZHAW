{
 "cells": [
  {
   "cell_type": "markdown",
   "source": [
    "# Data Engineering 2: Lab 06 - Solution\n---------------"
   ],
   "metadata": {
    "application/vnd.databricks.v1+cell": {
     "showTitle": false,
     "cellMetadata": {},
     "nuid": "566166df-0494-4f51-9829-fc49d03e0fb0",
     "inputWidgets": {},
     "title": ""
    }
   }
  },
  {
   "cell_type": "code",
   "source": [
    "# Import graphframes into the libaries of your cluster (take the jar of the zip archive)\n",
    "\n",
    "from graphframes import *\n",
    "from pyspark.sql.functions import desc\n",
    "from seaborn.external.docscrape import header\n",
    "\n",
    "#TODO: replace these paths with your csv upload paths\n",
    "\n",
    "celebrities = spark.read.option(\"inferSchema\", \"true\").csv(\"path\", sep=\",\", header=True)\n",
    "celebrities.printSchema()\n",
    "\n",
    "followers = spark.read.option(\"inferSchema\", \"true\").csv(\"path\", sep=\",\", header=True)\n",
    "followers.printSchema()"
   ],
   "metadata": {
    "application/vnd.databricks.v1+cell": {
     "showTitle": false,
     "cellMetadata": {},
     "nuid": "3d3d6b21-a378-4317-8742-7cfa8a647d19",
     "inputWidgets": {},
     "title": ""
    }
   },
   "outputs": [],
   "execution_count": 0
  },
  {
   "metadata": {},
   "cell_type": "code",
   "outputs": [],
   "execution_count": null,
   "source": [
    "# TODO: print 10 entries of the celebrities\n",
    "\n",
    "celebrities.toPandas().head(10)\n",
    "\n",
    "# TODO: print 3 entries of the Followers == edge table\n",
    "\n",
    "followers.toPandas().head(3)"
   ]
  },
  {
   "cell_type": "code",
   "source": [
    "#TODO: build graph\n",
    "\n",
    "celebrities_follower = GraphFrame(celebrities, followers)\n",
    "print(celebrities_follower.show())"
   ],
   "metadata": {
    "application/vnd.databricks.v1+cell": {
     "showTitle": false,
     "cellMetadata": {},
     "nuid": "86efd04d-12b6-42ec-ab5b-3347a40b7389",
     "inputWidgets": {},
     "title": ""
    }
   },
   "outputs": [],
   "execution_count": 0
  },
  {
   "cell_type": "code",
   "source": [
    "#TODO: print the age of the youngest celebrity\n",
    "\n",
    "display(celebrities_follower.vertices.groupBy().min(\"age\"))\n",
    "\n",
    "#TODO: print the age of the oldest celebrity\n",
    "\n",
    "oldest = celebrity_follower.vertices.groupBy().max(\"age\")\n",
    "display(oldest)"
   ],
   "metadata": {
    "application/vnd.databricks.v1+cell": {
     "showTitle": false,
     "cellMetadata": {},
     "nuid": "9e246678-c633-4a50-8ddd-c10774eca328",
     "inputWidgets": {},
     "title": ""
    }
   },
   "outputs": [],
   "execution_count": 0
  },
  {
   "cell_type": "code",
   "source": [
    "# Find out more info on the oldest person in the graph\n",
    "# Note: we can use the collect() API to return the list of results (in this case, only 1) \n",
    "# so in order to get the actual value for maxAge we need to:\n",
    "\n",
    "# TODO: 1. collect the results\n",
    "\n",
    "results = oldest.collect()\n",
    "\n",
    "# TODO: 2. get the first element in the list == a row\n",
    "\n",
    "firstElem = results[0]\n",
    "\n",
    "# TODO: 3. get the value of the field we need and convert it to a string. Note: it's better to address by name, but could also have done it by ID (ie \"firstElem[0]\")\n",
    "\n",
    "maxAge = str(firstElem[\"max(age)\"])\n",
    "\n",
    "# TODO: 4. filter by age, where the age must be = the maximum age we just computed\n",
    "\n",
    "display(celebrities_follower.vertices.filter(\"age=\" + maxAge))"
   ],
   "metadata": {
    "application/vnd.databricks.v1+cell": {
     "showTitle": false,
     "cellMetadata": {},
     "nuid": "0212795a-8ab9-4b4f-a68c-131a50ae7624",
     "inputWidgets": {},
     "title": ""
    }
   },
   "outputs": [],
   "execution_count": 0
  },
  {
   "cell_type": "code",
   "source": [
    "# TODO: print the average age of all celebrities\n",
    "\n",
    "display(celebrities_follower.vertices.groupBy().avg(\"age\"))"
   ],
   "metadata": {
    "application/vnd.databricks.v1+cell": {
     "showTitle": false,
     "cellMetadata": {},
     "nuid": "20250888-a892-425b-b80f-611a22749062",
     "inputWidgets": {},
     "title": ""
    }
   },
   "outputs": [],
   "execution_count": 0
  },
  {
   "cell_type": "code",
   "source": [
    "# TODO: print the number of incoming edges per vertex\n",
    "\n",
    "display(celebrities_follower.inDegrees)"
   ],
   "metadata": {
    "application/vnd.databricks.v1+cell": {
     "showTitle": false,
     "cellMetadata": {},
     "nuid": "04bfca7d-c45d-439f-aeb8-53aa90983393",
     "inputWidgets": {},
     "title": ""
    }
   },
   "outputs": [],
   "execution_count": 0
  },
  {
   "cell_type": "code",
   "source": [
    "# TODO: print the number of outgoing edges per vertex\n",
    "\n",
    "display(celebrities_follower.outDegrees)"
   ],
   "metadata": {
    "application/vnd.databricks.v1+cell": {
     "showTitle": false,
     "cellMetadata": {},
     "nuid": "7195809f-0e7c-480b-9c87-7d27f6447355",
     "inputWidgets": {},
     "title": ""
    }
   },
   "outputs": [],
   "execution_count": 0
  },
  {
   "cell_type": "code",
   "source": [
    "# TODO: print the most influential celebrity will have the biggest number of followers\n",
    "# first we need to retrieve this value\n",
    "\n",
    "maxNumFollowers = celebrity_follower.inDegrees.groupBy().max(\"inDegree\")\n",
    "display(maxNumFollowers)"
   ],
   "metadata": {
    "application/vnd.databricks.v1+cell": {
     "showTitle": false,
     "cellMetadata": {},
     "nuid": "8c1732d4-f616-4dfa-b60f-4b62f3c00a3d",
     "inputWidgets": {},
     "title": ""
    }
   },
   "outputs": [],
   "execution_count": 0
  },
  {
   "cell_type": "code",
   "source": [
    "# TODO: Find out more info on the most influential in the graph\n",
    "\n",
    "# we use the same trick as above to get the value of the id for the most influential celebrity\n",
    "# the collect() API always returns a list\n",
    "# so we need to take the first element (row) and then extract from it the id\n",
    "\n",
    "# we use a filter to return the id of the celebrity with that number of followers\n",
    "\n",
    "results = maxNumFollowers.collect()\n",
    "firstElem = results[0]\n",
    "maxNumFollowersValue = maxNumFollowers.collect()[0][\"max(inDegree)\"]\n",
    "mostFollowedCelebrityID = celebrity_follower.inDegrees.filter('inDegree=' + str(maxNumFollowersValue))\n",
    "display(mostFollowedCelebrityID)"
   ],
   "metadata": {
    "application/vnd.databricks.v1+cell": {
     "showTitle": false,
     "cellMetadata": {},
     "nuid": "c5027a00-c196-4fcc-a2f0-5752b09b5a6a",
     "inputWidgets": {},
     "title": ""
    }
   },
   "outputs": [],
   "execution_count": 0
  },
  {
   "cell_type": "code",
   "source": [
    "# TODO: Get more information about the most followed celebrity. Join back (by ID) with the original celebrities dataframe and print the result.\n",
    "\n",
    "mostFollowedCelebrity = celebrity_follower.vertices.join(mostFollowedCelebrityID, \"id\")\n",
    "display(mostFollowedCelebrity)"
   ],
   "metadata": {
    "application/vnd.databricks.v1+cell": {
     "showTitle": false,
     "cellMetadata": {},
     "nuid": "320aa015-6401-40c0-83f4-8a31ff7ab70d",
     "inputWidgets": {},
     "title": ""
    }
   },
   "outputs": [],
   "execution_count": 0
  },
  {
   "cell_type": "code",
   "source": [
    "# TODO: count the number of celebrities by profession and sort descending\n",
    "\n",
    "countProfessions = celebrities_follower.vertices.groupBy(\"profession\").count().sort(desc(\"count\"))\n",
    "display(countProfessions)"
   ],
   "metadata": {
    "application/vnd.databricks.v1+cell": {
     "showTitle": false,
     "cellMetadata": {},
     "nuid": "c3d249f5-9c2d-40f3-b1f8-14c69ca16af6",
     "inputWidgets": {},
     "title": ""
    }
   },
   "outputs": [],
   "execution_count": 0
  },
  {
   "cell_type": "code",
   "source": [
    "# TODO: print reciprocal relationships (like in the lecture)\n",
    "\n",
    "# Kanten-DataFrame (wir nehmen an: src folgt dst)\n",
    "edges = celebrities_follower.edges.select(\"src\", \"dst\")\n",
    "\n",
    "# Vertauschte Version: dst folgt src\n",
    "reversed_edges = edges.selectExpr(\"dst as src\", \"src as dst\")\n",
    "\n",
    "# Schnittmenge (reziproke Beziehungen)\n",
    "reciprocal = edges.intersect(reversed_edges)\n",
    "\n",
    "# Optional: sortieren und anzeigen\n",
    "reciprocal = reciprocal.sort(desc(\"src\"), desc(\"dst\"))\n",
    "display(reciprocal)"
   ],
   "metadata": {
    "application/vnd.databricks.v1+cell": {
     "showTitle": false,
     "cellMetadata": {},
     "nuid": "17692c37-95f3-4e56-8363-501eb2568c28",
     "inputWidgets": {},
     "title": ""
    }
   },
   "outputs": [],
   "execution_count": 0
  },
  {
   "cell_type": "code",
   "source": [
    "# TODO: print the motifs of the query before and filter for person1 = Lady Gaga\n",
    "filtered = reciprocal.filter(\"person1.Name = 'Lady Gaga'\")\n",
    "display(filtered)"
   ],
   "metadata": {
    "application/vnd.databricks.v1+cell": {
     "showTitle": false,
     "cellMetadata": {},
     "nuid": "d211591a-9166-48df-8f6e-63d3287abca9",
     "inputWidgets": {},
     "title": ""
    }
   },
   "outputs": [],
   "execution_count": 0
  },
  {
   "cell_type": "code",
   "source": [
    "# TODO: print the motifs of the query before and filter out all professions = singer of person2\n"
   ],
   "metadata": {
    "application/vnd.databricks.v1+cell": {
     "showTitle": false,
     "cellMetadata": {},
     "nuid": "180a0f43-57fb-49c8-bd38-a27036982f78",
     "inputWidgets": {},
     "title": ""
    }
   },
   "outputs": [],
   "execution_count": 0
  }
 ],
 "metadata": {
  "name": "GraphProcessing1_SOLUTION",
  "notebookId": 3898893635898225,
  "application/vnd.databricks.v1+notebook": {
   "notebookName": "DE2_Lab06",
   "dashboards": [],
   "notebookMetadata": {
    "pythonIndentUnit": 2
   },
   "language": "python",
   "widgets": {},
   "notebookOrigID": 1511417866088479
  }
 },
 "nbformat": 4,
 "nbformat_minor": 0
}
