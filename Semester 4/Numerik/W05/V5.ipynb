{
 "cells": [
  {
   "metadata": {},
   "cell_type": "markdown",
   "source": "# Nichtlineare Gleichungen",
   "id": "19452b1a5d7ad47b"
  },
  {
   "metadata": {},
   "cell_type": "markdown",
   "source": "## Bisektionsverfahren",
   "id": "ec7a95bc058028ce"
  },
  {
   "cell_type": "code",
   "id": "initial_id",
   "metadata": {
    "collapsed": true,
    "ExecuteTime": {
     "end_time": "2025-03-17T09:14:13.195218Z",
     "start_time": "2025-03-17T09:13:49.915841Z"
    }
   },
   "source": [
    "# Importiere das Modul für Zufallszahlen\n",
    "import random as rand\n",
    "# Generiere eine Zahl zwischen minNumber und maxNumber\n",
    "minNumber = 1\n",
    "maxNumber = 500\n",
    "number2guess = rand.randint( minNumber, maxNumber )\n",
    "numberguessed = 0\n",
    "print( 'Willkommen beim Zahlen raten. Sie müssen eine Zahl zwischen',\n",
    "minNumber, 'und', maxNumber, 'erraten.' )\n",
    "print()\n",
    "1\n",
    "while numberguessed != number2guess:\n",
    "    numberguessed = int( input( 'Bitte geben Sie ihre Zahl ein: ' ))\n",
    "    if numberguessed < number2guess:\n",
    "        print( 'Die gesuchte Zahl ist höher.')\n",
    "    elif numberguessed > number2guess:\n",
    "     print( 'Die gesuchte Zahl ist tiefer.')\n",
    "    else:\n",
    "      print( 'Sehr gut! Sie haben die Zahl gefunden!.')"
   ],
   "outputs": [
    {
     "name": "stdout",
     "output_type": "stream",
     "text": [
      "Willkommen beim Zahlen raten. Sie müssen eine Zahl zwischen 1 und 500 erraten.\n",
      "\n",
      "Die gesuchte Zahl ist tiefer.\n",
      "Die gesuchte Zahl ist tiefer.\n",
      "Die gesuchte Zahl ist tiefer.\n",
      "Die gesuchte Zahl ist höher.\n",
      "Die gesuchte Zahl ist höher.\n"
     ]
    },
    {
     "ename": "KeyboardInterrupt",
     "evalue": "Interrupted by user",
     "output_type": "error",
     "traceback": [
      "\u001B[0;31m---------------------------------------------------------------------------\u001B[0m",
      "\u001B[0;31mKeyboardInterrupt\u001B[0m                         Traceback (most recent call last)",
      "Cell \u001B[0;32mIn[6], line 13\u001B[0m\n\u001B[1;32m     11\u001B[0m \u001B[38;5;241m1\u001B[39m\n\u001B[1;32m     12\u001B[0m \u001B[38;5;28;01mwhile\u001B[39;00m numberguessed \u001B[38;5;241m!=\u001B[39m number2guess:\n\u001B[0;32m---> 13\u001B[0m     numberguessed \u001B[38;5;241m=\u001B[39m \u001B[38;5;28mint\u001B[39m( \u001B[38;5;28minput\u001B[39m( \u001B[38;5;124m'\u001B[39m\u001B[38;5;124mBitte geben Sie ihre Zahl ein: \u001B[39m\u001B[38;5;124m'\u001B[39m ))\n\u001B[1;32m     14\u001B[0m     \u001B[38;5;28;01mif\u001B[39;00m numberguessed \u001B[38;5;241m<\u001B[39m number2guess:\n\u001B[1;32m     15\u001B[0m         \u001B[38;5;28mprint\u001B[39m( \u001B[38;5;124m'\u001B[39m\u001B[38;5;124mDie gesuchte Zahl ist höher.\u001B[39m\u001B[38;5;124m'\u001B[39m)\n",
      "File \u001B[0;32m~/miniconda3/lib/python3.12/site-packages/ipykernel/kernelbase.py:1282\u001B[0m, in \u001B[0;36mKernel.raw_input\u001B[0;34m(self, prompt)\u001B[0m\n\u001B[1;32m   1280\u001B[0m     msg \u001B[38;5;241m=\u001B[39m \u001B[38;5;124m\"\u001B[39m\u001B[38;5;124mraw_input was called, but this frontend does not support input requests.\u001B[39m\u001B[38;5;124m\"\u001B[39m\n\u001B[1;32m   1281\u001B[0m     \u001B[38;5;28;01mraise\u001B[39;00m StdinNotImplementedError(msg)\n\u001B[0;32m-> 1282\u001B[0m \u001B[38;5;28;01mreturn\u001B[39;00m \u001B[38;5;28mself\u001B[39m\u001B[38;5;241m.\u001B[39m_input_request(\n\u001B[1;32m   1283\u001B[0m     \u001B[38;5;28mstr\u001B[39m(prompt),\n\u001B[1;32m   1284\u001B[0m     \u001B[38;5;28mself\u001B[39m\u001B[38;5;241m.\u001B[39m_parent_ident[\u001B[38;5;124m\"\u001B[39m\u001B[38;5;124mshell\u001B[39m\u001B[38;5;124m\"\u001B[39m],\n\u001B[1;32m   1285\u001B[0m     \u001B[38;5;28mself\u001B[39m\u001B[38;5;241m.\u001B[39mget_parent(\u001B[38;5;124m\"\u001B[39m\u001B[38;5;124mshell\u001B[39m\u001B[38;5;124m\"\u001B[39m),\n\u001B[1;32m   1286\u001B[0m     password\u001B[38;5;241m=\u001B[39m\u001B[38;5;28;01mFalse\u001B[39;00m,\n\u001B[1;32m   1287\u001B[0m )\n",
      "File \u001B[0;32m~/miniconda3/lib/python3.12/site-packages/ipykernel/kernelbase.py:1325\u001B[0m, in \u001B[0;36mKernel._input_request\u001B[0;34m(self, prompt, ident, parent, password)\u001B[0m\n\u001B[1;32m   1322\u001B[0m \u001B[38;5;28;01mexcept\u001B[39;00m \u001B[38;5;167;01mKeyboardInterrupt\u001B[39;00m:\n\u001B[1;32m   1323\u001B[0m     \u001B[38;5;66;03m# re-raise KeyboardInterrupt, to truncate traceback\u001B[39;00m\n\u001B[1;32m   1324\u001B[0m     msg \u001B[38;5;241m=\u001B[39m \u001B[38;5;124m\"\u001B[39m\u001B[38;5;124mInterrupted by user\u001B[39m\u001B[38;5;124m\"\u001B[39m\n\u001B[0;32m-> 1325\u001B[0m     \u001B[38;5;28;01mraise\u001B[39;00m \u001B[38;5;167;01mKeyboardInterrupt\u001B[39;00m(msg) \u001B[38;5;28;01mfrom\u001B[39;00m \u001B[38;5;28;01mNone\u001B[39;00m\n\u001B[1;32m   1326\u001B[0m \u001B[38;5;28;01mexcept\u001B[39;00m \u001B[38;5;167;01mException\u001B[39;00m:\n\u001B[1;32m   1327\u001B[0m     \u001B[38;5;28mself\u001B[39m\u001B[38;5;241m.\u001B[39mlog\u001B[38;5;241m.\u001B[39mwarning(\u001B[38;5;124m\"\u001B[39m\u001B[38;5;124mInvalid Message:\u001B[39m\u001B[38;5;124m\"\u001B[39m, exc_info\u001B[38;5;241m=\u001B[39m\u001B[38;5;28;01mTrue\u001B[39;00m)\n",
      "\u001B[0;31mKeyboardInterrupt\u001B[0m: Interrupted by user"
     ]
    }
   ],
   "execution_count": 6
  },
  {
   "metadata": {
    "ExecuteTime": {
     "end_time": "2025-03-17T09:30:16.863386Z",
     "start_time": "2025-03-17T09:30:16.859878Z"
    }
   },
   "cell_type": "code",
   "source": [
    "def bisek_simple():\n",
    "    a = -10 # linkes Intervallende\n",
    "    b = 10 # rechtes Intervallende\n",
    "    tol = 1.e-3 # Toleranz fuer Intervallbreite\n",
    "    k = 0 # zaehlt Schleifendurchlaeufe\n",
    "    while abs(b-a) > tol:\n",
    "        mid = (a+b)/2 # Intervallmittelpunkt\n",
    "        fmid = f1( mid )\n",
    "        k = k + 1\n",
    "        # Entscheid ob linkes oder rechtes teilintervall\n",
    "        if fmid < 0:\n",
    "            a = mid\n",
    "        elif fmid > 0:\n",
    "            b = mid\n",
    "        else:\n",
    "            a = mid\n",
    "            b = mid\n",
    "        print( a, b, k )\n",
    "    return a, b, k\n",
    "\n",
    "def f1(x):\n",
    "    y = x**3 - 3\n",
    "    return y\n",
    "\n",
    "a, b, k = bisek_simple()\n",
    "print( a, b, k )"
   ],
   "id": "fa71a833b5c8a17c",
   "outputs": [
    {
     "name": "stdout",
     "output_type": "stream",
     "text": [
      "0.0 10 1\n",
      "0.0 5.0 2\n",
      "0.0 2.5 3\n",
      "1.25 2.5 4\n",
      "1.25 1.875 5\n",
      "1.25 1.5625 6\n",
      "1.40625 1.5625 7\n",
      "1.40625 1.484375 8\n",
      "1.40625 1.4453125 9\n",
      "1.42578125 1.4453125 10\n",
      "1.435546875 1.4453125 11\n",
      "1.4404296875 1.4453125 12\n",
      "1.4404296875 1.44287109375 13\n",
      "1.441650390625 1.44287109375 14\n",
      "1.441650390625 1.4422607421875 15\n",
      "1.441650390625 1.4422607421875 15\n"
     ]
    }
   ],
   "execution_count": 34
  },
  {
   "metadata": {
    "ExecuteTime": {
     "end_time": "2025-03-17T09:36:27.090494Z",
     "start_time": "2025-03-17T09:36:27.087554Z"
    }
   },
   "cell_type": "code",
   "source": [
    "def bisektion( f ):\n",
    "    a = 1 # linkes Intervallende\n",
    "    b = 2 # rechtes Intervallende\n",
    "    tol = 1.e-3 # Toleranz fuer Intervallbreite\n",
    "    k = 0 # zaehlt Schleifendurchlaeufe\n",
    "    if f(a)*f(b) > 0:\n",
    "        print( 'Bisektion unmoeglich' )\n",
    "        return\n",
    "    while abs(b-a) > tol:\n",
    "        mid = (a+b)/2 # Intervallmittelpunkt\n",
    "        fmid = f( mid )\n",
    "        k = k + 1\n",
    "        # Entscheid ob linkes oder rechtes teilintervall\n",
    "        if fmid * f(b) < 0:\n",
    "            a = mid\n",
    "        elif fmid * f(b)> 0:\n",
    "            b = mid\n",
    "        else:\n",
    "          a = mid\n",
    "          b = mid\n",
    "        print( a, b, k )"
   ],
   "id": "9b7ea639a37f5ff5",
   "outputs": [],
   "execution_count": 38
  },
  {
   "metadata": {},
   "cell_type": "markdown",
   "source": "## Newton-Verfahren",
   "id": "bfc1ba22fa8ee460"
  },
  {
   "metadata": {
    "ExecuteTime": {
     "end_time": "2025-03-17T10:11:31.657790Z",
     "start_time": "2025-03-17T10:11:31.655765Z"
    }
   },
   "cell_type": "code",
   "source": [
    "x = 1.5\n",
    "tol = 1.e-10\n",
    "k = 0\n",
    "res = abs(3-x**2)\n",
    "while res > tol:\n",
    "    x = 0.5*(x+3/x)\n",
    "    res = abs(3-x**2)\n",
    "    k=k+1\n",
    "    print( x, res, k )"
   ],
   "id": "81234e68ded80e52",
   "outputs": [
    {
     "name": "stdout",
     "output_type": "stream",
     "text": [
      "1.75 0.0625 1\n",
      "1.7321428571428572 0.00031887755102077975 2\n",
      "1.7320508100147274 8.47267322967582e-09 3\n",
      "1.7320508075688772 4.440892098500626e-16 4\n"
     ]
    }
   ],
   "execution_count": 41
  }
 ],
 "metadata": {
  "kernelspec": {
   "display_name": "Python 3",
   "language": "python",
   "name": "python3"
  },
  "language_info": {
   "codemirror_mode": {
    "name": "ipython",
    "version": 2
   },
   "file_extension": ".py",
   "mimetype": "text/x-python",
   "name": "python",
   "nbconvert_exporter": "python",
   "pygments_lexer": "ipython2",
   "version": "2.7.6"
  }
 },
 "nbformat": 4,
 "nbformat_minor": 5
}
