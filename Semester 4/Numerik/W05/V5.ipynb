{
 "cells": [
  {
   "metadata": {},
   "cell_type": "markdown",
   "source": "# Nichtlineare Gleichungen",
   "id": "19452b1a5d7ad47b"
  },
  {
   "metadata": {},
   "cell_type": "markdown",
   "source": "## Bisektionsverfahren",
   "id": "ec7a95bc058028ce"
  },
  {
   "metadata": {
    "ExecuteTime": {
     "end_time": "2025-03-17T15:25:19.646426Z",
     "start_time": "2025-03-17T15:25:18.846326Z"
    }
   },
   "cell_type": "code",
   "source": [
    "import numpy as np\n",
    "import matplotlib.pyplot as plt\n",
    "import math"
   ],
   "id": "b1ceca2721f33554",
   "outputs": [],
   "execution_count": 1
  },
  {
   "cell_type": "code",
   "id": "initial_id",
   "metadata": {
    "collapsed": true,
    "ExecuteTime": {
     "end_time": "2025-03-17T09:14:13.195218Z",
     "start_time": "2025-03-17T09:13:49.915841Z"
    }
   },
   "source": [
    "# Importiere das Modul für Zufallszahlen\n",
    "import random as rand\n",
    "# Generiere eine Zahl zwischen minNumber und maxNumber\n",
    "minNumber = 1\n",
    "maxNumber = 500\n",
    "number2guess = rand.randint( minNumber, maxNumber )\n",
    "numberguessed = 0\n",
    "print( 'Willkommen beim Zahlen raten. Sie müssen eine Zahl zwischen',\n",
    "minNumber, 'und', maxNumber, 'erraten.' )\n",
    "print()\n",
    "1\n",
    "while numberguessed != number2guess:\n",
    "    numberguessed = int( input( 'Bitte geben Sie ihre Zahl ein: ' ))\n",
    "    if numberguessed < number2guess:\n",
    "        print( 'Die gesuchte Zahl ist höher.')\n",
    "    elif numberguessed > number2guess:\n",
    "     print( 'Die gesuchte Zahl ist tiefer.')\n",
    "    else:\n",
    "      print( 'Sehr gut! Sie haben die Zahl gefunden!.')"
   ],
   "outputs": [
    {
     "name": "stdout",
     "output_type": "stream",
     "text": [
      "Willkommen beim Zahlen raten. Sie müssen eine Zahl zwischen 1 und 500 erraten.\n",
      "\n",
      "Die gesuchte Zahl ist tiefer.\n",
      "Die gesuchte Zahl ist tiefer.\n",
      "Die gesuchte Zahl ist tiefer.\n",
      "Die gesuchte Zahl ist höher.\n",
      "Die gesuchte Zahl ist höher.\n"
     ]
    },
    {
     "ename": "KeyboardInterrupt",
     "evalue": "Interrupted by user",
     "output_type": "error",
     "traceback": [
      "\u001B[0;31m---------------------------------------------------------------------------\u001B[0m",
      "\u001B[0;31mKeyboardInterrupt\u001B[0m                         Traceback (most recent call last)",
      "Cell \u001B[0;32mIn[6], line 13\u001B[0m\n\u001B[1;32m     11\u001B[0m \u001B[38;5;241m1\u001B[39m\n\u001B[1;32m     12\u001B[0m \u001B[38;5;28;01mwhile\u001B[39;00m numberguessed \u001B[38;5;241m!=\u001B[39m number2guess:\n\u001B[0;32m---> 13\u001B[0m     numberguessed \u001B[38;5;241m=\u001B[39m \u001B[38;5;28mint\u001B[39m( \u001B[38;5;28minput\u001B[39m( \u001B[38;5;124m'\u001B[39m\u001B[38;5;124mBitte geben Sie ihre Zahl ein: \u001B[39m\u001B[38;5;124m'\u001B[39m ))\n\u001B[1;32m     14\u001B[0m     \u001B[38;5;28;01mif\u001B[39;00m numberguessed \u001B[38;5;241m<\u001B[39m number2guess:\n\u001B[1;32m     15\u001B[0m         \u001B[38;5;28mprint\u001B[39m( \u001B[38;5;124m'\u001B[39m\u001B[38;5;124mDie gesuchte Zahl ist höher.\u001B[39m\u001B[38;5;124m'\u001B[39m)\n",
      "File \u001B[0;32m~/miniconda3/lib/python3.12/site-packages/ipykernel/kernelbase.py:1282\u001B[0m, in \u001B[0;36mKernel.raw_input\u001B[0;34m(self, prompt)\u001B[0m\n\u001B[1;32m   1280\u001B[0m     msg \u001B[38;5;241m=\u001B[39m \u001B[38;5;124m\"\u001B[39m\u001B[38;5;124mraw_input was called, but this frontend does not support input requests.\u001B[39m\u001B[38;5;124m\"\u001B[39m\n\u001B[1;32m   1281\u001B[0m     \u001B[38;5;28;01mraise\u001B[39;00m StdinNotImplementedError(msg)\n\u001B[0;32m-> 1282\u001B[0m \u001B[38;5;28;01mreturn\u001B[39;00m \u001B[38;5;28mself\u001B[39m\u001B[38;5;241m.\u001B[39m_input_request(\n\u001B[1;32m   1283\u001B[0m     \u001B[38;5;28mstr\u001B[39m(prompt),\n\u001B[1;32m   1284\u001B[0m     \u001B[38;5;28mself\u001B[39m\u001B[38;5;241m.\u001B[39m_parent_ident[\u001B[38;5;124m\"\u001B[39m\u001B[38;5;124mshell\u001B[39m\u001B[38;5;124m\"\u001B[39m],\n\u001B[1;32m   1285\u001B[0m     \u001B[38;5;28mself\u001B[39m\u001B[38;5;241m.\u001B[39mget_parent(\u001B[38;5;124m\"\u001B[39m\u001B[38;5;124mshell\u001B[39m\u001B[38;5;124m\"\u001B[39m),\n\u001B[1;32m   1286\u001B[0m     password\u001B[38;5;241m=\u001B[39m\u001B[38;5;28;01mFalse\u001B[39;00m,\n\u001B[1;32m   1287\u001B[0m )\n",
      "File \u001B[0;32m~/miniconda3/lib/python3.12/site-packages/ipykernel/kernelbase.py:1325\u001B[0m, in \u001B[0;36mKernel._input_request\u001B[0;34m(self, prompt, ident, parent, password)\u001B[0m\n\u001B[1;32m   1322\u001B[0m \u001B[38;5;28;01mexcept\u001B[39;00m \u001B[38;5;167;01mKeyboardInterrupt\u001B[39;00m:\n\u001B[1;32m   1323\u001B[0m     \u001B[38;5;66;03m# re-raise KeyboardInterrupt, to truncate traceback\u001B[39;00m\n\u001B[1;32m   1324\u001B[0m     msg \u001B[38;5;241m=\u001B[39m \u001B[38;5;124m\"\u001B[39m\u001B[38;5;124mInterrupted by user\u001B[39m\u001B[38;5;124m\"\u001B[39m\n\u001B[0;32m-> 1325\u001B[0m     \u001B[38;5;28;01mraise\u001B[39;00m \u001B[38;5;167;01mKeyboardInterrupt\u001B[39;00m(msg) \u001B[38;5;28;01mfrom\u001B[39;00m \u001B[38;5;28;01mNone\u001B[39;00m\n\u001B[1;32m   1326\u001B[0m \u001B[38;5;28;01mexcept\u001B[39;00m \u001B[38;5;167;01mException\u001B[39;00m:\n\u001B[1;32m   1327\u001B[0m     \u001B[38;5;28mself\u001B[39m\u001B[38;5;241m.\u001B[39mlog\u001B[38;5;241m.\u001B[39mwarning(\u001B[38;5;124m\"\u001B[39m\u001B[38;5;124mInvalid Message:\u001B[39m\u001B[38;5;124m\"\u001B[39m, exc_info\u001B[38;5;241m=\u001B[39m\u001B[38;5;28;01mTrue\u001B[39;00m)\n",
      "\u001B[0;31mKeyboardInterrupt\u001B[0m: Interrupted by user"
     ]
    }
   ],
   "execution_count": 6
  },
  {
   "metadata": {
    "ExecuteTime": {
     "end_time": "2025-03-17T09:30:16.863386Z",
     "start_time": "2025-03-17T09:30:16.859878Z"
    }
   },
   "cell_type": "code",
   "source": [
    "def bisek_simple():\n",
    "    a = -10 # linkes Intervallende\n",
    "    b = 10 # rechtes Intervallende\n",
    "    tol = 1.e-3 # Toleranz fuer Intervallbreite\n",
    "    k = 0 # zaehlt Schleifendurchlaeufe\n",
    "    while abs(b-a) > tol:\n",
    "        mid = (a+b)/2 # Intervallmittelpunkt\n",
    "        fmid = f1( mid )\n",
    "        k = k + 1\n",
    "        # Entscheid ob linkes oder rechtes teilintervall\n",
    "        if fmid < 0:\n",
    "            a = mid\n",
    "        elif fmid > 0:\n",
    "            b = mid\n",
    "        else:\n",
    "            a = mid\n",
    "            b = mid\n",
    "        print( a, b, k )\n",
    "    return a, b, k\n",
    "\n",
    "def f1(x):\n",
    "    y = x**3 - 3\n",
    "    return y\n",
    "\n",
    "a, b, k = bisek_simple()\n",
    "print( a, b, k )"
   ],
   "id": "fa71a833b5c8a17c",
   "outputs": [
    {
     "name": "stdout",
     "output_type": "stream",
     "text": [
      "0.0 10 1\n",
      "0.0 5.0 2\n",
      "0.0 2.5 3\n",
      "1.25 2.5 4\n",
      "1.25 1.875 5\n",
      "1.25 1.5625 6\n",
      "1.40625 1.5625 7\n",
      "1.40625 1.484375 8\n",
      "1.40625 1.4453125 9\n",
      "1.42578125 1.4453125 10\n",
      "1.435546875 1.4453125 11\n",
      "1.4404296875 1.4453125 12\n",
      "1.4404296875 1.44287109375 13\n",
      "1.441650390625 1.44287109375 14\n",
      "1.441650390625 1.4422607421875 15\n",
      "1.441650390625 1.4422607421875 15\n"
     ]
    }
   ],
   "execution_count": 34
  },
  {
   "metadata": {
    "ExecuteTime": {
     "end_time": "2025-03-17T15:27:50.537985Z",
     "start_time": "2025-03-17T15:27:50.536057Z"
    }
   },
   "cell_type": "code",
   "source": [
    "def bisektion( f ):\n",
    "    a = 1 # linkes Intervallende\n",
    "    b = 2 # rechtes Intervallende\n",
    "    tol = 1.e-3 # Toleranz fuer Intervallbreite\n",
    "    k = 0 # zaehlt Schleifendurchlaeufe\n",
    "    if f(a)*f(b) > 0:\n",
    "        print( 'Bisektion unmoeglich' )\n",
    "        return\n",
    "    while abs(b-a) > tol:\n",
    "        mid = (a+b)/2 # Intervallmittelpunkt\n",
    "        fmid = f( mid )\n",
    "        k = k + 1\n",
    "        # Entscheid ob linkes oder rechtes teilintervall\n",
    "        if fmid * f(b) < 0:\n",
    "            a = mid\n",
    "        elif fmid * f(b)> 0:\n",
    "            b = mid\n",
    "        else:\n",
    "          a = mid\n",
    "          b = mid\n",
    "        print( a, b, k )"
   ],
   "id": "9b7ea639a37f5ff5",
   "outputs": [],
   "execution_count": 8
  },
  {
   "metadata": {},
   "cell_type": "markdown",
   "source": "## Newton-Verfahren",
   "id": "bfc1ba22fa8ee460"
  },
  {
   "metadata": {
    "ExecuteTime": {
     "end_time": "2025-03-17T10:11:31.657790Z",
     "start_time": "2025-03-17T10:11:31.655765Z"
    }
   },
   "cell_type": "code",
   "source": [
    "x = 1.5\n",
    "tol = 1.e-10\n",
    "k = 0\n",
    "res = abs(3-x**2)\n",
    "while res > tol:\n",
    "    x = 0.5*(x+3/x)\n",
    "    res = abs(3-x**2)\n",
    "    k=k+1\n",
    "    print( x, res, k )"
   ],
   "id": "81234e68ded80e52",
   "outputs": [
    {
     "name": "stdout",
     "output_type": "stream",
     "text": [
      "1.75 0.0625 1\n",
      "1.7321428571428572 0.00031887755102077975 2\n",
      "1.7320508100147274 8.47267322967582e-09 3\n",
      "1.7320508075688772 4.440892098500626e-16 4\n"
     ]
    }
   ],
   "execution_count": 41
  },
  {
   "metadata": {},
   "cell_type": "markdown",
   "source": [
    "## Aufgabe 4\n",
    "\n",
    "Gegeben sei die Funktion f durch f(x) = x · ln(x^2) − 1.\n",
    "Gesucht ist ihre Nullstelle im Intervall I = [1, 2]."
   ],
   "id": "2d65a0505de529fe"
  },
  {
   "metadata": {
    "ExecuteTime": {
     "end_time": "2025-03-17T15:33:56.096867Z",
     "start_time": "2025-03-17T15:33:56.094401Z"
    }
   },
   "cell_type": "code",
   "source": [
    "def f_x(x):\n",
    "    y = x * np.log(x**2) - 1\n",
    "    return y\n",
    "\n",
    "def f_x_derivative(x):\n",
    "    return np.log(x**2) + 2"
   ],
   "id": "a91c29ad7ee9b410",
   "outputs": [],
   "execution_count": 14
  },
  {
   "metadata": {},
   "cell_type": "markdown",
   "source": [
    "Zeigen Sie, dass f in I das Vorzeichen wechselt und es daher eine\n",
    "Nullstelle in I geben muss. (Hinweis: siehe Bisektion)"
   ],
   "id": "fd33be194709b370"
  },
  {
   "metadata": {
    "ExecuteTime": {
     "end_time": "2025-03-17T15:39:34.145346Z",
     "start_time": "2025-03-17T15:39:34.143706Z"
    }
   },
   "cell_type": "code",
   "source": "print( f_x(1), f_x(2) )",
   "id": "72578dabcf7e4c06",
   "outputs": [
    {
     "name": "stdout",
     "output_type": "stream",
     "text": [
      "-1.0 1.7725887222397811\n",
      "0.21639532432449315\n"
     ]
    }
   ],
   "execution_count": 24
  },
  {
   "metadata": {},
   "cell_type": "markdown",
   "source": [
    "Führen Sie in Python das Newtonverfahren mit Startwert x0 = 1.5 durch.\n",
    "Nach wie vielen Iterationsschritten ist das Residuum betragsmässig kleiner als 10^(−12)?\n"
   ],
   "id": "6a40c358d7897c11"
  },
  {
   "metadata": {
    "ExecuteTime": {
     "end_time": "2025-03-17T15:37:37.868287Z",
     "start_time": "2025-03-17T15:37:37.866348Z"
    }
   },
   "cell_type": "code",
   "source": [
    "x = 1.5\n",
    "tol = 10e-12\n",
    "k = 0\n",
    "res = abs(f_x(x))\n",
    "while res > tol:\n",
    "    x = x - f_x(x)/f_x_derivative(x)\n",
    "    res = abs(f_x(x))\n",
    "    k=k+1\n",
    "    print( x, res, k )\n"
   ],
   "id": "885b4982f0aba1c8",
   "outputs": [
    {
     "name": "stdout",
     "output_type": "stream",
     "text": [
      "1.4230164722424972 0.0040203565938801145 1\n",
      "1.421530510046655 1.5522326535233333e-06 2\n",
      "1.4215299358832023 2.3159252293680765e-13 3\n"
     ]
    }
   ],
   "execution_count": 22
  },
  {
   "metadata": {},
   "cell_type": "markdown",
   "source": [
    "Bestimmen Sie mit dem Newton-Verfahren nach dem Muster der vorhergehenden Aufgabe die Nullstelle von\n",
    "f(x) = − ln(x−1)−cos(x−1) im Intervall [1.2, 1.6]."
   ],
   "id": "7e877fb520443d83"
  },
  {
   "metadata": {
    "ExecuteTime": {
     "end_time": "2025-03-17T15:48:00.442096Z",
     "start_time": "2025-03-17T15:48:00.440254Z"
    }
   },
   "cell_type": "code",
   "source": [
    "def f_x(x):\n",
    "    y = -np.log(x-1) - np.cos(x-1)\n",
    "    return y\n",
    "\n",
    "def f_x_derivative(x):\n",
    "    y = -1/(x-1) + np.sin(x-1)\n",
    "    return y"
   ],
   "id": "e169b6c27aa5dab4",
   "outputs": [],
   "execution_count": 32
  },
  {
   "metadata": {
    "ExecuteTime": {
     "end_time": "2025-03-17T15:48:07.302175Z",
     "start_time": "2025-03-17T15:48:07.299436Z"
    }
   },
   "cell_type": "code",
   "source": "print( f_x(1.2), f_x(1.6) )",
   "id": "af3f010170720168",
   "outputs": [
    {
     "name": "stdout",
     "output_type": "stream",
     "text": [
      "0.6293713345928589 -0.3145099911436877\n"
     ]
    }
   ],
   "execution_count": 33
  },
  {
   "metadata": {
    "ExecuteTime": {
     "end_time": "2025-03-17T15:48:39.216069Z",
     "start_time": "2025-03-17T15:48:39.213506Z"
    }
   },
   "cell_type": "code",
   "source": [
    "x = 1.2\n",
    "tol = 10e-12\n",
    "k = 0\n",
    "res = abs(f_x(x))\n",
    "while res > tol:\n",
    "    x = x - f_x(x)/f_x_derivative(x)\n",
    "    res = abs(f_x(x))\n",
    "    k=k+1\n",
    "    print( x, res, k )\n"
   ],
   "id": "da0a16baf917e1e",
   "outputs": [
    {
     "name": "stdout",
     "output_type": "stream",
     "text": [
      "1.3310826889365397 0.15969616797302044 1\n",
      "1.3903319764177 0.015974885053048893 2\n",
      "1.3976551138633282 0.00019859483293449554 3\n",
      "1.3977484611172741 3.156496564127309e-08 4\n",
      "1.3977484759587466 7.771561172376096e-16 5\n"
     ]
    }
   ],
   "execution_count": 34
  },
  {
   "metadata": {},
   "cell_type": "markdown",
   "source": "",
   "id": "9f7c58e1197aa85f"
  }
 ],
 "metadata": {
  "kernelspec": {
   "display_name": "Python 3",
   "language": "python",
   "name": "python3"
  },
  "language_info": {
   "codemirror_mode": {
    "name": "ipython",
    "version": 2
   },
   "file_extension": ".py",
   "mimetype": "text/x-python",
   "name": "python",
   "nbconvert_exporter": "python",
   "pygments_lexer": "ipython2",
   "version": "2.7.6"
  }
 },
 "nbformat": 4,
 "nbformat_minor": 5
}
