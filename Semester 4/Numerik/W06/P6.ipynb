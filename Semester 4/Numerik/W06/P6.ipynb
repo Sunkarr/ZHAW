{
 "cells": [
  {
   "metadata": {},
   "cell_type": "markdown",
   "source": "# Numerik Praktikum 6",
   "id": "8ed4057634e2bbce"
  },
  {
   "cell_type": "code",
   "id": "initial_id",
   "metadata": {
    "collapsed": true,
    "ExecuteTime": {
     "end_time": "2025-06-14T16:42:55.638566Z",
     "start_time": "2025-06-14T16:42:55.414726Z"
    }
   },
   "source": [
    "import numpy as np\n",
    "import matplotlib.pyplot as plt"
   ],
   "outputs": [],
   "execution_count": 2
  },
  {
   "metadata": {},
   "cell_type": "markdown",
   "source": "# Aufgabe 2 (Optimierung)\n",
   "id": "d1b9a6632a2605e5"
  },
  {
   "metadata": {
    "ExecuteTime": {
     "end_time": "2025-06-14T16:43:04.164865Z",
     "start_time": "2025-06-14T16:43:04.161821Z"
    }
   },
   "cell_type": "code",
   "source": [
    "# Bestimmen Sie mit dem Newton-Verfahren das Minimum der Funktion f(x) = tan(x) - exp(x) im Intervall [0.2, 1.2]\n",
    "\n",
    "f_x = lambda x: np.tan(x) - np.exp(x)\n",
    "f_x_d = lambda x: 1/np.cos(x)**2 - np.exp(x)\n",
    "f_x_dd = lambda x: 2*np.sin(x)/np.cos(x)**3 - np.exp(x)\n",
    "\n",
    "x = 1.2\n",
    "tol = 10e-12\n",
    "k = 0\n",
    "res = abs(f_x_d(x))\n",
    "while res > tol:\n",
    "    x = x - f_x_d(x)/f_x_dd(x)\n",
    "    res = abs(f_x_d(x))\n",
    "    k=k+1\n",
    "    print( x, res, k )"
   ],
   "id": "5fcf394f074713a2",
   "outputs": [
    {
     "name": "stdout",
     "output_type": "stream",
     "text": [
      "1.0802007406822376 1.5595674438102365 1\n",
      "0.968178431984551 0.479565293251182 2\n",
      "0.8934285716382231 0.10227903199678323 3\n",
      "0.86711395823868 0.008612384012890661 4\n",
      "0.8644636362699957 7.78954247269148e-05 5\n",
      "0.8644392248180692 6.537169028320022e-09 6\n",
      "0.8644392227690583 4.440892098500626e-16 7\n"
     ]
    }
   ],
   "execution_count": 5
  },
  {
   "metadata": {
    "ExecuteTime": {
     "end_time": "2025-03-24T14:01:49.143499Z",
     "start_time": "2025-03-24T14:01:49.095356Z"
    }
   },
   "cell_type": "code",
   "source": [
    "# plot the functions f(x), f'(x) and f''(x)\n",
    "x = np.linspace(0.2, 1.2, 100)\n",
    "y = f_x(x)\n",
    "y_d = f_x_d(x)\n",
    "y_dd = f_x_dd(x)\n",
    "\n",
    "plt.plot(x, y, label='f(x)')\n",
    "plt.plot(x, y_d, label=\"f'(x)\")\n",
    "plt.plot(x, y_dd, label=\"f''(x)\")\n",
    "plt.legend()\n",
    "plt.grid()\n",
    "plt.ylim(-3, 10)\n",
    "plt.show()"
   ],
   "id": "8efcaf92822f7406",
   "outputs": [
    {
     "data": {
      "text/plain": [
       "<Figure size 640x480 with 1 Axes>"
      ],
      "image/png": "[encoded data removed]"
     },
     "metadata": {},
     "output_type": "display_data"
    }
   ],
   "execution_count": 12
  },
  {
   "metadata": {},
   "cell_type": "markdown",
   "source": "# Aufgabe 3 (Mehrdimensionales Newton-Verfahren)",
   "id": "7d53b0c0ea831d22"
  },
  {
   "metadata": {
    "ExecuteTime": {
     "end_time": "2025-06-14T16:43:57.289834Z",
     "start_time": "2025-06-14T16:43:57.287253Z"
    }
   },
   "cell_type": "code",
   "source": [
    "def newton(f, J, x0, tol=1.e-8):\n",
    "    max_loops = 1000\n",
    "    x = x0\n",
    "    k = 0\n",
    "    res = np.linalg.norm(f(x))\n",
    "    while res > tol and k < max_loops:\n",
    "        k += 1\n",
    "        d = np.linalg.solve(J(x), f(x))\n",
    "        x = x - d\n",
    "        res = np.linalg.norm(f(x))\n",
    "    return x, k"
   ],
   "id": "17dc7c421a999700",
   "outputs": [],
   "execution_count": 6
  },
  {
   "metadata": {
    "ExecuteTime": {
     "end_time": "2025-06-14T16:43:59.269935Z",
     "start_time": "2025-06-14T16:43:59.266476Z"
    }
   },
   "cell_type": "code",
   "source": [
    "# Bestimmen Sie mit dem mehrdimensionalen Newton-Verfahren ausgehend vom Startpunkt (1, 1) die Näherungslösung des nichtlinearen Gleichungssystems\n",
    "\n",
    "f = lambda x: np.array([-2*x[0]**3 + 3*x[1]**2 + 42, 5*x[0]**2 + 3*x[1]**3 - 69])\n",
    "J = lambda x: np.array([[-6*x[0]**2, 6*x[1]], [10*x[0], 9*x[1]**2]])\n",
    "\n",
    "print(newton(f, J, np.array([1, 1])))"
   ],
   "id": "f05a2950d1494f04",
   "outputs": [
    {
     "name": "stdout",
     "output_type": "stream",
     "text": [
      "(array([3., 2.]), 16)\n"
     ]
    }
   ],
   "execution_count": 7
  },
  {
   "metadata": {},
   "cell_type": "markdown",
   "source": "# Aufgabe 4 (Mehrdimensionales Newton-Verfahren)",
   "id": "d460e9820acecdd0"
  },
  {
   "metadata": {
    "ExecuteTime": {
     "end_time": "2025-06-14T16:44:01.532002Z",
     "start_time": "2025-06-14T16:44:01.529440Z"
    }
   },
   "cell_type": "code",
   "source": [
    "def newton(f, J, x0, tol=1.e-6):\n",
    "    max_loops = 1000\n",
    "    x = x0\n",
    "    k = 0\n",
    "    res = np.linalg.norm(f(x))\n",
    "    while res > tol and k < max_loops:\n",
    "        k += 1\n",
    "        d = np.linalg.solve(J(x), f(x))\n",
    "        x = x - d\n",
    "        res = np.linalg.norm(f(x))\n",
    "    return x, k"
   ],
   "id": "d2cc83b71656ef4",
   "outputs": [],
   "execution_count": 8
  },
  {
   "metadata": {
    "ExecuteTime": {
     "end_time": "2025-06-14T16:44:03.322117Z",
     "start_time": "2025-06-14T16:44:03.319556Z"
    }
   },
   "cell_type": "code",
   "source": [
    "f = lambda x: np.array([x[0] * np.exp(x[1]) -1, x[1] - 1 - x[0]**2])\n",
    "J = lambda x: np.array([[np.exp(x[1]), x[0]*np.exp(x[1])], [-2*x[0], 1]])\n",
    "x0 = np.array([-1, -1])\n",
    "\n",
    "print(newton(f, J, x0))"
   ],
   "id": "f1186eb7916168",
   "outputs": [
    {
     "name": "stdout",
     "output_type": "stream",
     "text": [
      "(array([0.32993569, 1.10885756]), 11)\n"
     ]
    }
   ],
   "execution_count": 9
  },
  {
   "metadata": {},
   "cell_type": "markdown",
   "source": "# Aufgabe 7 (Mehrdimensionales Newton-Verfahren)",
   "id": "a09bd79795cfd6c5"
  },
  {
   "metadata": {
    "ExecuteTime": {
     "end_time": "2025-06-14T16:44:05.475223Z",
     "start_time": "2025-06-14T16:44:05.472670Z"
    }
   },
   "cell_type": "code",
   "source": [
    "f = lambda x: np.array([x[0]**2 - x[1] - 1, (x[0] - 2)**2 + (x[1] - 0.5)**2 - 1])\n",
    "J = lambda x: np.array([[2*x[0], -1], [2*x[0] - 4, 2*x[1] - 1]])"
   ],
   "id": "3de5b0cac8dcff86",
   "outputs": [],
   "execution_count": 10
  },
  {
   "metadata": {
    "ExecuteTime": {
     "end_time": "2025-06-14T16:44:07.594776Z",
     "start_time": "2025-06-14T16:44:07.493677Z"
    }
   },
   "cell_type": "code",
   "source": [
    "# zeichne einen contour plot der Funktion f(x)\n",
    "x = np.linspace(-3, 3, 100)\n",
    "\n",
    "X, Y = np.meshgrid(x, x)\n",
    "Z = f([X, Y])\n",
    "\n",
    "plt.contour(X, Y, Z[0], levels=[0], colors='r')\n",
    "plt.contour(X, Y, Z[1], levels=[0], colors='b')\n",
    "plt.grid()\n",
    "\n",
    "plt.show()"
   ],
   "id": "5452b412cef78190",
   "outputs": [
    {
     "data": {
      "text/plain": [
       "<Figure size 640x480 with 1 Axes>"
      ],
      "image/png": "[encoded data removed]"
     },
     "metadata": {},
     "output_type": "display_data"
    }
   ],
   "execution_count": 11
  },
  {
   "metadata": {
    "ExecuteTime": {
     "end_time": "2025-06-14T16:44:27.792372Z",
     "start_time": "2025-06-14T16:44:27.789800Z"
    }
   },
   "cell_type": "code",
   "source": [
    "def newton(f, J, x0, tol=1.e-4):\n",
    "    max_loops = 1000\n",
    "    x = x0\n",
    "    k = 0\n",
    "    res = np.linalg.norm(f(x))\n",
    "    while res > tol and k < max_loops:\n",
    "        k += 1\n",
    "        d = np.linalg.solve(J(x), f(x))\n",
    "        x = x - d\n",
    "        res = np.linalg.norm(f(x))\n",
    "    return x, k"
   ],
   "id": "c443059e4c8f4155",
   "outputs": [],
   "execution_count": 12
  },
  {
   "metadata": {
    "ExecuteTime": {
     "end_time": "2025-06-14T16:44:31.380024Z",
     "start_time": "2025-06-14T16:44:31.377518Z"
    }
   },
   "cell_type": "code",
   "source": [
    "x0 = np.array([1, 0])\n",
    "print(newton(f, J, x0))\n",
    "\n",
    "x1 = np.array([1.5, 1])\n",
    "print(newton(f, J, x1))"
   ],
   "id": "acb054f271e6bb3b",
   "outputs": [
    {
     "name": "stdout",
     "output_type": "stream",
     "text": [
      "(array([1.06734608, 0.13922765]), 3)\n",
      "(array([1.54634304, 1.39117672]), 4)\n"
     ]
    }
   ],
   "execution_count": 13
  }
 ],
 "metadata": {
  "kernelspec": {
   "display_name": "Python 3",
   "language": "python",
   "name": "python3"
  },
  "language_info": {
   "codemirror_mode": {
    "name": "ipython",
    "version": 2
   },
   "file_extension": ".py",
   "mimetype": "text/x-python",
   "name": "python",
   "nbconvert_exporter": "python",
   "pygments_lexer": "ipython2",
   "version": "2.7.6"
  }
 },
 "nbformat": 4,
 "nbformat_minor": 5
}
