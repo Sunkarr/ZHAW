{
 "cells": [
  {
   "metadata": {},
   "cell_type": "markdown",
   "source": "# Nichtlineare Gleichungssysteme",
   "id": "412ce656561f06de"
  },
  {
   "cell_type": "code",
   "id": "initial_id",
   "metadata": {
    "collapsed": true,
    "ExecuteTime": {
     "end_time": "2025-03-24T13:19:32.959176Z",
     "start_time": "2025-03-24T13:19:32.726082Z"
    }
   },
   "source": [
    "import numpy as np\n",
    "import matplotlib.pyplot as plt"
   ],
   "outputs": [],
   "execution_count": 1
  },
  {
   "metadata": {},
   "cell_type": "markdown",
   "source": "## Gesucht ist das Minimum der Funktion f(x) = x^2 * sin(x) im Intervall [2, 7].\n",
   "id": "8300ad7e52e7501c"
  },
  {
   "metadata": {
    "ExecuteTime": {
     "end_time": "2025-03-24T13:19:33.111572Z",
     "start_time": "2025-03-24T13:19:33.109257Z"
    }
   },
   "cell_type": "code",
   "source": [
    "f_x = lambda x: x**2 * np.sin(x)\n",
    "f_x_d = lambda x: 2*x*np.sin(x) + x**2*np.cos(x)\n",
    "f_x_dd = lambda x: 2*np.sin(x) + 4*x*np.cos(x) - x**2*np.sin(x)\n",
    "\n",
    "# Newton-Verfahren für f_x_d und f_x_dd\n",
    "x = 5\n",
    "tol = 10e-12\n",
    "k = 0\n",
    "res = abs(f_x_d(x))\n",
    "while res > tol:\n",
    "    x = x - f_x_d(x)/f_x_dd(x)\n",
    "    res = abs(f_x_d(x))\n",
    "    k=k+1\n",
    "    print( x, res, k )\n"
   ],
   "id": "195b3a3bd702dbc8",
   "outputs": [
    {
     "name": "stdout",
     "output_type": "stream",
     "text": [
      "5.090076561209913 0.09181506958197794 1\n",
      "5.086988481288664 0.00010048741784807191 2\n",
      "5.086985094106357 1.212292488617095e-10 3\n",
      "5.08698509410227 3.552713678800501e-15 4\n"
     ]
    }
   ],
   "execution_count": 2
  },
  {
   "metadata": {},
   "cell_type": "markdown",
   "source": "# Mehrdimensionales Newton-Verfahren",
   "id": "5b60920f23795203"
  },
  {
   "metadata": {
    "ExecuteTime": {
     "end_time": "2025-03-24T13:19:38.469685Z",
     "start_time": "2025-03-24T13:19:38.466893Z"
    }
   },
   "cell_type": "code",
   "source": [
    "x = (0.1, -0.1) # 2D-Startwert\n",
    "tol = 1.e-100 # Abbruchtoleranz\n",
    "k = 0\n",
    "f = (2*x[0] + 4*x[1], 4*x[0] + 8*x[1]**3) # Auswertung von 2D-f in x\n",
    "res = np.linalg.norm(f) # Norm von Vektor f\n",
    "while res > tol:\n",
    "    k = k + 1\n",
    "    # mehrdimensionale Ableitung (Jacobimatrix) an Stelle x\n",
    "    J = np.array([[2, 4], [4, 24*x[1]**2]])\n",
    "    # x = x - J^(-1)*f %2D Newton\n",
    "    # Gauss-Algorithmus, numerisch besser als d=inv(J)*f\n",
    "    d = np.linalg.solve(J, f)\n",
    "    x = x - d # 2D Newton-Schritt\n",
    "    f = [2*x[0] + 4*x[1], 4*x[0] + 8*x[1]**3] # 2D-f an neuer Stelle x\n",
    "    res = np.linalg.norm(f)\n",
    "    print('x =', x, 'in', k, 'Schritten' )"
   ],
   "id": "2d25a128f4e68d8",
   "outputs": [
    {
     "name": "stdout",
     "output_type": "stream",
     "text": [
      "x = [-0.00412371  0.00206186] in 1 Schritten\n",
      "x = [ 3.50622930e-08 -1.75311465e-08] in 2 Schritten\n",
      "x = [-1.98523347e-23  9.92616735e-24] in 3 Schritten\n",
      "x = [0. 0.] in 4 Schritten\n"
     ]
    }
   ],
   "execution_count": 3
  },
  {
   "metadata": {},
   "cell_type": "markdown",
   "source": "# Aufgabe 2",
   "id": "55c89e22ff355ca1"
  },
  {
   "metadata": {
    "ExecuteTime": {
     "end_time": "2025-03-24T13:22:43.330851Z",
     "start_time": "2025-03-24T13:22:43.326632Z"
    }
   },
   "cell_type": "code",
   "source": [
    "x = (-0.5, -0.5) # 2D-Startwert\n",
    "tol = 1.e-10 # Abbruchtoleranz\n",
    "k = 0\n",
    "f = (x[0]**2 + x[1]**2 + 0.6*x[1] - 0.16, x[0]**2 - x[1]**2 + x[0] - 1.6*x[1] - 0.14) # funktion f (Vektor)\n",
    "res = np.linalg.norm(f) # Norm von Vektor f\n",
    "while res > tol:\n",
    "    k = k + 1\n",
    "    # mehrdimensionale Ableitung (Jacobimatrix) an Stelle x\n",
    "    J = np.array([[2*x[0], 2*x[1] + 0.6], [2*x[0] + 1, -2*x[1] - 1.6]])\n",
    "    # x = x - J^(-1)*f %2D Newton\n",
    "    # Gauss-Algorithmus, numerisch besser als d=inv(J)*f\n",
    "    d = np.linalg.solve(J, f)\n",
    "    x = x - d # 2D Newton-Schritt\n",
    "    f = (x[0]**2 + x[1]**2 + 0.6*x[1] - 0.16, x[0]**2 - x[1]**2 + x[0] - 1.6*x[1] - 0.14) # funktion f (Vektor)\n",
    "    res = np.linalg.norm(f)\n",
    "    print('x =', x, 'in', k, 'Schritten' )"
   ],
   "id": "ef38ba3eb8bdcf9b",
   "outputs": [
    {
     "name": "stdout",
     "output_type": "stream",
     "text": [
      "x = [-0.56666667 -0.23333333] in 1 Schritten\n",
      "x = [-0.50773606 -0.29908987] in 2 Schritten\n",
      "x = [-0.50005985 -0.30005799] in 3 Schritten\n",
      "x = [-0.50000001 -0.3       ] in 4 Schritten\n",
      "x = [-0.5 -0.3] in 5 Schritten\n"
     ]
    }
   ],
   "execution_count": 9
  },
  {
   "metadata": {},
   "cell_type": "markdown",
   "source": "# Aufgabe 3\n",
   "id": "f6db355e62e7965d"
  },
  {
   "metadata": {},
   "cell_type": "code",
   "source": [
    "def newton(f, J, x0, tol=1.e-10):\n",
    "    max_loops = 1000\n",
    "    x = x0\n",
    "    k = 0\n",
    "    res = np.linalg.norm(f(x))\n",
    "    while res > tol and k < max_loops:\n",
    "        k += 1\n",
    "        d = np.linalg.solve(J(x), f(x))\n",
    "        x = x - d\n",
    "        res = np.linalg.norm(f(x))\n",
    "    return x, k"
   ],
   "id": "9491edd5e24087d8",
   "outputs": [],
   "execution_count": null
  },
  {
   "metadata": {
    "ExecuteTime": {
     "end_time": "2025-03-24T13:53:38.058150Z",
     "start_time": "2025-03-24T13:53:38.053838Z"
    }
   },
   "cell_type": "code",
   "source": [
    "f = lambda x: np.array([x[0]**2 + x[0]*x[1]**3 - 9, 3*x[0]**2 * x[1] - x[1]**3 - 4])\n",
    "J = lambda x: np.array([[2*x[0] + x[1]**3, 3*x[1]**2 * x[0]], [6*x[0] * x[1], 3*x[0]**2 - 3*x[1]**2]])\n",
    "\n",
    "print(newton(f, J, np.array([0.1, 0.1])))\n",
    "print(newton(f, J, np.array([1, 1])))\n",
    "print(newton(f, J, np.array([3, 0])))"
   ],
   "id": "a9a77ebd37ba50a4",
   "outputs": [
    {
     "name": "stdout",
     "output_type": "stream",
     "text": [
      "(array([-3.00162489,  0.14810799]), 27)\n",
      "(array([1.33635538, 1.7542352 ]), 7)\n",
      "(array([2.99836535, 0.14843098]), 3)\n"
     ]
    }
   ],
   "execution_count": 47
  }
 ],
 "metadata": {
  "kernelspec": {
   "display_name": "Python 3",
   "language": "python",
   "name": "python3"
  },
  "language_info": {
   "codemirror_mode": {
    "name": "ipython",
    "version": 2
   },
   "file_extension": ".py",
   "mimetype": "text/x-python",
   "name": "python",
   "nbconvert_exporter": "python",
   "pygments_lexer": "ipython2",
   "version": "2.7.6"
  }
 },
 "nbformat": 4,
 "nbformat_minor": 5
}
