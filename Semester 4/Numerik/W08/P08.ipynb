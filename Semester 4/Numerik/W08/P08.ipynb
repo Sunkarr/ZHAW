{
 "cells": [
  {
   "cell_type": "code",
   "id": "4502286ee8a6cb77",
   "metadata": {
    "ExecuteTime": {
     "end_time": "2025-06-15T15:11:18.578211Z",
     "start_time": "2025-06-15T15:11:18.575594Z"
    }
   },
   "source": "import numpy as np",
   "outputs": [],
   "execution_count": 15
  },
  {
   "metadata": {
    "ExecuteTime": {
     "end_time": "2025-06-15T15:11:18.591990Z",
     "start_time": "2025-06-15T15:11:18.584250Z"
    }
   },
   "cell_type": "code",
   "source": [
    "n = 22\n",
    "A = np.vander(np.linspace(0,1,n))\n",
    "x_exakt = np.ones(n)\n",
    "b = A@x_exakt\n",
    "x = np.linalg.solve(A,b)\n",
    "print(np.linalg.norm(x-x_exakt)/np.linalg.norm(x_exakt)*100)"
   ],
   "id": "fa889df4e9715873",
   "outputs": [
    {
     "name": "stdout",
     "output_type": "stream",
     "text": [
      "337.87252998241445\n"
     ]
    }
   ],
   "execution_count": 16
  },
  {
   "metadata": {
    "collapsed": true,
    "ExecuteTime": {
     "end_time": "2025-06-15T15:11:18.655249Z",
     "start_time": "2025-06-15T15:11:18.613260Z"
    }
   },
   "cell_type": "code",
   "source": [
    "# Berechne die Konditionierung der Matrix A\n",
    "A_inv = np.linalg.inv(A)\n",
    "A_inv_A = np.linalg.norm(A_inv) * np.linalg.norm(A)\n",
    "print(A_inv_A)"
   ],
   "id": "initial_id",
   "outputs": [
    {
     "name": "stdout",
     "output_type": "stream",
     "text": [
      "7.974834872133152e+17\n"
     ]
    }
   ],
   "execution_count": 17
  },
  {
   "metadata": {},
   "cell_type": "markdown",
   "source": "# Aufgabe 6",
   "id": "2e56039dd44694ef"
  },
  {
   "metadata": {
    "ExecuteTime": {
     "end_time": "2025-06-15T15:11:18.702349Z",
     "start_time": "2025-06-15T15:11:18.696357Z"
    }
   },
   "cell_type": "code",
   "source": [
    "def backsubst(U, y):\n",
    "    # Berechnet die Loesung x von U x = y durch Rueckwaerts-Einsetzen\n",
    "    # Dabei ist U eine rechte obere Dreiecksmatrix\n",
    "    n = len(y)\n",
    "    x = np.zeros([n, 1])\n",
    "    yy = np.array(y, np.float64)\n",
    "\n",
    "    for i in range(n - 1, -1, -1):\n",
    "        for j in range(i + 1, n):\n",
    "            yy[i] = yy[i] - U[i, j] * x[j]\n",
    "\n",
    "        if U[i, i] == 0:\n",
    "            raise Exception('U-Matrix ist singulaer!')\n",
    "        else:\n",
    "            x[i] = yy[i] / U[i, i]\n",
    "\n",
    "    return x\n",
    "\n",
    "def forwardsubst(L, b):\n",
    "    # Loese L y = b durch Vorwaerts-Einsetzen (L: linke untere Dreiecksmatrix)\n",
    "    n = len(b)\n",
    "    y = np.zeros([n, 1])\n",
    "    bb = np.array(b, np.float64)\n",
    "    for i in range(n):\n",
    "        for j in range(i):\n",
    "            bb[i] = bb[i] - L[i, j] * y[j]\n",
    "\n",
    "        if L[i, i] == 0:\n",
    "            raise Exception('L-Matrix ist singulaer!')\n",
    "        else:\n",
    "            y[i] = bb[i] / L[i, i]\n",
    "    return y"
   ],
   "id": "f5af1e3bd543243f",
   "outputs": [],
   "execution_count": 18
  },
  {
   "metadata": {
    "ExecuteTime": {
     "end_time": "2025-06-15T15:11:18.710723Z",
     "start_time": "2025-06-15T15:11:18.708537Z"
    }
   },
   "cell_type": "code",
   "source": [
    "A = np.array([[1, 2, -1], [4, -2, 6], [3, 1, 0]])\n",
    "b = np.array([9, -4, 9])"
   ],
   "id": "2c399ef1e38efc6a",
   "outputs": [],
   "execution_count": 19
  },
  {
   "metadata": {
    "ExecuteTime": {
     "end_time": "2025-06-15T15:11:18.723174Z",
     "start_time": "2025-06-15T15:11:18.719190Z"
    }
   },
   "cell_type": "code",
   "source": [
    "# Berechne die LGS-Lösung mithilfe der LU-Zerlegung mit scipy.linalg.lu\n",
    "from scipy.linalg import lu\n",
    "\n",
    "P, L, U = lu(A)\n",
    "P_transposed = P.T\n",
    "print('P:', P)\n",
    "print('P transposed:', P_transposed)\n",
    "print('L:', L)\n",
    "print('U:', U)"
   ],
   "id": "93b70f68d7ef6084",
   "outputs": [
    {
     "name": "stdout",
     "output_type": "stream",
     "text": [
      "P: [[0. 1. 0.]\n",
      " [1. 0. 0.]\n",
      " [0. 0. 1.]]\n",
      "P transposed: [[0. 1. 0.]\n",
      " [1. 0. 0.]\n",
      " [0. 0. 1.]]\n",
      "L: [[1.   0.   0.  ]\n",
      " [0.25 1.   0.  ]\n",
      " [0.75 1.   1.  ]]\n",
      "U: [[ 4.  -2.   6. ]\n",
      " [ 0.   2.5 -2.5]\n",
      " [ 0.   0.  -2. ]]\n"
     ]
    }
   ],
   "execution_count": 20
  },
  {
   "metadata": {
    "ExecuteTime": {
     "end_time": "2025-06-15T15:11:18.873853Z",
     "start_time": "2025-06-15T15:11:18.855534Z"
    }
   },
   "cell_type": "code",
   "source": [
    "# Multipliziere b mit P transposed\n",
    "b_permuted = P_transposed @ b\n",
    "\n",
    "# Berechne die LGS-Lösung mithilfe der LU-Zerlegung\n",
    "y = forwardsubst(L, b_permuted)\n",
    "x = backsubst(U, y)\n",
    "print('Lösung:', x)"
   ],
   "id": "d4e85ae78aa10b25",
   "outputs": [
    {
     "name": "stdout",
     "output_type": "stream",
     "text": [
      "Lösung: [[ 2.]\n",
      " [ 3.]\n",
      " [-1.]]\n"
     ]
    },
    {
     "name": "stderr",
     "output_type": "stream",
     "text": [
      "/var/folders/br/xflg5m_916s1bn1pdq6h9p3w0000gn/T/ipykernel_4793/1749612531.py:26: DeprecationWarning: Conversion of an array with ndim > 0 to a scalar is deprecated, and will error in future. Ensure you extract a single element from your array before performing this operation. (Deprecated NumPy 1.25.)\n",
      "  bb[i] = bb[i] - L[i, j] * y[j]\n"
     ]
    }
   ],
   "execution_count": 21
  }
 ],
 "metadata": {
  "kernelspec": {
   "display_name": "Python 3",
   "language": "python",
   "name": "python3"
  },
  "language_info": {
   "codemirror_mode": {
    "name": "ipython",
    "version": 2
   },
   "file_extension": ".py",
   "mimetype": "text/x-python",
   "name": "python",
   "nbconvert_exporter": "python",
   "pygments_lexer": "ipython2",
   "version": "2.7.6"
  }
 },
 "nbformat": 4,
 "nbformat_minor": 5
}
