{
 "cells": [
  {
   "metadata": {},
   "cell_type": "markdown",
   "source": "# LGS",
   "id": "48ed22be5468165f"
  },
  {
   "cell_type": "code",
   "id": "ac7b47abcad5a7c9",
   "metadata": {
    "ExecuteTime": {
     "end_time": "2025-06-15T13:57:43.740679Z",
     "start_time": "2025-06-15T13:57:43.738650Z"
    }
   },
   "source": "import numpy as np",
   "outputs": [],
   "execution_count": 7
  },
  {
   "metadata": {
    "ExecuteTime": {
     "end_time": "2025-06-15T13:57:43.749700Z",
     "start_time": "2025-06-15T13:57:43.747102Z"
    }
   },
   "cell_type": "code",
   "source": [
    "def backsubst(U, y):\n",
    "    # Berechnet die Loesung x von U x = y durch Rueckwaerts-Einsetzen\n",
    "    # Dabei ist U eine rechte obere Dreiecksmatrix\n",
    "    n = len(y)\n",
    "    x = np.zeros([n, 1])\n",
    "    yy = np.array(y, np.float64)\n",
    "\n",
    "    for i in range(n - 1, -1, -1):\n",
    "        for j in range(i + 1, n):\n",
    "            yy[i] = yy[i] - U[i, j] * x[j]\n",
    "\n",
    "        if U[i, i] == 0:\n",
    "            raise Exception('U-Matrix ist singulaer!')\n",
    "        else:\n",
    "            x[i] = yy[i] / U[i, i]\n",
    "\n",
    "    return x"
   ],
   "id": "80947130947fc80e",
   "outputs": [],
   "execution_count": 8
  },
  {
   "metadata": {
    "ExecuteTime": {
     "end_time": "2025-06-15T13:57:43.757777Z",
     "start_time": "2025-06-15T13:57:43.755718Z"
    }
   },
   "cell_type": "code",
   "source": [
    "# Example usage\n",
    "U = np.array([[1, -2, -1], [0, 3, 3], [0, 0, -2]])\n",
    "y = np.array([3, -6, -6])\n",
    "x = backsubst(U, y)\n",
    "print('Lösung\\n', x)"
   ],
   "id": "d79808dafc166cf9",
   "outputs": [
    {
     "name": "stdout",
     "output_type": "stream",
     "text": [
      "Lösung\n",
      " [[-4.]\n",
      " [-5.]\n",
      " [ 3.]]\n"
     ]
    },
    {
     "name": "stderr",
     "output_type": "stream",
     "text": [
      "/var/folders/br/xflg5m_916s1bn1pdq6h9p3w0000gn/T/ipykernel_4755/3327740661.py:10: DeprecationWarning: Conversion of an array with ndim > 0 to a scalar is deprecated, and will error in future. Ensure you extract a single element from your array before performing this operation. (Deprecated NumPy 1.25.)\n",
      "  yy[i] = yy[i] - U[i, j] * x[j]\n"
     ]
    }
   ],
   "execution_count": 9
  },
  {
   "metadata": {
    "ExecuteTime": {
     "end_time": "2025-06-15T13:57:43.771685Z",
     "start_time": "2025-06-15T13:57:43.769805Z"
    }
   },
   "cell_type": "code",
   "source": [
    "def forwardsubst(L, b):\n",
    "    # Loese L y = b durch Vorwaerts-Einsetzen (L: linke untere Dreiecksmatrix)\n",
    "    n = len(b)\n",
    "    y = np.zeros([n, 1])\n",
    "    bb = np.array(b, np.float64)\n",
    "    for i in range(n):\n",
    "        for j in range(i):\n",
    "            bb[i] = bb[i] - L[i, j] * y[j]\n",
    "\n",
    "        if L[i, i] == 0:\n",
    "            raise Exception('L-Matrix ist singulaer!')\n",
    "        else:\n",
    "            y[i] = bb[i] / L[i, i]\n",
    "    return y"
   ],
   "id": "b489f7f27092ec62",
   "outputs": [],
   "execution_count": 10
  },
  {
   "metadata": {
    "ExecuteTime": {
     "end_time": "2025-06-15T13:57:43.798271Z",
     "start_time": "2025-06-15T13:57:43.795740Z"
    }
   },
   "cell_type": "code",
   "source": [
    "L = np.array([[1, 0, 0], [2, 1, 0], [3, 0, 1]])\n",
    "U = np.array([[1, -2, -1], [0, 3, 3], [0, 0, -2]])\n",
    "b = np.array([[3], [0], [3]])\n",
    "\n",
    "y = forwardsubst(L, b)\n",
    "x = backsubst(U, y)\n",
    "\n",
    "print('Loesung\\n', x)\n",
    "\n",
    "r = b - (L @ U) @ x\n",
    "print('Residuum\\n', r)\n"
   ],
   "id": "6ad32fc9c701113d",
   "outputs": [
    {
     "name": "stdout",
     "output_type": "stream",
     "text": [
      "Loesung\n",
      " [[-4.]\n",
      " [-5.]\n",
      " [ 3.]]\n",
      "Residuum\n",
      " [[0.]\n",
      " [0.]\n",
      " [0.]]\n"
     ]
    }
   ],
   "execution_count": 11
  }
 ],
 "metadata": {
  "kernelspec": {
   "display_name": "Python 3",
   "language": "python",
   "name": "python3"
  },
  "language_info": {
   "codemirror_mode": {
    "name": "ipython",
    "version": 2
   },
   "file_extension": ".py",
   "mimetype": "text/x-python",
   "name": "python",
   "nbconvert_exporter": "python",
   "pygments_lexer": "ipython2",
   "version": "2.7.6"
  }
 },
 "nbformat": 4,
 "nbformat_minor": 5
}
