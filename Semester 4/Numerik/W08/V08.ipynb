{
 "cells": [
  {
   "metadata": {},
   "cell_type": "markdown",
   "source": "# LGS",
   "id": "48ed22be5468165f"
  },
  {
   "cell_type": "code",
   "id": "ac7b47abcad5a7c9",
   "metadata": {
    "ExecuteTime": {
     "end_time": "2025-04-07T08:24:10.559632Z",
     "start_time": "2025-04-07T08:24:10.490352Z"
    }
   },
   "source": "import numpy as np",
   "outputs": [],
   "execution_count": 1
  },
  {
   "metadata": {
    "ExecuteTime": {
     "end_time": "2025-04-07T08:24:10.605091Z",
     "start_time": "2025-04-07T08:24:10.600577Z"
    }
   },
   "cell_type": "code",
   "source": [
    "def backsubst(U, y):\n",
    "    # Berechnet die Loesung x von U x = y durch Rueckwaerts-Einsetzen\n",
    "    # Dabei ist U eine rechte obere Dreiecksmatrix\n",
    "    n = len(y)\n",
    "    x = np.zeros([n, 1])\n",
    "    yy = np.array(y, np.float64)\n",
    "\n",
    "    for i in range(n - 1, -1, -1):\n",
    "        for j in range(i + 1, n):\n",
    "            yy[i] = yy[i] - U[i, j] * x[j]\n",
    "\n",
    "        if U[i, i] == 0:\n",
    "            raise Exception('U-Matrix ist singulaer!')\n",
    "        else:\n",
    "            x[i] = yy[i] / U[i, i]\n",
    "\n",
    "    return x"
   ],
   "id": "80947130947fc80e",
   "outputs": [],
   "execution_count": 2
  },
  {
   "metadata": {},
   "cell_type": "code",
   "source": [
    "# Example usage\n",
    "U = np.array([[1, -2, -1], [0, 3, 3], [0, 0, -2]])\n",
    "y = np.array([3, -6, -6])\n",
    "x = backsubst(U, y)\n",
    "print('Lösung\\n', x)"
   ],
   "id": "d79808dafc166cf9",
   "outputs": [],
   "execution_count": null
  },
  {
   "metadata": {
    "ExecuteTime": {
     "end_time": "2025-04-07T08:43:34.333212Z",
     "start_time": "2025-04-07T08:43:34.330455Z"
    }
   },
   "cell_type": "code",
   "source": [
    "def forwardsubst(L, b):\n",
    "    # Loese L y = b durch Vorwaerts-Einsetzen (L: linke untere Dreiecksmatrix)\n",
    "    n = len(b)\n",
    "    y = np.zeros([n, 1])\n",
    "    bb = np.array(b, np.float64)\n",
    "    for i in range(n):\n",
    "        for j in range(i):\n",
    "            bb[i] = bb[i] - L[i, j] * y[j]\n",
    "\n",
    "        if L[i, i] == 0:\n",
    "            raise Exception('L-Matrix ist singulaer!')\n",
    "        else:\n",
    "            y[i] = bb[i] / L[i, i]\n",
    "    return y"
   ],
   "id": "b489f7f27092ec62",
   "outputs": [],
   "execution_count": 9
  },
  {
   "metadata": {
    "ExecuteTime": {
     "end_time": "2025-04-07T08:43:42.303605Z",
     "start_time": "2025-04-07T08:43:42.301160Z"
    }
   },
   "cell_type": "code",
   "source": [
    "L = np.array([[1, 0, 0], [2, 1, 0], [3, 0, 1]])\n",
    "U = np.array([[1, -2, -1], [0, 3, 3], [0, 0, -2]])\n",
    "b = np.array([[3], [0], [3]])\n",
    "\n",
    "y = forwardsubst(L, b)\n",
    "x = backsubst(U, y)\n",
    "\n",
    "print('Loesung\\n', x)\n",
    "\n",
    "r = b - (L @ U) @ x\n",
    "print('Residuum\\n', r)\n"
   ],
   "id": "6ad32fc9c701113d",
   "outputs": [
    {
     "name": "stdout",
     "output_type": "stream",
     "text": [
      "Loesung\n",
      " [[-4.]\n",
      " [-5.]\n",
      " [ 3.]]\n",
      "Residuum\n",
      " [[0.]\n",
      " [0.]\n",
      " [0.]]\n"
     ]
    }
   ],
   "execution_count": 12
  }
 ],
 "metadata": {
  "kernelspec": {
   "display_name": "Python 3",
   "language": "python",
   "name": "python3"
  },
  "language_info": {
   "codemirror_mode": {
    "name": "ipython",
    "version": 2
   },
   "file_extension": ".py",
   "mimetype": "text/x-python",
   "name": "python",
   "nbconvert_exporter": "python",
   "pygments_lexer": "ipython2",
   "version": "2.7.6"
  }
 },
 "nbformat": 4,
 "nbformat_minor": 5
}
