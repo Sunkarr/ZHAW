{
 "cells": [
  {
   "cell_type": "code",
   "id": "c6718761cc20d7fb",
   "metadata": {
    "ExecuteTime": {
     "end_time": "2025-02-17T15:21:59.519559Z",
     "start_time": "2025-02-17T15:21:59.516852Z"
    }
   },
   "source": [
    "import numpy as np\n",
    "import math\n",
    "import matplotlib.pyplot as plt"
   ],
   "outputs": [],
   "execution_count": 49
  },
  {
   "metadata": {},
   "cell_type": "markdown",
   "source": "# Aufgabe 2",
   "id": "d293a99b51cb4bff"
  },
  {
   "metadata": {
    "ExecuteTime": {
     "end_time": "2025-02-17T14:55:30.890938Z",
     "start_time": "2025-02-17T14:55:30.888991Z"
    }
   },
   "cell_type": "code",
   "source": [
    "x = np.array([1, 2, 3, 4])\n",
    "y = np.array([1,1,1,1])"
   ],
   "id": "313cfd7b39a283d4",
   "outputs": [],
   "execution_count": 6
  },
  {
   "metadata": {},
   "cell_type": "code",
   "source": [
    "z = 0\n",
    "for i in range(len(x)):\n",
    "    z += x[i] * y[i]\n",
    "print(z)"
   ],
   "id": "9b5a7bf13d93a3c3",
   "outputs": [],
   "execution_count": null
  },
  {
   "metadata": {},
   "cell_type": "code",
   "source": [
    "z = np.dot(x,y)\n",
    "print(z)"
   ],
   "id": "87a476625f29e5e8",
   "outputs": [],
   "execution_count": null
  },
  {
   "metadata": {},
   "cell_type": "markdown",
   "source": "# Aufgabe 3",
   "id": "4eae06f2cb46322c"
  },
  {
   "metadata": {},
   "cell_type": "code",
   "source": [
    "P = np.zeros((4,4))\n",
    "P[0,0] = 1\n",
    "P[1,-1] = 1\n",
    "P[2,-2] = 1\n",
    "P[-1,-3] = 1\n",
    "print(P)"
   ],
   "id": "bd2a0f7a89b9275f",
   "outputs": [],
   "execution_count": null
  },
  {
   "metadata": {},
   "cell_type": "code",
   "source": [
    "A = np.repeat(np.arange(1,5),4).reshape(4,4)\n",
    "print(A)"
   ],
   "id": "a7a6f07fa7e347a4",
   "outputs": [],
   "execution_count": null
  },
  {
   "metadata": {},
   "cell_type": "code",
   "source": [
    "B = P@A\n",
    "print(B)"
   ],
   "id": "5341a17a310e2fe1",
   "outputs": [],
   "execution_count": null
  },
  {
   "metadata": {
    "collapsed": true,
    "ExecuteTime": {
     "end_time": "2025-02-17T15:06:36.217954Z",
     "start_time": "2025-02-17T15:06:36.215455Z"
    }
   },
   "cell_type": "code",
   "source": [
    "C = P@B\n",
    "print(C)"
   ],
   "id": "initial_id",
   "outputs": [
    {
     "name": "stdout",
     "output_type": "stream",
     "text": [
      "[[1. 1. 1. 1.]\n",
      " [2. 2. 2. 2.]\n",
      " [3. 3. 3. 3.]\n",
      " [4. 4. 4. 4.]]\n"
     ]
    }
   ],
   "execution_count": 33
  },
  {
   "metadata": {},
   "cell_type": "markdown",
   "source": "# Aufgabe 4",
   "id": "beea23dd19aa75b7"
  },
  {
   "metadata": {},
   "cell_type": "code",
   "source": [
    "def fahrenheit2celsius(f):\n",
    "    return (f - 32) * 5/9"
   ],
   "id": "b96998691fe5c14c",
   "outputs": [],
   "execution_count": null
  },
  {
   "metadata": {},
   "cell_type": "code",
   "source": "print(fahrenheit2celsius(A))",
   "id": "a9a973f144e8f168",
   "outputs": [],
   "execution_count": null
  },
  {
   "metadata": {},
   "cell_type": "markdown",
   "source": "# Aufgabe 5",
   "id": "4e6072b369c7bce6"
  },
  {
   "metadata": {},
   "cell_type": "code",
   "source": [
    "from math import factorial, sqrt\n",
    "from decimal import Decimal, getcontext\n",
    "\n",
    "def compute_pi_ramanujan(n_terms: int) -> Decimal:\n",
    "    \"\"\"Compute pi using Ramanujan's series with n_terms.\"\"\"\n",
    "    getcontext().prec = 50  # Set precision for Decimal calculations\n",
    "\n",
    "    sum_series = Decimal(0)\n",
    "    factor = Decimal(2) * Decimal(sqrt(2)) / Decimal(9801)\n",
    "\n",
    "    for k in range(n_terms):\n",
    "        num = Decimal(factorial(4 * k)) * Decimal(1103 + 26390 * k)\n",
    "        denom = (Decimal(factorial(k)) ** 4) * (Decimal(396) ** (4 * k))\n",
    "        sum_series += num / denom\n",
    "\n",
    "    return 1 / (factor * sum_series)"
   ],
   "id": "2d47721a86b73f33",
   "outputs": [],
   "execution_count": null
  },
  {
   "metadata": {
    "ExecuteTime": {
     "end_time": "2025-02-17T15:17:38.247267Z",
     "start_time": "2025-02-17T15:17:38.245500Z"
    }
   },
   "cell_type": "code",
   "source": [
    "pi_jonas = compute_pi_ramanujan(1)\n",
    "print(pi_jonas)\n",
    "print(math.pi)"
   ],
   "id": "272e2cc2d518dd88",
   "outputs": [
    {
     "name": "stdout",
     "output_type": "stream",
     "text": [
      "3.1415927300133054455607283622981207756226864291372\n",
      "3.141592653589793\n"
     ]
    }
   ],
   "execution_count": 48
  },
  {
   "metadata": {},
   "cell_type": "markdown",
   "source": "# Aufgabe 6",
   "id": "c9be384bf2c7a32c"
  },
  {
   "metadata": {},
   "cell_type": "code",
   "source": [
    "# Exponentialfunktion y = a * b^x\n",
    "def exponential_function(x, a=1, b=2):\n",
    "    return a * b**x\n",
    "\n",
    "# Potenzfunktion y = a * x^b\n",
    "def power_function(x, a=1, b=2):\n",
    "    return a * x**b\n",
    "\n",
    "# Wertebereich\n",
    "x_exp = np.linspace(0, 10, 100)\n",
    "y_exp = exponential_function(x_exp)\n",
    "\n",
    "x_pow = np.linspace(1, 10, 100)  # x beginnt bei 1, um log(x) zu vermeiden\n",
    "y_pow = power_function(x_pow)\n",
    "\n",
    "# Einfach logarithmische Darstellung (Exponentialfunktion)\n",
    "plt.figure(figsize=(12, 5))\n",
    "plt.subplot(1, 2, 1)\n",
    "plt.semilogy(x_exp, y_exp, label=r'$y = a \\cdot b^x$')\n",
    "plt.xlabel(\"x\")\n",
    "plt.ylabel(\"log(y)\")\n",
    "plt.title(\"Einfach logarithmische Darstellung (Exponentialfunktion)\")\n",
    "plt.legend()\n",
    "plt.grid()\n",
    "\n",
    "# Doppelt logarithmische Darstellung (Potenzfunktion)\n",
    "plt.subplot(1, 2, 2)\n",
    "plt.loglog(x_pow, y_pow, label=r'$y = a \\cdot x^b$')\n",
    "plt.xlabel(\"log(x)\")\n",
    "plt.ylabel(\"log(y)\")\n",
    "plt.title(\"Doppelt logarithmische Darstellung (Potenzfunktion)\")\n",
    "plt.legend()\n",
    "plt.grid()\n",
    "\n",
    "plt.show()"
   ],
   "id": "84a323a4b5544f6",
   "outputs": [],
   "execution_count": null
  },
  {
   "metadata": {},
   "cell_type": "code",
   "source": [
    "def x (a):\n",
    "    return 4 / (2*a**3)**(1/2)\n",
    "def y (a):\n",
    "    return 5 * (3**a)**2"
   ],
   "id": "cdc0fdc3be945a19",
   "outputs": [],
   "execution_count": null
  },
  {
   "metadata": {
    "ExecuteTime": {
     "end_time": "2025-02-17T15:29:26.436133Z",
     "start_time": "2025-02-17T15:29:26.357898Z"
    }
   },
   "cell_type": "code",
   "source": [
    "# Plot\n",
    "a_values = np.linspace(0.1, 2, 100)\n",
    "x_values = x(a_values)\n",
    "y_values = y(a_values)\n",
    "\n",
    "plt.figure(figsize=(8, 6))\n",
    "plt.plot(a_values, x_values, label='x(a) = 4 / (2*a^3)^(1/2)')\n",
    "plt.plot(a_values, y_values, label='y(a) = 5 * (3^a)^2')\n",
    "plt.xlabel('a')\n",
    "plt.ylabel('x(a), y(a)')\n",
    "plt.title('Funktionen x(a) und y(a)')\n",
    "plt.legend()\n",
    "plt.grid()\n",
    "plt.show()"
   ],
   "id": "2fe7d17b2ca3660f",
   "outputs": [
    {
     "data": {
      "text/plain": [
       "<Figure size 800x600 with 1 Axes>"
      ],
      "image/png": "[encoded data removed]"
     },
     "metadata": {},
     "output_type": "display_data"
    }
   ],
   "execution_count": 55
  },
  {
   "metadata": {},
   "cell_type": "markdown",
   "source": "",
   "id": "a8c0e41d2901d32c"
  }
 ],
 "metadata": {
  "kernelspec": {
   "display_name": "Python 3",
   "language": "python",
   "name": "python3"
  },
  "language_info": {
   "codemirror_mode": {
    "name": "ipython",
    "version": 2
   },
   "file_extension": ".py",
   "mimetype": "text/x-python",
   "name": "python",
   "nbconvert_exporter": "python",
   "pygments_lexer": "ipython2",
   "version": "2.7.6"
  }
 },
 "nbformat": 4,
 "nbformat_minor": 5
}
