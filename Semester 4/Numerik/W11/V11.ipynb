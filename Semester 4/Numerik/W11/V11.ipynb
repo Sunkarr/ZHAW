{
 "cells": [
  {
   "metadata": {},
   "cell_type": "markdown",
   "source": [
    "# V11\n",
    "\n",
    "## Nuemrische integration\n"
   ],
   "id": "cc4b38a21baa3b4b"
  },
  {
   "cell_type": "code",
   "id": "initial_id",
   "metadata": {
    "collapsed": true,
    "ExecuteTime": {
     "end_time": "2025-05-05T08:28:44.543518Z",
     "start_time": "2025-05-05T08:28:44.220805Z"
    }
   },
   "source": [
    "import numpy as np\n",
    "import matplotlib.pyplot as plt"
   ],
   "outputs": [],
   "execution_count": 1
  },
  {
   "metadata": {},
   "cell_type": "markdown",
   "source": "## Numerisches Ableiten der Funktio f(x) = 3 * x^2 mit Intervall -1 bis 1",
   "id": "2ce142dbc1eddea7"
  },
  {
   "metadata": {
    "ExecuteTime": {
     "end_time": "2025-05-05T08:43:44.635663Z",
     "start_time": "2025-05-05T08:43:44.634193Z"
    }
   },
   "cell_type": "code",
   "source": [
    "# Funktion\n",
    "\n",
    "def f(x):\n",
    "    return 3 * x**2"
   ],
   "id": "d5960aa10093ac6d",
   "outputs": [],
   "execution_count": 18
  },
  {
   "metadata": {
    "ExecuteTime": {
     "end_time": "2025-05-05T08:43:50.150639Z",
     "start_time": "2025-05-05T08:43:50.148762Z"
    }
   },
   "cell_type": "code",
   "source": [
    "# Mittelpunktsregel\n",
    "\n",
    "def midpoint_rule(a, b):\n",
    "    return (b - a) * f((a + b) / 2)\n",
    "\n",
    "print(midpoint_rule(-1, 1))"
   ],
   "id": "90b241a5fdeff08b",
   "outputs": [
    {
     "name": "stdout",
     "output_type": "stream",
     "text": [
      "0.0\n"
     ]
    }
   ],
   "execution_count": 20
  },
  {
   "metadata": {},
   "cell_type": "code",
   "source": [
    "# Trapezregel\n",
    "\n",
    "def trapezoidal_rule(a, b):\n",
    "    return (b - a) / 2 * f(a) + (b - a) / 2 * f(b)\n",
    "\n",
    "print(trapezoidal_rule(-1, 1))"
   ],
   "id": "8833143e9c5e76db",
   "outputs": [],
   "execution_count": null
  },
  {
   "metadata": {
    "ExecuteTime": {
     "end_time": "2025-05-05T08:33:37.468583Z",
     "start_time": "2025-05-05T08:33:37.466288Z"
    }
   },
   "cell_type": "code",
   "source": [
    "# Simpsonregel\n",
    "\n",
    "def simpson_rule(a, b):\n",
    "    return (b - a) / 6 * (f(a) + 4 * f((a + b) / 2) + f(b))\n",
    "\n",
    "print(simpson_rule(-1, 1))"
   ],
   "id": "fe0476b4063b2dc4",
   "outputs": [
    {
     "name": "stdout",
     "output_type": "stream",
     "text": [
      "2.0\n"
     ]
    }
   ],
   "execution_count": 14
  }
 ],
 "metadata": {
  "kernelspec": {
   "display_name": "Python 3",
   "language": "python",
   "name": "python3"
  },
  "language_info": {
   "codemirror_mode": {
    "name": "ipython",
    "version": 2
   },
   "file_extension": ".py",
   "mimetype": "text/x-python",
   "name": "python",
   "nbconvert_exporter": "python",
   "pygments_lexer": "ipython2",
   "version": "2.7.6"
  }
 },
 "nbformat": 4,
 "nbformat_minor": 5
}
