{
 "cells": [
  {
   "metadata": {},
   "cell_type": "markdown",
   "source": "# Numerische integration",
   "id": "b5181da67c7a74d1"
  },
  {
   "metadata": {
    "ExecuteTime": {
     "end_time": "2025-05-13T06:35:22.116183Z",
     "start_time": "2025-05-13T06:35:21.762954Z"
    }
   },
   "cell_type": "code",
   "source": [
    "import numpy as np\n",
    "import matplotlib.pyplot as plt"
   ],
   "id": "9c7ea9b5d58de934",
   "outputs": [],
   "execution_count": 1
  },
  {
   "metadata": {
    "ExecuteTime": {
     "end_time": "2025-05-13T06:40:44.852112Z",
     "start_time": "2025-05-13T06:40:44.850173Z"
    }
   },
   "cell_type": "code",
   "source": [
    "x = np.array([0, 0.3, 0.6, 0.9, 1.2, 1.5, 1.8])\n",
    "y = np.array([0.5, 0.6, 0.8, 1.3, 2, 3.2, 4.8])"
   ],
   "id": "cf3390d36912be08",
   "outputs": [],
   "execution_count": 4
  },
  {
   "metadata": {
    "ExecuteTime": {
     "end_time": "2025-05-13T06:42:13.777619Z",
     "start_time": "2025-05-13T06:42:13.775521Z"
    }
   },
   "cell_type": "code",
   "source": [
    "# Trapezregel\n",
    "def trapezoidal_rule(x, y):\n",
    "    area = 0\n",
    "    for i in range(len(x) - 1):\n",
    "        area += (x[i + 1] - x[i]) * (y[i] + y[i + 1]) / 2\n",
    "    return area\n",
    "\n",
    "print(trapezoidal_rule(x, y))"
   ],
   "id": "9cc6d619321ceeb1",
   "outputs": [
    {
     "name": "stdout",
     "output_type": "stream",
     "text": [
      "3.1650000000000005\n"
     ]
    }
   ],
   "execution_count": 9
  },
  {
   "metadata": {
    "ExecuteTime": {
     "end_time": "2025-05-13T06:42:28.426314Z",
     "start_time": "2025-05-13T06:42:28.422909Z"
    }
   },
   "cell_type": "code",
   "source": [
    "# Simpsonregel\n",
    "def simpson_rule(x, y):\n",
    "    area = 0\n",
    "    for i in range(0, len(x) - 1, 2):\n",
    "        area += (x[i + 2] - x[i]) * (y[i] + 4 * y[i + 1] + y[i + 2]) / 6\n",
    "    return area\n",
    "\n",
    "print(simpson_rule(x, y))"
   ],
   "id": "1a187024e250e211",
   "outputs": [
    {
     "name": "stdout",
     "output_type": "stream",
     "text": [
      "3.130000000000001\n"
     ]
    }
   ],
   "execution_count": 10
  },
  {
   "metadata": {
    "ExecuteTime": {
     "end_time": "2025-05-13T06:42:46.183962Z",
     "start_time": "2025-05-13T06:42:46.180975Z"
    }
   },
   "cell_type": "code",
   "source": [
    "# 3/8 Regel\n",
    "def simpson_38_rule(x, y):\n",
    "    area = 0\n",
    "    for i in range(0, len(x) - 1, 3):\n",
    "        area += (x[i + 3] - x[i]) * (y[i] + 3 * y[i + 1] + 3 * y[i + 2] + y[i + 3]) / 8\n",
    "    return area\n",
    "\n",
    "print(simpson_38_rule(x, y))"
   ],
   "id": "772f43d76da51761",
   "outputs": [
    {
     "name": "stdout",
     "output_type": "stream",
     "text": [
      "3.116250000000001\n"
     ]
    }
   ],
   "execution_count": 11
  }
 ],
 "metadata": {
  "kernelspec": {
   "display_name": "Python 3",
   "language": "python",
   "name": "python3"
  },
  "language_info": {
   "codemirror_mode": {
    "name": "ipython",
    "version": 2
   },
   "file_extension": ".py",
   "mimetype": "text/x-python",
   "name": "python",
   "nbconvert_exporter": "python",
   "pygments_lexer": "ipython2",
   "version": "2.7.6"
  }
 },
 "nbformat": 4,
 "nbformat_minor": 5
}
