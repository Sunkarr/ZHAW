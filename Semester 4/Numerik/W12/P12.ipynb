{
 "cells": [
  {
   "metadata": {},
   "cell_type": "markdown",
   "source": "# Numerische integration",
   "id": "b5181da67c7a74d1"
  },
  {
   "metadata": {
    "ExecuteTime": {
     "end_time": "2025-06-04T06:57:14.979329Z",
     "start_time": "2025-06-04T06:57:14.977534Z"
    }
   },
   "cell_type": "code",
   "source": [
    "import numpy as np\n",
    "import random\n",
    "import matplotlib.pyplot as plt"
   ],
   "id": "9c7ea9b5d58de934",
   "outputs": [],
   "execution_count": 6
  },
  {
   "metadata": {
    "ExecuteTime": {
     "end_time": "2025-05-13T06:40:44.852112Z",
     "start_time": "2025-05-13T06:40:44.850173Z"
    }
   },
   "cell_type": "code",
   "source": [
    "x = np.array([0, 0.3, 0.6, 0.9, 1.2, 1.5, 1.8])\n",
    "y = np.array([0.5, 0.6, 0.8, 1.3, 2, 3.2, 4.8])"
   ],
   "id": "cf3390d36912be08",
   "outputs": [],
   "execution_count": 4
  },
  {
   "metadata": {
    "ExecuteTime": {
     "end_time": "2025-05-13T06:42:13.777619Z",
     "start_time": "2025-05-13T06:42:13.775521Z"
    }
   },
   "cell_type": "code",
   "source": [
    "# Trapezregel\n",
    "def trapezoidal_rule(x, y):\n",
    "    area = 0\n",
    "    for i in range(len(x) - 1):\n",
    "        area += (x[i + 1] - x[i]) * (y[i] + y[i + 1]) / 2\n",
    "    return area\n",
    "\n",
    "print(trapezoidal_rule(x, y))"
   ],
   "id": "9cc6d619321ceeb1",
   "outputs": [
    {
     "name": "stdout",
     "output_type": "stream",
     "text": [
      "3.1650000000000005\n"
     ]
    }
   ],
   "execution_count": 9
  },
  {
   "metadata": {
    "ExecuteTime": {
     "end_time": "2025-05-13T06:42:28.426314Z",
     "start_time": "2025-05-13T06:42:28.422909Z"
    }
   },
   "cell_type": "code",
   "source": [
    "# Simpsonregel\n",
    "def simpson_rule(x, y):\n",
    "    area = 0\n",
    "    for i in range(0, len(x) - 1, 2):\n",
    "        area += (x[i + 2] - x[i]) * (y[i] + 4 * y[i + 1] + y[i + 2]) / 6\n",
    "    return area\n",
    "\n",
    "print(simpson_rule(x, y))"
   ],
   "id": "1a187024e250e211",
   "outputs": [
    {
     "name": "stdout",
     "output_type": "stream",
     "text": [
      "3.130000000000001\n"
     ]
    }
   ],
   "execution_count": 10
  },
  {
   "metadata": {
    "ExecuteTime": {
     "end_time": "2025-05-13T06:42:46.183962Z",
     "start_time": "2025-05-13T06:42:46.180975Z"
    }
   },
   "cell_type": "code",
   "source": [
    "# 3/8 Regel\n",
    "def simpson_38_rule(x, y):\n",
    "    area = 0\n",
    "    for i in range(0, len(x) - 1, 3):\n",
    "        area += (x[i + 3] - x[i]) * (y[i] + 3 * y[i + 1] + 3 * y[i + 2] + y[i + 3]) / 8\n",
    "    return area\n",
    "\n",
    "print(simpson_38_rule(x, y))"
   ],
   "id": "772f43d76da51761",
   "outputs": [
    {
     "name": "stdout",
     "output_type": "stream",
     "text": [
      "3.116250000000001\n"
     ]
    }
   ],
   "execution_count": 11
  },
  {
   "metadata": {},
   "cell_type": "markdown",
   "source": [
    "# Aufgabe 5\n",
    "\n",
    "Als Fehlerfunktion wird die Funktion $\\mathrm{erf}(x) = \\frac{2}{\\sqrt{\\pi}} \\int_0^x \\exp(-t^2) dt$ bezeichnet, welche u.a. in der Statistik wichtig ist. Berechnen Sie eine Näherung für $\\mathrm{erf}(2)$ indem Sie zuerst\n",
    "\n",
    "a) die Gewichte der Quadraturformel $Q = w_0 f(0) + w_1 f(3/4) + w_2 f(2)$ bestimmen und\n",
    "\n",
    "b) danach den gesuchten Näherungswert berechnen."
   ],
   "id": "b77c344652cf73bf"
  },
  {
   "metadata": {
    "ExecuteTime": {
     "end_time": "2025-05-13T09:49:18.258930Z",
     "start_time": "2025-05-13T09:49:18.252856Z"
    }
   },
   "cell_type": "code",
   "source": [
    "from sympy import symbols, Eq, solve\n",
    "\n",
    "w0, w1, w2 = symbols('w0 w1 w2')\n",
    "\n",
    "# Gleichungen aufstellen\n",
    "# 1. w0 + w1 + w2 = 2\n",
    "# 2. (3/4)w1 + 2w2 = 2\n",
    "# 3. (9/16)w1 + 4w2 = 8/3\n",
    "\n",
    "equations = [\n",
    "    Eq(w0 + w1 + w2, 2),\n",
    "    Eq((3/4)*w1 + 2*w2, 2),\n",
    "    Eq((9/16)*w1 + 4*w2, 8/3)\n",
    "]\n",
    "\n",
    "solution = solve(equations, (w0, w1, w2))\n",
    "solution"
   ],
   "id": "13c0e7a6d72552b2",
   "outputs": [
    {
     "data": {
      "text/plain": [
       "{w0: 0.111111111111111, w1: 1.42222222222222, w2: 0.466666666666667}"
      ]
     },
     "execution_count": 20,
     "metadata": {},
     "output_type": "execute_result"
    }
   ],
   "execution_count": 20
  },
  {
   "metadata": {
    "ExecuteTime": {
     "end_time": "2025-05-13T09:51:20.067667Z",
     "start_time": "2025-05-13T09:51:20.062705Z"
    }
   },
   "cell_type": "code",
   "source": [
    "from scipy.special import erf\n",
    "\n",
    "# Gewichte und Stützstellen\n",
    "a = 0\n",
    "b = 2\n",
    "x0 = 0\n",
    "x1 = 0.75\n",
    "x2 = 2\n",
    "\n",
    "def f(x):\n",
    "    return np.exp(-x**2)\n",
    "\n",
    "# Quadraturformel\n",
    "approx_integral = w0 * f(x0) + w1 * f(x1) + w2 * f(x2)\n",
    "\n",
    "# Fehlerfunktion\n",
    "approx_erf2 = (2/np.sqrt(np.pi)) * approx_integral\n",
    "\n",
    "# Exakter Wert mit scipy\n",
    "exact_erf2 = erf(2)\n",
    "\n",
    "approx_integral, approx_erf2, exact_erf2"
   ],
   "id": "20117f861187d12c",
   "outputs": [
    {
     "data": {
      "text/plain": [
       "(0.930016204432055, 1.04941091014237, np.float64(0.9953222650189527))"
      ]
     },
     "execution_count": 30,
     "metadata": {},
     "output_type": "execute_result"
    }
   ],
   "execution_count": 30
  },
  {
   "metadata": {},
   "cell_type": "markdown",
   "source": [
    "# Aufgabe 6\n",
    "\n",
    "Die Zahl $\\pi = \\int_0^1 \\frac{4}{1 + x^2} \\, dx$ kann durch numerische Integration approximiert werden. Berechnen Sie mit Hilfe der zusammengesetzten Mittelpunkt-, Trapez- und Simpsonregel einen Näherungswert. Verwenden Sie jeweils $n = 100$ Teilintervalle."
   ],
   "id": "5a2694567a25fc5"
  },
  {
   "metadata": {
    "ExecuteTime": {
     "end_time": "2025-06-15T15:08:00.458119Z",
     "start_time": "2025-06-15T15:08:00.455439Z"
    }
   },
   "cell_type": "code",
   "source": [
    "# Mittelpunktregel\n",
    "def midpoint_rule_compound(a, b, n):\n",
    "    h = (b - a) / n\n",
    "    area = 0\n",
    "    for i in range(n):\n",
    "        x = a + (i + 0.5) * h\n",
    "        area += h * (4 / (1 + x**2))\n",
    "    return area\n",
    "\n",
    "print(midpoint_rule_compound(0, 1, 100))"
   ],
   "id": "38bad0ef6c922b3b",
   "outputs": [
    {
     "name": "stdout",
     "output_type": "stream",
     "text": [
      "3.1416009869231227\n"
     ]
    }
   ],
   "execution_count": 2
  },
  {
   "metadata": {
    "ExecuteTime": {
     "end_time": "2025-06-15T15:08:02.071698Z",
     "start_time": "2025-06-15T15:08:02.068847Z"
    }
   },
   "cell_type": "code",
   "source": [
    "# Trapezregel\n",
    "def trapezoidal_rule_compound(a, b, n):\n",
    "    h = (b - a) / n\n",
    "    area = 0\n",
    "    for i in range(n):\n",
    "        x1 = a + i * h\n",
    "        x2 = a + (i + 1) * h\n",
    "        area += (h / 2) * (4 / (1 + x1**2) + 4 / (1 + x2**2))\n",
    "    return area\n",
    "\n",
    "print(trapezoidal_rule_compound(0, 1, 100))"
   ],
   "id": "b9973179c42828e9",
   "outputs": [
    {
     "name": "stdout",
     "output_type": "stream",
     "text": [
      "3.141575986923131\n"
     ]
    }
   ],
   "execution_count": 3
  },
  {
   "metadata": {
    "ExecuteTime": {
     "end_time": "2025-06-15T15:08:04.405579Z",
     "start_time": "2025-06-15T15:08:04.403307Z"
    }
   },
   "cell_type": "code",
   "source": [
    "# Simpsonregel\n",
    "def simpson_rule_compound(a, b, n):\n",
    "    if n % 2 == 1:\n",
    "        n += 1  # n muss gerade sein\n",
    "    h = (b - a) / n\n",
    "    area = 0\n",
    "    for i in range(0, n, 2):\n",
    "        x0 = a + i * h\n",
    "        x1 = a + (i + 1) * h\n",
    "        x2 = a + (i + 2) * h\n",
    "        area += (h / 6) * (4 / (1 + x1**2) + 2 / (1 + x0**2) + 2 / (1 + x2**2))\n",
    "    return area\n",
    "\n",
    "print(simpson_rule_compound(0, 1, 100))"
   ],
   "id": "599ac516177e7eb",
   "outputs": [
    {
     "name": "stdout",
     "output_type": "stream",
     "text": [
      "0.5235959978205214\n"
     ]
    }
   ],
   "execution_count": 4
  },
  {
   "metadata": {
    "ExecuteTime": {
     "end_time": "2025-06-15T15:08:10.348287Z",
     "start_time": "2025-06-15T15:08:10.344049Z"
    }
   },
   "cell_type": "code",
   "source": "31254.123e+10 - 31254.122e+10",
   "id": "88552d3768f4361f",
   "outputs": [
    {
     "data": {
      "text/plain": [
       "10000000.0"
      ]
     },
     "execution_count": 5,
     "metadata": {},
     "output_type": "execute_result"
    }
   ],
   "execution_count": 5
  }
 ],
 "metadata": {
  "kernelspec": {
   "display_name": "Python 3",
   "language": "python",
   "name": "python3"
  },
  "language_info": {
   "codemirror_mode": {
    "name": "ipython",
    "version": 2
   },
   "file_extension": ".py",
   "mimetype": "text/x-python",
   "name": "python",
   "nbconvert_exporter": "python",
   "pygments_lexer": "ipython2",
   "version": "2.7.6"
  }
 },
 "nbformat": 4,
 "nbformat_minor": 5
}
