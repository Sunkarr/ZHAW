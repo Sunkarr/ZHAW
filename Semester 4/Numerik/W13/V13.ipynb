{
 "cells": [
  {
   "metadata": {},
   "cell_type": "markdown",
   "source": "# DGL",
   "id": "1835ee9b33d0feee"
  },
  {
   "cell_type": "code",
   "id": "13dee74705db82e6",
   "metadata": {
    "ExecuteTime": {
     "end_time": "2025-05-12T09:30:57.411930Z",
     "start_time": "2025-05-12T09:30:57.143839Z"
    }
   },
   "source": [
    "import numpy as np\n",
    "import scipy.integrate as spi\n",
    "import matplotlib.pyplot as plt"
   ],
   "outputs": [],
   "execution_count": 3
  },
  {
   "metadata": {},
   "cell_type": "markdown",
   "source": "",
   "id": "3a9e34c9a98c8989"
  }
 ],
 "metadata": {
  "kernelspec": {
   "display_name": "Python 3",
   "language": "python",
   "name": "python3"
  },
  "language_info": {
   "codemirror_mode": {
    "name": "ipython",
    "version": 2
   },
   "file_extension": ".py",
   "mimetype": "text/x-python",
   "name": "python",
   "nbconvert_exporter": "python",
   "pygments_lexer": "ipython2",
   "version": "2.7.6"
  }
 },
 "nbformat": 4,
 "nbformat_minor": 5
}
