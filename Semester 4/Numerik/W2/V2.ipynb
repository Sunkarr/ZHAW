{
 "cells": [
  {
   "metadata": {},
   "cell_type": "markdown",
   "source": "# Floating Point Numbers",
   "id": "8744f84948f1ff7e"
  },
  {
   "metadata": {
    "ExecuteTime": {
     "end_time": "2025-02-24T10:03:39.101380Z",
     "start_time": "2025-02-24T10:03:39.099438Z"
    }
   },
   "cell_type": "code",
   "source": "import numpy as np",
   "id": "b498e40683331f8",
   "outputs": [],
   "execution_count": 6
  },
  {
   "cell_type": "code",
   "id": "a4035bad28013828",
   "metadata": {
    "ExecuteTime": {
     "end_time": "2025-02-24T10:03:39.108831Z",
     "start_time": "2025-02-24T10:03:39.107051Z"
    }
   },
   "source": [
    "x = 0.1 + 0.2\n",
    "y = (x - 0.3) * 1e17\n",
    "print(y)"
   ],
   "outputs": [
    {
     "name": "stdout",
     "output_type": "stream",
     "text": [
      "5.551115123125783\n"
     ]
    }
   ],
   "execution_count": 7
  },
  {
   "metadata": {
    "ExecuteTime": {
     "end_time": "2025-02-24T10:03:39.115799Z",
     "start_time": "2025-02-24T10:03:39.112914Z"
    }
   },
   "cell_type": "code",
   "source": [
    "# Zahl in scientific notation\n",
    "\n",
    "np.format_float_scientific(1372.4828459e-4, precision=4 )"
   ],
   "id": "e49ee410491180b9",
   "outputs": [
    {
     "data": {
      "text/plain": [
       "'1.3725e-01'"
      ]
     },
     "execution_count": 8,
     "metadata": {},
     "output_type": "execute_result"
    }
   ],
   "execution_count": 8
  },
  {
   "metadata": {
    "ExecuteTime": {
     "end_time": "2025-02-24T10:03:39.129225Z",
     "start_time": "2025-02-24T10:03:39.127454Z"
    }
   },
   "cell_type": "code",
   "source": [
    "# Maschinengenauigkeit Epsilon\n",
    "eps = np.finfo(np.float64).eps\n",
    "print(eps)"
   ],
   "id": "fb94bb638e802e91",
   "outputs": [
    {
     "name": "stdout",
     "output_type": "stream",
     "text": [
      "2.220446049250313e-16\n"
     ]
    }
   ],
   "execution_count": 9
  },
  {
   "metadata": {
    "ExecuteTime": {
     "end_time": "2025-02-24T10:03:39.141862Z",
     "start_time": "2025-02-24T10:03:39.140048Z"
    }
   },
   "cell_type": "code",
   "source": [
    "x = 2\n",
    "print(f\"Nächst mögliche Zahl von {x} ist {np.spacing(x)} entfernt\")"
   ],
   "id": "9be041531d40a7b6",
   "outputs": [
    {
     "name": "stdout",
     "output_type": "stream",
     "text": [
      "Nächst mögliche Zahl von 2 ist 4.440892098500626e-16 entfernt\n"
     ]
    }
   ],
   "execution_count": 10
  },
  {
   "metadata": {
    "ExecuteTime": {
     "end_time": "2025-02-24T10:03:39.153515Z",
     "start_time": "2025-02-24T10:03:39.151354Z"
    }
   },
   "cell_type": "code",
   "source": [
    "# Rundungsfehler\n",
    "(1/3)**3 - 1/27 # Erwartet 0\n",
    "# Rundungsfehler aufgrund verschiedener Darstellungsformen"
   ],
   "id": "4eb0b039a368bc8c",
   "outputs": [
    {
     "data": {
      "text/plain": [
       "-6.938893903907228e-18"
      ]
     },
     "execution_count": 11,
     "metadata": {},
     "output_type": "execute_result"
    }
   ],
   "execution_count": 11
  },
  {
   "metadata": {
    "ExecuteTime": {
     "end_time": "2025-02-24T10:03:39.162393Z",
     "start_time": "2025-02-24T10:03:39.160841Z"
    }
   },
   "cell_type": "code",
   "source": [
    "# Absorbtion\n",
    "x = 1e16\n",
    "y = 1\n",
    "z = x + y\n",
    "print(z)"
   ],
   "id": "d673194f1d8cc8c9",
   "outputs": [
    {
     "name": "stdout",
     "output_type": "stream",
     "text": [
      "1e+16\n"
     ]
    }
   ],
   "execution_count": 12
  },
  {
   "metadata": {},
   "cell_type": "code",
   "source": [
    "# Overflow\n",
    "x = 1e308\n",
    "y = 1e308\n",
    "z = x * y\n",
    "print(z)"
   ],
   "id": "2996f4a44e07ca05",
   "outputs": [],
   "execution_count": null
  },
  {
   "metadata": {},
   "cell_type": "code",
   "source": [
    "# Aufgabe 3.4\n",
    "\n",
    "n = int( input( 'Bitte eine natuerliche Zahl eingeben:' ))\n",
    "nstellen = int( np.floor( np.log10( n )) + 1 )\n",
    "quersum = 0\n",
    "for i in range( nstellen ):\n",
    "    letztestelle = n % 10\n",
    "    quersum = quersum + letztestelle\n",
    "    n = ( n - letztestelle ) / 10\n",
    "print( 'Quersumme:', int( quersum ))"
   ],
   "id": "53b890053dd44f64",
   "outputs": [],
   "execution_count": null
  },
  {
   "metadata": {},
   "cell_type": "code",
   "source": [
    "from matplotlib import pyplot as plt\n",
    "\n",
    "wahr = 4/5\n",
    "it = wahr * 5 * (1 - wahr)\n",
    "n = 35\n",
    "versuch = [0]*n\n",
    "wert = [0]*n\n",
    "absfehler = [0]*n\n",
    "relfehler = [0]*n\n",
    "for i in range( n ):\n",
    "    versuch[i] = i\n",
    "    wert[i] = it\n",
    "    absfehler[i] = abs(wahr-it)\n",
    "    relfehler[i] = abs(wahr-it) / wahr\n",
    "    it = it * 5 * (1 - it)\n",
    "fig, axs = plt.subplots(3, 1, constrained_layout=True)\n",
    "axs[0].plot( versuch, wert, color='red' )\n",
    "axs[0].set_title( 'Iterationswert' )\n",
    "axs[1].plot( versuch, absfehler, color='blue' )\n",
    "axs[1].set_title( 'Absoluter Fehler' )\n",
    "axs[2].plot( versuch, relfehler, color='blue' )\n",
    "axs[2].set_title( 'Relativer Fehler' )\n",
    "axs[2].set_ylabel( '%' )"
   ],
   "id": "a46791bddd0c829e",
   "outputs": [],
   "execution_count": null
  },
  {
   "metadata": {},
   "cell_type": "code",
   "outputs": [],
   "execution_count": null,
   "source": [
    "# Aufgabe 4\n",
    "\n"
   ],
   "id": "53b7225ea6c8d748"
  }
 ],
 "metadata": {
  "kernelspec": {
   "display_name": "Python 3",
   "language": "python",
   "name": "python3"
  },
  "language_info": {
   "codemirror_mode": {
    "name": "ipython",
    "version": 2
   },
   "file_extension": ".py",
   "mimetype": "text/x-python",
   "name": "python",
   "nbconvert_exporter": "python",
   "pygments_lexer": "ipython2",
   "version": "2.7.6"
  }
 },
 "nbformat": 4,
 "nbformat_minor": 5
}
