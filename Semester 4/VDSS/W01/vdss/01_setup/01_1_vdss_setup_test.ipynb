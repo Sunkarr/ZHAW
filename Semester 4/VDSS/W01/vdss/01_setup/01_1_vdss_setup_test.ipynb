{
 "cells": [
  {
   "cell_type": "markdown",
   "id": "95eb6aa8-b485-442e-87db-eb75cdb8bf00",
   "metadata": {},
   "source": [
    "# Check the Project Setup"
   ]
  },
  {
   "cell_type": "markdown",
   "id": "35c75b6e-95a9-4521-874b-987f3da1dfed",
   "metadata": {},
   "source": [
    "Some package imports:"
   ]
  },
  {
   "cell_type": "code",
   "id": "3dbca01e-8865-4389-a16b-996576b96041",
   "metadata": {
    "ExecuteTime": {
     "end_time": "2025-02-18T14:13:34.440331Z",
     "start_time": "2025-02-18T14:13:34.437507Z"
    }
   },
   "source": [
    "import os\n",
    "from dotenv import load_dotenv\n",
    "\n",
    "import numpy as np\n",
    "import pandas as pd\n",
    "from matplotlib import pyplot as plt\n",
    "import matplotlib as mpl\n",
    "\n",
    "import bokeh"
   ],
   "outputs": [],
   "execution_count": 12
  },
  {
   "cell_type": "markdown",
   "id": "1f86fa7d-5a3b-4d34-bad5-a6952c0d1fa6",
   "metadata": {},
   "source": [
    "Makes the inline-figures in notebooks look crisper:"
   ]
  },
  {
   "cell_type": "code",
   "id": "eb295b90-5f73-47a6-8041-4600aa3f9eb7",
   "metadata": {
    "tags": [],
    "ExecuteTime": {
     "end_time": "2025-02-18T14:13:34.457710Z",
     "start_time": "2025-02-18T14:13:34.454568Z"
    }
   },
   "source": [
    "%config InlineBackend.figure_format = 'svg'"
   ],
   "outputs": [],
   "execution_count": 13
  },
  {
   "cell_type": "markdown",
   "id": "632a3f36-ac42-4a68-8c9c-1efd9784755c",
   "metadata": {},
   "source": [
    "## Check Installed Packages and Versions"
   ]
  },
  {
   "cell_type": "code",
   "id": "4caf7e16-79f5-4403-bc16-d3d035549d58",
   "metadata": {
    "ExecuteTime": {
     "end_time": "2025-02-18T14:13:34.466516Z",
     "start_time": "2025-02-18T14:13:34.464251Z"
    }
   },
   "source": [
    "bokeh.__version__ == '3.6.2'"
   ],
   "outputs": [
    {
     "data": {
      "text/plain": [
       "True"
      ]
     },
     "execution_count": 14,
     "metadata": {},
     "output_type": "execute_result"
    }
   ],
   "execution_count": 14
  },
  {
   "cell_type": "code",
   "id": "853b296a-b925-4036-8e83-ca14957a4d81",
   "metadata": {
    "tags": [],
    "ExecuteTime": {
     "end_time": "2025-02-18T14:13:34.482733Z",
     "start_time": "2025-02-18T14:13:34.481085Z"
    }
   },
   "source": [
    "mpl.__version__ = '3.10.0'"
   ],
   "outputs": [],
   "execution_count": 15
  },
  {
   "cell_type": "markdown",
   "id": "4bd48b51-60ab-4bad-9797-0f06e0e3b541",
   "metadata": {},
   "source": [
    "## Check the Location of the Data Folder is Correctly Configured"
   ]
  },
  {
   "cell_type": "markdown",
   "id": "9017e1f6-e582-42dd-9f54-3ce3dc3edd0a",
   "metadata": {},
   "source": [
    "This is reading the `.env`-file and setting the specified environment variable(s):"
   ]
  },
  {
   "cell_type": "code",
   "id": "7f70fad2-84c2-43bb-822d-0d6aba7f44dd",
   "metadata": {
    "tags": [],
    "ExecuteTime": {
     "end_time": "2025-02-18T14:13:34.495503Z",
     "start_time": "2025-02-18T14:13:34.492796Z"
    }
   },
   "source": [
    "load_dotenv() \n",
    "# If this does not work, include the file path parameter to the .env-file:\n",
    "# load_dotenv(dotenv_path='../.env')\n",
    "\n",
    "# or have dotenv look better:\n",
    "# load_dotenv(find_dotenv(usecwd=True))"
   ],
   "outputs": [
    {
     "data": {
      "text/plain": [
       "True"
      ]
     },
     "execution_count": 16,
     "metadata": {},
     "output_type": "execute_result"
    }
   ],
   "execution_count": 16
  },
  {
   "cell_type": "markdown",
   "id": "d0043171-804b-47ac-ab3b-e80f3fd0f00d",
   "metadata": {},
   "source": [
    "Now the environment variables can be retrieved. Check whether this path ist correctly specified:"
   ]
  },
  {
   "cell_type": "code",
   "id": "dda1153a-4d88-4aec-8bd1-17dc7ada9966",
   "metadata": {
    "ExecuteTime": {
     "end_time": "2025-02-18T14:13:34.506257Z",
     "start_time": "2025-02-18T14:13:34.504046Z"
    }
   },
   "source": [
    "os.getenv('DATA_FOLDER')"
   ],
   "outputs": [
    {
     "data": {
      "text/plain": [
       "'/Users/jonas/Library/CloudStorage/OneDrive-ZHAW/Sem 4/VDSS/vdss_data/'"
      ]
     },
     "execution_count": 17,
     "metadata": {},
     "output_type": "execute_result"
    }
   ],
   "execution_count": 17
  },
  {
   "cell_type": "code",
   "id": "540adf8d-acc8-454a-a7a1-73dd522b7bd2",
   "metadata": {
    "tags": [],
    "ExecuteTime": {
     "end_time": "2025-02-18T14:13:34.521852Z",
     "start_time": "2025-02-18T14:13:34.519751Z"
    }
   },
   "source": [
    "path_to_data_folder = os.getenv('DATA_FOLDER')\n",
    "path_to_data_folder"
   ],
   "outputs": [
    {
     "data": {
      "text/plain": [
       "'/Users/jonas/Library/CloudStorage/OneDrive-ZHAW/Sem 4/VDSS/vdss_data/'"
      ]
     },
     "execution_count": 18,
     "metadata": {},
     "output_type": "execute_result"
    }
   ],
   "execution_count": 18
  },
  {
   "cell_type": "markdown",
   "id": "7020b93b-a582-4eb3-bfc2-904a22378972",
   "metadata": {},
   "source": [
    "With `os.path.join` we can combine folder and filenames:"
   ]
  },
  {
   "cell_type": "code",
   "id": "c9a28108-1bc5-47b8-9f4d-d2d82f43c462",
   "metadata": {
    "tags": [],
    "ExecuteTime": {
     "end_time": "2025-02-18T14:13:34.540821Z",
     "start_time": "2025-02-18T14:13:34.539084Z"
    }
   },
   "source": [
    "path_to_file = os.path.join(path_to_data_folder, 'motortrends', 'mtcars.csv')"
   ],
   "outputs": [],
   "execution_count": 19
  },
  {
   "cell_type": "markdown",
   "id": "9a80d95a-6caf-4916-bb30-a1735d2bb4ac",
   "metadata": {},
   "source": [
    "The file name is used by the following method to read the content of the file into a DataFrame `df`: "
   ]
  },
  {
   "cell_type": "code",
   "id": "351ccfca-a98b-487b-ad39-ad7632e75eb4",
   "metadata": {
    "tags": [],
    "ExecuteTime": {
     "end_time": "2025-02-18T14:13:34.553101Z",
     "start_time": "2025-02-18T14:13:34.550410Z"
    }
   },
   "source": [
    "df = pd.read_csv(path_to_file, delimiter=',')"
   ],
   "outputs": [],
   "execution_count": 20
  },
  {
   "cell_type": "markdown",
   "id": "5d94eb3d-841c-458e-b344-be1158093881",
   "metadata": {},
   "source": [
    "The data consists of several properties of 32 car models:"
   ]
  },
  {
   "cell_type": "code",
   "id": "1ee4006e-5260-4a78-9bf3-6aac551128d3",
   "metadata": {
    "tags": [],
    "ExecuteTime": {
     "end_time": "2025-02-18T14:13:34.572140Z",
     "start_time": "2025-02-18T14:13:34.567274Z"
    }
   },
   "source": [
    "df.head()"
   ],
   "outputs": [
    {
     "data": {
      "text/plain": [
       "               model   mpg  cyl   disp   hp  drat     wt   qsec  vs  am  gear  \\\n",
       "0          Mazda RX4  21.0    6  160.0  110  3.90  2.620  16.46   0   1     4   \n",
       "1      Mazda RX4 Wag  21.0    6  160.0  110  3.90  2.875  17.02   0   1     4   \n",
       "2         Datsun 710  22.8    4  108.0   93  3.85  2.320  18.61   1   1     4   \n",
       "3     Hornet 4 Drive  21.4    6  258.0  110  3.08  3.215  19.44   1   0     3   \n",
       "4  Hornet Sportabout  18.7    8  360.0  175  3.15  3.440  17.02   0   0     3   \n",
       "\n",
       "   carb  \n",
       "0     4  \n",
       "1     4  \n",
       "2     1  \n",
       "3     1  \n",
       "4     2  "
      ],
      "text/html": [
       "<div>\n",
       "<style scoped>\n",
       "    .dataframe tbody tr th:only-of-type {\n",
       "        vertical-align: middle;\n",
       "    }\n",
       "\n",
       "    .dataframe tbody tr th {\n",
       "        vertical-align: top;\n",
       "    }\n",
       "\n",
       "    .dataframe thead th {\n",
       "        text-align: right;\n",
       "    }\n",
       "</style>\n",
       "<table border=\"1\" class=\"dataframe\">\n",
       "  <thead>\n",
       "    <tr style=\"text-align: right;\">\n",
       "      <th></th>\n",
       "      <th>model</th>\n",
       "      <th>mpg</th>\n",
       "      <th>cyl</th>\n",
       "      <th>disp</th>\n",
       "      <th>hp</th>\n",
       "      <th>drat</th>\n",
       "      <th>wt</th>\n",
       "      <th>qsec</th>\n",
       "      <th>vs</th>\n",
       "      <th>am</th>\n",
       "      <th>gear</th>\n",
       "      <th>carb</th>\n",
       "    </tr>\n",
       "  </thead>\n",
       "  <tbody>\n",
       "    <tr>\n",
       "      <th>0</th>\n",
       "      <td>Mazda RX4</td>\n",
       "      <td>21.0</td>\n",
       "      <td>6</td>\n",
       "      <td>160.0</td>\n",
       "      <td>110</td>\n",
       "      <td>3.90</td>\n",
       "      <td>2.620</td>\n",
       "      <td>16.46</td>\n",
       "      <td>0</td>\n",
       "      <td>1</td>\n",
       "      <td>4</td>\n",
       "      <td>4</td>\n",
       "    </tr>\n",
       "    <tr>\n",
       "      <th>1</th>\n",
       "      <td>Mazda RX4 Wag</td>\n",
       "      <td>21.0</td>\n",
       "      <td>6</td>\n",
       "      <td>160.0</td>\n",
       "      <td>110</td>\n",
       "      <td>3.90</td>\n",
       "      <td>2.875</td>\n",
       "      <td>17.02</td>\n",
       "      <td>0</td>\n",
       "      <td>1</td>\n",
       "      <td>4</td>\n",
       "      <td>4</td>\n",
       "    </tr>\n",
       "    <tr>\n",
       "      <th>2</th>\n",
       "      <td>Datsun 710</td>\n",
       "      <td>22.8</td>\n",
       "      <td>4</td>\n",
       "      <td>108.0</td>\n",
       "      <td>93</td>\n",
       "      <td>3.85</td>\n",
       "      <td>2.320</td>\n",
       "      <td>18.61</td>\n",
       "      <td>1</td>\n",
       "      <td>1</td>\n",
       "      <td>4</td>\n",
       "      <td>1</td>\n",
       "    </tr>\n",
       "    <tr>\n",
       "      <th>3</th>\n",
       "      <td>Hornet 4 Drive</td>\n",
       "      <td>21.4</td>\n",
       "      <td>6</td>\n",
       "      <td>258.0</td>\n",
       "      <td>110</td>\n",
       "      <td>3.08</td>\n",
       "      <td>3.215</td>\n",
       "      <td>19.44</td>\n",
       "      <td>1</td>\n",
       "      <td>0</td>\n",
       "      <td>3</td>\n",
       "      <td>1</td>\n",
       "    </tr>\n",
       "    <tr>\n",
       "      <th>4</th>\n",
       "      <td>Hornet Sportabout</td>\n",
       "      <td>18.7</td>\n",
       "      <td>8</td>\n",
       "      <td>360.0</td>\n",
       "      <td>175</td>\n",
       "      <td>3.15</td>\n",
       "      <td>3.440</td>\n",
       "      <td>17.02</td>\n",
       "      <td>0</td>\n",
       "      <td>0</td>\n",
       "      <td>3</td>\n",
       "      <td>2</td>\n",
       "    </tr>\n",
       "  </tbody>\n",
       "</table>\n",
       "</div>"
      ]
     },
     "execution_count": 21,
     "metadata": {},
     "output_type": "execute_result"
    }
   ],
   "execution_count": 21
  },
  {
   "cell_type": "markdown",
   "id": "f9431d0d-3f33-4fbf-8a7d-8d6fb4abff9a",
   "metadata": {},
   "source": [
    "We can create a scatterplot `mpg` vs. `disp`:"
   ]
  },
  {
   "cell_type": "code",
   "id": "63f83c8e-997d-496a-b5fd-53abb65857cf",
   "metadata": {
    "tags": [],
    "ExecuteTime": {
     "end_time": "2025-02-18T14:13:34.626659Z",
     "start_time": "2025-02-18T14:13:34.593158Z"
    }
   },
   "source": [
    "fig, ax = plt.subplots()\n",
    "\n",
    "ax.set_title('Automobile Features of 32 Models')\n",
    "for loc in ['top', 'right']:\n",
    "    ax.spines[loc].set_visible(False)\n",
    "\n",
    "ax.xaxis.set_major_locator(mpl.ticker.MultipleLocator(100))\n",
    "ax.yaxis.set_major_locator(mpl.ticker.MultipleLocator(5))\n",
    "\n",
    "# Add gridlines\n",
    "ax.grid(axis='both',\n",
    "        color ='lightgrey',\n",
    "        linestyle ='-'\n",
    "       )\n",
    "\n",
    "ax.scatter(x='disp', y='mpg', s=40, c='grey', marker='o', data=df)\n",
    "\n",
    "ax.set_xlabel('Displacement (cu.in.)')\n",
    "ax.set_ylabel('Fuel Efficiency (miles/(US) gallon)')\n",
    "\n",
    "plt.show()"
   ],
   "outputs": [
    {
     "data": {
      "text/plain": [
       "<Figure size 640x480 with 1 Axes>"
      ],
      "image/svg+xml": "<?xml version=\"1.0\" encoding=\"utf-8\" standalone=\"no\"?>\n<!DOCTYPE svg PUBLIC \"-//W3C//DTD SVG 1.1//EN\"\n  \"http://www.w3.org/Graphics/SVG/1.1/DTD/svg11.dtd\">\n<svg xmlns:xlink=\"http://www.w3.org/1999/xlink\" width=\"404.923125pt\" height=\"325.986375pt\" viewBox=\"0 0 404.923125 325.986375\" xmlns=\"http://www.w3.org/2000/svg\" version=\"1.1\">\n <metadata>\n  <rdf:RDF xmlns:dc=\"http://purl.org/dc/elements/1.1/\" xmlns:cc=\"http://creativecommons.org/ns#\" xmlns:rdf=\"http://www.w3.org/1999/02/22-rdf-syntax-ns#\">\n   <cc:Work>\n    <dc:type rdf:resource=\"http://purl.org/dc/dcmitype/StillImage\"/>\n    <dc:date>2025-02-18T15:13:34.613400</dc:date>\n    <dc:format>image/svg+xml</dc:format>\n    <dc:creator>\n     <cc:Agent>\n      <dc:title>Matplotlib v3.10.0, https://matplotlib.org/</dc:title>\n     </cc:Agent>\n    </dc:creator>\n   </cc:Work>\n  </rdf:RDF>\n </metadata>\n <defs>\n  <style type=\"text/css\">*{stroke-linejoin: round; stroke-linecap: butt}</style>\n </defs>\n <g id=\"figure_1\">\n  <g id=\"patch_1\">\n   <path d=\"M 0 325.986375 \nL 404.923125 325.986375 \nL 404.923125 0 \nL 0 0 \nz\n\" style=\"fill: #ffffff\"/>\n  </g>\n  <g id=\"axes_1\">\n   <g id=\"patch_2\">\n    <path d=\"M 40.603125 288.430125 \nL 397.723125 288.430125 \nL 397.723125 22.318125 \nL 40.603125 22.318125 \nz\n\" style=\"fill: #ffffff\"/>\n   </g>\n   <g id=\"PathCollection_1\">\n    <defs>\n     <path id=\"mb455912fc2\" d=\"M 0 3.162278 \nC 0.838646 3.162278 1.643056 2.82908 2.236068 2.236068 \nC 2.82908 1.643056 3.162278 0.838646 3.162278 0 \nC 3.162278 -0.838646 2.82908 -1.643056 2.236068 -2.236068 \nC 1.643056 -2.82908 0.838646 -3.162278 0 -3.162278 \nC -0.838646 -3.162278 -1.643056 -2.82908 -2.236068 -2.236068 \nC -2.82908 -1.643056 -3.162278 -0.838646 -3.162278 0 \nC -3.162278 0.838646 -2.82908 1.643056 -2.236068 2.236068 \nC -1.643056 2.82908 -0.838646 3.162278 0 3.162278 \nz\n\" style=\"stroke: #808080\"/>\n    </defs>\n    <g clip-path=\"url(#p1f47a0d883)\">\n     <use xlink:href=\"#mb455912fc2\" x=\"128.828342\" y=\"167.212763\" style=\"fill: #808080; stroke: #808080\"/>\n     <use xlink:href=\"#mb455912fc2\" x=\"128.828342\" y=\"167.212763\" style=\"fill: #808080; stroke: #808080\"/>\n     <use xlink:href=\"#mb455912fc2\" x=\"86.717999\" y=\"148.682721\" style=\"fill: #808080; stroke: #808080\"/>\n     <use xlink:href=\"#mb455912fc2\" x=\"208.190141\" y=\"163.094976\" style=\"fill: #808080; stroke: #808080\"/>\n     <use xlink:href=\"#mb455912fc2\" x=\"290.791198\" y=\"190.89004\" style=\"fill: #808080; stroke: #808080\"/>\n     <use xlink:href=\"#mb455912fc2\" x=\"181.46627\" y=\"197.066721\" style=\"fill: #808080; stroke: #808080\"/>\n     <use xlink:href=\"#mb455912fc2\" x=\"290.791198\" y=\"236.185699\" style=\"fill: #808080; stroke: #808080\"/>\n     <use xlink:href=\"#mb455912fc2\" x=\"118.057812\" y=\"132.211572\" style=\"fill: #808080; stroke: #808080\"/>\n     <use xlink:href=\"#mb455912fc2\" x=\"113.279908\" y=\"148.682721\" style=\"fill: #808080; stroke: #808080\"/>\n     <use xlink:href=\"#mb455912fc2\" x=\"134.98293\" y=\"185.742806\" style=\"fill: #808080; stroke: #808080\"/>\n     <use xlink:href=\"#mb455912fc2\" x=\"134.98293\" y=\"200.155061\" style=\"fill: #808080; stroke: #808080\"/>\n     <use xlink:href=\"#mb455912fc2\" x=\"222.604836\" y=\"214.567316\" style=\"fill: #808080; stroke: #808080\"/>\n     <use xlink:href=\"#mb455912fc2\" x=\"222.604836\" y=\"205.302295\" style=\"fill: #808080; stroke: #808080\"/>\n     <use xlink:href=\"#mb455912fc2\" x=\"222.604836\" y=\"226.920678\" style=\"fill: #808080; stroke: #808080\"/>\n     <use xlink:href=\"#mb455912fc2\" x=\"381.490398\" y=\"276.334125\" style=\"fill: #808080; stroke: #808080\"/>\n     <use xlink:href=\"#mb455912fc2\" x=\"371.772626\" y=\"276.334125\" style=\"fill: #808080; stroke: #808080\"/>\n     <use xlink:href=\"#mb455912fc2\" x=\"355.576341\" y=\"232.067912\" style=\"fill: #808080; stroke: #808080\"/>\n     <use xlink:href=\"#mb455912fc2\" x=\"62.990441\" y=\"49.855827\" style=\"fill: #808080; stroke: #808080\"/>\n     <use xlink:href=\"#mb455912fc2\" x=\"60.560998\" y=\"70.444763\" style=\"fill: #808080; stroke: #808080\"/>\n     <use xlink:href=\"#mb455912fc2\" x=\"56.835852\" y=\"34.414125\" style=\"fill: #808080; stroke: #808080\"/>\n     <use xlink:href=\"#mb455912fc2\" x=\"96.516752\" y=\"162.065529\" style=\"fill: #808080; stroke: #808080\"/>\n     <use xlink:href=\"#mb455912fc2\" x=\"256.778998\" y=\"223.832338\" style=\"fill: #808080; stroke: #808080\"/>\n     <use xlink:href=\"#mb455912fc2\" x=\"245.441598\" y=\"226.920678\" style=\"fill: #808080; stroke: #808080\"/>\n     <use xlink:href=\"#mb455912fc2\" x=\"282.693055\" y=\"246.480168\" style=\"fill: #808080; stroke: #808080\"/>\n     <use xlink:href=\"#mb455912fc2\" x=\"323.183769\" y=\"185.742806\" style=\"fill: #808080; stroke: #808080\"/>\n     <use xlink:href=\"#mb455912fc2\" x=\"63.233385\" y=\"102.357614\" style=\"fill: #808080; stroke: #808080\"/>\n     <use xlink:href=\"#mb455912fc2\" x=\"96.678715\" y=\"115.740423\" style=\"fill: #808080; stroke: #808080\"/>\n     <use xlink:href=\"#mb455912fc2\" x=\"76.271395\" y=\"70.444763\" style=\"fill: #808080; stroke: #808080\"/>\n     <use xlink:href=\"#mb455912fc2\" x=\"283.50287\" y=\"220.743997\" style=\"fill: #808080; stroke: #808080\"/>\n     <use xlink:href=\"#mb455912fc2\" x=\"116.681128\" y=\"180.595572\" style=\"fill: #808080; stroke: #808080\"/>\n     <use xlink:href=\"#mb455912fc2\" x=\"243.012156\" y=\"228.979572\" style=\"fill: #808080; stroke: #808080\"/>\n     <use xlink:href=\"#mb455912fc2\" x=\"97.245585\" y=\"163.094976\" style=\"fill: #808080; stroke: #808080\"/>\n    </g>\n   </g>\n   <g id=\"matplotlib.axis_1\">\n    <g id=\"xtick_1\">\n     <g id=\"line2d_1\">\n      <path d=\"M 80.239485 288.430125 \nL 80.239485 22.318125 \n\" clip-path=\"url(#p1f47a0d883)\" style=\"fill: none; stroke: #d3d3d3; stroke-width: 0.8; stroke-linecap: square\"/>\n     </g>\n     <g id=\"line2d_2\">\n      <defs>\n       <path id=\"m3dfc3c3a24\" d=\"M 0 0 \nL 0 3.5 \n\" style=\"stroke: #000000; stroke-width: 0.8\"/>\n      </defs>\n      <g>\n       <use xlink:href=\"#m3dfc3c3a24\" x=\"80.239485\" y=\"288.430125\" style=\"stroke: #000000; stroke-width: 0.8\"/>\n      </g>\n     </g>\n     <g id=\"text_1\">\n      <!-- 100 -->\n      <g transform=\"translate(70.695735 303.028562) scale(0.1 -0.1)\">\n       <defs>\n        <path id=\"DejaVuSans-31\" d=\"M 794 531 \nL 1825 531 \nL 1825 4091 \nL 703 3866 \nL 703 4441 \nL 1819 4666 \nL 2450 4666 \nL 2450 531 \nL 3481 531 \nL 3481 0 \nL 794 0 \nL 794 531 \nz\n\" transform=\"scale(0.015625)\"/>\n        <path id=\"DejaVuSans-30\" d=\"M 2034 4250 \nQ 1547 4250 1301 3770 \nQ 1056 3291 1056 2328 \nQ 1056 1369 1301 889 \nQ 1547 409 2034 409 \nQ 2525 409 2770 889 \nQ 3016 1369 3016 2328 \nQ 3016 3291 2770 3770 \nQ 2525 4250 2034 4250 \nz\nM 2034 4750 \nQ 2819 4750 3233 4129 \nQ 3647 3509 3647 2328 \nQ 3647 1150 3233 529 \nQ 2819 -91 2034 -91 \nQ 1250 -91 836 529 \nQ 422 1150 422 2328 \nQ 422 3509 836 4129 \nQ 1250 4750 2034 4750 \nz\n\" transform=\"scale(0.015625)\"/>\n       </defs>\n       <use xlink:href=\"#DejaVuSans-31\"/>\n       <use xlink:href=\"#DejaVuSans-30\" transform=\"translate(63.623047 0)\"/>\n       <use xlink:href=\"#DejaVuSans-30\" transform=\"translate(127.246094 0)\"/>\n      </g>\n     </g>\n    </g>\n    <g id=\"xtick_2\">\n     <g id=\"line2d_3\">\n      <path d=\"M 161.220913 288.430125 \nL 161.220913 22.318125 \n\" clip-path=\"url(#p1f47a0d883)\" style=\"fill: none; stroke: #d3d3d3; stroke-width: 0.8; stroke-linecap: square\"/>\n     </g>\n     <g id=\"line2d_4\">\n      <g>\n       <use xlink:href=\"#m3dfc3c3a24\" x=\"161.220913\" y=\"288.430125\" style=\"stroke: #000000; stroke-width: 0.8\"/>\n      </g>\n     </g>\n     <g id=\"text_2\">\n      <!-- 200 -->\n      <g transform=\"translate(151.677163 303.028562) scale(0.1 -0.1)\">\n       <defs>\n        <path id=\"DejaVuSans-32\" d=\"M 1228 531 \nL 3431 531 \nL 3431 0 \nL 469 0 \nL 469 531 \nQ 828 903 1448 1529 \nQ 2069 2156 2228 2338 \nQ 2531 2678 2651 2914 \nQ 2772 3150 2772 3378 \nQ 2772 3750 2511 3984 \nQ 2250 4219 1831 4219 \nQ 1534 4219 1204 4116 \nQ 875 4013 500 3803 \nL 500 4441 \nQ 881 4594 1212 4672 \nQ 1544 4750 1819 4750 \nQ 2544 4750 2975 4387 \nQ 3406 4025 3406 3419 \nQ 3406 3131 3298 2873 \nQ 3191 2616 2906 2266 \nQ 2828 2175 2409 1742 \nQ 1991 1309 1228 531 \nz\n\" transform=\"scale(0.015625)\"/>\n       </defs>\n       <use xlink:href=\"#DejaVuSans-32\"/>\n       <use xlink:href=\"#DejaVuSans-30\" transform=\"translate(63.623047 0)\"/>\n       <use xlink:href=\"#DejaVuSans-30\" transform=\"translate(127.246094 0)\"/>\n      </g>\n     </g>\n    </g>\n    <g id=\"xtick_3\">\n     <g id=\"line2d_5\">\n      <path d=\"M 242.202341 288.430125 \nL 242.202341 22.318125 \n\" clip-path=\"url(#p1f47a0d883)\" style=\"fill: none; stroke: #d3d3d3; stroke-width: 0.8; stroke-linecap: square\"/>\n     </g>\n     <g id=\"line2d_6\">\n      <g>\n       <use xlink:href=\"#m3dfc3c3a24\" x=\"242.202341\" y=\"288.430125\" style=\"stroke: #000000; stroke-width: 0.8\"/>\n      </g>\n     </g>\n     <g id=\"text_3\">\n      <!-- 300 -->\n      <g transform=\"translate(232.658591 303.028562) scale(0.1 -0.1)\">\n       <defs>\n        <path id=\"DejaVuSans-33\" d=\"M 2597 2516 \nQ 3050 2419 3304 2112 \nQ 3559 1806 3559 1356 \nQ 3559 666 3084 287 \nQ 2609 -91 1734 -91 \nQ 1441 -91 1130 -33 \nQ 819 25 488 141 \nL 488 750 \nQ 750 597 1062 519 \nQ 1375 441 1716 441 \nQ 2309 441 2620 675 \nQ 2931 909 2931 1356 \nQ 2931 1769 2642 2001 \nQ 2353 2234 1838 2234 \nL 1294 2234 \nL 1294 2753 \nL 1863 2753 \nQ 2328 2753 2575 2939 \nQ 2822 3125 2822 3475 \nQ 2822 3834 2567 4026 \nQ 2313 4219 1838 4219 \nQ 1578 4219 1281 4162 \nQ 984 4106 628 3988 \nL 628 4550 \nQ 988 4650 1302 4700 \nQ 1616 4750 1894 4750 \nQ 2613 4750 3031 4423 \nQ 3450 4097 3450 3541 \nQ 3450 3153 3228 2886 \nQ 3006 2619 2597 2516 \nz\n\" transform=\"scale(0.015625)\"/>\n       </defs>\n       <use xlink:href=\"#DejaVuSans-33\"/>\n       <use xlink:href=\"#DejaVuSans-30\" transform=\"translate(63.623047 0)\"/>\n       <use xlink:href=\"#DejaVuSans-30\" transform=\"translate(127.246094 0)\"/>\n      </g>\n     </g>\n    </g>\n    <g id=\"xtick_4\">\n     <g id=\"line2d_7\">\n      <path d=\"M 323.183769 288.430125 \nL 323.183769 22.318125 \n\" clip-path=\"url(#p1f47a0d883)\" style=\"fill: none; stroke: #d3d3d3; stroke-width: 0.8; stroke-linecap: square\"/>\n     </g>\n     <g id=\"line2d_8\">\n      <g>\n       <use xlink:href=\"#m3dfc3c3a24\" x=\"323.183769\" y=\"288.430125\" style=\"stroke: #000000; stroke-width: 0.8\"/>\n      </g>\n     </g>\n     <g id=\"text_4\">\n      <!-- 400 -->\n      <g transform=\"translate(313.640019 303.028562) scale(0.1 -0.1)\">\n       <defs>\n        <path id=\"DejaVuSans-34\" d=\"M 2419 4116 \nL 825 1625 \nL 2419 1625 \nL 2419 4116 \nz\nM 2253 4666 \nL 3047 4666 \nL 3047 1625 \nL 3713 1625 \nL 3713 1100 \nL 3047 1100 \nL 3047 0 \nL 2419 0 \nL 2419 1100 \nL 313 1100 \nL 313 1709 \nL 2253 4666 \nz\n\" transform=\"scale(0.015625)\"/>\n       </defs>\n       <use xlink:href=\"#DejaVuSans-34\"/>\n       <use xlink:href=\"#DejaVuSans-30\" transform=\"translate(63.623047 0)\"/>\n       <use xlink:href=\"#DejaVuSans-30\" transform=\"translate(127.246094 0)\"/>\n      </g>\n     </g>\n    </g>\n    <g id=\"text_5\">\n     <!-- Displacement (cu.in.) -->\n     <g transform=\"translate(165.645938 316.706687) scale(0.1 -0.1)\">\n      <defs>\n       <path id=\"DejaVuSans-44\" d=\"M 1259 4147 \nL 1259 519 \nL 2022 519 \nQ 2988 519 3436 956 \nQ 3884 1394 3884 2338 \nQ 3884 3275 3436 3711 \nQ 2988 4147 2022 4147 \nL 1259 4147 \nz\nM 628 4666 \nL 1925 4666 \nQ 3281 4666 3915 4102 \nQ 4550 3538 4550 2338 \nQ 4550 1131 3912 565 \nQ 3275 0 1925 0 \nL 628 0 \nL 628 4666 \nz\n\" transform=\"scale(0.015625)\"/>\n       <path id=\"DejaVuSans-69\" d=\"M 603 3500 \nL 1178 3500 \nL 1178 0 \nL 603 0 \nL 603 3500 \nz\nM 603 4863 \nL 1178 4863 \nL 1178 4134 \nL 603 4134 \nL 603 4863 \nz\n\" transform=\"scale(0.015625)\"/>\n       <path id=\"DejaVuSans-73\" d=\"M 2834 3397 \nL 2834 2853 \nQ 2591 2978 2328 3040 \nQ 2066 3103 1784 3103 \nQ 1356 3103 1142 2972 \nQ 928 2841 928 2578 \nQ 928 2378 1081 2264 \nQ 1234 2150 1697 2047 \nL 1894 2003 \nQ 2506 1872 2764 1633 \nQ 3022 1394 3022 966 \nQ 3022 478 2636 193 \nQ 2250 -91 1575 -91 \nQ 1294 -91 989 -36 \nQ 684 19 347 128 \nL 347 722 \nQ 666 556 975 473 \nQ 1284 391 1588 391 \nQ 1994 391 2212 530 \nQ 2431 669 2431 922 \nQ 2431 1156 2273 1281 \nQ 2116 1406 1581 1522 \nL 1381 1569 \nQ 847 1681 609 1914 \nQ 372 2147 372 2553 \nQ 372 3047 722 3315 \nQ 1072 3584 1716 3584 \nQ 2034 3584 2315 3537 \nQ 2597 3491 2834 3397 \nz\n\" transform=\"scale(0.015625)\"/>\n       <path id=\"DejaVuSans-70\" d=\"M 1159 525 \nL 1159 -1331 \nL 581 -1331 \nL 581 3500 \nL 1159 3500 \nL 1159 2969 \nQ 1341 3281 1617 3432 \nQ 1894 3584 2278 3584 \nQ 2916 3584 3314 3078 \nQ 3713 2572 3713 1747 \nQ 3713 922 3314 415 \nQ 2916 -91 2278 -91 \nQ 1894 -91 1617 61 \nQ 1341 213 1159 525 \nz\nM 3116 1747 \nQ 3116 2381 2855 2742 \nQ 2594 3103 2138 3103 \nQ 1681 3103 1420 2742 \nQ 1159 2381 1159 1747 \nQ 1159 1113 1420 752 \nQ 1681 391 2138 391 \nQ 2594 391 2855 752 \nQ 3116 1113 3116 1747 \nz\n\" transform=\"scale(0.015625)\"/>\n       <path id=\"DejaVuSans-6c\" d=\"M 603 4863 \nL 1178 4863 \nL 1178 0 \nL 603 0 \nL 603 4863 \nz\n\" transform=\"scale(0.015625)\"/>\n       <path id=\"DejaVuSans-61\" d=\"M 2194 1759 \nQ 1497 1759 1228 1600 \nQ 959 1441 959 1056 \nQ 959 750 1161 570 \nQ 1363 391 1709 391 \nQ 2188 391 2477 730 \nQ 2766 1069 2766 1631 \nL 2766 1759 \nL 2194 1759 \nz\nM 3341 1997 \nL 3341 0 \nL 2766 0 \nL 2766 531 \nQ 2569 213 2275 61 \nQ 1981 -91 1556 -91 \nQ 1019 -91 701 211 \nQ 384 513 384 1019 \nQ 384 1609 779 1909 \nQ 1175 2209 1959 2209 \nL 2766 2209 \nL 2766 2266 \nQ 2766 2663 2505 2880 \nQ 2244 3097 1772 3097 \nQ 1472 3097 1187 3025 \nQ 903 2953 641 2809 \nL 641 3341 \nQ 956 3463 1253 3523 \nQ 1550 3584 1831 3584 \nQ 2591 3584 2966 3190 \nQ 3341 2797 3341 1997 \nz\n\" transform=\"scale(0.015625)\"/>\n       <path id=\"DejaVuSans-63\" d=\"M 3122 3366 \nL 3122 2828 \nQ 2878 2963 2633 3030 \nQ 2388 3097 2138 3097 \nQ 1578 3097 1268 2742 \nQ 959 2388 959 1747 \nQ 959 1106 1268 751 \nQ 1578 397 2138 397 \nQ 2388 397 2633 464 \nQ 2878 531 3122 666 \nL 3122 134 \nQ 2881 22 2623 -34 \nQ 2366 -91 2075 -91 \nQ 1284 -91 818 406 \nQ 353 903 353 1747 \nQ 353 2603 823 3093 \nQ 1294 3584 2113 3584 \nQ 2378 3584 2631 3529 \nQ 2884 3475 3122 3366 \nz\n\" transform=\"scale(0.015625)\"/>\n       <path id=\"DejaVuSans-65\" d=\"M 3597 1894 \nL 3597 1613 \nL 953 1613 \nQ 991 1019 1311 708 \nQ 1631 397 2203 397 \nQ 2534 397 2845 478 \nQ 3156 559 3463 722 \nL 3463 178 \nQ 3153 47 2828 -22 \nQ 2503 -91 2169 -91 \nQ 1331 -91 842 396 \nQ 353 884 353 1716 \nQ 353 2575 817 3079 \nQ 1281 3584 2069 3584 \nQ 2775 3584 3186 3129 \nQ 3597 2675 3597 1894 \nz\nM 3022 2063 \nQ 3016 2534 2758 2815 \nQ 2500 3097 2075 3097 \nQ 1594 3097 1305 2825 \nQ 1016 2553 972 2059 \nL 3022 2063 \nz\n\" transform=\"scale(0.015625)\"/>\n       <path id=\"DejaVuSans-6d\" d=\"M 3328 2828 \nQ 3544 3216 3844 3400 \nQ 4144 3584 4550 3584 \nQ 5097 3584 5394 3201 \nQ 5691 2819 5691 2113 \nL 5691 0 \nL 5113 0 \nL 5113 2094 \nQ 5113 2597 4934 2840 \nQ 4756 3084 4391 3084 \nQ 3944 3084 3684 2787 \nQ 3425 2491 3425 1978 \nL 3425 0 \nL 2847 0 \nL 2847 2094 \nQ 2847 2600 2669 2842 \nQ 2491 3084 2119 3084 \nQ 1678 3084 1418 2786 \nQ 1159 2488 1159 1978 \nL 1159 0 \nL 581 0 \nL 581 3500 \nL 1159 3500 \nL 1159 2956 \nQ 1356 3278 1631 3431 \nQ 1906 3584 2284 3584 \nQ 2666 3584 2933 3390 \nQ 3200 3197 3328 2828 \nz\n\" transform=\"scale(0.015625)\"/>\n       <path id=\"DejaVuSans-6e\" d=\"M 3513 2113 \nL 3513 0 \nL 2938 0 \nL 2938 2094 \nQ 2938 2591 2744 2837 \nQ 2550 3084 2163 3084 \nQ 1697 3084 1428 2787 \nQ 1159 2491 1159 1978 \nL 1159 0 \nL 581 0 \nL 581 3500 \nL 1159 3500 \nL 1159 2956 \nQ 1366 3272 1645 3428 \nQ 1925 3584 2291 3584 \nQ 2894 3584 3203 3211 \nQ 3513 2838 3513 2113 \nz\n\" transform=\"scale(0.015625)\"/>\n       <path id=\"DejaVuSans-74\" d=\"M 1172 4494 \nL 1172 3500 \nL 2356 3500 \nL 2356 3053 \nL 1172 3053 \nL 1172 1153 \nQ 1172 725 1289 603 \nQ 1406 481 1766 481 \nL 2356 481 \nL 2356 0 \nL 1766 0 \nQ 1100 0 847 248 \nQ 594 497 594 1153 \nL 594 3053 \nL 172 3053 \nL 172 3500 \nL 594 3500 \nL 594 4494 \nL 1172 4494 \nz\n\" transform=\"scale(0.015625)\"/>\n       <path id=\"DejaVuSans-20\" transform=\"scale(0.015625)\"/>\n       <path id=\"DejaVuSans-28\" d=\"M 1984 4856 \nQ 1566 4138 1362 3434 \nQ 1159 2731 1159 2009 \nQ 1159 1288 1364 580 \nQ 1569 -128 1984 -844 \nL 1484 -844 \nQ 1016 -109 783 600 \nQ 550 1309 550 2009 \nQ 550 2706 781 3412 \nQ 1013 4119 1484 4856 \nL 1984 4856 \nz\n\" transform=\"scale(0.015625)\"/>\n       <path id=\"DejaVuSans-75\" d=\"M 544 1381 \nL 544 3500 \nL 1119 3500 \nL 1119 1403 \nQ 1119 906 1312 657 \nQ 1506 409 1894 409 \nQ 2359 409 2629 706 \nQ 2900 1003 2900 1516 \nL 2900 3500 \nL 3475 3500 \nL 3475 0 \nL 2900 0 \nL 2900 538 \nQ 2691 219 2414 64 \nQ 2138 -91 1772 -91 \nQ 1169 -91 856 284 \nQ 544 659 544 1381 \nz\nM 1991 3584 \nL 1991 3584 \nz\n\" transform=\"scale(0.015625)\"/>\n       <path id=\"DejaVuSans-2e\" d=\"M 684 794 \nL 1344 794 \nL 1344 0 \nL 684 0 \nL 684 794 \nz\n\" transform=\"scale(0.015625)\"/>\n       <path id=\"DejaVuSans-29\" d=\"M 513 4856 \nL 1013 4856 \nQ 1481 4119 1714 3412 \nQ 1947 2706 1947 2009 \nQ 1947 1309 1714 600 \nQ 1481 -109 1013 -844 \nL 513 -844 \nQ 928 -128 1133 580 \nQ 1338 1288 1338 2009 \nQ 1338 2731 1133 3434 \nQ 928 4138 513 4856 \nz\n\" transform=\"scale(0.015625)\"/>\n      </defs>\n      <use xlink:href=\"#DejaVuSans-44\"/>\n      <use xlink:href=\"#DejaVuSans-69\" transform=\"translate(77.001953 0)\"/>\n      <use xlink:href=\"#DejaVuSans-73\" transform=\"translate(104.785156 0)\"/>\n      <use xlink:href=\"#DejaVuSans-70\" transform=\"translate(156.884766 0)\"/>\n      <use xlink:href=\"#DejaVuSans-6c\" transform=\"translate(220.361328 0)\"/>\n      <use xlink:href=\"#DejaVuSans-61\" transform=\"translate(248.144531 0)\"/>\n      <use xlink:href=\"#DejaVuSans-63\" transform=\"translate(309.423828 0)\"/>\n      <use xlink:href=\"#DejaVuSans-65\" transform=\"translate(364.404297 0)\"/>\n      <use xlink:href=\"#DejaVuSans-6d\" transform=\"translate(425.927734 0)\"/>\n      <use xlink:href=\"#DejaVuSans-65\" transform=\"translate(523.339844 0)\"/>\n      <use xlink:href=\"#DejaVuSans-6e\" transform=\"translate(584.863281 0)\"/>\n      <use xlink:href=\"#DejaVuSans-74\" transform=\"translate(648.242188 0)\"/>\n      <use xlink:href=\"#DejaVuSans-20\" transform=\"translate(687.451172 0)\"/>\n      <use xlink:href=\"#DejaVuSans-28\" transform=\"translate(719.238281 0)\"/>\n      <use xlink:href=\"#DejaVuSans-63\" transform=\"translate(758.251953 0)\"/>\n      <use xlink:href=\"#DejaVuSans-75\" transform=\"translate(813.232422 0)\"/>\n      <use xlink:href=\"#DejaVuSans-2e\" transform=\"translate(876.611328 0)\"/>\n      <use xlink:href=\"#DejaVuSans-69\" transform=\"translate(908.398438 0)\"/>\n      <use xlink:href=\"#DejaVuSans-6e\" transform=\"translate(936.181641 0)\"/>\n      <use xlink:href=\"#DejaVuSans-2e\" transform=\"translate(999.560547 0)\"/>\n      <use xlink:href=\"#DejaVuSans-29\" transform=\"translate(1031.347656 0)\"/>\n     </g>\n    </g>\n   </g>\n   <g id=\"matplotlib.axis_2\">\n    <g id=\"ytick_1\">\n     <g id=\"line2d_9\">\n      <path d=\"M 40.603125 280.451912 \nL 397.723125 280.451912 \n\" clip-path=\"url(#p1f47a0d883)\" style=\"fill: none; stroke: #d3d3d3; stroke-width: 0.8; stroke-linecap: square\"/>\n     </g>\n     <g id=\"line2d_10\">\n      <defs>\n       <path id=\"mfd8201f526\" d=\"M 0 0 \nL -3.5 0 \n\" style=\"stroke: #000000; stroke-width: 0.8\"/>\n      </defs>\n      <g>\n       <use xlink:href=\"#mfd8201f526\" x=\"40.603125\" y=\"280.451912\" style=\"stroke: #000000; stroke-width: 0.8\"/>\n      </g>\n     </g>\n     <g id=\"text_6\">\n      <!-- 10 -->\n      <g transform=\"translate(20.878125 284.251131) scale(0.1 -0.1)\">\n       <use xlink:href=\"#DejaVuSans-31\"/>\n       <use xlink:href=\"#DejaVuSans-30\" transform=\"translate(63.623047 0)\"/>\n      </g>\n     </g>\n    </g>\n    <g id=\"ytick_2\">\n     <g id=\"line2d_11\">\n      <path d=\"M 40.603125 228.979572 \nL 397.723125 228.979572 \n\" clip-path=\"url(#p1f47a0d883)\" style=\"fill: none; stroke: #d3d3d3; stroke-width: 0.8; stroke-linecap: square\"/>\n     </g>\n     <g id=\"line2d_12\">\n      <g>\n       <use xlink:href=\"#mfd8201f526\" x=\"40.603125\" y=\"228.979572\" style=\"stroke: #000000; stroke-width: 0.8\"/>\n      </g>\n     </g>\n     <g id=\"text_7\">\n      <!-- 15 -->\n      <g transform=\"translate(20.878125 232.778791) scale(0.1 -0.1)\">\n       <defs>\n        <path id=\"DejaVuSans-35\" d=\"M 691 4666 \nL 3169 4666 \nL 3169 4134 \nL 1269 4134 \nL 1269 2991 \nQ 1406 3038 1543 3061 \nQ 1681 3084 1819 3084 \nQ 2600 3084 3056 2656 \nQ 3513 2228 3513 1497 \nQ 3513 744 3044 326 \nQ 2575 -91 1722 -91 \nQ 1428 -91 1123 -41 \nQ 819 9 494 109 \nL 494 744 \nQ 775 591 1075 516 \nQ 1375 441 1709 441 \nQ 2250 441 2565 725 \nQ 2881 1009 2881 1497 \nQ 2881 1984 2565 2268 \nQ 2250 2553 1709 2553 \nQ 1456 2553 1204 2497 \nQ 953 2441 691 2322 \nL 691 4666 \nz\n\" transform=\"scale(0.015625)\"/>\n       </defs>\n       <use xlink:href=\"#DejaVuSans-31\"/>\n       <use xlink:href=\"#DejaVuSans-35\" transform=\"translate(63.623047 0)\"/>\n      </g>\n     </g>\n    </g>\n    <g id=\"ytick_3\">\n     <g id=\"line2d_13\">\n      <path d=\"M 40.603125 177.507231 \nL 397.723125 177.507231 \n\" clip-path=\"url(#p1f47a0d883)\" style=\"fill: none; stroke: #d3d3d3; stroke-width: 0.8; stroke-linecap: square\"/>\n     </g>\n     <g id=\"line2d_14\">\n      <g>\n       <use xlink:href=\"#mfd8201f526\" x=\"40.603125\" y=\"177.507231\" style=\"stroke: #000000; stroke-width: 0.8\"/>\n      </g>\n     </g>\n     <g id=\"text_8\">\n      <!-- 20 -->\n      <g transform=\"translate(20.878125 181.30645) scale(0.1 -0.1)\">\n       <use xlink:href=\"#DejaVuSans-32\"/>\n       <use xlink:href=\"#DejaVuSans-30\" transform=\"translate(63.623047 0)\"/>\n      </g>\n     </g>\n    </g>\n    <g id=\"ytick_4\">\n     <g id=\"line2d_15\">\n      <path d=\"M 40.603125 126.034891 \nL 397.723125 126.034891 \n\" clip-path=\"url(#p1f47a0d883)\" style=\"fill: none; stroke: #d3d3d3; stroke-width: 0.8; stroke-linecap: square\"/>\n     </g>\n     <g id=\"line2d_16\">\n      <g>\n       <use xlink:href=\"#mfd8201f526\" x=\"40.603125\" y=\"126.034891\" style=\"stroke: #000000; stroke-width: 0.8\"/>\n      </g>\n     </g>\n     <g id=\"text_9\">\n      <!-- 25 -->\n      <g transform=\"translate(20.878125 129.83411) scale(0.1 -0.1)\">\n       <use xlink:href=\"#DejaVuSans-32\"/>\n       <use xlink:href=\"#DejaVuSans-35\" transform=\"translate(63.623047 0)\"/>\n      </g>\n     </g>\n    </g>\n    <g id=\"ytick_5\">\n     <g id=\"line2d_17\">\n      <path d=\"M 40.603125 74.562551 \nL 397.723125 74.562551 \n\" clip-path=\"url(#p1f47a0d883)\" style=\"fill: none; stroke: #d3d3d3; stroke-width: 0.8; stroke-linecap: square\"/>\n     </g>\n     <g id=\"line2d_18\">\n      <g>\n       <use xlink:href=\"#mfd8201f526\" x=\"40.603125\" y=\"74.562551\" style=\"stroke: #000000; stroke-width: 0.8\"/>\n      </g>\n     </g>\n     <g id=\"text_10\">\n      <!-- 30 -->\n      <g transform=\"translate(20.878125 78.361769) scale(0.1 -0.1)\">\n       <use xlink:href=\"#DejaVuSans-33\"/>\n       <use xlink:href=\"#DejaVuSans-30\" transform=\"translate(63.623047 0)\"/>\n      </g>\n     </g>\n    </g>\n    <g id=\"ytick_6\">\n     <g id=\"line2d_19\">\n      <path d=\"M 40.603125 23.09021 \nL 397.723125 23.09021 \n\" clip-path=\"url(#p1f47a0d883)\" style=\"fill: none; stroke: #d3d3d3; stroke-width: 0.8; stroke-linecap: square\"/>\n     </g>\n     <g id=\"line2d_20\">\n      <g>\n       <use xlink:href=\"#mfd8201f526\" x=\"40.603125\" y=\"23.09021\" style=\"stroke: #000000; stroke-width: 0.8\"/>\n      </g>\n     </g>\n     <g id=\"text_11\">\n      <!-- 35 -->\n      <g transform=\"translate(20.878125 26.889429) scale(0.1 -0.1)\">\n       <use xlink:href=\"#DejaVuSans-33\"/>\n       <use xlink:href=\"#DejaVuSans-35\" transform=\"translate(63.623047 0)\"/>\n      </g>\n     </g>\n    </g>\n    <g id=\"text_12\">\n     <!-- Fuel Efficiency (miles/(US) gallon) -->\n     <g transform=\"translate(14.798437 239.432719) rotate(-90) scale(0.1 -0.1)\">\n      <defs>\n       <path id=\"DejaVuSans-46\" d=\"M 628 4666 \nL 3309 4666 \nL 3309 4134 \nL 1259 4134 \nL 1259 2759 \nL 3109 2759 \nL 3109 2228 \nL 1259 2228 \nL 1259 0 \nL 628 0 \nL 628 4666 \nz\n\" transform=\"scale(0.015625)\"/>\n       <path id=\"DejaVuSans-45\" d=\"M 628 4666 \nL 3578 4666 \nL 3578 4134 \nL 1259 4134 \nL 1259 2753 \nL 3481 2753 \nL 3481 2222 \nL 1259 2222 \nL 1259 531 \nL 3634 531 \nL 3634 0 \nL 628 0 \nL 628 4666 \nz\n\" transform=\"scale(0.015625)\"/>\n       <path id=\"DejaVuSans-66\" d=\"M 2375 4863 \nL 2375 4384 \nL 1825 4384 \nQ 1516 4384 1395 4259 \nQ 1275 4134 1275 3809 \nL 1275 3500 \nL 2222 3500 \nL 2222 3053 \nL 1275 3053 \nL 1275 0 \nL 697 0 \nL 697 3053 \nL 147 3053 \nL 147 3500 \nL 697 3500 \nL 697 3744 \nQ 697 4328 969 4595 \nQ 1241 4863 1831 4863 \nL 2375 4863 \nz\n\" transform=\"scale(0.015625)\"/>\n       <path id=\"DejaVuSans-79\" d=\"M 2059 -325 \nQ 1816 -950 1584 -1140 \nQ 1353 -1331 966 -1331 \nL 506 -1331 \nL 506 -850 \nL 844 -850 \nQ 1081 -850 1212 -737 \nQ 1344 -625 1503 -206 \nL 1606 56 \nL 191 3500 \nL 800 3500 \nL 1894 763 \nL 2988 3500 \nL 3597 3500 \nL 2059 -325 \nz\n\" transform=\"scale(0.015625)\"/>\n       <path id=\"DejaVuSans-2f\" d=\"M 1625 4666 \nL 2156 4666 \nL 531 -594 \nL 0 -594 \nL 1625 4666 \nz\n\" transform=\"scale(0.015625)\"/>\n       <path id=\"DejaVuSans-55\" d=\"M 556 4666 \nL 1191 4666 \nL 1191 1831 \nQ 1191 1081 1462 751 \nQ 1734 422 2344 422 \nQ 2950 422 3222 751 \nQ 3494 1081 3494 1831 \nL 3494 4666 \nL 4128 4666 \nL 4128 1753 \nQ 4128 841 3676 375 \nQ 3225 -91 2344 -91 \nQ 1459 -91 1007 375 \nQ 556 841 556 1753 \nL 556 4666 \nz\n\" transform=\"scale(0.015625)\"/>\n       <path id=\"DejaVuSans-53\" d=\"M 3425 4513 \nL 3425 3897 \nQ 3066 4069 2747 4153 \nQ 2428 4238 2131 4238 \nQ 1616 4238 1336 4038 \nQ 1056 3838 1056 3469 \nQ 1056 3159 1242 3001 \nQ 1428 2844 1947 2747 \nL 2328 2669 \nQ 3034 2534 3370 2195 \nQ 3706 1856 3706 1288 \nQ 3706 609 3251 259 \nQ 2797 -91 1919 -91 \nQ 1588 -91 1214 -16 \nQ 841 59 441 206 \nL 441 856 \nQ 825 641 1194 531 \nQ 1563 422 1919 422 \nQ 2459 422 2753 634 \nQ 3047 847 3047 1241 \nQ 3047 1584 2836 1778 \nQ 2625 1972 2144 2069 \nL 1759 2144 \nQ 1053 2284 737 2584 \nQ 422 2884 422 3419 \nQ 422 4038 858 4394 \nQ 1294 4750 2059 4750 \nQ 2388 4750 2728 4690 \nQ 3069 4631 3425 4513 \nz\n\" transform=\"scale(0.015625)\"/>\n       <path id=\"DejaVuSans-67\" d=\"M 2906 1791 \nQ 2906 2416 2648 2759 \nQ 2391 3103 1925 3103 \nQ 1463 3103 1205 2759 \nQ 947 2416 947 1791 \nQ 947 1169 1205 825 \nQ 1463 481 1925 481 \nQ 2391 481 2648 825 \nQ 2906 1169 2906 1791 \nz\nM 3481 434 \nQ 3481 -459 3084 -895 \nQ 2688 -1331 1869 -1331 \nQ 1566 -1331 1297 -1286 \nQ 1028 -1241 775 -1147 \nL 775 -588 \nQ 1028 -725 1275 -790 \nQ 1522 -856 1778 -856 \nQ 2344 -856 2625 -561 \nQ 2906 -266 2906 331 \nL 2906 616 \nQ 2728 306 2450 153 \nQ 2172 0 1784 0 \nQ 1141 0 747 490 \nQ 353 981 353 1791 \nQ 353 2603 747 3093 \nQ 1141 3584 1784 3584 \nQ 2172 3584 2450 3431 \nQ 2728 3278 2906 2969 \nL 2906 3500 \nL 3481 3500 \nL 3481 434 \nz\n\" transform=\"scale(0.015625)\"/>\n       <path id=\"DejaVuSans-6f\" d=\"M 1959 3097 \nQ 1497 3097 1228 2736 \nQ 959 2375 959 1747 \nQ 959 1119 1226 758 \nQ 1494 397 1959 397 \nQ 2419 397 2687 759 \nQ 2956 1122 2956 1747 \nQ 2956 2369 2687 2733 \nQ 2419 3097 1959 3097 \nz\nM 1959 3584 \nQ 2709 3584 3137 3096 \nQ 3566 2609 3566 1747 \nQ 3566 888 3137 398 \nQ 2709 -91 1959 -91 \nQ 1206 -91 779 398 \nQ 353 888 353 1747 \nQ 353 2609 779 3096 \nQ 1206 3584 1959 3584 \nz\n\" transform=\"scale(0.015625)\"/>\n      </defs>\n      <use xlink:href=\"#DejaVuSans-46\"/>\n      <use xlink:href=\"#DejaVuSans-75\" transform=\"translate(52.019531 0)\"/>\n      <use xlink:href=\"#DejaVuSans-65\" transform=\"translate(115.398438 0)\"/>\n      <use xlink:href=\"#DejaVuSans-6c\" transform=\"translate(176.921875 0)\"/>\n      <use xlink:href=\"#DejaVuSans-20\" transform=\"translate(204.705078 0)\"/>\n      <use xlink:href=\"#DejaVuSans-45\" transform=\"translate(236.492188 0)\"/>\n      <use xlink:href=\"#DejaVuSans-66\" transform=\"translate(299.675781 0)\"/>\n      <use xlink:href=\"#DejaVuSans-66\" transform=\"translate(334.880859 0)\"/>\n      <use xlink:href=\"#DejaVuSans-69\" transform=\"translate(370.085938 0)\"/>\n      <use xlink:href=\"#DejaVuSans-63\" transform=\"translate(397.869141 0)\"/>\n      <use xlink:href=\"#DejaVuSans-69\" transform=\"translate(452.849609 0)\"/>\n      <use xlink:href=\"#DejaVuSans-65\" transform=\"translate(480.632812 0)\"/>\n      <use xlink:href=\"#DejaVuSans-6e\" transform=\"translate(542.15625 0)\"/>\n      <use xlink:href=\"#DejaVuSans-63\" transform=\"translate(605.535156 0)\"/>\n      <use xlink:href=\"#DejaVuSans-79\" transform=\"translate(660.515625 0)\"/>\n      <use xlink:href=\"#DejaVuSans-20\" transform=\"translate(719.695312 0)\"/>\n      <use xlink:href=\"#DejaVuSans-28\" transform=\"translate(751.482422 0)\"/>\n      <use xlink:href=\"#DejaVuSans-6d\" transform=\"translate(790.496094 0)\"/>\n      <use xlink:href=\"#DejaVuSans-69\" transform=\"translate(887.908203 0)\"/>\n      <use xlink:href=\"#DejaVuSans-6c\" transform=\"translate(915.691406 0)\"/>\n      <use xlink:href=\"#DejaVuSans-65\" transform=\"translate(943.474609 0)\"/>\n      <use xlink:href=\"#DejaVuSans-73\" transform=\"translate(1004.998047 0)\"/>\n      <use xlink:href=\"#DejaVuSans-2f\" transform=\"translate(1057.097656 0)\"/>\n      <use xlink:href=\"#DejaVuSans-28\" transform=\"translate(1090.789062 0)\"/>\n      <use xlink:href=\"#DejaVuSans-55\" transform=\"translate(1129.802734 0)\"/>\n      <use xlink:href=\"#DejaVuSans-53\" transform=\"translate(1202.996094 0)\"/>\n      <use xlink:href=\"#DejaVuSans-29\" transform=\"translate(1266.472656 0)\"/>\n      <use xlink:href=\"#DejaVuSans-20\" transform=\"translate(1305.486328 0)\"/>\n      <use xlink:href=\"#DejaVuSans-67\" transform=\"translate(1337.273438 0)\"/>\n      <use xlink:href=\"#DejaVuSans-61\" transform=\"translate(1400.75 0)\"/>\n      <use xlink:href=\"#DejaVuSans-6c\" transform=\"translate(1462.029297 0)\"/>\n      <use xlink:href=\"#DejaVuSans-6c\" transform=\"translate(1489.8125 0)\"/>\n      <use xlink:href=\"#DejaVuSans-6f\" transform=\"translate(1517.595703 0)\"/>\n      <use xlink:href=\"#DejaVuSans-6e\" transform=\"translate(1578.777344 0)\"/>\n      <use xlink:href=\"#DejaVuSans-29\" transform=\"translate(1642.15625 0)\"/>\n     </g>\n    </g>\n   </g>\n   <g id=\"patch_3\">\n    <path d=\"M 40.603125 288.430125 \nL 40.603125 22.318125 \n\" style=\"fill: none; stroke: #000000; stroke-width: 0.8; stroke-linejoin: miter; stroke-linecap: square\"/>\n   </g>\n   <g id=\"patch_4\">\n    <path d=\"M 40.603125 288.430125 \nL 397.723125 288.430125 \n\" style=\"fill: none; stroke: #000000; stroke-width: 0.8; stroke-linejoin: miter; stroke-linecap: square\"/>\n   </g>\n   <g id=\"text_13\">\n    <!-- Automobile Features of 32 Models -->\n    <g transform=\"translate(116.901563 16.318125) scale(0.12 -0.12)\">\n     <defs>\n      <path id=\"DejaVuSans-41\" d=\"M 2188 4044 \nL 1331 1722 \nL 3047 1722 \nL 2188 4044 \nz\nM 1831 4666 \nL 2547 4666 \nL 4325 0 \nL 3669 0 \nL 3244 1197 \nL 1141 1197 \nL 716 0 \nL 50 0 \nL 1831 4666 \nz\n\" transform=\"scale(0.015625)\"/>\n      <path id=\"DejaVuSans-62\" d=\"M 3116 1747 \nQ 3116 2381 2855 2742 \nQ 2594 3103 2138 3103 \nQ 1681 3103 1420 2742 \nQ 1159 2381 1159 1747 \nQ 1159 1113 1420 752 \nQ 1681 391 2138 391 \nQ 2594 391 2855 752 \nQ 3116 1113 3116 1747 \nz\nM 1159 2969 \nQ 1341 3281 1617 3432 \nQ 1894 3584 2278 3584 \nQ 2916 3584 3314 3078 \nQ 3713 2572 3713 1747 \nQ 3713 922 3314 415 \nQ 2916 -91 2278 -91 \nQ 1894 -91 1617 61 \nQ 1341 213 1159 525 \nL 1159 0 \nL 581 0 \nL 581 4863 \nL 1159 4863 \nL 1159 2969 \nz\n\" transform=\"scale(0.015625)\"/>\n      <path id=\"DejaVuSans-72\" d=\"M 2631 2963 \nQ 2534 3019 2420 3045 \nQ 2306 3072 2169 3072 \nQ 1681 3072 1420 2755 \nQ 1159 2438 1159 1844 \nL 1159 0 \nL 581 0 \nL 581 3500 \nL 1159 3500 \nL 1159 2956 \nQ 1341 3275 1631 3429 \nQ 1922 3584 2338 3584 \nQ 2397 3584 2469 3576 \nQ 2541 3569 2628 3553 \nL 2631 2963 \nz\n\" transform=\"scale(0.015625)\"/>\n      <path id=\"DejaVuSans-4d\" d=\"M 628 4666 \nL 1569 4666 \nL 2759 1491 \nL 3956 4666 \nL 4897 4666 \nL 4897 0 \nL 4281 0 \nL 4281 4097 \nL 3078 897 \nL 2444 897 \nL 1241 4097 \nL 1241 0 \nL 628 0 \nL 628 4666 \nz\n\" transform=\"scale(0.015625)\"/>\n      <path id=\"DejaVuSans-64\" d=\"M 2906 2969 \nL 2906 4863 \nL 3481 4863 \nL 3481 0 \nL 2906 0 \nL 2906 525 \nQ 2725 213 2448 61 \nQ 2172 -91 1784 -91 \nQ 1150 -91 751 415 \nQ 353 922 353 1747 \nQ 353 2572 751 3078 \nQ 1150 3584 1784 3584 \nQ 2172 3584 2448 3432 \nQ 2725 3281 2906 2969 \nz\nM 947 1747 \nQ 947 1113 1208 752 \nQ 1469 391 1925 391 \nQ 2381 391 2643 752 \nQ 2906 1113 2906 1747 \nQ 2906 2381 2643 2742 \nQ 2381 3103 1925 3103 \nQ 1469 3103 1208 2742 \nQ 947 2381 947 1747 \nz\n\" transform=\"scale(0.015625)\"/>\n     </defs>\n     <use xlink:href=\"#DejaVuSans-41\"/>\n     <use xlink:href=\"#DejaVuSans-75\" transform=\"translate(68.408203 0)\"/>\n     <use xlink:href=\"#DejaVuSans-74\" transform=\"translate(131.787109 0)\"/>\n     <use xlink:href=\"#DejaVuSans-6f\" transform=\"translate(170.996094 0)\"/>\n     <use xlink:href=\"#DejaVuSans-6d\" transform=\"translate(232.177734 0)\"/>\n     <use xlink:href=\"#DejaVuSans-6f\" transform=\"translate(329.589844 0)\"/>\n     <use xlink:href=\"#DejaVuSans-62\" transform=\"translate(390.771484 0)\"/>\n     <use xlink:href=\"#DejaVuSans-69\" transform=\"translate(454.248047 0)\"/>\n     <use xlink:href=\"#DejaVuSans-6c\" transform=\"translate(482.03125 0)\"/>\n     <use xlink:href=\"#DejaVuSans-65\" transform=\"translate(509.814453 0)\"/>\n     <use xlink:href=\"#DejaVuSans-20\" transform=\"translate(571.337891 0)\"/>\n     <use xlink:href=\"#DejaVuSans-46\" transform=\"translate(603.125 0)\"/>\n     <use xlink:href=\"#DejaVuSans-65\" transform=\"translate(655.144531 0)\"/>\n     <use xlink:href=\"#DejaVuSans-61\" transform=\"translate(716.667969 0)\"/>\n     <use xlink:href=\"#DejaVuSans-74\" transform=\"translate(777.947266 0)\"/>\n     <use xlink:href=\"#DejaVuSans-75\" transform=\"translate(817.15625 0)\"/>\n     <use xlink:href=\"#DejaVuSans-72\" transform=\"translate(880.535156 0)\"/>\n     <use xlink:href=\"#DejaVuSans-65\" transform=\"translate(919.398438 0)\"/>\n     <use xlink:href=\"#DejaVuSans-73\" transform=\"translate(980.921875 0)\"/>\n     <use xlink:href=\"#DejaVuSans-20\" transform=\"translate(1033.021484 0)\"/>\n     <use xlink:href=\"#DejaVuSans-6f\" transform=\"translate(1064.808594 0)\"/>\n     <use xlink:href=\"#DejaVuSans-66\" transform=\"translate(1125.990234 0)\"/>\n     <use xlink:href=\"#DejaVuSans-20\" transform=\"translate(1161.195312 0)\"/>\n     <use xlink:href=\"#DejaVuSans-33\" transform=\"translate(1192.982422 0)\"/>\n     <use xlink:href=\"#DejaVuSans-32\" transform=\"translate(1256.605469 0)\"/>\n     <use xlink:href=\"#DejaVuSans-20\" transform=\"translate(1320.228516 0)\"/>\n     <use xlink:href=\"#DejaVuSans-4d\" transform=\"translate(1352.015625 0)\"/>\n     <use xlink:href=\"#DejaVuSans-6f\" transform=\"translate(1438.294922 0)\"/>\n     <use xlink:href=\"#DejaVuSans-64\" transform=\"translate(1499.476562 0)\"/>\n     <use xlink:href=\"#DejaVuSans-65\" transform=\"translate(1562.953125 0)\"/>\n     <use xlink:href=\"#DejaVuSans-6c\" transform=\"translate(1624.476562 0)\"/>\n     <use xlink:href=\"#DejaVuSans-73\" transform=\"translate(1652.259766 0)\"/>\n    </g>\n   </g>\n  </g>\n </g>\n <defs>\n  <clipPath id=\"p1f47a0d883\">\n   <rect x=\"40.603125\" y=\"22.318125\" width=\"357.12\" height=\"266.112\"/>\n  </clipPath>\n </defs>\n</svg>\n"
     },
     "metadata": {},
     "output_type": "display_data"
    }
   ],
   "execution_count": 22
  },
  {
   "cell_type": "markdown",
   "id": "0a21b68f-27bf-47eb-b896-a32e3b380537",
   "metadata": {},
   "source": [
    "The plot should look like the following:  \n",
    "![Expected scatterplot](pics/expected_scatterplot.png \"Expected scatterplot\")"
   ]
  }
 ],
 "metadata": {
  "kernelspec": {
   "display_name": "vdss",
   "language": "python",
   "name": "python3"
  },
  "language_info": {
   "codemirror_mode": {
    "name": "ipython",
    "version": 3
   },
   "file_extension": ".py",
   "mimetype": "text/x-python",
   "name": "python",
   "nbconvert_exporter": "python",
   "pygments_lexer": "ipython3",
   "version": "3.10.16"
  }
 },
 "nbformat": 4,
 "nbformat_minor": 5
}
