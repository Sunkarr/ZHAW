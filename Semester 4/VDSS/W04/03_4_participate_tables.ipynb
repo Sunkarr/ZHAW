{
 "cells": [
  {
   "cell_type": "markdown",
   "metadata": {},
   "source": [
    "# Tables - participate\n",
    "\n",
    "A more detailed tutorial on table styling is included in the pandas User Guide: [Table Visualization](https://pandas.pydata.org/docs/user_guide/style.html)"
   ]
  },
  {
   "cell_type": "code",
   "metadata": {
    "ExecuteTime": {
     "end_time": "2025-03-11T13:45:01.078623Z",
     "start_time": "2025-03-11T13:45:01.075292Z"
    }
   },
   "source": [
    "import os\n",
    "from dotenv import load_dotenv\n",
    "\n",
    "import pandas as pd\n",
    "\n",
    "load_dotenv()\n",
    "data_folder = os.getenv('DATA_FOLDER')\n",
    "\n",
    "work_path = os.path.join(os.getenv('OUTPUT_FOLDER'), '03_variable_types_text_tables', '03_4_participate_tables')\n",
    "if work_path and not os.path.exists(work_path):\n",
    "    os.makedirs(work_path)"
   ],
   "outputs": [],
   "execution_count": 6
  },
  {
   "cell_type": "markdown",
   "metadata": {},
   "source": [
    "## Exporting pandas DataFrames"
   ]
  },
  {
   "cell_type": "code",
   "metadata": {
    "ExecuteTime": {
     "end_time": "2025-03-11T13:49:15.510477Z",
     "start_time": "2025-03-11T13:49:15.506611Z"
    }
   },
   "source": [
    "data = [\n",
    "    {'Category': 'Fruit', 'Food': 'Blueberries', 'Color': 'Blue', 'Calories per serving': 42},\n",
    "    {'Category': 'Fruit', 'Food': 'Banana', 'Color': 'Yellow', 'Calories per serving': 105},\n",
    "    {'Category': 'Vegetable', 'Food': 'Carrot', 'Color': 'Orange', 'Calories per serving': 26},\n",
    "    {'Category': 'Vegetable', 'Food': 'Eggplant', 'Color': 'Purple', 'Calories per serving': 10},\n",
    "    {'Category': 'Fruit', 'Food': 'Apple', 'Color': 'Red', 'Calories per serving': 95},\n",
    "    {'Category': 'Vegetable', 'Food': 'Kale', 'Color': 'Green', 'Calories per serving': 34}\n",
    "]\n",
    "df = pd.DataFrame(data)"
   ],
   "outputs": [],
   "execution_count": 8
  },
  {
   "cell_type": "markdown",
   "metadata": {},
   "source": [
    "Display in Jupyter notebook:"
   ]
  },
  {
   "cell_type": "code",
   "metadata": {
    "ExecuteTime": {
     "end_time": "2025-03-11T13:49:42.531331Z",
     "start_time": "2025-03-11T13:49:42.524798Z"
    }
   },
   "source": [
    "df #.style.hide()"
   ],
   "outputs": [
    {
     "data": {
      "text/plain": [
       "    Category         Food   Color  Calories per serving\n",
       "0      Fruit  Blueberries    Blue                    42\n",
       "1      Fruit       Banana  Yellow                   105\n",
       "2  Vegetable       Carrot  Orange                    26\n",
       "3  Vegetable     Eggplant  Purple                    10\n",
       "4      Fruit        Apple     Red                    95\n",
       "5  Vegetable         Kale   Green                    34"
      ],
      "text/html": [
       "<div>\n",
       "<style scoped>\n",
       "    .dataframe tbody tr th:only-of-type {\n",
       "        vertical-align: middle;\n",
       "    }\n",
       "\n",
       "    .dataframe tbody tr th {\n",
       "        vertical-align: top;\n",
       "    }\n",
       "\n",
       "    .dataframe thead th {\n",
       "        text-align: right;\n",
       "    }\n",
       "</style>\n",
       "<table border=\"1\" class=\"dataframe\">\n",
       "  <thead>\n",
       "    <tr style=\"text-align: right;\">\n",
       "      <th></th>\n",
       "      <th>Category</th>\n",
       "      <th>Food</th>\n",
       "      <th>Color</th>\n",
       "      <th>Calories per serving</th>\n",
       "    </tr>\n",
       "  </thead>\n",
       "  <tbody>\n",
       "    <tr>\n",
       "      <th>0</th>\n",
       "      <td>Fruit</td>\n",
       "      <td>Blueberries</td>\n",
       "      <td>Blue</td>\n",
       "      <td>42</td>\n",
       "    </tr>\n",
       "    <tr>\n",
       "      <th>1</th>\n",
       "      <td>Fruit</td>\n",
       "      <td>Banana</td>\n",
       "      <td>Yellow</td>\n",
       "      <td>105</td>\n",
       "    </tr>\n",
       "    <tr>\n",
       "      <th>2</th>\n",
       "      <td>Vegetable</td>\n",
       "      <td>Carrot</td>\n",
       "      <td>Orange</td>\n",
       "      <td>26</td>\n",
       "    </tr>\n",
       "    <tr>\n",
       "      <th>3</th>\n",
       "      <td>Vegetable</td>\n",
       "      <td>Eggplant</td>\n",
       "      <td>Purple</td>\n",
       "      <td>10</td>\n",
       "    </tr>\n",
       "    <tr>\n",
       "      <th>4</th>\n",
       "      <td>Fruit</td>\n",
       "      <td>Apple</td>\n",
       "      <td>Red</td>\n",
       "      <td>95</td>\n",
       "    </tr>\n",
       "    <tr>\n",
       "      <th>5</th>\n",
       "      <td>Vegetable</td>\n",
       "      <td>Kale</td>\n",
       "      <td>Green</td>\n",
       "      <td>34</td>\n",
       "    </tr>\n",
       "  </tbody>\n",
       "</table>\n",
       "</div>"
      ]
     },
     "execution_count": 9,
     "metadata": {},
     "output_type": "execute_result"
    }
   ],
   "execution_count": 9
  },
  {
   "cell_type": "markdown",
   "metadata": {},
   "source": [
    "https://pandas.pydata.org/docs/user_guide/io.html"
   ]
  },
  {
   "cell_type": "code",
   "execution_count": null,
   "metadata": {},
   "outputs": [],
   "source": [
    "df.to_clipboard(excel=True, sep='\\t')"
   ]
  },
  {
   "cell_type": "code",
   "execution_count": null,
   "metadata": {},
   "outputs": [],
   "source": [
    "pd.read_clipboard()"
   ]
  },
  {
   "cell_type": "code",
   "execution_count": null,
   "metadata": {},
   "outputs": [],
   "source": [
    "print(df.to_markdown(index=False))"
   ]
  },
  {
   "cell_type": "markdown",
   "metadata": {},
   "source": [
    "Paste the table into this markdown cell:\n"
   ]
  },
  {
   "cell_type": "code",
   "execution_count": null,
   "metadata": {},
   "outputs": [],
   "source": []
  },
  {
   "cell_type": "markdown",
   "metadata": {},
   "source": [
    "To Excel:\n",
    "https://pandas.pydata.org/pandas-docs/stable/user_guide/style.html#Export-to-Excel"
   ]
  },
  {
   "cell_type": "code",
   "execution_count": null,
   "metadata": {},
   "outputs": [],
   "source": [
    "df.to_excel(os.path.join(work_path, 'df.xlsx')) # , index=False"
   ]
  },
  {
   "cell_type": "code",
   "execution_count": null,
   "metadata": {},
   "outputs": [],
   "source": [
    "df"
   ]
  },
  {
   "cell_type": "code",
   "execution_count": null,
   "metadata": {},
   "outputs": [],
   "source": [
    "df.style.highlight_min().set_properties(**{'border': '1.3px solid red','color': 'green'}).to_excel(os.path.join(work_path, 'df_styled.xlsx'), engine='openpyxl')"
   ]
  },
  {
   "cell_type": "code",
   "execution_count": null,
   "metadata": {},
   "outputs": [],
   "source": []
  },
  {
   "cell_type": "markdown",
   "metadata": {},
   "source": [
    "## Improving a table\n",
    "\n",
    "The data:"
   ]
  },
  {
   "cell_type": "code",
   "metadata": {
    "ExecuteTime": {
     "end_time": "2025-03-11T13:49:59.593843Z",
     "start_time": "2025-03-11T13:49:59.590696Z"
    }
   },
   "source": [
    "df = pd.DataFrame({'Tier': {0: 'A', 1: 'A+', 2: 'B', 3: 'C', 4: 'D'},\n",
    " '# of Accounts': {0: 77, 1: 19, 2: 338, 3: 425, 4: 24},\n",
    " '% Accounts': {0: 7.08, 1: 1.75, 2: 31.07, 3: 39.06, 4: 2.21},\n",
    " 'Revenue ($M)': {0: 4.675, 1: 3.927, 2: 5.984, 3: 2.805, 4: 0.374},\n",
    " '% Revenue': {0: 25.0, 1: 21.0, 2: 32.0, 3: 15.0, 4: 2.0}})"
   ],
   "outputs": [],
   "execution_count": 10
  },
  {
   "cell_type": "markdown",
   "metadata": {},
   "source": [
    "Styling an initial version of the table and saving into an html file:"
   ]
  },
  {
   "cell_type": "code",
   "metadata": {
    "ExecuteTime": {
     "end_time": "2025-03-11T13:55:28.159651Z",
     "start_time": "2025-03-11T13:55:28.155235Z"
    }
   },
   "source": [
    "def adjust_style(styler):\n",
    "    styler.hide()  # hide index column\n",
    "\n",
    "    # formatting by HTML elements\n",
    "    styler.set_table_styles(\n",
    "        [\n",
    "            {'selector': '', 'props': 'border-collapse: collapse;'},\n",
    "            {'selector': 'th, td', 'props': 'border: white; vertical-align: bottom;'},\n",
    "            {'selector': 'th', 'props': 'font-weight: bold; text-align: center; background-color: grey; color: black;'},\n",
    "            {'selector': 'td', 'props': 'width: 150px; background-color: white; text-align: center;'},\n",
    "            {'selector': 'tbody tr:nth-child(2n)', 'props': 'background-color: #f2f2f2;'}\n",
    "        ],\n",
    "        overwrite=True\n",
    "    )\n",
    "\n",
    "    styler.format({\n",
    "        '% Accounts': '{:.2f}%',  # converting the number instead: {:.2%}\n",
    "        '% Revenue': '{:.0f}%',\n",
    "        'Revenue ($M)': '${:.2f}'\n",
    "    })\n",
    "\n",
    "    return styler\n",
    "\n",
    "# Apply the style and save to HTML\n",
    "styled_df = df.style.pipe(adjust_style)\n",
    "styled_df.to_html(os.path.join(work_path, 'client_tier_initial.html'))"
   ],
   "outputs": [],
   "execution_count": 31
  },
  {
   "cell_type": "markdown",
   "metadata": {},
   "source": [
    "Open the saved file in preview mode in a separate window.\n",
    "\n",
    "The table shows the breakdown of new clients by tier for the recent year.\n",
    "\n",
    "1. Review the data. What observations can you make? Are there any inconsistencies? Do you have to make any assumptions when interpreting this data?\n",
    "2. Can you improve the layout of this table?"
   ]
  },
  {
   "cell_type": "code",
   "execution_count": null,
   "metadata": {},
   "outputs": [],
   "source": []
  },
  {
   "cell_type": "code",
   "execution_count": null,
   "metadata": {},
   "outputs": [],
   "source": []
  }
 ],
 "metadata": {
  "kernelspec": {
   "display_name": "vdss",
   "language": "python",
   "name": "python3"
  },
  "language_info": {
   "codemirror_mode": {
    "name": "ipython",
    "version": 3
   },
   "file_extension": ".py",
   "mimetype": "text/x-python",
   "name": "python",
   "nbconvert_exporter": "python",
   "pygments_lexer": "ipython3",
   "version": "3.10.13"
  }
 },
 "nbformat": 4,
 "nbformat_minor": 2
}
