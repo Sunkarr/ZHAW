{
 "cells": [
  {
   "cell_type": "markdown",
   "metadata": {},
   "source": [
    "# Visual variables - participate"
   ]
  },
  {
   "cell_type": "code",
   "metadata": {
    "ExecuteTime": {
     "end_time": "2025-03-18T13:51:03.196487Z",
     "start_time": "2025-03-18T13:51:03.192062Z"
    }
   },
   "source": [
    "import os\n",
    "from dotenv import load_dotenv\n",
    "\n",
    "import numpy as np\n",
    "import pandas as pd\n",
    "from matplotlib import pyplot as plt\n",
    "import matplotlib as mpl\n",
    "\n",
    "import colorsys\n",
    "\n",
    "# makes the inline-figures in notebooks look crisper\n",
    "%config InlineBackend.figure_format = 'svg'"
   ],
   "outputs": [],
   "execution_count": 69
  },
  {
   "cell_type": "code",
   "metadata": {
    "ExecuteTime": {
     "end_time": "2025-03-18T13:51:03.210167Z",
     "start_time": "2025-03-18T13:51:03.207606Z"
    }
   },
   "source": [
    "load_dotenv()\n",
    "\n",
    "data_folder = os.getenv('DATA_FOLDER')"
   ],
   "outputs": [],
   "execution_count": 70
  },
  {
   "cell_type": "markdown",
   "metadata": {},
   "source": [
    "## Coordinate Systems"
   ]
  },
  {
   "cell_type": "code",
   "metadata": {
    "ExecuteTime": {
     "end_time": "2025-03-18T13:51:03.215447Z",
     "start_time": "2025-03-18T13:51:03.213136Z"
    }
   },
   "source": [
    "# Generate data\n",
    "rng = np.random.default_rng(42)\n",
    "x = rng.lognormal(size=200)\n",
    "y = x + rng.normal(scale=5 * (x / np.max(x)), size=200)"
   ],
   "outputs": [],
   "execution_count": 71
  },
  {
   "cell_type": "code",
   "metadata": {
    "ExecuteTime": {
     "end_time": "2025-03-18T13:51:03.255941Z",
     "start_time": "2025-03-18T13:51:03.221515Z"
    }
   },
   "source": [
    "fig, ax = plt.subplots(figsize = (9, 5))\n",
    "\n",
    "# Add scatterplot\n",
    "ax.scatter(x, y, s=60, alpha=0.7, edgecolors=\"k\")\n",
    "\n",
    "ax.set_xlabel('x', fontsize=16)\n",
    "ax.set_ylabel('y', fontsize=16)\n",
    "# Enable minor and major gridlines\n",
    "ax.grid(True, which='both')\n",
    "\n",
    "ax.spines[:].set_visible(False)\n",
    "ax.tick_params(bottom=False, left=False, labelsize=14)\n",
    "ax.set_axisbelow(True)\n",
    "\n",
    "plt.show()"
   ],
   "outputs": [
    {
     "data": {
      "text/plain": [
       "<Figure size 900x500 with 1 Axes>"
      ],
      "image/svg+xml": "<?xml version=\"1.0\" encoding=\"utf-8\" standalone=\"no\"?>\n<!DOCTYPE svg PUBLIC \"-//W3C//DTD SVG 1.1//EN\"\n  \"http://www.w3.org/Graphics/SVG/1.1/DTD/svg11.dtd\">\n<svg xmlns:xlink=\"http://www.w3.org/1999/xlink\" width=\"560.9pt\" height=\"331.634375pt\" viewBox=\"0 0 560.9 331.634375\" xmlns=\"http://www.w3.org/2000/svg\" version=\"1.1\">\n <metadata>\n  <rdf:RDF xmlns:dc=\"http://purl.org/dc/elements/1.1/\" xmlns:cc=\"http://creativecommons.org/ns#\" xmlns:rdf=\"http://www.w3.org/1999/02/22-rdf-syntax-ns#\">\n   <cc:Work>\n    <dc:type rdf:resource=\"http://purl.org/dc/dcmitype/StillImage\"/>\n    <dc:date>2025-03-18T14:51:03.244538</dc:date>\n    <dc:format>image/svg+xml</dc:format>\n    <dc:creator>\n     <cc:Agent>\n      <dc:title>Matplotlib v3.10.0, https://matplotlib.org/</dc:title>\n     </cc:Agent>\n    </dc:creator>\n   </cc:Work>\n  </rdf:RDF>\n </metadata>\n <defs>\n  <style type=\"text/css\">*{stroke-linejoin: round; stroke-linecap: butt}</style>\n </defs>\n <g id=\"figure_1\">\n  <g id=\"patch_1\">\n   <path d=\"M 0 331.634375 \nL 560.9 331.634375 \nL 560.9 0 \nL 0 0 \nz\n\" style=\"fill: #ffffff\"/>\n  </g>\n  <g id=\"axes_1\">\n   <g id=\"patch_2\">\n    <path d=\"M 51.5 284.4 \nL 553.7 284.4 \nL 553.7 7.2 \nL 51.5 7.2 \nz\n\" style=\"fill: #ffffff\"/>\n   </g>\n   <g id=\"matplotlib.axis_1\">\n    <g id=\"xtick_1\">\n     <g id=\"line2d_1\">\n      <path d=\"M 71.370093 284.4 \nL 71.370093 7.2 \n\" clip-path=\"url(#p8ae0c2e3e3)\" style=\"fill: none; stroke: #b0b0b0; stroke-width: 0.8; stroke-linecap: square\"/>\n     </g>\n     <g id=\"text_1\">\n      <!-- 0.0 -->\n      <g transform=\"translate(60.237906 302.037812) scale(0.14 -0.14)\">\n       <defs>\n        <path id=\"DejaVuSans-30\" d=\"M 2034 4250 \nQ 1547 4250 1301 3770 \nQ 1056 3291 1056 2328 \nQ 1056 1369 1301 889 \nQ 1547 409 2034 409 \nQ 2525 409 2770 889 \nQ 3016 1369 3016 2328 \nQ 3016 3291 2770 3770 \nQ 2525 4250 2034 4250 \nz\nM 2034 4750 \nQ 2819 4750 3233 4129 \nQ 3647 3509 3647 2328 \nQ 3647 1150 3233 529 \nQ 2819 -91 2034 -91 \nQ 1250 -91 836 529 \nQ 422 1150 422 2328 \nQ 422 3509 836 4129 \nQ 1250 4750 2034 4750 \nz\n\" transform=\"scale(0.015625)\"/>\n        <path id=\"DejaVuSans-2e\" d=\"M 684 794 \nL 1344 794 \nL 1344 0 \nL 684 0 \nL 684 794 \nz\n\" transform=\"scale(0.015625)\"/>\n       </defs>\n       <use xlink:href=\"#DejaVuSans-30\"/>\n       <use xlink:href=\"#DejaVuSans-2e\" transform=\"translate(63.623047 0)\"/>\n       <use xlink:href=\"#DejaVuSans-30\" transform=\"translate(95.410156 0)\"/>\n      </g>\n     </g>\n    </g>\n    <g id=\"xtick_2\">\n     <g id=\"line2d_2\">\n      <path d=\"M 133.708202 284.4 \nL 133.708202 7.2 \n\" clip-path=\"url(#p8ae0c2e3e3)\" style=\"fill: none; stroke: #b0b0b0; stroke-width: 0.8; stroke-linecap: square\"/>\n     </g>\n     <g id=\"text_2\">\n      <!-- 2.5 -->\n      <g transform=\"translate(122.576015 302.037812) scale(0.14 -0.14)\">\n       <defs>\n        <path id=\"DejaVuSans-32\" d=\"M 1228 531 \nL 3431 531 \nL 3431 0 \nL 469 0 \nL 469 531 \nQ 828 903 1448 1529 \nQ 2069 2156 2228 2338 \nQ 2531 2678 2651 2914 \nQ 2772 3150 2772 3378 \nQ 2772 3750 2511 3984 \nQ 2250 4219 1831 4219 \nQ 1534 4219 1204 4116 \nQ 875 4013 500 3803 \nL 500 4441 \nQ 881 4594 1212 4672 \nQ 1544 4750 1819 4750 \nQ 2544 4750 2975 4387 \nQ 3406 4025 3406 3419 \nQ 3406 3131 3298 2873 \nQ 3191 2616 2906 2266 \nQ 2828 2175 2409 1742 \nQ 1991 1309 1228 531 \nz\n\" transform=\"scale(0.015625)\"/>\n        <path id=\"DejaVuSans-35\" d=\"M 691 4666 \nL 3169 4666 \nL 3169 4134 \nL 1269 4134 \nL 1269 2991 \nQ 1406 3038 1543 3061 \nQ 1681 3084 1819 3084 \nQ 2600 3084 3056 2656 \nQ 3513 2228 3513 1497 \nQ 3513 744 3044 326 \nQ 2575 -91 1722 -91 \nQ 1428 -91 1123 -41 \nQ 819 9 494 109 \nL 494 744 \nQ 775 591 1075 516 \nQ 1375 441 1709 441 \nQ 2250 441 2565 725 \nQ 2881 1009 2881 1497 \nQ 2881 1984 2565 2268 \nQ 2250 2553 1709 2553 \nQ 1456 2553 1204 2497 \nQ 953 2441 691 2322 \nL 691 4666 \nz\n\" transform=\"scale(0.015625)\"/>\n       </defs>\n       <use xlink:href=\"#DejaVuSans-32\"/>\n       <use xlink:href=\"#DejaVuSans-2e\" transform=\"translate(63.623047 0)\"/>\n       <use xlink:href=\"#DejaVuSans-35\" transform=\"translate(95.410156 0)\"/>\n      </g>\n     </g>\n    </g>\n    <g id=\"xtick_3\">\n     <g id=\"line2d_3\">\n      <path d=\"M 196.046311 284.4 \nL 196.046311 7.2 \n\" clip-path=\"url(#p8ae0c2e3e3)\" style=\"fill: none; stroke: #b0b0b0; stroke-width: 0.8; stroke-linecap: square\"/>\n     </g>\n     <g id=\"text_3\">\n      <!-- 5.0 -->\n      <g transform=\"translate(184.914124 302.037812) scale(0.14 -0.14)\">\n       <use xlink:href=\"#DejaVuSans-35\"/>\n       <use xlink:href=\"#DejaVuSans-2e\" transform=\"translate(63.623047 0)\"/>\n       <use xlink:href=\"#DejaVuSans-30\" transform=\"translate(95.410156 0)\"/>\n      </g>\n     </g>\n    </g>\n    <g id=\"xtick_4\">\n     <g id=\"line2d_4\">\n      <path d=\"M 258.38442 284.4 \nL 258.38442 7.2 \n\" clip-path=\"url(#p8ae0c2e3e3)\" style=\"fill: none; stroke: #b0b0b0; stroke-width: 0.8; stroke-linecap: square\"/>\n     </g>\n     <g id=\"text_4\">\n      <!-- 7.5 -->\n      <g transform=\"translate(247.252233 302.037812) scale(0.14 -0.14)\">\n       <defs>\n        <path id=\"DejaVuSans-37\" d=\"M 525 4666 \nL 3525 4666 \nL 3525 4397 \nL 1831 0 \nL 1172 0 \nL 2766 4134 \nL 525 4134 \nL 525 4666 \nz\n\" transform=\"scale(0.015625)\"/>\n       </defs>\n       <use xlink:href=\"#DejaVuSans-37\"/>\n       <use xlink:href=\"#DejaVuSans-2e\" transform=\"translate(63.623047 0)\"/>\n       <use xlink:href=\"#DejaVuSans-35\" transform=\"translate(95.410156 0)\"/>\n      </g>\n     </g>\n    </g>\n    <g id=\"xtick_5\">\n     <g id=\"line2d_5\">\n      <path d=\"M 320.722529 284.4 \nL 320.722529 7.2 \n\" clip-path=\"url(#p8ae0c2e3e3)\" style=\"fill: none; stroke: #b0b0b0; stroke-width: 0.8; stroke-linecap: square\"/>\n     </g>\n     <g id=\"text_5\">\n      <!-- 10.0 -->\n      <g transform=\"translate(305.136592 302.037812) scale(0.14 -0.14)\">\n       <defs>\n        <path id=\"DejaVuSans-31\" d=\"M 794 531 \nL 1825 531 \nL 1825 4091 \nL 703 3866 \nL 703 4441 \nL 1819 4666 \nL 2450 4666 \nL 2450 531 \nL 3481 531 \nL 3481 0 \nL 794 0 \nL 794 531 \nz\n\" transform=\"scale(0.015625)\"/>\n       </defs>\n       <use xlink:href=\"#DejaVuSans-31\"/>\n       <use xlink:href=\"#DejaVuSans-30\" transform=\"translate(63.623047 0)\"/>\n       <use xlink:href=\"#DejaVuSans-2e\" transform=\"translate(127.246094 0)\"/>\n       <use xlink:href=\"#DejaVuSans-30\" transform=\"translate(159.033203 0)\"/>\n      </g>\n     </g>\n    </g>\n    <g id=\"xtick_6\">\n     <g id=\"line2d_6\">\n      <path d=\"M 383.060638 284.4 \nL 383.060638 7.2 \n\" clip-path=\"url(#p8ae0c2e3e3)\" style=\"fill: none; stroke: #b0b0b0; stroke-width: 0.8; stroke-linecap: square\"/>\n     </g>\n     <g id=\"text_6\">\n      <!-- 12.5 -->\n      <g transform=\"translate(367.474701 302.037812) scale(0.14 -0.14)\">\n       <use xlink:href=\"#DejaVuSans-31\"/>\n       <use xlink:href=\"#DejaVuSans-32\" transform=\"translate(63.623047 0)\"/>\n       <use xlink:href=\"#DejaVuSans-2e\" transform=\"translate(127.246094 0)\"/>\n       <use xlink:href=\"#DejaVuSans-35\" transform=\"translate(159.033203 0)\"/>\n      </g>\n     </g>\n    </g>\n    <g id=\"xtick_7\">\n     <g id=\"line2d_7\">\n      <path d=\"M 445.398747 284.4 \nL 445.398747 7.2 \n\" clip-path=\"url(#p8ae0c2e3e3)\" style=\"fill: none; stroke: #b0b0b0; stroke-width: 0.8; stroke-linecap: square\"/>\n     </g>\n     <g id=\"text_7\">\n      <!-- 15.0 -->\n      <g transform=\"translate(429.81281 302.037812) scale(0.14 -0.14)\">\n       <use xlink:href=\"#DejaVuSans-31\"/>\n       <use xlink:href=\"#DejaVuSans-35\" transform=\"translate(63.623047 0)\"/>\n       <use xlink:href=\"#DejaVuSans-2e\" transform=\"translate(127.246094 0)\"/>\n       <use xlink:href=\"#DejaVuSans-30\" transform=\"translate(159.033203 0)\"/>\n      </g>\n     </g>\n    </g>\n    <g id=\"xtick_8\">\n     <g id=\"line2d_8\">\n      <path d=\"M 507.736856 284.4 \nL 507.736856 7.2 \n\" clip-path=\"url(#p8ae0c2e3e3)\" style=\"fill: none; stroke: #b0b0b0; stroke-width: 0.8; stroke-linecap: square\"/>\n     </g>\n     <g id=\"text_8\">\n      <!-- 17.5 -->\n      <g transform=\"translate(492.150919 302.037812) scale(0.14 -0.14)\">\n       <use xlink:href=\"#DejaVuSans-31\"/>\n       <use xlink:href=\"#DejaVuSans-37\" transform=\"translate(63.623047 0)\"/>\n       <use xlink:href=\"#DejaVuSans-2e\" transform=\"translate(127.246094 0)\"/>\n       <use xlink:href=\"#DejaVuSans-35\" transform=\"translate(159.033203 0)\"/>\n      </g>\n     </g>\n    </g>\n    <g id=\"text_9\">\n     <!-- x -->\n     <g transform=\"translate(297.865 321.106875) scale(0.16 -0.16)\">\n      <defs>\n       <path id=\"DejaVuSans-78\" d=\"M 3513 3500 \nL 2247 1797 \nL 3578 0 \nL 2900 0 \nL 1881 1375 \nL 863 0 \nL 184 0 \nL 1544 1831 \nL 300 3500 \nL 978 3500 \nL 1906 2253 \nL 2834 3500 \nL 3513 3500 \nz\n\" transform=\"scale(0.015625)\"/>\n      </defs>\n      <use xlink:href=\"#DejaVuSans-78\"/>\n     </g>\n    </g>\n   </g>\n   <g id=\"matplotlib.axis_2\">\n    <g id=\"ytick_1\">\n     <g id=\"line2d_9\">\n      <path d=\"M 51.5 272.542348 \nL 553.7 272.542348 \n\" clip-path=\"url(#p8ae0c2e3e3)\" style=\"fill: none; stroke: #b0b0b0; stroke-width: 0.8; stroke-linecap: square\"/>\n     </g>\n     <g id=\"text_10\">\n      <!-- 0 -->\n      <g transform=\"translate(35.5925 277.861254) scale(0.14 -0.14)\">\n       <use xlink:href=\"#DejaVuSans-30\"/>\n      </g>\n     </g>\n    </g>\n    <g id=\"ytick_2\">\n     <g id=\"line2d_10\">\n      <path d=\"M 51.5 213.687439 \nL 553.7 213.687439 \n\" clip-path=\"url(#p8ae0c2e3e3)\" style=\"fill: none; stroke: #b0b0b0; stroke-width: 0.8; stroke-linecap: square\"/>\n     </g>\n     <g id=\"text_11\">\n      <!-- 5 -->\n      <g transform=\"translate(35.5925 219.006345) scale(0.14 -0.14)\">\n       <use xlink:href=\"#DejaVuSans-35\"/>\n      </g>\n     </g>\n    </g>\n    <g id=\"ytick_3\">\n     <g id=\"line2d_11\">\n      <path d=\"M 51.5 154.83253 \nL 553.7 154.83253 \n\" clip-path=\"url(#p8ae0c2e3e3)\" style=\"fill: none; stroke: #b0b0b0; stroke-width: 0.8; stroke-linecap: square\"/>\n     </g>\n     <g id=\"text_12\">\n      <!-- 10 -->\n      <g transform=\"translate(26.685 160.151436) scale(0.14 -0.14)\">\n       <use xlink:href=\"#DejaVuSans-31\"/>\n       <use xlink:href=\"#DejaVuSans-30\" transform=\"translate(63.623047 0)\"/>\n      </g>\n     </g>\n    </g>\n    <g id=\"ytick_4\">\n     <g id=\"line2d_12\">\n      <path d=\"M 51.5 95.977622 \nL 553.7 95.977622 \n\" clip-path=\"url(#p8ae0c2e3e3)\" style=\"fill: none; stroke: #b0b0b0; stroke-width: 0.8; stroke-linecap: square\"/>\n     </g>\n     <g id=\"text_13\">\n      <!-- 15 -->\n      <g transform=\"translate(26.685 101.296528) scale(0.14 -0.14)\">\n       <use xlink:href=\"#DejaVuSans-31\"/>\n       <use xlink:href=\"#DejaVuSans-35\" transform=\"translate(63.623047 0)\"/>\n      </g>\n     </g>\n    </g>\n    <g id=\"ytick_5\">\n     <g id=\"line2d_13\">\n      <path d=\"M 51.5 37.122713 \nL 553.7 37.122713 \n\" clip-path=\"url(#p8ae0c2e3e3)\" style=\"fill: none; stroke: #b0b0b0; stroke-width: 0.8; stroke-linecap: square\"/>\n     </g>\n     <g id=\"text_14\">\n      <!-- 20 -->\n      <g transform=\"translate(26.685 42.441619) scale(0.14 -0.14)\">\n       <use xlink:href=\"#DejaVuSans-32\"/>\n       <use xlink:href=\"#DejaVuSans-30\" transform=\"translate(63.623047 0)\"/>\n      </g>\n     </g>\n    </g>\n    <g id=\"text_15\">\n     <!-- y -->\n     <g transform=\"translate(19.3575 150.535) rotate(-90) scale(0.16 -0.16)\">\n      <defs>\n       <path id=\"DejaVuSans-79\" d=\"M 2059 -325 \nQ 1816 -950 1584 -1140 \nQ 1353 -1331 966 -1331 \nL 506 -1331 \nL 506 -850 \nL 844 -850 \nQ 1081 -850 1212 -737 \nQ 1344 -625 1503 -206 \nL 1606 56 \nL 191 3500 \nL 800 3500 \nL 1894 763 \nL 2988 3500 \nL 3597 3500 \nL 2059 -325 \nz\n\" transform=\"scale(0.015625)\"/>\n      </defs>\n      <use xlink:href=\"#DejaVuSans-79\"/>\n     </g>\n    </g>\n   </g>\n   <g id=\"PathCollection_1\">\n    <defs>\n     <path id=\"m5a472367fc\" d=\"M 0 3.872983 \nC 1.027127 3.872983 2.012324 3.464901 2.738613 2.738613 \nC 3.464901 2.012324 3.872983 1.027127 3.872983 0 \nC 3.872983 -1.027127 3.464901 -2.012324 2.738613 -2.738613 \nC 2.012324 -3.464901 1.027127 -3.872983 0 -3.872983 \nC -1.027127 -3.872983 -2.012324 -3.464901 -2.738613 -2.738613 \nC -3.464901 -2.012324 -3.872983 -1.027127 -3.872983 0 \nC -3.872983 1.027127 -3.464901 2.012324 -2.738613 2.738613 \nC -2.012324 3.464901 -1.027127 3.872983 0 3.872983 \nz\n\" style=\"stroke: #000000; stroke-opacity: 0.7\"/>\n    </defs>\n    <g clip-path=\"url(#p8ae0c2e3e3)\">\n     <use xlink:href=\"#m5a472367fc\" x=\"105.188299\" y=\"255.115829\" style=\"fill: #1f77b4; fill-opacity: 0.7; stroke: #000000; stroke-opacity: 0.7\"/>\n     <use xlink:href=\"#m5a472367fc\" x=\"80.183712\" y=\"266.79289\" style=\"fill: #1f77b4; fill-opacity: 0.7; stroke: #000000; stroke-opacity: 0.7\"/>\n     <use xlink:href=\"#m5a472367fc\" x=\"124.181827\" y=\"246.999186\" style=\"fill: #1f77b4; fill-opacity: 0.7; stroke: #000000; stroke-opacity: 0.7\"/>\n     <use xlink:href=\"#m5a472367fc\" x=\"135.239912\" y=\"237.123962\" style=\"fill: #1f77b4; fill-opacity: 0.7; stroke: #000000; stroke-opacity: 0.7\"/>\n     <use xlink:href=\"#m5a472367fc\" x=\"74.914061\" y=\"271.8\" style=\"fill: #1f77b4; fill-opacity: 0.7; stroke: #000000; stroke-opacity: 0.7\"/>\n     <use xlink:href=\"#m5a472367fc\" x=\"78.150945\" y=\"269.383678\" style=\"fill: #1f77b4; fill-opacity: 0.7; stroke: #000000; stroke-opacity: 0.7\"/>\n     <use xlink:href=\"#m5a472367fc\" x=\"99.705797\" y=\"262.226514\" style=\"fill: #1f77b4; fill-opacity: 0.7; stroke: #000000; stroke-opacity: 0.7\"/>\n     <use xlink:href=\"#m5a472367fc\" x=\"89.544959\" y=\"266.799969\" style=\"fill: #1f77b4; fill-opacity: 0.7; stroke: #000000; stroke-opacity: 0.7\"/>\n     <use xlink:href=\"#m5a472367fc\" x=\"95.889896\" y=\"263.725399\" style=\"fill: #1f77b4; fill-opacity: 0.7; stroke: #000000; stroke-opacity: 0.7\"/>\n     <use xlink:href=\"#m5a472367fc\" x=\"81.995397\" y=\"267.981264\" style=\"fill: #1f77b4; fill-opacity: 0.7; stroke: #000000; stroke-opacity: 0.7\"/>\n     <use xlink:href=\"#m5a472367fc\" x=\"131.450284\" y=\"237.132619\" style=\"fill: #1f77b4; fill-opacity: 0.7; stroke: #000000; stroke-opacity: 0.7\"/>\n     <use xlink:href=\"#m5a472367fc\" x=\"125.645659\" y=\"256.141768\" style=\"fill: #1f77b4; fill-opacity: 0.7; stroke: #000000; stroke-opacity: 0.7\"/>\n     <use xlink:href=\"#m5a472367fc\" x=\"98.007404\" y=\"259.863376\" style=\"fill: #1f77b4; fill-opacity: 0.7; stroke: #000000; stroke-opacity: 0.7\"/>\n     <use xlink:href=\"#m5a472367fc\" x=\"148.348382\" y=\"240.977577\" style=\"fill: #1f77b4; fill-opacity: 0.7; stroke: #000000; stroke-opacity: 0.7\"/>\n     <use xlink:href=\"#m5a472367fc\" x=\"111.167094\" y=\"255.425961\" style=\"fill: #1f77b4; fill-opacity: 0.7; stroke: #000000; stroke-opacity: 0.7\"/>\n     <use xlink:href=\"#m5a472367fc\" x=\"81.929211\" y=\"266.201606\" style=\"fill: #1f77b4; fill-opacity: 0.7; stroke: #000000; stroke-opacity: 0.7\"/>\n     <use xlink:href=\"#m5a472367fc\" x=\"107.42464\" y=\"253.037343\" style=\"fill: #1f77b4; fill-opacity: 0.7; stroke: #000000; stroke-opacity: 0.7\"/>\n     <use xlink:href=\"#m5a472367fc\" x=\"80.928295\" y=\"266.392971\" style=\"fill: #1f77b4; fill-opacity: 0.7; stroke: #000000; stroke-opacity: 0.7\"/>\n     <use xlink:href=\"#m5a472367fc\" x=\"131.393375\" y=\"245.395478\" style=\"fill: #1f77b4; fill-opacity: 0.7; stroke: #000000; stroke-opacity: 0.7\"/>\n     <use xlink:href=\"#m5a472367fc\" x=\"95.090988\" y=\"263.459072\" style=\"fill: #1f77b4; fill-opacity: 0.7; stroke: #000000; stroke-opacity: 0.7\"/>\n     <use xlink:href=\"#m5a472367fc\" x=\"92.096734\" y=\"263.352377\" style=\"fill: #1f77b4; fill-opacity: 0.7; stroke: #000000; stroke-opacity: 0.7\"/>\n     <use xlink:href=\"#m5a472367fc\" x=\"83.990974\" y=\"266.192505\" style=\"fill: #1f77b4; fill-opacity: 0.7; stroke: #000000; stroke-opacity: 0.7\"/>\n     <use xlink:href=\"#m5a472367fc\" x=\"156.04536\" y=\"230.655335\" style=\"fill: #1f77b4; fill-opacity: 0.7; stroke: #000000; stroke-opacity: 0.7\"/>\n     <use xlink:href=\"#m5a472367fc\" x=\"92.735065\" y=\"265.424194\" style=\"fill: #1f77b4; fill-opacity: 0.7; stroke: #000000; stroke-opacity: 0.7\"/>\n     <use xlink:href=\"#m5a472367fc\" x=\"87.617842\" y=\"264.684086\" style=\"fill: #1f77b4; fill-opacity: 0.7; stroke: #000000; stroke-opacity: 0.7\"/>\n     <use xlink:href=\"#m5a472367fc\" x=\"88.904213\" y=\"263.752591\" style=\"fill: #1f77b4; fill-opacity: 0.7; stroke: #000000; stroke-opacity: 0.7\"/>\n     <use xlink:href=\"#m5a472367fc\" x=\"113.831322\" y=\"238.806476\" style=\"fill: #1f77b4; fill-opacity: 0.7; stroke: #000000; stroke-opacity: 0.7\"/>\n     <use xlink:href=\"#m5a472367fc\" x=\"107.305615\" y=\"246.939881\" style=\"fill: #1f77b4; fill-opacity: 0.7; stroke: #000000; stroke-opacity: 0.7\"/>\n     <use xlink:href=\"#m5a472367fc\" x=\"109.045774\" y=\"258.874543\" style=\"fill: #1f77b4; fill-opacity: 0.7; stroke: #000000; stroke-opacity: 0.7\"/>\n     <use xlink:href=\"#m5a472367fc\" x=\"109.733468\" y=\"255.84458\" style=\"fill: #1f77b4; fill-opacity: 0.7; stroke: #000000; stroke-opacity: 0.7\"/>\n     <use xlink:href=\"#m5a472367fc\" x=\"283.655114\" y=\"212.12208\" style=\"fill: #1f77b4; fill-opacity: 0.7; stroke: #000000; stroke-opacity: 0.7\"/>\n     <use xlink:href=\"#m5a472367fc\" x=\"87.977806\" y=\"265.959018\" style=\"fill: #1f77b4; fill-opacity: 0.7; stroke: #000000; stroke-opacity: 0.7\"/>\n     <use xlink:href=\"#m5a472367fc\" x=\"86.310053\" y=\"264.885828\" style=\"fill: #1f77b4; fill-opacity: 0.7; stroke: #000000; stroke-opacity: 0.7\"/>\n     <use xlink:href=\"#m5a472367fc\" x=\"82.420967\" y=\"265.618837\" style=\"fill: #1f77b4; fill-opacity: 0.7; stroke: #000000; stroke-opacity: 0.7\"/>\n     <use xlink:href=\"#m5a472367fc\" x=\"117.536926\" y=\"255.059979\" style=\"fill: #1f77b4; fill-opacity: 0.7; stroke: #000000; stroke-opacity: 0.7\"/>\n     <use xlink:href=\"#m5a472367fc\" x=\"148.481753\" y=\"242.601712\" style=\"fill: #1f77b4; fill-opacity: 0.7; stroke: #000000; stroke-opacity: 0.7\"/>\n     <use xlink:href=\"#m5a472367fc\" x=\"93.619932\" y=\"268.158489\" style=\"fill: #1f77b4; fill-opacity: 0.7; stroke: #000000; stroke-opacity: 0.7\"/>\n     <use xlink:href=\"#m5a472367fc\" x=\"82.133216\" y=\"267.685734\" style=\"fill: #1f77b4; fill-opacity: 0.7; stroke: #000000; stroke-opacity: 0.7\"/>\n     <use xlink:href=\"#m5a472367fc\" x=\"82.30326\" y=\"268.868981\" style=\"fill: #1f77b4; fill-opacity: 0.7; stroke: #000000; stroke-opacity: 0.7\"/>\n     <use xlink:href=\"#m5a472367fc\" x=\"119.162893\" y=\"253.22214\" style=\"fill: #1f77b4; fill-opacity: 0.7; stroke: #000000; stroke-opacity: 0.7\"/>\n     <use xlink:href=\"#m5a472367fc\" x=\"123.803105\" y=\"253.679559\" style=\"fill: #1f77b4; fill-opacity: 0.7; stroke: #000000; stroke-opacity: 0.7\"/>\n     <use xlink:href=\"#m5a472367fc\" x=\"114.294324\" y=\"252.797695\" style=\"fill: #1f77b4; fill-opacity: 0.7; stroke: #000000; stroke-opacity: 0.7\"/>\n     <use xlink:href=\"#m5a472367fc\" x=\"84.187094\" y=\"269.377506\" style=\"fill: #1f77b4; fill-opacity: 0.7; stroke: #000000; stroke-opacity: 0.7\"/>\n     <use xlink:href=\"#m5a472367fc\" x=\"102.821494\" y=\"263.605209\" style=\"fill: #1f77b4; fill-opacity: 0.7; stroke: #000000; stroke-opacity: 0.7\"/>\n     <use xlink:href=\"#m5a472367fc\" x=\"99.39148\" y=\"251.672456\" style=\"fill: #1f77b4; fill-opacity: 0.7; stroke: #000000; stroke-opacity: 0.7\"/>\n     <use xlink:href=\"#m5a472367fc\" x=\"102.4006\" y=\"263.010897\" style=\"fill: #1f77b4; fill-opacity: 0.7; stroke: #000000; stroke-opacity: 0.7\"/>\n     <use xlink:href=\"#m5a472367fc\" x=\"130.973396\" y=\"252.779\" style=\"fill: #1f77b4; fill-opacity: 0.7; stroke: #000000; stroke-opacity: 0.7\"/>\n     <use xlink:href=\"#m5a472367fc\" x=\"102.553239\" y=\"250.485225\" style=\"fill: #1f77b4; fill-opacity: 0.7; stroke: #000000; stroke-opacity: 0.7\"/>\n     <use xlink:href=\"#m5a472367fc\" x=\"120.535771\" y=\"231.03892\" style=\"fill: #1f77b4; fill-opacity: 0.7; stroke: #000000; stroke-opacity: 0.7\"/>\n     <use xlink:href=\"#m5a472367fc\" x=\"98.048681\" y=\"263.951758\" style=\"fill: #1f77b4; fill-opacity: 0.7; stroke: #000000; stroke-opacity: 0.7\"/>\n     <use xlink:href=\"#m5a472367fc\" x=\"104.664906\" y=\"258.39554\" style=\"fill: #1f77b4; fill-opacity: 0.7; stroke: #000000; stroke-opacity: 0.7\"/>\n     <use xlink:href=\"#m5a472367fc\" x=\"118.249122\" y=\"248.361684\" style=\"fill: #1f77b4; fill-opacity: 0.7; stroke: #000000; stroke-opacity: 0.7\"/>\n     <use xlink:href=\"#m5a472367fc\" x=\"77.177455\" y=\"268.515056\" style=\"fill: #1f77b4; fill-opacity: 0.7; stroke: #000000; stroke-opacity: 0.7\"/>\n     <use xlink:href=\"#m5a472367fc\" x=\"89.482751\" y=\"266.2815\" style=\"fill: #1f77b4; fill-opacity: 0.7; stroke: #000000; stroke-opacity: 0.7\"/>\n     <use xlink:href=\"#m5a472367fc\" x=\"86.94887\" y=\"265.677624\" style=\"fill: #1f77b4; fill-opacity: 0.7; stroke: #000000; stroke-opacity: 0.7\"/>\n     <use xlink:href=\"#m5a472367fc\" x=\"84.533021\" y=\"265.018069\" style=\"fill: #1f77b4; fill-opacity: 0.7; stroke: #000000; stroke-opacity: 0.7\"/>\n     <use xlink:href=\"#m5a472367fc\" x=\"90.307515\" y=\"262.54815\" style=\"fill: #1f77b4; fill-opacity: 0.7; stroke: #000000; stroke-opacity: 0.7\"/>\n     <use xlink:href=\"#m5a472367fc\" x=\"182.558211\" y=\"225.411653\" style=\"fill: #1f77b4; fill-opacity: 0.7; stroke: #000000; stroke-opacity: 0.7\"/>\n     <use xlink:href=\"#m5a472367fc\" x=\"81.860394\" y=\"267.770085\" style=\"fill: #1f77b4; fill-opacity: 0.7; stroke: #000000; stroke-opacity: 0.7\"/>\n     <use xlink:href=\"#m5a472367fc\" x=\"137.034732\" y=\"253.108244\" style=\"fill: #1f77b4; fill-opacity: 0.7; stroke: #000000; stroke-opacity: 0.7\"/>\n     <use xlink:href=\"#m5a472367fc\" x=\"76.004056\" y=\"270.496194\" style=\"fill: #1f77b4; fill-opacity: 0.7; stroke: #000000; stroke-opacity: 0.7\"/>\n     <use xlink:href=\"#m5a472367fc\" x=\"89.209274\" y=\"264.72982\" style=\"fill: #1f77b4; fill-opacity: 0.7; stroke: #000000; stroke-opacity: 0.7\"/>\n     <use xlink:href=\"#m5a472367fc\" x=\"100.712543\" y=\"257.818328\" style=\"fill: #1f77b4; fill-opacity: 0.7; stroke: #000000; stroke-opacity: 0.7\"/>\n     <use xlink:href=\"#m5a472367fc\" x=\"116.183374\" y=\"254.575201\" style=\"fill: #1f77b4; fill-opacity: 0.7; stroke: #000000; stroke-opacity: 0.7\"/>\n     <use xlink:href=\"#m5a472367fc\" x=\"122.150409\" y=\"245.503935\" style=\"fill: #1f77b4; fill-opacity: 0.7; stroke: #000000; stroke-opacity: 0.7\"/>\n     <use xlink:href=\"#m5a472367fc\" x=\"126.496533\" y=\"239.368653\" style=\"fill: #1f77b4; fill-opacity: 0.7; stroke: #000000; stroke-opacity: 0.7\"/>\n     <use xlink:href=\"#m5a472367fc\" x=\"88.964079\" y=\"263.886634\" style=\"fill: #1f77b4; fill-opacity: 0.7; stroke: #000000; stroke-opacity: 0.7\"/>\n     <use xlink:href=\"#m5a472367fc\" x=\"87.074328\" y=\"264.42143\" style=\"fill: #1f77b4; fill-opacity: 0.7; stroke: #000000; stroke-opacity: 0.7\"/>\n     <use xlink:href=\"#m5a472367fc\" x=\"130.176928\" y=\"244.381496\" style=\"fill: #1f77b4; fill-opacity: 0.7; stroke: #000000; stroke-opacity: 0.7\"/>\n     <use xlink:href=\"#m5a472367fc\" x=\"91.963643\" y=\"262.820692\" style=\"fill: #1f77b4; fill-opacity: 0.7; stroke: #000000; stroke-opacity: 0.7\"/>\n     <use xlink:href=\"#m5a472367fc\" x=\"78.332992\" y=\"269.898939\" style=\"fill: #1f77b4; fill-opacity: 0.7; stroke: #000000; stroke-opacity: 0.7\"/>\n     <use xlink:href=\"#m5a472367fc\" x=\"79.398571\" y=\"268.426951\" style=\"fill: #1f77b4; fill-opacity: 0.7; stroke: #000000; stroke-opacity: 0.7\"/>\n     <use xlink:href=\"#m5a472367fc\" x=\"81.312707\" y=\"267.972711\" style=\"fill: #1f77b4; fill-opacity: 0.7; stroke: #000000; stroke-opacity: 0.7\"/>\n     <use xlink:href=\"#m5a472367fc\" x=\"112.3648\" y=\"242.199571\" style=\"fill: #1f77b4; fill-opacity: 0.7; stroke: #000000; stroke-opacity: 0.7\"/>\n     <use xlink:href=\"#m5a472367fc\" x=\"100.122111\" y=\"253.175462\" style=\"fill: #1f77b4; fill-opacity: 0.7; stroke: #000000; stroke-opacity: 0.7\"/>\n     <use xlink:href=\"#m5a472367fc\" x=\"121.10801\" y=\"246.60488\" style=\"fill: #1f77b4; fill-opacity: 0.7; stroke: #000000; stroke-opacity: 0.7\"/>\n     <use xlink:href=\"#m5a472367fc\" x=\"87.635321\" y=\"266.453839\" style=\"fill: #1f77b4; fill-opacity: 0.7; stroke: #000000; stroke-opacity: 0.7\"/>\n     <use xlink:href=\"#m5a472367fc\" x=\"100.589173\" y=\"262.912324\" style=\"fill: #1f77b4; fill-opacity: 0.7; stroke: #000000; stroke-opacity: 0.7\"/>\n     <use xlink:href=\"#m5a472367fc\" x=\"117.982773\" y=\"243.426748\" style=\"fill: #1f77b4; fill-opacity: 0.7; stroke: #000000; stroke-opacity: 0.7\"/>\n     <use xlink:href=\"#m5a472367fc\" x=\"89.670727\" y=\"263.287425\" style=\"fill: #1f77b4; fill-opacity: 0.7; stroke: #000000; stroke-opacity: 0.7\"/>\n     <use xlink:href=\"#m5a472367fc\" x=\"110.742193\" y=\"251.534943\" style=\"fill: #1f77b4; fill-opacity: 0.7; stroke: #000000; stroke-opacity: 0.7\"/>\n     <use xlink:href=\"#m5a472367fc\" x=\"84.23311\" y=\"269.344491\" style=\"fill: #1f77b4; fill-opacity: 0.7; stroke: #000000; stroke-opacity: 0.7\"/>\n     <use xlink:href=\"#m5a472367fc\" x=\"88.713777\" y=\"262.294798\" style=\"fill: #1f77b4; fill-opacity: 0.7; stroke: #000000; stroke-opacity: 0.7\"/>\n     <use xlink:href=\"#m5a472367fc\" x=\"88.392735\" y=\"263.51582\" style=\"fill: #1f77b4; fill-opacity: 0.7; stroke: #000000; stroke-opacity: 0.7\"/>\n     <use xlink:href=\"#m5a472367fc\" x=\"78.911755\" y=\"270.054853\" style=\"fill: #1f77b4; fill-opacity: 0.7; stroke: #000000; stroke-opacity: 0.7\"/>\n     <use xlink:href=\"#m5a472367fc\" x=\"111.949255\" y=\"255.837234\" style=\"fill: #1f77b4; fill-opacity: 0.7; stroke: #000000; stroke-opacity: 0.7\"/>\n     <use xlink:href=\"#m5a472367fc\" x=\"86.963994\" y=\"264.654329\" style=\"fill: #1f77b4; fill-opacity: 0.7; stroke: #000000; stroke-opacity: 0.7\"/>\n     <use xlink:href=\"#m5a472367fc\" x=\"96.618835\" y=\"260.4537\" style=\"fill: #1f77b4; fill-opacity: 0.7; stroke: #000000; stroke-opacity: 0.7\"/>\n     <use xlink:href=\"#m5a472367fc\" x=\"111.697402\" y=\"255.014503\" style=\"fill: #1f77b4; fill-opacity: 0.7; stroke: #000000; stroke-opacity: 0.7\"/>\n     <use xlink:href=\"#m5a472367fc\" x=\"110.340922\" y=\"254.662265\" style=\"fill: #1f77b4; fill-opacity: 0.7; stroke: #000000; stroke-opacity: 0.7\"/>\n     <use xlink:href=\"#m5a472367fc\" x=\"119.875114\" y=\"251.210432\" style=\"fill: #1f77b4; fill-opacity: 0.7; stroke: #000000; stroke-opacity: 0.7\"/>\n     <use xlink:href=\"#m5a472367fc\" x=\"93.966632\" y=\"261.433825\" style=\"fill: #1f77b4; fill-opacity: 0.7; stroke: #000000; stroke-opacity: 0.7\"/>\n     <use xlink:href=\"#m5a472367fc\" x=\"87.699766\" y=\"261.756002\" style=\"fill: #1f77b4; fill-opacity: 0.7; stroke: #000000; stroke-opacity: 0.7\"/>\n     <use xlink:href=\"#m5a472367fc\" x=\"94.394711\" y=\"269.242591\" style=\"fill: #1f77b4; fill-opacity: 0.7; stroke: #000000; stroke-opacity: 0.7\"/>\n     <use xlink:href=\"#m5a472367fc\" x=\"75.983413\" y=\"270.504527\" style=\"fill: #1f77b4; fill-opacity: 0.7; stroke: #000000; stroke-opacity: 0.7\"/>\n     <use xlink:href=\"#m5a472367fc\" x=\"77.236074\" y=\"269.64062\" style=\"fill: #1f77b4; fill-opacity: 0.7; stroke: #000000; stroke-opacity: 0.7\"/>\n     <use xlink:href=\"#m5a472367fc\" x=\"78.013219\" y=\"269.154525\" style=\"fill: #1f77b4; fill-opacity: 0.7; stroke: #000000; stroke-opacity: 0.7\"/>\n     <use xlink:href=\"#m5a472367fc\" x=\"80.568547\" y=\"268.638287\" style=\"fill: #1f77b4; fill-opacity: 0.7; stroke: #000000; stroke-opacity: 0.7\"/>\n     <use xlink:href=\"#m5a472367fc\" x=\"108.560708\" y=\"263.354251\" style=\"fill: #1f77b4; fill-opacity: 0.7; stroke: #000000; stroke-opacity: 0.7\"/>\n     <use xlink:href=\"#m5a472367fc\" x=\"81.452612\" y=\"267.359197\" style=\"fill: #1f77b4; fill-opacity: 0.7; stroke: #000000; stroke-opacity: 0.7\"/>\n     <use xlink:href=\"#m5a472367fc\" x=\"88.453705\" y=\"260.698145\" style=\"fill: #1f77b4; fill-opacity: 0.7; stroke: #000000; stroke-opacity: 0.7\"/>\n     <use xlink:href=\"#m5a472367fc\" x=\"162.79432\" y=\"247.345921\" style=\"fill: #1f77b4; fill-opacity: 0.7; stroke: #000000; stroke-opacity: 0.7\"/>\n     <use xlink:href=\"#m5a472367fc\" x=\"88.831939\" y=\"262.367251\" style=\"fill: #1f77b4; fill-opacity: 0.7; stroke: #000000; stroke-opacity: 0.7\"/>\n     <use xlink:href=\"#m5a472367fc\" x=\"123.503074\" y=\"250.12604\" style=\"fill: #1f77b4; fill-opacity: 0.7; stroke: #000000; stroke-opacity: 0.7\"/>\n     <use xlink:href=\"#m5a472367fc\" x=\"81.172859\" y=\"267.991832\" style=\"fill: #1f77b4; fill-opacity: 0.7; stroke: #000000; stroke-opacity: 0.7\"/>\n     <use xlink:href=\"#m5a472367fc\" x=\"91.674636\" y=\"265.695602\" style=\"fill: #1f77b4; fill-opacity: 0.7; stroke: #000000; stroke-opacity: 0.7\"/>\n     <use xlink:href=\"#m5a472367fc\" x=\"81.013362\" y=\"268.403229\" style=\"fill: #1f77b4; fill-opacity: 0.7; stroke: #000000; stroke-opacity: 0.7\"/>\n     <use xlink:href=\"#m5a472367fc\" x=\"89.135429\" y=\"261.197815\" style=\"fill: #1f77b4; fill-opacity: 0.7; stroke: #000000; stroke-opacity: 0.7\"/>\n     <use xlink:href=\"#m5a472367fc\" x=\"129.147069\" y=\"240.956206\" style=\"fill: #1f77b4; fill-opacity: 0.7; stroke: #000000; stroke-opacity: 0.7\"/>\n     <use xlink:href=\"#m5a472367fc\" x=\"75.802585\" y=\"269.46645\" style=\"fill: #1f77b4; fill-opacity: 0.7; stroke: #000000; stroke-opacity: 0.7\"/>\n     <use xlink:href=\"#m5a472367fc\" x=\"109.871926\" y=\"248.560727\" style=\"fill: #1f77b4; fill-opacity: 0.7; stroke: #000000; stroke-opacity: 0.7\"/>\n     <use xlink:href=\"#m5a472367fc\" x=\"102.997303\" y=\"255.83363\" style=\"fill: #1f77b4; fill-opacity: 0.7; stroke: #000000; stroke-opacity: 0.7\"/>\n     <use xlink:href=\"#m5a472367fc\" x=\"85.135136\" y=\"262.969696\" style=\"fill: #1f77b4; fill-opacity: 0.7; stroke: #000000; stroke-opacity: 0.7\"/>\n     <use xlink:href=\"#m5a472367fc\" x=\"77.242264\" y=\"269.440139\" style=\"fill: #1f77b4; fill-opacity: 0.7; stroke: #000000; stroke-opacity: 0.7\"/>\n     <use xlink:href=\"#m5a472367fc\" x=\"98.170357\" y=\"257.04874\" style=\"fill: #1f77b4; fill-opacity: 0.7; stroke: #000000; stroke-opacity: 0.7\"/>\n     <use xlink:href=\"#m5a472367fc\" x=\"86.054549\" y=\"266.168177\" style=\"fill: #1f77b4; fill-opacity: 0.7; stroke: #000000; stroke-opacity: 0.7\"/>\n     <use xlink:href=\"#m5a472367fc\" x=\"102.837692\" y=\"257.419476\" style=\"fill: #1f77b4; fill-opacity: 0.7; stroke: #000000; stroke-opacity: 0.7\"/>\n     <use xlink:href=\"#m5a472367fc\" x=\"96.856223\" y=\"262.787959\" style=\"fill: #1f77b4; fill-opacity: 0.7; stroke: #000000; stroke-opacity: 0.7\"/>\n     <use xlink:href=\"#m5a472367fc\" x=\"195.095061\" y=\"198.454372\" style=\"fill: #1f77b4; fill-opacity: 0.7; stroke: #000000; stroke-opacity: 0.7\"/>\n     <use xlink:href=\"#m5a472367fc\" x=\"90.997494\" y=\"266.239199\" style=\"fill: #1f77b4; fill-opacity: 0.7; stroke: #000000; stroke-opacity: 0.7\"/>\n     <use xlink:href=\"#m5a472367fc\" x=\"80.330223\" y=\"267.414747\" style=\"fill: #1f77b4; fill-opacity: 0.7; stroke: #000000; stroke-opacity: 0.7\"/>\n     <use xlink:href=\"#m5a472367fc\" x=\"101.201383\" y=\"259.188589\" style=\"fill: #1f77b4; fill-opacity: 0.7; stroke: #000000; stroke-opacity: 0.7\"/>\n     <use xlink:href=\"#m5a472367fc\" x=\"102.441217\" y=\"253.213624\" style=\"fill: #1f77b4; fill-opacity: 0.7; stroke: #000000; stroke-opacity: 0.7\"/>\n     <use xlink:href=\"#m5a472367fc\" x=\"168.443725\" y=\"217.381587\" style=\"fill: #1f77b4; fill-opacity: 0.7; stroke: #000000; stroke-opacity: 0.7\"/>\n     <use xlink:href=\"#m5a472367fc\" x=\"128.847587\" y=\"232.00591\" style=\"fill: #1f77b4; fill-opacity: 0.7; stroke: #000000; stroke-opacity: 0.7\"/>\n     <use xlink:href=\"#m5a472367fc\" x=\"106.998856\" y=\"252.388491\" style=\"fill: #1f77b4; fill-opacity: 0.7; stroke: #000000; stroke-opacity: 0.7\"/>\n     <use xlink:href=\"#m5a472367fc\" x=\"179.095461\" y=\"243.38013\" style=\"fill: #1f77b4; fill-opacity: 0.7; stroke: #000000; stroke-opacity: 0.7\"/>\n     <use xlink:href=\"#m5a472367fc\" x=\"78.965314\" y=\"269.022066\" style=\"fill: #1f77b4; fill-opacity: 0.7; stroke: #000000; stroke-opacity: 0.7\"/>\n     <use xlink:href=\"#m5a472367fc\" x=\"84.521526\" y=\"268.308287\" style=\"fill: #1f77b4; fill-opacity: 0.7; stroke: #000000; stroke-opacity: 0.7\"/>\n     <use xlink:href=\"#m5a472367fc\" x=\"81.242131\" y=\"268.537472\" style=\"fill: #1f77b4; fill-opacity: 0.7; stroke: #000000; stroke-opacity: 0.7\"/>\n     <use xlink:href=\"#m5a472367fc\" x=\"88.255883\" y=\"261.302725\" style=\"fill: #1f77b4; fill-opacity: 0.7; stroke: #000000; stroke-opacity: 0.7\"/>\n     <use xlink:href=\"#m5a472367fc\" x=\"77.664089\" y=\"269.057237\" style=\"fill: #1f77b4; fill-opacity: 0.7; stroke: #000000; stroke-opacity: 0.7\"/>\n     <use xlink:href=\"#m5a472367fc\" x=\"118.430553\" y=\"254.539827\" style=\"fill: #1f77b4; fill-opacity: 0.7; stroke: #000000; stroke-opacity: 0.7\"/>\n     <use xlink:href=\"#m5a472367fc\" x=\"91.336666\" y=\"265.709365\" style=\"fill: #1f77b4; fill-opacity: 0.7; stroke: #000000; stroke-opacity: 0.7\"/>\n     <use xlink:href=\"#m5a472367fc\" x=\"77.09872\" y=\"269.814026\" style=\"fill: #1f77b4; fill-opacity: 0.7; stroke: #000000; stroke-opacity: 0.7\"/>\n     <use xlink:href=\"#m5a472367fc\" x=\"80.401455\" y=\"269.686268\" style=\"fill: #1f77b4; fill-opacity: 0.7; stroke: #000000; stroke-opacity: 0.7\"/>\n     <use xlink:href=\"#m5a472367fc\" x=\"105.487102\" y=\"259.369779\" style=\"fill: #1f77b4; fill-opacity: 0.7; stroke: #000000; stroke-opacity: 0.7\"/>\n     <use xlink:href=\"#m5a472367fc\" x=\"129.021161\" y=\"243.023534\" style=\"fill: #1f77b4; fill-opacity: 0.7; stroke: #000000; stroke-opacity: 0.7\"/>\n     <use xlink:href=\"#m5a472367fc\" x=\"255.016664\" y=\"158.67432\" style=\"fill: #1f77b4; fill-opacity: 0.7; stroke: #000000; stroke-opacity: 0.7\"/>\n     <use xlink:href=\"#m5a472367fc\" x=\"530.872727\" y=\"19.8\" style=\"fill: #1f77b4; fill-opacity: 0.7; stroke: #000000; stroke-opacity: 0.7\"/>\n     <use xlink:href=\"#m5a472367fc\" x=\"109.109003\" y=\"265.802758\" style=\"fill: #1f77b4; fill-opacity: 0.7; stroke: #000000; stroke-opacity: 0.7\"/>\n     <use xlink:href=\"#m5a472367fc\" x=\"80.639729\" y=\"267.805132\" style=\"fill: #1f77b4; fill-opacity: 0.7; stroke: #000000; stroke-opacity: 0.7\"/>\n     <use xlink:href=\"#m5a472367fc\" x=\"74.327273\" y=\"271.119091\" style=\"fill: #1f77b4; fill-opacity: 0.7; stroke: #000000; stroke-opacity: 0.7\"/>\n     <use xlink:href=\"#m5a472367fc\" x=\"103.959708\" y=\"255.430364\" style=\"fill: #1f77b4; fill-opacity: 0.7; stroke: #000000; stroke-opacity: 0.7\"/>\n     <use xlink:href=\"#m5a472367fc\" x=\"82.430161\" y=\"265.031759\" style=\"fill: #1f77b4; fill-opacity: 0.7; stroke: #000000; stroke-opacity: 0.7\"/>\n     <use xlink:href=\"#m5a472367fc\" x=\"87.829958\" y=\"269.122081\" style=\"fill: #1f77b4; fill-opacity: 0.7; stroke: #000000; stroke-opacity: 0.7\"/>\n     <use xlink:href=\"#m5a472367fc\" x=\"84.890301\" y=\"267.183597\" style=\"fill: #1f77b4; fill-opacity: 0.7; stroke: #000000; stroke-opacity: 0.7\"/>\n     <use xlink:href=\"#m5a472367fc\" x=\"93.030615\" y=\"260.677848\" style=\"fill: #1f77b4; fill-opacity: 0.7; stroke: #000000; stroke-opacity: 0.7\"/>\n     <use xlink:href=\"#m5a472367fc\" x=\"143.774158\" y=\"253.030525\" style=\"fill: #1f77b4; fill-opacity: 0.7; stroke: #000000; stroke-opacity: 0.7\"/>\n     <use xlink:href=\"#m5a472367fc\" x=\"100.545636\" y=\"253.25418\" style=\"fill: #1f77b4; fill-opacity: 0.7; stroke: #000000; stroke-opacity: 0.7\"/>\n     <use xlink:href=\"#m5a472367fc\" x=\"92.647534\" y=\"261.494194\" style=\"fill: #1f77b4; fill-opacity: 0.7; stroke: #000000; stroke-opacity: 0.7\"/>\n     <use xlink:href=\"#m5a472367fc\" x=\"80.221961\" y=\"267.403875\" style=\"fill: #1f77b4; fill-opacity: 0.7; stroke: #000000; stroke-opacity: 0.7\"/>\n     <use xlink:href=\"#m5a472367fc\" x=\"76.042149\" y=\"270.678509\" style=\"fill: #1f77b4; fill-opacity: 0.7; stroke: #000000; stroke-opacity: 0.7\"/>\n     <use xlink:href=\"#m5a472367fc\" x=\"86.702586\" y=\"263.706353\" style=\"fill: #1f77b4; fill-opacity: 0.7; stroke: #000000; stroke-opacity: 0.7\"/>\n     <use xlink:href=\"#m5a472367fc\" x=\"94.999681\" y=\"258.153911\" style=\"fill: #1f77b4; fill-opacity: 0.7; stroke: #000000; stroke-opacity: 0.7\"/>\n     <use xlink:href=\"#m5a472367fc\" x=\"217.458523\" y=\"199.222031\" style=\"fill: #1f77b4; fill-opacity: 0.7; stroke: #000000; stroke-opacity: 0.7\"/>\n     <use xlink:href=\"#m5a472367fc\" x=\"99.774853\" y=\"258.280743\" style=\"fill: #1f77b4; fill-opacity: 0.7; stroke: #000000; stroke-opacity: 0.7\"/>\n     <use xlink:href=\"#m5a472367fc\" x=\"137.991218\" y=\"238.786179\" style=\"fill: #1f77b4; fill-opacity: 0.7; stroke: #000000; stroke-opacity: 0.7\"/>\n     <use xlink:href=\"#m5a472367fc\" x=\"86.50474\" y=\"267.071455\" style=\"fill: #1f77b4; fill-opacity: 0.7; stroke: #000000; stroke-opacity: 0.7\"/>\n     <use xlink:href=\"#m5a472367fc\" x=\"78.994377\" y=\"269.087281\" style=\"fill: #1f77b4; fill-opacity: 0.7; stroke: #000000; stroke-opacity: 0.7\"/>\n     <use xlink:href=\"#m5a472367fc\" x=\"80.868893\" y=\"268.24389\" style=\"fill: #1f77b4; fill-opacity: 0.7; stroke: #000000; stroke-opacity: 0.7\"/>\n     <use xlink:href=\"#m5a472367fc\" x=\"83.444115\" y=\"266.249746\" style=\"fill: #1f77b4; fill-opacity: 0.7; stroke: #000000; stroke-opacity: 0.7\"/>\n     <use xlink:href=\"#m5a472367fc\" x=\"280.876001\" y=\"146.812937\" style=\"fill: #1f77b4; fill-opacity: 0.7; stroke: #000000; stroke-opacity: 0.7\"/>\n     <use xlink:href=\"#m5a472367fc\" x=\"82.337146\" y=\"268.852148\" style=\"fill: #1f77b4; fill-opacity: 0.7; stroke: #000000; stroke-opacity: 0.7\"/>\n     <use xlink:href=\"#m5a472367fc\" x=\"129.042072\" y=\"246.24102\" style=\"fill: #1f77b4; fill-opacity: 0.7; stroke: #000000; stroke-opacity: 0.7\"/>\n     <use xlink:href=\"#m5a472367fc\" x=\"81.478375\" y=\"265.852559\" style=\"fill: #1f77b4; fill-opacity: 0.7; stroke: #000000; stroke-opacity: 0.7\"/>\n     <use xlink:href=\"#m5a472367fc\" x=\"134.668187\" y=\"248.690339\" style=\"fill: #1f77b4; fill-opacity: 0.7; stroke: #000000; stroke-opacity: 0.7\"/>\n     <use xlink:href=\"#m5a472367fc\" x=\"108.013488\" y=\"259.103566\" style=\"fill: #1f77b4; fill-opacity: 0.7; stroke: #000000; stroke-opacity: 0.7\"/>\n     <use xlink:href=\"#m5a472367fc\" x=\"92.690066\" y=\"261.925551\" style=\"fill: #1f77b4; fill-opacity: 0.7; stroke: #000000; stroke-opacity: 0.7\"/>\n     <use xlink:href=\"#m5a472367fc\" x=\"95.309351\" y=\"258.65245\" style=\"fill: #1f77b4; fill-opacity: 0.7; stroke: #000000; stroke-opacity: 0.7\"/>\n     <use xlink:href=\"#m5a472367fc\" x=\"84.325258\" y=\"266.407746\" style=\"fill: #1f77b4; fill-opacity: 0.7; stroke: #000000; stroke-opacity: 0.7\"/>\n     <use xlink:href=\"#m5a472367fc\" x=\"110.323039\" y=\"247.523628\" style=\"fill: #1f77b4; fill-opacity: 0.7; stroke: #000000; stroke-opacity: 0.7\"/>\n     <use xlink:href=\"#m5a472367fc\" x=\"87.190469\" y=\"263.337996\" style=\"fill: #1f77b4; fill-opacity: 0.7; stroke: #000000; stroke-opacity: 0.7\"/>\n     <use xlink:href=\"#m5a472367fc\" x=\"78.690577\" y=\"268.297304\" style=\"fill: #1f77b4; fill-opacity: 0.7; stroke: #000000; stroke-opacity: 0.7\"/>\n     <use xlink:href=\"#m5a472367fc\" x=\"78.317334\" y=\"268.769749\" style=\"fill: #1f77b4; fill-opacity: 0.7; stroke: #000000; stroke-opacity: 0.7\"/>\n     <use xlink:href=\"#m5a472367fc\" x=\"101.002546\" y=\"249.719521\" style=\"fill: #1f77b4; fill-opacity: 0.7; stroke: #000000; stroke-opacity: 0.7\"/>\n     <use xlink:href=\"#m5a472367fc\" x=\"192.319637\" y=\"218.624962\" style=\"fill: #1f77b4; fill-opacity: 0.7; stroke: #000000; stroke-opacity: 0.7\"/>\n     <use xlink:href=\"#m5a472367fc\" x=\"100.631627\" y=\"266.238155\" style=\"fill: #1f77b4; fill-opacity: 0.7; stroke: #000000; stroke-opacity: 0.7\"/>\n     <use xlink:href=\"#m5a472367fc\" x=\"93.515805\" y=\"257.537714\" style=\"fill: #1f77b4; fill-opacity: 0.7; stroke: #000000; stroke-opacity: 0.7\"/>\n     <use xlink:href=\"#m5a472367fc\" x=\"104.555438\" y=\"258.822262\" style=\"fill: #1f77b4; fill-opacity: 0.7; stroke: #000000; stroke-opacity: 0.7\"/>\n     <use xlink:href=\"#m5a472367fc\" x=\"163.415679\" y=\"227.819258\" style=\"fill: #1f77b4; fill-opacity: 0.7; stroke: #000000; stroke-opacity: 0.7\"/>\n     <use xlink:href=\"#m5a472367fc\" x=\"102.42214\" y=\"252.675421\" style=\"fill: #1f77b4; fill-opacity: 0.7; stroke: #000000; stroke-opacity: 0.7\"/>\n     <use xlink:href=\"#m5a472367fc\" x=\"87.903037\" y=\"268.130725\" style=\"fill: #1f77b4; fill-opacity: 0.7; stroke: #000000; stroke-opacity: 0.7\"/>\n     <use xlink:href=\"#m5a472367fc\" x=\"146.752274\" y=\"249.042245\" style=\"fill: #1f77b4; fill-opacity: 0.7; stroke: #000000; stroke-opacity: 0.7\"/>\n     <use xlink:href=\"#m5a472367fc\" x=\"109.654346\" y=\"262.321829\" style=\"fill: #1f77b4; fill-opacity: 0.7; stroke: #000000; stroke-opacity: 0.7\"/>\n     <use xlink:href=\"#m5a472367fc\" x=\"187.190202\" y=\"229.648842\" style=\"fill: #1f77b4; fill-opacity: 0.7; stroke: #000000; stroke-opacity: 0.7\"/>\n     <use xlink:href=\"#m5a472367fc\" x=\"101.319714\" y=\"256.717794\" style=\"fill: #1f77b4; fill-opacity: 0.7; stroke: #000000; stroke-opacity: 0.7\"/>\n     <use xlink:href=\"#m5a472367fc\" x=\"78.698903\" y=\"268.590638\" style=\"fill: #1f77b4; fill-opacity: 0.7; stroke: #000000; stroke-opacity: 0.7\"/>\n     <use xlink:href=\"#m5a472367fc\" x=\"77.717987\" y=\"269.32112\" style=\"fill: #1f77b4; fill-opacity: 0.7; stroke: #000000; stroke-opacity: 0.7\"/>\n     <use xlink:href=\"#m5a472367fc\" x=\"201.32794\" y=\"234.710396\" style=\"fill: #1f77b4; fill-opacity: 0.7; stroke: #000000; stroke-opacity: 0.7\"/>\n     <use xlink:href=\"#m5a472367fc\" x=\"211.133065\" y=\"247.919623\" style=\"fill: #1f77b4; fill-opacity: 0.7; stroke: #000000; stroke-opacity: 0.7\"/>\n     <use xlink:href=\"#m5a472367fc\" x=\"92.207776\" y=\"262.560601\" style=\"fill: #1f77b4; fill-opacity: 0.7; stroke: #000000; stroke-opacity: 0.7\"/>\n     <use xlink:href=\"#m5a472367fc\" x=\"88.36808\" y=\"265.54538\" style=\"fill: #1f77b4; fill-opacity: 0.7; stroke: #000000; stroke-opacity: 0.7\"/>\n     <use xlink:href=\"#m5a472367fc\" x=\"178.895429\" y=\"215.456935\" style=\"fill: #1f77b4; fill-opacity: 0.7; stroke: #000000; stroke-opacity: 0.7\"/>\n     <use xlink:href=\"#m5a472367fc\" x=\"79.61204\" y=\"267.910613\" style=\"fill: #1f77b4; fill-opacity: 0.7; stroke: #000000; stroke-opacity: 0.7\"/>\n     <use xlink:href=\"#m5a472367fc\" x=\"81.561605\" y=\"267.550866\" style=\"fill: #1f77b4; fill-opacity: 0.7; stroke: #000000; stroke-opacity: 0.7\"/>\n     <use xlink:href=\"#m5a472367fc\" x=\"118.816889\" y=\"245.525057\" style=\"fill: #1f77b4; fill-opacity: 0.7; stroke: #000000; stroke-opacity: 0.7\"/>\n     <use xlink:href=\"#m5a472367fc\" x=\"88.175104\" y=\"264.115974\" style=\"fill: #1f77b4; fill-opacity: 0.7; stroke: #000000; stroke-opacity: 0.7\"/>\n     <use xlink:href=\"#m5a472367fc\" x=\"96.177948\" y=\"259.147227\" style=\"fill: #1f77b4; fill-opacity: 0.7; stroke: #000000; stroke-opacity: 0.7\"/>\n     <use xlink:href=\"#m5a472367fc\" x=\"92.545476\" y=\"264.457487\" style=\"fill: #1f77b4; fill-opacity: 0.7; stroke: #000000; stroke-opacity: 0.7\"/>\n    </g>\n   </g>\n  </g>\n </g>\n <defs>\n  <clipPath id=\"p8ae0c2e3e3\">\n   <rect x=\"51.5\" y=\"7.2\" width=\"502.2\" height=\"277.2\"/>\n  </clipPath>\n </defs>\n</svg>\n"
     },
     "metadata": {},
     "output_type": "display_data"
    }
   ],
   "execution_count": 72
  },
  {
   "cell_type": "markdown",
   "metadata": {},
   "source": [
    "**To do**\n",
    "1. Change the scale on the x-axis to logarithmic\n",
    "2. Change the scale on the y-axis to logarithmic\n",
    "3. Plot the same data with both axes on a logarithmic scale"
   ]
  },
  {
   "cell_type": "code",
   "metadata": {
    "ExecuteTime": {
     "end_time": "2025-03-18T13:51:03.353523Z",
     "start_time": "2025-03-18T13:51:03.261430Z"
    }
   },
   "source": [
    "fig, ax = plt.subplots(figsize = (9, 5))\n",
    "\n",
    "# Add scatterplot\n",
    "ax.scatter(x, y, s=60, alpha=0.7, edgecolors=\"k\")\n",
    "# Set x-axis to logarithmic scale\n",
    "ax.set_xscale('log')\n",
    "# Set y-axis to logarithmic scale\n",
    "ax.set_yscale('log')\n",
    "\n",
    "ax.set_xlabel('x (log-scale)', fontsize=16)\n",
    "ax.set_ylabel('y (log-scale)', fontsize=16)\n",
    "# Enable minor and major gridlines\n",
    "ax.grid(True, which='both')\n",
    "\n",
    "ax.spines[:].set_visible(False)\n",
    "ax.tick_params(bottom=False, left=False, labelsize=14)\n",
    "ax.set_axisbelow(True)\n",
    "\n",
    "plt.show()"
   ],
   "outputs": [
    {
     "data": {
      "text/plain": [
       "<Figure size 900x500 with 1 Axes>"
      ],
      "image/svg+xml": "<?xml version=\"1.0\" encoding=\"utf-8\" standalone=\"no\"?>\n<!DOCTYPE svg PUBLIC \"-//W3C//DTD SVG 1.1//EN\"\n  \"http://www.w3.org/Graphics/SVG/1.1/DTD/svg11.dtd\">\n<svg xmlns:xlink=\"http://www.w3.org/1999/xlink\" width=\"575.985pt\" height=\"331.634375pt\" viewBox=\"0 0 575.985 331.634375\" xmlns=\"http://www.w3.org/2000/svg\" version=\"1.1\">\n <metadata>\n  <rdf:RDF xmlns:dc=\"http://purl.org/dc/elements/1.1/\" xmlns:cc=\"http://creativecommons.org/ns#\" xmlns:rdf=\"http://www.w3.org/1999/02/22-rdf-syntax-ns#\">\n   <cc:Work>\n    <dc:type rdf:resource=\"http://purl.org/dc/dcmitype/StillImage\"/>\n    <dc:date>2025-03-18T14:51:03.329835</dc:date>\n    <dc:format>image/svg+xml</dc:format>\n    <dc:creator>\n     <cc:Agent>\n      <dc:title>Matplotlib v3.10.0, https://matplotlib.org/</dc:title>\n     </cc:Agent>\n    </dc:creator>\n   </cc:Work>\n  </rdf:RDF>\n </metadata>\n <defs>\n  <style type=\"text/css\">*{stroke-linejoin: round; stroke-linecap: butt}</style>\n </defs>\n <g id=\"figure_1\">\n  <g id=\"patch_1\">\n   <path d=\"M 0 331.634375 \nL 575.985 331.634375 \nL 575.985 0 \nL 0 0 \nz\n\" style=\"fill: #ffffff\"/>\n  </g>\n  <g id=\"axes_1\">\n   <g id=\"patch_2\">\n    <path d=\"M 66.585 284.4 \nL 568.785 284.4 \nL 568.785 7.2 \nL 66.585 7.2 \nz\n\" style=\"fill: #ffffff\"/>\n   </g>\n   <g id=\"matplotlib.axis_1\">\n    <g id=\"xtick_1\">\n     <g id=\"line2d_1\">\n      <path d=\"M 73.982204 284.4 \nL 73.982204 7.2 \n\" clip-path=\"url(#pd7c123a57d)\" style=\"fill: none; stroke: #b0b0b0; stroke-width: 0.8; stroke-linecap: square\"/>\n     </g>\n     <g id=\"text_1\">\n      <!-- $\\mathdefault{10^{-1}}$ -->\n      <g transform=\"translate(57.532204 302.037812) scale(0.14 -0.14)\">\n       <defs>\n        <path id=\"DejaVuSans-31\" d=\"M 794 531 \nL 1825 531 \nL 1825 4091 \nL 703 3866 \nL 703 4441 \nL 1819 4666 \nL 2450 4666 \nL 2450 531 \nL 3481 531 \nL 3481 0 \nL 794 0 \nL 794 531 \nz\n\" transform=\"scale(0.015625)\"/>\n        <path id=\"DejaVuSans-30\" d=\"M 2034 4250 \nQ 1547 4250 1301 3770 \nQ 1056 3291 1056 2328 \nQ 1056 1369 1301 889 \nQ 1547 409 2034 409 \nQ 2525 409 2770 889 \nQ 3016 1369 3016 2328 \nQ 3016 3291 2770 3770 \nQ 2525 4250 2034 4250 \nz\nM 2034 4750 \nQ 2819 4750 3233 4129 \nQ 3647 3509 3647 2328 \nQ 3647 1150 3233 529 \nQ 2819 -91 2034 -91 \nQ 1250 -91 836 529 \nQ 422 1150 422 2328 \nQ 422 3509 836 4129 \nQ 1250 4750 2034 4750 \nz\n\" transform=\"scale(0.015625)\"/>\n        <path id=\"DejaVuSans-2212\" d=\"M 678 2272 \nL 4684 2272 \nL 4684 1741 \nL 678 1741 \nL 678 2272 \nz\n\" transform=\"scale(0.015625)\"/>\n       </defs>\n       <use xlink:href=\"#DejaVuSans-31\" transform=\"translate(0 0.684375)\"/>\n       <use xlink:href=\"#DejaVuSans-30\" transform=\"translate(63.623047 0.684375)\"/>\n       <use xlink:href=\"#DejaVuSans-2212\" transform=\"translate(128.203125 38.965625) scale(0.7)\"/>\n       <use xlink:href=\"#DejaVuSans-31\" transform=\"translate(186.855469 38.965625) scale(0.7)\"/>\n      </g>\n     </g>\n    </g>\n    <g id=\"xtick_2\">\n     <g id=\"line2d_2\">\n      <path d=\"M 282.316284 284.4 \nL 282.316284 7.2 \n\" clip-path=\"url(#pd7c123a57d)\" style=\"fill: none; stroke: #b0b0b0; stroke-width: 0.8; stroke-linecap: square\"/>\n     </g>\n     <g id=\"text_2\">\n      <!-- $\\mathdefault{10^{0}}$ -->\n      <g transform=\"translate(269.996284 302.037812) scale(0.14 -0.14)\">\n       <use xlink:href=\"#DejaVuSans-31\" transform=\"translate(0 0.765625)\"/>\n       <use xlink:href=\"#DejaVuSans-30\" transform=\"translate(63.623047 0.765625)\"/>\n       <use xlink:href=\"#DejaVuSans-30\" transform=\"translate(128.203125 39.046875) scale(0.7)\"/>\n      </g>\n     </g>\n    </g>\n    <g id=\"xtick_3\">\n     <g id=\"line2d_3\">\n      <path d=\"M 490.650364 284.4 \nL 490.650364 7.2 \n\" clip-path=\"url(#pd7c123a57d)\" style=\"fill: none; stroke: #b0b0b0; stroke-width: 0.8; stroke-linecap: square\"/>\n     </g>\n     <g id=\"text_3\">\n      <!-- $\\mathdefault{10^{1}}$ -->\n      <g transform=\"translate(478.330364 302.037812) scale(0.14 -0.14)\">\n       <use xlink:href=\"#DejaVuSans-31\" transform=\"translate(0 0.684375)\"/>\n       <use xlink:href=\"#DejaVuSans-30\" transform=\"translate(63.623047 0.684375)\"/>\n       <use xlink:href=\"#DejaVuSans-31\" transform=\"translate(128.203125 38.965625) scale(0.7)\"/>\n      </g>\n     </g>\n    </g>\n    <g id=\"xtick_4\">\n     <g id=\"line2d_4\">\n      <path d=\"M 136.697011 284.4 \nL 136.697011 7.2 \n\" clip-path=\"url(#pd7c123a57d)\" style=\"fill: none; stroke: #b0b0b0; stroke-width: 0.8; stroke-linecap: square\"/>\n     </g>\n     <g id=\"line2d_5\">\n      <defs>\n       <path id=\"m0c50ccb23f\" d=\"M 0 0 \nL 0 2 \n\" style=\"stroke: #000000; stroke-width: 0.6\"/>\n      </defs>\n      <g>\n       <use xlink:href=\"#m0c50ccb23f\" x=\"136.697011\" y=\"284.4\" style=\"stroke: #000000; stroke-width: 0.6\"/>\n      </g>\n     </g>\n    </g>\n    <g id=\"xtick_5\">\n     <g id=\"line2d_6\">\n      <path d=\"M 173.382822 284.4 \nL 173.382822 7.2 \n\" clip-path=\"url(#pd7c123a57d)\" style=\"fill: none; stroke: #b0b0b0; stroke-width: 0.8; stroke-linecap: square\"/>\n     </g>\n     <g id=\"line2d_7\">\n      <g>\n       <use xlink:href=\"#m0c50ccb23f\" x=\"173.382822\" y=\"284.4\" style=\"stroke: #000000; stroke-width: 0.6\"/>\n      </g>\n     </g>\n    </g>\n    <g id=\"xtick_6\">\n     <g id=\"line2d_8\">\n      <path d=\"M 199.411818 284.4 \nL 199.411818 7.2 \n\" clip-path=\"url(#pd7c123a57d)\" style=\"fill: none; stroke: #b0b0b0; stroke-width: 0.8; stroke-linecap: square\"/>\n     </g>\n     <g id=\"line2d_9\">\n      <g>\n       <use xlink:href=\"#m0c50ccb23f\" x=\"199.411818\" y=\"284.4\" style=\"stroke: #000000; stroke-width: 0.6\"/>\n      </g>\n     </g>\n    </g>\n    <g id=\"xtick_7\">\n     <g id=\"line2d_10\">\n      <path d=\"M 219.601477 284.4 \nL 219.601477 7.2 \n\" clip-path=\"url(#pd7c123a57d)\" style=\"fill: none; stroke: #b0b0b0; stroke-width: 0.8; stroke-linecap: square\"/>\n     </g>\n     <g id=\"line2d_11\">\n      <g>\n       <use xlink:href=\"#m0c50ccb23f\" x=\"219.601477\" y=\"284.4\" style=\"stroke: #000000; stroke-width: 0.6\"/>\n      </g>\n     </g>\n    </g>\n    <g id=\"xtick_8\">\n     <g id=\"line2d_12\">\n      <path d=\"M 236.097629 284.4 \nL 236.097629 7.2 \n\" clip-path=\"url(#pd7c123a57d)\" style=\"fill: none; stroke: #b0b0b0; stroke-width: 0.8; stroke-linecap: square\"/>\n     </g>\n     <g id=\"line2d_13\">\n      <g>\n       <use xlink:href=\"#m0c50ccb23f\" x=\"236.097629\" y=\"284.4\" style=\"stroke: #000000; stroke-width: 0.6\"/>\n      </g>\n     </g>\n    </g>\n    <g id=\"xtick_9\">\n     <g id=\"line2d_14\">\n      <path d=\"M 250.044927 284.4 \nL 250.044927 7.2 \n\" clip-path=\"url(#pd7c123a57d)\" style=\"fill: none; stroke: #b0b0b0; stroke-width: 0.8; stroke-linecap: square\"/>\n     </g>\n     <g id=\"line2d_15\">\n      <g>\n       <use xlink:href=\"#m0c50ccb23f\" x=\"250.044927\" y=\"284.4\" style=\"stroke: #000000; stroke-width: 0.6\"/>\n      </g>\n     </g>\n    </g>\n    <g id=\"xtick_10\">\n     <g id=\"line2d_16\">\n      <path d=\"M 262.126626 284.4 \nL 262.126626 7.2 \n\" clip-path=\"url(#pd7c123a57d)\" style=\"fill: none; stroke: #b0b0b0; stroke-width: 0.8; stroke-linecap: square\"/>\n     </g>\n     <g id=\"line2d_17\">\n      <g>\n       <use xlink:href=\"#m0c50ccb23f\" x=\"262.126626\" y=\"284.4\" style=\"stroke: #000000; stroke-width: 0.6\"/>\n      </g>\n     </g>\n    </g>\n    <g id=\"xtick_11\">\n     <g id=\"line2d_18\">\n      <path d=\"M 272.783439 284.4 \nL 272.783439 7.2 \n\" clip-path=\"url(#pd7c123a57d)\" style=\"fill: none; stroke: #b0b0b0; stroke-width: 0.8; stroke-linecap: square\"/>\n     </g>\n     <g id=\"line2d_19\">\n      <g>\n       <use xlink:href=\"#m0c50ccb23f\" x=\"272.783439\" y=\"284.4\" style=\"stroke: #000000; stroke-width: 0.6\"/>\n      </g>\n     </g>\n    </g>\n    <g id=\"xtick_12\">\n     <g id=\"line2d_20\">\n      <path d=\"M 345.031091 284.4 \nL 345.031091 7.2 \n\" clip-path=\"url(#pd7c123a57d)\" style=\"fill: none; stroke: #b0b0b0; stroke-width: 0.8; stroke-linecap: square\"/>\n     </g>\n     <g id=\"line2d_21\">\n      <g>\n       <use xlink:href=\"#m0c50ccb23f\" x=\"345.031091\" y=\"284.4\" style=\"stroke: #000000; stroke-width: 0.6\"/>\n      </g>\n     </g>\n    </g>\n    <g id=\"xtick_13\">\n     <g id=\"line2d_22\">\n      <path d=\"M 381.716902 284.4 \nL 381.716902 7.2 \n\" clip-path=\"url(#pd7c123a57d)\" style=\"fill: none; stroke: #b0b0b0; stroke-width: 0.8; stroke-linecap: square\"/>\n     </g>\n     <g id=\"line2d_23\">\n      <g>\n       <use xlink:href=\"#m0c50ccb23f\" x=\"381.716902\" y=\"284.4\" style=\"stroke: #000000; stroke-width: 0.6\"/>\n      </g>\n     </g>\n    </g>\n    <g id=\"xtick_14\">\n     <g id=\"line2d_24\">\n      <path d=\"M 407.745899 284.4 \nL 407.745899 7.2 \n\" clip-path=\"url(#pd7c123a57d)\" style=\"fill: none; stroke: #b0b0b0; stroke-width: 0.8; stroke-linecap: square\"/>\n     </g>\n     <g id=\"line2d_25\">\n      <g>\n       <use xlink:href=\"#m0c50ccb23f\" x=\"407.745899\" y=\"284.4\" style=\"stroke: #000000; stroke-width: 0.6\"/>\n      </g>\n     </g>\n    </g>\n    <g id=\"xtick_15\">\n     <g id=\"line2d_26\">\n      <path d=\"M 427.935557 284.4 \nL 427.935557 7.2 \n\" clip-path=\"url(#pd7c123a57d)\" style=\"fill: none; stroke: #b0b0b0; stroke-width: 0.8; stroke-linecap: square\"/>\n     </g>\n     <g id=\"line2d_27\">\n      <g>\n       <use xlink:href=\"#m0c50ccb23f\" x=\"427.935557\" y=\"284.4\" style=\"stroke: #000000; stroke-width: 0.6\"/>\n      </g>\n     </g>\n    </g>\n    <g id=\"xtick_16\">\n     <g id=\"line2d_28\">\n      <path d=\"M 444.431709 284.4 \nL 444.431709 7.2 \n\" clip-path=\"url(#pd7c123a57d)\" style=\"fill: none; stroke: #b0b0b0; stroke-width: 0.8; stroke-linecap: square\"/>\n     </g>\n     <g id=\"line2d_29\">\n      <g>\n       <use xlink:href=\"#m0c50ccb23f\" x=\"444.431709\" y=\"284.4\" style=\"stroke: #000000; stroke-width: 0.6\"/>\n      </g>\n     </g>\n    </g>\n    <g id=\"xtick_17\">\n     <g id=\"line2d_30\">\n      <path d=\"M 458.379007 284.4 \nL 458.379007 7.2 \n\" clip-path=\"url(#pd7c123a57d)\" style=\"fill: none; stroke: #b0b0b0; stroke-width: 0.8; stroke-linecap: square\"/>\n     </g>\n     <g id=\"line2d_31\">\n      <g>\n       <use xlink:href=\"#m0c50ccb23f\" x=\"458.379007\" y=\"284.4\" style=\"stroke: #000000; stroke-width: 0.6\"/>\n      </g>\n     </g>\n    </g>\n    <g id=\"xtick_18\">\n     <g id=\"line2d_32\">\n      <path d=\"M 470.460706 284.4 \nL 470.460706 7.2 \n\" clip-path=\"url(#pd7c123a57d)\" style=\"fill: none; stroke: #b0b0b0; stroke-width: 0.8; stroke-linecap: square\"/>\n     </g>\n     <g id=\"line2d_33\">\n      <g>\n       <use xlink:href=\"#m0c50ccb23f\" x=\"470.460706\" y=\"284.4\" style=\"stroke: #000000; stroke-width: 0.6\"/>\n      </g>\n     </g>\n    </g>\n    <g id=\"xtick_19\">\n     <g id=\"line2d_34\">\n      <path d=\"M 481.11752 284.4 \nL 481.11752 7.2 \n\" clip-path=\"url(#pd7c123a57d)\" style=\"fill: none; stroke: #b0b0b0; stroke-width: 0.8; stroke-linecap: square\"/>\n     </g>\n     <g id=\"line2d_35\">\n      <g>\n       <use xlink:href=\"#m0c50ccb23f\" x=\"481.11752\" y=\"284.4\" style=\"stroke: #000000; stroke-width: 0.6\"/>\n      </g>\n     </g>\n    </g>\n    <g id=\"xtick_20\">\n     <g id=\"line2d_36\">\n      <path d=\"M 553.365172 284.4 \nL 553.365172 7.2 \n\" clip-path=\"url(#pd7c123a57d)\" style=\"fill: none; stroke: #b0b0b0; stroke-width: 0.8; stroke-linecap: square\"/>\n     </g>\n     <g id=\"line2d_37\">\n      <g>\n       <use xlink:href=\"#m0c50ccb23f\" x=\"553.365172\" y=\"284.4\" style=\"stroke: #000000; stroke-width: 0.6\"/>\n      </g>\n     </g>\n    </g>\n    <g id=\"text_4\">\n     <!-- x (log-scale) -->\n     <g transform=\"translate(268.46875 321.106875) scale(0.16 -0.16)\">\n      <defs>\n       <path id=\"DejaVuSans-78\" d=\"M 3513 3500 \nL 2247 1797 \nL 3578 0 \nL 2900 0 \nL 1881 1375 \nL 863 0 \nL 184 0 \nL 1544 1831 \nL 300 3500 \nL 978 3500 \nL 1906 2253 \nL 2834 3500 \nL 3513 3500 \nz\n\" transform=\"scale(0.015625)\"/>\n       <path id=\"DejaVuSans-20\" transform=\"scale(0.015625)\"/>\n       <path id=\"DejaVuSans-28\" d=\"M 1984 4856 \nQ 1566 4138 1362 3434 \nQ 1159 2731 1159 2009 \nQ 1159 1288 1364 580 \nQ 1569 -128 1984 -844 \nL 1484 -844 \nQ 1016 -109 783 600 \nQ 550 1309 550 2009 \nQ 550 2706 781 3412 \nQ 1013 4119 1484 4856 \nL 1984 4856 \nz\n\" transform=\"scale(0.015625)\"/>\n       <path id=\"DejaVuSans-6c\" d=\"M 603 4863 \nL 1178 4863 \nL 1178 0 \nL 603 0 \nL 603 4863 \nz\n\" transform=\"scale(0.015625)\"/>\n       <path id=\"DejaVuSans-6f\" d=\"M 1959 3097 \nQ 1497 3097 1228 2736 \nQ 959 2375 959 1747 \nQ 959 1119 1226 758 \nQ 1494 397 1959 397 \nQ 2419 397 2687 759 \nQ 2956 1122 2956 1747 \nQ 2956 2369 2687 2733 \nQ 2419 3097 1959 3097 \nz\nM 1959 3584 \nQ 2709 3584 3137 3096 \nQ 3566 2609 3566 1747 \nQ 3566 888 3137 398 \nQ 2709 -91 1959 -91 \nQ 1206 -91 779 398 \nQ 353 888 353 1747 \nQ 353 2609 779 3096 \nQ 1206 3584 1959 3584 \nz\n\" transform=\"scale(0.015625)\"/>\n       <path id=\"DejaVuSans-67\" d=\"M 2906 1791 \nQ 2906 2416 2648 2759 \nQ 2391 3103 1925 3103 \nQ 1463 3103 1205 2759 \nQ 947 2416 947 1791 \nQ 947 1169 1205 825 \nQ 1463 481 1925 481 \nQ 2391 481 2648 825 \nQ 2906 1169 2906 1791 \nz\nM 3481 434 \nQ 3481 -459 3084 -895 \nQ 2688 -1331 1869 -1331 \nQ 1566 -1331 1297 -1286 \nQ 1028 -1241 775 -1147 \nL 775 -588 \nQ 1028 -725 1275 -790 \nQ 1522 -856 1778 -856 \nQ 2344 -856 2625 -561 \nQ 2906 -266 2906 331 \nL 2906 616 \nQ 2728 306 2450 153 \nQ 2172 0 1784 0 \nQ 1141 0 747 490 \nQ 353 981 353 1791 \nQ 353 2603 747 3093 \nQ 1141 3584 1784 3584 \nQ 2172 3584 2450 3431 \nQ 2728 3278 2906 2969 \nL 2906 3500 \nL 3481 3500 \nL 3481 434 \nz\n\" transform=\"scale(0.015625)\"/>\n       <path id=\"DejaVuSans-2d\" d=\"M 313 2009 \nL 1997 2009 \nL 1997 1497 \nL 313 1497 \nL 313 2009 \nz\n\" transform=\"scale(0.015625)\"/>\n       <path id=\"DejaVuSans-73\" d=\"M 2834 3397 \nL 2834 2853 \nQ 2591 2978 2328 3040 \nQ 2066 3103 1784 3103 \nQ 1356 3103 1142 2972 \nQ 928 2841 928 2578 \nQ 928 2378 1081 2264 \nQ 1234 2150 1697 2047 \nL 1894 2003 \nQ 2506 1872 2764 1633 \nQ 3022 1394 3022 966 \nQ 3022 478 2636 193 \nQ 2250 -91 1575 -91 \nQ 1294 -91 989 -36 \nQ 684 19 347 128 \nL 347 722 \nQ 666 556 975 473 \nQ 1284 391 1588 391 \nQ 1994 391 2212 530 \nQ 2431 669 2431 922 \nQ 2431 1156 2273 1281 \nQ 2116 1406 1581 1522 \nL 1381 1569 \nQ 847 1681 609 1914 \nQ 372 2147 372 2553 \nQ 372 3047 722 3315 \nQ 1072 3584 1716 3584 \nQ 2034 3584 2315 3537 \nQ 2597 3491 2834 3397 \nz\n\" transform=\"scale(0.015625)\"/>\n       <path id=\"DejaVuSans-63\" d=\"M 3122 3366 \nL 3122 2828 \nQ 2878 2963 2633 3030 \nQ 2388 3097 2138 3097 \nQ 1578 3097 1268 2742 \nQ 959 2388 959 1747 \nQ 959 1106 1268 751 \nQ 1578 397 2138 397 \nQ 2388 397 2633 464 \nQ 2878 531 3122 666 \nL 3122 134 \nQ 2881 22 2623 -34 \nQ 2366 -91 2075 -91 \nQ 1284 -91 818 406 \nQ 353 903 353 1747 \nQ 353 2603 823 3093 \nQ 1294 3584 2113 3584 \nQ 2378 3584 2631 3529 \nQ 2884 3475 3122 3366 \nz\n\" transform=\"scale(0.015625)\"/>\n       <path id=\"DejaVuSans-61\" d=\"M 2194 1759 \nQ 1497 1759 1228 1600 \nQ 959 1441 959 1056 \nQ 959 750 1161 570 \nQ 1363 391 1709 391 \nQ 2188 391 2477 730 \nQ 2766 1069 2766 1631 \nL 2766 1759 \nL 2194 1759 \nz\nM 3341 1997 \nL 3341 0 \nL 2766 0 \nL 2766 531 \nQ 2569 213 2275 61 \nQ 1981 -91 1556 -91 \nQ 1019 -91 701 211 \nQ 384 513 384 1019 \nQ 384 1609 779 1909 \nQ 1175 2209 1959 2209 \nL 2766 2209 \nL 2766 2266 \nQ 2766 2663 2505 2880 \nQ 2244 3097 1772 3097 \nQ 1472 3097 1187 3025 \nQ 903 2953 641 2809 \nL 641 3341 \nQ 956 3463 1253 3523 \nQ 1550 3584 1831 3584 \nQ 2591 3584 2966 3190 \nQ 3341 2797 3341 1997 \nz\n\" transform=\"scale(0.015625)\"/>\n       <path id=\"DejaVuSans-65\" d=\"M 3597 1894 \nL 3597 1613 \nL 953 1613 \nQ 991 1019 1311 708 \nQ 1631 397 2203 397 \nQ 2534 397 2845 478 \nQ 3156 559 3463 722 \nL 3463 178 \nQ 3153 47 2828 -22 \nQ 2503 -91 2169 -91 \nQ 1331 -91 842 396 \nQ 353 884 353 1716 \nQ 353 2575 817 3079 \nQ 1281 3584 2069 3584 \nQ 2775 3584 3186 3129 \nQ 3597 2675 3597 1894 \nz\nM 3022 2063 \nQ 3016 2534 2758 2815 \nQ 2500 3097 2075 3097 \nQ 1594 3097 1305 2825 \nQ 1016 2553 972 2059 \nL 3022 2063 \nz\n\" transform=\"scale(0.015625)\"/>\n       <path id=\"DejaVuSans-29\" d=\"M 513 4856 \nL 1013 4856 \nQ 1481 4119 1714 3412 \nQ 1947 2706 1947 2009 \nQ 1947 1309 1714 600 \nQ 1481 -109 1013 -844 \nL 513 -844 \nQ 928 -128 1133 580 \nQ 1338 1288 1338 2009 \nQ 1338 2731 1133 3434 \nQ 928 4138 513 4856 \nz\n\" transform=\"scale(0.015625)\"/>\n      </defs>\n      <use xlink:href=\"#DejaVuSans-78\"/>\n      <use xlink:href=\"#DejaVuSans-20\" transform=\"translate(59.179688 0)\"/>\n      <use xlink:href=\"#DejaVuSans-28\" transform=\"translate(90.966797 0)\"/>\n      <use xlink:href=\"#DejaVuSans-6c\" transform=\"translate(129.980469 0)\"/>\n      <use xlink:href=\"#DejaVuSans-6f\" transform=\"translate(157.763672 0)\"/>\n      <use xlink:href=\"#DejaVuSans-67\" transform=\"translate(218.945312 0)\"/>\n      <use xlink:href=\"#DejaVuSans-2d\" transform=\"translate(282.421875 0)\"/>\n      <use xlink:href=\"#DejaVuSans-73\" transform=\"translate(318.505859 0)\"/>\n      <use xlink:href=\"#DejaVuSans-63\" transform=\"translate(370.605469 0)\"/>\n      <use xlink:href=\"#DejaVuSans-61\" transform=\"translate(425.585938 0)\"/>\n      <use xlink:href=\"#DejaVuSans-6c\" transform=\"translate(486.865234 0)\"/>\n      <use xlink:href=\"#DejaVuSans-65\" transform=\"translate(514.648438 0)\"/>\n      <use xlink:href=\"#DejaVuSans-29\" transform=\"translate(576.171875 0)\"/>\n     </g>\n    </g>\n   </g>\n   <g id=\"matplotlib.axis_2\">\n    <g id=\"ytick_1\">\n     <g id=\"line2d_38\">\n      <path d=\"M 66.585 251.874901 \nL 568.785 251.874901 \n\" clip-path=\"url(#pd7c123a57d)\" style=\"fill: none; stroke: #b0b0b0; stroke-width: 0.8; stroke-linecap: square\"/>\n     </g>\n     <g id=\"text_5\">\n      <!-- $\\mathdefault{10^{-1}}$ -->\n      <g transform=\"translate(26.685 257.193807) scale(0.14 -0.14)\">\n       <use xlink:href=\"#DejaVuSans-31\" transform=\"translate(0 0.684375)\"/>\n       <use xlink:href=\"#DejaVuSans-30\" transform=\"translate(63.623047 0.684375)\"/>\n       <use xlink:href=\"#DejaVuSans-2212\" transform=\"translate(128.203125 38.965625) scale(0.7)\"/>\n       <use xlink:href=\"#DejaVuSans-31\" transform=\"translate(186.855469 38.965625) scale(0.7)\"/>\n      </g>\n     </g>\n    </g>\n    <g id=\"ytick_2\">\n     <g id=\"line2d_39\">\n      <path d=\"M 66.585 152.351615 \nL 568.785 152.351615 \n\" clip-path=\"url(#pd7c123a57d)\" style=\"fill: none; stroke: #b0b0b0; stroke-width: 0.8; stroke-linecap: square\"/>\n     </g>\n     <g id=\"text_6\">\n      <!-- $\\mathdefault{10^{0}}$ -->\n      <g transform=\"translate(34.945 157.670521) scale(0.14 -0.14)\">\n       <use xlink:href=\"#DejaVuSans-31\" transform=\"translate(0 0.765625)\"/>\n       <use xlink:href=\"#DejaVuSans-30\" transform=\"translate(63.623047 0.765625)\"/>\n       <use xlink:href=\"#DejaVuSans-30\" transform=\"translate(128.203125 39.046875) scale(0.7)\"/>\n      </g>\n     </g>\n    </g>\n    <g id=\"ytick_3\">\n     <g id=\"line2d_40\">\n      <path d=\"M 66.585 52.828328 \nL 568.785 52.828328 \n\" clip-path=\"url(#pd7c123a57d)\" style=\"fill: none; stroke: #b0b0b0; stroke-width: 0.8; stroke-linecap: square\"/>\n     </g>\n     <g id=\"text_7\">\n      <!-- $\\mathdefault{10^{1}}$ -->\n      <g transform=\"translate(34.945 58.147234) scale(0.14 -0.14)\">\n       <use xlink:href=\"#DejaVuSans-31\" transform=\"translate(0 0.684375)\"/>\n       <use xlink:href=\"#DejaVuSans-30\" transform=\"translate(63.623047 0.684375)\"/>\n       <use xlink:href=\"#DejaVuSans-31\" transform=\"translate(128.203125 38.965625) scale(0.7)\"/>\n      </g>\n     </g>\n    </g>\n    <g id=\"ytick_4\">\n     <g id=\"line2d_41\">\n      <path d=\"M 66.585 281.834396 \nL 568.785 281.834396 \n\" clip-path=\"url(#pd7c123a57d)\" style=\"fill: none; stroke: #b0b0b0; stroke-width: 0.8; stroke-linecap: square\"/>\n     </g>\n     <g id=\"line2d_42\">\n      <defs>\n       <path id=\"mc745f75e4a\" d=\"M 0 0 \nL -2 0 \n\" style=\"stroke: #000000; stroke-width: 0.6\"/>\n      </defs>\n      <g>\n       <use xlink:href=\"#mc745f75e4a\" x=\"66.585\" y=\"281.834396\" style=\"stroke: #000000; stroke-width: 0.6\"/>\n      </g>\n     </g>\n    </g>\n    <g id=\"ytick_5\">\n     <g id=\"line2d_43\">\n      <path d=\"M 66.585 273.954018 \nL 568.785 273.954018 \n\" clip-path=\"url(#pd7c123a57d)\" style=\"fill: none; stroke: #b0b0b0; stroke-width: 0.8; stroke-linecap: square\"/>\n     </g>\n     <g id=\"line2d_44\">\n      <g>\n       <use xlink:href=\"#mc745f75e4a\" x=\"66.585\" y=\"273.954018\" style=\"stroke: #000000; stroke-width: 0.6\"/>\n      </g>\n     </g>\n    </g>\n    <g id=\"ytick_6\">\n     <g id=\"line2d_45\">\n      <path d=\"M 66.585 267.291253 \nL 568.785 267.291253 \n\" clip-path=\"url(#pd7c123a57d)\" style=\"fill: none; stroke: #b0b0b0; stroke-width: 0.8; stroke-linecap: square\"/>\n     </g>\n     <g id=\"line2d_46\">\n      <g>\n       <use xlink:href=\"#mc745f75e4a\" x=\"66.585\" y=\"267.291253\" style=\"stroke: #000000; stroke-width: 0.6\"/>\n      </g>\n     </g>\n    </g>\n    <g id=\"ytick_7\">\n     <g id=\"line2d_47\">\n      <path d=\"M 66.585 261.519704 \nL 568.785 261.519704 \n\" clip-path=\"url(#pd7c123a57d)\" style=\"fill: none; stroke: #b0b0b0; stroke-width: 0.8; stroke-linecap: square\"/>\n     </g>\n     <g id=\"line2d_48\">\n      <g>\n       <use xlink:href=\"#mc745f75e4a\" x=\"66.585\" y=\"261.519704\" style=\"stroke: #000000; stroke-width: 0.6\"/>\n      </g>\n     </g>\n    </g>\n    <g id=\"ytick_8\">\n     <g id=\"line2d_49\">\n      <path d=\"M 66.585 256.428837 \nL 568.785 256.428837 \n\" clip-path=\"url(#pd7c123a57d)\" style=\"fill: none; stroke: #b0b0b0; stroke-width: 0.8; stroke-linecap: square\"/>\n     </g>\n     <g id=\"line2d_50\">\n      <g>\n       <use xlink:href=\"#mc745f75e4a\" x=\"66.585\" y=\"256.428837\" style=\"stroke: #000000; stroke-width: 0.6\"/>\n      </g>\n     </g>\n    </g>\n    <g id=\"ytick_9\">\n     <g id=\"line2d_51\">\n      <path d=\"M 66.585 221.915407 \nL 568.785 221.915407 \n\" clip-path=\"url(#pd7c123a57d)\" style=\"fill: none; stroke: #b0b0b0; stroke-width: 0.8; stroke-linecap: square\"/>\n     </g>\n     <g id=\"line2d_52\">\n      <g>\n       <use xlink:href=\"#mc745f75e4a\" x=\"66.585\" y=\"221.915407\" style=\"stroke: #000000; stroke-width: 0.6\"/>\n      </g>\n     </g>\n    </g>\n    <g id=\"ytick_10\">\n     <g id=\"line2d_53\">\n      <path d=\"M 66.585 204.390226 \nL 568.785 204.390226 \n\" clip-path=\"url(#pd7c123a57d)\" style=\"fill: none; stroke: #b0b0b0; stroke-width: 0.8; stroke-linecap: square\"/>\n     </g>\n     <g id=\"line2d_54\">\n      <g>\n       <use xlink:href=\"#mc745f75e4a\" x=\"66.585\" y=\"204.390226\" style=\"stroke: #000000; stroke-width: 0.6\"/>\n      </g>\n     </g>\n    </g>\n    <g id=\"ytick_11\">\n     <g id=\"line2d_55\">\n      <path d=\"M 66.585 191.955912 \nL 568.785 191.955912 \n\" clip-path=\"url(#pd7c123a57d)\" style=\"fill: none; stroke: #b0b0b0; stroke-width: 0.8; stroke-linecap: square\"/>\n     </g>\n     <g id=\"line2d_56\">\n      <g>\n       <use xlink:href=\"#mc745f75e4a\" x=\"66.585\" y=\"191.955912\" style=\"stroke: #000000; stroke-width: 0.6\"/>\n      </g>\n     </g>\n    </g>\n    <g id=\"ytick_12\">\n     <g id=\"line2d_57\">\n      <path d=\"M 66.585 182.311109 \nL 568.785 182.311109 \n\" clip-path=\"url(#pd7c123a57d)\" style=\"fill: none; stroke: #b0b0b0; stroke-width: 0.8; stroke-linecap: square\"/>\n     </g>\n     <g id=\"line2d_58\">\n      <g>\n       <use xlink:href=\"#mc745f75e4a\" x=\"66.585\" y=\"182.311109\" style=\"stroke: #000000; stroke-width: 0.6\"/>\n      </g>\n     </g>\n    </g>\n    <g id=\"ytick_13\">\n     <g id=\"line2d_59\">\n      <path d=\"M 66.585 174.430731 \nL 568.785 174.430731 \n\" clip-path=\"url(#pd7c123a57d)\" style=\"fill: none; stroke: #b0b0b0; stroke-width: 0.8; stroke-linecap: square\"/>\n     </g>\n     <g id=\"line2d_60\">\n      <g>\n       <use xlink:href=\"#mc745f75e4a\" x=\"66.585\" y=\"174.430731\" style=\"stroke: #000000; stroke-width: 0.6\"/>\n      </g>\n     </g>\n    </g>\n    <g id=\"ytick_14\">\n     <g id=\"line2d_61\">\n      <path d=\"M 66.585 167.767967 \nL 568.785 167.767967 \n\" clip-path=\"url(#pd7c123a57d)\" style=\"fill: none; stroke: #b0b0b0; stroke-width: 0.8; stroke-linecap: square\"/>\n     </g>\n     <g id=\"line2d_62\">\n      <g>\n       <use xlink:href=\"#mc745f75e4a\" x=\"66.585\" y=\"167.767967\" style=\"stroke: #000000; stroke-width: 0.6\"/>\n      </g>\n     </g>\n    </g>\n    <g id=\"ytick_15\">\n     <g id=\"line2d_63\">\n      <path d=\"M 66.585 161.996418 \nL 568.785 161.996418 \n\" clip-path=\"url(#pd7c123a57d)\" style=\"fill: none; stroke: #b0b0b0; stroke-width: 0.8; stroke-linecap: square\"/>\n     </g>\n     <g id=\"line2d_64\">\n      <g>\n       <use xlink:href=\"#mc745f75e4a\" x=\"66.585\" y=\"161.996418\" style=\"stroke: #000000; stroke-width: 0.6\"/>\n      </g>\n     </g>\n    </g>\n    <g id=\"ytick_16\">\n     <g id=\"line2d_65\">\n      <path d=\"M 66.585 156.905551 \nL 568.785 156.905551 \n\" clip-path=\"url(#pd7c123a57d)\" style=\"fill: none; stroke: #b0b0b0; stroke-width: 0.8; stroke-linecap: square\"/>\n     </g>\n     <g id=\"line2d_66\">\n      <g>\n       <use xlink:href=\"#mc745f75e4a\" x=\"66.585\" y=\"156.905551\" style=\"stroke: #000000; stroke-width: 0.6\"/>\n      </g>\n     </g>\n    </g>\n    <g id=\"ytick_17\">\n     <g id=\"line2d_67\">\n      <path d=\"M 66.585 122.39212 \nL 568.785 122.39212 \n\" clip-path=\"url(#pd7c123a57d)\" style=\"fill: none; stroke: #b0b0b0; stroke-width: 0.8; stroke-linecap: square\"/>\n     </g>\n     <g id=\"line2d_68\">\n      <g>\n       <use xlink:href=\"#mc745f75e4a\" x=\"66.585\" y=\"122.39212\" style=\"stroke: #000000; stroke-width: 0.6\"/>\n      </g>\n     </g>\n    </g>\n    <g id=\"ytick_18\">\n     <g id=\"line2d_69\">\n      <path d=\"M 66.585 104.866939 \nL 568.785 104.866939 \n\" clip-path=\"url(#pd7c123a57d)\" style=\"fill: none; stroke: #b0b0b0; stroke-width: 0.8; stroke-linecap: square\"/>\n     </g>\n     <g id=\"line2d_70\">\n      <g>\n       <use xlink:href=\"#mc745f75e4a\" x=\"66.585\" y=\"104.866939\" style=\"stroke: #000000; stroke-width: 0.6\"/>\n      </g>\n     </g>\n    </g>\n    <g id=\"ytick_19\">\n     <g id=\"line2d_71\">\n      <path d=\"M 66.585 92.432626 \nL 568.785 92.432626 \n\" clip-path=\"url(#pd7c123a57d)\" style=\"fill: none; stroke: #b0b0b0; stroke-width: 0.8; stroke-linecap: square\"/>\n     </g>\n     <g id=\"line2d_72\">\n      <g>\n       <use xlink:href=\"#mc745f75e4a\" x=\"66.585\" y=\"92.432626\" style=\"stroke: #000000; stroke-width: 0.6\"/>\n      </g>\n     </g>\n    </g>\n    <g id=\"ytick_20\">\n     <g id=\"line2d_73\">\n      <path d=\"M 66.585 82.787823 \nL 568.785 82.787823 \n\" clip-path=\"url(#pd7c123a57d)\" style=\"fill: none; stroke: #b0b0b0; stroke-width: 0.8; stroke-linecap: square\"/>\n     </g>\n     <g id=\"line2d_74\">\n      <g>\n       <use xlink:href=\"#mc745f75e4a\" x=\"66.585\" y=\"82.787823\" style=\"stroke: #000000; stroke-width: 0.6\"/>\n      </g>\n     </g>\n    </g>\n    <g id=\"ytick_21\">\n     <g id=\"line2d_75\">\n      <path d=\"M 66.585 74.907445 \nL 568.785 74.907445 \n\" clip-path=\"url(#pd7c123a57d)\" style=\"fill: none; stroke: #b0b0b0; stroke-width: 0.8; stroke-linecap: square\"/>\n     </g>\n     <g id=\"line2d_76\">\n      <g>\n       <use xlink:href=\"#mc745f75e4a\" x=\"66.585\" y=\"74.907445\" style=\"stroke: #000000; stroke-width: 0.6\"/>\n      </g>\n     </g>\n    </g>\n    <g id=\"ytick_22\">\n     <g id=\"line2d_77\">\n      <path d=\"M 66.585 68.24468 \nL 568.785 68.24468 \n\" clip-path=\"url(#pd7c123a57d)\" style=\"fill: none; stroke: #b0b0b0; stroke-width: 0.8; stroke-linecap: square\"/>\n     </g>\n     <g id=\"line2d_78\">\n      <g>\n       <use xlink:href=\"#mc745f75e4a\" x=\"66.585\" y=\"68.24468\" style=\"stroke: #000000; stroke-width: 0.6\"/>\n      </g>\n     </g>\n    </g>\n    <g id=\"ytick_23\">\n     <g id=\"line2d_79\">\n      <path d=\"M 66.585 62.473131 \nL 568.785 62.473131 \n\" clip-path=\"url(#pd7c123a57d)\" style=\"fill: none; stroke: #b0b0b0; stroke-width: 0.8; stroke-linecap: square\"/>\n     </g>\n     <g id=\"line2d_80\">\n      <g>\n       <use xlink:href=\"#mc745f75e4a\" x=\"66.585\" y=\"62.473131\" style=\"stroke: #000000; stroke-width: 0.6\"/>\n      </g>\n     </g>\n    </g>\n    <g id=\"ytick_24\">\n     <g id=\"line2d_81\">\n      <path d=\"M 66.585 57.382264 \nL 568.785 57.382264 \n\" clip-path=\"url(#pd7c123a57d)\" style=\"fill: none; stroke: #b0b0b0; stroke-width: 0.8; stroke-linecap: square\"/>\n     </g>\n     <g id=\"line2d_82\">\n      <g>\n       <use xlink:href=\"#mc745f75e4a\" x=\"66.585\" y=\"57.382264\" style=\"stroke: #000000; stroke-width: 0.6\"/>\n      </g>\n     </g>\n    </g>\n    <g id=\"ytick_25\">\n     <g id=\"line2d_83\">\n      <path d=\"M 66.585 22.868834 \nL 568.785 22.868834 \n\" clip-path=\"url(#pd7c123a57d)\" style=\"fill: none; stroke: #b0b0b0; stroke-width: 0.8; stroke-linecap: square\"/>\n     </g>\n     <g id=\"line2d_84\">\n      <g>\n       <use xlink:href=\"#mc745f75e4a\" x=\"66.585\" y=\"22.868834\" style=\"stroke: #000000; stroke-width: 0.6\"/>\n      </g>\n     </g>\n    </g>\n    <g id=\"text_8\">\n     <!-- y (log-scale) -->\n     <g transform=\"translate(19.3575 195.01625) rotate(-90) scale(0.16 -0.16)\">\n      <defs>\n       <path id=\"DejaVuSans-79\" d=\"M 2059 -325 \nQ 1816 -950 1584 -1140 \nQ 1353 -1331 966 -1331 \nL 506 -1331 \nL 506 -850 \nL 844 -850 \nQ 1081 -850 1212 -737 \nQ 1344 -625 1503 -206 \nL 1606 56 \nL 191 3500 \nL 800 3500 \nL 1894 763 \nL 2988 3500 \nL 3597 3500 \nL 2059 -325 \nz\n\" transform=\"scale(0.015625)\"/>\n      </defs>\n      <use xlink:href=\"#DejaVuSans-79\"/>\n      <use xlink:href=\"#DejaVuSans-20\" transform=\"translate(59.179688 0)\"/>\n      <use xlink:href=\"#DejaVuSans-28\" transform=\"translate(90.966797 0)\"/>\n      <use xlink:href=\"#DejaVuSans-6c\" transform=\"translate(129.980469 0)\"/>\n      <use xlink:href=\"#DejaVuSans-6f\" transform=\"translate(157.763672 0)\"/>\n      <use xlink:href=\"#DejaVuSans-67\" transform=\"translate(218.945312 0)\"/>\n      <use xlink:href=\"#DejaVuSans-2d\" transform=\"translate(282.421875 0)\"/>\n      <use xlink:href=\"#DejaVuSans-73\" transform=\"translate(318.505859 0)\"/>\n      <use xlink:href=\"#DejaVuSans-63\" transform=\"translate(370.605469 0)\"/>\n      <use xlink:href=\"#DejaVuSans-61\" transform=\"translate(425.585938 0)\"/>\n      <use xlink:href=\"#DejaVuSans-6c\" transform=\"translate(486.865234 0)\"/>\n      <use xlink:href=\"#DejaVuSans-65\" transform=\"translate(514.648438 0)\"/>\n      <use xlink:href=\"#DejaVuSans-29\" transform=\"translate(576.171875 0)\"/>\n     </g>\n    </g>\n   </g>\n   <g id=\"PathCollection_1\">\n    <defs>\n     <path id=\"m528635b79c\" d=\"M 0 3.872983 \nC 1.027127 3.872983 2.012324 3.464901 2.738613 2.738613 \nC 3.464901 2.012324 3.872983 1.027127 3.872983 0 \nC 3.872983 -1.027127 3.464901 -2.012324 2.738613 -2.738613 \nC 2.012324 -3.464901 1.027127 -3.872983 0 -3.872983 \nC -1.027127 -3.872983 -2.012324 -3.464901 -2.738613 -2.738613 \nC -3.464901 -2.012324 -3.872983 -1.027127 -3.872983 0 \nC -3.872983 1.027127 -3.464901 2.012324 -2.738613 2.738613 \nC -2.012324 3.464901 -1.027127 3.872983 0 3.872983 \nz\n\" style=\"stroke: #000000; stroke-opacity: 0.7\"/>\n    </defs>\n    <g clip-path=\"url(#pd7c123a57d)\">\n     <use xlink:href=\"#m528635b79c\" x=\"309.88658\" y=\"135.393051\" style=\"fill: #1f77b4; fill-opacity: 0.7; stroke: #000000; stroke-opacity: 0.7\"/>\n     <use xlink:href=\"#m528635b79c\" x=\"188.220247\" y=\"183.321853\" style=\"fill: #1f77b4; fill-opacity: 0.7; stroke: #000000; stroke-opacity: 0.7\"/>\n     <use xlink:href=\"#m528635b79c\" x=\"350.215864\" y=\"118.865815\" style=\"fill: #1f77b4; fill-opacity: 0.7; stroke: #000000; stroke-opacity: 0.7\"/>\n     <use xlink:href=\"#m528635b79c\" x=\"367.41702\" y=\"104.738075\" style=\"fill: #1f77b4; fill-opacity: 0.7; stroke: #000000; stroke-opacity: 0.7\"/>\n     <use xlink:href=\"#m528635b79c\" x=\"105.789856\" y=\"271.8\" style=\"fill: #1f77b4; fill-opacity: 0.7; stroke: #000000; stroke-opacity: 0.7\"/>\n     <use xlink:href=\"#m528635b79c\" x=\"164.497242\" y=\"209.21011\" style=\"fill: #1f77b4; fill-opacity: 0.7; stroke: #000000; stroke-opacity: 0.7\"/>\n     <use xlink:href=\"#m528635b79c\" x=\"293.883072\" y=\"158.055133\" style=\"fill: #1f77b4; fill-opacity: 0.7; stroke: #000000; stroke-opacity: 0.7\"/>\n     <use xlink:href=\"#m528635b79c\" x=\"253.703179\" y=\"183.375099\" style=\"fill: #1f77b4; fill-opacity: 0.7; stroke: #000000; stroke-opacity: 0.7\"/>\n     <use xlink:href=\"#m528635b79c\" x=\"280.796143\" y=\"164.841228\" style=\"fill: #1f77b4; fill-opacity: 0.7; stroke: #000000; stroke-opacity: 0.7\"/>\n     <use xlink:href=\"#m528635b79c\" x=\"205.134284\" y=\"193.329797\" style=\"fill: #1f77b4; fill-opacity: 0.7; stroke: #000000; stroke-opacity: 0.7\"/>\n     <use xlink:href=\"#m528635b79c\" x=\"361.882754\" y=\"104.74864\" style=\"fill: #1f77b4; fill-opacity: 0.7; stroke: #000000; stroke-opacity: 0.7\"/>\n     <use xlink:href=\"#m528635b79c\" x=\"352.689608\" y=\"138.015633\" style=\"fill: #1f77b4; fill-opacity: 0.7; stroke: #000000; stroke-opacity: 0.7\"/>\n     <use xlink:href=\"#m528635b79c\" x=\"288.290632\" y=\"149.139863\" style=\"fill: #1f77b4; fill-opacity: 0.7; stroke: #000000; stroke-opacity: 0.7\"/>\n     <use xlink:href=\"#m528635b79c\" x=\"384.307199\" y=\"109.716839\" style=\"fill: #1f77b4; fill-opacity: 0.7; stroke: #000000; stroke-opacity: 0.7\"/>\n     <use xlink:href=\"#m528635b79c\" x=\"324.615754\" y=\"136.169189\" style=\"fill: #1f77b4; fill-opacity: 0.7; stroke: #000000; stroke-opacity: 0.7\"/>\n     <use xlink:href=\"#m528635b79c\" x=\"204.568927\" y=\"179.090796\" style=\"fill: #1f77b4; fill-opacity: 0.7; stroke: #000000; stroke-opacity: 0.7\"/>\n     <use xlink:href=\"#m528635b79c\" x=\"315.680243\" y=\"130.522837\" style=\"fill: #1f77b4; fill-opacity: 0.7; stroke: #000000; stroke-opacity: 0.7\"/>\n     <use xlink:href=\"#m528635b79c\" x=\"195.558177\" y=\"180.415349\" style=\"fill: #1f77b4; fill-opacity: 0.7; stroke: #000000; stroke-opacity: 0.7\"/>\n     <use xlink:href=\"#m528635b79c\" x=\"361.79701\" y=\"116.23391\" style=\"fill: #1f77b4; fill-opacity: 0.7; stroke: #000000; stroke-opacity: 0.7\"/>\n     <use xlink:href=\"#m528635b79c\" x=\"277.79907\" y=\"163.554972\" style=\"fill: #1f77b4; fill-opacity: 0.7; stroke: #000000; stroke-opacity: 0.7\"/>\n     <use xlink:href=\"#m528635b79c\" x=\"265.590244\" y=\"163.050224\" style=\"fill: #1f77b4; fill-opacity: 0.7; stroke: #000000; stroke-opacity: 0.7\"/>\n     <use xlink:href=\"#m528635b79c\" x=\"220.706908\" y=\"179.028804\" style=\"fill: #1f77b4; fill-opacity: 0.7; stroke: #000000; stroke-opacity: 0.7\"/>\n     <use xlink:href=\"#m528635b79c\" x=\"392.929797\" y=\"97.487741\" style=\"fill: #1f77b4; fill-opacity: 0.7; stroke: #000000; stroke-opacity: 0.7\"/>\n     <use xlink:href=\"#m528635b79c\" x=\"268.334713\" y=\"174.092014\" style=\"fill: #1f77b4; fill-opacity: 0.7; stroke: #000000; stroke-opacity: 0.7\"/>\n     <use xlink:href=\"#m528635b79c\" x=\"243.561893\" y=\"169.816579\" style=\"fill: #1f77b4; fill-opacity: 0.7; stroke: #000000; stroke-opacity: 0.7\"/>\n     <use xlink:href=\"#m528635b79c\" x=\"250.455824\" y=\"164.974737\" style=\"fill: #1f77b4; fill-opacity: 0.7; stroke: #000000; stroke-opacity: 0.7\"/>\n     <use xlink:href=\"#m528635b79c\" x=\"330.478736\" y=\"106.84168\" style=\"fill: #1f77b4; fill-opacity: 0.7; stroke: #000000; stroke-opacity: 0.7\"/>\n     <use xlink:href=\"#m528635b79c\" x=\"315.381057\" y=\"118.765578\" style=\"fill: #1f77b4; fill-opacity: 0.7; stroke: #000000; stroke-opacity: 0.7\"/>\n     <use xlink:href=\"#m528635b79c\" x=\"319.659646\" y=\"145.893938\" style=\"fill: #1f77b4; fill-opacity: 0.7; stroke: #000000; stroke-opacity: 0.7\"/>\n     <use xlink:href=\"#m528635b79c\" x=\"321.296254\" y=\"137.239429\" style=\"fill: #1f77b4; fill-opacity: 0.7; stroke: #000000; stroke-opacity: 0.7\"/>\n     <use xlink:href=\"#m528635b79c\" x=\"476.089007\" y=\"81.653262\" style=\"fill: #1f77b4; fill-opacity: 0.7; stroke: #000000; stroke-opacity: 0.7\"/>\n     <use xlink:href=\"#m528635b79c\" x=\"245.544527\" y=\"177.468017\" style=\"fill: #1f77b4; fill-opacity: 0.7; stroke: #000000; stroke-opacity: 0.7\"/>\n     <use xlink:href=\"#m528635b79c\" x=\"235.969412\" y=\"170.940702\" style=\"fill: #1f77b4; fill-opacity: 0.7; stroke: #000000; stroke-opacity: 0.7\"/>\n     <use xlink:href=\"#m528635b79c\" x=\"208.687477\" y=\"175.290371\" style=\"fill: #1f77b4; fill-opacity: 0.7; stroke: #000000; stroke-opacity: 0.7\"/>\n     <use xlink:href=\"#m528635b79c\" x=\"338.049081\" y=\"135.25475\" style=\"fill: #1f77b4; fill-opacity: 0.7; stroke: #000000; stroke-opacity: 0.7\"/>\n     <use xlink:href=\"#m528635b79c\" x=\"384.463825\" y=\"112.000064\" style=\"fill: #1f77b4; fill-opacity: 0.7; stroke: #000000; stroke-opacity: 0.7\"/>\n     <use xlink:href=\"#m528635b79c\" x=\"272.006507\" y=\"195.042739\" style=\"fill: #1f77b4; fill-opacity: 0.7; stroke: #000000; stroke-opacity: 0.7\"/>\n     <use xlink:href=\"#m528635b79c\" x=\"206.30032\" y=\"190.616246\" style=\"fill: #1f77b4; fill-opacity: 0.7; stroke: #000000; stroke-opacity: 0.7\"/>\n     <use xlink:href=\"#m528635b79c\" x=\"207.718591\" y=\"202.685354\" style=\"fill: #1f77b4; fill-opacity: 0.7; stroke: #000000; stroke-opacity: 0.7\"/>\n     <use xlink:href=\"#m528635b79c\" x=\"341.180841\" y=\"130.934292\" style=\"fill: #1f77b4; fill-opacity: 0.7; stroke: #000000; stroke-opacity: 0.7\"/>\n     <use xlink:href=\"#m528635b79c\" x=\"349.564689\" y=\"131.969921\" style=\"fill: #1f77b4; fill-opacity: 0.7; stroke: #000000; stroke-opacity: 0.7\"/>\n     <use xlink:href=\"#m528635b79c\" x=\"331.459981\" y=\"129.995021\" style=\"fill: #1f77b4; fill-opacity: 0.7; stroke: #000000; stroke-opacity: 0.7\"/>\n     <use xlink:href=\"#m528635b79c\" x=\"222.10207\" y=\"209.125745\" style=\"fill: #1f77b4; fill-opacity: 0.7; stroke: #000000; stroke-opacity: 0.7\"/>\n     <use xlink:href=\"#m528635b79c\" x=\"303.321856\" y=\"164.256012\" style=\"fill: #1f77b4; fill-opacity: 0.7; stroke: #000000; stroke-opacity: 0.7\"/>\n     <use xlink:href=\"#m528635b79c\" x=\"292.873823\" y=\"127.599427\" style=\"fill: #1f77b4; fill-opacity: 0.7; stroke: #000000; stroke-opacity: 0.7\"/>\n     <use xlink:href=\"#m528635b79c\" x=\"302.102866\" y=\"161.473291\" style=\"fill: #1f77b4; fill-opacity: 0.7; stroke: #000000; stroke-opacity: 0.7\"/>\n     <use xlink:href=\"#m528635b79c\" x=\"361.161715\" y=\"129.954117\" style=\"fill: #1f77b4; fill-opacity: 0.7; stroke: #000000; stroke-opacity: 0.7\"/>\n     <use xlink:href=\"#m528635b79c\" x=\"302.546839\" y=\"125.208015\" style=\"fill: #1f77b4; fill-opacity: 0.7; stroke: #000000; stroke-opacity: 0.7\"/>\n     <use xlink:href=\"#m528635b79c\" x=\"343.743257\" y=\"97.885379\" style=\"fill: #1f77b4; fill-opacity: 0.7; stroke: #000000; stroke-opacity: 0.7\"/>\n     <use xlink:href=\"#m528635b79c\" x=\"288.430726\" y=\"165.965377\" style=\"fill: #1f77b4; fill-opacity: 0.7; stroke: #000000; stroke-opacity: 0.7\"/>\n     <use xlink:href=\"#m528635b79c\" x=\"308.475328\" y=\"144.405101\" style=\"fill: #1f77b4; fill-opacity: 0.7; stroke: #000000; stroke-opacity: 0.7\"/>\n     <use xlink:href=\"#m528635b79c\" x=\"339.434196\" y=\"121.23511\" style=\"fill: #1f77b4; fill-opacity: 0.7; stroke: #000000; stroke-opacity: 0.7\"/>\n     <use xlink:href=\"#m528635b79c\" x=\"150.475242\" y=\"198.70952\" style=\"fill: #1f77b4; fill-opacity: 0.7; stroke: #000000; stroke-opacity: 0.7\"/>\n     <use xlink:href=\"#m528635b79c\" x=\"253.392963\" y=\"179.638862\" style=\"fill: #1f77b4; fill-opacity: 0.7; stroke: #000000; stroke-opacity: 0.7\"/>\n     <use xlink:href=\"#m528635b79c\" x=\"239.757746\" y=\"175.658934\" style=\"fill: #1f77b4; fill-opacity: 0.7; stroke: #000000; stroke-opacity: 0.7\"/>\n     <use xlink:href=\"#m528635b79c\" x=\"224.511676\" y=\"171.693751\" style=\"fill: #1f77b4; fill-opacity: 0.7; stroke: #000000; stroke-opacity: 0.7\"/>\n     <use xlink:href=\"#m528635b79c\" x=\"257.42187\" y=\"159.424213\" style=\"fill: #1f77b4; fill-opacity: 0.7; stroke: #000000; stroke-opacity: 0.7\"/>\n     <use xlink:href=\"#m528635b79c\" x=\"417.576095\" y=\"92.389715\" style=\"fill: #1f77b4; fill-opacity: 0.7; stroke: #000000; stroke-opacity: 0.7\"/>\n     <use xlink:href=\"#m528635b79c\" x=\"203.977321\" y=\"191.373533\" style=\"fill: #1f77b4; fill-opacity: 0.7; stroke: #000000; stroke-opacity: 0.7\"/>\n     <use xlink:href=\"#m528635b79c\" x=\"369.924504\" y=\"130.680237\" style=\"fill: #1f77b4; fill-opacity: 0.7; stroke: #000000; stroke-opacity: 0.7\"/>\n     <use xlink:href=\"#m528635b79c\" x=\"130.053018\" y=\"227.976826\" style=\"fill: #1f77b4; fill-opacity: 0.7; stroke: #000000; stroke-opacity: 0.7\"/>\n     <use xlink:href=\"#m528635b79c\" x=\"252.016442\" y=\"170.068862\" style=\"fill: #1f77b4; fill-opacity: 0.7; stroke: #000000; stroke-opacity: 0.7\"/>\n     <use xlink:href=\"#m528635b79c\" x=\"297.041912\" y=\"142.676587\" style=\"fill: #1f77b4; fill-opacity: 0.7; stroke: #000000; stroke-opacity: 0.7\"/>\n     <use xlink:href=\"#m528635b79c\" x=\"335.356708\" y=\"134.072528\" style=\"fill: #1f77b4; fill-opacity: 0.7; stroke: #000000; stroke-opacity: 0.7\"/>\n     <use xlink:href=\"#m528635b79c\" x=\"346.666885\" y=\"116.406938\" style=\"fill: #1f77b4; fill-opacity: 0.7; stroke: #000000; stroke-opacity: 0.7\"/>\n     <use xlink:href=\"#m528635b79c\" x=\"354.097026\" y=\"107.568011\" style=\"fill: #1f77b4; fill-opacity: 0.7; stroke: #000000; stroke-opacity: 0.7\"/>\n     <use xlink:href=\"#m528635b79c\" x=\"250.764218\" y=\"165.638948\" style=\"fill: #1f77b4; fill-opacity: 0.7; stroke: #000000; stroke-opacity: 0.7\"/>\n     <use xlink:href=\"#m528635b79c\" x=\"240.483461\" y=\"168.395526\" style=\"fill: #1f77b4; fill-opacity: 0.7; stroke: #000000; stroke-opacity: 0.7\"/>\n     <use xlink:href=\"#m528635b79c\" x=\"359.944519\" y=\"114.6489\" style=\"fill: #1f77b4; fill-opacity: 0.7; stroke: #000000; stroke-opacity: 0.7\"/>\n     <use xlink:href=\"#m528635b79c\" x=\"265.007386\" y=\"160.61926\" style=\"fill: #1f77b4; fill-opacity: 0.7; stroke: #000000; stroke-opacity: 0.7\"/>\n     <use xlink:href=\"#m528635b79c\" x=\"166.894301\" y=\"216.907226\" style=\"fill: #1f77b4; fill-opacity: 0.7; stroke: #000000; stroke-opacity: 0.7\"/>\n     <use xlink:href=\"#m528635b79c\" x=\"179.778337\" y=\"197.774139\" style=\"fill: #1f77b4; fill-opacity: 0.7; stroke: #000000; stroke-opacity: 0.7\"/>\n     <use xlink:href=\"#m528635b79c\" x=\"199.125766\" y=\"193.248817\" style=\"fill: #1f77b4; fill-opacity: 0.7; stroke: #000000; stroke-opacity: 0.7\"/>\n     <use xlink:href=\"#m528635b79c\" x=\"327.298564\" y=\"111.423396\" style=\"fill: #1f77b4; fill-opacity: 0.7; stroke: #000000; stroke-opacity: 0.7\"/>\n     <use xlink:href=\"#m528635b79c\" x=\"295.202728\" y=\"130.829993\" style=\"fill: #1f77b4; fill-opacity: 0.7; stroke: #000000; stroke-opacity: 0.7\"/>\n     <use xlink:href=\"#m528635b79c\" x=\"344.790254\" y=\"118.203694\" style=\"fill: #1f77b4; fill-opacity: 0.7; stroke: #000000; stroke-opacity: 0.7\"/>\n     <use xlink:href=\"#m528635b79c\" x=\"243.659173\" y=\"180.845309\" style=\"fill: #1f77b4; fill-opacity: 0.7; stroke: #000000; stroke-opacity: 0.7\"/>\n     <use xlink:href=\"#m528635b79c\" x=\"296.660692\" y=\"161.028585\" style=\"fill: #1f77b4; fill-opacity: 0.7; stroke: #000000; stroke-opacity: 0.7\"/>\n     <use xlink:href=\"#m528635b79c\" x=\"338.918665\" y=\"113.207807\" style=\"fill: #1f77b4; fill-opacity: 0.7; stroke: #000000; stroke-opacity: 0.7\"/>\n     <use xlink:href=\"#m528635b79c\" x=\"254.327122\" y=\"162.745815\" style=\"fill: #1f77b4; fill-opacity: 0.7; stroke: #000000; stroke-opacity: 0.7\"/>\n     <use xlink:href=\"#m528635b79c\" x=\"323.64455\" y=\"127.315565\" style=\"fill: #1f77b4; fill-opacity: 0.7; stroke: #000000; stroke-opacity: 0.7\"/>\n     <use xlink:href=\"#m528635b79c\" x=\"222.426323\" y=\"208.677191\" style=\"fill: #1f77b4; fill-opacity: 0.7; stroke: #000000; stroke-opacity: 0.7\"/>\n     <use xlink:href=\"#m528635b79c\" x=\"249.467774\" y=\"158.342184\" style=\"fill: #1f77b4; fill-opacity: 0.7; stroke: #000000; stroke-opacity: 0.7\"/>\n     <use xlink:href=\"#m528635b79c\" x=\"247.777273\" y=\"163.82585\" style=\"fill: #1f77b4; fill-opacity: 0.7; stroke: #000000; stroke-opacity: 0.7\"/>\n     <use xlink:href=\"#m528635b79c\" x=\"174.118696\" y=\"219.53487\" style=\"fill: #1f77b4; fill-opacity: 0.7; stroke: #000000; stroke-opacity: 0.7\"/>\n     <use xlink:href=\"#m528635b79c\" x=\"326.376747\" y=\"137.220419\" style=\"fill: #1f77b4; fill-opacity: 0.7; stroke: #000000; stroke-opacity: 0.7\"/>\n     <use xlink:href=\"#m528635b79c\" x=\"239.845539\" y=\"169.653218\" style=\"fill: #1f77b4; fill-opacity: 0.7; stroke: #000000; stroke-opacity: 0.7\"/>\n     <use xlink:href=\"#m528635b79c\" x=\"283.446731\" y=\"151.200624\" style=\"fill: #1f77b4; fill-opacity: 0.7; stroke: #000000; stroke-opacity: 0.7\"/>\n     <use xlink:href=\"#m528635b79c\" x=\"325.813444\" y=\"135.142462\" style=\"fill: #1f77b4; fill-opacity: 0.7; stroke: #000000; stroke-opacity: 0.7\"/>\n     <use xlink:href=\"#m528635b79c\" x=\"322.717684\" y=\"134.282481\" style=\"fill: #1f77b4; fill-opacity: 0.7; stroke: #000000; stroke-opacity: 0.7\"/>\n     <use xlink:href=\"#m528635b79c\" x=\"342.519225\" y=\"126.652994\" style=\"fill: #1f77b4; fill-opacity: 0.7; stroke: #000000; stroke-opacity: 0.7\"/>\n     <use xlink:href=\"#m528635b79c\" x=\"273.405481\" y=\"154.855261\" style=\"fill: #1f77b4; fill-opacity: 0.7; stroke: #000000; stroke-opacity: 0.7\"/>\n     <use xlink:href=\"#m528635b79c\" x=\"244.016955\" y=\"156.127365\" style=\"fill: #1f77b4; fill-opacity: 0.7; stroke: #000000; stroke-opacity: 0.7\"/>\n     <use xlink:href=\"#m528635b79c\" x=\"275.103513\" y=\"207.321383\" style=\"fill: #1f77b4; fill-opacity: 0.7; stroke: #000000; stroke-opacity: 0.7\"/>\n     <use xlink:href=\"#m528635b79c\" x=\"129.649063\" y=\"228.153209\" style=\"fill: #1f77b4; fill-opacity: 0.7; stroke: #000000; stroke-opacity: 0.7\"/>\n     <use xlink:href=\"#m528635b79c\" x=\"151.383948\" y=\"212.877306\" style=\"fill: #1f77b4; fill-opacity: 0.7; stroke: #000000; stroke-opacity: 0.7\"/>\n     <use xlink:href=\"#m528635b79c\" x=\"162.640617\" y=\"206.182973\" style=\"fill: #1f77b4; fill-opacity: 0.7; stroke: #000000; stroke-opacity: 0.7\"/>\n     <use xlink:href=\"#m528635b79c\" x=\"192.087045\" y=\"200.052742\" style=\"fill: #1f77b4; fill-opacity: 0.7; stroke: #000000; stroke-opacity: 0.7\"/>\n     <use xlink:href=\"#m528635b79c\" x=\"318.487193\" y=\"163.059039\" style=\"fill: #1f77b4; fill-opacity: 0.7; stroke: #000000; stroke-opacity: 0.7\"/>\n     <use xlink:href=\"#m528635b79c\" x=\"200.390041\" y=\"187.803685\" style=\"fill: #1f77b4; fill-opacity: 0.7; stroke: #000000; stroke-opacity: 0.7\"/>\n     <use xlink:href=\"#m528635b79c\" x=\"248.100763\" y=\"152.083585\" style=\"fill: #1f77b4; fill-opacity: 0.7; stroke: #000000; stroke-opacity: 0.7\"/>\n     <use xlink:href=\"#m528635b79c\" x=\"399.868306\" y=\"119.456554\" style=\"fill: #1f77b4; fill-opacity: 0.7; stroke: #000000; stroke-opacity: 0.7\"/>\n     <use xlink:href=\"#m528635b79c\" x=\"250.082111\" y=\"158.648867\" style=\"fill: #1f77b4; fill-opacity: 0.7; stroke: #000000; stroke-opacity: 0.7\"/>\n     <use xlink:href=\"#m528635b79c\" x=\"349.04547\" y=\"124.509838\" style=\"fill: #1f77b4; fill-opacity: 0.7; stroke: #000000; stroke-opacity: 0.7\"/>\n     <use xlink:href=\"#m528635b79c\" x=\"197.844105\" y=\"193.430055\" style=\"fill: #1f77b4; fill-opacity: 0.7; stroke: #000000; stroke-opacity: 0.7\"/>\n     <use xlink:href=\"#m528635b79c\" x=\"263.728635\" y=\"175.772281\" style=\"fill: #1f77b4; fill-opacity: 0.7; stroke: #000000; stroke-opacity: 0.7\"/>\n     <use xlink:href=\"#m528635b79c\" x=\"196.359864\" y=\"197.525717\" style=\"fill: #1f77b4; fill-opacity: 0.7; stroke: #000000; stroke-opacity: 0.7\"/>\n     <use xlink:href=\"#m528635b79c\" x=\"251.641134\" y=\"153.946583\" style=\"fill: #1f77b4; fill-opacity: 0.7; stroke: #000000; stroke-opacity: 0.7\"/>\n     <use xlink:href=\"#m528635b79c\" x=\"358.345971\" y=\"109.687585\" style=\"fill: #1f77b4; fill-opacity: 0.7; stroke: #000000; stroke-opacity: 0.7\"/>\n     <use xlink:href=\"#m528635b79c\" x=\"126.031197\" y=\"210.357846\" style=\"fill: #1f77b4; fill-opacity: 0.7; stroke: #000000; stroke-opacity: 0.7\"/>\n     <use xlink:href=\"#m528635b79c\" x=\"321.622215\" y=\"121.592366\" style=\"fill: #1f77b4; fill-opacity: 0.7; stroke: #000000; stroke-opacity: 0.7\"/>\n     <use xlink:href=\"#m528635b79c\" x=\"303.826207\" y=\"137.211094\" style=\"fill: #1f77b4; fill-opacity: 0.7; stroke: #000000; stroke-opacity: 0.7\"/>\n     <use xlink:href=\"#m528635b79c\" x=\"228.558582\" y=\"161.286857\" style=\"fill: #1f77b4; fill-opacity: 0.7; stroke: #000000; stroke-opacity: 0.7\"/>\n     <use xlink:href=\"#m528635b79c\" x=\"151.479368\" y=\"209.989692\" style=\"fill: #1f77b4; fill-opacity: 0.7; stroke: #000000; stroke-opacity: 0.7\"/>\n     <use xlink:href=\"#m528635b79c\" x=\"288.842442\" y=\"140.474518\" style=\"fill: #1f77b4; fill-opacity: 0.7; stroke: #000000; stroke-opacity: 0.7\"/>\n     <use xlink:href=\"#m528635b79c\" x=\"234.408662\" y=\"178.863524\" style=\"fill: #1f77b4; fill-opacity: 0.7; stroke: #000000; stroke-opacity: 0.7\"/>\n     <use xlink:href=\"#m528635b79c\" x=\"303.368442\" y=\"141.521334\" style=\"fill: #1f77b4; fill-opacity: 0.7; stroke: #000000; stroke-opacity: 0.7\"/>\n     <use xlink:href=\"#m528635b79c\" x=\"284.29343\" y=\"160.473971\" style=\"fill: #1f77b4; fill-opacity: 0.7; stroke: #000000; stroke-opacity: 0.7\"/>\n     <use xlink:href=\"#m528635b79c\" x=\"427.242582\" y=\"72.838973\" style=\"fill: #1f77b4; fill-opacity: 0.7; stroke: #000000; stroke-opacity: 0.7\"/>\n     <use xlink:href=\"#m528635b79c\" x=\"260.659784\" y=\"179.347818\" style=\"fill: #1f77b4; fill-opacity: 0.7; stroke: #000000; stroke-opacity: 0.7\"/>\n     <use xlink:href=\"#m528635b79c\" x=\"189.711928\" y=\"188.26942\" style=\"fill: #1f77b4; fill-opacity: 0.7; stroke: #000000; stroke-opacity: 0.7\"/>\n     <use xlink:href=\"#m528635b79c\" x=\"298.536846\" y=\"146.89865\" style=\"fill: #1f77b4; fill-opacity: 0.7; stroke: #000000; stroke-opacity: 0.7\"/>\n     <use xlink:href=\"#m528635b79c\" x=\"302.221219\" y=\"130.915245\" style=\"fill: #1f77b4; fill-opacity: 0.7; stroke: #000000; stroke-opacity: 0.7\"/>\n     <use xlink:href=\"#m528635b79c\" x=\"405.293322\" y=\"85.589646\" style=\"fill: #1f77b4; fill-opacity: 0.7; stroke: #000000; stroke-opacity: 0.7\"/>\n     <use xlink:href=\"#m528635b79c\" x=\"357.875765\" y=\"98.904337\" style=\"fill: #1f77b4; fill-opacity: 0.7; stroke: #000000; stroke-opacity: 0.7\"/>\n     <use xlink:href=\"#m528635b79c\" x=\"314.605386\" y=\"129.108401\" style=\"fill: #1f77b4; fill-opacity: 0.7; stroke: #000000; stroke-opacity: 0.7\"/>\n     <use xlink:href=\"#m528635b79c\" x=\"414.713503\" y=\"113.138657\" style=\"fill: #1f77b4; fill-opacity: 0.7; stroke: #000000; stroke-opacity: 0.7\"/>\n     <use xlink:href=\"#m528635b79c\" x=\"174.758975\" y=\"204.525235\" style=\"fill: #1f77b4; fill-opacity: 0.7; stroke: #000000; stroke-opacity: 0.7\"/>\n     <use xlink:href=\"#m528635b79c\" x=\"224.432626\" y=\"196.545489\" style=\"fill: #1f77b4; fill-opacity: 0.7; stroke: #000000; stroke-opacity: 0.7\"/>\n     <use xlink:href=\"#m528635b79c\" x=\"198.48123\" y=\"198.950774\" style=\"fill: #1f77b4; fill-opacity: 0.7; stroke: #000000; stroke-opacity: 0.7\"/>\n     <use xlink:href=\"#m528635b79c\" x=\"247.04694\" y=\"154.348147\" style=\"fill: #1f77b4; fill-opacity: 0.7; stroke: #000000; stroke-opacity: 0.7\"/>\n     <use xlink:href=\"#m528635b79c\" x=\"157.756005\" y=\"204.959241\" style=\"fill: #1f77b4; fill-opacity: 0.7; stroke: #000000; stroke-opacity: 0.7\"/>\n     <use xlink:href=\"#m528635b79c\" x=\"339.783688\" y=\"133.987514\" style=\"fill: #1f77b4; fill-opacity: 0.7; stroke: #000000; stroke-opacity: 0.7\"/>\n     <use xlink:href=\"#m528635b79c\" x=\"262.209943\" y=\"175.85925\" style=\"fill: #1f77b4; fill-opacity: 0.7; stroke: #000000; stroke-opacity: 0.7\"/>\n     <use xlink:href=\"#m528635b79c\" x=\"149.24017\" y=\"215.540662\" style=\"fill: #1f77b4; fill-opacity: 0.7; stroke: #000000; stroke-opacity: 0.7\"/>\n     <use xlink:href=\"#m528635b79c\" x=\"190.428373\" y=\"213.562653\" style=\"fill: #1f77b4; fill-opacity: 0.7; stroke: #000000; stroke-opacity: 0.7\"/>\n     <use xlink:href=\"#m528635b79c\" x=\"310.682497\" y=\"147.489129\" style=\"fill: #1f77b4; fill-opacity: 0.7; stroke: #000000; stroke-opacity: 0.7\"/>\n     <use xlink:href=\"#m528635b79c\" x=\"358.148586\" y=\"112.613339\" style=\"fill: #1f77b4; fill-opacity: 0.7; stroke: #000000; stroke-opacity: 0.7\"/>\n     <use xlink:href=\"#m528635b79c\" x=\"462.977184\" y=\"54.262547\" style=\"fill: #1f77b4; fill-opacity: 0.7; stroke: #000000; stroke-opacity: 0.7\"/>\n     <use xlink:href=\"#m528635b79c\" x=\"545.957727\" y=\"19.8\" style=\"fill: #1f77b4; fill-opacity: 0.7; stroke: #000000; stroke-opacity: 0.7\"/>\n     <use xlink:href=\"#m528635b79c\" x=\"319.811362\" y=\"176.454089\" style=\"fill: #1f77b4; fill-opacity: 0.7; stroke: #000000; stroke-opacity: 0.7\"/>\n     <use xlink:href=\"#m528635b79c\" x=\"192.784516\" y=\"191.692133\" style=\"fill: #1f77b4; fill-opacity: 0.7; stroke: #000000; stroke-opacity: 0.7\"/>\n     <use xlink:href=\"#m528635b79c\" x=\"89.412273\" y=\"243.667179\" style=\"fill: #1f77b4; fill-opacity: 0.7; stroke: #000000; stroke-opacity: 0.7\"/>\n     <use xlink:href=\"#m528635b79c\" x=\"306.538373\" y=\"136.180309\" style=\"fill: #1f77b4; fill-opacity: 0.7; stroke: #000000; stroke-opacity: 0.7\"/>\n     <use xlink:href=\"#m528635b79c\" x=\"208.762722\" y=\"171.772463\" style=\"fill: #1f77b4; fill-opacity: 0.7; stroke: #000000; stroke-opacity: 0.7\"/>\n     <use xlink:href=\"#m528635b79c\" x=\"244.735448\" y=\"205.77101\" style=\"fill: #1f77b4; fill-opacity: 0.7; stroke: #000000; stroke-opacity: 0.7\"/>\n     <use xlink:href=\"#m528635b79c\" x=\"226.934781\" y=\"186.363617\" style=\"fill: #1f77b4; fill-opacity: 0.7; stroke: #000000; stroke-opacity: 0.7\"/>\n     <use xlink:href=\"#m528635b79c\" x=\"269.577758\" y=\"152.009579\" style=\"fill: #1f77b4; fill-opacity: 0.7; stroke: #000000; stroke-opacity: 0.7\"/>\n     <use xlink:href=\"#m528635b79c\" x=\"378.764407\" y=\"130.50773\" style=\"fill: #1f77b4; fill-opacity: 0.7; stroke: #000000; stroke-opacity: 0.7\"/>\n     <use xlink:href=\"#m528635b79c\" x=\"296.525778\" y=\"131.006032\" style=\"fill: #1f77b4; fill-opacity: 0.7; stroke: #000000; stroke-opacity: 0.7\"/>\n     <use xlink:href=\"#m528635b79c\" x=\"267.963267\" y=\"155.090793\" style=\"fill: #1f77b4; fill-opacity: 0.7; stroke: #000000; stroke-opacity: 0.7\"/>\n     <use xlink:href=\"#m528635b79c\" x=\"188.61205\" y=\"188.177875\" style=\"fill: #1f77b4; fill-opacity: 0.7; stroke: #000000; stroke-opacity: 0.7\"/>\n     <use xlink:href=\"#m528635b79c\" x=\"130.793749\" y=\"232.010484\" style=\"fill: #1f77b4; fill-opacity: 0.7; stroke: #000000; stroke-opacity: 0.7\"/>\n     <use xlink:href=\"#m528635b79c\" x=\"238.315951\" y=\"164.747962\" style=\"fill: #1f77b4; fill-opacity: 0.7; stroke: #000000; stroke-opacity: 0.7\"/>\n     <use xlink:href=\"#m528635b79c\" x=\"277.450128\" y=\"143.673094\" style=\"fill: #1f77b4; fill-opacity: 0.7; stroke: #000000; stroke-opacity: 0.7\"/>\n     <use xlink:href=\"#m528635b79c\" x=\"442.275651\" y=\"73.289157\" style=\"fill: #1f77b4; fill-opacity: 0.7; stroke: #000000; stroke-opacity: 0.7\"/>\n     <use xlink:href=\"#m528635b79c\" x=\"294.103307\" y=\"144.055781\" style=\"fill: #1f77b4; fill-opacity: 0.7; stroke: #000000; stroke-opacity: 0.7\"/>\n     <use xlink:href=\"#m528635b79c\" x=\"371.232925\" y=\"106.815684\" style=\"fill: #1f77b4; fill-opacity: 0.7; stroke: #000000; stroke-opacity: 0.7\"/>\n     <use xlink:href=\"#m528635b79c\" x=\"237.140846\" y=\"185.468434\" style=\"fill: #1f77b4; fill-opacity: 0.7; stroke: #000000; stroke-opacity: 0.7\"/>\n     <use xlink:href=\"#m528635b79c\" x=\"175.104537\" y=\"205.333465\" style=\"fill: #1f77b4; fill-opacity: 0.7; stroke: #000000; stroke-opacity: 0.7\"/>\n     <use xlink:href=\"#m528635b79c\" x=\"194.99412\" y=\"195.893061\" style=\"fill: #1f77b4; fill-opacity: 0.7; stroke: #000000; stroke-opacity: 0.7\"/>\n     <use xlink:href=\"#m528635b79c\" x=\"216.699033\" y=\"179.420205\" style=\"fill: #1f77b4; fill-opacity: 0.7; stroke: #000000; stroke-opacity: 0.7\"/>\n     <use xlink:href=\"#m528635b79c\" x=\"474.896695\" y=\"49.979554\" style=\"fill: #1f77b4; fill-opacity: 0.7; stroke: #000000; stroke-opacity: 0.7\"/>\n     <use xlink:href=\"#m528635b79c\" x=\"207.99858\" y=\"202.487744\" style=\"fill: #1f77b4; fill-opacity: 0.7; stroke: #000000; stroke-opacity: 0.7\"/>\n     <use xlink:href=\"#m528635b79c\" x=\"358.181397\" y=\"117.601568\" style=\"fill: #1f77b4; fill-opacity: 0.7; stroke: #000000; stroke-opacity: 0.7\"/>\n     <use xlink:href=\"#m528635b79c\" x=\"200.620931\" y=\"176.774656\" style=\"fill: #1f77b4; fill-opacity: 0.7; stroke: #000000; stroke-opacity: 0.7\"/>\n     <use xlink:href=\"#m528635b79c\" x=\"366.603465\" y=\"121.826602\" style=\"fill: #1f77b4; fill-opacity: 0.7; stroke: #000000; stroke-opacity: 0.7\"/>\n     <use xlink:href=\"#m528635b79c\" x=\"317.146009\" y=\"146.624326\" style=\"fill: #1f77b4; fill-opacity: 0.7; stroke: #000000; stroke-opacity: 0.7\"/>\n     <use xlink:href=\"#m528635b79c\" x=\"268.143947\" y=\"156.812169\" style=\"fill: #1f77b4; fill-opacity: 0.7; stroke: #000000; stroke-opacity: 0.7\"/>\n     <use xlink:href=\"#m528635b79c\" x=\"278.628158\" y=\"145.197249\" style=\"fill: #1f77b4; fill-opacity: 0.7; stroke: #000000; stroke-opacity: 0.7\"/>\n     <use xlink:href=\"#m528635b79c\" x=\"223.072179\" y=\"180.519328\" style=\"fill: #1f77b4; fill-opacity: 0.7; stroke: #000000; stroke-opacity: 0.7\"/>\n     <use xlink:href=\"#m528635b79c\" x=\"322.676157\" y=\"119.762477\" style=\"fill: #1f77b4; fill-opacity: 0.7; stroke: #000000; stroke-opacity: 0.7\"/>\n     <use xlink:href=\"#m528635b79c\" x=\"241.150133\" y=\"162.982642\" style=\"fill: #1f77b4; fill-opacity: 0.7; stroke: #000000; stroke-opacity: 0.7\"/>\n     <use xlink:href=\"#m528635b79c\" x=\"171.425507\" y=\"196.433516\" style=\"fill: #1f77b4; fill-opacity: 0.7; stroke: #000000; stroke-opacity: 0.7\"/>\n     <use xlink:href=\"#m528635b79c\" x=\"166.690612\" y=\"201.533248\" style=\"fill: #1f77b4; fill-opacity: 0.7; stroke: #000000; stroke-opacity: 0.7\"/>\n     <use xlink:href=\"#m528635b79c\" x=\"297.931753\" y=\"123.733023\" style=\"fill: #1f77b4; fill-opacity: 0.7; stroke: #000000; stroke-opacity: 0.7\"/>\n     <use xlink:href=\"#m528635b79c\" x=\"425.189842\" y=\"86.575069\" style=\"fill: #1f77b4; fill-opacity: 0.7; stroke: #000000; stroke-opacity: 0.7\"/>\n     <use xlink:href=\"#m528635b79c\" x=\"296.79206\" y=\"179.340659\" style=\"fill: #1f77b4; fill-opacity: 0.7; stroke: #000000; stroke-opacity: 0.7\"/>\n     <use xlink:href=\"#m528635b79c\" x=\"271.582085\" y=\"141.860596\" style=\"fill: #1f77b4; fill-opacity: 0.7; stroke: #000000; stroke-opacity: 0.7\"/>\n     <use xlink:href=\"#m528635b79c\" x=\"308.177359\" y=\"145.728925\" style=\"fill: #1f77b4; fill-opacity: 0.7; stroke: #000000; stroke-opacity: 0.7\"/>\n     <use xlink:href=\"#m528635b79c\" x=\"400.481156\" y=\"94.656064\" style=\"fill: #1f77b4; fill-opacity: 0.7; stroke: #000000; stroke-opacity: 0.7\"/>\n     <use xlink:href=\"#m528635b79c\" x=\"302.165649\" y=\"129.72818\" style=\"fill: #1f77b4; fill-opacity: 0.7; stroke: #000000; stroke-opacity: 0.7\"/>\n     <use xlink:href=\"#m528635b79c\" x=\"245.13627\" y=\"194.769864\" style=\"fill: #1f77b4; fill-opacity: 0.7; stroke: #000000; stroke-opacity: 0.7\"/>\n     <use xlink:href=\"#m528635b79c\" x=\"382.411452\" y=\"122.469044\" style=\"fill: #1f77b4; fill-opacity: 0.7; stroke: #000000; stroke-opacity: 0.7\"/>\n     <use xlink:href=\"#m528635b79c\" x=\"321.109456\" y=\"158.456348\" style=\"fill: #1f77b4; fill-opacity: 0.7; stroke: #000000; stroke-opacity: 0.7\"/>\n     <use xlink:href=\"#m528635b79c\" x=\"421.268939\" y=\"96.461442\" style=\"fill: #1f77b4; fill-opacity: 0.7; stroke: #000000; stroke-opacity: 0.7\"/>\n     <use xlink:href=\"#m528635b79c\" x=\"298.895032\" y=\"139.561004\" style=\"fill: #1f77b4; fill-opacity: 0.7; stroke: #000000; stroke-opacity: 0.7\"/>\n     <use xlink:href=\"#m528635b79c\" x=\"171.528357\" y=\"199.528405\" style=\"fill: #1f77b4; fill-opacity: 0.7; stroke: #000000; stroke-opacity: 0.7\"/>\n     <use xlink:href=\"#m528635b79c\" x=\"158.527509\" y=\"208.362449\" style=\"fill: #1f77b4; fill-opacity: 0.7; stroke: #000000; stroke-opacity: 0.7\"/>\n     <use xlink:href=\"#m528635b79c\" x=\"431.689505\" y=\"101.888724\" style=\"fill: #1f77b4; fill-opacity: 0.7; stroke: #000000; stroke-opacity: 0.7\"/>\n     <use xlink:href=\"#m528635b79c\" x=\"438.2707\" y=\"120.452071\" style=\"fill: #1f77b4; fill-opacity: 0.7; stroke: #000000; stroke-opacity: 0.7\"/>\n     <use xlink:href=\"#m528635b79c\" x=\"266.073683\" y=\"159.478093\" style=\"fill: #1f77b4; fill-opacity: 0.7; stroke: #000000; stroke-opacity: 0.7\"/>\n     <use xlink:href=\"#m528635b79c\" x=\"247.646131\" y=\"174.834205\" style=\"fill: #1f77b4; fill-opacity: 0.7; stroke: #000000; stroke-opacity: 0.7\"/>\n     <use xlink:href=\"#m528635b79c\" x=\"414.54534\" y=\"84.107257\" style=\"fill: #1f77b4; fill-opacity: 0.7; stroke: #000000; stroke-opacity: 0.7\"/>\n     <use xlink:href=\"#m528635b79c\" x=\"182.152627\" y=\"192.665411\" style=\"fill: #1f77b4; fill-opacity: 0.7; stroke: #000000; stroke-opacity: 0.7\"/>\n     <use xlink:href=\"#m528635b79c\" x=\"201.362867\" y=\"189.432319\" style=\"fill: #1f77b4; fill-opacity: 0.7; stroke: #000000; stroke-opacity: 0.7\"/>\n     <use xlink:href=\"#m528635b79c\" x=\"340.523426\" y=\"116.440715\" style=\"fill: #1f77b4; fill-opacity: 0.7; stroke: #000000; stroke-opacity: 0.7\"/>\n     <use xlink:href=\"#m528635b79c\" x=\"246.613067\" y=\"166.799605\" style=\"fill: #1f77b4; fill-opacity: 0.7; stroke: #000000; stroke-opacity: 0.7\"/>\n     <use xlink:href=\"#m528635b79c\" x=\"281.852866\" y=\"146.76498\" style=\"fill: #1f77b4; fill-opacity: 0.7; stroke: #000000; stroke-opacity: 0.7\"/>\n     <use xlink:href=\"#m528635b79c\" x=\"267.528242\" y=\"168.587858\" style=\"fill: #1f77b4; fill-opacity: 0.7; stroke: #000000; stroke-opacity: 0.7\"/>\n    </g>\n   </g>\n  </g>\n </g>\n <defs>\n  <clipPath id=\"pd7c123a57d\">\n   <rect x=\"66.585\" y=\"7.2\" width=\"502.2\" height=\"277.2\"/>\n  </clipPath>\n </defs>\n</svg>\n"
     },
     "metadata": {},
     "output_type": "display_data"
    }
   ],
   "execution_count": 73
  },
  {
   "cell_type": "markdown",
   "metadata": {},
   "source": [
    "## Color"
   ]
  },
  {
   "cell_type": "code",
   "metadata": {
    "ExecuteTime": {
     "end_time": "2025-03-18T13:51:03.363109Z",
     "start_time": "2025-03-18T13:51:03.359Z"
    }
   },
   "source": [
    "# Some helper functions\n",
    "def plot_color_gradients(cmap_list, patchh=0.22):\n",
    "    \n",
    "    gradient = np.linspace(0, 1, 256)\n",
    "    gradient = np.vstack((gradient, gradient))\n",
    "\n",
    "    # Create figure and adjust figure height to number of colormaps\n",
    "    nrows = len(cmap_list)\n",
    "    figh = 0.35 + 0.15 + (nrows + (nrows - 1) * 0.1) * patchh\n",
    "    fig, axs = plt.subplots(nrows=nrows + 1, figsize=(6.4, figh))\n",
    "    fig.subplots_adjust(top=1 - 0.35 / figh, bottom=0.15 / figh,\n",
    "                        left=0.2, right=0.99)\n",
    "    # axs[0].set_title(f'{category} colormaps', fontsize=14)\n",
    "\n",
    "    for ax, name in zip(axs, cmap_list):\n",
    "        ax.imshow(gradient, aspect='auto', cmap=mpl.colormaps[name])\n",
    "        ax.text(-0.01, 0.5, name, va='center', ha='right', fontsize=10,\n",
    "                transform=ax.transAxes)\n",
    "\n",
    "    # Turn off *all* ticks & spines, not just the ones with colormaps.\n",
    "    for ax in axs:\n",
    "        ax.set_axis_off()\n",
    "\n",
    "# plot a grid of square patches from a list of color definitions\n",
    "def plot_color_grid(colors):\n",
    "    _, ax = plt.subplots(1, 1, figsize=(len(colors), 1))\n",
    "\n",
    "    for i, color in enumerate(colors):\n",
    "        rect = mpl.patches.Rectangle((i, 0), 1, 1, facecolor=color)\n",
    "        ax.add_patch(rect)\n",
    "\n",
    "    ax.set_xlim(0, len(colors))\n",
    "    ax.set_ylim(0, 1)\n",
    "    ax.axis('off')  # Hide axes\n",
    "    plt.show()\n",
    "\n",
    "def rgb_adjust_ls(rgb, l=None, s=None):\n",
    "    c = colorsys.rgb_to_hls(*rgb)\n",
    "    if l==None:\n",
    "        l=c[1]\n",
    "    if s==None:\n",
    "        s=c[2]\n",
    "    return colorsys.hls_to_rgb(c[0], max(0.0, min(1.0, l)), max(0.0, min(1.0, s)))"
   ],
   "outputs": [],
   "execution_count": 74
  },
  {
   "cell_type": "markdown",
   "metadata": {},
   "source": [
    "Named colors in matplotlib:"
   ]
  },
  {
   "cell_type": "code",
   "metadata": {
    "ExecuteTime": {
     "end_time": "2025-03-18T13:51:03.371420Z",
     "start_time": "2025-03-18T13:51:03.368626Z"
    }
   },
   "source": [
    "# mpl.colors.BASE_COLORS.keys()\n",
    "# mpl.colors.TABLEAU_COLORS.keys()\n",
    "mpl.colors.CSS4_COLORS.keys()\n",
    "# mpl.colors.XKCD_COLORS.keys()"
   ],
   "outputs": [
    {
     "data": {
      "text/plain": [
       "dict_keys(['aliceblue', 'antiquewhite', 'aqua', 'aquamarine', 'azure', 'beige', 'bisque', 'black', 'blanchedalmond', 'blue', 'blueviolet', 'brown', 'burlywood', 'cadetblue', 'chartreuse', 'chocolate', 'coral', 'cornflowerblue', 'cornsilk', 'crimson', 'cyan', 'darkblue', 'darkcyan', 'darkgoldenrod', 'darkgray', 'darkgreen', 'darkgrey', 'darkkhaki', 'darkmagenta', 'darkolivegreen', 'darkorange', 'darkorchid', 'darkred', 'darksalmon', 'darkseagreen', 'darkslateblue', 'darkslategray', 'darkslategrey', 'darkturquoise', 'darkviolet', 'deeppink', 'deepskyblue', 'dimgray', 'dimgrey', 'dodgerblue', 'firebrick', 'floralwhite', 'forestgreen', 'fuchsia', 'gainsboro', 'ghostwhite', 'gold', 'goldenrod', 'gray', 'green', 'greenyellow', 'grey', 'honeydew', 'hotpink', 'indianred', 'indigo', 'ivory', 'khaki', 'lavender', 'lavenderblush', 'lawngreen', 'lemonchiffon', 'lightblue', 'lightcoral', 'lightcyan', 'lightgoldenrodyellow', 'lightgray', 'lightgreen', 'lightgrey', 'lightpink', 'lightsalmon', 'lightseagreen', 'lightskyblue', 'lightslategray', 'lightslategrey', 'lightsteelblue', 'lightyellow', 'lime', 'limegreen', 'linen', 'magenta', 'maroon', 'mediumaquamarine', 'mediumblue', 'mediumorchid', 'mediumpurple', 'mediumseagreen', 'mediumslateblue', 'mediumspringgreen', 'mediumturquoise', 'mediumvioletred', 'midnightblue', 'mintcream', 'mistyrose', 'moccasin', 'navajowhite', 'navy', 'oldlace', 'olive', 'olivedrab', 'orange', 'orangered', 'orchid', 'palegoldenrod', 'palegreen', 'paleturquoise', 'palevioletred', 'papayawhip', 'peachpuff', 'peru', 'pink', 'plum', 'powderblue', 'purple', 'rebeccapurple', 'red', 'rosybrown', 'royalblue', 'saddlebrown', 'salmon', 'sandybrown', 'seagreen', 'seashell', 'sienna', 'silver', 'skyblue', 'slateblue', 'slategray', 'slategrey', 'snow', 'springgreen', 'steelblue', 'tan', 'teal', 'thistle', 'tomato', 'turquoise', 'violet', 'wheat', 'white', 'whitesmoke', 'yellow', 'yellowgreen'])"
      ]
     },
     "execution_count": 75,
     "metadata": {},
     "output_type": "execute_result"
    }
   ],
   "execution_count": 75
  },
  {
   "cell_type": "code",
   "metadata": {
    "ExecuteTime": {
     "end_time": "2025-03-18T13:51:03.388033Z",
     "start_time": "2025-03-18T13:51:03.385241Z"
    }
   },
   "source": [
    "mpl.colors.to_rgb('mediumorchid')"
   ],
   "outputs": [
    {
     "data": {
      "text/plain": [
       "(0.7294117647058823, 0.3333333333333333, 0.8274509803921568)"
      ]
     },
     "execution_count": 76,
     "metadata": {},
     "output_type": "execute_result"
    }
   ],
   "execution_count": 76
  },
  {
   "cell_type": "markdown",
   "metadata": {},
   "source": [
    "![Munstell Color System. Source: Wikipedia](https://upload.wikimedia.org/wikipedia/commons/d/d5/Munsell-system.svg)  \n",
    "Source: Wikipedia - https://upload.wikimedia.org/wikipedia/commons/d/d5/Munsell-system.svg\n",
    "\n",
    "* Hue: another word for color\n",
    "* Lightness (value): the relative degree of black or white mixed with a given hue\n",
    "* Saturation (chroma): the intensity or purity of a hue"
   ]
  },
  {
   "cell_type": "code",
   "metadata": {
    "ExecuteTime": {
     "end_time": "2025-03-18T13:51:03.444152Z",
     "start_time": "2025-03-18T13:51:03.401281Z"
    }
   },
   "source": "plot_color_grid([colorsys.hls_to_rgb(0.5,0.5,0.5)])",
   "outputs": [
    {
     "data": {
      "text/plain": [
       "<Figure size 100x100 with 1 Axes>"
      ],
      "image/svg+xml": "<?xml version=\"1.0\" encoding=\"utf-8\" standalone=\"no\"?>\n<!DOCTYPE svg PUBLIC \"-//W3C//DTD SVG 1.1//EN\"\n  \"http://www.w3.org/Graphics/SVG/1.1/DTD/svg11.dtd\">\n<svg xmlns:xlink=\"http://www.w3.org/1999/xlink\" width=\"70.2pt\" height=\"69.84pt\" viewBox=\"0 0 70.2 69.84\" xmlns=\"http://www.w3.org/2000/svg\" version=\"1.1\">\n <metadata>\n  <rdf:RDF xmlns:dc=\"http://purl.org/dc/elements/1.1/\" xmlns:cc=\"http://creativecommons.org/ns#\" xmlns:rdf=\"http://www.w3.org/1999/02/22-rdf-syntax-ns#\">\n   <cc:Work>\n    <dc:type rdf:resource=\"http://purl.org/dc/dcmitype/StillImage\"/>\n    <dc:date>2025-03-18T14:51:03.441916</dc:date>\n    <dc:format>image/svg+xml</dc:format>\n    <dc:creator>\n     <cc:Agent>\n      <dc:title>Matplotlib v3.10.0, https://matplotlib.org/</dc:title>\n     </cc:Agent>\n    </dc:creator>\n   </cc:Work>\n  </rdf:RDF>\n </metadata>\n <defs>\n  <style type=\"text/css\">*{stroke-linejoin: round; stroke-linecap: butt}</style>\n </defs>\n <g id=\"figure_1\">\n  <g id=\"patch_1\">\n   <path d=\"M 0 69.84 \nL 70.2 69.84 \nL 70.2 0 \nL 0 0 \nz\n\" style=\"fill: #ffffff\"/>\n  </g>\n  <g id=\"axes_1\">\n   <g id=\"patch_2\">\n    <path d=\"M 7.2 62.64 \nL 63 62.64 \nL 63 7.2 \nL 7.2 7.2 \nz\n\" clip-path=\"url(#pe5e397a23a)\" style=\"fill: #40bfbf\"/>\n   </g>\n  </g>\n </g>\n <defs>\n  <clipPath id=\"pe5e397a23a\">\n   <rect x=\"7.2\" y=\"7.2\" width=\"55.8\" height=\"55.44\"/>\n  </clipPath>\n </defs>\n</svg>\n"
     },
     "metadata": {},
     "output_type": "display_data"
    }
   ],
   "execution_count": 77
  },
  {
   "cell_type": "code",
   "metadata": {
    "ExecuteTime": {
     "end_time": "2025-03-18T13:51:03.460378Z",
     "start_time": "2025-03-18T13:51:03.450287Z"
    }
   },
   "source": [
    "plot_color_grid([colorsys.hls_to_rgb(h,0.5,1.0) for h in np.linspace(0, 0.9, 10)])"
   ],
   "outputs": [
    {
     "data": {
      "text/plain": [
       "<Figure size 1000x100 with 1 Axes>"
      ],
      "image/svg+xml": "<?xml version=\"1.0\" encoding=\"utf-8\" standalone=\"no\"?>\n<!DOCTYPE svg PUBLIC \"-//W3C//DTD SVG 1.1//EN\"\n  \"http://www.w3.org/Graphics/SVG/1.1/DTD/svg11.dtd\">\n<svg xmlns:xlink=\"http://www.w3.org/1999/xlink\" width=\"572.4pt\" height=\"69.84pt\" viewBox=\"0 0 572.4 69.84\" xmlns=\"http://www.w3.org/2000/svg\" version=\"1.1\">\n <metadata>\n  <rdf:RDF xmlns:dc=\"http://purl.org/dc/elements/1.1/\" xmlns:cc=\"http://creativecommons.org/ns#\" xmlns:rdf=\"http://www.w3.org/1999/02/22-rdf-syntax-ns#\">\n   <cc:Work>\n    <dc:type rdf:resource=\"http://purl.org/dc/dcmitype/StillImage\"/>\n    <dc:date>2025-03-18T14:51:03.457318</dc:date>\n    <dc:format>image/svg+xml</dc:format>\n    <dc:creator>\n     <cc:Agent>\n      <dc:title>Matplotlib v3.10.0, https://matplotlib.org/</dc:title>\n     </cc:Agent>\n    </dc:creator>\n   </cc:Work>\n  </rdf:RDF>\n </metadata>\n <defs>\n  <style type=\"text/css\">*{stroke-linejoin: round; stroke-linecap: butt}</style>\n </defs>\n <g id=\"figure_1\">\n  <g id=\"patch_1\">\n   <path d=\"M 0 69.84 \nL 572.4 69.84 \nL 572.4 0 \nL 0 0 \nz\n\" style=\"fill: #ffffff\"/>\n  </g>\n  <g id=\"axes_1\">\n   <g id=\"patch_2\">\n    <path d=\"M 7.2 62.64 \nL 63 62.64 \nL 63 7.2 \nL 7.2 7.2 \nz\n\" clip-path=\"url(#p55abecdcf2)\" style=\"fill: #ff0000\"/>\n   </g>\n   <g id=\"patch_3\">\n    <path d=\"M 63 62.64 \nL 118.8 62.64 \nL 118.8 7.2 \nL 63 7.2 \nz\n\" clip-path=\"url(#p55abecdcf2)\" style=\"fill: #ff9900\"/>\n   </g>\n   <g id=\"patch_4\">\n    <path d=\"M 118.8 62.64 \nL 174.6 62.64 \nL 174.6 7.2 \nL 118.8 7.2 \nz\n\" clip-path=\"url(#p55abecdcf2)\" style=\"fill: #ccff00\"/>\n   </g>\n   <g id=\"patch_5\">\n    <path d=\"M 174.6 62.64 \nL 230.4 62.64 \nL 230.4 7.2 \nL 174.6 7.2 \nz\n\" clip-path=\"url(#p55abecdcf2)\" style=\"fill: #33ff00\"/>\n   </g>\n   <g id=\"patch_6\">\n    <path d=\"M 230.4 62.64 \nL 286.2 62.64 \nL 286.2 7.2 \nL 230.4 7.2 \nz\n\" clip-path=\"url(#p55abecdcf2)\" style=\"fill: #00ff66\"/>\n   </g>\n   <g id=\"patch_7\">\n    <path d=\"M 286.2 62.64 \nL 342 62.64 \nL 342 7.2 \nL 286.2 7.2 \nz\n\" clip-path=\"url(#p55abecdcf2)\" style=\"fill: #00ffff\"/>\n   </g>\n   <g id=\"patch_8\">\n    <path d=\"M 342 62.64 \nL 397.8 62.64 \nL 397.8 7.2 \nL 342 7.2 \nz\n\" clip-path=\"url(#p55abecdcf2)\" style=\"fill: #0066ff\"/>\n   </g>\n   <g id=\"patch_9\">\n    <path d=\"M 397.8 62.64 \nL 453.6 62.64 \nL 453.6 7.2 \nL 397.8 7.2 \nz\n\" clip-path=\"url(#p55abecdcf2)\" style=\"fill: #3300ff\"/>\n   </g>\n   <g id=\"patch_10\">\n    <path d=\"M 453.6 62.64 \nL 509.4 62.64 \nL 509.4 7.2 \nL 453.6 7.2 \nz\n\" clip-path=\"url(#p55abecdcf2)\" style=\"fill: #cc00ff\"/>\n   </g>\n   <g id=\"patch_11\">\n    <path d=\"M 509.4 62.64 \nL 565.2 62.64 \nL 565.2 7.2 \nL 509.4 7.2 \nz\n\" clip-path=\"url(#p55abecdcf2)\" style=\"fill: #ff0099\"/>\n   </g>\n  </g>\n </g>\n <defs>\n  <clipPath id=\"p55abecdcf2\">\n   <rect x=\"7.2\" y=\"7.2\" width=\"558\" height=\"55.44\"/>\n  </clipPath>\n </defs>\n</svg>\n"
     },
     "metadata": {},
     "output_type": "display_data"
    }
   ],
   "execution_count": 78
  },
  {
   "cell_type": "code",
   "metadata": {
    "ExecuteTime": {
     "end_time": "2025-03-18T13:51:03.479992Z",
     "start_time": "2025-03-18T13:51:03.469187Z"
    }
   },
   "source": "plot_color_grid([colorsys.hls_to_rgb(h,0.5,0.3) for h in np.linspace(0, 0.9, 10)])",
   "outputs": [
    {
     "data": {
      "text/plain": [
       "<Figure size 1000x100 with 1 Axes>"
      ],
      "image/svg+xml": "<?xml version=\"1.0\" encoding=\"utf-8\" standalone=\"no\"?>\n<!DOCTYPE svg PUBLIC \"-//W3C//DTD SVG 1.1//EN\"\n  \"http://www.w3.org/Graphics/SVG/1.1/DTD/svg11.dtd\">\n<svg xmlns:xlink=\"http://www.w3.org/1999/xlink\" width=\"572.4pt\" height=\"69.84pt\" viewBox=\"0 0 572.4 69.84\" xmlns=\"http://www.w3.org/2000/svg\" version=\"1.1\">\n <metadata>\n  <rdf:RDF xmlns:dc=\"http://purl.org/dc/elements/1.1/\" xmlns:cc=\"http://creativecommons.org/ns#\" xmlns:rdf=\"http://www.w3.org/1999/02/22-rdf-syntax-ns#\">\n   <cc:Work>\n    <dc:type rdf:resource=\"http://purl.org/dc/dcmitype/StillImage\"/>\n    <dc:date>2025-03-18T14:51:03.476784</dc:date>\n    <dc:format>image/svg+xml</dc:format>\n    <dc:creator>\n     <cc:Agent>\n      <dc:title>Matplotlib v3.10.0, https://matplotlib.org/</dc:title>\n     </cc:Agent>\n    </dc:creator>\n   </cc:Work>\n  </rdf:RDF>\n </metadata>\n <defs>\n  <style type=\"text/css\">*{stroke-linejoin: round; stroke-linecap: butt}</style>\n </defs>\n <g id=\"figure_1\">\n  <g id=\"patch_1\">\n   <path d=\"M 0 69.84 \nL 572.4 69.84 \nL 572.4 0 \nL 0 0 \nz\n\" style=\"fill: #ffffff\"/>\n  </g>\n  <g id=\"axes_1\">\n   <g id=\"patch_2\">\n    <path d=\"M 7.2 62.64 \nL 63 62.64 \nL 63 7.2 \nL 7.2 7.2 \nz\n\" clip-path=\"url(#pf243dc40aa)\" style=\"fill: #a65959\"/>\n   </g>\n   <g id=\"patch_3\">\n    <path d=\"M 63 62.64 \nL 118.8 62.64 \nL 118.8 7.2 \nL 63 7.2 \nz\n\" clip-path=\"url(#pf243dc40aa)\" style=\"fill: #a68759\"/>\n   </g>\n   <g id=\"patch_4\">\n    <path d=\"M 118.8 62.64 \nL 174.6 62.64 \nL 174.6 7.2 \nL 118.8 7.2 \nz\n\" clip-path=\"url(#pf243dc40aa)\" style=\"fill: #96a659\"/>\n   </g>\n   <g id=\"patch_5\">\n    <path d=\"M 174.6 62.64 \nL 230.4 62.64 \nL 230.4 7.2 \nL 174.6 7.2 \nz\n\" clip-path=\"url(#pf243dc40aa)\" style=\"fill: #69a659\"/>\n   </g>\n   <g id=\"patch_6\">\n    <path d=\"M 230.4 62.64 \nL 286.2 62.64 \nL 286.2 7.2 \nL 230.4 7.2 \nz\n\" clip-path=\"url(#pf243dc40aa)\" style=\"fill: #59a678\"/>\n   </g>\n   <g id=\"patch_7\">\n    <path d=\"M 286.2 62.64 \nL 342 62.64 \nL 342 7.2 \nL 286.2 7.2 \nz\n\" clip-path=\"url(#pf243dc40aa)\" style=\"fill: #59a6a6\"/>\n   </g>\n   <g id=\"patch_8\">\n    <path d=\"M 342 62.64 \nL 397.8 62.64 \nL 397.8 7.2 \nL 342 7.2 \nz\n\" clip-path=\"url(#pf243dc40aa)\" style=\"fill: #5978a6\"/>\n   </g>\n   <g id=\"patch_9\">\n    <path d=\"M 397.8 62.64 \nL 453.6 62.64 \nL 453.6 7.2 \nL 397.8 7.2 \nz\n\" clip-path=\"url(#pf243dc40aa)\" style=\"fill: #6959a6\"/>\n   </g>\n   <g id=\"patch_10\">\n    <path d=\"M 453.6 62.64 \nL 509.4 62.64 \nL 509.4 7.2 \nL 453.6 7.2 \nz\n\" clip-path=\"url(#pf243dc40aa)\" style=\"fill: #9659a6\"/>\n   </g>\n   <g id=\"patch_11\">\n    <path d=\"M 509.4 62.64 \nL 565.2 62.64 \nL 565.2 7.2 \nL 509.4 7.2 \nz\n\" clip-path=\"url(#pf243dc40aa)\" style=\"fill: #a65987\"/>\n   </g>\n  </g>\n </g>\n <defs>\n  <clipPath id=\"pf243dc40aa\">\n   <rect x=\"7.2\" y=\"7.2\" width=\"558\" height=\"55.44\"/>\n  </clipPath>\n </defs>\n</svg>\n"
     },
     "metadata": {},
     "output_type": "display_data"
    }
   ],
   "execution_count": 79
  },
  {
   "metadata": {
    "ExecuteTime": {
     "end_time": "2025-03-18T13:51:03.497655Z",
     "start_time": "2025-03-18T13:51:03.487434Z"
    }
   },
   "cell_type": "code",
   "source": "plot_color_grid([colorsys.hls_to_rgb(h,0.85,1) for h in np.linspace(0, 0.9, 10)])\n",
   "outputs": [
    {
     "data": {
      "text/plain": [
       "<Figure size 1000x100 with 1 Axes>"
      ],
      "image/svg+xml": "<?xml version=\"1.0\" encoding=\"utf-8\" standalone=\"no\"?>\n<!DOCTYPE svg PUBLIC \"-//W3C//DTD SVG 1.1//EN\"\n  \"http://www.w3.org/Graphics/SVG/1.1/DTD/svg11.dtd\">\n<svg xmlns:xlink=\"http://www.w3.org/1999/xlink\" width=\"572.4pt\" height=\"69.84pt\" viewBox=\"0 0 572.4 69.84\" xmlns=\"http://www.w3.org/2000/svg\" version=\"1.1\">\n <metadata>\n  <rdf:RDF xmlns:dc=\"http://purl.org/dc/elements/1.1/\" xmlns:cc=\"http://creativecommons.org/ns#\" xmlns:rdf=\"http://www.w3.org/1999/02/22-rdf-syntax-ns#\">\n   <cc:Work>\n    <dc:type rdf:resource=\"http://purl.org/dc/dcmitype/StillImage\"/>\n    <dc:date>2025-03-18T14:51:03.494071</dc:date>\n    <dc:format>image/svg+xml</dc:format>\n    <dc:creator>\n     <cc:Agent>\n      <dc:title>Matplotlib v3.10.0, https://matplotlib.org/</dc:title>\n     </cc:Agent>\n    </dc:creator>\n   </cc:Work>\n  </rdf:RDF>\n </metadata>\n <defs>\n  <style type=\"text/css\">*{stroke-linejoin: round; stroke-linecap: butt}</style>\n </defs>\n <g id=\"figure_1\">\n  <g id=\"patch_1\">\n   <path d=\"M 0 69.84 \nL 572.4 69.84 \nL 572.4 0 \nL 0 0 \nz\n\" style=\"fill: #ffffff\"/>\n  </g>\n  <g id=\"axes_1\">\n   <g id=\"patch_2\">\n    <path d=\"M 7.2 62.64 \nL 63 62.64 \nL 63 7.2 \nL 7.2 7.2 \nz\n\" clip-path=\"url(#p48a2614c12)\" style=\"fill: #ffb2b2\"/>\n   </g>\n   <g id=\"patch_3\">\n    <path d=\"M 63 62.64 \nL 118.8 62.64 \nL 118.8 7.2 \nL 63 7.2 \nz\n\" clip-path=\"url(#p48a2614c12)\" style=\"fill: #ffe0b2\"/>\n   </g>\n   <g id=\"patch_4\">\n    <path d=\"M 118.8 62.64 \nL 174.6 62.64 \nL 174.6 7.2 \nL 118.8 7.2 \nz\n\" clip-path=\"url(#p48a2614c12)\" style=\"fill: #f0ffb2\"/>\n   </g>\n   <g id=\"patch_5\">\n    <path d=\"M 174.6 62.64 \nL 230.4 62.64 \nL 230.4 7.2 \nL 174.6 7.2 \nz\n\" clip-path=\"url(#p48a2614c12)\" style=\"fill: #c2ffb2\"/>\n   </g>\n   <g id=\"patch_6\">\n    <path d=\"M 230.4 62.64 \nL 286.2 62.64 \nL 286.2 7.2 \nL 230.4 7.2 \nz\n\" clip-path=\"url(#p48a2614c12)\" style=\"fill: #b2ffd1\"/>\n   </g>\n   <g id=\"patch_7\">\n    <path d=\"M 286.2 62.64 \nL 342 62.64 \nL 342 7.2 \nL 286.2 7.2 \nz\n\" clip-path=\"url(#p48a2614c12)\" style=\"fill: #b2ffff\"/>\n   </g>\n   <g id=\"patch_8\">\n    <path d=\"M 342 62.64 \nL 397.8 62.64 \nL 397.8 7.2 \nL 342 7.2 \nz\n\" clip-path=\"url(#p48a2614c12)\" style=\"fill: #b2d1ff\"/>\n   </g>\n   <g id=\"patch_9\">\n    <path d=\"M 397.8 62.64 \nL 453.6 62.64 \nL 453.6 7.2 \nL 397.8 7.2 \nz\n\" clip-path=\"url(#p48a2614c12)\" style=\"fill: #c2b2ff\"/>\n   </g>\n   <g id=\"patch_10\">\n    <path d=\"M 453.6 62.64 \nL 509.4 62.64 \nL 509.4 7.2 \nL 453.6 7.2 \nz\n\" clip-path=\"url(#p48a2614c12)\" style=\"fill: #f0b2ff\"/>\n   </g>\n   <g id=\"patch_11\">\n    <path d=\"M 509.4 62.64 \nL 565.2 62.64 \nL 565.2 7.2 \nL 509.4 7.2 \nz\n\" clip-path=\"url(#p48a2614c12)\" style=\"fill: #ffb2e0\"/>\n   </g>\n  </g>\n </g>\n <defs>\n  <clipPath id=\"p48a2614c12\">\n   <rect x=\"7.2\" y=\"7.2\" width=\"558\" height=\"55.44\"/>\n  </clipPath>\n </defs>\n</svg>\n"
     },
     "metadata": {},
     "output_type": "display_data"
    }
   ],
   "execution_count": 80
  },
  {
   "cell_type": "code",
   "metadata": {
    "ExecuteTime": {
     "end_time": "2025-03-18T13:51:03.507990Z",
     "start_time": "2025-03-18T13:51:03.505819Z"
    }
   },
   "source": [
    "mpl.colors.to_rgb('mediumorchid')"
   ],
   "outputs": [
    {
     "data": {
      "text/plain": [
       "(0.7294117647058823, 0.3333333333333333, 0.8274509803921568)"
      ]
     },
     "execution_count": 81,
     "metadata": {},
     "output_type": "execute_result"
    }
   ],
   "execution_count": 81
  },
  {
   "cell_type": "code",
   "metadata": {
    "ExecuteTime": {
     "end_time": "2025-03-18T13:51:03.524553Z",
     "start_time": "2025-03-18T13:51:03.522330Z"
    }
   },
   "source": [
    "colorsys.rgb_to_hls(*mpl.colors.to_rgb('mediumorchid'))"
   ],
   "outputs": [
    {
     "data": {
      "text/plain": [
       "(0.8002645502645502, 0.580392156862745, 0.5887850467289718)"
      ]
     },
     "execution_count": 82,
     "metadata": {},
     "output_type": "execute_result"
    }
   ],
   "execution_count": 82
  },
  {
   "cell_type": "code",
   "metadata": {
    "ExecuteTime": {
     "end_time": "2025-03-18T13:51:03.548452Z",
     "start_time": "2025-03-18T13:51:03.541488Z"
    }
   },
   "source": "plot_color_grid([mpl.colors.to_rgb('mediumorchid')])",
   "outputs": [
    {
     "data": {
      "text/plain": [
       "<Figure size 100x100 with 1 Axes>"
      ],
      "image/svg+xml": "<?xml version=\"1.0\" encoding=\"utf-8\" standalone=\"no\"?>\n<!DOCTYPE svg PUBLIC \"-//W3C//DTD SVG 1.1//EN\"\n  \"http://www.w3.org/Graphics/SVG/1.1/DTD/svg11.dtd\">\n<svg xmlns:xlink=\"http://www.w3.org/1999/xlink\" width=\"70.2pt\" height=\"69.84pt\" viewBox=\"0 0 70.2 69.84\" xmlns=\"http://www.w3.org/2000/svg\" version=\"1.1\">\n <metadata>\n  <rdf:RDF xmlns:dc=\"http://purl.org/dc/elements/1.1/\" xmlns:cc=\"http://creativecommons.org/ns#\" xmlns:rdf=\"http://www.w3.org/1999/02/22-rdf-syntax-ns#\">\n   <cc:Work>\n    <dc:type rdf:resource=\"http://purl.org/dc/dcmitype/StillImage\"/>\n    <dc:date>2025-03-18T14:51:03.545914</dc:date>\n    <dc:format>image/svg+xml</dc:format>\n    <dc:creator>\n     <cc:Agent>\n      <dc:title>Matplotlib v3.10.0, https://matplotlib.org/</dc:title>\n     </cc:Agent>\n    </dc:creator>\n   </cc:Work>\n  </rdf:RDF>\n </metadata>\n <defs>\n  <style type=\"text/css\">*{stroke-linejoin: round; stroke-linecap: butt}</style>\n </defs>\n <g id=\"figure_1\">\n  <g id=\"patch_1\">\n   <path d=\"M 0 69.84 \nL 70.2 69.84 \nL 70.2 0 \nL 0 0 \nz\n\" style=\"fill: #ffffff\"/>\n  </g>\n  <g id=\"axes_1\">\n   <g id=\"patch_2\">\n    <path d=\"M 7.2 62.64 \nL 63 62.64 \nL 63 7.2 \nL 7.2 7.2 \nz\n\" clip-path=\"url(#p8c4b76d548)\" style=\"fill: #ba55d3\"/>\n   </g>\n  </g>\n </g>\n <defs>\n  <clipPath id=\"p8c4b76d548\">\n   <rect x=\"7.2\" y=\"7.2\" width=\"55.8\" height=\"55.44\"/>\n  </clipPath>\n </defs>\n</svg>\n"
     },
     "metadata": {},
     "output_type": "display_data"
    }
   ],
   "execution_count": 83
  },
  {
   "cell_type": "markdown",
   "metadata": {},
   "source": [
    "A hex color code is a 6‑symbol code made of up to three 2‑symbol elements: `#rrggbb`\n",
    "\n",
    "Where rr (red), gg (green) and bb (blue) are hexadecimal integers between `00` (0) and `ff` (255), specifying the intensity of the color.\n",
    "\n",
    "Hexadecimal uses sixteen distinct symbols, most often the symbols \"0\"–\"9\" to represent values 0 to 9, and \"A\"–\"F\" (or alternatively \"a\"–\"f\") to represent values from 10 to 15.\n",
    "\n",
    "To convert a hexadecimal number to decimal, each digit is multiplied by the corresponding power of 16 and then the products are added together. The rightmost digit represents the units place, the next digit to the left represents the 16s place, the next digit represents the 256s place, and so on.\n",
    "\n",
    "**To do: Calculate** `#3B` = "
   ]
  },
  {
   "cell_type": "code",
   "metadata": {
    "ExecuteTime": {
     "end_time": "2025-03-18T13:51:03.555192Z",
     "start_time": "2025-03-18T13:51:03.553902Z"
    }
   },
   "source": [],
   "outputs": [],
   "execution_count": null
  },
  {
   "cell_type": "code",
   "metadata": {
    "ExecuteTime": {
     "end_time": "2025-03-18T13:51:03.563059Z",
     "start_time": "2025-03-18T13:51:03.560781Z"
    }
   },
   "source": [
    "mpl.colors.to_rgb('mediumorchid')"
   ],
   "outputs": [
    {
     "data": {
      "text/plain": [
       "(0.7294117647058823, 0.3333333333333333, 0.8274509803921568)"
      ]
     },
     "execution_count": 84,
     "metadata": {},
     "output_type": "execute_result"
    }
   ],
   "execution_count": 84
  },
  {
   "cell_type": "code",
   "metadata": {
    "ExecuteTime": {
     "end_time": "2025-03-18T13:51:03.577424Z",
     "start_time": "2025-03-18T13:51:03.575085Z"
    }
   },
   "source": [
    "[255*i for i in mpl.colors.to_rgb('mediumorchid')]"
   ],
   "outputs": [
    {
     "data": {
      "text/plain": [
       "[186.0, 85.0, 211.0]"
      ]
     },
     "execution_count": 85,
     "metadata": {},
     "output_type": "execute_result"
    }
   ],
   "execution_count": 85
  },
  {
   "cell_type": "markdown",
   "metadata": {},
   "source": [
    "**To do:** Convert to hex"
   ]
  },
  {
   "cell_type": "code",
   "metadata": {
    "ExecuteTime": {
     "end_time": "2025-03-18T13:51:03.590213Z",
     "start_time": "2025-03-18T13:51:03.588867Z"
    }
   },
   "source": [],
   "outputs": [],
   "execution_count": null
  },
  {
   "cell_type": "markdown",
   "metadata": {},
   "source": [
    "Check:"
   ]
  },
  {
   "cell_type": "code",
   "metadata": {
    "ExecuteTime": {
     "end_time": "2025-03-18T13:51:03.597500Z",
     "start_time": "2025-03-18T13:51:03.595180Z"
    }
   },
   "source": [
    "mpl.colors.rgb2hex(mpl.colors.to_rgb('mediumorchid'))"
   ],
   "outputs": [
    {
     "data": {
      "text/plain": [
       "'#ba55d3'"
      ]
     },
     "execution_count": 86,
     "metadata": {},
     "output_type": "execute_result"
    }
   ],
   "execution_count": 86
  },
  {
   "cell_type": "code",
   "metadata": {
    "ExecuteTime": {
     "end_time": "2025-03-18T13:51:03.626217Z",
     "start_time": "2025-03-18T13:51:03.609125Z"
    }
   },
   "source": [
    "mpl.colors.hex2color('Your Solution')"
   ],
   "outputs": [
    {
     "ename": "ValueError",
     "evalue": "Invalid RGBA argument: 'Your Solution'",
     "output_type": "error",
     "traceback": [
      "\u001B[0;31m---------------------------------------------------------------------------\u001B[0m",
      "\u001B[0;31mValueError\u001B[0m                                Traceback (most recent call last)",
      "Cell \u001B[0;32mIn[87], line 1\u001B[0m\n\u001B[0;32m----> 1\u001B[0m \u001B[43mmpl\u001B[49m\u001B[38;5;241;43m.\u001B[39;49m\u001B[43mcolors\u001B[49m\u001B[38;5;241;43m.\u001B[39;49m\u001B[43mhex2color\u001B[49m\u001B[43m(\u001B[49m\u001B[38;5;124;43m'\u001B[39;49m\u001B[38;5;124;43mYour Solution\u001B[39;49m\u001B[38;5;124;43m'\u001B[39;49m\u001B[43m)\u001B[49m\n",
      "File \u001B[0;32m/opt/homebrew/anaconda3/envs/vdss/lib/python3.10/site-packages/matplotlib/colors.py:528\u001B[0m, in \u001B[0;36mto_rgb\u001B[0;34m(c)\u001B[0m\n\u001B[1;32m    526\u001B[0m \u001B[38;5;28;01mdef\u001B[39;00m\u001B[38;5;250m \u001B[39m\u001B[38;5;21mto_rgb\u001B[39m(c):\n\u001B[1;32m    527\u001B[0m \u001B[38;5;250m    \u001B[39m\u001B[38;5;124;03m\"\"\"Convert *c* to an RGB color, silently dropping the alpha channel.\"\"\"\u001B[39;00m\n\u001B[0;32m--> 528\u001B[0m     \u001B[38;5;28;01mreturn\u001B[39;00m \u001B[43mto_rgba\u001B[49m\u001B[43m(\u001B[49m\u001B[43mc\u001B[49m\u001B[43m)\u001B[49m[:\u001B[38;5;241m3\u001B[39m]\n",
      "File \u001B[0;32m/opt/homebrew/anaconda3/envs/vdss/lib/python3.10/site-packages/matplotlib/colors.py:316\u001B[0m, in \u001B[0;36mto_rgba\u001B[0;34m(c, alpha)\u001B[0m\n\u001B[1;32m    314\u001B[0m     rgba \u001B[38;5;241m=\u001B[39m \u001B[38;5;28;01mNone\u001B[39;00m\n\u001B[1;32m    315\u001B[0m \u001B[38;5;28;01mif\u001B[39;00m rgba \u001B[38;5;129;01mis\u001B[39;00m \u001B[38;5;28;01mNone\u001B[39;00m:  \u001B[38;5;66;03m# Suppress exception chaining of cache lookup failure.\u001B[39;00m\n\u001B[0;32m--> 316\u001B[0m     rgba \u001B[38;5;241m=\u001B[39m \u001B[43m_to_rgba_no_colorcycle\u001B[49m\u001B[43m(\u001B[49m\u001B[43mc\u001B[49m\u001B[43m,\u001B[49m\u001B[43m \u001B[49m\u001B[43malpha\u001B[49m\u001B[43m)\u001B[49m\n\u001B[1;32m    317\u001B[0m     \u001B[38;5;28;01mtry\u001B[39;00m:\n\u001B[1;32m    318\u001B[0m         _colors_full_map\u001B[38;5;241m.\u001B[39mcache[c, alpha] \u001B[38;5;241m=\u001B[39m rgba\n",
      "File \u001B[0;32m/opt/homebrew/anaconda3/envs/vdss/lib/python3.10/site-packages/matplotlib/colors.py:393\u001B[0m, in \u001B[0;36m_to_rgba_no_colorcycle\u001B[0;34m(c, alpha)\u001B[0m\n\u001B[1;32m    389\u001B[0m             \u001B[38;5;28;01mraise\u001B[39;00m \u001B[38;5;167;01mValueError\u001B[39;00m(\n\u001B[1;32m    390\u001B[0m                 \u001B[38;5;124mf\u001B[39m\u001B[38;5;124m\"\u001B[39m\u001B[38;5;124mInvalid string grayscale value \u001B[39m\u001B[38;5;132;01m{\u001B[39;00morig_c\u001B[38;5;132;01m!r}\u001B[39;00m\u001B[38;5;124m. \u001B[39m\u001B[38;5;124m\"\u001B[39m\n\u001B[1;32m    391\u001B[0m                 \u001B[38;5;124mf\u001B[39m\u001B[38;5;124m\"\u001B[39m\u001B[38;5;124mValue must be within 0-1 range\u001B[39m\u001B[38;5;124m\"\u001B[39m)\n\u001B[1;32m    392\u001B[0m         \u001B[38;5;28;01mreturn\u001B[39;00m c, c, c, alpha \u001B[38;5;28;01mif\u001B[39;00m alpha \u001B[38;5;129;01mis\u001B[39;00m \u001B[38;5;129;01mnot\u001B[39;00m \u001B[38;5;28;01mNone\u001B[39;00m \u001B[38;5;28;01melse\u001B[39;00m \u001B[38;5;241m1.\u001B[39m\n\u001B[0;32m--> 393\u001B[0m     \u001B[38;5;28;01mraise\u001B[39;00m \u001B[38;5;167;01mValueError\u001B[39;00m(\u001B[38;5;124mf\u001B[39m\u001B[38;5;124m\"\u001B[39m\u001B[38;5;124mInvalid RGBA argument: \u001B[39m\u001B[38;5;132;01m{\u001B[39;00morig_c\u001B[38;5;132;01m!r}\u001B[39;00m\u001B[38;5;124m\"\u001B[39m)\n\u001B[1;32m    394\u001B[0m \u001B[38;5;66;03m# turn 2-D array into 1-D array\u001B[39;00m\n\u001B[1;32m    395\u001B[0m \u001B[38;5;28;01mif\u001B[39;00m \u001B[38;5;28misinstance\u001B[39m(c, np\u001B[38;5;241m.\u001B[39mndarray):\n",
      "\u001B[0;31mValueError\u001B[0m: Invalid RGBA argument: 'Your Solution'"
     ]
    }
   ],
   "execution_count": 87
  },
  {
   "cell_type": "markdown",
   "metadata": {},
   "source": [
    "### Colormaps\n",
    "\n",
    "There are many:"
   ]
  },
  {
   "cell_type": "code",
   "metadata": {
    "ExecuteTime": {
     "end_time": "2025-03-18T13:51:03.628057Z",
     "start_time": "2025-03-18T13:50:27.036235Z"
    }
   },
   "source": [
    "len(plt.colormaps())"
   ],
   "outputs": [
    {
     "data": {
      "text/plain": [
       "180"
      ]
     },
     "execution_count": 61,
     "metadata": {},
     "output_type": "execute_result"
    }
   ],
   "execution_count": 61
  },
  {
   "cell_type": "code",
   "metadata": {
    "ExecuteTime": {
     "end_time": "2025-03-18T13:51:03.628317Z",
     "start_time": "2025-03-18T13:50:28.782794Z"
    }
   },
   "source": [
    "for cmap_key in plt.colormaps()[23:30]:\n",
    "    print(cmap_key, ':')\n",
    "    plot_color_grid([mpl.colormaps[cmap_key](s) for s in np.linspace(0, 1.0, 10)])"
   ],
   "outputs": [
    {
     "name": "stdout",
     "output_type": "stream",
     "text": [
      "PuBu :\n"
     ]
    },
    {
     "data": {
      "text/plain": [
       "<Figure size 1000x100 with 1 Axes>"
      ],
      "image/svg+xml": "<?xml version=\"1.0\" encoding=\"utf-8\" standalone=\"no\"?>\n<!DOCTYPE svg PUBLIC \"-//W3C//DTD SVG 1.1//EN\"\n  \"http://www.w3.org/Graphics/SVG/1.1/DTD/svg11.dtd\">\n<svg xmlns:xlink=\"http://www.w3.org/1999/xlink\" width=\"572.4pt\" height=\"69.84pt\" viewBox=\"0 0 572.4 69.84\" xmlns=\"http://www.w3.org/2000/svg\" version=\"1.1\">\n <metadata>\n  <rdf:RDF xmlns:dc=\"http://purl.org/dc/elements/1.1/\" xmlns:cc=\"http://creativecommons.org/ns#\" xmlns:rdf=\"http://www.w3.org/1999/02/22-rdf-syntax-ns#\">\n   <cc:Work>\n    <dc:type rdf:resource=\"http://purl.org/dc/dcmitype/StillImage\"/>\n    <dc:date>2025-03-18T14:50:28.793676</dc:date>\n    <dc:format>image/svg+xml</dc:format>\n    <dc:creator>\n     <cc:Agent>\n      <dc:title>Matplotlib v3.10.0, https://matplotlib.org/</dc:title>\n     </cc:Agent>\n    </dc:creator>\n   </cc:Work>\n  </rdf:RDF>\n </metadata>\n <defs>\n  <style type=\"text/css\">*{stroke-linejoin: round; stroke-linecap: butt}</style>\n </defs>\n <g id=\"figure_1\">\n  <g id=\"patch_1\">\n   <path d=\"M 0 69.84 \nL 572.4 69.84 \nL 572.4 0 \nL 0 0 \nz\n\" style=\"fill: #ffffff\"/>\n  </g>\n  <g id=\"axes_1\">\n   <g id=\"patch_2\">\n    <path d=\"M 7.2 62.64 \nL 63 62.64 \nL 63 7.2 \nL 7.2 7.2 \nz\n\" clip-path=\"url(#p74fb2fb97f)\" style=\"fill: #fff7fb\"/>\n   </g>\n   <g id=\"patch_3\">\n    <path d=\"M 63 62.64 \nL 118.8 62.64 \nL 118.8 7.2 \nL 63 7.2 \nz\n\" clip-path=\"url(#p74fb2fb97f)\" style=\"fill: #eee9f3\"/>\n   </g>\n   <g id=\"patch_4\">\n    <path d=\"M 118.8 62.64 \nL 174.6 62.64 \nL 174.6 7.2 \nL 118.8 7.2 \nz\n\" clip-path=\"url(#p74fb2fb97f)\" style=\"fill: #d7d6e9\"/>\n   </g>\n   <g id=\"patch_5\">\n    <path d=\"M 174.6 62.64 \nL 230.4 62.64 \nL 230.4 7.2 \nL 174.6 7.2 \nz\n\" clip-path=\"url(#p74fb2fb97f)\" style=\"fill: #b4c4df\"/>\n   </g>\n   <g id=\"patch_6\">\n    <path d=\"M 230.4 62.64 \nL 286.2 62.64 \nL 286.2 7.2 \nL 230.4 7.2 \nz\n\" clip-path=\"url(#p74fb2fb97f)\" style=\"fill: #8bb2d4\"/>\n   </g>\n   <g id=\"patch_7\">\n    <path d=\"M 286.2 62.64 \nL 342 62.64 \nL 342 7.2 \nL 286.2 7.2 \nz\n\" clip-path=\"url(#p74fb2fb97f)\" style=\"fill: #589ec8\"/>\n   </g>\n   <g id=\"patch_8\">\n    <path d=\"M 342 62.64 \nL 397.8 62.64 \nL 397.8 7.2 \nL 342 7.2 \nz\n\" clip-path=\"url(#p74fb2fb97f)\" style=\"fill: #2685bb\"/>\n   </g>\n   <g id=\"patch_9\">\n    <path d=\"M 397.8 62.64 \nL 453.6 62.64 \nL 453.6 7.2 \nL 397.8 7.2 \nz\n\" clip-path=\"url(#p74fb2fb97f)\" style=\"fill: #056ba7\"/>\n   </g>\n   <g id=\"patch_10\">\n    <path d=\"M 453.6 62.64 \nL 509.4 62.64 \nL 509.4 7.2 \nL 453.6 7.2 \nz\n\" clip-path=\"url(#p74fb2fb97f)\" style=\"fill: #045687\"/>\n   </g>\n   <g id=\"patch_11\">\n    <path d=\"M 509.4 62.64 \nL 565.2 62.64 \nL 565.2 7.2 \nL 509.4 7.2 \nz\n\" clip-path=\"url(#p74fb2fb97f)\" style=\"fill: #023858\"/>\n   </g>\n  </g>\n </g>\n <defs>\n  <clipPath id=\"p74fb2fb97f\">\n   <rect x=\"7.2\" y=\"7.2\" width=\"558\" height=\"55.44\"/>\n  </clipPath>\n </defs>\n</svg>\n"
     },
     "metadata": {},
     "output_type": "display_data"
    },
    {
     "name": "stdout",
     "output_type": "stream",
     "text": [
      "PuBuGn :\n"
     ]
    },
    {
     "data": {
      "text/plain": [
       "<Figure size 1000x100 with 1 Axes>"
      ],
      "image/svg+xml": "<?xml version=\"1.0\" encoding=\"utf-8\" standalone=\"no\"?>\n<!DOCTYPE svg PUBLIC \"-//W3C//DTD SVG 1.1//EN\"\n  \"http://www.w3.org/Graphics/SVG/1.1/DTD/svg11.dtd\">\n<svg xmlns:xlink=\"http://www.w3.org/1999/xlink\" width=\"572.4pt\" height=\"69.84pt\" viewBox=\"0 0 572.4 69.84\" xmlns=\"http://www.w3.org/2000/svg\" version=\"1.1\">\n <metadata>\n  <rdf:RDF xmlns:dc=\"http://purl.org/dc/elements/1.1/\" xmlns:cc=\"http://creativecommons.org/ns#\" xmlns:rdf=\"http://www.w3.org/1999/02/22-rdf-syntax-ns#\">\n   <cc:Work>\n    <dc:type rdf:resource=\"http://purl.org/dc/dcmitype/StillImage\"/>\n    <dc:date>2025-03-18T14:50:28.804325</dc:date>\n    <dc:format>image/svg+xml</dc:format>\n    <dc:creator>\n     <cc:Agent>\n      <dc:title>Matplotlib v3.10.0, https://matplotlib.org/</dc:title>\n     </cc:Agent>\n    </dc:creator>\n   </cc:Work>\n  </rdf:RDF>\n </metadata>\n <defs>\n  <style type=\"text/css\">*{stroke-linejoin: round; stroke-linecap: butt}</style>\n </defs>\n <g id=\"figure_1\">\n  <g id=\"patch_1\">\n   <path d=\"M 0 69.84 \nL 572.4 69.84 \nL 572.4 0 \nL 0 0 \nz\n\" style=\"fill: #ffffff\"/>\n  </g>\n  <g id=\"axes_1\">\n   <g id=\"patch_2\">\n    <path d=\"M 7.2 62.64 \nL 63 62.64 \nL 63 7.2 \nL 7.2 7.2 \nz\n\" clip-path=\"url(#pfd367192d8)\" style=\"fill: #fff7fb\"/>\n   </g>\n   <g id=\"patch_3\">\n    <path d=\"M 63 62.64 \nL 118.8 62.64 \nL 118.8 7.2 \nL 63 7.2 \nz\n\" clip-path=\"url(#pfd367192d8)\" style=\"fill: #eee5f1\"/>\n   </g>\n   <g id=\"patch_4\">\n    <path d=\"M 118.8 62.64 \nL 174.6 62.64 \nL 174.6 7.2 \nL 118.8 7.2 \nz\n\" clip-path=\"url(#pfd367192d8)\" style=\"fill: #d7d5e8\"/>\n   </g>\n   <g id=\"patch_5\">\n    <path d=\"M 174.6 62.64 \nL 230.4 62.64 \nL 230.4 7.2 \nL 174.6 7.2 \nz\n\" clip-path=\"url(#pfd367192d8)\" style=\"fill: #b4c4df\"/>\n   </g>\n   <g id=\"patch_6\">\n    <path d=\"M 230.4 62.64 \nL 286.2 62.64 \nL 286.2 7.2 \nL 230.4 7.2 \nz\n\" clip-path=\"url(#pfd367192d8)\" style=\"fill: #84b2d4\"/>\n   </g>\n   <g id=\"patch_7\">\n    <path d=\"M 286.2 62.64 \nL 342 62.64 \nL 342 7.2 \nL 286.2 7.2 \nz\n\" clip-path=\"url(#pfd367192d8)\" style=\"fill: #519ec8\"/>\n   </g>\n   <g id=\"patch_8\">\n    <path d=\"M 342 62.64 \nL 397.8 62.64 \nL 397.8 7.2 \nL 342 7.2 \nz\n\" clip-path=\"url(#pfd367192d8)\" style=\"fill: #258bae\"/>\n   </g>\n   <g id=\"patch_9\">\n    <path d=\"M 397.8 62.64 \nL 453.6 62.64 \nL 453.6 7.2 \nL 397.8 7.2 \nz\n\" clip-path=\"url(#pfd367192d8)\" style=\"fill: #027c7e\"/>\n   </g>\n   <g id=\"patch_10\">\n    <path d=\"M 453.6 62.64 \nL 509.4 62.64 \nL 509.4 7.2 \nL 453.6 7.2 \nz\n\" clip-path=\"url(#pfd367192d8)\" style=\"fill: #016755\"/>\n   </g>\n   <g id=\"patch_11\">\n    <path d=\"M 509.4 62.64 \nL 565.2 62.64 \nL 565.2 7.2 \nL 509.4 7.2 \nz\n\" clip-path=\"url(#pfd367192d8)\" style=\"fill: #014636\"/>\n   </g>\n  </g>\n </g>\n <defs>\n  <clipPath id=\"pfd367192d8\">\n   <rect x=\"7.2\" y=\"7.2\" width=\"558\" height=\"55.44\"/>\n  </clipPath>\n </defs>\n</svg>\n"
     },
     "metadata": {},
     "output_type": "display_data"
    },
    {
     "name": "stdout",
     "output_type": "stream",
     "text": [
      "PuOr :\n"
     ]
    },
    {
     "data": {
      "text/plain": [
       "<Figure size 1000x100 with 1 Axes>"
      ],
      "image/svg+xml": "<?xml version=\"1.0\" encoding=\"utf-8\" standalone=\"no\"?>\n<!DOCTYPE svg PUBLIC \"-//W3C//DTD SVG 1.1//EN\"\n  \"http://www.w3.org/Graphics/SVG/1.1/DTD/svg11.dtd\">\n<svg xmlns:xlink=\"http://www.w3.org/1999/xlink\" width=\"572.4pt\" height=\"69.84pt\" viewBox=\"0 0 572.4 69.84\" xmlns=\"http://www.w3.org/2000/svg\" version=\"1.1\">\n <metadata>\n  <rdf:RDF xmlns:dc=\"http://purl.org/dc/elements/1.1/\" xmlns:cc=\"http://creativecommons.org/ns#\" xmlns:rdf=\"http://www.w3.org/1999/02/22-rdf-syntax-ns#\">\n   <cc:Work>\n    <dc:type rdf:resource=\"http://purl.org/dc/dcmitype/StillImage\"/>\n    <dc:date>2025-03-18T14:50:28.814995</dc:date>\n    <dc:format>image/svg+xml</dc:format>\n    <dc:creator>\n     <cc:Agent>\n      <dc:title>Matplotlib v3.10.0, https://matplotlib.org/</dc:title>\n     </cc:Agent>\n    </dc:creator>\n   </cc:Work>\n  </rdf:RDF>\n </metadata>\n <defs>\n  <style type=\"text/css\">*{stroke-linejoin: round; stroke-linecap: butt}</style>\n </defs>\n <g id=\"figure_1\">\n  <g id=\"patch_1\">\n   <path d=\"M 0 69.84 \nL 572.4 69.84 \nL 572.4 0 \nL 0 0 \nz\n\" style=\"fill: #ffffff\"/>\n  </g>\n  <g id=\"axes_1\">\n   <g id=\"patch_2\">\n    <path d=\"M 7.2 62.64 \nL 63 62.64 \nL 63 7.2 \nL 7.2 7.2 \nz\n\" clip-path=\"url(#pa13bdde9b4)\" style=\"fill: #7f3b08\"/>\n   </g>\n   <g id=\"patch_3\">\n    <path d=\"M 63 62.64 \nL 118.8 62.64 \nL 118.8 7.2 \nL 63 7.2 \nz\n\" clip-path=\"url(#pa13bdde9b4)\" style=\"fill: #b75c07\"/>\n   </g>\n   <g id=\"patch_4\">\n    <path d=\"M 118.8 62.64 \nL 174.6 62.64 \nL 174.6 7.2 \nL 118.8 7.2 \nz\n\" clip-path=\"url(#pa13bdde9b4)\" style=\"fill: #e68d23\"/>\n   </g>\n   <g id=\"patch_5\">\n    <path d=\"M 174.6 62.64 \nL 230.4 62.64 \nL 230.4 7.2 \nL 174.6 7.2 \nz\n\" clip-path=\"url(#pa13bdde9b4)\" style=\"fill: #fdc57f\"/>\n   </g>\n   <g id=\"patch_6\">\n    <path d=\"M 230.4 62.64 \nL 286.2 62.64 \nL 286.2 7.2 \nL 230.4 7.2 \nz\n\" clip-path=\"url(#pa13bdde9b4)\" style=\"fill: #fbead2\"/>\n   </g>\n   <g id=\"patch_7\">\n    <path d=\"M 286.2 62.64 \nL 342 62.64 \nL 342 7.2 \nL 286.2 7.2 \nz\n\" clip-path=\"url(#pa13bdde9b4)\" style=\"fill: #e5e7f0\"/>\n   </g>\n   <g id=\"patch_8\">\n    <path d=\"M 342 62.64 \nL 397.8 62.64 \nL 397.8 7.2 \nL 342 7.2 \nz\n\" clip-path=\"url(#pa13bdde9b4)\" style=\"fill: #bfbbda\"/>\n   </g>\n   <g id=\"patch_9\">\n    <path d=\"M 397.8 62.64 \nL 453.6 62.64 \nL 453.6 7.2 \nL 397.8 7.2 \nz\n\" clip-path=\"url(#pa13bdde9b4)\" style=\"fill: #8a7eb3\"/>\n   </g>\n   <g id=\"patch_10\">\n    <path d=\"M 453.6 62.64 \nL 509.4 62.64 \nL 509.4 7.2 \nL 453.6 7.2 \nz\n\" clip-path=\"url(#pa13bdde9b4)\" style=\"fill: #582e8c\"/>\n   </g>\n   <g id=\"patch_11\">\n    <path d=\"M 509.4 62.64 \nL 565.2 62.64 \nL 565.2 7.2 \nL 509.4 7.2 \nz\n\" clip-path=\"url(#pa13bdde9b4)\" style=\"fill: #2d004b\"/>\n   </g>\n  </g>\n </g>\n <defs>\n  <clipPath id=\"pa13bdde9b4\">\n   <rect x=\"7.2\" y=\"7.2\" width=\"558\" height=\"55.44\"/>\n  </clipPath>\n </defs>\n</svg>\n"
     },
     "metadata": {},
     "output_type": "display_data"
    },
    {
     "name": "stdout",
     "output_type": "stream",
     "text": [
      "PuRd :\n"
     ]
    },
    {
     "data": {
      "text/plain": [
       "<Figure size 1000x100 with 1 Axes>"
      ],
      "image/svg+xml": "<?xml version=\"1.0\" encoding=\"utf-8\" standalone=\"no\"?>\n<!DOCTYPE svg PUBLIC \"-//W3C//DTD SVG 1.1//EN\"\n  \"http://www.w3.org/Graphics/SVG/1.1/DTD/svg11.dtd\">\n<svg xmlns:xlink=\"http://www.w3.org/1999/xlink\" width=\"572.4pt\" height=\"69.84pt\" viewBox=\"0 0 572.4 69.84\" xmlns=\"http://www.w3.org/2000/svg\" version=\"1.1\">\n <metadata>\n  <rdf:RDF xmlns:dc=\"http://purl.org/dc/elements/1.1/\" xmlns:cc=\"http://creativecommons.org/ns#\" xmlns:rdf=\"http://www.w3.org/1999/02/22-rdf-syntax-ns#\">\n   <cc:Work>\n    <dc:type rdf:resource=\"http://purl.org/dc/dcmitype/StillImage\"/>\n    <dc:date>2025-03-18T14:50:28.824400</dc:date>\n    <dc:format>image/svg+xml</dc:format>\n    <dc:creator>\n     <cc:Agent>\n      <dc:title>Matplotlib v3.10.0, https://matplotlib.org/</dc:title>\n     </cc:Agent>\n    </dc:creator>\n   </cc:Work>\n  </rdf:RDF>\n </metadata>\n <defs>\n  <style type=\"text/css\">*{stroke-linejoin: round; stroke-linecap: butt}</style>\n </defs>\n <g id=\"figure_1\">\n  <g id=\"patch_1\">\n   <path d=\"M 0 69.84 \nL 572.4 69.84 \nL 572.4 0 \nL 0 0 \nz\n\" style=\"fill: #ffffff\"/>\n  </g>\n  <g id=\"axes_1\">\n   <g id=\"patch_2\">\n    <path d=\"M 7.2 62.64 \nL 63 62.64 \nL 63 7.2 \nL 7.2 7.2 \nz\n\" clip-path=\"url(#p65e4fc97ae)\" style=\"fill: #f7f4f9\"/>\n   </g>\n   <g id=\"patch_3\">\n    <path d=\"M 63 62.64 \nL 118.8 62.64 \nL 118.8 7.2 \nL 63 7.2 \nz\n\" clip-path=\"url(#p65e4fc97ae)\" style=\"fill: #e9e3f0\"/>\n   </g>\n   <g id=\"patch_4\">\n    <path d=\"M 118.8 62.64 \nL 174.6 62.64 \nL 174.6 7.2 \nL 118.8 7.2 \nz\n\" clip-path=\"url(#p65e4fc97ae)\" style=\"fill: #d9c3df\"/>\n   </g>\n   <g id=\"patch_5\">\n    <path d=\"M 174.6 62.64 \nL 230.4 62.64 \nL 230.4 7.2 \nL 174.6 7.2 \nz\n\" clip-path=\"url(#p65e4fc97ae)\" style=\"fill: #cda0cd\"/>\n   </g>\n   <g id=\"patch_6\">\n    <path d=\"M 230.4 62.64 \nL 286.2 62.64 \nL 286.2 7.2 \nL 230.4 7.2 \nz\n\" clip-path=\"url(#p65e4fc97ae)\" style=\"fill: #d57aba\"/>\n   </g>\n   <g id=\"patch_7\">\n    <path d=\"M 286.2 62.64 \nL 342 62.64 \nL 342 7.2 \nL 286.2 7.2 \nz\n\" clip-path=\"url(#p65e4fc97ae)\" style=\"fill: #e34a9f\"/>\n   </g>\n   <g id=\"patch_8\">\n    <path d=\"M 342 62.64 \nL 397.8 62.64 \nL 397.8 7.2 \nL 342 7.2 \nz\n\" clip-path=\"url(#p65e4fc97ae)\" style=\"fill: #df2179\"/>\n   </g>\n   <g id=\"patch_9\">\n    <path d=\"M 397.8 62.64 \nL 453.6 62.64 \nL 453.6 7.2 \nL 397.8 7.2 \nz\n\" clip-path=\"url(#p65e4fc97ae)\" style=\"fill: #c10e51\"/>\n   </g>\n   <g id=\"patch_10\">\n    <path d=\"M 453.6 62.64 \nL 509.4 62.64 \nL 509.4 7.2 \nL 453.6 7.2 \nz\n\" clip-path=\"url(#p65e4fc97ae)\" style=\"fill: #92003f\"/>\n   </g>\n   <g id=\"patch_11\">\n    <path d=\"M 509.4 62.64 \nL 565.2 62.64 \nL 565.2 7.2 \nL 509.4 7.2 \nz\n\" clip-path=\"url(#p65e4fc97ae)\" style=\"fill: #67001f\"/>\n   </g>\n  </g>\n </g>\n <defs>\n  <clipPath id=\"p65e4fc97ae\">\n   <rect x=\"7.2\" y=\"7.2\" width=\"558\" height=\"55.44\"/>\n  </clipPath>\n </defs>\n</svg>\n"
     },
     "metadata": {},
     "output_type": "display_data"
    },
    {
     "name": "stdout",
     "output_type": "stream",
     "text": [
      "Purples :\n"
     ]
    },
    {
     "data": {
      "text/plain": [
       "<Figure size 1000x100 with 1 Axes>"
      ],
      "image/svg+xml": "<?xml version=\"1.0\" encoding=\"utf-8\" standalone=\"no\"?>\n<!DOCTYPE svg PUBLIC \"-//W3C//DTD SVG 1.1//EN\"\n  \"http://www.w3.org/Graphics/SVG/1.1/DTD/svg11.dtd\">\n<svg xmlns:xlink=\"http://www.w3.org/1999/xlink\" width=\"572.4pt\" height=\"69.84pt\" viewBox=\"0 0 572.4 69.84\" xmlns=\"http://www.w3.org/2000/svg\" version=\"1.1\">\n <metadata>\n  <rdf:RDF xmlns:dc=\"http://purl.org/dc/elements/1.1/\" xmlns:cc=\"http://creativecommons.org/ns#\" xmlns:rdf=\"http://www.w3.org/1999/02/22-rdf-syntax-ns#\">\n   <cc:Work>\n    <dc:type rdf:resource=\"http://purl.org/dc/dcmitype/StillImage\"/>\n    <dc:date>2025-03-18T14:50:28.834086</dc:date>\n    <dc:format>image/svg+xml</dc:format>\n    <dc:creator>\n     <cc:Agent>\n      <dc:title>Matplotlib v3.10.0, https://matplotlib.org/</dc:title>\n     </cc:Agent>\n    </dc:creator>\n   </cc:Work>\n  </rdf:RDF>\n </metadata>\n <defs>\n  <style type=\"text/css\">*{stroke-linejoin: round; stroke-linecap: butt}</style>\n </defs>\n <g id=\"figure_1\">\n  <g id=\"patch_1\">\n   <path d=\"M 0 69.84 \nL 572.4 69.84 \nL 572.4 0 \nL 0 0 \nz\n\" style=\"fill: #ffffff\"/>\n  </g>\n  <g id=\"axes_1\">\n   <g id=\"patch_2\">\n    <path d=\"M 7.2 62.64 \nL 63 62.64 \nL 63 7.2 \nL 7.2 7.2 \nz\n\" clip-path=\"url(#p9eb20865de)\" style=\"fill: #fcfbfd\"/>\n   </g>\n   <g id=\"patch_3\">\n    <path d=\"M 63 62.64 \nL 118.8 62.64 \nL 118.8 7.2 \nL 63 7.2 \nz\n\" clip-path=\"url(#p9eb20865de)\" style=\"fill: #f1eff6\"/>\n   </g>\n   <g id=\"patch_4\">\n    <path d=\"M 118.8 62.64 \nL 174.6 62.64 \nL 174.6 7.2 \nL 118.8 7.2 \nz\n\" clip-path=\"url(#p9eb20865de)\" style=\"fill: #dfdfed\"/>\n   </g>\n   <g id=\"patch_5\">\n    <path d=\"M 174.6 62.64 \nL 230.4 62.64 \nL 230.4 7.2 \nL 174.6 7.2 \nz\n\" clip-path=\"url(#p9eb20865de)\" style=\"fill: #c6c7e1\"/>\n   </g>\n   <g id=\"patch_6\">\n    <path d=\"M 230.4 62.64 \nL 286.2 62.64 \nL 286.2 7.2 \nL 230.4 7.2 \nz\n\" clip-path=\"url(#p9eb20865de)\" style=\"fill: #acaad1\"/>\n   </g>\n   <g id=\"patch_7\">\n    <path d=\"M 286.2 62.64 \nL 342 62.64 \nL 342 7.2 \nL 286.2 7.2 \nz\n\" clip-path=\"url(#p9eb20865de)\" style=\"fill: #908dc2\"/>\n   </g>\n   <g id=\"patch_8\">\n    <path d=\"M 342 62.64 \nL 397.8 62.64 \nL 397.8 7.2 \nL 342 7.2 \nz\n\" clip-path=\"url(#p9eb20865de)\" style=\"fill: #796eb2\"/>\n   </g>\n   <g id=\"patch_9\">\n    <path d=\"M 397.8 62.64 \nL 453.6 62.64 \nL 453.6 7.2 \nL 397.8 7.2 \nz\n\" clip-path=\"url(#p9eb20865de)\" style=\"fill: #65479e\"/>\n   </g>\n   <g id=\"patch_10\">\n    <path d=\"M 453.6 62.64 \nL 509.4 62.64 \nL 509.4 7.2 \nL 453.6 7.2 \nz\n\" clip-path=\"url(#p9eb20865de)\" style=\"fill: #51228d\"/>\n   </g>\n   <g id=\"patch_11\">\n    <path d=\"M 509.4 62.64 \nL 565.2 62.64 \nL 565.2 7.2 \nL 509.4 7.2 \nz\n\" clip-path=\"url(#p9eb20865de)\" style=\"fill: #3f007d\"/>\n   </g>\n  </g>\n </g>\n <defs>\n  <clipPath id=\"p9eb20865de\">\n   <rect x=\"7.2\" y=\"7.2\" width=\"558\" height=\"55.44\"/>\n  </clipPath>\n </defs>\n</svg>\n"
     },
     "metadata": {},
     "output_type": "display_data"
    },
    {
     "name": "stdout",
     "output_type": "stream",
     "text": [
      "RdBu :\n"
     ]
    },
    {
     "data": {
      "text/plain": [
       "<Figure size 1000x100 with 1 Axes>"
      ],
      "image/svg+xml": "<?xml version=\"1.0\" encoding=\"utf-8\" standalone=\"no\"?>\n<!DOCTYPE svg PUBLIC \"-//W3C//DTD SVG 1.1//EN\"\n  \"http://www.w3.org/Graphics/SVG/1.1/DTD/svg11.dtd\">\n<svg xmlns:xlink=\"http://www.w3.org/1999/xlink\" width=\"572.4pt\" height=\"69.84pt\" viewBox=\"0 0 572.4 69.84\" xmlns=\"http://www.w3.org/2000/svg\" version=\"1.1\">\n <metadata>\n  <rdf:RDF xmlns:dc=\"http://purl.org/dc/elements/1.1/\" xmlns:cc=\"http://creativecommons.org/ns#\" xmlns:rdf=\"http://www.w3.org/1999/02/22-rdf-syntax-ns#\">\n   <cc:Work>\n    <dc:type rdf:resource=\"http://purl.org/dc/dcmitype/StillImage\"/>\n    <dc:date>2025-03-18T14:50:28.844581</dc:date>\n    <dc:format>image/svg+xml</dc:format>\n    <dc:creator>\n     <cc:Agent>\n      <dc:title>Matplotlib v3.10.0, https://matplotlib.org/</dc:title>\n     </cc:Agent>\n    </dc:creator>\n   </cc:Work>\n  </rdf:RDF>\n </metadata>\n <defs>\n  <style type=\"text/css\">*{stroke-linejoin: round; stroke-linecap: butt}</style>\n </defs>\n <g id=\"figure_1\">\n  <g id=\"patch_1\">\n   <path d=\"M 0 69.84 \nL 572.4 69.84 \nL 572.4 0 \nL 0 0 \nz\n\" style=\"fill: #ffffff\"/>\n  </g>\n  <g id=\"axes_1\">\n   <g id=\"patch_2\">\n    <path d=\"M 7.2 62.64 \nL 63 62.64 \nL 63 7.2 \nL 7.2 7.2 \nz\n\" clip-path=\"url(#p28e57899f4)\" style=\"fill: #67001f\"/>\n   </g>\n   <g id=\"patch_3\">\n    <path d=\"M 63 62.64 \nL 118.8 62.64 \nL 118.8 7.2 \nL 63 7.2 \nz\n\" clip-path=\"url(#p28e57899f4)\" style=\"fill: #b61f2e\"/>\n   </g>\n   <g id=\"patch_4\">\n    <path d=\"M 118.8 62.64 \nL 174.6 62.64 \nL 174.6 7.2 \nL 118.8 7.2 \nz\n\" clip-path=\"url(#p28e57899f4)\" style=\"fill: #dc6e57\"/>\n   </g>\n   <g id=\"patch_5\">\n    <path d=\"M 174.6 62.64 \nL 230.4 62.64 \nL 230.4 7.2 \nL 174.6 7.2 \nz\n\" clip-path=\"url(#p28e57899f4)\" style=\"fill: #f7b799\"/>\n   </g>\n   <g id=\"patch_6\">\n    <path d=\"M 230.4 62.64 \nL 286.2 62.64 \nL 286.2 7.2 \nL 230.4 7.2 \nz\n\" clip-path=\"url(#p28e57899f4)\" style=\"fill: #fae7dc\"/>\n   </g>\n   <g id=\"patch_7\">\n    <path d=\"M 286.2 62.64 \nL 342 62.64 \nL 342 7.2 \nL 286.2 7.2 \nz\n\" clip-path=\"url(#p28e57899f4)\" style=\"fill: #e1edf3\"/>\n   </g>\n   <g id=\"patch_8\">\n    <path d=\"M 342 62.64 \nL 397.8 62.64 \nL 397.8 7.2 \nL 342 7.2 \nz\n\" clip-path=\"url(#p28e57899f4)\" style=\"fill: #a7d0e4\"/>\n   </g>\n   <g id=\"patch_9\">\n    <path d=\"M 397.8 62.64 \nL 453.6 62.64 \nL 453.6 7.2 \nL 397.8 7.2 \nz\n\" clip-path=\"url(#p28e57899f4)\" style=\"fill: #529dc8\"/>\n   </g>\n   <g id=\"patch_10\">\n    <path d=\"M 453.6 62.64 \nL 509.4 62.64 \nL 509.4 7.2 \nL 453.6 7.2 \nz\n\" clip-path=\"url(#p28e57899f4)\" style=\"fill: #246aae\"/>\n   </g>\n   <g id=\"patch_11\">\n    <path d=\"M 509.4 62.64 \nL 565.2 62.64 \nL 565.2 7.2 \nL 509.4 7.2 \nz\n\" clip-path=\"url(#p28e57899f4)\" style=\"fill: #053061\"/>\n   </g>\n  </g>\n </g>\n <defs>\n  <clipPath id=\"p28e57899f4\">\n   <rect x=\"7.2\" y=\"7.2\" width=\"558\" height=\"55.44\"/>\n  </clipPath>\n </defs>\n</svg>\n"
     },
     "metadata": {},
     "output_type": "display_data"
    },
    {
     "name": "stdout",
     "output_type": "stream",
     "text": [
      "RdGy :\n"
     ]
    },
    {
     "data": {
      "text/plain": [
       "<Figure size 1000x100 with 1 Axes>"
      ],
      "image/svg+xml": "<?xml version=\"1.0\" encoding=\"utf-8\" standalone=\"no\"?>\n<!DOCTYPE svg PUBLIC \"-//W3C//DTD SVG 1.1//EN\"\n  \"http://www.w3.org/Graphics/SVG/1.1/DTD/svg11.dtd\">\n<svg xmlns:xlink=\"http://www.w3.org/1999/xlink\" width=\"572.4pt\" height=\"69.84pt\" viewBox=\"0 0 572.4 69.84\" xmlns=\"http://www.w3.org/2000/svg\" version=\"1.1\">\n <metadata>\n  <rdf:RDF xmlns:dc=\"http://purl.org/dc/elements/1.1/\" xmlns:cc=\"http://creativecommons.org/ns#\" xmlns:rdf=\"http://www.w3.org/1999/02/22-rdf-syntax-ns#\">\n   <cc:Work>\n    <dc:type rdf:resource=\"http://purl.org/dc/dcmitype/StillImage\"/>\n    <dc:date>2025-03-18T14:50:28.854773</dc:date>\n    <dc:format>image/svg+xml</dc:format>\n    <dc:creator>\n     <cc:Agent>\n      <dc:title>Matplotlib v3.10.0, https://matplotlib.org/</dc:title>\n     </cc:Agent>\n    </dc:creator>\n   </cc:Work>\n  </rdf:RDF>\n </metadata>\n <defs>\n  <style type=\"text/css\">*{stroke-linejoin: round; stroke-linecap: butt}</style>\n </defs>\n <g id=\"figure_1\">\n  <g id=\"patch_1\">\n   <path d=\"M 0 69.84 \nL 572.4 69.84 \nL 572.4 0 \nL 0 0 \nz\n\" style=\"fill: #ffffff\"/>\n  </g>\n  <g id=\"axes_1\">\n   <g id=\"patch_2\">\n    <path d=\"M 7.2 62.64 \nL 63 62.64 \nL 63 7.2 \nL 7.2 7.2 \nz\n\" clip-path=\"url(#pd1bfc5087e)\" style=\"fill: #67001f\"/>\n   </g>\n   <g id=\"patch_3\">\n    <path d=\"M 63 62.64 \nL 118.8 62.64 \nL 118.8 7.2 \nL 63 7.2 \nz\n\" clip-path=\"url(#pd1bfc5087e)\" style=\"fill: #b61f2e\"/>\n   </g>\n   <g id=\"patch_4\">\n    <path d=\"M 118.8 62.64 \nL 174.6 62.64 \nL 174.6 7.2 \nL 118.8 7.2 \nz\n\" clip-path=\"url(#pd1bfc5087e)\" style=\"fill: #dc6e57\"/>\n   </g>\n   <g id=\"patch_5\">\n    <path d=\"M 174.6 62.64 \nL 230.4 62.64 \nL 230.4 7.2 \nL 174.6 7.2 \nz\n\" clip-path=\"url(#pd1bfc5087e)\" style=\"fill: #f7b799\"/>\n   </g>\n   <g id=\"patch_6\">\n    <path d=\"M 230.4 62.64 \nL 286.2 62.64 \nL 286.2 7.2 \nL 230.4 7.2 \nz\n\" clip-path=\"url(#pd1bfc5087e)\" style=\"fill: #feebdf\"/>\n   </g>\n   <g id=\"patch_7\">\n    <path d=\"M 286.2 62.64 \nL 342 62.64 \nL 342 7.2 \nL 286.2 7.2 \nz\n\" clip-path=\"url(#pd1bfc5087e)\" style=\"fill: #ededed\"/>\n   </g>\n   <g id=\"patch_8\">\n    <path d=\"M 342 62.64 \nL 397.8 62.64 \nL 397.8 7.2 \nL 342 7.2 \nz\n\" clip-path=\"url(#pd1bfc5087e)\" style=\"fill: #c7c7c7\"/>\n   </g>\n   <g id=\"patch_9\">\n    <path d=\"M 397.8 62.64 \nL 453.6 62.64 \nL 453.6 7.2 \nL 397.8 7.2 \nz\n\" clip-path=\"url(#pd1bfc5087e)\" style=\"fill: #919191\"/>\n   </g>\n   <g id=\"patch_10\">\n    <path d=\"M 453.6 62.64 \nL 509.4 62.64 \nL 509.4 7.2 \nL 453.6 7.2 \nz\n\" clip-path=\"url(#pd1bfc5087e)\" style=\"fill: #535353\"/>\n   </g>\n   <g id=\"patch_11\">\n    <path d=\"M 509.4 62.64 \nL 565.2 62.64 \nL 565.2 7.2 \nL 509.4 7.2 \nz\n\" clip-path=\"url(#pd1bfc5087e)\" style=\"fill: #1a1a1a\"/>\n   </g>\n  </g>\n </g>\n <defs>\n  <clipPath id=\"pd1bfc5087e\">\n   <rect x=\"7.2\" y=\"7.2\" width=\"558\" height=\"55.44\"/>\n  </clipPath>\n </defs>\n</svg>\n"
     },
     "metadata": {},
     "output_type": "display_data"
    }
   ],
   "execution_count": 62
  },
  {
   "cell_type": "code",
   "metadata": {
    "ExecuteTime": {
     "end_time": "2025-03-18T13:51:03.628819Z",
     "start_time": "2025-03-18T13:50:31.524678Z"
    }
   },
   "source": [],
   "outputs": [],
   "execution_count": null
  },
  {
   "cell_type": "code",
   "metadata": {
    "ExecuteTime": {
     "end_time": "2025-03-18T13:51:03.628984Z",
     "start_time": "2025-03-18T13:50:32.713583Z"
    }
   },
   "source": [
    "plot_color_grid([mpl.colormaps['tab10'](112)])"
   ],
   "outputs": [
    {
     "data": {
      "text/plain": [
       "<Figure size 100x100 with 1 Axes>"
      ],
      "image/svg+xml": "<?xml version=\"1.0\" encoding=\"utf-8\" standalone=\"no\"?>\n<!DOCTYPE svg PUBLIC \"-//W3C//DTD SVG 1.1//EN\"\n  \"http://www.w3.org/Graphics/SVG/1.1/DTD/svg11.dtd\">\n<svg xmlns:xlink=\"http://www.w3.org/1999/xlink\" width=\"70.2pt\" height=\"69.84pt\" viewBox=\"0 0 70.2 69.84\" xmlns=\"http://www.w3.org/2000/svg\" version=\"1.1\">\n <metadata>\n  <rdf:RDF xmlns:dc=\"http://purl.org/dc/elements/1.1/\" xmlns:cc=\"http://creativecommons.org/ns#\" xmlns:rdf=\"http://www.w3.org/1999/02/22-rdf-syntax-ns#\">\n   <cc:Work>\n    <dc:type rdf:resource=\"http://purl.org/dc/dcmitype/StillImage\"/>\n    <dc:date>2025-03-18T14:50:32.718396</dc:date>\n    <dc:format>image/svg+xml</dc:format>\n    <dc:creator>\n     <cc:Agent>\n      <dc:title>Matplotlib v3.10.0, https://matplotlib.org/</dc:title>\n     </cc:Agent>\n    </dc:creator>\n   </cc:Work>\n  </rdf:RDF>\n </metadata>\n <defs>\n  <style type=\"text/css\">*{stroke-linejoin: round; stroke-linecap: butt}</style>\n </defs>\n <g id=\"figure_1\">\n  <g id=\"patch_1\">\n   <path d=\"M 0 69.84 \nL 70.2 69.84 \nL 70.2 0 \nL 0 0 \nz\n\" style=\"fill: #ffffff\"/>\n  </g>\n  <g id=\"axes_1\">\n   <g id=\"patch_2\">\n    <path d=\"M 7.2 62.64 \nL 63 62.64 \nL 63 7.2 \nL 7.2 7.2 \nz\n\" clip-path=\"url(#pc79e49e4f7)\" style=\"fill: #17becf\"/>\n   </g>\n  </g>\n </g>\n <defs>\n  <clipPath id=\"pc79e49e4f7\">\n   <rect x=\"7.2\" y=\"7.2\" width=\"55.8\" height=\"55.44\"/>\n  </clipPath>\n </defs>\n</svg>\n"
     },
     "metadata": {},
     "output_type": "display_data"
    }
   ],
   "execution_count": 64
  },
  {
   "cell_type": "code",
   "metadata": {
    "ExecuteTime": {
     "end_time": "2025-03-18T13:51:03.633750Z",
     "start_time": "2025-03-18T13:50:55.688195Z"
    }
   },
   "source": [
    "plot_color_grid([mpl.colormaps['tab10'](i) for i in np.linspace(0, 1.0, 10)])"
   ],
   "outputs": [
    {
     "data": {
      "text/plain": [
       "<Figure size 1000x100 with 1 Axes>"
      ],
      "image/svg+xml": "<?xml version=\"1.0\" encoding=\"utf-8\" standalone=\"no\"?>\n<!DOCTYPE svg PUBLIC \"-//W3C//DTD SVG 1.1//EN\"\n  \"http://www.w3.org/Graphics/SVG/1.1/DTD/svg11.dtd\">\n<svg xmlns:xlink=\"http://www.w3.org/1999/xlink\" width=\"572.4pt\" height=\"69.84pt\" viewBox=\"0 0 572.4 69.84\" xmlns=\"http://www.w3.org/2000/svg\" version=\"1.1\">\n <metadata>\n  <rdf:RDF xmlns:dc=\"http://purl.org/dc/elements/1.1/\" xmlns:cc=\"http://creativecommons.org/ns#\" xmlns:rdf=\"http://www.w3.org/1999/02/22-rdf-syntax-ns#\">\n   <cc:Work>\n    <dc:type rdf:resource=\"http://purl.org/dc/dcmitype/StillImage\"/>\n    <dc:date>2025-03-18T14:50:55.701677</dc:date>\n    <dc:format>image/svg+xml</dc:format>\n    <dc:creator>\n     <cc:Agent>\n      <dc:title>Matplotlib v3.10.0, https://matplotlib.org/</dc:title>\n     </cc:Agent>\n    </dc:creator>\n   </cc:Work>\n  </rdf:RDF>\n </metadata>\n <defs>\n  <style type=\"text/css\">*{stroke-linejoin: round; stroke-linecap: butt}</style>\n </defs>\n <g id=\"figure_1\">\n  <g id=\"patch_1\">\n   <path d=\"M 0 69.84 \nL 572.4 69.84 \nL 572.4 0 \nL 0 0 \nz\n\" style=\"fill: #ffffff\"/>\n  </g>\n  <g id=\"axes_1\">\n   <g id=\"patch_2\">\n    <path d=\"M 7.2 62.64 \nL 63 62.64 \nL 63 7.2 \nL 7.2 7.2 \nz\n\" clip-path=\"url(#p1d8f693a21)\" style=\"fill: #1f77b4\"/>\n   </g>\n   <g id=\"patch_3\">\n    <path d=\"M 63 62.64 \nL 118.8 62.64 \nL 118.8 7.2 \nL 63 7.2 \nz\n\" clip-path=\"url(#p1d8f693a21)\" style=\"fill: #ff7f0e\"/>\n   </g>\n   <g id=\"patch_4\">\n    <path d=\"M 118.8 62.64 \nL 174.6 62.64 \nL 174.6 7.2 \nL 118.8 7.2 \nz\n\" clip-path=\"url(#p1d8f693a21)\" style=\"fill: #2ca02c\"/>\n   </g>\n   <g id=\"patch_5\">\n    <path d=\"M 174.6 62.64 \nL 230.4 62.64 \nL 230.4 7.2 \nL 174.6 7.2 \nz\n\" clip-path=\"url(#p1d8f693a21)\" style=\"fill: #d62728\"/>\n   </g>\n   <g id=\"patch_6\">\n    <path d=\"M 230.4 62.64 \nL 286.2 62.64 \nL 286.2 7.2 \nL 230.4 7.2 \nz\n\" clip-path=\"url(#p1d8f693a21)\" style=\"fill: #9467bd\"/>\n   </g>\n   <g id=\"patch_7\">\n    <path d=\"M 286.2 62.64 \nL 342 62.64 \nL 342 7.2 \nL 286.2 7.2 \nz\n\" clip-path=\"url(#p1d8f693a21)\" style=\"fill: #8c564b\"/>\n   </g>\n   <g id=\"patch_8\">\n    <path d=\"M 342 62.64 \nL 397.8 62.64 \nL 397.8 7.2 \nL 342 7.2 \nz\n\" clip-path=\"url(#p1d8f693a21)\" style=\"fill: #e377c2\"/>\n   </g>\n   <g id=\"patch_9\">\n    <path d=\"M 397.8 62.64 \nL 453.6 62.64 \nL 453.6 7.2 \nL 397.8 7.2 \nz\n\" clip-path=\"url(#p1d8f693a21)\" style=\"fill: #7f7f7f\"/>\n   </g>\n   <g id=\"patch_10\">\n    <path d=\"M 453.6 62.64 \nL 509.4 62.64 \nL 509.4 7.2 \nL 453.6 7.2 \nz\n\" clip-path=\"url(#p1d8f693a21)\" style=\"fill: #bcbd22\"/>\n   </g>\n   <g id=\"patch_11\">\n    <path d=\"M 509.4 62.64 \nL 565.2 62.64 \nL 565.2 7.2 \nL 509.4 7.2 \nz\n\" clip-path=\"url(#p1d8f693a21)\" style=\"fill: #17becf\"/>\n   </g>\n  </g>\n </g>\n <defs>\n  <clipPath id=\"p1d8f693a21\">\n   <rect x=\"7.2\" y=\"7.2\" width=\"558\" height=\"55.44\"/>\n  </clipPath>\n </defs>\n</svg>\n"
     },
     "metadata": {},
     "output_type": "display_data"
    }
   ],
   "execution_count": 65
  },
  {
   "cell_type": "code",
   "metadata": {
    "ExecuteTime": {
     "end_time": "2025-03-18T13:51:03.634300Z",
     "start_time": "2025-03-18T13:50:57.430905Z"
    }
   },
   "source": [
    "plot_color_grid([mpl.colormaps['tab10'](i) for i in range(0, 10, 1)])"
   ],
   "outputs": [
    {
     "data": {
      "text/plain": [
       "<Figure size 1000x100 with 1 Axes>"
      ],
      "image/svg+xml": "<?xml version=\"1.0\" encoding=\"utf-8\" standalone=\"no\"?>\n<!DOCTYPE svg PUBLIC \"-//W3C//DTD SVG 1.1//EN\"\n  \"http://www.w3.org/Graphics/SVG/1.1/DTD/svg11.dtd\">\n<svg xmlns:xlink=\"http://www.w3.org/1999/xlink\" width=\"572.4pt\" height=\"69.84pt\" viewBox=\"0 0 572.4 69.84\" xmlns=\"http://www.w3.org/2000/svg\" version=\"1.1\">\n <metadata>\n  <rdf:RDF xmlns:dc=\"http://purl.org/dc/elements/1.1/\" xmlns:cc=\"http://creativecommons.org/ns#\" xmlns:rdf=\"http://www.w3.org/1999/02/22-rdf-syntax-ns#\">\n   <cc:Work>\n    <dc:type rdf:resource=\"http://purl.org/dc/dcmitype/StillImage\"/>\n    <dc:date>2025-03-18T14:50:57.442018</dc:date>\n    <dc:format>image/svg+xml</dc:format>\n    <dc:creator>\n     <cc:Agent>\n      <dc:title>Matplotlib v3.10.0, https://matplotlib.org/</dc:title>\n     </cc:Agent>\n    </dc:creator>\n   </cc:Work>\n  </rdf:RDF>\n </metadata>\n <defs>\n  <style type=\"text/css\">*{stroke-linejoin: round; stroke-linecap: butt}</style>\n </defs>\n <g id=\"figure_1\">\n  <g id=\"patch_1\">\n   <path d=\"M 0 69.84 \nL 572.4 69.84 \nL 572.4 0 \nL 0 0 \nz\n\" style=\"fill: #ffffff\"/>\n  </g>\n  <g id=\"axes_1\">\n   <g id=\"patch_2\">\n    <path d=\"M 7.2 62.64 \nL 63 62.64 \nL 63 7.2 \nL 7.2 7.2 \nz\n\" clip-path=\"url(#pe4ee4a4c46)\" style=\"fill: #1f77b4\"/>\n   </g>\n   <g id=\"patch_3\">\n    <path d=\"M 63 62.64 \nL 118.8 62.64 \nL 118.8 7.2 \nL 63 7.2 \nz\n\" clip-path=\"url(#pe4ee4a4c46)\" style=\"fill: #ff7f0e\"/>\n   </g>\n   <g id=\"patch_4\">\n    <path d=\"M 118.8 62.64 \nL 174.6 62.64 \nL 174.6 7.2 \nL 118.8 7.2 \nz\n\" clip-path=\"url(#pe4ee4a4c46)\" style=\"fill: #2ca02c\"/>\n   </g>\n   <g id=\"patch_5\">\n    <path d=\"M 174.6 62.64 \nL 230.4 62.64 \nL 230.4 7.2 \nL 174.6 7.2 \nz\n\" clip-path=\"url(#pe4ee4a4c46)\" style=\"fill: #d62728\"/>\n   </g>\n   <g id=\"patch_6\">\n    <path d=\"M 230.4 62.64 \nL 286.2 62.64 \nL 286.2 7.2 \nL 230.4 7.2 \nz\n\" clip-path=\"url(#pe4ee4a4c46)\" style=\"fill: #9467bd\"/>\n   </g>\n   <g id=\"patch_7\">\n    <path d=\"M 286.2 62.64 \nL 342 62.64 \nL 342 7.2 \nL 286.2 7.2 \nz\n\" clip-path=\"url(#pe4ee4a4c46)\" style=\"fill: #8c564b\"/>\n   </g>\n   <g id=\"patch_8\">\n    <path d=\"M 342 62.64 \nL 397.8 62.64 \nL 397.8 7.2 \nL 342 7.2 \nz\n\" clip-path=\"url(#pe4ee4a4c46)\" style=\"fill: #e377c2\"/>\n   </g>\n   <g id=\"patch_9\">\n    <path d=\"M 397.8 62.64 \nL 453.6 62.64 \nL 453.6 7.2 \nL 397.8 7.2 \nz\n\" clip-path=\"url(#pe4ee4a4c46)\" style=\"fill: #7f7f7f\"/>\n   </g>\n   <g id=\"patch_10\">\n    <path d=\"M 453.6 62.64 \nL 509.4 62.64 \nL 509.4 7.2 \nL 453.6 7.2 \nz\n\" clip-path=\"url(#pe4ee4a4c46)\" style=\"fill: #bcbd22\"/>\n   </g>\n   <g id=\"patch_11\">\n    <path d=\"M 509.4 62.64 \nL 565.2 62.64 \nL 565.2 7.2 \nL 509.4 7.2 \nz\n\" clip-path=\"url(#pe4ee4a4c46)\" style=\"fill: #17becf\"/>\n   </g>\n  </g>\n </g>\n <defs>\n  <clipPath id=\"pe4ee4a4c46\">\n   <rect x=\"7.2\" y=\"7.2\" width=\"558\" height=\"55.44\"/>\n  </clipPath>\n </defs>\n</svg>\n"
     },
     "metadata": {},
     "output_type": "display_data"
    }
   ],
   "execution_count": 66
  },
  {
   "cell_type": "code",
   "metadata": {
    "ExecuteTime": {
     "end_time": "2025-03-18T13:51:03.635405Z",
     "start_time": "2025-03-18T13:50:59.223837Z"
    }
   },
   "source": [
    "plot_color_grid([mpl.colormaps['Accent'](i) for i in range(0, 10, 1)])"
   ],
   "outputs": [
    {
     "data": {
      "text/plain": [
       "<Figure size 1000x100 with 1 Axes>"
      ],
      "image/svg+xml": "<?xml version=\"1.0\" encoding=\"utf-8\" standalone=\"no\"?>\n<!DOCTYPE svg PUBLIC \"-//W3C//DTD SVG 1.1//EN\"\n  \"http://www.w3.org/Graphics/SVG/1.1/DTD/svg11.dtd\">\n<svg xmlns:xlink=\"http://www.w3.org/1999/xlink\" width=\"572.4pt\" height=\"69.84pt\" viewBox=\"0 0 572.4 69.84\" xmlns=\"http://www.w3.org/2000/svg\" version=\"1.1\">\n <metadata>\n  <rdf:RDF xmlns:dc=\"http://purl.org/dc/elements/1.1/\" xmlns:cc=\"http://creativecommons.org/ns#\" xmlns:rdf=\"http://www.w3.org/1999/02/22-rdf-syntax-ns#\">\n   <cc:Work>\n    <dc:type rdf:resource=\"http://purl.org/dc/dcmitype/StillImage\"/>\n    <dc:date>2025-03-18T14:50:59.232861</dc:date>\n    <dc:format>image/svg+xml</dc:format>\n    <dc:creator>\n     <cc:Agent>\n      <dc:title>Matplotlib v3.10.0, https://matplotlib.org/</dc:title>\n     </cc:Agent>\n    </dc:creator>\n   </cc:Work>\n  </rdf:RDF>\n </metadata>\n <defs>\n  <style type=\"text/css\">*{stroke-linejoin: round; stroke-linecap: butt}</style>\n </defs>\n <g id=\"figure_1\">\n  <g id=\"patch_1\">\n   <path d=\"M 0 69.84 \nL 572.4 69.84 \nL 572.4 0 \nL 0 0 \nz\n\" style=\"fill: #ffffff\"/>\n  </g>\n  <g id=\"axes_1\">\n   <g id=\"patch_2\">\n    <path d=\"M 7.2 62.64 \nL 63 62.64 \nL 63 7.2 \nL 7.2 7.2 \nz\n\" clip-path=\"url(#p98d733d992)\" style=\"fill: #7fc97f\"/>\n   </g>\n   <g id=\"patch_3\">\n    <path d=\"M 63 62.64 \nL 118.8 62.64 \nL 118.8 7.2 \nL 63 7.2 \nz\n\" clip-path=\"url(#p98d733d992)\" style=\"fill: #beaed4\"/>\n   </g>\n   <g id=\"patch_4\">\n    <path d=\"M 118.8 62.64 \nL 174.6 62.64 \nL 174.6 7.2 \nL 118.8 7.2 \nz\n\" clip-path=\"url(#p98d733d992)\" style=\"fill: #fdc086\"/>\n   </g>\n   <g id=\"patch_5\">\n    <path d=\"M 174.6 62.64 \nL 230.4 62.64 \nL 230.4 7.2 \nL 174.6 7.2 \nz\n\" clip-path=\"url(#p98d733d992)\" style=\"fill: #ffff99\"/>\n   </g>\n   <g id=\"patch_6\">\n    <path d=\"M 230.4 62.64 \nL 286.2 62.64 \nL 286.2 7.2 \nL 230.4 7.2 \nz\n\" clip-path=\"url(#p98d733d992)\" style=\"fill: #386cb0\"/>\n   </g>\n   <g id=\"patch_7\">\n    <path d=\"M 286.2 62.64 \nL 342 62.64 \nL 342 7.2 \nL 286.2 7.2 \nz\n\" clip-path=\"url(#p98d733d992)\" style=\"fill: #f0027f\"/>\n   </g>\n   <g id=\"patch_8\">\n    <path d=\"M 342 62.64 \nL 397.8 62.64 \nL 397.8 7.2 \nL 342 7.2 \nz\n\" clip-path=\"url(#p98d733d992)\" style=\"fill: #bf5b17\"/>\n   </g>\n   <g id=\"patch_9\">\n    <path d=\"M 397.8 62.64 \nL 453.6 62.64 \nL 453.6 7.2 \nL 397.8 7.2 \nz\n\" clip-path=\"url(#p98d733d992)\" style=\"fill: #666666\"/>\n   </g>\n   <g id=\"patch_10\">\n    <path d=\"M 453.6 62.64 \nL 509.4 62.64 \nL 509.4 7.2 \nL 453.6 7.2 \nz\n\" clip-path=\"url(#p98d733d992)\" style=\"fill: #666666\"/>\n   </g>\n   <g id=\"patch_11\">\n    <path d=\"M 509.4 62.64 \nL 565.2 62.64 \nL 565.2 7.2 \nL 509.4 7.2 \nz\n\" clip-path=\"url(#p98d733d992)\" style=\"fill: #666666\"/>\n   </g>\n  </g>\n </g>\n <defs>\n  <clipPath id=\"p98d733d992\">\n   <rect x=\"7.2\" y=\"7.2\" width=\"558\" height=\"55.44\"/>\n  </clipPath>\n </defs>\n</svg>\n"
     },
     "metadata": {},
     "output_type": "display_data"
    }
   ],
   "execution_count": 67
  },
  {
   "cell_type": "code",
   "metadata": {
    "ExecuteTime": {
     "end_time": "2025-03-18T13:51:08.118036Z",
     "start_time": "2025-03-18T13:51:08.105694Z"
    }
   },
   "source": [
    "# all colors from a qualitative colormap:\n",
    "plot_color_grid([plt.cm.Accent(i) for i in range(plt.cm.Accent.N)])"
   ],
   "outputs": [
    {
     "data": {
      "text/plain": [
       "<Figure size 800x100 with 1 Axes>"
      ],
      "image/svg+xml": "<?xml version=\"1.0\" encoding=\"utf-8\" standalone=\"no\"?>\n<!DOCTYPE svg PUBLIC \"-//W3C//DTD SVG 1.1//EN\"\n  \"http://www.w3.org/Graphics/SVG/1.1/DTD/svg11.dtd\">\n<svg xmlns:xlink=\"http://www.w3.org/1999/xlink\" width=\"460.8pt\" height=\"69.84pt\" viewBox=\"0 0 460.8 69.84\" xmlns=\"http://www.w3.org/2000/svg\" version=\"1.1\">\n <metadata>\n  <rdf:RDF xmlns:dc=\"http://purl.org/dc/elements/1.1/\" xmlns:cc=\"http://creativecommons.org/ns#\" xmlns:rdf=\"http://www.w3.org/1999/02/22-rdf-syntax-ns#\">\n   <cc:Work>\n    <dc:type rdf:resource=\"http://purl.org/dc/dcmitype/StillImage\"/>\n    <dc:date>2025-03-18T14:51:08.114897</dc:date>\n    <dc:format>image/svg+xml</dc:format>\n    <dc:creator>\n     <cc:Agent>\n      <dc:title>Matplotlib v3.10.0, https://matplotlib.org/</dc:title>\n     </cc:Agent>\n    </dc:creator>\n   </cc:Work>\n  </rdf:RDF>\n </metadata>\n <defs>\n  <style type=\"text/css\">*{stroke-linejoin: round; stroke-linecap: butt}</style>\n </defs>\n <g id=\"figure_1\">\n  <g id=\"patch_1\">\n   <path d=\"M 0 69.84 \nL 460.8 69.84 \nL 460.8 0 \nL 0 0 \nz\n\" style=\"fill: #ffffff\"/>\n  </g>\n  <g id=\"axes_1\">\n   <g id=\"patch_2\">\n    <path d=\"M 7.2 62.64 \nL 63 62.64 \nL 63 7.2 \nL 7.2 7.2 \nz\n\" clip-path=\"url(#pc3ea37d964)\" style=\"fill: #7fc97f\"/>\n   </g>\n   <g id=\"patch_3\">\n    <path d=\"M 63 62.64 \nL 118.8 62.64 \nL 118.8 7.2 \nL 63 7.2 \nz\n\" clip-path=\"url(#pc3ea37d964)\" style=\"fill: #beaed4\"/>\n   </g>\n   <g id=\"patch_4\">\n    <path d=\"M 118.8 62.64 \nL 174.6 62.64 \nL 174.6 7.2 \nL 118.8 7.2 \nz\n\" clip-path=\"url(#pc3ea37d964)\" style=\"fill: #fdc086\"/>\n   </g>\n   <g id=\"patch_5\">\n    <path d=\"M 174.6 62.64 \nL 230.4 62.64 \nL 230.4 7.2 \nL 174.6 7.2 \nz\n\" clip-path=\"url(#pc3ea37d964)\" style=\"fill: #ffff99\"/>\n   </g>\n   <g id=\"patch_6\">\n    <path d=\"M 230.4 62.64 \nL 286.2 62.64 \nL 286.2 7.2 \nL 230.4 7.2 \nz\n\" clip-path=\"url(#pc3ea37d964)\" style=\"fill: #386cb0\"/>\n   </g>\n   <g id=\"patch_7\">\n    <path d=\"M 286.2 62.64 \nL 342 62.64 \nL 342 7.2 \nL 286.2 7.2 \nz\n\" clip-path=\"url(#pc3ea37d964)\" style=\"fill: #f0027f\"/>\n   </g>\n   <g id=\"patch_8\">\n    <path d=\"M 342 62.64 \nL 397.8 62.64 \nL 397.8 7.2 \nL 342 7.2 \nz\n\" clip-path=\"url(#pc3ea37d964)\" style=\"fill: #bf5b17\"/>\n   </g>\n   <g id=\"patch_9\">\n    <path d=\"M 397.8 62.64 \nL 453.6 62.64 \nL 453.6 7.2 \nL 397.8 7.2 \nz\n\" clip-path=\"url(#pc3ea37d964)\" style=\"fill: #666666\"/>\n   </g>\n  </g>\n </g>\n <defs>\n  <clipPath id=\"pc3ea37d964\">\n   <rect x=\"7.2\" y=\"7.2\" width=\"446.4\" height=\"55.44\"/>\n  </clipPath>\n </defs>\n</svg>\n"
     },
     "metadata": {},
     "output_type": "display_data"
    }
   ],
   "execution_count": 89
  },
  {
   "cell_type": "code",
   "metadata": {
    "ExecuteTime": {
     "end_time": "2025-03-18T13:51:10.302298Z",
     "start_time": "2025-03-18T13:51:10.300255Z"
    }
   },
   "source": [
    "# Generate sample data\n",
    "np.random.seed(42)  # For reproducibility\n",
    "n_points = 100\n",
    "\n",
    "# Two continuous numerical variables for x and y\n",
    "x = np.random.normal(loc=0, scale=1, size=n_points)\n",
    "y = x + np.random.normal(loc=0, scale=1, size=n_points)\n",
    "\n",
    "# Third variable: categorical with values 1, 2, 3\n",
    "categories = np.random.randint(1, 4, size=n_points)  # Values 1, 2, or 3\n",
    "\n",
    "# Fourth variable: continuous numerical\n",
    "continuous_var = np.random.uniform(0, 10, size=n_points)"
   ],
   "outputs": [],
   "execution_count": 91
  },
  {
   "cell_type": "code",
   "metadata": {
    "ExecuteTime": {
     "end_time": "2025-03-18T13:51:48.213268Z",
     "start_time": "2025-03-18T13:51:48.198357Z"
    }
   },
   "source": [
    "from mpl.colors import ListedColormap\n",
    "\n",
    "# Create a 1x3 subplot grid\n",
    "fig, axes = plt.subplots(1, 3, figsize=(18, 6))\n",
    "fig.suptitle('Scatter Plot Coloring Examples', fontsize=16)\n",
    "\n",
    "# Plot 1: Single color for all points\n",
    "axes[0].scatter(x, y, color='blue', s=100, alpha=0.7)\n",
    "axes[0].set_title('1. Single Color for All Points')\n",
    "axes[0].set_xlabel('X Variable')\n",
    "axes[0].set_ylabel('Y Variable')\n",
    "axes[0].grid(True, alpha=0.3)\n",
    "\n",
    "# Plot 2: Categorical variable mapped to colors\n",
    "# Use just the first 3 colors from the 'Accent' colormap\n",
    "accent_colors = plt.cm.Accent(np.linspace(0, 1, 8))[:3]  # Get first 3 colors from Accent\n",
    "cat_cmap = ListedColormap(accent_colors)\n",
    "\n",
    "scatter2 = axes[1].scatter(x, y, c=categories, cmap=cat_cmap, \n",
    "                         s=100, alpha=0.7, vmin=1, vmax=3)\n",
    "axes[1].set_title('2. Categorical Variable (1, 2, 3) Mapped to Colors')\n",
    "axes[1].set_xlabel('X Variable')\n",
    "axes[1].set_ylabel('Y Variable')\n",
    "axes[1].grid(True, alpha=0.3)\n",
    "\n",
    "# Create a colorbar with discrete ticks for the categories\n",
    "cbar2 = plt.colorbar(scatter2, ax=axes[1], ticks=[1.33, 2, 2.67])\n",
    "cbar2.set_label('Category')\n",
    "cbar2.set_ticklabels(['Category 1', 'Category 2', 'Category 3'])\n",
    "\n",
    "# Plot 3: Continuous variable mapped to colors\n",
    "scatter3 = axes[2].scatter(x, y, c=continuous_var, cmap='viridis', \n",
    "                         s=100, alpha=0.7)\n",
    "axes[2].set_title('3. Continuous Variable Mapped to Colors')\n",
    "axes[2].set_xlabel('X Variable')\n",
    "axes[2].set_ylabel('Y Variable')\n",
    "axes[2].grid(True, alpha=0.3)\n",
    "\n",
    "# Add a colorbar for the continuous variable\n",
    "cbar3 = plt.colorbar(scatter3, ax=axes[2])\n",
    "cbar3.set_label('Continuous Variable Value')\n",
    "\n",
    "plt.tight_layout()\n",
    "plt.subplots_adjust(top=0.88)\n",
    "plt.show()\n",
    "\n",
    "# Bonus plot: Combined visualization showing both categorical and continuous variables\n",
    "plt.figure(figsize=(10, 8))\n",
    "\n",
    "# Use categorical variable for colors and continuous variable for size\n",
    "scatter = plt.scatter(x, y, c=categories, cmap=cat_cmap, \n",
    "                     s=continuous_var*20, alpha=0.7, vmin=1, vmax=3)\n",
    "\n",
    "plt.title('Combined Visualization: Colors (Categories) and Sizes (Continuous Variable)')\n",
    "plt.xlabel('X Variable')\n",
    "plt.ylabel('Y Variable')\n",
    "plt.grid(True, alpha=0.3)\n",
    "\n",
    "# Create a colorbar with discrete ticks for the categories\n",
    "cbar = plt.colorbar(scatter, ticks=[1.33, 2, 2.67])\n",
    "cbar.set_label('Category')\n",
    "cbar.set_ticklabels(['Category 1', 'Category 2', 'Category 3'])\n",
    "\n",
    "# Add a legend for the size scale\n",
    "sizes = [2, 5, 8]\n",
    "labels = ['Low', 'Medium', 'High']\n",
    "handles = []\n",
    "for size in sizes:\n",
    "    handles.append(plt.scatter([], [], c='gray', s=size*20, alpha=0.7))\n",
    "plt.legend(handles, labels, title=\"Continuous Variable\", loc=\"upper left\")\n",
    "\n",
    "plt.tight_layout()\n",
    "plt.show()"
   ],
   "outputs": [
    {
     "ename": "ModuleNotFoundError",
     "evalue": "No module named 'mpl'",
     "output_type": "error",
     "traceback": [
      "\u001B[0;31m---------------------------------------------------------------------------\u001B[0m",
      "\u001B[0;31mModuleNotFoundError\u001B[0m                       Traceback (most recent call last)",
      "Cell \u001B[0;32mIn[102], line 1\u001B[0m\n\u001B[0;32m----> 1\u001B[0m \u001B[38;5;28;01mfrom\u001B[39;00m\u001B[38;5;250m \u001B[39m\u001B[38;5;21;01mmpl\u001B[39;00m\u001B[38;5;21;01m.\u001B[39;00m\u001B[38;5;21;01mcolors\u001B[39;00m\u001B[38;5;250m \u001B[39m\u001B[38;5;28;01mimport\u001B[39;00m ListedColormap\n\u001B[1;32m      3\u001B[0m \u001B[38;5;66;03m# Create a 1x3 subplot grid\u001B[39;00m\n\u001B[1;32m      4\u001B[0m fig, axes \u001B[38;5;241m=\u001B[39m plt\u001B[38;5;241m.\u001B[39msubplots(\u001B[38;5;241m1\u001B[39m, \u001B[38;5;241m3\u001B[39m, figsize\u001B[38;5;241m=\u001B[39m(\u001B[38;5;241m18\u001B[39m, \u001B[38;5;241m6\u001B[39m))\n",
      "\u001B[0;31mModuleNotFoundError\u001B[0m: No module named 'mpl'"
     ]
    }
   ],
   "execution_count": 102
  },
  {
   "cell_type": "markdown",
   "metadata": {},
   "source": [
    "## Challenge: How many visual variables can we manage in a graph?\n",
    "We use a cars dataset:"
   ]
  },
  {
   "cell_type": "code",
   "metadata": {
    "ExecuteTime": {
     "end_time": "2025-03-18T13:56:56.921616Z",
     "start_time": "2025-03-18T13:56:56.865422Z"
    }
   },
   "source": [
    "df = pd.read_csv(os.path.join(data_folder, 'motortrends', 'mtcars.csv'), delimiter=',')\n",
    "df"
   ],
   "outputs": [
    {
     "data": {
      "text/plain": [
       "                  model   mpg  cyl   disp   hp  drat     wt   qsec  vs  am  \\\n",
       "0             Mazda RX4  21.0    6  160.0  110  3.90  2.620  16.46   0   1   \n",
       "1         Mazda RX4 Wag  21.0    6  160.0  110  3.90  2.875  17.02   0   1   \n",
       "2            Datsun 710  22.8    4  108.0   93  3.85  2.320  18.61   1   1   \n",
       "3        Hornet 4 Drive  21.4    6  258.0  110  3.08  3.215  19.44   1   0   \n",
       "4     Hornet Sportabout  18.7    8  360.0  175  3.15  3.440  17.02   0   0   \n",
       "5               Valiant  18.1    6  225.0  105  2.76  3.460  20.22   1   0   \n",
       "6            Duster 360  14.3    8  360.0  245  3.21  3.570  15.84   0   0   \n",
       "7             Merc 240D  24.4    4  146.7   62  3.69  3.190  20.00   1   0   \n",
       "8              Merc 230  22.8    4  140.8   95  3.92  3.150  22.90   1   0   \n",
       "9              Merc 280  19.2    6  167.6  123  3.92  3.440  18.30   1   0   \n",
       "10            Merc 280C  17.8    6  167.6  123  3.92  3.440  18.90   1   0   \n",
       "11           Merc 450SE  16.4    8  275.8  180  3.07  4.070  17.40   0   0   \n",
       "12           Merc 450SL  17.3    8  275.8  180  3.07  3.730  17.60   0   0   \n",
       "13          Merc 450SLC  15.2    8  275.8  180  3.07  3.780  18.00   0   0   \n",
       "14   Cadillac Fleetwood  10.4    8  472.0  205  2.93  5.250  17.98   0   0   \n",
       "15  Lincoln Continental  10.4    8  460.0  215  3.00  5.424  17.82   0   0   \n",
       "16    Chrysler Imperial  14.7    8  440.0  230  3.23  5.345  17.42   0   0   \n",
       "17             Fiat 128  32.4    4   78.7   66  4.08  2.200  19.47   1   1   \n",
       "18          Honda Civic  30.4    4   75.7   52  4.93  1.615  18.52   1   1   \n",
       "19       Toyota Corolla  33.9    4   71.1   65  4.22  1.835  19.90   1   1   \n",
       "20        Toyota Corona  21.5    4  120.1   97  3.70  2.465  20.01   1   0   \n",
       "21     Dodge Challenger  15.5    8  318.0  150  2.76  3.520  16.87   0   0   \n",
       "22          AMC Javelin  15.2    8  304.0  150  3.15  3.435  17.30   0   0   \n",
       "23           Camaro Z28  13.3    8  350.0  245  3.73  3.840  15.41   0   0   \n",
       "24     Pontiac Firebird  19.2    8  400.0  175  3.08  3.845  17.05   0   0   \n",
       "25            Fiat X1-9  27.3    4   79.0   66  4.08  1.935  18.90   1   1   \n",
       "26        Porsche 914-2  26.0    4  120.3   91  4.43  2.140  16.70   0   1   \n",
       "27         Lotus Europa  30.4    4   95.1  113  3.77  1.513  16.90   1   1   \n",
       "28       Ford Pantera L  15.8    8  351.0  264  4.22  3.170  14.50   0   1   \n",
       "29         Ferrari Dino  19.7    6  145.0  175  3.62  2.770  15.50   0   1   \n",
       "30        Maserati Bora  15.0    8  301.0  335  3.54  3.570  14.60   0   1   \n",
       "31           Volvo 142E  21.4    4  121.0  109  4.11  2.780  18.60   1   1   \n",
       "\n",
       "    gear  carb  \n",
       "0      4     4  \n",
       "1      4     4  \n",
       "2      4     1  \n",
       "3      3     1  \n",
       "4      3     2  \n",
       "5      3     1  \n",
       "6      3     4  \n",
       "7      4     2  \n",
       "8      4     2  \n",
       "9      4     4  \n",
       "10     4     4  \n",
       "11     3     3  \n",
       "12     3     3  \n",
       "13     3     3  \n",
       "14     3     4  \n",
       "15     3     4  \n",
       "16     3     4  \n",
       "17     4     1  \n",
       "18     4     2  \n",
       "19     4     1  \n",
       "20     3     1  \n",
       "21     3     2  \n",
       "22     3     2  \n",
       "23     3     4  \n",
       "24     3     2  \n",
       "25     4     1  \n",
       "26     5     2  \n",
       "27     5     2  \n",
       "28     5     4  \n",
       "29     5     6  \n",
       "30     5     8  \n",
       "31     4     2  "
      ],
      "text/html": [
       "<div>\n",
       "<style scoped>\n",
       "    .dataframe tbody tr th:only-of-type {\n",
       "        vertical-align: middle;\n",
       "    }\n",
       "\n",
       "    .dataframe tbody tr th {\n",
       "        vertical-align: top;\n",
       "    }\n",
       "\n",
       "    .dataframe thead th {\n",
       "        text-align: right;\n",
       "    }\n",
       "</style>\n",
       "<table border=\"1\" class=\"dataframe\">\n",
       "  <thead>\n",
       "    <tr style=\"text-align: right;\">\n",
       "      <th></th>\n",
       "      <th>model</th>\n",
       "      <th>mpg</th>\n",
       "      <th>cyl</th>\n",
       "      <th>disp</th>\n",
       "      <th>hp</th>\n",
       "      <th>drat</th>\n",
       "      <th>wt</th>\n",
       "      <th>qsec</th>\n",
       "      <th>vs</th>\n",
       "      <th>am</th>\n",
       "      <th>gear</th>\n",
       "      <th>carb</th>\n",
       "    </tr>\n",
       "  </thead>\n",
       "  <tbody>\n",
       "    <tr>\n",
       "      <th>0</th>\n",
       "      <td>Mazda RX4</td>\n",
       "      <td>21.0</td>\n",
       "      <td>6</td>\n",
       "      <td>160.0</td>\n",
       "      <td>110</td>\n",
       "      <td>3.90</td>\n",
       "      <td>2.620</td>\n",
       "      <td>16.46</td>\n",
       "      <td>0</td>\n",
       "      <td>1</td>\n",
       "      <td>4</td>\n",
       "      <td>4</td>\n",
       "    </tr>\n",
       "    <tr>\n",
       "      <th>1</th>\n",
       "      <td>Mazda RX4 Wag</td>\n",
       "      <td>21.0</td>\n",
       "      <td>6</td>\n",
       "      <td>160.0</td>\n",
       "      <td>110</td>\n",
       "      <td>3.90</td>\n",
       "      <td>2.875</td>\n",
       "      <td>17.02</td>\n",
       "      <td>0</td>\n",
       "      <td>1</td>\n",
       "      <td>4</td>\n",
       "      <td>4</td>\n",
       "    </tr>\n",
       "    <tr>\n",
       "      <th>2</th>\n",
       "      <td>Datsun 710</td>\n",
       "      <td>22.8</td>\n",
       "      <td>4</td>\n",
       "      <td>108.0</td>\n",
       "      <td>93</td>\n",
       "      <td>3.85</td>\n",
       "      <td>2.320</td>\n",
       "      <td>18.61</td>\n",
       "      <td>1</td>\n",
       "      <td>1</td>\n",
       "      <td>4</td>\n",
       "      <td>1</td>\n",
       "    </tr>\n",
       "    <tr>\n",
       "      <th>3</th>\n",
       "      <td>Hornet 4 Drive</td>\n",
       "      <td>21.4</td>\n",
       "      <td>6</td>\n",
       "      <td>258.0</td>\n",
       "      <td>110</td>\n",
       "      <td>3.08</td>\n",
       "      <td>3.215</td>\n",
       "      <td>19.44</td>\n",
       "      <td>1</td>\n",
       "      <td>0</td>\n",
       "      <td>3</td>\n",
       "      <td>1</td>\n",
       "    </tr>\n",
       "    <tr>\n",
       "      <th>4</th>\n",
       "      <td>Hornet Sportabout</td>\n",
       "      <td>18.7</td>\n",
       "      <td>8</td>\n",
       "      <td>360.0</td>\n",
       "      <td>175</td>\n",
       "      <td>3.15</td>\n",
       "      <td>3.440</td>\n",
       "      <td>17.02</td>\n",
       "      <td>0</td>\n",
       "      <td>0</td>\n",
       "      <td>3</td>\n",
       "      <td>2</td>\n",
       "    </tr>\n",
       "    <tr>\n",
       "      <th>5</th>\n",
       "      <td>Valiant</td>\n",
       "      <td>18.1</td>\n",
       "      <td>6</td>\n",
       "      <td>225.0</td>\n",
       "      <td>105</td>\n",
       "      <td>2.76</td>\n",
       "      <td>3.460</td>\n",
       "      <td>20.22</td>\n",
       "      <td>1</td>\n",
       "      <td>0</td>\n",
       "      <td>3</td>\n",
       "      <td>1</td>\n",
       "    </tr>\n",
       "    <tr>\n",
       "      <th>6</th>\n",
       "      <td>Duster 360</td>\n",
       "      <td>14.3</td>\n",
       "      <td>8</td>\n",
       "      <td>360.0</td>\n",
       "      <td>245</td>\n",
       "      <td>3.21</td>\n",
       "      <td>3.570</td>\n",
       "      <td>15.84</td>\n",
       "      <td>0</td>\n",
       "      <td>0</td>\n",
       "      <td>3</td>\n",
       "      <td>4</td>\n",
       "    </tr>\n",
       "    <tr>\n",
       "      <th>7</th>\n",
       "      <td>Merc 240D</td>\n",
       "      <td>24.4</td>\n",
       "      <td>4</td>\n",
       "      <td>146.7</td>\n",
       "      <td>62</td>\n",
       "      <td>3.69</td>\n",
       "      <td>3.190</td>\n",
       "      <td>20.00</td>\n",
       "      <td>1</td>\n",
       "      <td>0</td>\n",
       "      <td>4</td>\n",
       "      <td>2</td>\n",
       "    </tr>\n",
       "    <tr>\n",
       "      <th>8</th>\n",
       "      <td>Merc 230</td>\n",
       "      <td>22.8</td>\n",
       "      <td>4</td>\n",
       "      <td>140.8</td>\n",
       "      <td>95</td>\n",
       "      <td>3.92</td>\n",
       "      <td>3.150</td>\n",
       "      <td>22.90</td>\n",
       "      <td>1</td>\n",
       "      <td>0</td>\n",
       "      <td>4</td>\n",
       "      <td>2</td>\n",
       "    </tr>\n",
       "    <tr>\n",
       "      <th>9</th>\n",
       "      <td>Merc 280</td>\n",
       "      <td>19.2</td>\n",
       "      <td>6</td>\n",
       "      <td>167.6</td>\n",
       "      <td>123</td>\n",
       "      <td>3.92</td>\n",
       "      <td>3.440</td>\n",
       "      <td>18.30</td>\n",
       "      <td>1</td>\n",
       "      <td>0</td>\n",
       "      <td>4</td>\n",
       "      <td>4</td>\n",
       "    </tr>\n",
       "    <tr>\n",
       "      <th>10</th>\n",
       "      <td>Merc 280C</td>\n",
       "      <td>17.8</td>\n",
       "      <td>6</td>\n",
       "      <td>167.6</td>\n",
       "      <td>123</td>\n",
       "      <td>3.92</td>\n",
       "      <td>3.440</td>\n",
       "      <td>18.90</td>\n",
       "      <td>1</td>\n",
       "      <td>0</td>\n",
       "      <td>4</td>\n",
       "      <td>4</td>\n",
       "    </tr>\n",
       "    <tr>\n",
       "      <th>11</th>\n",
       "      <td>Merc 450SE</td>\n",
       "      <td>16.4</td>\n",
       "      <td>8</td>\n",
       "      <td>275.8</td>\n",
       "      <td>180</td>\n",
       "      <td>3.07</td>\n",
       "      <td>4.070</td>\n",
       "      <td>17.40</td>\n",
       "      <td>0</td>\n",
       "      <td>0</td>\n",
       "      <td>3</td>\n",
       "      <td>3</td>\n",
       "    </tr>\n",
       "    <tr>\n",
       "      <th>12</th>\n",
       "      <td>Merc 450SL</td>\n",
       "      <td>17.3</td>\n",
       "      <td>8</td>\n",
       "      <td>275.8</td>\n",
       "      <td>180</td>\n",
       "      <td>3.07</td>\n",
       "      <td>3.730</td>\n",
       "      <td>17.60</td>\n",
       "      <td>0</td>\n",
       "      <td>0</td>\n",
       "      <td>3</td>\n",
       "      <td>3</td>\n",
       "    </tr>\n",
       "    <tr>\n",
       "      <th>13</th>\n",
       "      <td>Merc 450SLC</td>\n",
       "      <td>15.2</td>\n",
       "      <td>8</td>\n",
       "      <td>275.8</td>\n",
       "      <td>180</td>\n",
       "      <td>3.07</td>\n",
       "      <td>3.780</td>\n",
       "      <td>18.00</td>\n",
       "      <td>0</td>\n",
       "      <td>0</td>\n",
       "      <td>3</td>\n",
       "      <td>3</td>\n",
       "    </tr>\n",
       "    <tr>\n",
       "      <th>14</th>\n",
       "      <td>Cadillac Fleetwood</td>\n",
       "      <td>10.4</td>\n",
       "      <td>8</td>\n",
       "      <td>472.0</td>\n",
       "      <td>205</td>\n",
       "      <td>2.93</td>\n",
       "      <td>5.250</td>\n",
       "      <td>17.98</td>\n",
       "      <td>0</td>\n",
       "      <td>0</td>\n",
       "      <td>3</td>\n",
       "      <td>4</td>\n",
       "    </tr>\n",
       "    <tr>\n",
       "      <th>15</th>\n",
       "      <td>Lincoln Continental</td>\n",
       "      <td>10.4</td>\n",
       "      <td>8</td>\n",
       "      <td>460.0</td>\n",
       "      <td>215</td>\n",
       "      <td>3.00</td>\n",
       "      <td>5.424</td>\n",
       "      <td>17.82</td>\n",
       "      <td>0</td>\n",
       "      <td>0</td>\n",
       "      <td>3</td>\n",
       "      <td>4</td>\n",
       "    </tr>\n",
       "    <tr>\n",
       "      <th>16</th>\n",
       "      <td>Chrysler Imperial</td>\n",
       "      <td>14.7</td>\n",
       "      <td>8</td>\n",
       "      <td>440.0</td>\n",
       "      <td>230</td>\n",
       "      <td>3.23</td>\n",
       "      <td>5.345</td>\n",
       "      <td>17.42</td>\n",
       "      <td>0</td>\n",
       "      <td>0</td>\n",
       "      <td>3</td>\n",
       "      <td>4</td>\n",
       "    </tr>\n",
       "    <tr>\n",
       "      <th>17</th>\n",
       "      <td>Fiat 128</td>\n",
       "      <td>32.4</td>\n",
       "      <td>4</td>\n",
       "      <td>78.7</td>\n",
       "      <td>66</td>\n",
       "      <td>4.08</td>\n",
       "      <td>2.200</td>\n",
       "      <td>19.47</td>\n",
       "      <td>1</td>\n",
       "      <td>1</td>\n",
       "      <td>4</td>\n",
       "      <td>1</td>\n",
       "    </tr>\n",
       "    <tr>\n",
       "      <th>18</th>\n",
       "      <td>Honda Civic</td>\n",
       "      <td>30.4</td>\n",
       "      <td>4</td>\n",
       "      <td>75.7</td>\n",
       "      <td>52</td>\n",
       "      <td>4.93</td>\n",
       "      <td>1.615</td>\n",
       "      <td>18.52</td>\n",
       "      <td>1</td>\n",
       "      <td>1</td>\n",
       "      <td>4</td>\n",
       "      <td>2</td>\n",
       "    </tr>\n",
       "    <tr>\n",
       "      <th>19</th>\n",
       "      <td>Toyota Corolla</td>\n",
       "      <td>33.9</td>\n",
       "      <td>4</td>\n",
       "      <td>71.1</td>\n",
       "      <td>65</td>\n",
       "      <td>4.22</td>\n",
       "      <td>1.835</td>\n",
       "      <td>19.90</td>\n",
       "      <td>1</td>\n",
       "      <td>1</td>\n",
       "      <td>4</td>\n",
       "      <td>1</td>\n",
       "    </tr>\n",
       "    <tr>\n",
       "      <th>20</th>\n",
       "      <td>Toyota Corona</td>\n",
       "      <td>21.5</td>\n",
       "      <td>4</td>\n",
       "      <td>120.1</td>\n",
       "      <td>97</td>\n",
       "      <td>3.70</td>\n",
       "      <td>2.465</td>\n",
       "      <td>20.01</td>\n",
       "      <td>1</td>\n",
       "      <td>0</td>\n",
       "      <td>3</td>\n",
       "      <td>1</td>\n",
       "    </tr>\n",
       "    <tr>\n",
       "      <th>21</th>\n",
       "      <td>Dodge Challenger</td>\n",
       "      <td>15.5</td>\n",
       "      <td>8</td>\n",
       "      <td>318.0</td>\n",
       "      <td>150</td>\n",
       "      <td>2.76</td>\n",
       "      <td>3.520</td>\n",
       "      <td>16.87</td>\n",
       "      <td>0</td>\n",
       "      <td>0</td>\n",
       "      <td>3</td>\n",
       "      <td>2</td>\n",
       "    </tr>\n",
       "    <tr>\n",
       "      <th>22</th>\n",
       "      <td>AMC Javelin</td>\n",
       "      <td>15.2</td>\n",
       "      <td>8</td>\n",
       "      <td>304.0</td>\n",
       "      <td>150</td>\n",
       "      <td>3.15</td>\n",
       "      <td>3.435</td>\n",
       "      <td>17.30</td>\n",
       "      <td>0</td>\n",
       "      <td>0</td>\n",
       "      <td>3</td>\n",
       "      <td>2</td>\n",
       "    </tr>\n",
       "    <tr>\n",
       "      <th>23</th>\n",
       "      <td>Camaro Z28</td>\n",
       "      <td>13.3</td>\n",
       "      <td>8</td>\n",
       "      <td>350.0</td>\n",
       "      <td>245</td>\n",
       "      <td>3.73</td>\n",
       "      <td>3.840</td>\n",
       "      <td>15.41</td>\n",
       "      <td>0</td>\n",
       "      <td>0</td>\n",
       "      <td>3</td>\n",
       "      <td>4</td>\n",
       "    </tr>\n",
       "    <tr>\n",
       "      <th>24</th>\n",
       "      <td>Pontiac Firebird</td>\n",
       "      <td>19.2</td>\n",
       "      <td>8</td>\n",
       "      <td>400.0</td>\n",
       "      <td>175</td>\n",
       "      <td>3.08</td>\n",
       "      <td>3.845</td>\n",
       "      <td>17.05</td>\n",
       "      <td>0</td>\n",
       "      <td>0</td>\n",
       "      <td>3</td>\n",
       "      <td>2</td>\n",
       "    </tr>\n",
       "    <tr>\n",
       "      <th>25</th>\n",
       "      <td>Fiat X1-9</td>\n",
       "      <td>27.3</td>\n",
       "      <td>4</td>\n",
       "      <td>79.0</td>\n",
       "      <td>66</td>\n",
       "      <td>4.08</td>\n",
       "      <td>1.935</td>\n",
       "      <td>18.90</td>\n",
       "      <td>1</td>\n",
       "      <td>1</td>\n",
       "      <td>4</td>\n",
       "      <td>1</td>\n",
       "    </tr>\n",
       "    <tr>\n",
       "      <th>26</th>\n",
       "      <td>Porsche 914-2</td>\n",
       "      <td>26.0</td>\n",
       "      <td>4</td>\n",
       "      <td>120.3</td>\n",
       "      <td>91</td>\n",
       "      <td>4.43</td>\n",
       "      <td>2.140</td>\n",
       "      <td>16.70</td>\n",
       "      <td>0</td>\n",
       "      <td>1</td>\n",
       "      <td>5</td>\n",
       "      <td>2</td>\n",
       "    </tr>\n",
       "    <tr>\n",
       "      <th>27</th>\n",
       "      <td>Lotus Europa</td>\n",
       "      <td>30.4</td>\n",
       "      <td>4</td>\n",
       "      <td>95.1</td>\n",
       "      <td>113</td>\n",
       "      <td>3.77</td>\n",
       "      <td>1.513</td>\n",
       "      <td>16.90</td>\n",
       "      <td>1</td>\n",
       "      <td>1</td>\n",
       "      <td>5</td>\n",
       "      <td>2</td>\n",
       "    </tr>\n",
       "    <tr>\n",
       "      <th>28</th>\n",
       "      <td>Ford Pantera L</td>\n",
       "      <td>15.8</td>\n",
       "      <td>8</td>\n",
       "      <td>351.0</td>\n",
       "      <td>264</td>\n",
       "      <td>4.22</td>\n",
       "      <td>3.170</td>\n",
       "      <td>14.50</td>\n",
       "      <td>0</td>\n",
       "      <td>1</td>\n",
       "      <td>5</td>\n",
       "      <td>4</td>\n",
       "    </tr>\n",
       "    <tr>\n",
       "      <th>29</th>\n",
       "      <td>Ferrari Dino</td>\n",
       "      <td>19.7</td>\n",
       "      <td>6</td>\n",
       "      <td>145.0</td>\n",
       "      <td>175</td>\n",
       "      <td>3.62</td>\n",
       "      <td>2.770</td>\n",
       "      <td>15.50</td>\n",
       "      <td>0</td>\n",
       "      <td>1</td>\n",
       "      <td>5</td>\n",
       "      <td>6</td>\n",
       "    </tr>\n",
       "    <tr>\n",
       "      <th>30</th>\n",
       "      <td>Maserati Bora</td>\n",
       "      <td>15.0</td>\n",
       "      <td>8</td>\n",
       "      <td>301.0</td>\n",
       "      <td>335</td>\n",
       "      <td>3.54</td>\n",
       "      <td>3.570</td>\n",
       "      <td>14.60</td>\n",
       "      <td>0</td>\n",
       "      <td>1</td>\n",
       "      <td>5</td>\n",
       "      <td>8</td>\n",
       "    </tr>\n",
       "    <tr>\n",
       "      <th>31</th>\n",
       "      <td>Volvo 142E</td>\n",
       "      <td>21.4</td>\n",
       "      <td>4</td>\n",
       "      <td>121.0</td>\n",
       "      <td>109</td>\n",
       "      <td>4.11</td>\n",
       "      <td>2.780</td>\n",
       "      <td>18.60</td>\n",
       "      <td>1</td>\n",
       "      <td>1</td>\n",
       "      <td>4</td>\n",
       "      <td>2</td>\n",
       "    </tr>\n",
       "  </tbody>\n",
       "</table>\n",
       "</div>"
      ]
     },
     "execution_count": 103,
     "metadata": {},
     "output_type": "execute_result"
    }
   ],
   "execution_count": 103
  },
  {
   "cell_type": "markdown",
   "metadata": {},
   "source": [
    "**To Do: Assign the Variable Types**\n",
    "* model (name of the car model): categorical/nominal\n",
    "* mpg (fuel efficiency in miles/(US) gallon): numerical/continuous\n",
    "* cyl (number of cylinders): numerical/discrete\n",
    "* disp (displacement in cubic inches): numerical/continuous\n",
    "* hp (horsepower): numerical/continuous\n",
    "* drat (rear axle ratio): numerical/continuous\n",
    "* wt (weight in 1000 lbs): numerical/continuous\n",
    "* qsec (acceleration in 1/4 mile per sec^2): numerical/continuous\n",
    "* vs (engine type 0=V-shaped, 1=straight): categorical/nominal\n",
    "* am (transmission 0=automatic, 1=manual): categorical/nominal\n",
    "* gear (number of forward gears): numerical/discrete\n",
    "* carb (number of carburators): numerical/discrete"
   ]
  },
  {
   "cell_type": "markdown",
   "metadata": {},
   "source": "**To Do: Create a scatterplot using matplotlib that shows fuel efficiency in relation to displacement**"
  },
  {
   "metadata": {},
   "cell_type": "code",
   "source": [
    "import matplotlib.pyplot as plt\n",
    "import numpy as np\n",
    "\n",
    "# Define marker styles for different cylinder counts\n",
    "marker_dict = {4: 'o', 6: 's', 8: '^'}  # circle for 4, square for 6, triangle for 8\n",
    "\n",
    "# Create figure\n",
    "plt.figure(figsize=(12, 8))\n",
    "\n",
    "# Plot each cylinder group separately\n",
    "for cyl in sorted(df['cyl'].unique()):\n",
    "    mask = df['cyl'] == cyl\n",
    "    scatter = plt.scatter(df.loc[mask, 'disp'],\n",
    "                          df.loc[mask, 'mpg'],\n",
    "                          c=df.loc[mask, 'hp'],\n",
    "                          s=df.loc[mask, 'wt'] * 50,\n",
    "                          alpha=0.8,\n",
    "                          cmap='RdYlGn_r',  # Changed colormap to RdYlGn_r\n",
    "                          marker=marker_dict[cyl],\n",
    "                          label=f'{cyl} cylinders')\n",
    "\n",
    "plt.title('Fuel Efficiency vs. Displacement', fontsize=12)\n",
    "plt.xlabel('Displacement (cubic inches)', fontsize=10)\n",
    "plt.ylabel('Fuel Efficiency (mpg)', fontsize=10)\n",
    "plt.grid(True, alpha=0.3)\n",
    "\n",
    "# Add legend (including marker size explanation)\n",
    "plt.legend(title='Cylinders', title_fontsize='large', fontsize='medium')\n",
    "\n",
    "# Add colorbar\n",
    "cbar = plt.colorbar(scatter)\n",
    "cbar.set_label('Horsepower')\n",
    "cbar.set_alpha(1)\n",
    "cbar.draw_all()\n",
    "\n",
    "# Add text explanation\n",
    "plt.text(0.65, 0.98, 'Marker size represents weight',\n",
    "         transform=plt.gca().transAxes,\n",
    "         fontsize=8,\n",
    "         verticalalignment='top')\n",
    "\n",
    "plt.tight_layout()\n",
    "plt.show()"
   ],
   "outputs": [],
   "execution_count": null
  },
  {
   "metadata": {
    "ExecuteTime": {
     "end_time": "2025-03-18T14:19:16.929129Z",
     "start_time": "2025-03-18T14:19:16.819191Z"
    }
   },
   "cell_type": "code",
   "source": [
    "import matplotlib.pyplot as plt\n",
    "import numpy as np\n",
    "\n",
    "# Define marker styles for different cylinder counts\n",
    "marker_dict = {4: 'o', 6: 's', 8: '^'}  # circle for 4, square for 6, triangle for 8\n",
    "\n",
    "# Create figure\n",
    "plt.figure(figsize=(12, 8))\n",
    "\n",
    "# Plot each combination of cylinder count and transmission type\n",
    "for cyl in sorted(df['cyl'].unique()):\n",
    "    for am in [0, 1]:  # 0 for automatic, 1 for manual\n",
    "        mask = (df['cyl'] == cyl) & (df['am'] == am)\n",
    "        scatter = plt.scatter(df.loc[mask, 'disp'],\n",
    "                              df.loc[mask, 'mpg'],\n",
    "                              c=df.loc[mask, 'hp'],\n",
    "                              s=df.loc[mask, 'wt'] * 50,\n",
    "                              alpha=0.8,\n",
    "                              cmap='RdYlGn_r',\n",
    "                              marker=marker_dict[cyl],\n",
    "                              label=f'{cyl} cyl. {\"manual\" if am else \"auto\"}.',\n",
    "                              edgecolors=['black' if am else (0,0,0,1)],  # solid black for manual, dashed for auto\n",
    "                              linestyles=['-' if am else '--'],\n",
    "                              linewidth=1.5)\n",
    "\n",
    "plt.title('Fuel Efficiency vs. Displacement', fontsize=12)\n",
    "plt.xlabel('Displacement (cubic inches)', fontsize=10)\n",
    "plt.ylabel('Fuel Efficiency (mpg)', fontsize=10)\n",
    "plt.grid(True, alpha=0.3)\n",
    "\n",
    "# Add legend (including marker size explanation and border style)\n",
    "plt.legend(title='Cylinders & Transmission', title_fontsize='large', fontsize='medium')\n",
    "\n",
    "# Add colorbar\n",
    "cbar = plt.colorbar(scatter)\n",
    "cbar.set_label('Horsepower')\n",
    "cbar.set_alpha(1)\n",
    "cbar.draw_all()\n",
    "\n",
    "# Add text explanation\n",
    "plt.text(0.55, 0.98, 'Marker size represents weight',\n",
    "         transform=plt.gca().transAxes,\n",
    "         fontsize=8,\n",
    "         verticalalignment='top')\n",
    "\n",
    "plt.tight_layout()\n",
    "plt.show()"
   ],
   "outputs": [
    {
     "ename": "AttributeError",
     "evalue": "'Colorbar' object has no attribute 'draw_all'",
     "output_type": "error",
     "traceback": [
      "\u001B[0;31m---------------------------------------------------------------------------\u001B[0m",
      "\u001B[0;31mAttributeError\u001B[0m                            Traceback (most recent call last)",
      "Cell \u001B[0;32mIn[139], line 38\u001B[0m\n\u001B[1;32m     36\u001B[0m cbar\u001B[38;5;241m.\u001B[39mset_label(\u001B[38;5;124m'\u001B[39m\u001B[38;5;124mHorsepower\u001B[39m\u001B[38;5;124m'\u001B[39m)\n\u001B[1;32m     37\u001B[0m cbar\u001B[38;5;241m.\u001B[39mset_alpha(\u001B[38;5;241m1\u001B[39m)\n\u001B[0;32m---> 38\u001B[0m \u001B[43mcbar\u001B[49m\u001B[38;5;241;43m.\u001B[39;49m\u001B[43mdraw_all\u001B[49m()\n\u001B[1;32m     40\u001B[0m \u001B[38;5;66;03m# Add text explanation\u001B[39;00m\n\u001B[1;32m     41\u001B[0m plt\u001B[38;5;241m.\u001B[39mtext(\u001B[38;5;241m0.55\u001B[39m, \u001B[38;5;241m0.98\u001B[39m, \u001B[38;5;124m'\u001B[39m\u001B[38;5;124mMarker size represents weight\u001B[39m\u001B[38;5;124m'\u001B[39m,\n\u001B[1;32m     42\u001B[0m          transform\u001B[38;5;241m=\u001B[39mplt\u001B[38;5;241m.\u001B[39mgca()\u001B[38;5;241m.\u001B[39mtransAxes,\n\u001B[1;32m     43\u001B[0m          fontsize\u001B[38;5;241m=\u001B[39m\u001B[38;5;241m8\u001B[39m,\n\u001B[1;32m     44\u001B[0m          verticalalignment\u001B[38;5;241m=\u001B[39m\u001B[38;5;124m'\u001B[39m\u001B[38;5;124mtop\u001B[39m\u001B[38;5;124m'\u001B[39m)\n",
      "\u001B[0;31mAttributeError\u001B[0m: 'Colorbar' object has no attribute 'draw_all'"
     ]
    },
    {
     "data": {
      "text/plain": [
       "<Figure size 1200x800 with 2 Axes>"
      ],
      "image/svg+xml": "<?xml version=\"1.0\" encoding=\"utf-8\" standalone=\"no\"?>\n<!DOCTYPE svg PUBLIC \"-//W3C//DTD SVG 1.1//EN\"\n  \"http://www.w3.org/Graphics/SVG/1.1/DTD/svg11.dtd\">\n<svg xmlns:xlink=\"http://www.w3.org/1999/xlink\" width=\"678.90475pt\" height=\"503.394375pt\" viewBox=\"0 0 678.90475 503.394375\" xmlns=\"http://www.w3.org/2000/svg\" version=\"1.1\">\n <metadata>\n  <rdf:RDF xmlns:dc=\"http://purl.org/dc/elements/1.1/\" xmlns:cc=\"http://creativecommons.org/ns#\" xmlns:rdf=\"http://www.w3.org/1999/02/22-rdf-syntax-ns#\">\n   <cc:Work>\n    <dc:type rdf:resource=\"http://purl.org/dc/dcmitype/StillImage\"/>\n    <dc:date>2025-03-18T15:19:16.903007</dc:date>\n    <dc:format>image/svg+xml</dc:format>\n    <dc:creator>\n     <cc:Agent>\n      <dc:title>Matplotlib v3.10.0, https://matplotlib.org/</dc:title>\n     </cc:Agent>\n    </dc:creator>\n   </cc:Work>\n  </rdf:RDF>\n </metadata>\n <defs>\n  <style type=\"text/css\">*{stroke-linejoin: round; stroke-linecap: butt}</style>\n </defs>\n <g id=\"figure_1\">\n  <g id=\"patch_1\">\n   <path d=\"M 0 503.394375 \nL 678.90475 503.394375 \nL 678.90475 0 \nL 0 0 \nz\n\" style=\"fill: #ffffff\"/>\n  </g>\n  <g id=\"axes_1\">\n   <g id=\"patch_2\">\n    <path d=\"M 40.603125 465.838125 \nL 576.283125 465.838125 \nL 576.283125 22.318125 \nL 40.603125 22.318125 \nz\n\" style=\"fill: #ffffff\"/>\n   </g>\n   <g id=\"PathCollection_1\">\n    <path d=\"M 156.785155 211.788535 \nC 158.459824 211.788535 160.066129 211.123182 161.250298 209.939012 \nC 162.434468 208.754843 163.099821 207.148539 163.099821 205.47387 \nC 163.099821 203.799201 162.434468 202.192897 161.250298 201.008727 \nC 160.066129 199.824557 158.459824 199.159204 156.785155 199.159204 \nC 155.110487 199.159204 153.504182 199.824557 152.320013 201.008727 \nC 151.135843 202.192897 150.47049 203.799201 150.47049 205.47387 \nC 150.47049 207.148539 151.135843 208.754843 152.320013 209.939012 \nC 153.504182 211.123182 155.110487 211.788535 156.785155 211.788535 \nz\n\" clip-path=\"url(#p4a3637f296)\" style=\"fill: #006837; fill-opacity: 0.8; stroke-dasharray: 5.55,2.4; stroke-dashoffset: 0\"/>\n    <path d=\"M 149.618299 239.200735 \nC 151.282435 239.200735 152.878637 238.539566 154.055359 237.362844 \nC 155.232081 236.186122 155.893249 234.589921 155.893249 232.925785 \nC 155.893249 231.261648 155.232081 229.665447 154.055359 228.488725 \nC 152.878637 227.312003 151.282435 226.650834 149.618299 226.650834 \nC 147.954163 226.650834 146.357961 227.312003 145.181239 228.488725 \nC 144.004517 229.665447 143.343349 231.261648 143.343349 232.925785 \nC 143.343349 234.589921 144.004517 236.186122 145.181239 237.362844 \nC 146.357961 238.539566 147.954163 239.200735 149.618299 239.200735 \nz\n\" clip-path=\"url(#p4a3637f296)\" style=\"fill: #c01a27; fill-opacity: 0.8; stroke-dasharray: 5.55,2.4; stroke-dashoffset: 0\"/>\n    <path d=\"M 124.473566 260.781366 \nC 125.945682 260.781366 127.357702 260.196488 128.398645 259.155545 \nC 129.439588 258.114602 130.024466 256.702582 130.024466 255.230465 \nC 130.024466 253.758349 129.439588 252.346329 128.398645 251.305386 \nC 127.357702 250.264443 125.945682 249.679565 124.473566 249.679565 \nC 123.001449 249.679565 121.589429 250.264443 120.548486 251.305386 \nC 119.507543 252.346329 118.922665 253.758349 118.922665 255.230465 \nC 118.922665 256.702582 119.507543 258.114602 120.548486 259.155545 \nC 121.589429 260.196488 123.001449 260.781366 124.473566 260.781366 \nz\n\" clip-path=\"url(#p4a3637f296)\" style=\"fill: #a50026; fill-opacity: 0.8; stroke-dasharray: 5.55,2.4; stroke-dashoffset: 0\"/>\n   </g>\n   <g id=\"PathCollection_2\">\n    <path d=\"M 109.775436 238.310949 \nC 111.203599 238.310949 112.57346 237.743534 113.583323 236.733671 \nC 114.593186 235.723808 115.160601 234.353947 115.160601 232.925785 \nC 115.160601 231.497622 114.593186 230.127761 113.583323 229.117898 \nC 112.57346 228.108035 111.203599 227.54062 109.775436 227.54062 \nC 108.347274 227.54062 106.977413 228.108035 105.96755 229.117898 \nC 104.957687 230.127761 104.390272 231.497622 104.390272 232.925785 \nC 104.390272 234.353947 104.957687 235.723808 105.96755 236.733671 \nC 106.977413 237.743534 108.347274 238.310949 109.775436 238.310949 \nz\n\" clip-path=\"url(#p4a3637f296)\" style=\"fill: #fdbb6c; fill-opacity: 0.8; stroke: #000000; stroke-opacity: 0.8; stroke-width: 1.5\"/>\n    <path d=\"M 74.184099 73.458339 \nC 75.574836 73.458339 76.908799 72.905794 77.892198 71.922394 \nC 78.875597 70.938995 79.428143 69.605032 79.428143 68.214295 \nC 79.428143 66.823558 78.875597 65.489595 77.892198 64.506196 \nC 76.908799 63.522797 75.574836 62.970251 74.184099 62.970251 \nC 72.793362 62.970251 71.459399 63.522797 70.475999 64.506196 \nC 69.4926 65.489595 68.940054 66.823558 68.940054 68.214295 \nC 68.940054 69.605032 69.4926 70.938995 70.475999 71.922394 \nC 71.459399 72.905794 72.793362 73.458339 74.184099 73.458339 \nz\n\" clip-path=\"url(#p4a3637f296)\" style=\"fill: #78c565; fill-opacity: 0.8; stroke: #000000; stroke-opacity: 0.8; stroke-width: 1.5\"/>\n    <path d=\"M 70.539934 107.022239 \nC 71.731505 107.022239 72.874433 106.548823 73.717001 105.706255 \nC 74.559569 104.863687 75.032985 103.72076 75.032985 102.529189 \nC 75.032985 101.337618 74.559569 100.19469 73.717001 99.352123 \nC 72.874433 98.509555 71.731505 98.036139 70.539934 98.036139 \nC 69.348364 98.036139 68.205436 98.509555 67.362868 99.352123 \nC 66.5203 100.19469 66.046884 101.337618 66.046884 102.529189 \nC 66.046884 103.72076 66.5203 104.863687 67.362868 105.706255 \nC 68.205436 106.548823 69.348364 107.022239 70.539934 107.022239 \nz\n\" clip-path=\"url(#p4a3637f296)\" style=\"fill: #006837; fill-opacity: 0.8; stroke: #000000; stroke-opacity: 0.8; stroke-width: 1.5\"/>\n    <path d=\"M 64.952216 47.267436 \nC 66.222356 47.267436 67.440646 46.762804 68.33877 45.864679 \nC 69.236895 44.966555 69.741527 43.748265 69.741527 42.478125 \nC 69.741527 41.207985 69.236895 39.989695 68.33877 39.091571 \nC 67.440646 38.193446 66.222356 37.688814 64.952216 37.688814 \nC 63.682076 37.688814 62.463786 38.193446 61.565662 39.091571 \nC 60.667537 39.989695 60.162905 41.207985 60.162905 42.478125 \nC 60.162905 43.748265 60.667537 44.966555 61.565662 45.864679 \nC 62.463786 46.762804 63.682076 47.267436 64.952216 47.267436 \nz\n\" clip-path=\"url(#p4a3637f296)\" style=\"fill: #6ec064; fill-opacity: 0.8; stroke: #000000; stroke-opacity: 0.8; stroke-width: 1.5\"/>\n    <path d=\"M 74.548515 160.635353 \nC 75.852805 160.635353 77.10385 160.117153 78.026122 159.194881 \nC 78.948394 158.272609 79.466594 157.021564 79.466594 155.717274 \nC 79.466594 154.412984 78.948394 153.161939 78.026122 152.239667 \nC 77.10385 151.317395 75.852805 150.799195 74.548515 150.799195 \nC 73.244225 150.799195 71.99318 151.317395 71.070908 152.239667 \nC 70.148636 153.161939 69.630436 154.412984 69.630436 155.717274 \nC 69.630436 157.021564 70.148636 158.272609 71.070908 159.194881 \nC 71.99318 160.117153 73.244225 160.635353 74.548515 160.635353 \nz\n\" clip-path=\"url(#p4a3637f296)\" style=\"fill: #78c565; fill-opacity: 0.8; stroke: #000000; stroke-opacity: 0.8; stroke-width: 1.5\"/>\n    <path d=\"M 124.71651 183.193995 \nC 126.088151 183.193995 127.403798 182.649036 128.373695 181.679139 \nC 129.343591 180.709243 129.88855 179.393596 129.88855 178.021955 \nC 129.88855 176.650314 129.343591 175.334667 128.373695 174.36477 \nC 127.403798 173.394873 126.088151 172.849915 124.71651 172.849915 \nC 123.344869 172.849915 122.029222 173.394873 121.059325 174.36477 \nC 120.089428 175.334667 119.54447 176.650314 119.54447 178.021955 \nC 119.54447 179.393596 120.089428 180.709243 121.059325 181.679139 \nC 122.029222 182.649036 123.344869 183.193995 124.71651 183.193995 \nz\n\" clip-path=\"url(#p4a3637f296)\" style=\"fill: #fecc7b; fill-opacity: 0.8; stroke: #000000; stroke-opacity: 0.8; stroke-width: 1.5\"/>\n    <path d=\"M 94.10553 106.878039 \nC 95.258859 106.878039 96.365105 106.419817 97.180632 105.60429 \nC 97.996158 104.788764 98.45438 103.682517 98.45438 102.529189 \nC 98.45438 101.37586 97.996158 100.269614 97.180632 99.454087 \nC 96.365105 98.638561 95.258859 98.180338 94.10553 98.180338 \nC 92.952201 98.180338 91.845955 98.638561 91.030428 99.454087 \nC 90.214902 100.269614 89.75668 101.37586 89.75668 102.529189 \nC 89.75668 103.682517 90.214902 104.788764 91.030428 105.60429 \nC 91.845955 106.419817 92.952201 106.878039 94.10553 106.878039 \nz\n\" clip-path=\"url(#p4a3637f296)\" style=\"fill: #a50026; fill-opacity: 0.8; stroke: #000000; stroke-opacity: 0.8; stroke-width: 1.5\"/>\n    <path d=\"M 125.566815 262.841123 \nC 127.130164 262.841123 128.629693 262.219998 129.735148 261.114543 \nC 130.840603 260.009088 131.461728 258.509559 131.461728 256.94621 \nC 131.461728 255.382861 130.840603 253.883332 129.735148 252.777877 \nC 128.629693 251.672422 127.130164 251.051297 125.566815 251.051297 \nC 124.003466 251.051297 122.503937 251.672422 121.398482 252.777877 \nC 120.293027 253.883332 119.671902 255.382861 119.671902 256.94621 \nC 119.671902 258.509559 120.293027 260.009088 121.398482 261.114543 \nC 122.503937 262.219998 124.003466 262.841123 125.566815 262.841123 \nz\n\" clip-path=\"url(#p4a3637f296)\" style=\"fill: #c41e27; fill-opacity: 0.8; stroke: #000000; stroke-opacity: 0.8; stroke-width: 1.5\"/>\n   </g>\n   <g id=\"PathCollection_3\">\n    <path d=\"M 285.644289 263.285571 \nL 298.323011 263.285571 \nL 298.323011 250.606849 \nL 285.644289 250.606849 \nz\n\" clip-path=\"url(#p4a3637f296)\" style=\"fill: #98d368; fill-opacity: 0.8; stroke-dasharray: 5.55,2.4; stroke-dashoffset: 0\"/>\n    <path d=\"M 245.32137 320.142258 \nL 258.474316 320.142258 \nL 258.474316 306.989311 \nL 245.32137 306.989311 \nz\n\" clip-path=\"url(#p4a3637f296)\" style=\"fill: #006837; fill-opacity: 0.8; stroke-dasharray: 5.55,2.4; stroke-dashoffset: 0\"/>\n    <path d=\"M 175.615395 301.250032 \nL 188.730272 301.250032 \nL 188.730272 288.135155 \nL 175.615395 288.135155 \nz\n\" clip-path=\"url(#p4a3637f296)\" style=\"fill: #a50026; fill-opacity: 0.8; stroke-dasharray: 5.55,2.4; stroke-dashoffset: 0\"/>\n    <path d=\"M 175.615395 325.270457 \nL 188.730272 325.270457 \nL 188.730272 312.15558 \nL 175.615395 312.15558 \nz\n\" clip-path=\"url(#p4a3637f296)\" style=\"fill: #a50026; fill-opacity: 0.8; stroke-dasharray: 5.55,2.4; stroke-dashoffset: 0\"/>\n   </g>\n   <g id=\"PathCollection_4\">\n    <path d=\"M 167.218189 269.53195 \nL 178.663712 269.53195 \nL 178.663712 258.086427 \nL 167.218189 258.086427 \nz\n\" clip-path=\"url(#p4a3637f296)\" style=\"fill: #006837; fill-opacity: 0.8; stroke: #000000; stroke-opacity: 0.8; stroke-width: 1.5\"/>\n    <path d=\"M 166.946161 269.803978 \nL 178.93574 269.803978 \nL 178.93574 257.814399 \nL 166.946161 257.814399 \nz\n\" clip-path=\"url(#p4a3637f296)\" style=\"fill: #006837; fill-opacity: 0.8; stroke: #000000; stroke-opacity: 0.8; stroke-width: 1.5\"/>\n    <path d=\"M 148.835828 291.998171 \nL 160.60443 291.998171 \nL 160.60443 280.229569 \nL 148.835828 280.229569 \nz\n\" clip-path=\"url(#p4a3637f296)\" style=\"fill: #a50026; fill-opacity: 0.8; stroke: #000000; stroke-opacity: 0.8; stroke-width: 1.5\"/>\n   </g>\n   <g id=\"PathCollection_5\">\n    <path d=\"M 415.885235 296.713878 \nL 409.327796 309.828755 \nL 422.442673 309.828755 \nz\n\" clip-path=\"url(#p4a3637f296)\" style=\"fill: #8ecf67; fill-opacity: 0.8; stroke-dasharray: 5.55,2.4; stroke-dashoffset: 0\"/>\n    <path d=\"M 415.885235 372.083888 \nL 409.20504 385.444277 \nL 422.565429 385.444277 \nz\n\" clip-path=\"url(#p4a3637f296)\" style=\"fill: #a50026; fill-opacity: 0.8; stroke-dasharray: 5.55,2.4; stroke-dashoffset: 0\"/>\n    <path d=\"M 313.605691 335.600773 \nL 306.47302 349.866115 \nL 320.738362 349.866115 \nz\n\" clip-path=\"url(#p4a3637f296)\" style=\"fill: #addc6f; fill-opacity: 0.8; stroke-dasharray: 5.55,2.4; stroke-dashoffset: 0\"/>\n    <path d=\"M 313.605691 320.463492 \nL 306.777441 334.119992 \nL 320.433941 334.119992 \nz\n\" clip-path=\"url(#p4a3637f296)\" style=\"fill: #addc6f; fill-opacity: 0.8; stroke-dasharray: 5.55,2.4; stroke-dashoffset: 0\"/>\n    <path d=\"M 313.605691 356.448517 \nL 306.731828 370.196244 \nL 320.479555 370.196244 \nz\n\" clip-path=\"url(#p4a3637f296)\" style=\"fill: #addc6f; fill-opacity: 0.8; stroke-dasharray: 5.55,2.4; stroke-dashoffset: 0\"/>\n    <path d=\"M 551.934034 437.577199 \nL 543.833108 453.779051 \nL 560.03496 453.779051 \nz\n\" clip-path=\"url(#p4a3637f296)\" style=\"fill: #fee695; fill-opacity: 0.8; stroke-dasharray: 5.55,2.4; stroke-dashoffset: 0\"/>\n    <path d=\"M 537.357377 437.444049 \nL 529.123301 453.912201 \nL 545.591453 453.912201 \nz\n\" clip-path=\"url(#p4a3637f296)\" style=\"fill: #fdb567; fill-opacity: 0.8; stroke-dasharray: 5.55,2.4; stroke-dashoffset: 0\"/>\n    <path d=\"M 513.062949 363.727212 \nL 504.889057 380.074995 \nL 521.23684 380.074995 \nz\n\" clip-path=\"url(#p4a3637f296)\" style=\"fill: #e75337; fill-opacity: 0.8; stroke-dasharray: 5.55,2.4; stroke-dashoffset: 0\"/>\n    <path d=\"M 364.866935 351.541897 \nL 358.233685 364.808396 \nL 371.500185 364.808396 \nz\n\" clip-path=\"url(#p4a3637f296)\" style=\"fill: #006837; fill-opacity: 0.8; stroke-dasharray: 5.55,2.4; stroke-dashoffset: 0\"/>\n    <path d=\"M 347.860835 356.769709 \nL 341.308164 369.875052 \nL 354.413506 369.875052 \nz\n\" clip-path=\"url(#p4a3637f296)\" style=\"fill: #006837; fill-opacity: 0.8; stroke-dasharray: 5.55,2.4; stroke-dashoffset: 0\"/>\n    <path d=\"M 403.738021 388.993326 \nL 396.809817 402.849732 \nL 410.666224 402.849732 \nz\n\" clip-path=\"url(#p4a3637f296)\" style=\"fill: #a50026; fill-opacity: 0.8; stroke-dasharray: 5.55,2.4; stroke-dashoffset: 0\"/>\n    <path d=\"M 464.474092 287.759881 \nL 457.541379 301.625305 \nL 471.406804 301.625305 \nz\n\" clip-path=\"url(#p4a3637f296)\" style=\"fill: #8ecf67; fill-opacity: 0.8; stroke-dasharray: 5.55,2.4; stroke-dashoffset: 0\"/>\n   </g>\n   <g id=\"PathCollection_6\">\n    <path d=\"M 404.952742 346.733073 \nL 398.657903 359.322751 \nL 411.247581 359.322751 \nz\n\" clip-path=\"url(#p4a3637f296)\" style=\"fill: #006837; fill-opacity: 0.8; stroke: #000000; stroke-opacity: 0.8; stroke-width: 1.5\"/>\n    <path d=\"M 344.216671 360.073675 \nL 337.536476 373.434064 \nL 350.896865 373.434064 \nz\n\" clip-path=\"url(#p4a3637f296)\" style=\"fill: #a50026; fill-opacity: 0.8; stroke: #000000; stroke-opacity: 0.8; stroke-width: 1.5\"/>\n   </g>\n   <g id=\"matplotlib.axis_1\">\n    <g id=\"xtick_1\">\n     <g id=\"line2d_1\">\n      <path d=\"M 100.057665 465.838125 \nL 100.057665 22.318125 \n\" clip-path=\"url(#p4a3637f296)\" style=\"fill: none; stroke: #b0b0b0; stroke-opacity: 0.3; stroke-width: 0.8; stroke-linecap: square\"/>\n     </g>\n     <g id=\"line2d_2\">\n      <defs>\n       <path id=\"mafeb834f7e\" d=\"M 0 0 \nL 0 3.5 \n\" style=\"stroke: #000000; stroke-width: 0.8\"/>\n      </defs>\n      <g>\n       <use xlink:href=\"#mafeb834f7e\" x=\"100.057665\" y=\"465.838125\" style=\"stroke: #000000; stroke-width: 0.8\"/>\n      </g>\n     </g>\n     <g id=\"text_1\">\n      <!-- 100 -->\n      <g transform=\"translate(90.513915 480.436562) scale(0.1 -0.1)\">\n       <defs>\n        <path id=\"DejaVuSans-31\" d=\"M 794 531 \nL 1825 531 \nL 1825 4091 \nL 703 3866 \nL 703 4441 \nL 1819 4666 \nL 2450 4666 \nL 2450 531 \nL 3481 531 \nL 3481 0 \nL 794 0 \nL 794 531 \nz\n\" transform=\"scale(0.015625)\"/>\n        <path id=\"DejaVuSans-30\" d=\"M 2034 4250 \nQ 1547 4250 1301 3770 \nQ 1056 3291 1056 2328 \nQ 1056 1369 1301 889 \nQ 1547 409 2034 409 \nQ 2525 409 2770 889 \nQ 3016 1369 3016 2328 \nQ 3016 3291 2770 3770 \nQ 2525 4250 2034 4250 \nz\nM 2034 4750 \nQ 2819 4750 3233 4129 \nQ 3647 3509 3647 2328 \nQ 3647 1150 3233 529 \nQ 2819 -91 2034 -91 \nQ 1250 -91 836 529 \nQ 422 1150 422 2328 \nQ 422 3509 836 4129 \nQ 1250 4750 2034 4750 \nz\n\" transform=\"scale(0.015625)\"/>\n       </defs>\n       <use xlink:href=\"#DejaVuSans-31\"/>\n       <use xlink:href=\"#DejaVuSans-30\" transform=\"translate(63.623047 0)\"/>\n       <use xlink:href=\"#DejaVuSans-30\" transform=\"translate(127.246094 0)\"/>\n      </g>\n     </g>\n    </g>\n    <g id=\"xtick_2\">\n     <g id=\"line2d_3\">\n      <path d=\"M 160.793736 465.838125 \nL 160.793736 22.318125 \n\" clip-path=\"url(#p4a3637f296)\" style=\"fill: none; stroke: #b0b0b0; stroke-opacity: 0.3; stroke-width: 0.8; stroke-linecap: square\"/>\n     </g>\n     <g id=\"line2d_4\">\n      <g>\n       <use xlink:href=\"#mafeb834f7e\" x=\"160.793736\" y=\"465.838125\" style=\"stroke: #000000; stroke-width: 0.8\"/>\n      </g>\n     </g>\n     <g id=\"text_2\">\n      <!-- 150 -->\n      <g transform=\"translate(151.249986 480.436562) scale(0.1 -0.1)\">\n       <defs>\n        <path id=\"DejaVuSans-35\" d=\"M 691 4666 \nL 3169 4666 \nL 3169 4134 \nL 1269 4134 \nL 1269 2991 \nQ 1406 3038 1543 3061 \nQ 1681 3084 1819 3084 \nQ 2600 3084 3056 2656 \nQ 3513 2228 3513 1497 \nQ 3513 744 3044 326 \nQ 2575 -91 1722 -91 \nQ 1428 -91 1123 -41 \nQ 819 9 494 109 \nL 494 744 \nQ 775 591 1075 516 \nQ 1375 441 1709 441 \nQ 2250 441 2565 725 \nQ 2881 1009 2881 1497 \nQ 2881 1984 2565 2268 \nQ 2250 2553 1709 2553 \nQ 1456 2553 1204 2497 \nQ 953 2441 691 2322 \nL 691 4666 \nz\n\" transform=\"scale(0.015625)\"/>\n       </defs>\n       <use xlink:href=\"#DejaVuSans-31\"/>\n       <use xlink:href=\"#DejaVuSans-35\" transform=\"translate(63.623047 0)\"/>\n       <use xlink:href=\"#DejaVuSans-30\" transform=\"translate(127.246094 0)\"/>\n      </g>\n     </g>\n    </g>\n    <g id=\"xtick_3\">\n     <g id=\"line2d_5\">\n      <path d=\"M 221.529807 465.838125 \nL 221.529807 22.318125 \n\" clip-path=\"url(#p4a3637f296)\" style=\"fill: none; stroke: #b0b0b0; stroke-opacity: 0.3; stroke-width: 0.8; stroke-linecap: square\"/>\n     </g>\n     <g id=\"line2d_6\">\n      <g>\n       <use xlink:href=\"#mafeb834f7e\" x=\"221.529807\" y=\"465.838125\" style=\"stroke: #000000; stroke-width: 0.8\"/>\n      </g>\n     </g>\n     <g id=\"text_3\">\n      <!-- 200 -->\n      <g transform=\"translate(211.986057 480.436562) scale(0.1 -0.1)\">\n       <defs>\n        <path id=\"DejaVuSans-32\" d=\"M 1228 531 \nL 3431 531 \nL 3431 0 \nL 469 0 \nL 469 531 \nQ 828 903 1448 1529 \nQ 2069 2156 2228 2338 \nQ 2531 2678 2651 2914 \nQ 2772 3150 2772 3378 \nQ 2772 3750 2511 3984 \nQ 2250 4219 1831 4219 \nQ 1534 4219 1204 4116 \nQ 875 4013 500 3803 \nL 500 4441 \nQ 881 4594 1212 4672 \nQ 1544 4750 1819 4750 \nQ 2544 4750 2975 4387 \nQ 3406 4025 3406 3419 \nQ 3406 3131 3298 2873 \nQ 3191 2616 2906 2266 \nQ 2828 2175 2409 1742 \nQ 1991 1309 1228 531 \nz\n\" transform=\"scale(0.015625)\"/>\n       </defs>\n       <use xlink:href=\"#DejaVuSans-32\"/>\n       <use xlink:href=\"#DejaVuSans-30\" transform=\"translate(63.623047 0)\"/>\n       <use xlink:href=\"#DejaVuSans-30\" transform=\"translate(127.246094 0)\"/>\n      </g>\n     </g>\n    </g>\n    <g id=\"xtick_4\">\n     <g id=\"line2d_7\">\n      <path d=\"M 282.265878 465.838125 \nL 282.265878 22.318125 \n\" clip-path=\"url(#p4a3637f296)\" style=\"fill: none; stroke: #b0b0b0; stroke-opacity: 0.3; stroke-width: 0.8; stroke-linecap: square\"/>\n     </g>\n     <g id=\"line2d_8\">\n      <g>\n       <use xlink:href=\"#mafeb834f7e\" x=\"282.265878\" y=\"465.838125\" style=\"stroke: #000000; stroke-width: 0.8\"/>\n      </g>\n     </g>\n     <g id=\"text_4\">\n      <!-- 250 -->\n      <g transform=\"translate(272.722128 480.436562) scale(0.1 -0.1)\">\n       <use xlink:href=\"#DejaVuSans-32\"/>\n       <use xlink:href=\"#DejaVuSans-35\" transform=\"translate(63.623047 0)\"/>\n       <use xlink:href=\"#DejaVuSans-30\" transform=\"translate(127.246094 0)\"/>\n      </g>\n     </g>\n    </g>\n    <g id=\"xtick_5\">\n     <g id=\"line2d_9\">\n      <path d=\"M 343.001949 465.838125 \nL 343.001949 22.318125 \n\" clip-path=\"url(#p4a3637f296)\" style=\"fill: none; stroke: #b0b0b0; stroke-opacity: 0.3; stroke-width: 0.8; stroke-linecap: square\"/>\n     </g>\n     <g id=\"line2d_10\">\n      <g>\n       <use xlink:href=\"#mafeb834f7e\" x=\"343.001949\" y=\"465.838125\" style=\"stroke: #000000; stroke-width: 0.8\"/>\n      </g>\n     </g>\n     <g id=\"text_5\">\n      <!-- 300 -->\n      <g transform=\"translate(333.458199 480.436562) scale(0.1 -0.1)\">\n       <defs>\n        <path id=\"DejaVuSans-33\" d=\"M 2597 2516 \nQ 3050 2419 3304 2112 \nQ 3559 1806 3559 1356 \nQ 3559 666 3084 287 \nQ 2609 -91 1734 -91 \nQ 1441 -91 1130 -33 \nQ 819 25 488 141 \nL 488 750 \nQ 750 597 1062 519 \nQ 1375 441 1716 441 \nQ 2309 441 2620 675 \nQ 2931 909 2931 1356 \nQ 2931 1769 2642 2001 \nQ 2353 2234 1838 2234 \nL 1294 2234 \nL 1294 2753 \nL 1863 2753 \nQ 2328 2753 2575 2939 \nQ 2822 3125 2822 3475 \nQ 2822 3834 2567 4026 \nQ 2313 4219 1838 4219 \nQ 1578 4219 1281 4162 \nQ 984 4106 628 3988 \nL 628 4550 \nQ 988 4650 1302 4700 \nQ 1616 4750 1894 4750 \nQ 2613 4750 3031 4423 \nQ 3450 4097 3450 3541 \nQ 3450 3153 3228 2886 \nQ 3006 2619 2597 2516 \nz\n\" transform=\"scale(0.015625)\"/>\n       </defs>\n       <use xlink:href=\"#DejaVuSans-33\"/>\n       <use xlink:href=\"#DejaVuSans-30\" transform=\"translate(63.623047 0)\"/>\n       <use xlink:href=\"#DejaVuSans-30\" transform=\"translate(127.246094 0)\"/>\n      </g>\n     </g>\n    </g>\n    <g id=\"xtick_6\">\n     <g id=\"line2d_11\">\n      <path d=\"M 403.738021 465.838125 \nL 403.738021 22.318125 \n\" clip-path=\"url(#p4a3637f296)\" style=\"fill: none; stroke: #b0b0b0; stroke-opacity: 0.3; stroke-width: 0.8; stroke-linecap: square\"/>\n     </g>\n     <g id=\"line2d_12\">\n      <g>\n       <use xlink:href=\"#mafeb834f7e\" x=\"403.738021\" y=\"465.838125\" style=\"stroke: #000000; stroke-width: 0.8\"/>\n      </g>\n     </g>\n     <g id=\"text_6\">\n      <!-- 350 -->\n      <g transform=\"translate(394.194271 480.436562) scale(0.1 -0.1)\">\n       <use xlink:href=\"#DejaVuSans-33\"/>\n       <use xlink:href=\"#DejaVuSans-35\" transform=\"translate(63.623047 0)\"/>\n       <use xlink:href=\"#DejaVuSans-30\" transform=\"translate(127.246094 0)\"/>\n      </g>\n     </g>\n    </g>\n    <g id=\"xtick_7\">\n     <g id=\"line2d_13\">\n      <path d=\"M 464.474092 465.838125 \nL 464.474092 22.318125 \n\" clip-path=\"url(#p4a3637f296)\" style=\"fill: none; stroke: #b0b0b0; stroke-opacity: 0.3; stroke-width: 0.8; stroke-linecap: square\"/>\n     </g>\n     <g id=\"line2d_14\">\n      <g>\n       <use xlink:href=\"#mafeb834f7e\" x=\"464.474092\" y=\"465.838125\" style=\"stroke: #000000; stroke-width: 0.8\"/>\n      </g>\n     </g>\n     <g id=\"text_7\">\n      <!-- 400 -->\n      <g transform=\"translate(454.930342 480.436562) scale(0.1 -0.1)\">\n       <defs>\n        <path id=\"DejaVuSans-34\" d=\"M 2419 4116 \nL 825 1625 \nL 2419 1625 \nL 2419 4116 \nz\nM 2253 4666 \nL 3047 4666 \nL 3047 1625 \nL 3713 1625 \nL 3713 1100 \nL 3047 1100 \nL 3047 0 \nL 2419 0 \nL 2419 1100 \nL 313 1100 \nL 313 1709 \nL 2253 4666 \nz\n\" transform=\"scale(0.015625)\"/>\n       </defs>\n       <use xlink:href=\"#DejaVuSans-34\"/>\n       <use xlink:href=\"#DejaVuSans-30\" transform=\"translate(63.623047 0)\"/>\n       <use xlink:href=\"#DejaVuSans-30\" transform=\"translate(127.246094 0)\"/>\n      </g>\n     </g>\n    </g>\n    <g id=\"xtick_8\">\n     <g id=\"line2d_15\">\n      <path d=\"M 525.210163 465.838125 \nL 525.210163 22.318125 \n\" clip-path=\"url(#p4a3637f296)\" style=\"fill: none; stroke: #b0b0b0; stroke-opacity: 0.3; stroke-width: 0.8; stroke-linecap: square\"/>\n     </g>\n     <g id=\"line2d_16\">\n      <g>\n       <use xlink:href=\"#mafeb834f7e\" x=\"525.210163\" y=\"465.838125\" style=\"stroke: #000000; stroke-width: 0.8\"/>\n      </g>\n     </g>\n     <g id=\"text_8\">\n      <!-- 450 -->\n      <g transform=\"translate(515.666413 480.436562) scale(0.1 -0.1)\">\n       <use xlink:href=\"#DejaVuSans-34\"/>\n       <use xlink:href=\"#DejaVuSans-35\" transform=\"translate(63.623047 0)\"/>\n       <use xlink:href=\"#DejaVuSans-30\" transform=\"translate(127.246094 0)\"/>\n      </g>\n     </g>\n    </g>\n    <g id=\"text_9\">\n     <!-- Displacement (cubic inches) -->\n     <g transform=\"translate(237.603281 494.114687) scale(0.1 -0.1)\">\n      <defs>\n       <path id=\"DejaVuSans-44\" d=\"M 1259 4147 \nL 1259 519 \nL 2022 519 \nQ 2988 519 3436 956 \nQ 3884 1394 3884 2338 \nQ 3884 3275 3436 3711 \nQ 2988 4147 2022 4147 \nL 1259 4147 \nz\nM 628 4666 \nL 1925 4666 \nQ 3281 4666 3915 4102 \nQ 4550 3538 4550 2338 \nQ 4550 1131 3912 565 \nQ 3275 0 1925 0 \nL 628 0 \nL 628 4666 \nz\n\" transform=\"scale(0.015625)\"/>\n       <path id=\"DejaVuSans-69\" d=\"M 603 3500 \nL 1178 3500 \nL 1178 0 \nL 603 0 \nL 603 3500 \nz\nM 603 4863 \nL 1178 4863 \nL 1178 4134 \nL 603 4134 \nL 603 4863 \nz\n\" transform=\"scale(0.015625)\"/>\n       <path id=\"DejaVuSans-73\" d=\"M 2834 3397 \nL 2834 2853 \nQ 2591 2978 2328 3040 \nQ 2066 3103 1784 3103 \nQ 1356 3103 1142 2972 \nQ 928 2841 928 2578 \nQ 928 2378 1081 2264 \nQ 1234 2150 1697 2047 \nL 1894 2003 \nQ 2506 1872 2764 1633 \nQ 3022 1394 3022 966 \nQ 3022 478 2636 193 \nQ 2250 -91 1575 -91 \nQ 1294 -91 989 -36 \nQ 684 19 347 128 \nL 347 722 \nQ 666 556 975 473 \nQ 1284 391 1588 391 \nQ 1994 391 2212 530 \nQ 2431 669 2431 922 \nQ 2431 1156 2273 1281 \nQ 2116 1406 1581 1522 \nL 1381 1569 \nQ 847 1681 609 1914 \nQ 372 2147 372 2553 \nQ 372 3047 722 3315 \nQ 1072 3584 1716 3584 \nQ 2034 3584 2315 3537 \nQ 2597 3491 2834 3397 \nz\n\" transform=\"scale(0.015625)\"/>\n       <path id=\"DejaVuSans-70\" d=\"M 1159 525 \nL 1159 -1331 \nL 581 -1331 \nL 581 3500 \nL 1159 3500 \nL 1159 2969 \nQ 1341 3281 1617 3432 \nQ 1894 3584 2278 3584 \nQ 2916 3584 3314 3078 \nQ 3713 2572 3713 1747 \nQ 3713 922 3314 415 \nQ 2916 -91 2278 -91 \nQ 1894 -91 1617 61 \nQ 1341 213 1159 525 \nz\nM 3116 1747 \nQ 3116 2381 2855 2742 \nQ 2594 3103 2138 3103 \nQ 1681 3103 1420 2742 \nQ 1159 2381 1159 1747 \nQ 1159 1113 1420 752 \nQ 1681 391 2138 391 \nQ 2594 391 2855 752 \nQ 3116 1113 3116 1747 \nz\n\" transform=\"scale(0.015625)\"/>\n       <path id=\"DejaVuSans-6c\" d=\"M 603 4863 \nL 1178 4863 \nL 1178 0 \nL 603 0 \nL 603 4863 \nz\n\" transform=\"scale(0.015625)\"/>\n       <path id=\"DejaVuSans-61\" d=\"M 2194 1759 \nQ 1497 1759 1228 1600 \nQ 959 1441 959 1056 \nQ 959 750 1161 570 \nQ 1363 391 1709 391 \nQ 2188 391 2477 730 \nQ 2766 1069 2766 1631 \nL 2766 1759 \nL 2194 1759 \nz\nM 3341 1997 \nL 3341 0 \nL 2766 0 \nL 2766 531 \nQ 2569 213 2275 61 \nQ 1981 -91 1556 -91 \nQ 1019 -91 701 211 \nQ 384 513 384 1019 \nQ 384 1609 779 1909 \nQ 1175 2209 1959 2209 \nL 2766 2209 \nL 2766 2266 \nQ 2766 2663 2505 2880 \nQ 2244 3097 1772 3097 \nQ 1472 3097 1187 3025 \nQ 903 2953 641 2809 \nL 641 3341 \nQ 956 3463 1253 3523 \nQ 1550 3584 1831 3584 \nQ 2591 3584 2966 3190 \nQ 3341 2797 3341 1997 \nz\n\" transform=\"scale(0.015625)\"/>\n       <path id=\"DejaVuSans-63\" d=\"M 3122 3366 \nL 3122 2828 \nQ 2878 2963 2633 3030 \nQ 2388 3097 2138 3097 \nQ 1578 3097 1268 2742 \nQ 959 2388 959 1747 \nQ 959 1106 1268 751 \nQ 1578 397 2138 397 \nQ 2388 397 2633 464 \nQ 2878 531 3122 666 \nL 3122 134 \nQ 2881 22 2623 -34 \nQ 2366 -91 2075 -91 \nQ 1284 -91 818 406 \nQ 353 903 353 1747 \nQ 353 2603 823 3093 \nQ 1294 3584 2113 3584 \nQ 2378 3584 2631 3529 \nQ 2884 3475 3122 3366 \nz\n\" transform=\"scale(0.015625)\"/>\n       <path id=\"DejaVuSans-65\" d=\"M 3597 1894 \nL 3597 1613 \nL 953 1613 \nQ 991 1019 1311 708 \nQ 1631 397 2203 397 \nQ 2534 397 2845 478 \nQ 3156 559 3463 722 \nL 3463 178 \nQ 3153 47 2828 -22 \nQ 2503 -91 2169 -91 \nQ 1331 -91 842 396 \nQ 353 884 353 1716 \nQ 353 2575 817 3079 \nQ 1281 3584 2069 3584 \nQ 2775 3584 3186 3129 \nQ 3597 2675 3597 1894 \nz\nM 3022 2063 \nQ 3016 2534 2758 2815 \nQ 2500 3097 2075 3097 \nQ 1594 3097 1305 2825 \nQ 1016 2553 972 2059 \nL 3022 2063 \nz\n\" transform=\"scale(0.015625)\"/>\n       <path id=\"DejaVuSans-6d\" d=\"M 3328 2828 \nQ 3544 3216 3844 3400 \nQ 4144 3584 4550 3584 \nQ 5097 3584 5394 3201 \nQ 5691 2819 5691 2113 \nL 5691 0 \nL 5113 0 \nL 5113 2094 \nQ 5113 2597 4934 2840 \nQ 4756 3084 4391 3084 \nQ 3944 3084 3684 2787 \nQ 3425 2491 3425 1978 \nL 3425 0 \nL 2847 0 \nL 2847 2094 \nQ 2847 2600 2669 2842 \nQ 2491 3084 2119 3084 \nQ 1678 3084 1418 2786 \nQ 1159 2488 1159 1978 \nL 1159 0 \nL 581 0 \nL 581 3500 \nL 1159 3500 \nL 1159 2956 \nQ 1356 3278 1631 3431 \nQ 1906 3584 2284 3584 \nQ 2666 3584 2933 3390 \nQ 3200 3197 3328 2828 \nz\n\" transform=\"scale(0.015625)\"/>\n       <path id=\"DejaVuSans-6e\" d=\"M 3513 2113 \nL 3513 0 \nL 2938 0 \nL 2938 2094 \nQ 2938 2591 2744 2837 \nQ 2550 3084 2163 3084 \nQ 1697 3084 1428 2787 \nQ 1159 2491 1159 1978 \nL 1159 0 \nL 581 0 \nL 581 3500 \nL 1159 3500 \nL 1159 2956 \nQ 1366 3272 1645 3428 \nQ 1925 3584 2291 3584 \nQ 2894 3584 3203 3211 \nQ 3513 2838 3513 2113 \nz\n\" transform=\"scale(0.015625)\"/>\n       <path id=\"DejaVuSans-74\" d=\"M 1172 4494 \nL 1172 3500 \nL 2356 3500 \nL 2356 3053 \nL 1172 3053 \nL 1172 1153 \nQ 1172 725 1289 603 \nQ 1406 481 1766 481 \nL 2356 481 \nL 2356 0 \nL 1766 0 \nQ 1100 0 847 248 \nQ 594 497 594 1153 \nL 594 3053 \nL 172 3053 \nL 172 3500 \nL 594 3500 \nL 594 4494 \nL 1172 4494 \nz\n\" transform=\"scale(0.015625)\"/>\n       <path id=\"DejaVuSans-20\" transform=\"scale(0.015625)\"/>\n       <path id=\"DejaVuSans-28\" d=\"M 1984 4856 \nQ 1566 4138 1362 3434 \nQ 1159 2731 1159 2009 \nQ 1159 1288 1364 580 \nQ 1569 -128 1984 -844 \nL 1484 -844 \nQ 1016 -109 783 600 \nQ 550 1309 550 2009 \nQ 550 2706 781 3412 \nQ 1013 4119 1484 4856 \nL 1984 4856 \nz\n\" transform=\"scale(0.015625)\"/>\n       <path id=\"DejaVuSans-75\" d=\"M 544 1381 \nL 544 3500 \nL 1119 3500 \nL 1119 1403 \nQ 1119 906 1312 657 \nQ 1506 409 1894 409 \nQ 2359 409 2629 706 \nQ 2900 1003 2900 1516 \nL 2900 3500 \nL 3475 3500 \nL 3475 0 \nL 2900 0 \nL 2900 538 \nQ 2691 219 2414 64 \nQ 2138 -91 1772 -91 \nQ 1169 -91 856 284 \nQ 544 659 544 1381 \nz\nM 1991 3584 \nL 1991 3584 \nz\n\" transform=\"scale(0.015625)\"/>\n       <path id=\"DejaVuSans-62\" d=\"M 3116 1747 \nQ 3116 2381 2855 2742 \nQ 2594 3103 2138 3103 \nQ 1681 3103 1420 2742 \nQ 1159 2381 1159 1747 \nQ 1159 1113 1420 752 \nQ 1681 391 2138 391 \nQ 2594 391 2855 752 \nQ 3116 1113 3116 1747 \nz\nM 1159 2969 \nQ 1341 3281 1617 3432 \nQ 1894 3584 2278 3584 \nQ 2916 3584 3314 3078 \nQ 3713 2572 3713 1747 \nQ 3713 922 3314 415 \nQ 2916 -91 2278 -91 \nQ 1894 -91 1617 61 \nQ 1341 213 1159 525 \nL 1159 0 \nL 581 0 \nL 581 4863 \nL 1159 4863 \nL 1159 2969 \nz\n\" transform=\"scale(0.015625)\"/>\n       <path id=\"DejaVuSans-68\" d=\"M 3513 2113 \nL 3513 0 \nL 2938 0 \nL 2938 2094 \nQ 2938 2591 2744 2837 \nQ 2550 3084 2163 3084 \nQ 1697 3084 1428 2787 \nQ 1159 2491 1159 1978 \nL 1159 0 \nL 581 0 \nL 581 4863 \nL 1159 4863 \nL 1159 2956 \nQ 1366 3272 1645 3428 \nQ 1925 3584 2291 3584 \nQ 2894 3584 3203 3211 \nQ 3513 2838 3513 2113 \nz\n\" transform=\"scale(0.015625)\"/>\n       <path id=\"DejaVuSans-29\" d=\"M 513 4856 \nL 1013 4856 \nQ 1481 4119 1714 3412 \nQ 1947 2706 1947 2009 \nQ 1947 1309 1714 600 \nQ 1481 -109 1013 -844 \nL 513 -844 \nQ 928 -128 1133 580 \nQ 1338 1288 1338 2009 \nQ 1338 2731 1133 3434 \nQ 928 4138 513 4856 \nz\n\" transform=\"scale(0.015625)\"/>\n      </defs>\n      <use xlink:href=\"#DejaVuSans-44\"/>\n      <use xlink:href=\"#DejaVuSans-69\" transform=\"translate(77.001953 0)\"/>\n      <use xlink:href=\"#DejaVuSans-73\" transform=\"translate(104.785156 0)\"/>\n      <use xlink:href=\"#DejaVuSans-70\" transform=\"translate(156.884766 0)\"/>\n      <use xlink:href=\"#DejaVuSans-6c\" transform=\"translate(220.361328 0)\"/>\n      <use xlink:href=\"#DejaVuSans-61\" transform=\"translate(248.144531 0)\"/>\n      <use xlink:href=\"#DejaVuSans-63\" transform=\"translate(309.423828 0)\"/>\n      <use xlink:href=\"#DejaVuSans-65\" transform=\"translate(364.404297 0)\"/>\n      <use xlink:href=\"#DejaVuSans-6d\" transform=\"translate(425.927734 0)\"/>\n      <use xlink:href=\"#DejaVuSans-65\" transform=\"translate(523.339844 0)\"/>\n      <use xlink:href=\"#DejaVuSans-6e\" transform=\"translate(584.863281 0)\"/>\n      <use xlink:href=\"#DejaVuSans-74\" transform=\"translate(648.242188 0)\"/>\n      <use xlink:href=\"#DejaVuSans-20\" transform=\"translate(687.451172 0)\"/>\n      <use xlink:href=\"#DejaVuSans-28\" transform=\"translate(719.238281 0)\"/>\n      <use xlink:href=\"#DejaVuSans-63\" transform=\"translate(758.251953 0)\"/>\n      <use xlink:href=\"#DejaVuSans-75\" transform=\"translate(813.232422 0)\"/>\n      <use xlink:href=\"#DejaVuSans-62\" transform=\"translate(876.611328 0)\"/>\n      <use xlink:href=\"#DejaVuSans-69\" transform=\"translate(940.087891 0)\"/>\n      <use xlink:href=\"#DejaVuSans-63\" transform=\"translate(967.871094 0)\"/>\n      <use xlink:href=\"#DejaVuSans-20\" transform=\"translate(1022.851562 0)\"/>\n      <use xlink:href=\"#DejaVuSans-69\" transform=\"translate(1054.638672 0)\"/>\n      <use xlink:href=\"#DejaVuSans-6e\" transform=\"translate(1082.421875 0)\"/>\n      <use xlink:href=\"#DejaVuSans-63\" transform=\"translate(1145.800781 0)\"/>\n      <use xlink:href=\"#DejaVuSans-68\" transform=\"translate(1200.78125 0)\"/>\n      <use xlink:href=\"#DejaVuSans-65\" transform=\"translate(1264.160156 0)\"/>\n      <use xlink:href=\"#DejaVuSans-73\" transform=\"translate(1325.683594 0)\"/>\n      <use xlink:href=\"#DejaVuSans-29\" transform=\"translate(1377.783203 0)\"/>\n     </g>\n    </g>\n   </g>\n   <g id=\"matplotlib.axis_2\">\n    <g id=\"ytick_1\">\n     <g id=\"line2d_17\">\n      <path d=\"M 40.603125 452.541104 \nL 576.283125 452.541104 \n\" clip-path=\"url(#p4a3637f296)\" style=\"fill: none; stroke: #b0b0b0; stroke-opacity: 0.3; stroke-width: 0.8; stroke-linecap: square\"/>\n     </g>\n     <g id=\"line2d_18\">\n      <defs>\n       <path id=\"m63c591036e\" d=\"M 0 0 \nL -3.5 0 \n\" style=\"stroke: #000000; stroke-width: 0.8\"/>\n      </defs>\n      <g>\n       <use xlink:href=\"#m63c591036e\" x=\"40.603125\" y=\"452.541104\" style=\"stroke: #000000; stroke-width: 0.8\"/>\n      </g>\n     </g>\n     <g id=\"text_10\">\n      <!-- 10 -->\n      <g transform=\"translate(20.878125 456.340322) scale(0.1 -0.1)\">\n       <use xlink:href=\"#DejaVuSans-31\"/>\n       <use xlink:href=\"#DejaVuSans-30\" transform=\"translate(63.623047 0)\"/>\n      </g>\n     </g>\n    </g>\n    <g id=\"ytick_2\">\n     <g id=\"line2d_19\">\n      <path d=\"M 40.603125 366.75387 \nL 576.283125 366.75387 \n\" clip-path=\"url(#p4a3637f296)\" style=\"fill: none; stroke: #b0b0b0; stroke-opacity: 0.3; stroke-width: 0.8; stroke-linecap: square\"/>\n     </g>\n     <g id=\"line2d_20\">\n      <g>\n       <use xlink:href=\"#m63c591036e\" x=\"40.603125\" y=\"366.75387\" style=\"stroke: #000000; stroke-width: 0.8\"/>\n      </g>\n     </g>\n     <g id=\"text_11\">\n      <!-- 15 -->\n      <g transform=\"translate(20.878125 370.553088) scale(0.1 -0.1)\">\n       <use xlink:href=\"#DejaVuSans-31\"/>\n       <use xlink:href=\"#DejaVuSans-35\" transform=\"translate(63.623047 0)\"/>\n      </g>\n     </g>\n    </g>\n    <g id=\"ytick_3\">\n     <g id=\"line2d_21\">\n      <path d=\"M 40.603125 280.966636 \nL 576.283125 280.966636 \n\" clip-path=\"url(#p4a3637f296)\" style=\"fill: none; stroke: #b0b0b0; stroke-opacity: 0.3; stroke-width: 0.8; stroke-linecap: square\"/>\n     </g>\n     <g id=\"line2d_22\">\n      <g>\n       <use xlink:href=\"#m63c591036e\" x=\"40.603125\" y=\"280.966636\" style=\"stroke: #000000; stroke-width: 0.8\"/>\n      </g>\n     </g>\n     <g id=\"text_12\">\n      <!-- 20 -->\n      <g transform=\"translate(20.878125 284.765854) scale(0.1 -0.1)\">\n       <use xlink:href=\"#DejaVuSans-32\"/>\n       <use xlink:href=\"#DejaVuSans-30\" transform=\"translate(63.623047 0)\"/>\n      </g>\n     </g>\n    </g>\n    <g id=\"ytick_4\">\n     <g id=\"line2d_23\">\n      <path d=\"M 40.603125 195.179402 \nL 576.283125 195.179402 \n\" clip-path=\"url(#p4a3637f296)\" style=\"fill: none; stroke: #b0b0b0; stroke-opacity: 0.3; stroke-width: 0.8; stroke-linecap: square\"/>\n     </g>\n     <g id=\"line2d_24\">\n      <g>\n       <use xlink:href=\"#m63c591036e\" x=\"40.603125\" y=\"195.179402\" style=\"stroke: #000000; stroke-width: 0.8\"/>\n      </g>\n     </g>\n     <g id=\"text_13\">\n      <!-- 25 -->\n      <g transform=\"translate(20.878125 198.97862) scale(0.1 -0.1)\">\n       <use xlink:href=\"#DejaVuSans-32\"/>\n       <use xlink:href=\"#DejaVuSans-35\" transform=\"translate(63.623047 0)\"/>\n      </g>\n     </g>\n    </g>\n    <g id=\"ytick_5\">\n     <g id=\"line2d_25\">\n      <path d=\"M 40.603125 109.392168 \nL 576.283125 109.392168 \n\" clip-path=\"url(#p4a3637f296)\" style=\"fill: none; stroke: #b0b0b0; stroke-opacity: 0.3; stroke-width: 0.8; stroke-linecap: square\"/>\n     </g>\n     <g id=\"line2d_26\">\n      <g>\n       <use xlink:href=\"#m63c591036e\" x=\"40.603125\" y=\"109.392168\" style=\"stroke: #000000; stroke-width: 0.8\"/>\n      </g>\n     </g>\n     <g id=\"text_14\">\n      <!-- 30 -->\n      <g transform=\"translate(20.878125 113.191386) scale(0.1 -0.1)\">\n       <use xlink:href=\"#DejaVuSans-33\"/>\n       <use xlink:href=\"#DejaVuSans-30\" transform=\"translate(63.623047 0)\"/>\n      </g>\n     </g>\n    </g>\n    <g id=\"ytick_6\">\n     <g id=\"line2d_27\">\n      <path d=\"M 40.603125 23.604934 \nL 576.283125 23.604934 \n\" clip-path=\"url(#p4a3637f296)\" style=\"fill: none; stroke: #b0b0b0; stroke-opacity: 0.3; stroke-width: 0.8; stroke-linecap: square\"/>\n     </g>\n     <g id=\"line2d_28\">\n      <g>\n       <use xlink:href=\"#m63c591036e\" x=\"40.603125\" y=\"23.604934\" style=\"stroke: #000000; stroke-width: 0.8\"/>\n      </g>\n     </g>\n     <g id=\"text_15\">\n      <!-- 35 -->\n      <g transform=\"translate(20.878125 27.404152) scale(0.1 -0.1)\">\n       <use xlink:href=\"#DejaVuSans-33\"/>\n       <use xlink:href=\"#DejaVuSans-35\" transform=\"translate(63.623047 0)\"/>\n      </g>\n     </g>\n    </g>\n    <g id=\"text_16\">\n     <!-- Fuel Efficiency (mpg) -->\n     <g transform=\"translate(14.798438 296.772656) rotate(-90) scale(0.1 -0.1)\">\n      <defs>\n       <path id=\"DejaVuSans-46\" d=\"M 628 4666 \nL 3309 4666 \nL 3309 4134 \nL 1259 4134 \nL 1259 2759 \nL 3109 2759 \nL 3109 2228 \nL 1259 2228 \nL 1259 0 \nL 628 0 \nL 628 4666 \nz\n\" transform=\"scale(0.015625)\"/>\n       <path id=\"DejaVuSans-45\" d=\"M 628 4666 \nL 3578 4666 \nL 3578 4134 \nL 1259 4134 \nL 1259 2753 \nL 3481 2753 \nL 3481 2222 \nL 1259 2222 \nL 1259 531 \nL 3634 531 \nL 3634 0 \nL 628 0 \nL 628 4666 \nz\n\" transform=\"scale(0.015625)\"/>\n       <path id=\"DejaVuSans-66\" d=\"M 2375 4863 \nL 2375 4384 \nL 1825 4384 \nQ 1516 4384 1395 4259 \nQ 1275 4134 1275 3809 \nL 1275 3500 \nL 2222 3500 \nL 2222 3053 \nL 1275 3053 \nL 1275 0 \nL 697 0 \nL 697 3053 \nL 147 3053 \nL 147 3500 \nL 697 3500 \nL 697 3744 \nQ 697 4328 969 4595 \nQ 1241 4863 1831 4863 \nL 2375 4863 \nz\n\" transform=\"scale(0.015625)\"/>\n       <path id=\"DejaVuSans-79\" d=\"M 2059 -325 \nQ 1816 -950 1584 -1140 \nQ 1353 -1331 966 -1331 \nL 506 -1331 \nL 506 -850 \nL 844 -850 \nQ 1081 -850 1212 -737 \nQ 1344 -625 1503 -206 \nL 1606 56 \nL 191 3500 \nL 800 3500 \nL 1894 763 \nL 2988 3500 \nL 3597 3500 \nL 2059 -325 \nz\n\" transform=\"scale(0.015625)\"/>\n       <path id=\"DejaVuSans-67\" d=\"M 2906 1791 \nQ 2906 2416 2648 2759 \nQ 2391 3103 1925 3103 \nQ 1463 3103 1205 2759 \nQ 947 2416 947 1791 \nQ 947 1169 1205 825 \nQ 1463 481 1925 481 \nQ 2391 481 2648 825 \nQ 2906 1169 2906 1791 \nz\nM 3481 434 \nQ 3481 -459 3084 -895 \nQ 2688 -1331 1869 -1331 \nQ 1566 -1331 1297 -1286 \nQ 1028 -1241 775 -1147 \nL 775 -588 \nQ 1028 -725 1275 -790 \nQ 1522 -856 1778 -856 \nQ 2344 -856 2625 -561 \nQ 2906 -266 2906 331 \nL 2906 616 \nQ 2728 306 2450 153 \nQ 2172 0 1784 0 \nQ 1141 0 747 490 \nQ 353 981 353 1791 \nQ 353 2603 747 3093 \nQ 1141 3584 1784 3584 \nQ 2172 3584 2450 3431 \nQ 2728 3278 2906 2969 \nL 2906 3500 \nL 3481 3500 \nL 3481 434 \nz\n\" transform=\"scale(0.015625)\"/>\n      </defs>\n      <use xlink:href=\"#DejaVuSans-46\"/>\n      <use xlink:href=\"#DejaVuSans-75\" transform=\"translate(52.019531 0)\"/>\n      <use xlink:href=\"#DejaVuSans-65\" transform=\"translate(115.398438 0)\"/>\n      <use xlink:href=\"#DejaVuSans-6c\" transform=\"translate(176.921875 0)\"/>\n      <use xlink:href=\"#DejaVuSans-20\" transform=\"translate(204.705078 0)\"/>\n      <use xlink:href=\"#DejaVuSans-45\" transform=\"translate(236.492188 0)\"/>\n      <use xlink:href=\"#DejaVuSans-66\" transform=\"translate(299.675781 0)\"/>\n      <use xlink:href=\"#DejaVuSans-66\" transform=\"translate(334.880859 0)\"/>\n      <use xlink:href=\"#DejaVuSans-69\" transform=\"translate(370.085938 0)\"/>\n      <use xlink:href=\"#DejaVuSans-63\" transform=\"translate(397.869141 0)\"/>\n      <use xlink:href=\"#DejaVuSans-69\" transform=\"translate(452.849609 0)\"/>\n      <use xlink:href=\"#DejaVuSans-65\" transform=\"translate(480.632812 0)\"/>\n      <use xlink:href=\"#DejaVuSans-6e\" transform=\"translate(542.15625 0)\"/>\n      <use xlink:href=\"#DejaVuSans-63\" transform=\"translate(605.535156 0)\"/>\n      <use xlink:href=\"#DejaVuSans-79\" transform=\"translate(660.515625 0)\"/>\n      <use xlink:href=\"#DejaVuSans-20\" transform=\"translate(719.695312 0)\"/>\n      <use xlink:href=\"#DejaVuSans-28\" transform=\"translate(751.482422 0)\"/>\n      <use xlink:href=\"#DejaVuSans-6d\" transform=\"translate(790.496094 0)\"/>\n      <use xlink:href=\"#DejaVuSans-70\" transform=\"translate(887.908203 0)\"/>\n      <use xlink:href=\"#DejaVuSans-67\" transform=\"translate(951.384766 0)\"/>\n      <use xlink:href=\"#DejaVuSans-29\" transform=\"translate(1014.861328 0)\"/>\n     </g>\n    </g>\n   </g>\n   <g id=\"patch_3\">\n    <path d=\"M 40.603125 465.838125 \nL 40.603125 22.318125 \n\" style=\"fill: none; stroke: #000000; stroke-width: 0.8; stroke-linejoin: miter; stroke-linecap: square\"/>\n   </g>\n   <g id=\"patch_4\">\n    <path d=\"M 576.283125 465.838125 \nL 576.283125 22.318125 \n\" style=\"fill: none; stroke: #000000; stroke-width: 0.8; stroke-linejoin: miter; stroke-linecap: square\"/>\n   </g>\n   <g id=\"patch_5\">\n    <path d=\"M 40.603125 465.838125 \nL 576.283125 465.838125 \n\" style=\"fill: none; stroke: #000000; stroke-width: 0.8; stroke-linejoin: miter; stroke-linecap: square\"/>\n   </g>\n   <g id=\"patch_6\">\n    <path d=\"M 40.603125 22.318125 \nL 576.283125 22.318125 \n\" style=\"fill: none; stroke: #000000; stroke-width: 0.8; stroke-linejoin: miter; stroke-linecap: square\"/>\n   </g>\n   <g id=\"text_17\">\n    <!-- Fuel Efficiency vs. Displacement -->\n    <g transform=\"translate(211.61625 16.318125) scale(0.12 -0.12)\">\n     <defs>\n      <path id=\"DejaVuSans-76\" d=\"M 191 3500 \nL 800 3500 \nL 1894 563 \nL 2988 3500 \nL 3597 3500 \nL 2284 0 \nL 1503 0 \nL 191 3500 \nz\n\" transform=\"scale(0.015625)\"/>\n      <path id=\"DejaVuSans-2e\" d=\"M 684 794 \nL 1344 794 \nL 1344 0 \nL 684 0 \nL 684 794 \nz\n\" transform=\"scale(0.015625)\"/>\n     </defs>\n     <use xlink:href=\"#DejaVuSans-46\"/>\n     <use xlink:href=\"#DejaVuSans-75\" transform=\"translate(52.019531 0)\"/>\n     <use xlink:href=\"#DejaVuSans-65\" transform=\"translate(115.398438 0)\"/>\n     <use xlink:href=\"#DejaVuSans-6c\" transform=\"translate(176.921875 0)\"/>\n     <use xlink:href=\"#DejaVuSans-20\" transform=\"translate(204.705078 0)\"/>\n     <use xlink:href=\"#DejaVuSans-45\" transform=\"translate(236.492188 0)\"/>\n     <use xlink:href=\"#DejaVuSans-66\" transform=\"translate(299.675781 0)\"/>\n     <use xlink:href=\"#DejaVuSans-66\" transform=\"translate(334.880859 0)\"/>\n     <use xlink:href=\"#DejaVuSans-69\" transform=\"translate(370.085938 0)\"/>\n     <use xlink:href=\"#DejaVuSans-63\" transform=\"translate(397.869141 0)\"/>\n     <use xlink:href=\"#DejaVuSans-69\" transform=\"translate(452.849609 0)\"/>\n     <use xlink:href=\"#DejaVuSans-65\" transform=\"translate(480.632812 0)\"/>\n     <use xlink:href=\"#DejaVuSans-6e\" transform=\"translate(542.15625 0)\"/>\n     <use xlink:href=\"#DejaVuSans-63\" transform=\"translate(605.535156 0)\"/>\n     <use xlink:href=\"#DejaVuSans-79\" transform=\"translate(660.515625 0)\"/>\n     <use xlink:href=\"#DejaVuSans-20\" transform=\"translate(719.695312 0)\"/>\n     <use xlink:href=\"#DejaVuSans-76\" transform=\"translate(751.482422 0)\"/>\n     <use xlink:href=\"#DejaVuSans-73\" transform=\"translate(810.662109 0)\"/>\n     <use xlink:href=\"#DejaVuSans-2e\" transform=\"translate(862.761719 0)\"/>\n     <use xlink:href=\"#DejaVuSans-20\" transform=\"translate(894.548828 0)\"/>\n     <use xlink:href=\"#DejaVuSans-44\" transform=\"translate(926.335938 0)\"/>\n     <use xlink:href=\"#DejaVuSans-69\" transform=\"translate(1003.337891 0)\"/>\n     <use xlink:href=\"#DejaVuSans-73\" transform=\"translate(1031.121094 0)\"/>\n     <use xlink:href=\"#DejaVuSans-70\" transform=\"translate(1083.220703 0)\"/>\n     <use xlink:href=\"#DejaVuSans-6c\" transform=\"translate(1146.697266 0)\"/>\n     <use xlink:href=\"#DejaVuSans-61\" transform=\"translate(1174.480469 0)\"/>\n     <use xlink:href=\"#DejaVuSans-63\" transform=\"translate(1235.759766 0)\"/>\n     <use xlink:href=\"#DejaVuSans-65\" transform=\"translate(1290.740234 0)\"/>\n     <use xlink:href=\"#DejaVuSans-6d\" transform=\"translate(1352.263672 0)\"/>\n     <use xlink:href=\"#DejaVuSans-65\" transform=\"translate(1449.675781 0)\"/>\n     <use xlink:href=\"#DejaVuSans-6e\" transform=\"translate(1511.199219 0)\"/>\n     <use xlink:href=\"#DejaVuSans-74\" transform=\"translate(1574.578125 0)\"/>\n    </g>\n   </g>\n   <g id=\"legend_1\">\n    <g id=\"patch_7\">\n     <path d=\"M 414.848125 135.000625 \nL 569.283125 135.000625 \nQ 571.283125 135.000625 571.283125 133.000625 \nL 571.283125 29.318125 \nQ 571.283125 27.318125 569.283125 27.318125 \nL 414.848125 27.318125 \nQ 412.848125 27.318125 412.848125 29.318125 \nL 412.848125 133.000625 \nQ 412.848125 135.000625 414.848125 135.000625 \nz\n\" style=\"fill: #ffffff; opacity: 0.8; stroke: #cccccc; stroke-linejoin: miter\"/>\n    </g>\n    <g id=\"text_18\">\n     <!-- Cylinders &amp; Transmission -->\n     <g transform=\"translate(416.848125 40.43625) scale(0.12 -0.12)\">\n      <defs>\n       <path id=\"DejaVuSans-43\" d=\"M 4122 4306 \nL 4122 3641 \nQ 3803 3938 3442 4084 \nQ 3081 4231 2675 4231 \nQ 1875 4231 1450 3742 \nQ 1025 3253 1025 2328 \nQ 1025 1406 1450 917 \nQ 1875 428 2675 428 \nQ 3081 428 3442 575 \nQ 3803 722 4122 1019 \nL 4122 359 \nQ 3791 134 3420 21 \nQ 3050 -91 2638 -91 \nQ 1578 -91 968 557 \nQ 359 1206 359 2328 \nQ 359 3453 968 4101 \nQ 1578 4750 2638 4750 \nQ 3056 4750 3426 4639 \nQ 3797 4528 4122 4306 \nz\n\" transform=\"scale(0.015625)\"/>\n       <path id=\"DejaVuSans-64\" d=\"M 2906 2969 \nL 2906 4863 \nL 3481 4863 \nL 3481 0 \nL 2906 0 \nL 2906 525 \nQ 2725 213 2448 61 \nQ 2172 -91 1784 -91 \nQ 1150 -91 751 415 \nQ 353 922 353 1747 \nQ 353 2572 751 3078 \nQ 1150 3584 1784 3584 \nQ 2172 3584 2448 3432 \nQ 2725 3281 2906 2969 \nz\nM 947 1747 \nQ 947 1113 1208 752 \nQ 1469 391 1925 391 \nQ 2381 391 2643 752 \nQ 2906 1113 2906 1747 \nQ 2906 2381 2643 2742 \nQ 2381 3103 1925 3103 \nQ 1469 3103 1208 2742 \nQ 947 2381 947 1747 \nz\n\" transform=\"scale(0.015625)\"/>\n       <path id=\"DejaVuSans-72\" d=\"M 2631 2963 \nQ 2534 3019 2420 3045 \nQ 2306 3072 2169 3072 \nQ 1681 3072 1420 2755 \nQ 1159 2438 1159 1844 \nL 1159 0 \nL 581 0 \nL 581 3500 \nL 1159 3500 \nL 1159 2956 \nQ 1341 3275 1631 3429 \nQ 1922 3584 2338 3584 \nQ 2397 3584 2469 3576 \nQ 2541 3569 2628 3553 \nL 2631 2963 \nz\n\" transform=\"scale(0.015625)\"/>\n       <path id=\"DejaVuSans-26\" d=\"M 1556 2509 \nQ 1272 2256 1139 2004 \nQ 1006 1753 1006 1478 \nQ 1006 1022 1337 719 \nQ 1669 416 2169 416 \nQ 2466 416 2725 514 \nQ 2984 613 3213 813 \nL 1556 2509 \nz\nM 1997 2859 \nL 3584 1234 \nQ 3769 1513 3872 1830 \nQ 3975 2147 3994 2503 \nL 4575 2503 \nQ 4538 2091 4375 1687 \nQ 4213 1284 3922 891 \nL 4794 0 \nL 4006 0 \nL 3559 459 \nQ 3234 181 2878 45 \nQ 2522 -91 2113 -91 \nQ 1359 -91 881 339 \nQ 403 769 403 1441 \nQ 403 1841 612 2192 \nQ 822 2544 1241 2853 \nQ 1091 3050 1012 3245 \nQ 934 3441 934 3628 \nQ 934 4134 1281 4442 \nQ 1628 4750 2203 4750 \nQ 2463 4750 2720 4694 \nQ 2978 4638 3244 4525 \nL 3244 3956 \nQ 2972 4103 2725 4179 \nQ 2478 4256 2266 4256 \nQ 1938 4256 1733 4082 \nQ 1528 3909 1528 3634 \nQ 1528 3475 1620 3314 \nQ 1713 3153 1997 2859 \nz\n\" transform=\"scale(0.015625)\"/>\n       <path id=\"DejaVuSans-54\" d=\"M -19 4666 \nL 3928 4666 \nL 3928 4134 \nL 2272 4134 \nL 2272 0 \nL 1638 0 \nL 1638 4134 \nL -19 4134 \nL -19 4666 \nz\n\" transform=\"scale(0.015625)\"/>\n       <path id=\"DejaVuSans-6f\" d=\"M 1959 3097 \nQ 1497 3097 1228 2736 \nQ 959 2375 959 1747 \nQ 959 1119 1226 758 \nQ 1494 397 1959 397 \nQ 2419 397 2687 759 \nQ 2956 1122 2956 1747 \nQ 2956 2369 2687 2733 \nQ 2419 3097 1959 3097 \nz\nM 1959 3584 \nQ 2709 3584 3137 3096 \nQ 3566 2609 3566 1747 \nQ 3566 888 3137 398 \nQ 2709 -91 1959 -91 \nQ 1206 -91 779 398 \nQ 353 888 353 1747 \nQ 353 2609 779 3096 \nQ 1206 3584 1959 3584 \nz\n\" transform=\"scale(0.015625)\"/>\n      </defs>\n      <use xlink:href=\"#DejaVuSans-43\"/>\n      <use xlink:href=\"#DejaVuSans-79\" transform=\"translate(69.824219 0)\"/>\n      <use xlink:href=\"#DejaVuSans-6c\" transform=\"translate(129.003906 0)\"/>\n      <use xlink:href=\"#DejaVuSans-69\" transform=\"translate(156.787109 0)\"/>\n      <use xlink:href=\"#DejaVuSans-6e\" transform=\"translate(184.570312 0)\"/>\n      <use xlink:href=\"#DejaVuSans-64\" transform=\"translate(247.949219 0)\"/>\n      <use xlink:href=\"#DejaVuSans-65\" transform=\"translate(311.425781 0)\"/>\n      <use xlink:href=\"#DejaVuSans-72\" transform=\"translate(372.949219 0)\"/>\n      <use xlink:href=\"#DejaVuSans-73\" transform=\"translate(414.0625 0)\"/>\n      <use xlink:href=\"#DejaVuSans-20\" transform=\"translate(466.162109 0)\"/>\n      <use xlink:href=\"#DejaVuSans-26\" transform=\"translate(497.949219 0)\"/>\n      <use xlink:href=\"#DejaVuSans-20\" transform=\"translate(575.927734 0)\"/>\n      <use xlink:href=\"#DejaVuSans-54\" transform=\"translate(607.714844 0)\"/>\n      <use xlink:href=\"#DejaVuSans-72\" transform=\"translate(654.048828 0)\"/>\n      <use xlink:href=\"#DejaVuSans-61\" transform=\"translate(695.162109 0)\"/>\n      <use xlink:href=\"#DejaVuSans-6e\" transform=\"translate(756.441406 0)\"/>\n      <use xlink:href=\"#DejaVuSans-73\" transform=\"translate(819.820312 0)\"/>\n      <use xlink:href=\"#DejaVuSans-6d\" transform=\"translate(871.919922 0)\"/>\n      <use xlink:href=\"#DejaVuSans-69\" transform=\"translate(969.332031 0)\"/>\n      <use xlink:href=\"#DejaVuSans-73\" transform=\"translate(997.115234 0)\"/>\n      <use xlink:href=\"#DejaVuSans-73\" transform=\"translate(1049.214844 0)\"/>\n      <use xlink:href=\"#DejaVuSans-69\" transform=\"translate(1101.314453 0)\"/>\n      <use xlink:href=\"#DejaVuSans-6f\" transform=\"translate(1129.097656 0)\"/>\n      <use xlink:href=\"#DejaVuSans-6e\" transform=\"translate(1190.279297 0)\"/>\n     </g>\n    </g>\n    <g id=\"PathCollection_7\">\n     <path d=\"M 452.705469 58.850373 \nC 454.282117 58.850373 455.794403 58.223964 456.909262 57.109105 \nC 458.024121 55.994247 458.65053 54.481961 458.65053 52.905312 \nC 458.65053 51.328664 458.024121 49.816378 456.909262 48.70152 \nC 455.794403 47.586661 454.282117 46.960252 452.705469 46.960252 \nC 451.12882 46.960252 449.616535 47.586661 448.501676 48.70152 \nC 447.386817 49.816378 446.760408 51.328664 446.760408 52.905312 \nC 446.760408 54.481961 447.386817 55.994247 448.501676 57.109105 \nC 449.616535 58.223964 451.12882 58.850373 452.705469 58.850373 \nz\n\" style=\"fill: #006837; fill-opacity: 0.8; stroke-dasharray: 5.55,2.4; stroke-dashoffset: 0\"/>\n    </g>\n    <g id=\"text_19\">\n     <!-- 4 cyl. auto. -->\n     <g transform=\"translate(470.705469 55.530312) scale(0.1 -0.1)\">\n      <use xlink:href=\"#DejaVuSans-34\"/>\n      <use xlink:href=\"#DejaVuSans-20\" transform=\"translate(63.623047 0)\"/>\n      <use xlink:href=\"#DejaVuSans-63\" transform=\"translate(95.410156 0)\"/>\n      <use xlink:href=\"#DejaVuSans-79\" transform=\"translate(150.390625 0)\"/>\n      <use xlink:href=\"#DejaVuSans-6c\" transform=\"translate(209.570312 0)\"/>\n      <use xlink:href=\"#DejaVuSans-2e\" transform=\"translate(237.353516 0)\"/>\n      <use xlink:href=\"#DejaVuSans-20\" transform=\"translate(269.140625 0)\"/>\n      <use xlink:href=\"#DejaVuSans-61\" transform=\"translate(300.927734 0)\"/>\n      <use xlink:href=\"#DejaVuSans-75\" transform=\"translate(362.207031 0)\"/>\n      <use xlink:href=\"#DejaVuSans-74\" transform=\"translate(425.585938 0)\"/>\n      <use xlink:href=\"#DejaVuSans-6f\" transform=\"translate(464.794922 0)\"/>\n      <use xlink:href=\"#DejaVuSans-2e\" transform=\"translate(524.226562 0)\"/>\n     </g>\n    </g>\n    <g id=\"PathCollection_8\">\n     <path d=\"M 452.705469 72.763326 \nC 454.079191 72.763326 455.396835 72.217541 456.368203 71.246172 \nC 457.339572 70.274804 457.885358 68.95716 457.885358 67.583438 \nC 457.885358 66.209715 457.339572 64.892071 456.368203 63.920703 \nC 455.396835 62.949334 454.079191 62.403549 452.705469 62.403549 \nC 451.331746 62.403549 450.014103 62.949334 449.042734 63.920703 \nC 448.071366 64.892071 447.52558 66.209715 447.52558 67.583438 \nC 447.52558 68.95716 448.071366 70.274804 449.042734 71.246172 \nC 450.014103 72.217541 451.331746 72.763326 452.705469 72.763326 \nz\n\" style=\"fill: #fdbb6c; fill-opacity: 0.8; stroke: #000000; stroke-opacity: 0.8; stroke-width: 1.5\"/>\n    </g>\n    <g id=\"text_20\">\n     <!-- 4 cyl. manual. -->\n     <g transform=\"translate(470.705469 70.208438) scale(0.1 -0.1)\">\n      <use xlink:href=\"#DejaVuSans-34\"/>\n      <use xlink:href=\"#DejaVuSans-20\" transform=\"translate(63.623047 0)\"/>\n      <use xlink:href=\"#DejaVuSans-63\" transform=\"translate(95.410156 0)\"/>\n      <use xlink:href=\"#DejaVuSans-79\" transform=\"translate(150.390625 0)\"/>\n      <use xlink:href=\"#DejaVuSans-6c\" transform=\"translate(209.570312 0)\"/>\n      <use xlink:href=\"#DejaVuSans-2e\" transform=\"translate(237.353516 0)\"/>\n      <use xlink:href=\"#DejaVuSans-20\" transform=\"translate(269.140625 0)\"/>\n      <use xlink:href=\"#DejaVuSans-6d\" transform=\"translate(300.927734 0)\"/>\n      <use xlink:href=\"#DejaVuSans-61\" transform=\"translate(398.339844 0)\"/>\n      <use xlink:href=\"#DejaVuSans-6e\" transform=\"translate(459.619141 0)\"/>\n      <use xlink:href=\"#DejaVuSans-75\" transform=\"translate(522.998047 0)\"/>\n      <use xlink:href=\"#DejaVuSans-61\" transform=\"translate(586.376953 0)\"/>\n      <use xlink:href=\"#DejaVuSans-6c\" transform=\"translate(647.65625 0)\"/>\n      <use xlink:href=\"#DejaVuSans-2e\" transform=\"translate(675.439453 0)\"/>\n     </g>\n    </g>\n    <g id=\"PathCollection_9\">\n     <path d=\"M 446.246463 88.720568 \nL 459.164474 88.720568 \nL 459.164474 75.802557 \nL 446.246463 75.802557 \nz\n\" style=\"fill: #98d368; fill-opacity: 0.8; stroke-dasharray: 5.55,2.4; stroke-dashoffset: 0\"/>\n    </g>\n    <g id=\"text_21\">\n     <!-- 6 cyl. auto. -->\n     <g transform=\"translate(470.705469 84.886562) scale(0.1 -0.1)\">\n      <defs>\n       <path id=\"DejaVuSans-36\" d=\"M 2113 2584 \nQ 1688 2584 1439 2293 \nQ 1191 2003 1191 1497 \nQ 1191 994 1439 701 \nQ 1688 409 2113 409 \nQ 2538 409 2786 701 \nQ 3034 994 3034 1497 \nQ 3034 2003 2786 2293 \nQ 2538 2584 2113 2584 \nz\nM 3366 4563 \nL 3366 3988 \nQ 3128 4100 2886 4159 \nQ 2644 4219 2406 4219 \nQ 1781 4219 1451 3797 \nQ 1122 3375 1075 2522 \nQ 1259 2794 1537 2939 \nQ 1816 3084 2150 3084 \nQ 2853 3084 3261 2657 \nQ 3669 2231 3669 1497 \nQ 3669 778 3244 343 \nQ 2819 -91 2113 -91 \nQ 1303 -91 875 529 \nQ 447 1150 447 2328 \nQ 447 3434 972 4092 \nQ 1497 4750 2381 4750 \nQ 2619 4750 2861 4703 \nQ 3103 4656 3366 4563 \nz\n\" transform=\"scale(0.015625)\"/>\n      </defs>\n      <use xlink:href=\"#DejaVuSans-36\"/>\n      <use xlink:href=\"#DejaVuSans-20\" transform=\"translate(63.623047 0)\"/>\n      <use xlink:href=\"#DejaVuSans-63\" transform=\"translate(95.410156 0)\"/>\n      <use xlink:href=\"#DejaVuSans-79\" transform=\"translate(150.390625 0)\"/>\n      <use xlink:href=\"#DejaVuSans-6c\" transform=\"translate(209.570312 0)\"/>\n      <use xlink:href=\"#DejaVuSans-2e\" transform=\"translate(237.353516 0)\"/>\n      <use xlink:href=\"#DejaVuSans-20\" transform=\"translate(269.140625 0)\"/>\n      <use xlink:href=\"#DejaVuSans-61\" transform=\"translate(300.927734 0)\"/>\n      <use xlink:href=\"#DejaVuSans-75\" transform=\"translate(362.207031 0)\"/>\n      <use xlink:href=\"#DejaVuSans-74\" transform=\"translate(425.585938 0)\"/>\n      <use xlink:href=\"#DejaVuSans-6f\" transform=\"translate(464.794922 0)\"/>\n      <use xlink:href=\"#DejaVuSans-2e\" transform=\"translate(524.226562 0)\"/>\n     </g>\n    </g>\n    <g id=\"PathCollection_10\">\n     <path d=\"M 446.845115 102.800042 \nL 458.565823 102.800042 \nL 458.565823 91.079333 \nL 446.845115 91.079333 \nz\n\" style=\"fill: #006837; fill-opacity: 0.8; stroke: #000000; stroke-opacity: 0.8; stroke-width: 1.5\"/>\n    </g>\n    <g id=\"text_22\">\n     <!-- 6 cyl. manual. -->\n     <g transform=\"translate(470.705469 99.564687) scale(0.1 -0.1)\">\n      <use xlink:href=\"#DejaVuSans-36\"/>\n      <use xlink:href=\"#DejaVuSans-20\" transform=\"translate(63.623047 0)\"/>\n      <use xlink:href=\"#DejaVuSans-63\" transform=\"translate(95.410156 0)\"/>\n      <use xlink:href=\"#DejaVuSans-79\" transform=\"translate(150.390625 0)\"/>\n      <use xlink:href=\"#DejaVuSans-6c\" transform=\"translate(209.570312 0)\"/>\n      <use xlink:href=\"#DejaVuSans-2e\" transform=\"translate(237.353516 0)\"/>\n      <use xlink:href=\"#DejaVuSans-20\" transform=\"translate(269.140625 0)\"/>\n      <use xlink:href=\"#DejaVuSans-6d\" transform=\"translate(300.927734 0)\"/>\n      <use xlink:href=\"#DejaVuSans-61\" transform=\"translate(398.339844 0)\"/>\n      <use xlink:href=\"#DejaVuSans-6e\" transform=\"translate(459.619141 0)\"/>\n      <use xlink:href=\"#DejaVuSans-75\" transform=\"translate(522.998047 0)\"/>\n      <use xlink:href=\"#DejaVuSans-61\" transform=\"translate(586.376953 0)\"/>\n      <use xlink:href=\"#DejaVuSans-6c\" transform=\"translate(647.65625 0)\"/>\n      <use xlink:href=\"#DejaVuSans-2e\" transform=\"translate(675.439453 0)\"/>\n     </g>\n    </g>\n    <g id=\"PathCollection_11\">\n     <path d=\"M 452.705469 104.176794 \nL 445.264451 119.058831 \nL 460.146487 119.058831 \nz\n\" style=\"fill: #8ecf67; fill-opacity: 0.8; stroke-dasharray: 5.55,2.4; stroke-dashoffset: 0\"/>\n    </g>\n    <g id=\"text_23\">\n     <!-- 8 cyl. auto. -->\n     <g transform=\"translate(470.705469 114.242812) scale(0.1 -0.1)\">\n      <defs>\n       <path id=\"DejaVuSans-38\" d=\"M 2034 2216 \nQ 1584 2216 1326 1975 \nQ 1069 1734 1069 1313 \nQ 1069 891 1326 650 \nQ 1584 409 2034 409 \nQ 2484 409 2743 651 \nQ 3003 894 3003 1313 \nQ 3003 1734 2745 1975 \nQ 2488 2216 2034 2216 \nz\nM 1403 2484 \nQ 997 2584 770 2862 \nQ 544 3141 544 3541 \nQ 544 4100 942 4425 \nQ 1341 4750 2034 4750 \nQ 2731 4750 3128 4425 \nQ 3525 4100 3525 3541 \nQ 3525 3141 3298 2862 \nQ 3072 2584 2669 2484 \nQ 3125 2378 3379 2068 \nQ 3634 1759 3634 1313 \nQ 3634 634 3220 271 \nQ 2806 -91 2034 -91 \nQ 1263 -91 848 271 \nQ 434 634 434 1313 \nQ 434 1759 690 2068 \nQ 947 2378 1403 2484 \nz\nM 1172 3481 \nQ 1172 3119 1398 2916 \nQ 1625 2713 2034 2713 \nQ 2441 2713 2670 2916 \nQ 2900 3119 2900 3481 \nQ 2900 3844 2670 4047 \nQ 2441 4250 2034 4250 \nQ 1625 4250 1398 4047 \nQ 1172 3844 1172 3481 \nz\n\" transform=\"scale(0.015625)\"/>\n      </defs>\n      <use xlink:href=\"#DejaVuSans-38\"/>\n      <use xlink:href=\"#DejaVuSans-20\" transform=\"translate(63.623047 0)\"/>\n      <use xlink:href=\"#DejaVuSans-63\" transform=\"translate(95.410156 0)\"/>\n      <use xlink:href=\"#DejaVuSans-79\" transform=\"translate(150.390625 0)\"/>\n      <use xlink:href=\"#DejaVuSans-6c\" transform=\"translate(209.570312 0)\"/>\n      <use xlink:href=\"#DejaVuSans-2e\" transform=\"translate(237.353516 0)\"/>\n      <use xlink:href=\"#DejaVuSans-20\" transform=\"translate(269.140625 0)\"/>\n      <use xlink:href=\"#DejaVuSans-61\" transform=\"translate(300.927734 0)\"/>\n      <use xlink:href=\"#DejaVuSans-75\" transform=\"translate(362.207031 0)\"/>\n      <use xlink:href=\"#DejaVuSans-74\" transform=\"translate(425.585938 0)\"/>\n      <use xlink:href=\"#DejaVuSans-6f\" transform=\"translate(464.794922 0)\"/>\n      <use xlink:href=\"#DejaVuSans-2e\" transform=\"translate(524.226562 0)\"/>\n     </g>\n    </g>\n    <g id=\"PathCollection_12\">\n     <path d=\"M 452.705469 119.80556 \nL 446.215091 132.786315 \nL 459.195846 132.786315 \nz\n\" style=\"fill: #006837; fill-opacity: 0.8; stroke: #000000; stroke-opacity: 0.8; stroke-width: 1.5\"/>\n    </g>\n    <g id=\"text_24\">\n     <!-- 8 cyl. manual. -->\n     <g transform=\"translate(470.705469 128.920937) scale(0.1 -0.1)\">\n      <use xlink:href=\"#DejaVuSans-38\"/>\n      <use xlink:href=\"#DejaVuSans-20\" transform=\"translate(63.623047 0)\"/>\n      <use xlink:href=\"#DejaVuSans-63\" transform=\"translate(95.410156 0)\"/>\n      <use xlink:href=\"#DejaVuSans-79\" transform=\"translate(150.390625 0)\"/>\n      <use xlink:href=\"#DejaVuSans-6c\" transform=\"translate(209.570312 0)\"/>\n      <use xlink:href=\"#DejaVuSans-2e\" transform=\"translate(237.353516 0)\"/>\n      <use xlink:href=\"#DejaVuSans-20\" transform=\"translate(269.140625 0)\"/>\n      <use xlink:href=\"#DejaVuSans-6d\" transform=\"translate(300.927734 0)\"/>\n      <use xlink:href=\"#DejaVuSans-61\" transform=\"translate(398.339844 0)\"/>\n      <use xlink:href=\"#DejaVuSans-6e\" transform=\"translate(459.619141 0)\"/>\n      <use xlink:href=\"#DejaVuSans-75\" transform=\"translate(522.998047 0)\"/>\n      <use xlink:href=\"#DejaVuSans-61\" transform=\"translate(586.376953 0)\"/>\n      <use xlink:href=\"#DejaVuSans-6c\" transform=\"translate(647.65625 0)\"/>\n      <use xlink:href=\"#DejaVuSans-2e\" transform=\"translate(675.439453 0)\"/>\n     </g>\n    </g>\n   </g>\n  </g>\n  <g id=\"axes_2\">\n   <g id=\"patch_8\">\n    <path d=\"M 609.763125 465.838125 \nL 631.939125 465.838125 \nL 631.939125 22.318125 \nL 609.763125 22.318125 \nz\n\" style=\"fill: #ffffff\"/>\n   </g>\n   <image xlink:href=\"data:image/png;base64,\niVBORw0KGgoAAAANSUhEUgAAAB8AAAJoCAYAAACeFjppAAAC70lEQVR4nO2c0ZHjMAzFJJs9bUtbbFqKlS6MDwANcB4FUnL25vb6//ssiIsqjBeffW2seMkRvMlrO8LsLU2ecAglR2jUEEruK+5tuzl5zygAs3DW5LUdoeQIjRpCyX3FvW3v9YpgFq7kAOJRu8DybPK73Q4wt3XOvcLNbV0yCYfgTU7PubTtc3PB6eTWM6eFk7Y94RDacAj0mUuT13aEPhQR1MJpk1vPnBaOK55wvuJtOAT6zLni5lHzCmf9cQD+433CAaiF44onHMJc1gdkwiF4l0zCIfSMQhCPmnbDeT+REw7Bu+G8/7KfFk664bxLhhaOK55wCN4lk3AI3iVDCyedc69w3jOv7Qje5HTbufp0cqlw3uS1HWEusH7CIZTcV7zHBELJfcW9bfcuGfoN5xXOm7xRex+1cNLkdNulc+4VznufJxyCd8nQbbcKt63C9Xs7glk4a3JYOOuce4XznnnCIXhvtd5wCF7hvEuGvlJvrHjC+Yp733AJh2C+UrWjpj3zNhyC91ZLOASvcN4z70pFmH244mLh1nmw4iVH8Cav7QizHmnyhEMoOYJ51KwbLuEQvG0XJz/nixU3j1q7HcAsnLXtJUcwj1q7HcAsnLXt3uRtOASvcN7kjRrCrIf7633CIZQcoVFDUAsnTU63XTrnXuG8Z0633SucNDn9h1zpnHuF8yan296ovY9aOGnbGzWERg2BTi4dNbrtXuG8yRu19xELd74J9z7eOZ+VcABzEg6ATi691Ro1BO+o9ZhA8L5evV8sbTgE762WcAji5I0agfdzKeEQxBuuLxYC86hphdPeal2pCOJbTXvmXakICYcwT8IB0Ml7Rr1Pux0h4RASzld8HmvbGzUE8ahp2+4dNVo46UeDVzjvkukZheAdteYcwSuc98xrO4J31HpMIAz4wVJyYXFv2wfcMQnHUHIEb/LajuBNXtsRSo4gHjXvfyqdcATetnuT13aEkiM0agj9COgrbhau5ACNGgKa/AeJcC10KoSnSAAAAABJRU5ErkJggg==\" id=\"imageaaf5dd2503\" transform=\"scale(1 -1) translate(0 -443.52)\" x=\"609.84\" y=\"-22.32\" width=\"22.32\" height=\"443.52\"/>\n   <g id=\"matplotlib.axis_3\"/>\n   <g id=\"matplotlib.axis_4\">\n    <g id=\"ytick_7\">\n     <g id=\"line2d_29\">\n      <defs>\n       <path id=\"mf08f052141\" d=\"M 0 0 \nL 3.5 0 \n\" style=\"stroke: #000000; stroke-width: 0.8\"/>\n      </defs>\n      <g>\n       <use xlink:href=\"#mf08f052141\" x=\"631.939125\" y=\"428.357562\" style=\"stroke: #000000; stroke-width: 0.8\"/>\n      </g>\n     </g>\n     <g id=\"text_25\">\n      <!-- 270 -->\n      <g transform=\"translate(638.939125 432.15678) scale(0.1 -0.1)\">\n       <defs>\n        <path id=\"DejaVuSans-37\" d=\"M 525 4666 \nL 3525 4666 \nL 3525 4397 \nL 1831 0 \nL 1172 0 \nL 2766 4134 \nL 525 4134 \nL 525 4666 \nz\n\" transform=\"scale(0.015625)\"/>\n       </defs>\n       <use xlink:href=\"#DejaVuSans-32\"/>\n       <use xlink:href=\"#DejaVuSans-37\" transform=\"translate(63.623047 0)\"/>\n       <use xlink:href=\"#DejaVuSans-30\" transform=\"translate(127.246094 0)\"/>\n      </g>\n     </g>\n    </g>\n    <g id=\"ytick_8\">\n     <g id=\"line2d_30\">\n      <g>\n       <use xlink:href=\"#mf08f052141\" x=\"631.939125\" y=\"365.889956\" style=\"stroke: #000000; stroke-width: 0.8\"/>\n      </g>\n     </g>\n     <g id=\"text_26\">\n      <!-- 280 -->\n      <g transform=\"translate(638.939125 369.689175) scale(0.1 -0.1)\">\n       <use xlink:href=\"#DejaVuSans-32\"/>\n       <use xlink:href=\"#DejaVuSans-38\" transform=\"translate(63.623047 0)\"/>\n       <use xlink:href=\"#DejaVuSans-30\" transform=\"translate(127.246094 0)\"/>\n      </g>\n     </g>\n    </g>\n    <g id=\"ytick_9\">\n     <g id=\"line2d_31\">\n      <g>\n       <use xlink:href=\"#mf08f052141\" x=\"631.939125\" y=\"303.42235\" style=\"stroke: #000000; stroke-width: 0.8\"/>\n      </g>\n     </g>\n     <g id=\"text_27\">\n      <!-- 290 -->\n      <g transform=\"translate(638.939125 307.221569) scale(0.1 -0.1)\">\n       <defs>\n        <path id=\"DejaVuSans-39\" d=\"M 703 97 \nL 703 672 \nQ 941 559 1184 500 \nQ 1428 441 1663 441 \nQ 2288 441 2617 861 \nQ 2947 1281 2994 2138 \nQ 2813 1869 2534 1725 \nQ 2256 1581 1919 1581 \nQ 1219 1581 811 2004 \nQ 403 2428 403 3163 \nQ 403 3881 828 4315 \nQ 1253 4750 1959 4750 \nQ 2769 4750 3195 4129 \nQ 3622 3509 3622 2328 \nQ 3622 1225 3098 567 \nQ 2575 -91 1691 -91 \nQ 1453 -91 1209 -44 \nQ 966 3 703 97 \nz\nM 1959 2075 \nQ 2384 2075 2632 2365 \nQ 2881 2656 2881 3163 \nQ 2881 3666 2632 3958 \nQ 2384 4250 1959 4250 \nQ 1534 4250 1286 3958 \nQ 1038 3666 1038 3163 \nQ 1038 2656 1286 2365 \nQ 1534 2075 1959 2075 \nz\n\" transform=\"scale(0.015625)\"/>\n       </defs>\n       <use xlink:href=\"#DejaVuSans-32\"/>\n       <use xlink:href=\"#DejaVuSans-39\" transform=\"translate(63.623047 0)\"/>\n       <use xlink:href=\"#DejaVuSans-30\" transform=\"translate(127.246094 0)\"/>\n      </g>\n     </g>\n    </g>\n    <g id=\"ytick_10\">\n     <g id=\"line2d_32\">\n      <g>\n       <use xlink:href=\"#mf08f052141\" x=\"631.939125\" y=\"240.954745\" style=\"stroke: #000000; stroke-width: 0.8\"/>\n      </g>\n     </g>\n     <g id=\"text_28\">\n      <!-- 300 -->\n      <g transform=\"translate(638.939125 244.753963) scale(0.1 -0.1)\">\n       <use xlink:href=\"#DejaVuSans-33\"/>\n       <use xlink:href=\"#DejaVuSans-30\" transform=\"translate(63.623047 0)\"/>\n       <use xlink:href=\"#DejaVuSans-30\" transform=\"translate(127.246094 0)\"/>\n      </g>\n     </g>\n    </g>\n    <g id=\"ytick_11\">\n     <g id=\"line2d_33\">\n      <g>\n       <use xlink:href=\"#mf08f052141\" x=\"631.939125\" y=\"178.487139\" style=\"stroke: #000000; stroke-width: 0.8\"/>\n      </g>\n     </g>\n     <g id=\"text_29\">\n      <!-- 310 -->\n      <g transform=\"translate(638.939125 182.286358) scale(0.1 -0.1)\">\n       <use xlink:href=\"#DejaVuSans-33\"/>\n       <use xlink:href=\"#DejaVuSans-31\" transform=\"translate(63.623047 0)\"/>\n       <use xlink:href=\"#DejaVuSans-30\" transform=\"translate(127.246094 0)\"/>\n      </g>\n     </g>\n    </g>\n    <g id=\"ytick_12\">\n     <g id=\"line2d_34\">\n      <g>\n       <use xlink:href=\"#mf08f052141\" x=\"631.939125\" y=\"116.019533\" style=\"stroke: #000000; stroke-width: 0.8\"/>\n      </g>\n     </g>\n     <g id=\"text_30\">\n      <!-- 320 -->\n      <g transform=\"translate(638.939125 119.818752) scale(0.1 -0.1)\">\n       <use xlink:href=\"#DejaVuSans-33\"/>\n       <use xlink:href=\"#DejaVuSans-32\" transform=\"translate(63.623047 0)\"/>\n       <use xlink:href=\"#DejaVuSans-30\" transform=\"translate(127.246094 0)\"/>\n      </g>\n     </g>\n    </g>\n    <g id=\"ytick_13\">\n     <g id=\"line2d_35\">\n      <g>\n       <use xlink:href=\"#mf08f052141\" x=\"631.939125\" y=\"53.551928\" style=\"stroke: #000000; stroke-width: 0.8\"/>\n      </g>\n     </g>\n     <g id=\"text_31\">\n      <!-- 330 -->\n      <g transform=\"translate(638.939125 57.351147) scale(0.1 -0.1)\">\n       <use xlink:href=\"#DejaVuSans-33\"/>\n       <use xlink:href=\"#DejaVuSans-33\" transform=\"translate(63.623047 0)\"/>\n       <use xlink:href=\"#DejaVuSans-30\" transform=\"translate(127.246094 0)\"/>\n      </g>\n     </g>\n    </g>\n    <g id=\"text_32\">\n     <!-- Horsepower -->\n     <g transform=\"translate(669.625063 274.089062) rotate(-90) scale(0.1 -0.1)\">\n      <defs>\n       <path id=\"DejaVuSans-48\" d=\"M 628 4666 \nL 1259 4666 \nL 1259 2753 \nL 3553 2753 \nL 3553 4666 \nL 4184 4666 \nL 4184 0 \nL 3553 0 \nL 3553 2222 \nL 1259 2222 \nL 1259 0 \nL 628 0 \nL 628 4666 \nz\n\" transform=\"scale(0.015625)\"/>\n       <path id=\"DejaVuSans-77\" d=\"M 269 3500 \nL 844 3500 \nL 1563 769 \nL 2278 3500 \nL 2956 3500 \nL 3675 769 \nL 4391 3500 \nL 4966 3500 \nL 4050 0 \nL 3372 0 \nL 2619 2869 \nL 1863 0 \nL 1184 0 \nL 269 3500 \nz\n\" transform=\"scale(0.015625)\"/>\n      </defs>\n      <use xlink:href=\"#DejaVuSans-48\"/>\n      <use xlink:href=\"#DejaVuSans-6f\" transform=\"translate(75.195312 0)\"/>\n      <use xlink:href=\"#DejaVuSans-72\" transform=\"translate(136.376953 0)\"/>\n      <use xlink:href=\"#DejaVuSans-73\" transform=\"translate(177.490234 0)\"/>\n      <use xlink:href=\"#DejaVuSans-65\" transform=\"translate(229.589844 0)\"/>\n      <use xlink:href=\"#DejaVuSans-70\" transform=\"translate(291.113281 0)\"/>\n      <use xlink:href=\"#DejaVuSans-6f\" transform=\"translate(354.589844 0)\"/>\n      <use xlink:href=\"#DejaVuSans-77\" transform=\"translate(415.771484 0)\"/>\n      <use xlink:href=\"#DejaVuSans-65\" transform=\"translate(497.558594 0)\"/>\n      <use xlink:href=\"#DejaVuSans-72\" transform=\"translate(559.082031 0)\"/>\n     </g>\n    </g>\n   </g>\n   <g id=\"LineCollection_1\"/>\n   <g id=\"patch_9\">\n    <path d=\"M 609.763125 465.838125 \nL 620.851125 465.838125 \nL 631.939125 465.838125 \nL 631.939125 22.318125 \nL 620.851125 22.318125 \nL 609.763125 22.318125 \nL 609.763125 465.838125 \nz\n\" style=\"fill: none; stroke: #000000; stroke-width: 0.8; stroke-linejoin: miter; stroke-linecap: square\"/>\n   </g>\n  </g>\n </g>\n <defs>\n  <clipPath id=\"p4a3637f296\">\n   <rect x=\"40.603125\" y=\"22.318125\" width=\"535.68\" height=\"443.52\"/>\n  </clipPath>\n </defs>\n</svg>\n"
     },
     "metadata": {},
     "output_type": "display_data"
    }
   ],
   "execution_count": 139
  },
  {
   "cell_type": "markdown",
   "metadata": {},
   "source": [
    "**To Do: How many additional variables do you manage to fit into the graph? Which ones?**"
   ]
  }
 ],
 "metadata": {
  "kernelspec": {
   "display_name": "vdss",
   "language": "python",
   "name": "python3"
  },
  "language_info": {
   "codemirror_mode": {
    "name": "ipython",
    "version": 3
   },
   "file_extension": ".py",
   "mimetype": "text/x-python",
   "name": "python",
   "nbconvert_exporter": "python",
   "pygments_lexer": "ipython3",
   "version": "3.10.13"
  }
 },
 "nbformat": 4,
 "nbformat_minor": 2
}
