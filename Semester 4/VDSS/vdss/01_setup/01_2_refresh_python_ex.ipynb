{
 "cells": [
  {
   "cell_type": "markdown",
   "id": "839d613e-331b-4203-adb8-bc79df7d33d6",
   "metadata": {},
   "source": [
    "# Prerequisities\n",
    "Always make sure you have\n",
    "\n",
    "1. activated the correct conda environment (in your terminal/console: e.g. `conda activate vdss`)\n",
    "2. startet the Jupyter lab server `jupyter lab` \n",
    "\n",
    "Cells in Jupyter notebooks are executed with [Shift] + [Enter]\n",
    "\n",
    "# Python Refresher\n",
    "\n",
    "Check out the official tutorial: [https://docs.python.org/3/tutorial/](https://docs.python.org/3/tutorial/)"
   ]
  },
  {
   "cell_type": "code",
   "id": "277f5b07-d8c0-4e33-9fec-7fe9675be4f8",
   "metadata": {
    "ExecuteTime": {
     "end_time": "2025-02-18T13:44:39.866777Z",
     "start_time": "2025-02-18T13:44:39.865113Z"
    }
   },
   "source": [
    "# This is a comment\n",
    "print(\"Hello World!\")"
   ],
   "outputs": [
    {
     "name": "stdout",
     "output_type": "stream",
     "text": [
      "Hello World!\n"
     ]
    }
   ],
   "execution_count": 1
  },
  {
   "cell_type": "markdown",
   "id": "b11c0fb1-88d6-4fdb-b449-7f727f6dafe4",
   "metadata": {},
   "source": [
    "## Working with Numbers"
   ]
  },
  {
   "cell_type": "code",
   "id": "c44f4435-5546-42da-a51f-9f2d61bcd226",
   "metadata": {
    "ExecuteTime": {
     "end_time": "2025-02-18T13:44:39.873372Z",
     "start_time": "2025-02-18T13:44:39.870720Z"
    }
   },
   "source": [
    "2 + 2"
   ],
   "outputs": [
    {
     "data": {
      "text/plain": [
       "4"
      ]
     },
     "execution_count": 2,
     "metadata": {},
     "output_type": "execute_result"
    }
   ],
   "execution_count": 2
  },
  {
   "cell_type": "code",
   "id": "10f20f6b-17f6-4870-af2d-036268b4cd07",
   "metadata": {
    "ExecuteTime": {
     "end_time": "2025-02-18T13:44:39.924510Z",
     "start_time": "2025-02-18T13:44:39.922305Z"
    }
   },
   "source": [
    "50 - 5*6"
   ],
   "outputs": [
    {
     "data": {
      "text/plain": [
       "20"
      ]
     },
     "execution_count": 3,
     "metadata": {},
     "output_type": "execute_result"
    }
   ],
   "execution_count": 3
  },
  {
   "cell_type": "code",
   "id": "aff62aee-047c-43b6-96d0-013d5ceed7d8",
   "metadata": {
    "ExecuteTime": {
     "end_time": "2025-02-18T13:44:39.931197Z",
     "start_time": "2025-02-18T13:44:39.929374Z"
    }
   },
   "source": [
    "20 / 4 # cast to float!"
   ],
   "outputs": [
    {
     "data": {
      "text/plain": [
       "5.0"
      ]
     },
     "execution_count": 4,
     "metadata": {},
     "output_type": "execute_result"
    }
   ],
   "execution_count": 4
  },
  {
   "cell_type": "code",
   "id": "c9711665-f564-4c43-93ee-0b58b1838580",
   "metadata": {
    "ExecuteTime": {
     "end_time": "2025-02-18T13:44:39.946071Z",
     "start_time": "2025-02-18T13:44:39.944034Z"
    }
   },
   "source": [
    "17 // 3  # floor division discards the fractional part"
   ],
   "outputs": [
    {
     "data": {
      "text/plain": [
       "5"
      ]
     },
     "execution_count": 5,
     "metadata": {},
     "output_type": "execute_result"
    }
   ],
   "execution_count": 5
  },
  {
   "cell_type": "code",
   "id": "e6c9bcc1-3d57-482c-9d27-d148675cab3b",
   "metadata": {
    "ExecuteTime": {
     "end_time": "2025-02-18T13:44:39.958936Z",
     "start_time": "2025-02-18T13:44:39.956731Z"
    }
   },
   "source": [
    "17 % 3  # the % operator returns the remainder of the division"
   ],
   "outputs": [
    {
     "data": {
      "text/plain": [
       "2"
      ]
     },
     "execution_count": 6,
     "metadata": {},
     "output_type": "execute_result"
    }
   ],
   "execution_count": 6
  },
  {
   "cell_type": "code",
   "id": "0f745b93-9714-47ca-8c47-29a619b912e1",
   "metadata": {
    "ExecuteTime": {
     "end_time": "2025-02-18T13:44:39.966585Z",
     "start_time": "2025-02-18T13:44:39.964509Z"
    }
   },
   "source": [
    "2 ** 7  # 2 to the power of 7"
   ],
   "outputs": [
    {
     "data": {
      "text/plain": [
       "128"
      ]
     },
     "execution_count": 7,
     "metadata": {},
     "output_type": "execute_result"
    }
   ],
   "execution_count": 7
  },
  {
   "cell_type": "markdown",
   "id": "83803358-500c-439f-8d4a-6b9836eec265",
   "metadata": {},
   "source": [
    "## Defining Variables"
   ]
  },
  {
   "cell_type": "code",
   "id": "b8459a68-e57a-4e38-85bc-6248e6f6bd68",
   "metadata": {
    "ExecuteTime": {
     "end_time": "2025-02-18T13:44:39.983836Z",
     "start_time": "2025-02-18T13:44:39.981555Z"
    }
   },
   "source": [
    "width = 20\n",
    "height = 10\n",
    "width * height"
   ],
   "outputs": [
    {
     "data": {
      "text/plain": [
       "200"
      ]
     },
     "execution_count": 8,
     "metadata": {},
     "output_type": "execute_result"
    }
   ],
   "execution_count": 8
  },
  {
   "cell_type": "code",
   "id": "012d0bfe-49e6-47a3-9a29-9fa571a2533d",
   "metadata": {
    "ExecuteTime": {
     "end_time": "2025-02-18T13:44:40.000624Z",
     "start_time": "2025-02-18T13:44:39.998568Z"
    }
   },
   "source": [
    "width2, height2 = 20, 10\n",
    "width2 * height2"
   ],
   "outputs": [
    {
     "data": {
      "text/plain": [
       "200"
      ]
     },
     "execution_count": 9,
     "metadata": {},
     "output_type": "execute_result"
    }
   ],
   "execution_count": 9
  },
  {
   "cell_type": "markdown",
   "id": "18b50241-a5e5-428b-abff-03c2a7395a90",
   "metadata": {},
   "source": [
    "## Strings"
   ]
  },
  {
   "cell_type": "code",
   "id": "95632b70-b75c-4fc4-8f8a-cedfb0d06b4c",
   "metadata": {
    "ExecuteTime": {
     "end_time": "2025-02-18T13:44:40.012984Z",
     "start_time": "2025-02-18T13:44:40.010929Z"
    }
   },
   "source": [
    "'spam eggs'  # single quotes"
   ],
   "outputs": [
    {
     "data": {
      "text/plain": [
       "'spam eggs'"
      ]
     },
     "execution_count": 10,
     "metadata": {},
     "output_type": "execute_result"
    }
   ],
   "execution_count": 10
  },
  {
   "cell_type": "code",
   "id": "3caa8c3d-5033-4bdc-a85c-de7f5d60857d",
   "metadata": {
    "ExecuteTime": {
     "end_time": "2025-02-18T13:44:40.024583Z",
     "start_time": "2025-02-18T13:44:40.022636Z"
    }
   },
   "source": [
    "'doesn\\'t'  # use \\' to escape the single quote..."
   ],
   "outputs": [
    {
     "data": {
      "text/plain": [
       "\"doesn't\""
      ]
     },
     "execution_count": 11,
     "metadata": {},
     "output_type": "execute_result"
    }
   ],
   "execution_count": 11
  },
  {
   "cell_type": "code",
   "id": "d21bd210-8b98-4846-ab77-9798b3fecac5",
   "metadata": {
    "ExecuteTime": {
     "end_time": "2025-02-18T13:44:40.037623Z",
     "start_time": "2025-02-18T13:44:40.035581Z"
    }
   },
   "source": [
    "\"doesn't\"  # ...or use double quotes instead"
   ],
   "outputs": [
    {
     "data": {
      "text/plain": [
       "\"doesn't\""
      ]
     },
     "execution_count": 12,
     "metadata": {},
     "output_type": "execute_result"
    }
   ],
   "execution_count": 12
  },
  {
   "cell_type": "code",
   "id": "a65737da-2f15-4a1b-8aae-067154915c01",
   "metadata": {
    "ExecuteTime": {
     "end_time": "2025-02-18T13:44:40.047881Z",
     "start_time": "2025-02-18T13:44:40.046281Z"
    }
   },
   "source": [
    "print(\"First line\\nSecond Line\")"
   ],
   "outputs": [
    {
     "name": "stdout",
     "output_type": "stream",
     "text": [
      "First line\n",
      "Second Line\n"
     ]
    }
   ],
   "execution_count": 13
  },
  {
   "cell_type": "code",
   "id": "a2325c5a-9145-4170-a7d9-6b8d7bcdbab8",
   "metadata": {
    "ExecuteTime": {
     "end_time": "2025-02-18T13:44:40.058791Z",
     "start_time": "2025-02-18T13:44:40.057135Z"
    }
   },
   "source": [
    "print(\"Area = {}\".format(width*height))"
   ],
   "outputs": [
    {
     "name": "stdout",
     "output_type": "stream",
     "text": [
      "Area = 200\n"
     ]
    }
   ],
   "execution_count": 14
  },
  {
   "cell_type": "code",
   "id": "5dbe3210-6afb-4dd4-be5c-7a65dbda86ac",
   "metadata": {
    "ExecuteTime": {
     "end_time": "2025-02-18T13:44:40.069489Z",
     "start_time": "2025-02-18T13:44:40.067880Z"
    }
   },
   "source": [
    "print(f\"Area = {width*height}\")"
   ],
   "outputs": [
    {
     "name": "stdout",
     "output_type": "stream",
     "text": [
      "Area = 200\n"
     ]
    }
   ],
   "execution_count": 15
  },
  {
   "cell_type": "code",
   "id": "0da890f3-1879-441a-a0d4-d45ded18e91c",
   "metadata": {
    "ExecuteTime": {
     "end_time": "2025-02-18T13:44:40.082217Z",
     "start_time": "2025-02-18T13:44:40.080495Z"
    }
   },
   "source": [
    "# Strings can be indexed (subscripted)\n",
    "s = \"Zürcher Hochschule für Angewandte Wissenschaften\"\n",
    "print(f\"{s[0]}{s[8]}{s[23]}{s[34]}\")"
   ],
   "outputs": [
    {
     "name": "stdout",
     "output_type": "stream",
     "text": [
      "ZHAW\n"
     ]
    }
   ],
   "execution_count": 16
  },
  {
   "cell_type": "code",
   "id": "a4610efd-a7bf-4487-871a-375912087e87",
   "metadata": {
    "ExecuteTime": {
     "end_time": "2025-02-18T13:44:40.094062Z",
     "start_time": "2025-02-18T13:44:40.091926Z"
    }
   },
   "source": [
    "print(\"Number of characters: \" + str(len(s)))\n",
    "print(\"Last character: \" + s[-1])\n",
    "print(\"Second-last character: \" + s[-2])\n",
    "print(\"Characters 1-2: \" + s[1:3])\n",
    "print(\"Characters 0-2: \" + s[:3])\n",
    "print(\"Characters 3 to the last character: \" + s[3:])"
   ],
   "outputs": [
    {
     "name": "stdout",
     "output_type": "stream",
     "text": [
      "Number of characters: 48\n",
      "Last character: n\n",
      "Second-last character: e\n",
      "Characters 1-2: ür\n",
      "Characters 0-2: Zür\n",
      "Characters 3 to the last character: cher Hochschule für Angewandte Wissenschaften\n"
     ]
    }
   ],
   "execution_count": 17
  },
  {
   "cell_type": "markdown",
   "id": "79df5fd8-8248-4b03-b3a4-2849a383cbba",
   "metadata": {},
   "source": [
    "## Data Structures: Lists"
   ]
  },
  {
   "cell_type": "code",
   "id": "bf78e227-ffb3-4399-b4f9-71980a57b616",
   "metadata": {
    "ExecuteTime": {
     "end_time": "2025-02-18T13:44:40.102739Z",
     "start_time": "2025-02-18T13:44:40.100828Z"
    }
   },
   "source": [
    "my_list = [1, 2, 3]\n",
    "my_list"
   ],
   "outputs": [
    {
     "data": {
      "text/plain": [
       "[1, 2, 3]"
      ]
     },
     "execution_count": 18,
     "metadata": {},
     "output_type": "execute_result"
    }
   ],
   "execution_count": 18
  },
  {
   "cell_type": "code",
   "id": "b80748f7-2130-4d83-8676-954f124582f4",
   "metadata": {
    "ExecuteTime": {
     "end_time": "2025-02-18T13:44:40.126171Z",
     "start_time": "2025-02-18T13:44:40.123752Z"
    }
   },
   "source": [
    "my_list += [4, 5] # my_list = my_list + [4, 5]\n",
    "my_list"
   ],
   "outputs": [
    {
     "data": {
      "text/plain": [
       "[1, 2, 3, 4, 5]"
      ]
     },
     "execution_count": 19,
     "metadata": {},
     "output_type": "execute_result"
    }
   ],
   "execution_count": 19
  },
  {
   "cell_type": "code",
   "id": "cc8117ec-5a79-4e01-a0bf-d2fef556488d",
   "metadata": {
    "ExecuteTime": {
     "end_time": "2025-02-18T13:44:40.143138Z",
     "start_time": "2025-02-18T13:44:40.140791Z"
    }
   },
   "source": [
    "my_list.append(6)\n",
    "my_list"
   ],
   "outputs": [
    {
     "data": {
      "text/plain": [
       "[1, 2, 3, 4, 5, 6]"
      ]
     },
     "execution_count": 20,
     "metadata": {},
     "output_type": "execute_result"
    }
   ],
   "execution_count": 20
  },
  {
   "cell_type": "code",
   "id": "514ee04f-1820-48f9-bc39-ac3fa2ec993c",
   "metadata": {
    "ExecuteTime": {
     "end_time": "2025-02-18T13:44:40.166711Z",
     "start_time": "2025-02-18T13:44:40.164607Z"
    }
   },
   "source": [
    "print(my_list[0])\n",
    "print(my_list[1])\n",
    "print(my_list[-1])\n",
    "print(my_list[1:3])\n",
    "print(my_list[1:])\n",
    "print(my_list[:3])"
   ],
   "outputs": [
    {
     "name": "stdout",
     "output_type": "stream",
     "text": [
      "1\n",
      "2\n",
      "6\n",
      "[2, 3]\n",
      "[2, 3, 4, 5, 6]\n",
      "[1, 2, 3]\n"
     ]
    }
   ],
   "execution_count": 21
  },
  {
   "cell_type": "markdown",
   "id": "340090c8",
   "metadata": {},
   "source": [
    "Iterating over elements with a `for` loop:"
   ]
  },
  {
   "cell_type": "code",
   "id": "83363413-6761-4a64-96e5-abb381117b3d",
   "metadata": {
    "ExecuteTime": {
     "end_time": "2025-02-18T13:44:40.178318Z",
     "start_time": "2025-02-18T13:44:40.176555Z"
    }
   },
   "source": [
    "for item in my_list:\n",
    "    print(item)"
   ],
   "outputs": [
    {
     "name": "stdout",
     "output_type": "stream",
     "text": [
      "1\n",
      "2\n",
      "3\n",
      "4\n",
      "5\n",
      "6\n"
     ]
    }
   ],
   "execution_count": 22
  },
  {
   "cell_type": "markdown",
   "id": "85bb9802",
   "metadata": {},
   "source": [
    "Using a `while` loop:"
   ]
  },
  {
   "cell_type": "code",
   "id": "e6a33893-a376-4652-a268-93fcf129a960",
   "metadata": {
    "ExecuteTime": {
     "end_time": "2025-02-18T13:44:40.193802Z",
     "start_time": "2025-02-18T13:44:40.191847Z"
    }
   },
   "source": [
    "# while loop\n",
    "sum_list = 0\n",
    "count = 0\n",
    "while sum_list < 20:\n",
    "    sum_list += my_list[count]\n",
    "    count += 1\n",
    "    print(f\"Sum after {count} iterations: {sum_list}\")"
   ],
   "outputs": [
    {
     "name": "stdout",
     "output_type": "stream",
     "text": [
      "Sum after 1 iterations: 1\n",
      "Sum after 2 iterations: 3\n",
      "Sum after 3 iterations: 6\n",
      "Sum after 4 iterations: 10\n",
      "Sum after 5 iterations: 15\n",
      "Sum after 6 iterations: 21\n"
     ]
    }
   ],
   "execution_count": 23
  },
  {
   "cell_type": "markdown",
   "id": "186fe6ab-f0e3-4ffc-a244-3258706bdb74",
   "metadata": {},
   "source": [
    "## Data Structures: Dicts"
   ]
  },
  {
   "cell_type": "code",
   "id": "d1cf5821-14dd-46b4-ae25-00f5644d4160",
   "metadata": {
    "ExecuteTime": {
     "end_time": "2025-02-18T13:44:40.204016Z",
     "start_time": "2025-02-18T13:44:40.202382Z"
    }
   },
   "source": [
    "my_dict = {'key 1': 'value 1', 'key 2': 'value 2', 'key 3': 'value 3', 'key 4': 'value 4'}"
   ],
   "outputs": [],
   "execution_count": 24
  },
  {
   "cell_type": "code",
   "id": "6676b89e-c0bb-466b-95ca-4b8b2f04aa9c",
   "metadata": {
    "ExecuteTime": {
     "end_time": "2025-02-18T13:44:40.213019Z",
     "start_time": "2025-02-18T13:44:40.211525Z"
    }
   },
   "source": [
    "my_dict['key 2'] = 12\n",
    "del my_dict['key 4']\n",
    "my_dict['key 5'] = 'value 5'"
   ],
   "outputs": [],
   "execution_count": 25
  },
  {
   "cell_type": "code",
   "id": "779dbe86-372d-4592-b8a4-20689e3d78c0",
   "metadata": {
    "ExecuteTime": {
     "end_time": "2025-02-18T13:44:40.218091Z",
     "start_time": "2025-02-18T13:44:40.216128Z"
    }
   },
   "source": [
    "for k,v in my_dict.items():\n",
    "    print(f\"Value for key {k}: {v}\")"
   ],
   "outputs": [
    {
     "name": "stdout",
     "output_type": "stream",
     "text": [
      "Value for key key 1: value 1\n",
      "Value for key key 2: 12\n",
      "Value for key key 3: value 3\n",
      "Value for key key 5: value 5\n"
     ]
    }
   ],
   "execution_count": 26
  },
  {
   "cell_type": "code",
   "id": "7375d66f-9ab2-4b35-9cff-118519a477b9",
   "metadata": {
    "ExecuteTime": {
     "end_time": "2025-02-18T13:44:40.230491Z",
     "start_time": "2025-02-18T13:44:40.228700Z"
    }
   },
   "source": [
    "# for loop with enumerate wrapper\n",
    "for i, (k, v) in enumerate(my_dict.items()):\n",
    "    print(f\"{i} - Value for key {k}: {v}\")"
   ],
   "outputs": [
    {
     "name": "stdout",
     "output_type": "stream",
     "text": [
      "0 - Value for key key 1: value 1\n",
      "1 - Value for key key 2: 12\n",
      "2 - Value for key key 3: value 3\n",
      "3 - Value for key key 5: value 5\n"
     ]
    }
   ],
   "execution_count": 27
  },
  {
   "cell_type": "markdown",
   "id": "5567e07b-6d20-4286-90fb-b56f88ac616a",
   "metadata": {},
   "source": [
    "## More Control Flow Tools"
   ]
  },
  {
   "cell_type": "code",
   "id": "9a093273-8f9e-41ff-9188-752a682043e2",
   "metadata": {
    "ExecuteTime": {
     "end_time": "2025-02-18T13:44:40.240101Z",
     "start_time": "2025-02-18T13:44:40.238399Z"
    }
   },
   "source": [
    "for i in range(10):\n",
    "    print(i)"
   ],
   "outputs": [
    {
     "name": "stdout",
     "output_type": "stream",
     "text": [
      "0\n",
      "1\n",
      "2\n",
      "3\n",
      "4\n",
      "5\n",
      "6\n",
      "7\n",
      "8\n",
      "9\n"
     ]
    }
   ],
   "execution_count": 28
  },
  {
   "cell_type": "code",
   "id": "384d3537-d1b0-42f4-9acc-81ae9a63d7cd",
   "metadata": {
    "ExecuteTime": {
     "end_time": "2025-02-18T13:44:40.253210Z",
     "start_time": "2025-02-18T13:44:40.251420Z"
    }
   },
   "source": [
    "for i in range(10):\n",
    "    if i%2 == 0:\n",
    "        continue\n",
    "    print(i)"
   ],
   "outputs": [
    {
     "name": "stdout",
     "output_type": "stream",
     "text": [
      "1\n",
      "3\n",
      "5\n",
      "7\n",
      "9\n"
     ]
    }
   ],
   "execution_count": 29
  },
  {
   "cell_type": "code",
   "id": "90721ea7-d65d-4571-9536-c896fa0995c1",
   "metadata": {
    "ExecuteTime": {
     "end_time": "2025-02-18T13:44:40.268598Z",
     "start_time": "2025-02-18T13:44:40.266670Z"
    }
   },
   "source": [
    "for i in range(10):\n",
    "    if i>5:\n",
    "        break\n",
    "    print(i)"
   ],
   "outputs": [
    {
     "name": "stdout",
     "output_type": "stream",
     "text": [
      "0\n",
      "1\n",
      "2\n",
      "3\n",
      "4\n",
      "5\n"
     ]
    }
   ],
   "execution_count": 30
  },
  {
   "cell_type": "markdown",
   "id": "5682f26d",
   "metadata": {},
   "source": [
    "`if`-`else` statement:"
   ]
  },
  {
   "cell_type": "code",
   "id": "4711f0f4-74ad-4135-a48e-b3fa20bc05b3",
   "metadata": {
    "ExecuteTime": {
     "end_time": "2025-02-18T13:44:40.273052Z",
     "start_time": "2025-02-18T13:44:40.271308Z"
    }
   },
   "source": [
    "a = 3\n",
    "\n",
    "\n",
    "if a > 2:\n",
    "    b = 1\n",
    "else:\n",
    "    b = 2\n",
    "print(b)"
   ],
   "outputs": [
    {
     "name": "stdout",
     "output_type": "stream",
     "text": [
      "1\n"
     ]
    }
   ],
   "execution_count": 31
  },
  {
   "cell_type": "markdown",
   "id": "5ba299f3",
   "metadata": {},
   "source": [
    "Same in one line:"
   ]
  },
  {
   "cell_type": "code",
   "id": "d344bf61-90d0-4eb2-8a52-53b60355836c",
   "metadata": {
    "ExecuteTime": {
     "end_time": "2025-02-18T13:44:40.286411Z",
     "start_time": "2025-02-18T13:44:40.284555Z"
    }
   },
   "source": [
    "b = 1 if a > 2 else 2\n",
    "print(b)"
   ],
   "outputs": [
    {
     "name": "stdout",
     "output_type": "stream",
     "text": [
      "1\n"
     ]
    }
   ],
   "execution_count": 32
  },
  {
   "cell_type": "markdown",
   "id": "db5a8bf1",
   "metadata": {},
   "source": [
    "List comprehension:"
   ]
  },
  {
   "cell_type": "code",
   "id": "c2a511b2-7485-4d31-b7c0-90bfe5530b93",
   "metadata": {
    "ExecuteTime": {
     "end_time": "2025-02-18T13:44:40.292792Z",
     "start_time": "2025-02-18T13:44:40.291121Z"
    }
   },
   "source": [
    "fruits = [\"apple\", \"banana\", \"cherry\", \"kiwi\", \"mango\"]\n",
    "newlist = [x for x in fruits if \"a\" in x]\n",
    "\n",
    "print(newlist)"
   ],
   "outputs": [
    {
     "name": "stdout",
     "output_type": "stream",
     "text": [
      "['apple', 'banana', 'mango']\n"
     ]
    }
   ],
   "execution_count": 33
  },
  {
   "cell_type": "markdown",
   "id": "84797d12",
   "metadata": {},
   "source": [
    "Also works for `dicts`"
   ]
  },
  {
   "cell_type": "code",
   "id": "cb65c1fd-36f8-4b03-b29a-b535b34e7887",
   "metadata": {
    "ExecuteTime": {
     "end_time": "2025-02-18T13:44:40.306086Z",
     "start_time": "2025-02-18T13:44:40.304181Z"
    }
   },
   "source": [
    "my_dict = {1:2, 2:4, 3:9}\n",
    "my_dict2 = {key:value+1 for (key,value) in my_dict.items()}\n",
    "print(my_dict2)"
   ],
   "outputs": [
    {
     "name": "stdout",
     "output_type": "stream",
     "text": [
      "{1: 3, 2: 5, 3: 10}\n"
     ]
    }
   ],
   "execution_count": 34
  },
  {
   "cell_type": "markdown",
   "id": "73d5f13b-9b2d-4550-8002-b0e4ce91d208",
   "metadata": {},
   "source": [
    "## Functions\n",
    "\n",
    "Define the function:"
   ]
  },
  {
   "cell_type": "code",
   "id": "fb0c5d17-c622-4984-be75-9ba3be8bad4d",
   "metadata": {
    "ExecuteTime": {
     "end_time": "2025-02-18T13:44:40.320436Z",
     "start_time": "2025-02-18T13:44:40.318220Z"
    }
   },
   "source": [
    "def a_function():\n",
    "    print(\"Hello\")\n",
    "    \n",
    "a_function"
   ],
   "outputs": [
    {
     "data": {
      "text/plain": [
       "<function __main__.a_function()>"
      ]
     },
     "execution_count": 35,
     "metadata": {},
     "output_type": "execute_result"
    }
   ],
   "execution_count": 35
  },
  {
   "cell_type": "markdown",
   "id": "88afc509",
   "metadata": {},
   "source": [
    "Call the function:"
   ]
  },
  {
   "cell_type": "code",
   "id": "15b41a89-18e9-4674-815c-dd7ef46f4628",
   "metadata": {
    "ExecuteTime": {
     "end_time": "2025-02-18T13:44:40.329672Z",
     "start_time": "2025-02-18T13:44:40.327986Z"
    }
   },
   "source": [
    "a_function()"
   ],
   "outputs": [
    {
     "name": "stdout",
     "output_type": "stream",
     "text": [
      "Hello\n"
     ]
    }
   ],
   "execution_count": 36
  },
  {
   "cell_type": "markdown",
   "id": "99a9e064",
   "metadata": {},
   "source": [
    "Arguments:"
   ]
  },
  {
   "cell_type": "code",
   "id": "7b7c62a0-e0d2-4ff2-b6be-bab01a3166de",
   "metadata": {
    "ExecuteTime": {
     "end_time": "2025-02-18T13:44:40.342985Z",
     "start_time": "2025-02-18T13:44:40.341338Z"
    }
   },
   "source": [
    "def function_with_arguments(my_arg):\n",
    "    print(\"Hello \" + my_arg)\n",
    "\n",
    "function_with_arguments(\"World!\")"
   ],
   "outputs": [
    {
     "name": "stdout",
     "output_type": "stream",
     "text": [
      "Hello World!\n"
     ]
    }
   ],
   "execution_count": 37
  },
  {
   "cell_type": "code",
   "id": "cd09ac51-594a-4bcb-b7b4-d32d6f771701",
   "metadata": {
    "ExecuteTime": {
     "end_time": "2025-02-18T13:44:40.352877Z",
     "start_time": "2025-02-18T13:44:40.350995Z"
    }
   },
   "source": [
    "def sum_(val1, val2):\n",
    "    return val1 + val2\n",
    "\n",
    "print(sum_(1, 2))"
   ],
   "outputs": [
    {
     "name": "stdout",
     "output_type": "stream",
     "text": [
      "3\n"
     ]
    }
   ],
   "execution_count": 38
  },
  {
   "cell_type": "markdown",
   "id": "673f4a6b-d230-4ae0-bbe4-77b18cc8c687",
   "metadata": {
    "tags": []
   },
   "source": [
    "## Classes\n",
    "Definition starts with the `class` keyword."
   ]
  },
  {
   "cell_type": "code",
   "id": "e8cd24c5-98c3-4c7a-b7e7-9da160b8529b",
   "metadata": {
    "ExecuteTime": {
     "end_time": "2025-02-18T13:44:40.358959Z",
     "start_time": "2025-02-18T13:44:40.357151Z"
    }
   },
   "source": [
    "class Dog:\n",
    "    # Class Attribute\n",
    "    species = 'mammal'\n",
    "\n",
    "    # Initializer / Instance Attributes\n",
    "    def __init__ (self, color):\n",
    "        self.color = color\n",
    "    \n",
    "    # Instance method\n",
    "    def make_sound (self):\n",
    "        print (\" Wuff !\")"
   ],
   "outputs": [],
   "execution_count": 39
  },
  {
   "cell_type": "markdown",
   "id": "345f7464-870f-4da6-bcd0-710ecbe16f95",
   "metadata": {},
   "source": [
    "Instance methods are defined as functions in class scope with at least one argument (usually called `self`). `self` refers to the specific instance of the object, once it has been created. They are used to get the contents of an instance or to perform operations with the attributes of the objects.\n",
    "\n",
    "The special method `__init__()` is always called when a new instance is created. It can be used to initialize (e.g., specify) an object’s initial attributes by giving them their default value (or state). This method must have at least one argument as well as the self variable, which refers to the object itself (e.g., Dog).\n",
    "\n",
    "Create an instance `snoopy` of the class `Dog`"
   ]
  },
  {
   "cell_type": "code",
   "id": "16b1fe55-5932-4fd2-a183-8167b241a5e4",
   "metadata": {
    "ExecuteTime": {
     "end_time": "2025-02-18T13:44:40.367523Z",
     "start_time": "2025-02-18T13:44:40.366058Z"
    }
   },
   "source": [
    "snoopy = Dog(\"brown\")"
   ],
   "outputs": [],
   "execution_count": 40
  },
  {
   "cell_type": "code",
   "id": "519d7a22-1dc5-4baf-b312-73a5caaa2c2d",
   "metadata": {
    "ExecuteTime": {
     "end_time": "2025-02-18T13:44:40.371964Z",
     "start_time": "2025-02-18T13:44:40.370416Z"
    }
   },
   "source": [
    "snoopy.make_sound()"
   ],
   "outputs": [
    {
     "name": "stdout",
     "output_type": "stream",
     "text": [
      " Wuff !\n"
     ]
    }
   ],
   "execution_count": 41
  },
  {
   "cell_type": "markdown",
   "id": "408aec6c-32a1-480e-a721-e33e5c4f35cc",
   "metadata": {},
   "source": [
    "Change snoopy’s color:"
   ]
  },
  {
   "cell_type": "code",
   "id": "1f896180-b1da-4597-8230-70524ce05ee5",
   "metadata": {
    "ExecuteTime": {
     "end_time": "2025-02-18T13:44:40.381129Z",
     "start_time": "2025-02-18T13:44:40.379527Z"
    }
   },
   "source": [
    "print(snoopy.color)"
   ],
   "outputs": [
    {
     "name": "stdout",
     "output_type": "stream",
     "text": [
      "brown\n"
     ]
    }
   ],
   "execution_count": 42
  },
  {
   "cell_type": "code",
   "id": "553f9043-6902-46b6-8592-3b8bfdb8de76",
   "metadata": {
    "ExecuteTime": {
     "end_time": "2025-02-18T13:44:40.387465Z",
     "start_time": "2025-02-18T13:44:40.385930Z"
    }
   },
   "source": [
    "snoopy.color = \" yellow \"\n",
    "print(snoopy.color)"
   ],
   "outputs": [
    {
     "name": "stdout",
     "output_type": "stream",
     "text": [
      " yellow \n"
     ]
    }
   ],
   "execution_count": 43
  },
  {
   "cell_type": "code",
   "id": "a8cdc14c-8b7b-4e40-b7a4-9ef576782122",
   "metadata": {
    "ExecuteTime": {
     "end_time": "2025-02-18T13:44:40.398669Z",
     "start_time": "2025-02-18T13:44:40.397126Z"
    }
   },
   "source": [
    "lessie = Dog(\"white\")"
   ],
   "outputs": [],
   "execution_count": 44
  },
  {
   "cell_type": "code",
   "id": "c2a6e58d-0d99-4db3-96fd-e6b5ae829da1",
   "metadata": {
    "ExecuteTime": {
     "end_time": "2025-02-18T13:44:40.407617Z",
     "start_time": "2025-02-18T13:44:40.405729Z"
    }
   },
   "source": [
    "lessie.color"
   ],
   "outputs": [
    {
     "data": {
      "text/plain": [
       "'white'"
      ]
     },
     "execution_count": 45,
     "metadata": {},
     "output_type": "execute_result"
    }
   ],
   "execution_count": 45
  },
  {
   "cell_type": "code",
   "id": "0a446d2f-1930-419d-9ebf-77ce64ad6db4",
   "metadata": {
    "ExecuteTime": {
     "end_time": "2025-02-18T13:44:40.411923Z",
     "start_time": "2025-02-18T13:44:40.410198Z"
    }
   },
   "source": [
    "snoopy.color"
   ],
   "outputs": [
    {
     "data": {
      "text/plain": [
       "' yellow '"
      ]
     },
     "execution_count": 46,
     "metadata": {},
     "output_type": "execute_result"
    }
   ],
   "execution_count": 46
  },
  {
   "cell_type": "markdown",
   "id": "d5e9f051-5ef5-4c4b-975a-c85909d58420",
   "metadata": {},
   "source": [
    "## Working with Libraries/Packages\n",
    "`numpy` should already be installed in the `vdss` environment. But if you should ever need an additional package, you can install it with `conda` from the terminal/console:\n",
    "* activate the correct environment, e.g. `conda activate vdss`\n",
    "* retrieve the package and install: `conda install numpy`"
   ]
  },
  {
   "cell_type": "code",
   "id": "4eee9e30-ca5f-4d24-8c32-d1a753cdc4ab",
   "metadata": {
    "ExecuteTime": {
     "end_time": "2025-02-18T13:44:40.422955Z",
     "start_time": "2025-02-18T13:44:40.421464Z"
    }
   },
   "source": [
    "import numpy"
   ],
   "outputs": [],
   "execution_count": 47
  },
  {
   "cell_type": "code",
   "id": "df0ad37c-c125-4a23-a3b2-5634be64a1ab",
   "metadata": {
    "ExecuteTime": {
     "end_time": "2025-02-18T13:44:40.431444Z",
     "start_time": "2025-02-18T13:44:40.429868Z"
    }
   },
   "source": [
    "arr = numpy.array([1, 2, 3])\n",
    "print(numpy.max(arr))"
   ],
   "outputs": [
    {
     "name": "stdout",
     "output_type": "stream",
     "text": [
      "3\n"
     ]
    }
   ],
   "execution_count": 48
  },
  {
   "cell_type": "code",
   "id": "2dc34574-4e8d-49e3-b3ec-74b3e61d0a0d",
   "metadata": {
    "ExecuteTime": {
     "end_time": "2025-02-18T13:44:40.439755Z",
     "start_time": "2025-02-18T13:44:40.437901Z"
    }
   },
   "source": [
    "import numpy as np\n",
    "arr = np.array([1, 2, 3])\n",
    "print(np.max(arr))"
   ],
   "outputs": [
    {
     "name": "stdout",
     "output_type": "stream",
     "text": [
      "3\n"
     ]
    }
   ],
   "execution_count": 49
  },
  {
   "cell_type": "markdown",
   "id": "693d6005-4994-4680-80c0-5939326310c7",
   "metadata": {
    "id": "N6tSs9sf0F9B",
    "tags": []
   },
   "source": [
    "# Exercises\n",
    "##### __(a) Print each character line by line for the sentence \"Im ready and super excited for the course\"__"
   ]
  },
  {
   "cell_type": "code",
   "id": "a3f1fec1-5ae4-4c11-84d3-2cb4b75fdc98",
   "metadata": {
    "colab": {
     "base_uri": "https://localhost:8080/"
    },
    "executionInfo": {
     "elapsed": 161,
     "status": "ok",
     "timestamp": 1632566432517,
     "user": {
      "displayName": "Javier Montoya",
      "photoUrl": "https://lh3.googleusercontent.com/a/default-user=s64",
      "userId": "02745862715554225302"
     },
     "user_tz": -120
    },
    "id": "-3weLoDV0F9B",
    "outputId": "5405168c-75cc-4b95-c0bd-4627ec263904",
    "tags": [],
    "ExecuteTime": {
     "end_time": "2025-02-18T13:44:40.448346Z",
     "start_time": "2025-02-18T13:44:40.446895Z"
    }
   },
   "source": [
    "sentence = \"Im ready and super excited for the course!\""
   ],
   "outputs": [],
   "execution_count": 50
  },
  {
   "cell_type": "code",
   "id": "02e20e7b-1e64-4be5-9207-2c631bf04fbf",
   "metadata": {
    "tags": [],
    "ExecuteTime": {
     "end_time": "2025-02-18T13:44:40.453589Z",
     "start_time": "2025-02-18T13:44:40.452494Z"
    }
   },
   "source": [],
   "outputs": [],
   "execution_count": null
  },
  {
   "cell_type": "markdown",
   "id": "f4d1673b-f44f-40bc-8cbb-8a08f8fe82d6",
   "metadata": {},
   "source": [
    "##### __(b) Write a list comprehension to produce a list that contains all integers squared in the range from 0 to 4__"
   ]
  },
  {
   "cell_type": "code",
   "id": "738ac8f6-d172-47b1-aedf-be2da9d7a92b",
   "metadata": {
    "ExecuteTime": {
     "end_time": "2025-02-18T13:44:40.458439Z",
     "start_time": "2025-02-18T13:44:40.457466Z"
    }
   },
   "source": [],
   "outputs": [],
   "execution_count": null
  },
  {
   "cell_type": "markdown",
   "id": "7fa62cad-c0f6-48fc-8c4b-44289b25dee1",
   "metadata": {},
   "source": [
    "##### __(c) Create a Dictionary {question: answer} out of the following two lists__"
   ]
  },
  {
   "cell_type": "code",
   "id": "f0ef6abb-5e47-4523-aea7-f9a27194fb1e",
   "metadata": {
    "ExecuteTime": {
     "end_time": "2025-02-18T13:44:40.465413Z",
     "start_time": "2025-02-18T13:44:40.463845Z"
    }
   },
   "source": [
    "questions = ['name', 'quest', 'favorite color']\n",
    "answers = ['lancelot', 'the holy grail', 'blue']"
   ],
   "outputs": [],
   "execution_count": 51
  },
  {
   "cell_type": "code",
   "id": "ff81abcf-3210-4f8a-925b-82d16f706e51",
   "metadata": {
    "ExecuteTime": {
     "end_time": "2025-02-18T13:44:40.477604Z",
     "start_time": "2025-02-18T13:44:40.476243Z"
    }
   },
   "source": [],
   "outputs": [],
   "execution_count": null
  },
  {
   "cell_type": "markdown",
   "id": "ec4a66f0-2039-432a-aa61-c2a071bbcdc6",
   "metadata": {
    "tags": []
   },
   "source": [
    "##### __(d) Using Modules: The `sys`-Module__\n",
    "Check your installed Python version. We need a version higher or equal Python 3.8."
   ]
  },
  {
   "cell_type": "code",
   "id": "7e67208a-90aa-4cee-bde9-f5b37afddcfb",
   "metadata": {
    "colab": {
     "base_uri": "https://localhost:8080/"
    },
    "executionInfo": {
     "elapsed": 156,
     "status": "ok",
     "timestamp": 1632566269080,
     "user": {
      "displayName": "Javier Montoya",
      "photoUrl": "https://lh3.googleusercontent.com/a/default-user=s64",
      "userId": "02745862715554225302"
     },
     "user_tz": -120
    },
    "id": "0Jadj57a0F9A",
    "outputId": "497ee09b-7c03-4967-affc-18c9c537e0cc",
    "tags": [],
    "ExecuteTime": {
     "end_time": "2025-02-18T13:44:40.484869Z",
     "start_time": "2025-02-18T13:44:40.483214Z"
    }
   },
   "source": [
    "import sys"
   ],
   "outputs": [],
   "execution_count": 52
  },
  {
   "cell_type": "code",
   "id": "4fe3d5f8-51bf-4816-99fb-5183959b8978",
   "metadata": {
    "tags": [],
    "ExecuteTime": {
     "end_time": "2025-02-18T13:44:40.495166Z",
     "start_time": "2025-02-18T13:44:40.493080Z"
    }
   },
   "source": [
    "sys.version_info"
   ],
   "outputs": [
    {
     "data": {
      "text/plain": [
       "sys.version_info(major=3, minor=10, micro=16, releaselevel='final', serial=0)"
      ]
     },
     "execution_count": 53,
     "metadata": {},
     "output_type": "execute_result"
    }
   ],
   "execution_count": 53
  },
  {
   "cell_type": "markdown",
   "id": "4a19c235-bb31-4a62-a418-497160783bf3",
   "metadata": {
    "tags": []
   },
   "source": [
    "##### __(e) Install and Use Additional Third-Party Packages__\n",
    "Install the package `wordcloud` into the vdss-conda environment https://anaconda.org/conda-forge/wordcloud\n",
    "\n",
    "Documentation: http://amueller.github.io/word_cloud/\n",
    "\n",
    "And generate a word cloud image of the `sentence` above."
   ]
  },
  {
   "cell_type": "code",
   "id": "6b727313",
   "metadata": {
    "ExecuteTime": {
     "end_time": "2025-02-18T13:44:40.503618Z",
     "start_time": "2025-02-18T13:44:40.502420Z"
    }
   },
   "source": [],
   "outputs": [],
   "execution_count": null
  },
  {
   "cell_type": "code",
   "id": "1add1df3-9505-4078-ba43-41d29c0a43b8",
   "metadata": {
    "tags": [],
    "ExecuteTime": {
     "end_time": "2025-02-18T13:44:40.663111Z",
     "start_time": "2025-02-18T13:44:40.508109Z"
    }
   },
   "source": [
    "import matplotlib.pyplot as plt\n",
    "%config InlineBackend.figure_format = 'svg'"
   ],
   "outputs": [],
   "execution_count": 54
  },
  {
   "cell_type": "code",
   "id": "acce64b8-4d72-45f0-8294-bb15e5993b7c",
   "metadata": {
    "tags": [],
    "ExecuteTime": {
     "end_time": "2025-02-18T13:44:40.673145Z",
     "start_time": "2025-02-18T13:44:40.667492Z"
    }
   },
   "source": [
    "from wordcloud import WordCloud"
   ],
   "outputs": [],
   "execution_count": 55
  },
  {
   "cell_type": "code",
   "id": "55c97718-1049-480b-ab4a-e177dc562149",
   "metadata": {
    "ExecuteTime": {
     "end_time": "2025-02-18T13:44:40.678607Z",
     "start_time": "2025-02-18T13:44:40.677293Z"
    }
   },
   "source": [],
   "outputs": [],
   "execution_count": null
  }
 ],
 "metadata": {
  "kernelspec": {
   "display_name": "Python 3 (ipykernel)",
   "language": "python",
   "name": "python3"
  },
  "language_info": {
   "codemirror_mode": {
    "name": "ipython",
    "version": 3
   },
   "file_extension": ".py",
   "mimetype": "text/x-python",
   "name": "python",
   "nbconvert_exporter": "python",
   "pygments_lexer": "ipython3",
   "version": "3.10.13"
  }
 },
 "nbformat": 4,
 "nbformat_minor": 5
}
