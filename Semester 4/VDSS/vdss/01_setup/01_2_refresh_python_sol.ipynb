{
 "cells": [
  {
   "cell_type": "markdown",
   "id": "db917835-ad1d-4013-85c3-0d3076c5471d",
   "metadata": {
    "id": "N6tSs9sf0F9B",
    "tags": []
   },
   "source": [
    "# Exercises\n",
    "##### __(a) Print each character line by line for the sentence \"Im ready and super excited for the course Visualisation and Data Science Storytelling\"__"
   ]
  },
  {
   "cell_type": "code",
   "id": "00cd5a22-3fa4-47cd-bd7a-1702c976d59c",
   "metadata": {
    "colab": {
     "base_uri": "https://localhost:8080/"
    },
    "executionInfo": {
     "elapsed": 161,
     "status": "ok",
     "timestamp": 1632566432517,
     "user": {
      "displayName": "Javier Montoya",
      "photoUrl": "https://lh3.googleusercontent.com/a/default-user=s64",
      "userId": "02745862715554225302"
     },
     "user_tz": -120
    },
    "id": "-3weLoDV0F9B",
    "outputId": "5405168c-75cc-4b95-c0bd-4627ec263904",
    "tags": [],
    "ExecuteTime": {
     "end_time": "2025-02-18T13:45:02.655954Z",
     "start_time": "2025-02-18T13:45:02.654259Z"
    }
   },
   "source": [
    "sentence = \"Im ready and super excited for the course!\""
   ],
   "outputs": [],
   "execution_count": 1
  },
  {
   "cell_type": "code",
   "id": "02e20e7b-1e64-4be5-9207-2c631bf04fbf",
   "metadata": {
    "tags": [],
    "ExecuteTime": {
     "end_time": "2025-02-18T13:45:02.661969Z",
     "start_time": "2025-02-18T13:45:02.660085Z"
    }
   },
   "source": [
    "for c in sentence:\n",
    "    print(c)"
   ],
   "outputs": [
    {
     "name": "stdout",
     "output_type": "stream",
     "text": [
      "I\n",
      "m\n",
      " \n",
      "r\n",
      "e\n",
      "a\n",
      "d\n",
      "y\n",
      " \n",
      "a\n",
      "n\n",
      "d\n",
      " \n",
      "s\n",
      "u\n",
      "p\n",
      "e\n",
      "r\n",
      " \n",
      "e\n",
      "x\n",
      "c\n",
      "i\n",
      "t\n",
      "e\n",
      "d\n",
      " \n",
      "f\n",
      "o\n",
      "r\n",
      " \n",
      "t\n",
      "h\n",
      "e\n",
      " \n",
      "c\n",
      "o\n",
      "u\n",
      "r\n",
      "s\n",
      "e\n",
      "!\n"
     ]
    }
   ],
   "execution_count": 2
  },
  {
   "cell_type": "markdown",
   "id": "f4d1673b-f44f-40bc-8cbb-8a08f8fe82d6",
   "metadata": {},
   "source": [
    "##### __(b) Write a list comprehension to produce a list that contains all integers squared in the range from 0 to 4__"
   ]
  },
  {
   "cell_type": "code",
   "id": "738ac8f6-d172-47b1-aedf-be2da9d7a92b",
   "metadata": {
    "ExecuteTime": {
     "end_time": "2025-02-18T13:45:02.717077Z",
     "start_time": "2025-02-18T13:45:02.714152Z"
    }
   },
   "source": [
    "[x**2 for x in range(5)]"
   ],
   "outputs": [
    {
     "data": {
      "text/plain": [
       "[0, 1, 4, 9, 16]"
      ]
     },
     "execution_count": 3,
     "metadata": {},
     "output_type": "execute_result"
    }
   ],
   "execution_count": 3
  },
  {
   "cell_type": "markdown",
   "id": "7fa62cad-c0f6-48fc-8c4b-44289b25dee1",
   "metadata": {},
   "source": [
    "##### __(c) Create a Dictionary {question: answer} out of the following two lists__"
   ]
  },
  {
   "cell_type": "code",
   "id": "f0ef6abb-5e47-4523-aea7-f9a27194fb1e",
   "metadata": {
    "ExecuteTime": {
     "end_time": "2025-02-18T13:45:02.727317Z",
     "start_time": "2025-02-18T13:45:02.725554Z"
    }
   },
   "source": [
    "questions = ['name', 'quest', 'favorite color']\n",
    "answers = ['lancelot', 'the holy grail', 'blue']"
   ],
   "outputs": [],
   "execution_count": 4
  },
  {
   "cell_type": "code",
   "id": "ff81abcf-3210-4f8a-925b-82d16f706e51",
   "metadata": {
    "ExecuteTime": {
     "end_time": "2025-02-18T13:45:02.734057Z",
     "start_time": "2025-02-18T13:45:02.731922Z"
    }
   },
   "source": [
    "dict(zip(questions, answers))"
   ],
   "outputs": [
    {
     "data": {
      "text/plain": [
       "{'name': 'lancelot', 'quest': 'the holy grail', 'favorite color': 'blue'}"
      ]
     },
     "execution_count": 5,
     "metadata": {},
     "output_type": "execute_result"
    }
   ],
   "execution_count": 5
  },
  {
   "cell_type": "markdown",
   "id": "ec4a66f0-2039-432a-aa61-c2a071bbcdc6",
   "metadata": {
    "tags": []
   },
   "source": [
    "##### __(d) Using Modules: The `sys`-Module__\n",
    "Check your installed Python version. We need a version higher or equal Python 3.8."
   ]
  },
  {
   "cell_type": "code",
   "id": "7e67208a-90aa-4cee-bde9-f5b37afddcfb",
   "metadata": {
    "colab": {
     "base_uri": "https://localhost:8080/"
    },
    "executionInfo": {
     "elapsed": 156,
     "status": "ok",
     "timestamp": 1632566269080,
     "user": {
      "displayName": "Javier Montoya",
      "photoUrl": "https://lh3.googleusercontent.com/a/default-user=s64",
      "userId": "02745862715554225302"
     },
     "user_tz": -120
    },
    "id": "0Jadj57a0F9A",
    "outputId": "497ee09b-7c03-4967-affc-18c9c537e0cc",
    "ExecuteTime": {
     "end_time": "2025-02-18T13:45:02.743512Z",
     "start_time": "2025-02-18T13:45:02.742064Z"
    }
   },
   "source": [
    "import sys"
   ],
   "outputs": [],
   "execution_count": 6
  },
  {
   "cell_type": "code",
   "id": "4fe3d5f8-51bf-4816-99fb-5183959b8978",
   "metadata": {
    "ExecuteTime": {
     "end_time": "2025-02-18T13:45:02.749544Z",
     "start_time": "2025-02-18T13:45:02.747772Z"
    }
   },
   "source": [
    "if sys.version_info >= (3, 8):\n",
    "    print(\"Done. Python >= 3.8 already installed.\")\n",
    "else:\n",
    "    print(\"Python >= 3.8 not installed. Please install a corresponding version.\")"
   ],
   "outputs": [
    {
     "name": "stdout",
     "output_type": "stream",
     "text": [
      "Done. Python >= 3.8 already installed.\n"
     ]
    }
   ],
   "execution_count": 7
  },
  {
   "cell_type": "markdown",
   "id": "e6755a67-ccf0-4ac6-95e4-ffd3432298f8",
   "metadata": {
    "tags": []
   },
   "source": [
    "##### __(e) Install and Use Additional Third-Party Packages__\n",
    "Install the package `wordcloud` into the vdss-conda environment https://anaconda.org/conda-forge/wordcloud\n",
    "\n",
    "Documentation: http://amueller.github.io/word_cloud/"
   ]
  },
  {
   "cell_type": "raw",
   "id": "521d37d3",
   "metadata": {},
   "source": [
    "%conda install -c conda-forge wordcloud"
   ]
  },
  {
   "cell_type": "code",
   "id": "acce64b8-4d72-45f0-8294-bb15e5993b7c",
   "metadata": {
    "tags": [],
    "ExecuteTime": {
     "end_time": "2025-02-18T13:45:02.911682Z",
     "start_time": "2025-02-18T13:45:02.753001Z"
    }
   },
   "source": [
    "from wordcloud import WordCloud\n",
    "import matplotlib.pyplot as plt"
   ],
   "outputs": [],
   "execution_count": 8
  },
  {
   "cell_type": "code",
   "id": "1add1df3-9505-4078-ba43-41d29c0a43b8",
   "metadata": {
    "tags": [],
    "ExecuteTime": {
     "end_time": "2025-02-18T13:45:02.918531Z",
     "start_time": "2025-02-18T13:45:02.916094Z"
    }
   },
   "source": [
    "%config InlineBackend.figure_format = 'svg'"
   ],
   "outputs": [],
   "execution_count": 9
  },
  {
   "cell_type": "code",
   "id": "3b492fb2-9c88-4fc8-bc9f-e311cacb43c1",
   "metadata": {
    "tags": [],
    "ExecuteTime": {
     "end_time": "2025-02-18T13:45:02.972083Z",
     "start_time": "2025-02-18T13:45:02.922826Z"
    }
   },
   "source": [
    "# Generate a word cloud image\n",
    "wordcloud = WordCloud().generate(sentence)\n",
    "\n",
    "# Display the generated image:\n",
    "# the matplotlib way:\n",
    "\n",
    "plt.imshow(wordcloud, interpolation='bilinear')\n",
    "plt.axis('off')\n",
    "plt.show()"
   ],
   "outputs": [
    {
     "data": {
      "text/plain": [
       "<Figure size 640x480 with 1 Axes>"
      ],
      "image/svg+xml": "<?xml version=\"1.0\" encoding=\"utf-8\" standalone=\"no\"?>\n<!DOCTYPE svg PUBLIC \"-//W3C//DTD SVG 1.1//EN\"\n  \"http://www.w3.org/Graphics/SVG/1.1/DTD/svg11.dtd\">\n<svg xmlns:xlink=\"http://www.w3.org/1999/xlink\" width=\"371.52pt\" height=\"192.96pt\" viewBox=\"0 0 371.52 192.96\" xmlns=\"http://www.w3.org/2000/svg\" version=\"1.1\">\n <metadata>\n  <rdf:RDF xmlns:dc=\"http://purl.org/dc/elements/1.1/\" xmlns:cc=\"http://creativecommons.org/ns#\" xmlns:rdf=\"http://www.w3.org/1999/02/22-rdf-syntax-ns#\">\n   <cc:Work>\n    <dc:type rdf:resource=\"http://purl.org/dc/dcmitype/StillImage\"/>\n    <dc:date>2025-02-18T14:45:02.961904</dc:date>\n    <dc:format>image/svg+xml</dc:format>\n    <dc:creator>\n     <cc:Agent>\n      <dc:title>Matplotlib v3.10.0, https://matplotlib.org/</dc:title>\n     </cc:Agent>\n    </dc:creator>\n   </cc:Work>\n  </rdf:RDF>\n </metadata>\n <defs>\n  <style type=\"text/css\">*{stroke-linejoin: round; stroke-linecap: butt}</style>\n </defs>\n <g id=\"figure_1\">\n  <g id=\"patch_1\">\n   <path d=\"M 0 192.96 \nL 371.52 192.96 \nL 371.52 0 \nL 0 0 \nz\n\" style=\"fill: #ffffff\"/>\n  </g>\n  <g id=\"axes_1\">\n   <g clip-path=\"url(#pf1cb35e43d)\">\n    <image xlink:href=\"data:image/png;base64,\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\" id=\"imagee5a3280a37\" transform=\"scale(1 -1) translate(0 -178.56)\" x=\"7.2\" y=\"-7.2\" width=\"357.84\" height=\"178.56\"/>\n   </g>\n  </g>\n </g>\n <defs>\n  <clipPath id=\"pf1cb35e43d\">\n   <rect x=\"7.2\" y=\"7.2\" width=\"357.12\" height=\"178.56\"/>\n  </clipPath>\n </defs>\n</svg>\n"
     },
     "metadata": {},
     "output_type": "display_data"
    }
   ],
   "execution_count": 10
  }
 ],
 "metadata": {
  "kernelspec": {
   "display_name": "vdss",
   "language": "python",
   "name": "python3"
  },
  "language_info": {
   "codemirror_mode": {
    "name": "ipython",
    "version": 3
   },
   "file_extension": ".py",
   "mimetype": "text/x-python",
   "name": "python",
   "nbconvert_exporter": "python",
   "pygments_lexer": "ipython3",
   "version": "3.10.16"
  }
 },
 "nbformat": 4,
 "nbformat_minor": 5
}
