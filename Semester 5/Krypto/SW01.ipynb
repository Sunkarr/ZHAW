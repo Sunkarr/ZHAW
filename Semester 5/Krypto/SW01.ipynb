{
 "cells": [
  {
   "cell_type": "code",
   "id": "initial_id",
   "metadata": {
    "collapsed": true,
    "ExecuteTime": {
     "end_time": "2025-09-16T13:42:04.345463Z",
     "start_time": "2025-09-16T13:42:04.343309Z"
    }
   },
   "source": [
    "9**2 % 14\n",
    "11*9 % 14\n",
    "729 % 14\n",
    "3**7 % 14\n",
    "\n",
    "13**3 % 14"
   ],
   "outputs": [
    {
     "data": {
      "text/plain": [
       "44"
      ]
     },
     "execution_count": 8,
     "metadata": {},
     "output_type": "execute_result"
    }
   ],
   "execution_count": 8
  },
  {
   "metadata": {
    "ExecuteTime": {
     "end_time": "2025-09-16T13:42:43.241540Z",
     "start_time": "2025-09-16T13:42:43.238666Z"
    }
   },
   "cell_type": "code",
   "source": [
    "for i in range(1, 15):\n",
    "    print(f\"{i}: {5**i % 83}\")"
   ],
   "id": "b9c597275de75500",
   "outputs": [
    {
     "name": "stdout",
     "output_type": "stream",
     "text": [
      "1: 5\n",
      "2: 25\n",
      "3: 42\n",
      "4: 44\n",
      "5: 54\n",
      "6: 21\n",
      "7: 22\n",
      "8: 27\n",
      "9: 52\n",
      "10: 11\n",
      "11: 55\n",
      "12: 26\n",
      "13: 47\n",
      "14: 69\n"
     ]
    }
   ],
   "execution_count": 10
  },
  {
   "metadata": {},
   "cell_type": "markdown",
   "source": "Aufgabe 2",
   "id": "db3d80f5b57ec03f"
  },
  {
   "metadata": {
    "ExecuteTime": {
     "end_time": "2025-09-16T14:16:51.409666Z",
     "start_time": "2025-09-16T14:16:51.407250Z"
    }
   },
   "cell_type": "code",
   "source": "9**23 % 143",
   "id": "d9ebd8bb687acb93",
   "outputs": [
    {
     "data": {
      "text/plain": [
       "3"
      ]
     },
     "execution_count": 11,
     "metadata": {},
     "output_type": "execute_result"
    }
   ],
   "execution_count": 11
  },
  {
   "metadata": {},
   "cell_type": "markdown",
   "source": "Aufgabe 3",
   "id": "276a89f00d150b3c"
  },
  {
   "metadata": {
    "ExecuteTime": {
     "end_time": "2025-09-16T14:46:15.058471Z",
     "start_time": "2025-09-16T14:46:15.055679Z"
    }
   },
   "cell_type": "code",
   "source": [
    "for elem in [2, 3, 103]:\n",
    "    print(pow(2, int(1236/elem), 1237))"
   ],
   "id": "911b46fab1569475",
   "outputs": [
    {
     "name": "stdout",
     "output_type": "stream",
     "text": [
      "1236\n",
      "300\n",
      "385\n"
     ]
    }
   ],
   "execution_count": 33
  },
  {
   "metadata": {
    "ExecuteTime": {
     "end_time": "2025-09-16T14:58:50.031481Z",
     "start_time": "2025-09-16T14:58:50.029368Z"
    }
   },
   "cell_type": "code",
   "source": [
    "for i in range(1, 104):\n",
    "    print(f\"{i}: {385**i % 1237}\")"
   ],
   "id": "ec833f7e1e93570a",
   "outputs": [
    {
     "name": "stdout",
     "output_type": "stream",
     "text": [
      "1: 385\n",
      "2: 1022\n",
      "3: 104\n",
      "4: 456\n",
      "5: 1143\n",
      "6: 920\n",
      "7: 418\n",
      "8: 120\n",
      "9: 431\n",
      "10: 177\n",
      "11: 110\n",
      "12: 292\n",
      "13: 1090\n",
      "14: 307\n",
      "15: 680\n",
      "16: 793\n",
      "17: 1003\n",
      "18: 211\n",
      "19: 830\n",
      "20: 404\n",
      "21: 915\n",
      "22: 967\n",
      "23: 1195\n",
      "24: 1148\n",
      "25: 371\n",
      "26: 580\n",
      "27: 640\n",
      "28: 237\n",
      "29: 944\n",
      "30: 999\n",
      "31: 1145\n",
      "32: 453\n",
      "33: 1225\n",
      "34: 328\n",
      "35: 106\n",
      "36: 1226\n",
      "37: 713\n",
      "38: 1128\n",
      "39: 93\n",
      "40: 1169\n",
      "41: 1034\n",
      "42: 1013\n",
      "43: 350\n",
      "44: 1154\n",
      "45: 207\n",
      "46: 527\n",
      "47: 27\n",
      "48: 499\n",
      "49: 380\n",
      "50: 334\n",
      "51: 1179\n",
      "52: 1173\n",
      "53: 100\n",
      "54: 153\n",
      "55: 766\n",
      "56: 504\n",
      "57: 1068\n",
      "58: 496\n",
      "59: 462\n",
      "60: 979\n",
      "61: 867\n",
      "62: 1042\n",
      "63: 382\n",
      "64: 1104\n",
      "65: 749\n",
      "66: 144\n",
      "67: 1012\n",
      "68: 1202\n",
      "69: 132\n",
      "70: 103\n",
      "71: 71\n",
      "72: 121\n",
      "73: 816\n",
      "74: 1199\n",
      "75: 214\n",
      "76: 748\n",
      "77: 996\n",
      "78: 1227\n",
      "79: 1098\n",
      "80: 913\n",
      "81: 197\n",
      "82: 388\n",
      "83: 940\n",
      "84: 696\n",
      "85: 768\n",
      "86: 37\n",
      "87: 638\n",
      "88: 704\n",
      "89: 137\n",
      "90: 791\n",
      "91: 233\n",
      "92: 641\n",
      "93: 622\n",
      "94: 729\n",
      "95: 1103\n",
      "96: 364\n",
      "97: 359\n",
      "98: 908\n",
      "99: 746\n",
      "100: 226\n",
      "101: 420\n",
      "102: 890\n",
      "103: 1\n"
     ]
    }
   ],
   "execution_count": 39
  }
 ],
 "metadata": {
  "kernelspec": {
   "display_name": "Python 3",
   "language": "python",
   "name": "python3"
  },
  "language_info": {
   "codemirror_mode": {
    "name": "ipython",
    "version": 2
   },
   "file_extension": ".py",
   "mimetype": "text/x-python",
   "name": "python",
   "nbconvert_exporter": "python",
   "pygments_lexer": "ipython2",
   "version": "2.7.6"
  }
 },
 "nbformat": 4,
 "nbformat_minor": 5
}
