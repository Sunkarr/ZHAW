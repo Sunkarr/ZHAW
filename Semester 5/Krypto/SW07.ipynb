{
 "cells": [
  {
   "cell_type": "code",
   "id": "initial_id",
   "metadata": {
    "collapsed": true,
    "ExecuteTime": {
     "end_time": "2025-11-01T10:53:08.264683Z",
     "start_time": "2025-11-01T10:53:08.260928Z"
    }
   },
   "source": [
    "# Pollard Rho Algorithm for Integer Factorization\n",
    "import math\n",
    "import random\n",
    "from typing import Optional, Tuple\n",
    "\n",
    "n = 59153\n",
    "x0 = 24712\n",
    "a = 1\n",
    "\n",
    "def gcd(a: int, b: int) -> int:\n",
    "    while b:\n",
    "        a, b = b, a % b\n",
    "    return a\n",
    "\n",
    "def f(x: int, a: int, n: int) -> int:\n",
    "    return (x * x + a) % n\n",
    "\n",
    "def pollard_rho(n: int, x0: int, a: int) -> Optional[Tuple[int, int]]:\n",
    "    x = x0\n",
    "    y = x0\n",
    "    d = 1\n",
    "    iteration = 0\n",
    "    while d == 1:\n",
    "        iteration += 1\n",
    "        x = f(x, a, n)\n",
    "        y = f(f(y, a, n), a, n)\n",
    "        d = gcd(abs(x - y), n)\n",
    "        print(f\"Iteration {iteration}: x = {x}, y = {y}, d = {d}\")\n",
    "        if d == n:\n",
    "            return None  # Failure to find a factor\n",
    "    return d, n // d\n",
    "\n",
    "factors = pollard_rho(n, x0, a)\n",
    "if factors:\n",
    "    print(f\"Factors of {n} are: {factors[0]} and {factors[1]}\")\n",
    "else:\n",
    "    print(\"Failed to find factors.\")"
   ],
   "outputs": [
    {
     "name": "stdout",
     "output_type": "stream",
     "text": [
      "Iteration 1: x = 46526, y = 23795, d = 1\n",
      "Iteration 2: x = 23795, y = 15521, d = 1\n",
      "Iteration 3: x = 48663, y = 56180, d = 1\n",
      "Iteration 4: x = 15521, y = 15613, d = 1\n",
      "Iteration 5: x = 30426, y = 49942, d = 1\n",
      "Iteration 6: x = 56180, y = 50439, d = 1\n",
      "Iteration 7: x = 24933, y = 11927, d = 1\n",
      "Iteration 8: x = 15613, y = 22169, d = 149\n",
      "Factors of 59153 are: 149 and 397\n"
     ]
    }
   ],
   "execution_count": 1
  },
  {
   "metadata": {},
   "cell_type": "code",
   "outputs": [],
   "execution_count": null,
   "source": "",
   "id": "6cbb42007b329476"
  }
 ],
 "metadata": {
  "kernelspec": {
   "display_name": "Python 3",
   "language": "python",
   "name": "python3"
  },
  "language_info": {
   "codemirror_mode": {
    "name": "ipython",
    "version": 2
   },
   "file_extension": ".py",
   "mimetype": "text/x-python",
   "name": "python",
   "nbconvert_exporter": "python",
   "pygments_lexer": "ipython2",
   "version": "2.7.6"
  }
 },
 "nbformat": 4,
 "nbformat_minor": 5
}
